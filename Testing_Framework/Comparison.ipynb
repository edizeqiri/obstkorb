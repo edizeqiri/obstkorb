{
 "cells": [
  {
   "cell_type": "code",
   "execution_count": 545,
   "outputs": [],
   "source": [
    "import numpy as np\n",
    "import pandas as pd\n",
    "import Mongo_Connector as mongo\n",
    "import tlsh\n",
    "from icecream import ic\n",
    "import matplotlib.pyplot as plt\n",
    "import ssdeep\n",
    "db = mongo.init(\"portainer\", port=32768)\n",
    "df = pd.DataFrame(list(db[\"scicore\"].find({})))"
   ],
   "metadata": {
    "collapsed": false,
    "ExecuteTime": {
     "end_time": "2023-12-01T21:47:36.416343Z",
     "start_time": "2023-12-01T21:47:35.885061Z"
    }
   },
   "id": "6a8d586a31dd688a"
  },
  {
   "cell_type": "markdown",
   "source": [
    "# Scicore Comparison\n",
    "\n",
    "This notebook is used to compare the tlsh and ssdeep hashes of the scicore dataset.\n",
    "First I will compare the tlsh hashes and then the ssdeep hashes.\n",
    "\n"
   ],
   "metadata": {
    "collapsed": false
   },
   "id": "b1559fb3a9473554"
  },
  {
   "cell_type": "code",
   "execution_count": 546,
   "outputs": [
    {
     "data": {
      "text/plain": "       _id    family                                             SHA256  \\\n0        0   DIAMOND  bdbbc7d10475610a47665613a15b523692f2e586e495bf...   \n1        1   DIAMOND  3e5b9caaa8ec0488d0ef6649fa3205af16cd286921fdf3...   \n2        2   DIAMOND  3e7c7a7415567a30a6131c959448e136c1c4cd25e2755d...   \n3        3   DIAMOND  6336bd767371ef854def756641f8af86dd591e62170eb8...   \n4        4     OCaml  3eee2da2d713d971e6618b2f089d08e495c0cd8ec722f7...   \n...    ...       ...                                                ...   \n1985  1985  help2man  4b4f9faa682356601be5fb4ecd94d0761b41a877aebe42...   \n1986  1986  help2man  16d420a69b74f3ec081ffae840653e2246ab4758d85e38...   \n1987  1987  help2man  982697334fef2dab34b4393832e7011a74a92ff05fd426...   \n1988  1988  ChimPipe  6cbb727cbfb1fb6335e4439ae7810e143e1bcc69b05ca0...   \n1989  1989   jbigkit  67855fe5ed323498b1e1a1c9f0a8b2b8b235bb2b4f3a4f...   \n\n      file_size                                             ssdeep  \\\n0       1744592  {'ssdeep': '24576:0ZgkO8W6krEazzEHRyE5fx5j0Gkm...   \n1       1264648  {'ssdeep': '24576:N7RayWHeZhpVZNmHQ/0R223Vcqem...   \n2       7963768  {'ssdeep': '98304:O4g2u6YzoSU6Zr5CqeWRP07lRNMc...   \n3       1599192  {'ssdeep': '24576:39vHSut4l6xFkIRp1IzwbIPGVild...   \n4      13173764  {'ssdeep': '49152:lZBmaeQesTwicgVOMB4aJZhYw2UN...   \n...         ...                                                ...   \n1985      20063  {'ssdeep': '384:sBLdhCCJ8rwQ0EvrX+rjZbOeL3npSe...   \n1986      20063  {'ssdeep': '384:sBLdkCCJ8rwQ0EvrX+rjZbOeL3npSe...   \n1987      20051  {'ssdeep': '384:sDLjOCCJ8/eQrvPX+rjZb2OL3npSeL...   \n1988      76135  {'ssdeep': '1536:Sw5j4LB3dUalDarob+tltydxgjmzB...   \n1989      21544  {'ssdeep': '192:GTJmX1ws6CWEORGArDqE/1LyZAntTq...   \n\n           sdhash                                               tlsh  \\\n0     sdhash hash  {'tlsh': 'T170858D1B66820CB9C492D53467E797F268...   \n1     sdhash hash  {'tlsh': 'T1FB457E47FAC358A8C097D538466FA1367A...   \n2     sdhash hash  {'tlsh': 'T1A3868E03E687A468C8A6C43813DB91B3ED...   \n3     sdhash hash  {'tlsh': 'T112759F1B6BA208ADC892D53457E796F26C...   \n4     sdhash hash  {'tlsh': 'T1F6D6E80EBB470662CD9809FE8CD5868FD6...   \n...           ...                                                ...   \n1985  sdhash hash  {'tlsh': 'T16B92F905EA1A8677B25301F77FDAA4C097...   \n1986  sdhash hash  {'tlsh': 'T12C92F905EA1A8677B25301F77FDAA4C097...   \n1987  sdhash hash  {'tlsh': 'T192920A04EA1A8677B25301F77FDA94C097...   \n1988  sdhash hash  {'tlsh': 'T101734B13B0959D7AC4478A301AC7823B99...   \n1989  sdhash hash  {'tlsh': 'T10BA21827E3815876CDC5413451A74629B1...   \n\n           machoc  \n0     Machoc hash  \n1     Machoc hash  \n2     Machoc hash  \n3     Machoc hash  \n4     Machoc hash  \n...           ...  \n1985  Machoc hash  \n1986  Machoc hash  \n1987  Machoc hash  \n1988  Machoc hash  \n1989  Machoc hash  \n\n[1990 rows x 8 columns]",
      "text/html": "<div>\n<style scoped>\n    .dataframe tbody tr th:only-of-type {\n        vertical-align: middle;\n    }\n\n    .dataframe tbody tr th {\n        vertical-align: top;\n    }\n\n    .dataframe thead th {\n        text-align: right;\n    }\n</style>\n<table border=\"1\" class=\"dataframe\">\n  <thead>\n    <tr style=\"text-align: right;\">\n      <th></th>\n      <th>_id</th>\n      <th>family</th>\n      <th>SHA256</th>\n      <th>file_size</th>\n      <th>ssdeep</th>\n      <th>sdhash</th>\n      <th>tlsh</th>\n      <th>machoc</th>\n    </tr>\n  </thead>\n  <tbody>\n    <tr>\n      <th>0</th>\n      <td>0</td>\n      <td>DIAMOND</td>\n      <td>bdbbc7d10475610a47665613a15b523692f2e586e495bf...</td>\n      <td>1744592</td>\n      <td>{'ssdeep': '24576:0ZgkO8W6krEazzEHRyE5fx5j0Gkm...</td>\n      <td>sdhash hash</td>\n      <td>{'tlsh': 'T170858D1B66820CB9C492D53467E797F268...</td>\n      <td>Machoc hash</td>\n    </tr>\n    <tr>\n      <th>1</th>\n      <td>1</td>\n      <td>DIAMOND</td>\n      <td>3e5b9caaa8ec0488d0ef6649fa3205af16cd286921fdf3...</td>\n      <td>1264648</td>\n      <td>{'ssdeep': '24576:N7RayWHeZhpVZNmHQ/0R223Vcqem...</td>\n      <td>sdhash hash</td>\n      <td>{'tlsh': 'T1FB457E47FAC358A8C097D538466FA1367A...</td>\n      <td>Machoc hash</td>\n    </tr>\n    <tr>\n      <th>2</th>\n      <td>2</td>\n      <td>DIAMOND</td>\n      <td>3e7c7a7415567a30a6131c959448e136c1c4cd25e2755d...</td>\n      <td>7963768</td>\n      <td>{'ssdeep': '98304:O4g2u6YzoSU6Zr5CqeWRP07lRNMc...</td>\n      <td>sdhash hash</td>\n      <td>{'tlsh': 'T1A3868E03E687A468C8A6C43813DB91B3ED...</td>\n      <td>Machoc hash</td>\n    </tr>\n    <tr>\n      <th>3</th>\n      <td>3</td>\n      <td>DIAMOND</td>\n      <td>6336bd767371ef854def756641f8af86dd591e62170eb8...</td>\n      <td>1599192</td>\n      <td>{'ssdeep': '24576:39vHSut4l6xFkIRp1IzwbIPGVild...</td>\n      <td>sdhash hash</td>\n      <td>{'tlsh': 'T112759F1B6BA208ADC892D53457E796F26C...</td>\n      <td>Machoc hash</td>\n    </tr>\n    <tr>\n      <th>4</th>\n      <td>4</td>\n      <td>OCaml</td>\n      <td>3eee2da2d713d971e6618b2f089d08e495c0cd8ec722f7...</td>\n      <td>13173764</td>\n      <td>{'ssdeep': '49152:lZBmaeQesTwicgVOMB4aJZhYw2UN...</td>\n      <td>sdhash hash</td>\n      <td>{'tlsh': 'T1F6D6E80EBB470662CD9809FE8CD5868FD6...</td>\n      <td>Machoc hash</td>\n    </tr>\n    <tr>\n      <th>...</th>\n      <td>...</td>\n      <td>...</td>\n      <td>...</td>\n      <td>...</td>\n      <td>...</td>\n      <td>...</td>\n      <td>...</td>\n      <td>...</td>\n    </tr>\n    <tr>\n      <th>1985</th>\n      <td>1985</td>\n      <td>help2man</td>\n      <td>4b4f9faa682356601be5fb4ecd94d0761b41a877aebe42...</td>\n      <td>20063</td>\n      <td>{'ssdeep': '384:sBLdhCCJ8rwQ0EvrX+rjZbOeL3npSe...</td>\n      <td>sdhash hash</td>\n      <td>{'tlsh': 'T16B92F905EA1A8677B25301F77FDAA4C097...</td>\n      <td>Machoc hash</td>\n    </tr>\n    <tr>\n      <th>1986</th>\n      <td>1986</td>\n      <td>help2man</td>\n      <td>16d420a69b74f3ec081ffae840653e2246ab4758d85e38...</td>\n      <td>20063</td>\n      <td>{'ssdeep': '384:sBLdkCCJ8rwQ0EvrX+rjZbOeL3npSe...</td>\n      <td>sdhash hash</td>\n      <td>{'tlsh': 'T12C92F905EA1A8677B25301F77FDAA4C097...</td>\n      <td>Machoc hash</td>\n    </tr>\n    <tr>\n      <th>1987</th>\n      <td>1987</td>\n      <td>help2man</td>\n      <td>982697334fef2dab34b4393832e7011a74a92ff05fd426...</td>\n      <td>20051</td>\n      <td>{'ssdeep': '384:sDLjOCCJ8/eQrvPX+rjZb2OL3npSeL...</td>\n      <td>sdhash hash</td>\n      <td>{'tlsh': 'T192920A04EA1A8677B25301F77FDA94C097...</td>\n      <td>Machoc hash</td>\n    </tr>\n    <tr>\n      <th>1988</th>\n      <td>1988</td>\n      <td>ChimPipe</td>\n      <td>6cbb727cbfb1fb6335e4439ae7810e143e1bcc69b05ca0...</td>\n      <td>76135</td>\n      <td>{'ssdeep': '1536:Sw5j4LB3dUalDarob+tltydxgjmzB...</td>\n      <td>sdhash hash</td>\n      <td>{'tlsh': 'T101734B13B0959D7AC4478A301AC7823B99...</td>\n      <td>Machoc hash</td>\n    </tr>\n    <tr>\n      <th>1989</th>\n      <td>1989</td>\n      <td>jbigkit</td>\n      <td>67855fe5ed323498b1e1a1c9f0a8b2b8b235bb2b4f3a4f...</td>\n      <td>21544</td>\n      <td>{'ssdeep': '192:GTJmX1ws6CWEORGArDqE/1LyZAntTq...</td>\n      <td>sdhash hash</td>\n      <td>{'tlsh': 'T10BA21827E3815876CDC5413451A74629B1...</td>\n      <td>Machoc hash</td>\n    </tr>\n  </tbody>\n</table>\n<p>1990 rows × 8 columns</p>\n</div>"
     },
     "execution_count": 546,
     "metadata": {},
     "output_type": "execute_result"
    }
   ],
   "source": [
    "df"
   ],
   "metadata": {
    "collapsed": false,
    "ExecuteTime": {
     "end_time": "2023-12-01T21:47:36.433152Z",
     "start_time": "2023-12-01T21:47:36.426334Z"
    }
   },
   "id": "bb69e5b1eba0ca8f"
  },
  {
   "cell_type": "code",
   "execution_count": 547,
   "outputs": [],
   "source": [
    "family_counts = df['family'].value_counts()\n",
    "\n",
    "# Filter the families with more than one entry\n",
    "scicore_filtered = df[df['family'].map(family_counts) > 1]"
   ],
   "metadata": {
    "collapsed": false,
    "ExecuteTime": {
     "end_time": "2023-12-01T21:47:36.434116Z",
     "start_time": "2023-12-01T21:47:36.430407Z"
    }
   },
   "id": "9b46196621f10368"
  },
  {
   "cell_type": "markdown",
   "source": [
    "# Scicore Filtered\n",
    "\n",
    "This is the filtered dataset with only families that have more than one entry. Since comparing the binary to itself can be done with SHA256, I will skip the families with only 1 entry."
   ],
   "metadata": {
    "collapsed": false
   },
   "id": "c1bc96c0b446a978"
  },
  {
   "cell_type": "code",
   "execution_count": 548,
   "outputs": [
    {
     "data": {
      "text/plain": "       _id          family                                             SHA256  \\\n0        0         DIAMOND  bdbbc7d10475610a47665613a15b523692f2e586e495bf...   \n1        1         DIAMOND  3e5b9caaa8ec0488d0ef6649fa3205af16cd286921fdf3...   \n2        2         DIAMOND  3e7c7a7415567a30a6131c959448e136c1c4cd25e2755d...   \n3        3         DIAMOND  6336bd767371ef854def756641f8af86dd591e62170eb8...   \n5        5  RStudio-Server  8ed496fd927bf12ab2680275d12ae8d239c77f426345e8...   \n...    ...             ...                                                ...   \n1983  1983        help2man  79bbee7e82e8cab0f238bc135ec79543a071371cddeb11...   \n1984  1984        help2man  2a1400af01f63f02b64889eb203ed60eee4014a4d4ded2...   \n1985  1985        help2man  4b4f9faa682356601be5fb4ecd94d0761b41a877aebe42...   \n1986  1986        help2man  16d420a69b74f3ec081ffae840653e2246ab4758d85e38...   \n1987  1987        help2man  982697334fef2dab34b4393832e7011a74a92ff05fd426...   \n\n      file_size                                             ssdeep  \\\n0       1744592  {'ssdeep': '24576:0ZgkO8W6krEazzEHRyE5fx5j0Gkm...   \n1       1264648  {'ssdeep': '24576:N7RayWHeZhpVZNmHQ/0R223Vcqem...   \n2       7963768  {'ssdeep': '98304:O4g2u6YzoSU6Zr5CqeWRP07lRNMc...   \n3       1599192  {'ssdeep': '24576:39vHSut4l6xFkIRp1IzwbIPGVild...   \n5          4364  {'ssdeep': '96:mKNT20vznhw3tngiBbGBsek3Kfy2wy3...   \n...         ...                                                ...   \n1983      19871  {'ssdeep': '384:sALj4CCJ8/eQyWvPX+ejZbCOL3npSe...   \n1984      19896  {'ssdeep': '384:svLjrCCJ8/eQrvPX+ejZbCOL3npSeL...   \n1985      20063  {'ssdeep': '384:sBLdhCCJ8rwQ0EvrX+rjZbOeL3npSe...   \n1986      20063  {'ssdeep': '384:sBLdkCCJ8rwQ0EvrX+rjZbOeL3npSe...   \n1987      20051  {'ssdeep': '384:sDLjOCCJ8/eQrvPX+rjZb2OL3npSeL...   \n\n           sdhash                                               tlsh  \\\n0     sdhash hash  {'tlsh': 'T170858D1B66820CB9C492D53467E797F268...   \n1     sdhash hash  {'tlsh': 'T1FB457E47FAC358A8C097D538466FA1367A...   \n2     sdhash hash  {'tlsh': 'T1A3868E03E687A468C8A6C43813DB91B3ED...   \n3     sdhash hash  {'tlsh': 'T112759F1B6BA208ADC892D53457E796F26C...   \n5     sdhash hash  {'tlsh': 'T150918C52B0542BB67974A378DBB71467E3...   \n...           ...                                                ...   \n1983  sdhash hash  {'tlsh': 'T13092F805EA2A8637B15301F77FDA54D09B...   \n1984  sdhash hash  {'tlsh': 'T1EC92F905EA2A8637B15301F77FDA54C09B...   \n1985  sdhash hash  {'tlsh': 'T16B92F905EA1A8677B25301F77FDAA4C097...   \n1986  sdhash hash  {'tlsh': 'T12C92F905EA1A8677B25301F77FDAA4C097...   \n1987  sdhash hash  {'tlsh': 'T192920A04EA1A8677B25301F77FDA94C097...   \n\n           machoc  \n0     Machoc hash  \n1     Machoc hash  \n2     Machoc hash  \n3     Machoc hash  \n5     Machoc hash  \n...           ...  \n1983  Machoc hash  \n1984  Machoc hash  \n1985  Machoc hash  \n1986  Machoc hash  \n1987  Machoc hash  \n\n[1664 rows x 8 columns]",
      "text/html": "<div>\n<style scoped>\n    .dataframe tbody tr th:only-of-type {\n        vertical-align: middle;\n    }\n\n    .dataframe tbody tr th {\n        vertical-align: top;\n    }\n\n    .dataframe thead th {\n        text-align: right;\n    }\n</style>\n<table border=\"1\" class=\"dataframe\">\n  <thead>\n    <tr style=\"text-align: right;\">\n      <th></th>\n      <th>_id</th>\n      <th>family</th>\n      <th>SHA256</th>\n      <th>file_size</th>\n      <th>ssdeep</th>\n      <th>sdhash</th>\n      <th>tlsh</th>\n      <th>machoc</th>\n    </tr>\n  </thead>\n  <tbody>\n    <tr>\n      <th>0</th>\n      <td>0</td>\n      <td>DIAMOND</td>\n      <td>bdbbc7d10475610a47665613a15b523692f2e586e495bf...</td>\n      <td>1744592</td>\n      <td>{'ssdeep': '24576:0ZgkO8W6krEazzEHRyE5fx5j0Gkm...</td>\n      <td>sdhash hash</td>\n      <td>{'tlsh': 'T170858D1B66820CB9C492D53467E797F268...</td>\n      <td>Machoc hash</td>\n    </tr>\n    <tr>\n      <th>1</th>\n      <td>1</td>\n      <td>DIAMOND</td>\n      <td>3e5b9caaa8ec0488d0ef6649fa3205af16cd286921fdf3...</td>\n      <td>1264648</td>\n      <td>{'ssdeep': '24576:N7RayWHeZhpVZNmHQ/0R223Vcqem...</td>\n      <td>sdhash hash</td>\n      <td>{'tlsh': 'T1FB457E47FAC358A8C097D538466FA1367A...</td>\n      <td>Machoc hash</td>\n    </tr>\n    <tr>\n      <th>2</th>\n      <td>2</td>\n      <td>DIAMOND</td>\n      <td>3e7c7a7415567a30a6131c959448e136c1c4cd25e2755d...</td>\n      <td>7963768</td>\n      <td>{'ssdeep': '98304:O4g2u6YzoSU6Zr5CqeWRP07lRNMc...</td>\n      <td>sdhash hash</td>\n      <td>{'tlsh': 'T1A3868E03E687A468C8A6C43813DB91B3ED...</td>\n      <td>Machoc hash</td>\n    </tr>\n    <tr>\n      <th>3</th>\n      <td>3</td>\n      <td>DIAMOND</td>\n      <td>6336bd767371ef854def756641f8af86dd591e62170eb8...</td>\n      <td>1599192</td>\n      <td>{'ssdeep': '24576:39vHSut4l6xFkIRp1IzwbIPGVild...</td>\n      <td>sdhash hash</td>\n      <td>{'tlsh': 'T112759F1B6BA208ADC892D53457E796F26C...</td>\n      <td>Machoc hash</td>\n    </tr>\n    <tr>\n      <th>5</th>\n      <td>5</td>\n      <td>RStudio-Server</td>\n      <td>8ed496fd927bf12ab2680275d12ae8d239c77f426345e8...</td>\n      <td>4364</td>\n      <td>{'ssdeep': '96:mKNT20vznhw3tngiBbGBsek3Kfy2wy3...</td>\n      <td>sdhash hash</td>\n      <td>{'tlsh': 'T150918C52B0542BB67974A378DBB71467E3...</td>\n      <td>Machoc hash</td>\n    </tr>\n    <tr>\n      <th>...</th>\n      <td>...</td>\n      <td>...</td>\n      <td>...</td>\n      <td>...</td>\n      <td>...</td>\n      <td>...</td>\n      <td>...</td>\n      <td>...</td>\n    </tr>\n    <tr>\n      <th>1983</th>\n      <td>1983</td>\n      <td>help2man</td>\n      <td>79bbee7e82e8cab0f238bc135ec79543a071371cddeb11...</td>\n      <td>19871</td>\n      <td>{'ssdeep': '384:sALj4CCJ8/eQyWvPX+ejZbCOL3npSe...</td>\n      <td>sdhash hash</td>\n      <td>{'tlsh': 'T13092F805EA2A8637B15301F77FDA54D09B...</td>\n      <td>Machoc hash</td>\n    </tr>\n    <tr>\n      <th>1984</th>\n      <td>1984</td>\n      <td>help2man</td>\n      <td>2a1400af01f63f02b64889eb203ed60eee4014a4d4ded2...</td>\n      <td>19896</td>\n      <td>{'ssdeep': '384:svLjrCCJ8/eQrvPX+ejZbCOL3npSeL...</td>\n      <td>sdhash hash</td>\n      <td>{'tlsh': 'T1EC92F905EA2A8637B15301F77FDA54C09B...</td>\n      <td>Machoc hash</td>\n    </tr>\n    <tr>\n      <th>1985</th>\n      <td>1985</td>\n      <td>help2man</td>\n      <td>4b4f9faa682356601be5fb4ecd94d0761b41a877aebe42...</td>\n      <td>20063</td>\n      <td>{'ssdeep': '384:sBLdhCCJ8rwQ0EvrX+rjZbOeL3npSe...</td>\n      <td>sdhash hash</td>\n      <td>{'tlsh': 'T16B92F905EA1A8677B25301F77FDAA4C097...</td>\n      <td>Machoc hash</td>\n    </tr>\n    <tr>\n      <th>1986</th>\n      <td>1986</td>\n      <td>help2man</td>\n      <td>16d420a69b74f3ec081ffae840653e2246ab4758d85e38...</td>\n      <td>20063</td>\n      <td>{'ssdeep': '384:sBLdkCCJ8rwQ0EvrX+rjZbOeL3npSe...</td>\n      <td>sdhash hash</td>\n      <td>{'tlsh': 'T12C92F905EA1A8677B25301F77FDAA4C097...</td>\n      <td>Machoc hash</td>\n    </tr>\n    <tr>\n      <th>1987</th>\n      <td>1987</td>\n      <td>help2man</td>\n      <td>982697334fef2dab34b4393832e7011a74a92ff05fd426...</td>\n      <td>20051</td>\n      <td>{'ssdeep': '384:sDLjOCCJ8/eQrvPX+rjZb2OL3npSeL...</td>\n      <td>sdhash hash</td>\n      <td>{'tlsh': 'T192920A04EA1A8677B25301F77FDA94C097...</td>\n      <td>Machoc hash</td>\n    </tr>\n  </tbody>\n</table>\n<p>1664 rows × 8 columns</p>\n</div>"
     },
     "execution_count": 548,
     "metadata": {},
     "output_type": "execute_result"
    }
   ],
   "source": [
    "scicore_filtered"
   ],
   "metadata": {
    "collapsed": false,
    "ExecuteTime": {
     "end_time": "2023-12-01T21:47:36.460850Z",
     "start_time": "2023-12-01T21:47:36.435547Z"
    }
   },
   "id": "4a8d50374c3d4cc8"
  },
  {
   "cell_type": "code",
   "execution_count": 549,
   "outputs": [],
   "source": [
    "original_count = df.shape[0]\n",
    "\n",
    "# Count the occurrences of each family\n",
    "family_counts = df['family'].value_counts()\n",
    "\n",
    "# Filter the DataFrame to keep families with more than one entry\n",
    "scicore_filtered = df[df['family'].map(family_counts) > 1]\n",
    "\n",
    "# Get the new number of rows after filtering\n",
    "filtered_count = scicore_filtered.shape[0]\n",
    "\n",
    "# Identify the families that were removed\n",
    "removed_families = family_counts[family_counts == 1].index.tolist()\n",
    "\n",
    "# Print the results\n",
    "#print(f\"Original DataFrame had {original_count} rows.\")\n",
    "#print(f\"Filtered DataFrame has {filtered_count} rows.\")\n",
    "#print(f\"Families removed (only had 1 entry): {removed_families}\")\n"
   ],
   "metadata": {
    "collapsed": false,
    "ExecuteTime": {
     "end_time": "2023-12-01T21:47:36.468223Z",
     "start_time": "2023-12-01T21:47:36.447021Z"
    }
   },
   "id": "f0ea6c1ac88ec6a6"
  },
  {
   "cell_type": "markdown",
   "source": [
    "Example: Get the tlsh hash of the first entry (DIAMOND) and compare to all other entries."
   ],
   "metadata": {
    "collapsed": false
   },
   "id": "725b0752d2259e5a"
  },
  {
   "cell_type": "code",
   "execution_count": 550,
   "outputs": [
    {
     "data": {
      "text/plain": "      index          family  score\n0         0         DIAMOND      0\n1         1         DIAMOND      0\n2         2         DIAMOND      0\n3         3         DIAMOND    100\n5         5  RStudio-Server      0\n...     ...             ...    ...\n1983   1983        help2man      0\n1984   1984        help2man      0\n1985   1985        help2man      0\n1986   1986        help2man      0\n1987   1987        help2man      0\n\n[1664 rows x 3 columns]",
      "text/html": "<div>\n<style scoped>\n    .dataframe tbody tr th:only-of-type {\n        vertical-align: middle;\n    }\n\n    .dataframe tbody tr th {\n        vertical-align: top;\n    }\n\n    .dataframe thead th {\n        text-align: right;\n    }\n</style>\n<table border=\"1\" class=\"dataframe\">\n  <thead>\n    <tr style=\"text-align: right;\">\n      <th></th>\n      <th>index</th>\n      <th>family</th>\n      <th>score</th>\n    </tr>\n  </thead>\n  <tbody>\n    <tr>\n      <th>0</th>\n      <td>0</td>\n      <td>DIAMOND</td>\n      <td>0</td>\n    </tr>\n    <tr>\n      <th>1</th>\n      <td>1</td>\n      <td>DIAMOND</td>\n      <td>0</td>\n    </tr>\n    <tr>\n      <th>2</th>\n      <td>2</td>\n      <td>DIAMOND</td>\n      <td>0</td>\n    </tr>\n    <tr>\n      <th>3</th>\n      <td>3</td>\n      <td>DIAMOND</td>\n      <td>100</td>\n    </tr>\n    <tr>\n      <th>5</th>\n      <td>5</td>\n      <td>RStudio-Server</td>\n      <td>0</td>\n    </tr>\n    <tr>\n      <th>...</th>\n      <td>...</td>\n      <td>...</td>\n      <td>...</td>\n    </tr>\n    <tr>\n      <th>1983</th>\n      <td>1983</td>\n      <td>help2man</td>\n      <td>0</td>\n    </tr>\n    <tr>\n      <th>1984</th>\n      <td>1984</td>\n      <td>help2man</td>\n      <td>0</td>\n    </tr>\n    <tr>\n      <th>1985</th>\n      <td>1985</td>\n      <td>help2man</td>\n      <td>0</td>\n    </tr>\n    <tr>\n      <th>1986</th>\n      <td>1986</td>\n      <td>help2man</td>\n      <td>0</td>\n    </tr>\n    <tr>\n      <th>1987</th>\n      <td>1987</td>\n      <td>help2man</td>\n      <td>0</td>\n    </tr>\n  </tbody>\n</table>\n<p>1664 rows × 3 columns</p>\n</div>"
     },
     "execution_count": 550,
     "metadata": {},
     "output_type": "execute_result"
    }
   ],
   "source": [
    "def compare_samplee(index,hasher):    \n",
    "    a = scicore_filtered.iloc[index][hasher][hasher]\n",
    "    score = pd.DataFrame(columns=[\"index\", \"family\", \"score\"])\n",
    "    \n",
    "    for i,hashed in scicore_filtered.iterrows():\n",
    "        if hasher == \"tlsh\":\n",
    "            score.loc[i] = [i,hashed[\"family\"],int(tlsh.diff(a[\"tlsh\"],hashed[hasher][hasher]))]\n",
    "        elif hasher == \"ssdeep\":\n",
    "            score.loc[i] = [i,hashed[\"family\"],int(ssdeep.compare(a,hashed[hasher][hasher]))]\n",
    "    return score"
   ],
   "metadata": {
    "collapsed": false,
    "ExecuteTime": {
     "end_time": "2023-12-01T21:47:37.017626Z",
     "start_time": "2023-12-01T21:47:36.452246Z"
    }
   },
   "id": "9fe5c6ce41b425c4"
  },
  {
   "cell_type": "code",
   "execution_count": 551,
   "outputs": [
    {
     "data": {
      "text/plain": "      index          family  score\n0         0         DIAMOND      0\n1         1         DIAMOND      0\n2         2         DIAMOND      0\n3         3         DIAMOND    100\n4         5  RStudio-Server      0\n...     ...             ...    ...\n1659   1983        help2man      0\n1660   1984        help2man      0\n1661   1985        help2man      0\n1662   1986        help2man      0\n1663   1987        help2man      0\n\n[1664 rows x 3 columns]",
      "text/html": "<div>\n<style scoped>\n    .dataframe tbody tr th:only-of-type {\n        vertical-align: middle;\n    }\n\n    .dataframe tbody tr th {\n        vertical-align: top;\n    }\n\n    .dataframe thead th {\n        text-align: right;\n    }\n</style>\n<table border=\"1\" class=\"dataframe\">\n  <thead>\n    <tr style=\"text-align: right;\">\n      <th></th>\n      <th>index</th>\n      <th>family</th>\n      <th>score</th>\n    </tr>\n  </thead>\n  <tbody>\n    <tr>\n      <th>0</th>\n      <td>0</td>\n      <td>DIAMOND</td>\n      <td>0</td>\n    </tr>\n    <tr>\n      <th>1</th>\n      <td>1</td>\n      <td>DIAMOND</td>\n      <td>0</td>\n    </tr>\n    <tr>\n      <th>2</th>\n      <td>2</td>\n      <td>DIAMOND</td>\n      <td>0</td>\n    </tr>\n    <tr>\n      <th>3</th>\n      <td>3</td>\n      <td>DIAMOND</td>\n      <td>100</td>\n    </tr>\n    <tr>\n      <th>4</th>\n      <td>5</td>\n      <td>RStudio-Server</td>\n      <td>0</td>\n    </tr>\n    <tr>\n      <th>...</th>\n      <td>...</td>\n      <td>...</td>\n      <td>...</td>\n    </tr>\n    <tr>\n      <th>1659</th>\n      <td>1983</td>\n      <td>help2man</td>\n      <td>0</td>\n    </tr>\n    <tr>\n      <th>1660</th>\n      <td>1984</td>\n      <td>help2man</td>\n      <td>0</td>\n    </tr>\n    <tr>\n      <th>1661</th>\n      <td>1985</td>\n      <td>help2man</td>\n      <td>0</td>\n    </tr>\n    <tr>\n      <th>1662</th>\n      <td>1986</td>\n      <td>help2man</td>\n      <td>0</td>\n    </tr>\n    <tr>\n      <th>1663</th>\n      <td>1987</td>\n      <td>help2man</td>\n      <td>0</td>\n    </tr>\n  </tbody>\n</table>\n<p>1664 rows × 3 columns</p>\n</div>"
     },
     "execution_count": 551,
     "metadata": {},
     "output_type": "execute_result"
    }
   ],
   "source": [
    "from joblib import Parallel, delayed\n",
    "\n",
    "def compare_sample(index, hasher, scicore_filtered):\n",
    "    target_hash = scicore_filtered.iloc[index][hasher][hasher]\n",
    "    scores = []\n",
    "\n",
    "    def compute_score(row):\n",
    "        if hasher == \"tlsh\":\n",
    "            return [row.name, row[\"family\"], int(tlsh.diff(target_hash, row[hasher][hasher]))]\n",
    "        elif hasher == \"ssdeep\":\n",
    "            return [row.name, row[\"family\"], int(ssdeep.compare(target_hash, row[hasher][hasher]))]\n",
    "\n",
    "    scores = Parallel(n_jobs=-1)(delayed(compute_score)(row) for _, row in scicore_filtered.iterrows())\n",
    "\n",
    "    return pd.DataFrame(scores, columns=[\"index\", \"family\", \"score\"])\n",
    "\n",
    "score = compare_sample(3,\"ssdeep\",scicore_filtered)\n",
    "score"
   ],
   "metadata": {
    "collapsed": false,
    "ExecuteTime": {
     "end_time": "2023-12-01T21:47:37.380037Z",
     "start_time": "2023-12-01T21:47:37.017976Z"
    }
   },
   "id": "b6601cb5ea2b2ede"
  },
  {
   "cell_type": "markdown",
   "source": [
    "# Score\n",
    "\n",
    "For TLSH, the score can go from 0 to as high as thousands. Depending on the threshold, we can filter out the entries that are not a candidate for a match, because of the False Positive rate and the True Positive rate. Reference: TLSH paper"
   ],
   "metadata": {
    "collapsed": false
   },
   "id": "5c7ab9630a599bb8"
  },
  {
   "cell_type": "code",
   "execution_count": 552,
   "outputs": [],
   "source": [
    "gaga = score[score[\"score\"] < 175]\n",
    "perf = gaga[gaga[\"score\"] > 75]"
   ],
   "metadata": {
    "collapsed": false,
    "ExecuteTime": {
     "end_time": "2023-12-01T21:47:37.380132Z",
     "start_time": "2023-12-01T21:47:37.378228Z"
    }
   },
   "id": "ec9bf75f4fbce32"
  },
  {
   "cell_type": "code",
   "execution_count": 553,
   "outputs": [
    {
     "data": {
      "text/plain": "   index   family  score\n3      3  DIAMOND    100",
      "text/html": "<div>\n<style scoped>\n    .dataframe tbody tr th:only-of-type {\n        vertical-align: middle;\n    }\n\n    .dataframe tbody tr th {\n        vertical-align: top;\n    }\n\n    .dataframe thead th {\n        text-align: right;\n    }\n</style>\n<table border=\"1\" class=\"dataframe\">\n  <thead>\n    <tr style=\"text-align: right;\">\n      <th></th>\n      <th>index</th>\n      <th>family</th>\n      <th>score</th>\n    </tr>\n  </thead>\n  <tbody>\n    <tr>\n      <th>3</th>\n      <td>3</td>\n      <td>DIAMOND</td>\n      <td>100</td>\n    </tr>\n  </tbody>\n</table>\n</div>"
     },
     "execution_count": 553,
     "metadata": {},
     "output_type": "execute_result"
    }
   ],
   "source": [
    "perf"
   ],
   "metadata": {
    "collapsed": false,
    "ExecuteTime": {
     "end_time": "2023-12-01T21:47:37.384457Z",
     "start_time": "2023-12-01T21:47:37.381951Z"
    }
   },
   "id": "771a76ce5b670a95"
  },
  {
   "cell_type": "markdown",
   "source": [
    "# Comparison\n",
    "\n",
    "The idea now is to first see how the hashes are matched on their own families.\n",
    "Example: Family DIAMOND hashes get only compared to itself to see how the score is distributed.\n",
    "\n",
    "`family_scores` is for TLSH\n",
    "`fam_sco_ssdeep` is for ssdeep"
   ],
   "metadata": {
    "collapsed": false
   },
   "id": "5d27b505468a4d23"
  },
  {
   "cell_type": "markdown",
   "source": [
    "## TLSH"
   ],
   "metadata": {
    "collapsed": false
   },
   "id": "b292b05aa65d6e14"
  },
  {
   "cell_type": "code",
   "execution_count": 554,
   "outputs": [],
   "source": [
    "import itertools\n",
    "\n",
    "family_scores = pd.DataFrame(columns=[\"family\", \"values\", \"mean\", \"median\", \"std\", \"amount\"])\n",
    "fam_sco_ssdeep = pd.DataFrame(columns=[\"family\", \"values\", \"mean\", \"median\", \"std\", \"amount\"])\n",
    "for k,fam in enumerate(scicore_filtered[\"family\"].unique()):\n",
    "    values = []\n",
    "    s_values = []\n",
    "    tmp = scicore_filtered[scicore_filtered[\"family\"] == fam][\"tlsh\"].tolist()\n",
    "    tmps = scicore_filtered[scicore_filtered[\"family\"] == fam][\"ssdeep\"].tolist()\n",
    "    combinations = list(itertools.combinations(tmp, 2))\n",
    "    s_combinations = list(itertools.combinations(tmps, 2))\n",
    "    for a, b in combinations:\n",
    "        g = tlsh.diff(a[\"tlsh\"],b[\"tlsh\"])\n",
    "        values.append(g)\n",
    "        \n",
    "    for a, b in s_combinations:\n",
    "        f = ssdeep.compare(a[\"ssdeep\"],b[\"ssdeep\"])\n",
    "        s_values.append(f)\n",
    "    family_scores.loc[k] = [fam,values,np.mean(values), np.median(values), np.std(values),len(values)]\n",
    "    fam_sco_ssdeep.loc[k] = [fam,s_values,np.mean(s_values), np.median(s_values), np.std(s_values),len(s_values)]"
   ],
   "metadata": {
    "collapsed": false,
    "ExecuteTime": {
     "end_time": "2023-12-01T21:47:37.748858Z",
     "start_time": "2023-12-01T21:47:37.390201Z"
    }
   },
   "id": "40c548a5fe3a8bb7"
  },
  {
   "cell_type": "code",
   "execution_count": 555,
   "outputs": [
    {
     "data": {
      "text/plain": "             family                                             values  \\\n0           DIAMOND                      [128, 260, 41, 320, 129, 271]   \n1    RStudio-Server  [17, 4, 22, 164, 6, 23, 16, 7, 20, 45, 190, 22...   \n4             libgd  [206, 169, 386, 136, 140, 471, 43, 460, 121, 447]   \n6               ant  [13, 0, 99, 99, 99, 0, 13, 86, 86, 86, 13, 99,...   \n7            HTSlib  [101, 125, 90, 58, 35, 30, 244, 60, 39, 79, 10...   \n..              ...                                                ...   \n327            ORCA             [3, 3, 1, 472, 0, 3, 472, 3, 472, 472]   \n328             Qt5                           [23, 55, 37, 67, 49, 45]   \n331          Salmon  [90, 75, 113, 47, 63, 81, 384, 57, 36, 74, 76,...   \n332         SeqPrep  [151, 174, 163, 184, 153, 186, 46, 34, 51, 7, ...   \n334        help2man  [21, 3, 0, 0, 4, 12, 12, 21, 21, 21, 21, 10, 8...   \n\n           mean  median         std  amount  \n0    191.500000   194.5   98.415361       6  \n1     49.583333    22.0   61.029763      36  \n4    257.900000   187.5  155.789891      10  \n6     57.428571    86.0   44.618565      21  \n7    125.321429   102.5   85.404940      28  \n..          ...     ...         ...     ...  \n327  190.100000     3.0  230.172305      10  \n328   46.000000    47.0   13.796135       6  \n331  162.464286    85.5  136.939633      28  \n332   76.904762    48.0   59.995162      21  \n334   10.055556    10.5    7.106118      36  \n\n[155 rows x 6 columns]",
      "text/html": "<div>\n<style scoped>\n    .dataframe tbody tr th:only-of-type {\n        vertical-align: middle;\n    }\n\n    .dataframe tbody tr th {\n        vertical-align: top;\n    }\n\n    .dataframe thead th {\n        text-align: right;\n    }\n</style>\n<table border=\"1\" class=\"dataframe\">\n  <thead>\n    <tr style=\"text-align: right;\">\n      <th></th>\n      <th>family</th>\n      <th>values</th>\n      <th>mean</th>\n      <th>median</th>\n      <th>std</th>\n      <th>amount</th>\n    </tr>\n  </thead>\n  <tbody>\n    <tr>\n      <th>0</th>\n      <td>DIAMOND</td>\n      <td>[128, 260, 41, 320, 129, 271]</td>\n      <td>191.500000</td>\n      <td>194.5</td>\n      <td>98.415361</td>\n      <td>6</td>\n    </tr>\n    <tr>\n      <th>1</th>\n      <td>RStudio-Server</td>\n      <td>[17, 4, 22, 164, 6, 23, 16, 7, 20, 45, 190, 22...</td>\n      <td>49.583333</td>\n      <td>22.0</td>\n      <td>61.029763</td>\n      <td>36</td>\n    </tr>\n    <tr>\n      <th>4</th>\n      <td>libgd</td>\n      <td>[206, 169, 386, 136, 140, 471, 43, 460, 121, 447]</td>\n      <td>257.900000</td>\n      <td>187.5</td>\n      <td>155.789891</td>\n      <td>10</td>\n    </tr>\n    <tr>\n      <th>6</th>\n      <td>ant</td>\n      <td>[13, 0, 99, 99, 99, 0, 13, 86, 86, 86, 13, 99,...</td>\n      <td>57.428571</td>\n      <td>86.0</td>\n      <td>44.618565</td>\n      <td>21</td>\n    </tr>\n    <tr>\n      <th>7</th>\n      <td>HTSlib</td>\n      <td>[101, 125, 90, 58, 35, 30, 244, 60, 39, 79, 10...</td>\n      <td>125.321429</td>\n      <td>102.5</td>\n      <td>85.404940</td>\n      <td>28</td>\n    </tr>\n    <tr>\n      <th>...</th>\n      <td>...</td>\n      <td>...</td>\n      <td>...</td>\n      <td>...</td>\n      <td>...</td>\n      <td>...</td>\n    </tr>\n    <tr>\n      <th>327</th>\n      <td>ORCA</td>\n      <td>[3, 3, 1, 472, 0, 3, 472, 3, 472, 472]</td>\n      <td>190.100000</td>\n      <td>3.0</td>\n      <td>230.172305</td>\n      <td>10</td>\n    </tr>\n    <tr>\n      <th>328</th>\n      <td>Qt5</td>\n      <td>[23, 55, 37, 67, 49, 45]</td>\n      <td>46.000000</td>\n      <td>47.0</td>\n      <td>13.796135</td>\n      <td>6</td>\n    </tr>\n    <tr>\n      <th>331</th>\n      <td>Salmon</td>\n      <td>[90, 75, 113, 47, 63, 81, 384, 57, 36, 74, 76,...</td>\n      <td>162.464286</td>\n      <td>85.5</td>\n      <td>136.939633</td>\n      <td>28</td>\n    </tr>\n    <tr>\n      <th>332</th>\n      <td>SeqPrep</td>\n      <td>[151, 174, 163, 184, 153, 186, 46, 34, 51, 7, ...</td>\n      <td>76.904762</td>\n      <td>48.0</td>\n      <td>59.995162</td>\n      <td>21</td>\n    </tr>\n    <tr>\n      <th>334</th>\n      <td>help2man</td>\n      <td>[21, 3, 0, 0, 4, 12, 12, 21, 21, 21, 21, 10, 8...</td>\n      <td>10.055556</td>\n      <td>10.5</td>\n      <td>7.106118</td>\n      <td>36</td>\n    </tr>\n  </tbody>\n</table>\n<p>155 rows × 6 columns</p>\n</div>"
     },
     "execution_count": 555,
     "metadata": {},
     "output_type": "execute_result"
    }
   ],
   "source": [
    "# Ignore the ones with only one resiöt\n",
    "family_scores.sort_values('amount')\n",
    "family_scores_tlsh = family_scores[family_scores[\"amount\"] > 3]\n",
    "family_scores_tlsh"
   ],
   "metadata": {
    "collapsed": false,
    "ExecuteTime": {
     "end_time": "2023-12-01T21:47:37.760502Z",
     "start_time": "2023-12-01T21:47:37.755057Z"
    }
   },
   "id": "3db1127341c3bf20"
  },
  {
   "cell_type": "code",
   "execution_count": 556,
   "outputs": [
    {
     "data": {
      "text/plain": "<Figure size 640x480 with 1 Axes>",
      "image/png": "[encoded data removed]"
     },
     "metadata": {},
     "output_type": "display_data"
    }
   ],
   "source": [
    "family_scores_tlsh[[\"mean\",\"median\",\"std\"]].boxplot()\n",
    "plt.title(\"Boxplot of the distribution of TLSH scores\")\n",
    "plt.show()"
   ],
   "metadata": {
    "collapsed": false,
    "ExecuteTime": {
     "end_time": "2023-12-01T21:47:37.920672Z",
     "start_time": "2023-12-01T21:47:37.760913Z"
    }
   },
   "id": "321495badce1390b"
  },
  {
   "cell_type": "markdown",
   "source": [
    "Comparing the scores of the families, the distribution is comparable to the result of the paper of TLSH. The prediction starts to be acceptable at around 80 and the false postive rate starts to be to high after 150 in the paper. Here we can see a similar trend.\n",
    "\n",
    "# TLSH Prediction"
   ],
   "metadata": {
    "collapsed": false
   },
   "id": "43b28a0854e036bc"
  },
  {
   "cell_type": "code",
   "execution_count": 733,
   "outputs": [],
   "source": [
    "def tlsh_predictor(threshold=0):\n",
    "    predict = pd.DataFrame(index=range(family_scores_tlsh.shape[0]), columns=[\"score\", \"prediction\", \"true_value\"])\n",
    "    for i in range(0,scicore_filtered.shape[0],1):\n",
    "        score = 1000\n",
    "        k = 0\n",
    "        for j in range(0,scicore_filtered.shape[0],1):\n",
    "            if i == j:\n",
    "                continue\n",
    "            tmp = tlsh.diff(scicore_filtered.iloc[i][\"tlsh\"][\"tlsh\"],scicore_filtered.iloc[j][\"tlsh\"][\"tlsh\"])\n",
    "            if score > tmp > threshold:\n",
    "                score = tmp\n",
    "                k = j\n",
    "            \n",
    "        #print(f\"score: {score}, prediction: {scicore_filtered.iloc[i]['family']}, true value: {scicore_filtered.iloc[k]['family']}\")\n",
    "        predict.loc[i] = [score, scicore_filtered.iloc[i][\"family\"], scicore_filtered.iloc[k][\"family\"]]\n",
    "    return predict\n"
   ],
   "metadata": {
    "collapsed": false,
    "ExecuteTime": {
     "end_time": "2023-12-02T12:18:13.026031Z",
     "start_time": "2023-12-02T12:18:13.018417Z"
    }
   },
   "id": "c4d59853a571b384"
  },
  {
   "cell_type": "code",
   "execution_count": 750,
   "outputs": [
    {
     "ename": "KeyboardInterrupt",
     "evalue": "",
     "output_type": "error",
     "traceback": [
      "\u001B[0;31m---------------------------------------------------------------------------\u001B[0m",
      "\u001B[0;31mKeyboardInterrupt\u001B[0m                         Traceback (most recent call last)",
      "Cell \u001B[0;32mIn[750], line 1\u001B[0m\n\u001B[0;32m----> 1\u001B[0m tlsh_pred \u001B[38;5;241m=\u001B[39m \u001B[43mtlsh_predictor\u001B[49m\u001B[43m(\u001B[49m\u001B[38;5;241;43m0\u001B[39;49m\u001B[43m)\u001B[49m\n",
      "Cell \u001B[0;32mIn[733], line 9\u001B[0m, in \u001B[0;36mtlsh_predictor\u001B[0;34m(threshold)\u001B[0m\n\u001B[1;32m      7\u001B[0m \u001B[38;5;28;01mif\u001B[39;00m i \u001B[38;5;241m==\u001B[39m j:\n\u001B[1;32m      8\u001B[0m     \u001B[38;5;28;01mcontinue\u001B[39;00m\n\u001B[0;32m----> 9\u001B[0m tmp \u001B[38;5;241m=\u001B[39m tlsh\u001B[38;5;241m.\u001B[39mdiff(scicore_filtered\u001B[38;5;241m.\u001B[39miloc[i][\u001B[38;5;124m\"\u001B[39m\u001B[38;5;124mtlsh\u001B[39m\u001B[38;5;124m\"\u001B[39m][\u001B[38;5;124m\"\u001B[39m\u001B[38;5;124mtlsh\u001B[39m\u001B[38;5;124m\"\u001B[39m],\u001B[43mscicore_filtered\u001B[49m\u001B[38;5;241;43m.\u001B[39;49m\u001B[43miloc\u001B[49m\u001B[43m[\u001B[49m\u001B[43mj\u001B[49m\u001B[43m]\u001B[49m[\u001B[38;5;124m\"\u001B[39m\u001B[38;5;124mtlsh\u001B[39m\u001B[38;5;124m\"\u001B[39m][\u001B[38;5;124m\"\u001B[39m\u001B[38;5;124mtlsh\u001B[39m\u001B[38;5;124m\"\u001B[39m])\n\u001B[1;32m     10\u001B[0m \u001B[38;5;28;01mif\u001B[39;00m score \u001B[38;5;241m>\u001B[39m tmp \u001B[38;5;241m>\u001B[39m threshold:\n\u001B[1;32m     11\u001B[0m     score \u001B[38;5;241m=\u001B[39m tmp\n",
      "File \u001B[0;32m/Library/Python/3.9/site-packages/pandas/core/indexing.py:1141\u001B[0m, in \u001B[0;36m_LocationIndexer.__getitem__\u001B[0;34m(self, key)\u001B[0m\n\u001B[1;32m   1139\u001B[0m \u001B[38;5;129m@final\u001B[39m\n\u001B[1;32m   1140\u001B[0m \u001B[38;5;28;01mdef\u001B[39;00m \u001B[38;5;21m__getitem__\u001B[39m(\u001B[38;5;28mself\u001B[39m, key):\n\u001B[0;32m-> 1141\u001B[0m     \u001B[43mcheck_dict_or_set_indexers\u001B[49m\u001B[43m(\u001B[49m\u001B[43mkey\u001B[49m\u001B[43m)\u001B[49m\n\u001B[1;32m   1142\u001B[0m     \u001B[38;5;28;01mif\u001B[39;00m \u001B[38;5;28mtype\u001B[39m(key) \u001B[38;5;129;01mis\u001B[39;00m \u001B[38;5;28mtuple\u001B[39m:\n\u001B[1;32m   1143\u001B[0m         key \u001B[38;5;241m=\u001B[39m \u001B[38;5;28mtuple\u001B[39m(\u001B[38;5;28mlist\u001B[39m(x) \u001B[38;5;28;01mif\u001B[39;00m is_iterator(x) \u001B[38;5;28;01melse\u001B[39;00m x \u001B[38;5;28;01mfor\u001B[39;00m x \u001B[38;5;129;01min\u001B[39;00m key)\n",
      "File \u001B[0;32m/Library/Python/3.9/site-packages/pandas/core/indexing.py:2683\u001B[0m, in \u001B[0;36mcheck_dict_or_set_indexers\u001B[0;34m(key)\u001B[0m\n\u001B[1;32m   2678\u001B[0m \u001B[38;5;28;01mdef\u001B[39;00m \u001B[38;5;21mcheck_dict_or_set_indexers\u001B[39m(key) \u001B[38;5;241m-\u001B[39m\u001B[38;5;241m>\u001B[39m \u001B[38;5;28;01mNone\u001B[39;00m:\n\u001B[1;32m   2679\u001B[0m \u001B[38;5;250m    \u001B[39m\u001B[38;5;124;03m\"\"\"\u001B[39;00m\n\u001B[1;32m   2680\u001B[0m \u001B[38;5;124;03m    Check if the indexer is or contains a dict or set, which is no longer allowed.\u001B[39;00m\n\u001B[1;32m   2681\u001B[0m \u001B[38;5;124;03m    \"\"\"\u001B[39;00m\n\u001B[1;32m   2682\u001B[0m     \u001B[38;5;28;01mif\u001B[39;00m (\n\u001B[0;32m-> 2683\u001B[0m         \u001B[38;5;28;43misinstance\u001B[39;49m\u001B[43m(\u001B[49m\u001B[43mkey\u001B[49m\u001B[43m,\u001B[49m\u001B[43m \u001B[49m\u001B[38;5;28;43mset\u001B[39;49m\u001B[43m)\u001B[49m\n\u001B[1;32m   2684\u001B[0m         \u001B[38;5;129;01mor\u001B[39;00m \u001B[38;5;28misinstance\u001B[39m(key, \u001B[38;5;28mtuple\u001B[39m)\n\u001B[1;32m   2685\u001B[0m         \u001B[38;5;129;01mand\u001B[39;00m \u001B[38;5;28many\u001B[39m(\u001B[38;5;28misinstance\u001B[39m(x, \u001B[38;5;28mset\u001B[39m) \u001B[38;5;28;01mfor\u001B[39;00m x \u001B[38;5;129;01min\u001B[39;00m key)\n\u001B[1;32m   2686\u001B[0m     ):\n\u001B[1;32m   2687\u001B[0m         \u001B[38;5;28;01mraise\u001B[39;00m \u001B[38;5;167;01mTypeError\u001B[39;00m(\n\u001B[1;32m   2688\u001B[0m             \u001B[38;5;124m\"\u001B[39m\u001B[38;5;124mPassing a set as an indexer is not supported. Use a list instead.\u001B[39m\u001B[38;5;124m\"\u001B[39m\n\u001B[1;32m   2689\u001B[0m         )\n\u001B[1;32m   2691\u001B[0m     \u001B[38;5;28;01mif\u001B[39;00m (\n\u001B[1;32m   2692\u001B[0m         \u001B[38;5;28misinstance\u001B[39m(key, \u001B[38;5;28mdict\u001B[39m)\n\u001B[1;32m   2693\u001B[0m         \u001B[38;5;129;01mor\u001B[39;00m \u001B[38;5;28misinstance\u001B[39m(key, \u001B[38;5;28mtuple\u001B[39m)\n\u001B[1;32m   2694\u001B[0m         \u001B[38;5;129;01mand\u001B[39;00m \u001B[38;5;28many\u001B[39m(\u001B[38;5;28misinstance\u001B[39m(x, \u001B[38;5;28mdict\u001B[39m) \u001B[38;5;28;01mfor\u001B[39;00m x \u001B[38;5;129;01min\u001B[39;00m key)\n\u001B[1;32m   2695\u001B[0m     ):\n",
      "\u001B[0;31mKeyboardInterrupt\u001B[0m: "
     ]
    }
   ],
   "source": [
    "tlsh_pred = tlsh_predictor(0)"
   ],
   "metadata": {
    "collapsed": false,
    "ExecuteTime": {
     "end_time": "2023-12-02T12:45:46.076602Z",
     "start_time": "2023-12-02T12:45:43.034789Z"
    }
   },
   "id": "fa0868698e08f305"
  },
  {
   "cell_type": "code",
   "execution_count": 751,
   "outputs": [
    {
     "data": {
      "text/plain": "     score      prediction   true_value\n831      1     OpenMalaria  OpenMalaria\n1019     1         ProMod3      ProMod3\n1018     1         ProMod3      ProMod3\n1423     1        intltool     intltool\n1425     1        intltool     intltool\n...    ...             ...          ...\n1492   206     SuiteSparse        PyQt5\n141    212           GEMMA       BLAST+\n1340   214           ARIBA     xlsx2csv\n1120   216          Preseq     AUGUSTUS\n310    220  Aspera-Connect        HTSeq\n\n[1664 rows x 3 columns]",
      "text/html": "<div>\n<style scoped>\n    .dataframe tbody tr th:only-of-type {\n        vertical-align: middle;\n    }\n\n    .dataframe tbody tr th {\n        vertical-align: top;\n    }\n\n    .dataframe thead th {\n        text-align: right;\n    }\n</style>\n<table border=\"1\" class=\"dataframe\">\n  <thead>\n    <tr style=\"text-align: right;\">\n      <th></th>\n      <th>score</th>\n      <th>prediction</th>\n      <th>true_value</th>\n    </tr>\n  </thead>\n  <tbody>\n    <tr>\n      <th>831</th>\n      <td>1</td>\n      <td>OpenMalaria</td>\n      <td>OpenMalaria</td>\n    </tr>\n    <tr>\n      <th>1019</th>\n      <td>1</td>\n      <td>ProMod3</td>\n      <td>ProMod3</td>\n    </tr>\n    <tr>\n      <th>1018</th>\n      <td>1</td>\n      <td>ProMod3</td>\n      <td>ProMod3</td>\n    </tr>\n    <tr>\n      <th>1423</th>\n      <td>1</td>\n      <td>intltool</td>\n      <td>intltool</td>\n    </tr>\n    <tr>\n      <th>1425</th>\n      <td>1</td>\n      <td>intltool</td>\n      <td>intltool</td>\n    </tr>\n    <tr>\n      <th>...</th>\n      <td>...</td>\n      <td>...</td>\n      <td>...</td>\n    </tr>\n    <tr>\n      <th>1492</th>\n      <td>206</td>\n      <td>SuiteSparse</td>\n      <td>PyQt5</td>\n    </tr>\n    <tr>\n      <th>141</th>\n      <td>212</td>\n      <td>GEMMA</td>\n      <td>BLAST+</td>\n    </tr>\n    <tr>\n      <th>1340</th>\n      <td>214</td>\n      <td>ARIBA</td>\n      <td>xlsx2csv</td>\n    </tr>\n    <tr>\n      <th>1120</th>\n      <td>216</td>\n      <td>Preseq</td>\n      <td>AUGUSTUS</td>\n    </tr>\n    <tr>\n      <th>310</th>\n      <td>220</td>\n      <td>Aspera-Connect</td>\n      <td>HTSeq</td>\n    </tr>\n  </tbody>\n</table>\n<p>1664 rows × 3 columns</p>\n</div>"
     },
     "execution_count": 751,
     "metadata": {},
     "output_type": "execute_result"
    }
   ],
   "source": [
    "tlsh_pred.sort_values(\"score\")"
   ],
   "metadata": {
    "collapsed": false,
    "ExecuteTime": {
     "end_time": "2023-12-02T12:45:47.334836Z",
     "start_time": "2023-12-02T12:45:47.331606Z"
    }
   },
   "id": "6c2e9d7f89f57c71"
  },
  {
   "cell_type": "code",
   "execution_count": 752,
   "outputs": [
    {
     "data": {
      "text/plain": "0.8112980769230769"
     },
     "execution_count": 752,
     "metadata": {},
     "output_type": "execute_result"
    }
   ],
   "source": [
    "(tlsh_pred[\"prediction\"] == tlsh_pred[\"true_value\"]).sum() / tlsh_pred.shape[0]"
   ],
   "metadata": {
    "collapsed": false,
    "ExecuteTime": {
     "end_time": "2023-12-02T12:45:47.933346Z",
     "start_time": "2023-12-02T12:45:47.924816Z"
    }
   },
   "id": "aa37563db1256738"
  },
  {
   "cell_type": "markdown",
   "source": [
    "When not giving any threshold we receive a true positive rate of $81\\%$ and a false positive rate of $19\\%$. Compared to SSDEEP this is a great result."
   ],
   "metadata": {
    "collapsed": false
   },
   "id": "ceb9c3ec706dfd63"
  },
  {
   "cell_type": "markdown",
   "source": [
    "# SSDEEP"
   ],
   "metadata": {
    "collapsed": false
   },
   "id": "4e3623cf049a754f"
  },
  {
   "cell_type": "code",
   "execution_count": 558,
   "outputs": [
    {
     "data": {
      "text/plain": "             family                                             values  \\\n0           DIAMOND                                 [0, 0, 0, 0, 0, 0]   \n1    RStudio-Server  [97, 93, 93, 85, 94, 94, 97, 93, 93, 93, 85, 9...   \n2          Infernal                                          [0, 0, 0]   \n3          FragPipe                                               [82]   \n4             libgd                 [0, 71, 0, 0, 69, 0, 61, 0, 75, 0]   \n..              ...                                                ...   \n330        prodigal                                          [0, 0, 0]   \n331          Salmon  [0, 0, 0, 0, 0, 0, 0, 0, 0, 0, 0, 0, 0, 0, 0, ...   \n332         SeqPrep  [0, 0, 0, 0, 0, 0, 0, 0, 0, 0, 0, 0, 0, 0, 0, ...   \n333           Qhull                                                [0]   \n334        help2man  [93, 96, 100, 100, 96, 79, 79, 93, 94, 93, 93,...   \n\n          mean  median        std  amount  \n0     0.000000     0.0   0.000000       6  \n1    92.527778    93.0   4.065342      36  \n2     0.000000     0.0   0.000000       3  \n3    82.000000    82.0   0.000000       1  \n4    27.600000     0.0  33.956443      10  \n..         ...     ...        ...     ...  \n330   0.000000     0.0   0.000000       3  \n331   0.000000     0.0   0.000000      28  \n332   0.000000     0.0   0.000000      21  \n333   0.000000     0.0   0.000000       1  \n334  89.722222    93.0   7.949882      36  \n\n[335 rows x 6 columns]",
      "text/html": "<div>\n<style scoped>\n    .dataframe tbody tr th:only-of-type {\n        vertical-align: middle;\n    }\n\n    .dataframe tbody tr th {\n        vertical-align: top;\n    }\n\n    .dataframe thead th {\n        text-align: right;\n    }\n</style>\n<table border=\"1\" class=\"dataframe\">\n  <thead>\n    <tr style=\"text-align: right;\">\n      <th></th>\n      <th>family</th>\n      <th>values</th>\n      <th>mean</th>\n      <th>median</th>\n      <th>std</th>\n      <th>amount</th>\n    </tr>\n  </thead>\n  <tbody>\n    <tr>\n      <th>0</th>\n      <td>DIAMOND</td>\n      <td>[0, 0, 0, 0, 0, 0]</td>\n      <td>0.000000</td>\n      <td>0.0</td>\n      <td>0.000000</td>\n      <td>6</td>\n    </tr>\n    <tr>\n      <th>1</th>\n      <td>RStudio-Server</td>\n      <td>[97, 93, 93, 85, 94, 94, 97, 93, 93, 93, 85, 9...</td>\n      <td>92.527778</td>\n      <td>93.0</td>\n      <td>4.065342</td>\n      <td>36</td>\n    </tr>\n    <tr>\n      <th>2</th>\n      <td>Infernal</td>\n      <td>[0, 0, 0]</td>\n      <td>0.000000</td>\n      <td>0.0</td>\n      <td>0.000000</td>\n      <td>3</td>\n    </tr>\n    <tr>\n      <th>3</th>\n      <td>FragPipe</td>\n      <td>[82]</td>\n      <td>82.000000</td>\n      <td>82.0</td>\n      <td>0.000000</td>\n      <td>1</td>\n    </tr>\n    <tr>\n      <th>4</th>\n      <td>libgd</td>\n      <td>[0, 71, 0, 0, 69, 0, 61, 0, 75, 0]</td>\n      <td>27.600000</td>\n      <td>0.0</td>\n      <td>33.956443</td>\n      <td>10</td>\n    </tr>\n    <tr>\n      <th>...</th>\n      <td>...</td>\n      <td>...</td>\n      <td>...</td>\n      <td>...</td>\n      <td>...</td>\n      <td>...</td>\n    </tr>\n    <tr>\n      <th>330</th>\n      <td>prodigal</td>\n      <td>[0, 0, 0]</td>\n      <td>0.000000</td>\n      <td>0.0</td>\n      <td>0.000000</td>\n      <td>3</td>\n    </tr>\n    <tr>\n      <th>331</th>\n      <td>Salmon</td>\n      <td>[0, 0, 0, 0, 0, 0, 0, 0, 0, 0, 0, 0, 0, 0, 0, ...</td>\n      <td>0.000000</td>\n      <td>0.0</td>\n      <td>0.000000</td>\n      <td>28</td>\n    </tr>\n    <tr>\n      <th>332</th>\n      <td>SeqPrep</td>\n      <td>[0, 0, 0, 0, 0, 0, 0, 0, 0, 0, 0, 0, 0, 0, 0, ...</td>\n      <td>0.000000</td>\n      <td>0.0</td>\n      <td>0.000000</td>\n      <td>21</td>\n    </tr>\n    <tr>\n      <th>333</th>\n      <td>Qhull</td>\n      <td>[0]</td>\n      <td>0.000000</td>\n      <td>0.0</td>\n      <td>0.000000</td>\n      <td>1</td>\n    </tr>\n    <tr>\n      <th>334</th>\n      <td>help2man</td>\n      <td>[93, 96, 100, 100, 96, 79, 79, 93, 94, 93, 93,...</td>\n      <td>89.722222</td>\n      <td>93.0</td>\n      <td>7.949882</td>\n      <td>36</td>\n    </tr>\n  </tbody>\n</table>\n<p>335 rows × 6 columns</p>\n</div>"
     },
     "execution_count": 558,
     "metadata": {},
     "output_type": "execute_result"
    }
   ],
   "source": [
    "# Remove redundant comparisons comparing themselfs\n",
    "c = fam_sco_ssdeep[fam_sco_ssdeep['amount'] > 3]\n",
    "c[c[\"median\"] > 0]\n",
    "fam_sco_ssdeep"
   ],
   "metadata": {
    "collapsed": false,
    "ExecuteTime": {
     "end_time": "2023-12-01T21:47:37.970847Z",
     "start_time": "2023-12-01T21:47:37.914053Z"
    }
   },
   "id": "808067460567d11b"
  },
  {
   "cell_type": "code",
   "execution_count": 559,
   "outputs": [
    {
     "data": {
      "text/plain": "<Figure size 640x480 with 1 Axes>",
      "image/png": "[encoded data removed]"
     },
     "metadata": {},
     "output_type": "display_data"
    }
   ],
   "source": [
    "fam_sco_ssdeep.boxplot(\"mean\")\n",
    "plt.title(\"Boxplot of the mean distribution of ssdeep scores\")\n",
    "plt.show()"
   ],
   "metadata": {
    "collapsed": false,
    "ExecuteTime": {
     "end_time": "2023-12-01T21:47:38.069933Z",
     "start_time": "2023-12-01T21:47:37.962497Z"
    }
   },
   "id": "5683db91c1b1dcde"
  },
  {
   "cell_type": "markdown",
   "source": [
    "Interestingly, the ssdeep scores are much worse compared to the TLSH scores. The mean lies at around 0, which indicates no match and is therefore definitely not a good fuzzy hasher for this dataset."
   ],
   "metadata": {
    "collapsed": false
   },
   "id": "6174b09213bc0e82"
  },
  {
   "cell_type": "markdown",
   "source": [
    "## SSDEEP Prediction\n",
    "\n",
    "First I will define a function that will predict the family of a sample based on the score of the comparison. The score is the maximum score of the comparison of the sample to all other samples. If the score is 0, there is no match and the prediction is \"No Match\". If the score is higher than 0, the prediction is the family with the highest score, based on the threshold. Second, I will define a function that will calculate the ROC curve based on the predictions on the given thresholds."
   ],
   "metadata": {
    "collapsed": false
   },
   "id": "d7c6452b87b449d9"
  },
  {
   "cell_type": "code",
   "execution_count": 620,
   "outputs": [],
   "source": [
    "def predictor(threshhold=0, hasher=\"ssdeep\"):\n",
    "\n",
    "    predict = pd.DataFrame(index=range(fam_sco_ssdeep.shape[0]), columns=[\"score\", \"prediction\", \"true_value\"])\n",
    "    \n",
    "    for i in range(fam_sco_ssdeep.shape[0]):\n",
    "        tmp = compare_sample(i, hasher,scicore_filtered)\n",
    "        tmp.loc[i, \"score\"] = 0  # Set the score of the i-th sample to 0 because it is compared to itself\n",
    "        max_score = tmp[\"score\"].max()\n",
    "        \n",
    "        # ic() the current status on every 10th iteration\n",
    "        if i % 10 == 0:\n",
    "            \n",
    "            print(f\"i: {i/fam_sco_ssdeep.shape[0]:.2%}\")\n",
    "        \n",
    "        if max_score == 0 or max_score <= threshhold:\n",
    "            #ic(\"No match\")\n",
    "            #predict.loc[i] = [0, \"No Match\", scicore_filtered.iloc[i][\"family\"]]\n",
    "            continue\n",
    "        else:\n",
    "            max_score_idx = tmp[\"score\"].idxmax()\n",
    "            prediction = tmp.loc[max_score_idx, \"family\"]\n",
    "            true_value = scicore_filtered.iloc[i][\"family\"]\n",
    "            predict.loc[i] = [max_score, prediction, true_value]\n",
    "    \n",
    "    return predict\n",
    "\n",
    "# Output the DataFrame\n"
   ],
   "metadata": {
    "collapsed": false,
    "ExecuteTime": {
     "start_time": "2023-12-01T23:48:26.525621Z"
    }
   },
   "id": "b231b0bb38d5e38"
  },
  {
   "cell_type": "code",
   "execution_count": 720,
   "outputs": [],
   "source": [
    "def roc(pred):\n",
    "    # Initialize DataFrame for ROC values\n",
    "    roc = pd.DataFrame(columns=[\"threshold\", \"true_positive_rate\", \"false_positive_rate\"])\n",
    "\n",
    "    # Iterate over each threshold\n",
    "    for threshold in range(10, 100, 10):\n",
    "   \n",
    "        predi = pred[pred[\"score\"] > threshold]\n",
    "        \n",
    "        true_label = predi[\"true_value\"] == predi[\"prediction\"]\n",
    "        false_label = predi[\"true_value\"] != predi[\"prediction\"]\n",
    "        TP = true_label.sum() / scicore_filtered.shape[0]\n",
    "        FP = (scicore_filtered.shape[0] - true_label.sum()) / scicore_filtered.shape[0]\n",
    "     \n",
    "        # Append results to DataFrame\n",
    "        roc.loc[threshold] = [threshold, TP, FP]\n",
    "    \n",
    "    return roc\n"
   ],
   "metadata": {
    "collapsed": false,
    "ExecuteTime": {
     "end_time": "2023-12-02T11:51:16.583582Z",
     "start_time": "2023-12-02T11:51:16.574123Z"
    }
   },
   "id": "d683f693236926fb"
  },
  {
   "cell_type": "code",
   "execution_count": 678,
   "outputs": [
    {
     "name": "stdout",
     "output_type": "stream",
     "text": [
      "i: 0.00%\n",
      "i: 2.99%\n",
      "i: 5.97%\n",
      "i: 8.96%\n",
      "i: 11.94%\n",
      "i: 14.93%\n",
      "i: 17.91%\n",
      "i: 20.90%\n",
      "i: 23.88%\n",
      "i: 26.87%\n",
      "i: 29.85%\n",
      "i: 32.84%\n",
      "i: 35.82%\n",
      "i: 38.81%\n",
      "i: 41.79%\n",
      "i: 44.78%\n",
      "i: 47.76%\n",
      "i: 50.75%\n",
      "i: 53.73%\n",
      "i: 56.72%\n",
      "i: 59.70%\n",
      "i: 62.69%\n",
      "i: 65.67%\n",
      "i: 68.66%\n",
      "i: 71.64%\n",
      "i: 74.63%\n",
      "i: 77.61%\n",
      "i: 80.60%\n",
      "i: 83.58%\n",
      "i: 86.57%\n",
      "i: 89.55%\n",
      "i: 92.54%\n",
      "i: 95.52%\n",
      "i: 98.51%\n"
     ]
    }
   ],
   "source": [
    "predo = predictor()"
   ],
   "metadata": {
    "collapsed": false,
    "ExecuteTime": {
     "end_time": "2023-12-02T11:31:33.508923Z",
     "start_time": "2023-12-02T11:29:21.119197Z"
    }
   },
   "id": "32b632108a945371"
  },
  {
   "cell_type": "code",
   "execution_count": 721,
   "outputs": [
    {
     "data": {
      "text/plain": "    threshold  true_positive_rate  false_positive_rate\n10       10.0            8.593750            91.406250\n20       20.0            8.593750            91.406250\n30       30.0            8.473558            91.526442\n40       40.0            7.812500            92.187500\n50       50.0            7.451923            92.548077\n60       60.0            7.211538            92.788462\n70       70.0            6.610577            93.389423\n80       80.0            6.069712            93.930288\n90       90.0            3.485577            96.514423",
      "text/html": "<div>\n<style scoped>\n    .dataframe tbody tr th:only-of-type {\n        vertical-align: middle;\n    }\n\n    .dataframe tbody tr th {\n        vertical-align: top;\n    }\n\n    .dataframe thead th {\n        text-align: right;\n    }\n</style>\n<table border=\"1\" class=\"dataframe\">\n  <thead>\n    <tr style=\"text-align: right;\">\n      <th></th>\n      <th>threshold</th>\n      <th>true_positive_rate</th>\n      <th>false_positive_rate</th>\n    </tr>\n  </thead>\n  <tbody>\n    <tr>\n      <th>10</th>\n      <td>10.0</td>\n      <td>8.593750</td>\n      <td>91.406250</td>\n    </tr>\n    <tr>\n      <th>20</th>\n      <td>20.0</td>\n      <td>8.593750</td>\n      <td>91.406250</td>\n    </tr>\n    <tr>\n      <th>30</th>\n      <td>30.0</td>\n      <td>8.473558</td>\n      <td>91.526442</td>\n    </tr>\n    <tr>\n      <th>40</th>\n      <td>40.0</td>\n      <td>7.812500</td>\n      <td>92.187500</td>\n    </tr>\n    <tr>\n      <th>50</th>\n      <td>50.0</td>\n      <td>7.451923</td>\n      <td>92.548077</td>\n    </tr>\n    <tr>\n      <th>60</th>\n      <td>60.0</td>\n      <td>7.211538</td>\n      <td>92.788462</td>\n    </tr>\n    <tr>\n      <th>70</th>\n      <td>70.0</td>\n      <td>6.610577</td>\n      <td>93.389423</td>\n    </tr>\n    <tr>\n      <th>80</th>\n      <td>80.0</td>\n      <td>6.069712</td>\n      <td>93.930288</td>\n    </tr>\n    <tr>\n      <th>90</th>\n      <td>90.0</td>\n      <td>3.485577</td>\n      <td>96.514423</td>\n    </tr>\n  </tbody>\n</table>\n</div>"
     },
     "execution_count": 721,
     "metadata": {},
     "output_type": "execute_result"
    }
   ],
   "source": [
    "roci = roc(predo)\n",
    "roci[[\"true_positive_rate\", \"false_positive_rate\"]] *= 100\n",
    "roci"
   ],
   "metadata": {
    "collapsed": false,
    "ExecuteTime": {
     "end_time": "2023-12-02T11:51:17.364821Z",
     "start_time": "2023-12-02T11:51:17.357399Z"
    }
   },
   "id": "ed1b2b428c34fe39"
  },
  {
   "cell_type": "markdown",
   "source": [
    "The table represents the rates in % for each threshold. We can clearly see that the false positive rate is way to high and min maxing the threshold will not help. The ssdeep hasher is not a good candidate for this dataset, as the max true positive rate lies at $8.6\\%$ and the false positive rate at $91.4\\%$."
   ],
   "metadata": {
    "collapsed": false
   },
   "id": "fd47a8e605835e39"
  },
  {
   "cell_type": "code",
   "execution_count": 723,
   "outputs": [
    {
     "data": {
      "text/plain": "<Figure size 640x480 with 1 Axes>",
      "image/png": "[encoded data removed]"
     },
     "metadata": {},
     "output_type": "display_data"
    }
   ],
   "source": [
    "# Plot the ROC curve in range 0.1 to 1.0\n",
    "roci.plot(x=\"false_positive_rate\", y=\"true_positive_rate\", xlim=(roci[\"false_positive_rate\"].min(), roci[\"false_positive_rate\"].max()), ylim=(roci[\"true_positive_rate\"].min(), roci[\"true_positive_rate\"].max()), title=\"Kinda a ROC Curve\", legend=False)\n",
    "plt.show()"
   ],
   "metadata": {
    "collapsed": false,
    "ExecuteTime": {
     "end_time": "2023-12-02T11:54:24.077587Z",
     "start_time": "2023-12-02T11:54:24.028156Z"
    }
   },
   "id": "b67a4773b7b75297"
  },
  {
   "cell_type": "markdown",
   "source": [
    "# TLSH Prediction"
   ],
   "metadata": {
    "collapsed": false
   },
   "id": "243eadf7501be593"
  },
  {
   "cell_type": "code",
   "execution_count": null,
   "outputs": [],
   "source": [],
   "metadata": {
    "collapsed": false
   },
   "id": "a273266fb0065bd2"
  }
 ],
 "metadata": {
  "kernelspec": {
   "display_name": "Python 3",
   "language": "python",
   "name": "python3"
  },
  "language_info": {
   "codemirror_mode": {
    "name": "ipython",
    "version": 2
   },
   "file_extension": ".py",
   "mimetype": "text/x-python",
   "name": "python",
   "nbconvert_exporter": "python",
   "pygments_lexer": "ipython2",
   "version": "2.7.6"
  }
 },
 "nbformat": 4,
 "nbformat_minor": 5
}
