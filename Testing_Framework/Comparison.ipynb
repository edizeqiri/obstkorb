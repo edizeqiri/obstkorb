{
 "cells": [
  {
   "cell_type": "code",
   "execution_count": 21,
   "id": "initial_id",
   "metadata": {
    "collapsed": true,
    "ExecuteTime": {
     "end_time": "2023-11-28T22:24:44.169001Z",
     "start_time": "2023-11-28T22:24:44.058390Z"
    }
   },
   "outputs": [],
   "source": [
    "import pandas as pd\n",
    "import Mongo_Connector as mongo\n",
    "import tlsh\n",
    "\n",
    "db = mongo.init(\"portainer\", port=32768)\n",
    "df = pd.DataFrame(list(db[\"scicore\"].find({})))"
   ]
  },
  {
   "cell_type": "code",
   "execution_count": 50,
   "outputs": [
    {
     "ename": "ValueError",
     "evalue": "level > 0 or level < -1 only valid with MultiIndex",
     "output_type": "error",
     "traceback": [
      "\u001B[0;31m---------------------------------------------------------------------------\u001B[0m",
      "\u001B[0;31mValueError\u001B[0m                                Traceback (most recent call last)",
      "Cell \u001B[0;32mIn[50], line 1\u001B[0m\n\u001B[0;32m----> 1\u001B[0m \u001B[43mdf\u001B[49m\u001B[38;5;241;43m.\u001B[39;49m\u001B[43mgroupby\u001B[49m\u001B[43m(\u001B[49m\u001B[43mby\u001B[49m\u001B[38;5;241;43m=\u001B[39;49m\u001B[38;5;124;43m\"\u001B[39;49m\u001B[38;5;124;43mfamily\u001B[39;49m\u001B[38;5;124;43m\"\u001B[39;49m\u001B[43m,\u001B[49m\u001B[43mlevel\u001B[49m\u001B[38;5;241;43m=\u001B[39;49m\u001B[38;5;241;43m1\u001B[39;49m\u001B[43m)\u001B[49m\u001B[38;5;241m.\u001B[39mcount()\n",
      "File \u001B[0;32m/Library/Python/3.9/site-packages/pandas/core/frame.py:8869\u001B[0m, in \u001B[0;36mDataFrame.groupby\u001B[0;34m(self, by, axis, level, as_index, sort, group_keys, observed, dropna)\u001B[0m\n\u001B[1;32m   8866\u001B[0m \u001B[38;5;28;01mif\u001B[39;00m level \u001B[38;5;129;01mis\u001B[39;00m \u001B[38;5;28;01mNone\u001B[39;00m \u001B[38;5;129;01mand\u001B[39;00m by \u001B[38;5;129;01mis\u001B[39;00m \u001B[38;5;28;01mNone\u001B[39;00m:\n\u001B[1;32m   8867\u001B[0m     \u001B[38;5;28;01mraise\u001B[39;00m \u001B[38;5;167;01mTypeError\u001B[39;00m(\u001B[38;5;124m\"\u001B[39m\u001B[38;5;124mYou have to supply one of \u001B[39m\u001B[38;5;124m'\u001B[39m\u001B[38;5;124mby\u001B[39m\u001B[38;5;124m'\u001B[39m\u001B[38;5;124m and \u001B[39m\u001B[38;5;124m'\u001B[39m\u001B[38;5;124mlevel\u001B[39m\u001B[38;5;124m'\u001B[39m\u001B[38;5;124m\"\u001B[39m)\n\u001B[0;32m-> 8869\u001B[0m \u001B[38;5;28;01mreturn\u001B[39;00m \u001B[43mDataFrameGroupBy\u001B[49m\u001B[43m(\u001B[49m\n\u001B[1;32m   8870\u001B[0m \u001B[43m    \u001B[49m\u001B[43mobj\u001B[49m\u001B[38;5;241;43m=\u001B[39;49m\u001B[38;5;28;43mself\u001B[39;49m\u001B[43m,\u001B[49m\n\u001B[1;32m   8871\u001B[0m \u001B[43m    \u001B[49m\u001B[43mkeys\u001B[49m\u001B[38;5;241;43m=\u001B[39;49m\u001B[43mby\u001B[49m\u001B[43m,\u001B[49m\n\u001B[1;32m   8872\u001B[0m \u001B[43m    \u001B[49m\u001B[43maxis\u001B[49m\u001B[38;5;241;43m=\u001B[39;49m\u001B[43maxis\u001B[49m\u001B[43m,\u001B[49m\n\u001B[1;32m   8873\u001B[0m \u001B[43m    \u001B[49m\u001B[43mlevel\u001B[49m\u001B[38;5;241;43m=\u001B[39;49m\u001B[43mlevel\u001B[49m\u001B[43m,\u001B[49m\n\u001B[1;32m   8874\u001B[0m \u001B[43m    \u001B[49m\u001B[43mas_index\u001B[49m\u001B[38;5;241;43m=\u001B[39;49m\u001B[43mas_index\u001B[49m\u001B[43m,\u001B[49m\n\u001B[1;32m   8875\u001B[0m \u001B[43m    \u001B[49m\u001B[43msort\u001B[49m\u001B[38;5;241;43m=\u001B[39;49m\u001B[43msort\u001B[49m\u001B[43m,\u001B[49m\n\u001B[1;32m   8876\u001B[0m \u001B[43m    \u001B[49m\u001B[43mgroup_keys\u001B[49m\u001B[38;5;241;43m=\u001B[39;49m\u001B[43mgroup_keys\u001B[49m\u001B[43m,\u001B[49m\n\u001B[1;32m   8877\u001B[0m \u001B[43m    \u001B[49m\u001B[43mobserved\u001B[49m\u001B[38;5;241;43m=\u001B[39;49m\u001B[43mobserved\u001B[49m\u001B[43m,\u001B[49m\n\u001B[1;32m   8878\u001B[0m \u001B[43m    \u001B[49m\u001B[43mdropna\u001B[49m\u001B[38;5;241;43m=\u001B[39;49m\u001B[43mdropna\u001B[49m\u001B[43m,\u001B[49m\n\u001B[1;32m   8879\u001B[0m \u001B[43m\u001B[49m\u001B[43m)\u001B[49m\n",
      "File \u001B[0;32m/Library/Python/3.9/site-packages/pandas/core/groupby/groupby.py:1278\u001B[0m, in \u001B[0;36mGroupBy.__init__\u001B[0;34m(self, obj, keys, axis, level, grouper, exclusions, selection, as_index, sort, group_keys, observed, dropna)\u001B[0m\n\u001B[1;32m   1275\u001B[0m \u001B[38;5;28mself\u001B[39m\u001B[38;5;241m.\u001B[39mdropna \u001B[38;5;241m=\u001B[39m dropna\n\u001B[1;32m   1277\u001B[0m \u001B[38;5;28;01mif\u001B[39;00m grouper \u001B[38;5;129;01mis\u001B[39;00m \u001B[38;5;28;01mNone\u001B[39;00m:\n\u001B[0;32m-> 1278\u001B[0m     grouper, exclusions, obj \u001B[38;5;241m=\u001B[39m \u001B[43mget_grouper\u001B[49m\u001B[43m(\u001B[49m\n\u001B[1;32m   1279\u001B[0m \u001B[43m        \u001B[49m\u001B[43mobj\u001B[49m\u001B[43m,\u001B[49m\n\u001B[1;32m   1280\u001B[0m \u001B[43m        \u001B[49m\u001B[43mkeys\u001B[49m\u001B[43m,\u001B[49m\n\u001B[1;32m   1281\u001B[0m \u001B[43m        \u001B[49m\u001B[43maxis\u001B[49m\u001B[38;5;241;43m=\u001B[39;49m\u001B[43maxis\u001B[49m\u001B[43m,\u001B[49m\n\u001B[1;32m   1282\u001B[0m \u001B[43m        \u001B[49m\u001B[43mlevel\u001B[49m\u001B[38;5;241;43m=\u001B[39;49m\u001B[43mlevel\u001B[49m\u001B[43m,\u001B[49m\n\u001B[1;32m   1283\u001B[0m \u001B[43m        \u001B[49m\u001B[43msort\u001B[49m\u001B[38;5;241;43m=\u001B[39;49m\u001B[43msort\u001B[49m\u001B[43m,\u001B[49m\n\u001B[1;32m   1284\u001B[0m \u001B[43m        \u001B[49m\u001B[43mobserved\u001B[49m\u001B[38;5;241;43m=\u001B[39;49m\u001B[38;5;28;43;01mFalse\u001B[39;49;00m\u001B[43m \u001B[49m\u001B[38;5;28;43;01mif\u001B[39;49;00m\u001B[43m \u001B[49m\u001B[43mobserved\u001B[49m\u001B[43m \u001B[49m\u001B[38;5;129;43;01mis\u001B[39;49;00m\u001B[43m \u001B[49m\u001B[43mlib\u001B[49m\u001B[38;5;241;43m.\u001B[39;49m\u001B[43mno_default\u001B[49m\u001B[43m \u001B[49m\u001B[38;5;28;43;01melse\u001B[39;49;00m\u001B[43m \u001B[49m\u001B[43mobserved\u001B[49m\u001B[43m,\u001B[49m\n\u001B[1;32m   1285\u001B[0m \u001B[43m        \u001B[49m\u001B[43mdropna\u001B[49m\u001B[38;5;241;43m=\u001B[39;49m\u001B[38;5;28;43mself\u001B[39;49m\u001B[38;5;241;43m.\u001B[39;49m\u001B[43mdropna\u001B[49m\u001B[43m,\u001B[49m\n\u001B[1;32m   1286\u001B[0m \u001B[43m    \u001B[49m\u001B[43m)\u001B[49m\n\u001B[1;32m   1288\u001B[0m \u001B[38;5;28;01mif\u001B[39;00m observed \u001B[38;5;129;01mis\u001B[39;00m lib\u001B[38;5;241m.\u001B[39mno_default:\n\u001B[1;32m   1289\u001B[0m     \u001B[38;5;28;01mif\u001B[39;00m \u001B[38;5;28many\u001B[39m(ping\u001B[38;5;241m.\u001B[39m_passed_categorical \u001B[38;5;28;01mfor\u001B[39;00m ping \u001B[38;5;129;01min\u001B[39;00m grouper\u001B[38;5;241m.\u001B[39mgroupings):\n",
      "File \u001B[0;32m/Library/Python/3.9/site-packages/pandas/core/groupby/grouper.py:886\u001B[0m, in \u001B[0;36mget_grouper\u001B[0;34m(obj, key, axis, level, sort, observed, validate, dropna)\u001B[0m\n\u001B[1;32m    881\u001B[0m         \u001B[38;5;28;01mraise\u001B[39;00m \u001B[38;5;167;01mValueError\u001B[39;00m(\n\u001B[1;32m    882\u001B[0m             \u001B[38;5;124mf\u001B[39m\u001B[38;5;124m\"\u001B[39m\u001B[38;5;124mlevel name \u001B[39m\u001B[38;5;132;01m{\u001B[39;00mlevel\u001B[38;5;132;01m}\u001B[39;00m\u001B[38;5;124m is not the name \u001B[39m\u001B[38;5;124m\"\u001B[39m\n\u001B[1;32m    883\u001B[0m             \u001B[38;5;124mf\u001B[39m\u001B[38;5;124m\"\u001B[39m\u001B[38;5;124mof the \u001B[39m\u001B[38;5;132;01m{\u001B[39;00mobj\u001B[38;5;241m.\u001B[39m_get_axis_name(axis)\u001B[38;5;132;01m}\u001B[39;00m\u001B[38;5;124m\"\u001B[39m\n\u001B[1;32m    884\u001B[0m         )\n\u001B[1;32m    885\u001B[0m \u001B[38;5;28;01melif\u001B[39;00m level \u001B[38;5;241m>\u001B[39m \u001B[38;5;241m0\u001B[39m \u001B[38;5;129;01mor\u001B[39;00m level \u001B[38;5;241m<\u001B[39m \u001B[38;5;241m-\u001B[39m\u001B[38;5;241m1\u001B[39m:\n\u001B[0;32m--> 886\u001B[0m     \u001B[38;5;28;01mraise\u001B[39;00m \u001B[38;5;167;01mValueError\u001B[39;00m(\u001B[38;5;124m\"\u001B[39m\u001B[38;5;124mlevel > 0 or level < -1 only valid with MultiIndex\u001B[39m\u001B[38;5;124m\"\u001B[39m)\n\u001B[1;32m    888\u001B[0m \u001B[38;5;66;03m# NOTE: `group_axis` and `group_axis.get_level_values(level)`\u001B[39;00m\n\u001B[1;32m    889\u001B[0m \u001B[38;5;66;03m# are same in this section.\u001B[39;00m\n\u001B[1;32m    890\u001B[0m level \u001B[38;5;241m=\u001B[39m \u001B[38;5;28;01mNone\u001B[39;00m\n",
      "\u001B[0;31mValueError\u001B[0m: level > 0 or level < -1 only valid with MultiIndex"
     ]
    }
   ],
   "source": [
    "df.groupby(by=\"family\",level=1).count()"
   ],
   "metadata": {
    "collapsed": false,
    "ExecuteTime": {
     "end_time": "2023-11-28T22:36:37.076484Z",
     "start_time": "2023-11-28T22:36:37.039649Z"
    }
   },
   "id": "ea6914bf016d57dd"
  },
  {
   "cell_type": "code",
   "execution_count": 51,
   "outputs": [
    {
     "data": {
      "text/plain": "       _id    family                                             SHA256  \\\n0        0   DIAMOND  bdbbc7d10475610a47665613a15b523692f2e586e495bf...   \n1        1   DIAMOND  3e5b9caaa8ec0488d0ef6649fa3205af16cd286921fdf3...   \n2        2   DIAMOND  3e7c7a7415567a30a6131c959448e136c1c4cd25e2755d...   \n3        3   DIAMOND  6336bd767371ef854def756641f8af86dd591e62170eb8...   \n4        4     OCaml  3eee2da2d713d971e6618b2f089d08e495c0cd8ec722f7...   \n...    ...       ...                                                ...   \n1985  1985  help2man  4b4f9faa682356601be5fb4ecd94d0761b41a877aebe42...   \n1986  1986  help2man  16d420a69b74f3ec081ffae840653e2246ab4758d85e38...   \n1987  1987  help2man  982697334fef2dab34b4393832e7011a74a92ff05fd426...   \n1988  1988  ChimPipe  6cbb727cbfb1fb6335e4439ae7810e143e1bcc69b05ca0...   \n1989  1989   jbigkit  67855fe5ed323498b1e1a1c9f0a8b2b8b235bb2b4f3a4f...   \n\n      file_size                                             ssdeep  \\\n0       1744592  {'ssdeep': '24576:0ZgkO8W6krEazzEHRyE5fx5j0Gkm...   \n1       1264648  {'ssdeep': '24576:N7RayWHeZhpVZNmHQ/0R223Vcqem...   \n2       7963768  {'ssdeep': '98304:O4g2u6YzoSU6Zr5CqeWRP07lRNMc...   \n3       1599192  {'ssdeep': '24576:39vHSut4l6xFkIRp1IzwbIPGVild...   \n4      13173764  {'ssdeep': '49152:lZBmaeQesTwicgVOMB4aJZhYw2UN...   \n...         ...                                                ...   \n1985      20063  {'ssdeep': '384:sBLdhCCJ8rwQ0EvrX+rjZbOeL3npSe...   \n1986      20063  {'ssdeep': '384:sBLdkCCJ8rwQ0EvrX+rjZbOeL3npSe...   \n1987      20051  {'ssdeep': '384:sDLjOCCJ8/eQrvPX+rjZb2OL3npSeL...   \n1988      76135  {'ssdeep': '1536:Sw5j4LB3dUalDarob+tltydxgjmzB...   \n1989      21544  {'ssdeep': '192:GTJmX1ws6CWEORGArDqE/1LyZAntTq...   \n\n           sdhash                                               tlsh  \\\n0     sdhash hash  {'tlsh': 'T170858D1B66820CB9C492D53467E797F268...   \n1     sdhash hash  {'tlsh': 'T1FB457E47FAC358A8C097D538466FA1367A...   \n2     sdhash hash  {'tlsh': 'T1A3868E03E687A468C8A6C43813DB91B3ED...   \n3     sdhash hash  {'tlsh': 'T112759F1B6BA208ADC892D53457E796F26C...   \n4     sdhash hash  {'tlsh': 'T1F6D6E80EBB470662CD9809FE8CD5868FD6...   \n...           ...                                                ...   \n1985  sdhash hash  {'tlsh': 'T16B92F905EA1A8677B25301F77FDAA4C097...   \n1986  sdhash hash  {'tlsh': 'T12C92F905EA1A8677B25301F77FDAA4C097...   \n1987  sdhash hash  {'tlsh': 'T192920A04EA1A8677B25301F77FDA94C097...   \n1988  sdhash hash  {'tlsh': 'T101734B13B0959D7AC4478A301AC7823B99...   \n1989  sdhash hash  {'tlsh': 'T10BA21827E3815876CDC5413451A74629B1...   \n\n           machoc  \n0     Machoc hash  \n1     Machoc hash  \n2     Machoc hash  \n3     Machoc hash  \n4     Machoc hash  \n...           ...  \n1985  Machoc hash  \n1986  Machoc hash  \n1987  Machoc hash  \n1988  Machoc hash  \n1989  Machoc hash  \n\n[1990 rows x 8 columns]",
      "text/html": "<div>\n<style scoped>\n    .dataframe tbody tr th:only-of-type {\n        vertical-align: middle;\n    }\n\n    .dataframe tbody tr th {\n        vertical-align: top;\n    }\n\n    .dataframe thead th {\n        text-align: right;\n    }\n</style>\n<table border=\"1\" class=\"dataframe\">\n  <thead>\n    <tr style=\"text-align: right;\">\n      <th></th>\n      <th>_id</th>\n      <th>family</th>\n      <th>SHA256</th>\n      <th>file_size</th>\n      <th>ssdeep</th>\n      <th>sdhash</th>\n      <th>tlsh</th>\n      <th>machoc</th>\n    </tr>\n  </thead>\n  <tbody>\n    <tr>\n      <th>0</th>\n      <td>0</td>\n      <td>DIAMOND</td>\n      <td>bdbbc7d10475610a47665613a15b523692f2e586e495bf...</td>\n      <td>1744592</td>\n      <td>{'ssdeep': '24576:0ZgkO8W6krEazzEHRyE5fx5j0Gkm...</td>\n      <td>sdhash hash</td>\n      <td>{'tlsh': 'T170858D1B66820CB9C492D53467E797F268...</td>\n      <td>Machoc hash</td>\n    </tr>\n    <tr>\n      <th>1</th>\n      <td>1</td>\n      <td>DIAMOND</td>\n      <td>3e5b9caaa8ec0488d0ef6649fa3205af16cd286921fdf3...</td>\n      <td>1264648</td>\n      <td>{'ssdeep': '24576:N7RayWHeZhpVZNmHQ/0R223Vcqem...</td>\n      <td>sdhash hash</td>\n      <td>{'tlsh': 'T1FB457E47FAC358A8C097D538466FA1367A...</td>\n      <td>Machoc hash</td>\n    </tr>\n    <tr>\n      <th>2</th>\n      <td>2</td>\n      <td>DIAMOND</td>\n      <td>3e7c7a7415567a30a6131c959448e136c1c4cd25e2755d...</td>\n      <td>7963768</td>\n      <td>{'ssdeep': '98304:O4g2u6YzoSU6Zr5CqeWRP07lRNMc...</td>\n      <td>sdhash hash</td>\n      <td>{'tlsh': 'T1A3868E03E687A468C8A6C43813DB91B3ED...</td>\n      <td>Machoc hash</td>\n    </tr>\n    <tr>\n      <th>3</th>\n      <td>3</td>\n      <td>DIAMOND</td>\n      <td>6336bd767371ef854def756641f8af86dd591e62170eb8...</td>\n      <td>1599192</td>\n      <td>{'ssdeep': '24576:39vHSut4l6xFkIRp1IzwbIPGVild...</td>\n      <td>sdhash hash</td>\n      <td>{'tlsh': 'T112759F1B6BA208ADC892D53457E796F26C...</td>\n      <td>Machoc hash</td>\n    </tr>\n    <tr>\n      <th>4</th>\n      <td>4</td>\n      <td>OCaml</td>\n      <td>3eee2da2d713d971e6618b2f089d08e495c0cd8ec722f7...</td>\n      <td>13173764</td>\n      <td>{'ssdeep': '49152:lZBmaeQesTwicgVOMB4aJZhYw2UN...</td>\n      <td>sdhash hash</td>\n      <td>{'tlsh': 'T1F6D6E80EBB470662CD9809FE8CD5868FD6...</td>\n      <td>Machoc hash</td>\n    </tr>\n    <tr>\n      <th>...</th>\n      <td>...</td>\n      <td>...</td>\n      <td>...</td>\n      <td>...</td>\n      <td>...</td>\n      <td>...</td>\n      <td>...</td>\n      <td>...</td>\n    </tr>\n    <tr>\n      <th>1985</th>\n      <td>1985</td>\n      <td>help2man</td>\n      <td>4b4f9faa682356601be5fb4ecd94d0761b41a877aebe42...</td>\n      <td>20063</td>\n      <td>{'ssdeep': '384:sBLdhCCJ8rwQ0EvrX+rjZbOeL3npSe...</td>\n      <td>sdhash hash</td>\n      <td>{'tlsh': 'T16B92F905EA1A8677B25301F77FDAA4C097...</td>\n      <td>Machoc hash</td>\n    </tr>\n    <tr>\n      <th>1986</th>\n      <td>1986</td>\n      <td>help2man</td>\n      <td>16d420a69b74f3ec081ffae840653e2246ab4758d85e38...</td>\n      <td>20063</td>\n      <td>{'ssdeep': '384:sBLdkCCJ8rwQ0EvrX+rjZbOeL3npSe...</td>\n      <td>sdhash hash</td>\n      <td>{'tlsh': 'T12C92F905EA1A8677B25301F77FDAA4C097...</td>\n      <td>Machoc hash</td>\n    </tr>\n    <tr>\n      <th>1987</th>\n      <td>1987</td>\n      <td>help2man</td>\n      <td>982697334fef2dab34b4393832e7011a74a92ff05fd426...</td>\n      <td>20051</td>\n      <td>{'ssdeep': '384:sDLjOCCJ8/eQrvPX+rjZb2OL3npSeL...</td>\n      <td>sdhash hash</td>\n      <td>{'tlsh': 'T192920A04EA1A8677B25301F77FDA94C097...</td>\n      <td>Machoc hash</td>\n    </tr>\n    <tr>\n      <th>1988</th>\n      <td>1988</td>\n      <td>ChimPipe</td>\n      <td>6cbb727cbfb1fb6335e4439ae7810e143e1bcc69b05ca0...</td>\n      <td>76135</td>\n      <td>{'ssdeep': '1536:Sw5j4LB3dUalDarob+tltydxgjmzB...</td>\n      <td>sdhash hash</td>\n      <td>{'tlsh': 'T101734B13B0959D7AC4478A301AC7823B99...</td>\n      <td>Machoc hash</td>\n    </tr>\n    <tr>\n      <th>1989</th>\n      <td>1989</td>\n      <td>jbigkit</td>\n      <td>67855fe5ed323498b1e1a1c9f0a8b2b8b235bb2b4f3a4f...</td>\n      <td>21544</td>\n      <td>{'ssdeep': '192:GTJmX1ws6CWEORGArDqE/1LyZAntTq...</td>\n      <td>sdhash hash</td>\n      <td>{'tlsh': 'T10BA21827E3815876CDC5413451A74629B1...</td>\n      <td>Machoc hash</td>\n    </tr>\n  </tbody>\n</table>\n<p>1990 rows × 8 columns</p>\n</div>"
     },
     "execution_count": 51,
     "metadata": {},
     "output_type": "execute_result"
    }
   ],
   "source": [
    "df"
   ],
   "metadata": {
    "collapsed": false,
    "ExecuteTime": {
     "end_time": "2023-11-28T22:36:48.490900Z",
     "start_time": "2023-11-28T22:36:48.480364Z"
    }
   },
   "id": "a2626d01e7cb6be"
  },
  {
   "cell_type": "code",
   "execution_count": 28,
   "outputs": [
    {
     "data": {
      "text/plain": "17"
     },
     "execution_count": 28,
     "metadata": {},
     "output_type": "execute_result"
    }
   ],
   "source": [
    "a = df.iloc[5][\"tlsh\"][\"tlsh\"]\n",
    "b = df.iloc[][\"tlsh\"][\"tlsh\"]\n",
    "tlsh.diff(a,b)"
   ],
   "metadata": {
    "collapsed": false,
    "ExecuteTime": {
     "end_time": "2023-11-28T22:25:42.738056Z",
     "start_time": "2023-11-28T22:25:42.732673Z"
    }
   },
   "id": "cb66245bb386e379"
  },
  {
   "cell_type": "code",
   "execution_count": null,
   "outputs": [],
   "source": [],
   "metadata": {
    "collapsed": false
   },
   "id": "371a69a65c19f085"
  }
 ],
 "metadata": {
  "kernelspec": {
   "display_name": "Python 3",
   "language": "python",
   "name": "python3"
  },
  "language_info": {
   "codemirror_mode": {
    "name": "ipython",
    "version": 2
   },
   "file_extension": ".py",
   "mimetype": "text/x-python",
   "name": "python",
   "nbconvert_exporter": "python",
   "pygments_lexer": "ipython2",
   "version": "2.7.6"
  }
 },
 "nbformat": 4,
 "nbformat_minor": 5
}
