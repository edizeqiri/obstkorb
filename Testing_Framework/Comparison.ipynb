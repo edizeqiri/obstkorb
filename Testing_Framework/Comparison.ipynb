{
 "cells": [
  {
   "cell_type": "code",
   "execution_count": 845,
   "id": "6a8d586a31dd688a",
   "metadata": {
    "collapsed": false,
    "ExecuteTime": {
     "end_time": "2023-12-02T17:46:23.639147Z",
     "start_time": "2023-12-02T17:46:23.318026Z"
    }
   },
   "outputs": [],
   "source": [
    "import numpy as np\n",
    "import pandas as pd\n",
    "import Mongo_Connector as mongo\n",
    "import tlsh\n",
    "from icecream import ic\n",
    "import matplotlib.pyplot as plt\n",
    "import ssdeep\n",
    "import warnings\n",
    "warnings.filterwarnings('ignore')\n",
    "db = mongo.init(\"portainer\", port=32768)\n",
    "df = pd.DataFrame(list(db[\"scicore\"].find({})))"
   ]
  },
  {
   "cell_type": "markdown",
   "id": "b1559fb3a9473554",
   "metadata": {
    "collapsed": false
   },
   "source": [
    "# Scicore Comparison\n",
    "\n",
    "This notebook is used to compare the tlsh and ssdeep hashes of the scicore dataset.\n",
    "First I will compare the tlsh hashes and then the ssdeep hashes.\n",
    "\n"
   ]
  },
  {
   "cell_type": "code",
   "execution_count": 846,
   "id": "bb69e5b1eba0ca8f",
   "metadata": {
    "collapsed": false,
    "ExecuteTime": {
     "end_time": "2023-12-02T17:46:23.653315Z",
     "start_time": "2023-12-02T17:46:23.640192Z"
    }
   },
   "outputs": [
    {
     "data": {
      "text/plain": "       _id    family                                             SHA256  \\\n0        0   DIAMOND  bdbbc7d10475610a47665613a15b523692f2e586e495bf...   \n1        1   DIAMOND  3e5b9caaa8ec0488d0ef6649fa3205af16cd286921fdf3...   \n2        2   DIAMOND  3e7c7a7415567a30a6131c959448e136c1c4cd25e2755d...   \n3        3   DIAMOND  6336bd767371ef854def756641f8af86dd591e62170eb8...   \n4        4     OCaml  3eee2da2d713d971e6618b2f089d08e495c0cd8ec722f7...   \n...    ...       ...                                                ...   \n1985  1985  help2man  4b4f9faa682356601be5fb4ecd94d0761b41a877aebe42...   \n1986  1986  help2man  16d420a69b74f3ec081ffae840653e2246ab4758d85e38...   \n1987  1987  help2man  982697334fef2dab34b4393832e7011a74a92ff05fd426...   \n1988  1988  ChimPipe  6cbb727cbfb1fb6335e4439ae7810e143e1bcc69b05ca0...   \n1989  1989   jbigkit  67855fe5ed323498b1e1a1c9f0a8b2b8b235bb2b4f3a4f...   \n\n      file_size                                             ssdeep  \\\n0       1744592  {'ssdeep': '24576:0ZgkO8W6krEazzEHRyE5fx5j0Gkm...   \n1       1264648  {'ssdeep': '24576:N7RayWHeZhpVZNmHQ/0R223Vcqem...   \n2       7963768  {'ssdeep': '98304:O4g2u6YzoSU6Zr5CqeWRP07lRNMc...   \n3       1599192  {'ssdeep': '24576:39vHSut4l6xFkIRp1IzwbIPGVild...   \n4      13173764  {'ssdeep': '49152:lZBmaeQesTwicgVOMB4aJZhYw2UN...   \n...         ...                                                ...   \n1985      20063  {'ssdeep': '384:sBLdhCCJ8rwQ0EvrX+rjZbOeL3npSe...   \n1986      20063  {'ssdeep': '384:sBLdkCCJ8rwQ0EvrX+rjZbOeL3npSe...   \n1987      20051  {'ssdeep': '384:sDLjOCCJ8/eQrvPX+rjZb2OL3npSeL...   \n1988      76135  {'ssdeep': '1536:Sw5j4LB3dUalDarob+tltydxgjmzB...   \n1989      21544  {'ssdeep': '192:GTJmX1ws6CWEORGArDqE/1LyZAntTq...   \n\n           sdhash                                               tlsh  \\\n0     sdhash hash  {'tlsh': 'T170858D1B66820CB9C492D53467E797F268...   \n1     sdhash hash  {'tlsh': 'T1FB457E47FAC358A8C097D538466FA1367A...   \n2     sdhash hash  {'tlsh': 'T1A3868E03E687A468C8A6C43813DB91B3ED...   \n3     sdhash hash  {'tlsh': 'T112759F1B6BA208ADC892D53457E796F26C...   \n4     sdhash hash  {'tlsh': 'T1F6D6E80EBB470662CD9809FE8CD5868FD6...   \n...           ...                                                ...   \n1985  sdhash hash  {'tlsh': 'T16B92F905EA1A8677B25301F77FDAA4C097...   \n1986  sdhash hash  {'tlsh': 'T12C92F905EA1A8677B25301F77FDAA4C097...   \n1987  sdhash hash  {'tlsh': 'T192920A04EA1A8677B25301F77FDA94C097...   \n1988  sdhash hash  {'tlsh': 'T101734B13B0959D7AC4478A301AC7823B99...   \n1989  sdhash hash  {'tlsh': 'T10BA21827E3815876CDC5413451A74629B1...   \n\n           machoc  \n0     Machoc hash  \n1     Machoc hash  \n2     Machoc hash  \n3     Machoc hash  \n4     Machoc hash  \n...           ...  \n1985  Machoc hash  \n1986  Machoc hash  \n1987  Machoc hash  \n1988  Machoc hash  \n1989  Machoc hash  \n\n[1990 rows x 8 columns]",
      "text/html": "<div>\n<style scoped>\n    .dataframe tbody tr th:only-of-type {\n        vertical-align: middle;\n    }\n\n    .dataframe tbody tr th {\n        vertical-align: top;\n    }\n\n    .dataframe thead th {\n        text-align: right;\n    }\n</style>\n<table border=\"1\" class=\"dataframe\">\n  <thead>\n    <tr style=\"text-align: right;\">\n      <th></th>\n      <th>_id</th>\n      <th>family</th>\n      <th>SHA256</th>\n      <th>file_size</th>\n      <th>ssdeep</th>\n      <th>sdhash</th>\n      <th>tlsh</th>\n      <th>machoc</th>\n    </tr>\n  </thead>\n  <tbody>\n    <tr>\n      <th>0</th>\n      <td>0</td>\n      <td>DIAMOND</td>\n      <td>bdbbc7d10475610a47665613a15b523692f2e586e495bf...</td>\n      <td>1744592</td>\n      <td>{'ssdeep': '24576:0ZgkO8W6krEazzEHRyE5fx5j0Gkm...</td>\n      <td>sdhash hash</td>\n      <td>{'tlsh': 'T170858D1B66820CB9C492D53467E797F268...</td>\n      <td>Machoc hash</td>\n    </tr>\n    <tr>\n      <th>1</th>\n      <td>1</td>\n      <td>DIAMOND</td>\n      <td>3e5b9caaa8ec0488d0ef6649fa3205af16cd286921fdf3...</td>\n      <td>1264648</td>\n      <td>{'ssdeep': '24576:N7RayWHeZhpVZNmHQ/0R223Vcqem...</td>\n      <td>sdhash hash</td>\n      <td>{'tlsh': 'T1FB457E47FAC358A8C097D538466FA1367A...</td>\n      <td>Machoc hash</td>\n    </tr>\n    <tr>\n      <th>2</th>\n      <td>2</td>\n      <td>DIAMOND</td>\n      <td>3e7c7a7415567a30a6131c959448e136c1c4cd25e2755d...</td>\n      <td>7963768</td>\n      <td>{'ssdeep': '98304:O4g2u6YzoSU6Zr5CqeWRP07lRNMc...</td>\n      <td>sdhash hash</td>\n      <td>{'tlsh': 'T1A3868E03E687A468C8A6C43813DB91B3ED...</td>\n      <td>Machoc hash</td>\n    </tr>\n    <tr>\n      <th>3</th>\n      <td>3</td>\n      <td>DIAMOND</td>\n      <td>6336bd767371ef854def756641f8af86dd591e62170eb8...</td>\n      <td>1599192</td>\n      <td>{'ssdeep': '24576:39vHSut4l6xFkIRp1IzwbIPGVild...</td>\n      <td>sdhash hash</td>\n      <td>{'tlsh': 'T112759F1B6BA208ADC892D53457E796F26C...</td>\n      <td>Machoc hash</td>\n    </tr>\n    <tr>\n      <th>4</th>\n      <td>4</td>\n      <td>OCaml</td>\n      <td>3eee2da2d713d971e6618b2f089d08e495c0cd8ec722f7...</td>\n      <td>13173764</td>\n      <td>{'ssdeep': '49152:lZBmaeQesTwicgVOMB4aJZhYw2UN...</td>\n      <td>sdhash hash</td>\n      <td>{'tlsh': 'T1F6D6E80EBB470662CD9809FE8CD5868FD6...</td>\n      <td>Machoc hash</td>\n    </tr>\n    <tr>\n      <th>...</th>\n      <td>...</td>\n      <td>...</td>\n      <td>...</td>\n      <td>...</td>\n      <td>...</td>\n      <td>...</td>\n      <td>...</td>\n      <td>...</td>\n    </tr>\n    <tr>\n      <th>1985</th>\n      <td>1985</td>\n      <td>help2man</td>\n      <td>4b4f9faa682356601be5fb4ecd94d0761b41a877aebe42...</td>\n      <td>20063</td>\n      <td>{'ssdeep': '384:sBLdhCCJ8rwQ0EvrX+rjZbOeL3npSe...</td>\n      <td>sdhash hash</td>\n      <td>{'tlsh': 'T16B92F905EA1A8677B25301F77FDAA4C097...</td>\n      <td>Machoc hash</td>\n    </tr>\n    <tr>\n      <th>1986</th>\n      <td>1986</td>\n      <td>help2man</td>\n      <td>16d420a69b74f3ec081ffae840653e2246ab4758d85e38...</td>\n      <td>20063</td>\n      <td>{'ssdeep': '384:sBLdkCCJ8rwQ0EvrX+rjZbOeL3npSe...</td>\n      <td>sdhash hash</td>\n      <td>{'tlsh': 'T12C92F905EA1A8677B25301F77FDAA4C097...</td>\n      <td>Machoc hash</td>\n    </tr>\n    <tr>\n      <th>1987</th>\n      <td>1987</td>\n      <td>help2man</td>\n      <td>982697334fef2dab34b4393832e7011a74a92ff05fd426...</td>\n      <td>20051</td>\n      <td>{'ssdeep': '384:sDLjOCCJ8/eQrvPX+rjZb2OL3npSeL...</td>\n      <td>sdhash hash</td>\n      <td>{'tlsh': 'T192920A04EA1A8677B25301F77FDA94C097...</td>\n      <td>Machoc hash</td>\n    </tr>\n    <tr>\n      <th>1988</th>\n      <td>1988</td>\n      <td>ChimPipe</td>\n      <td>6cbb727cbfb1fb6335e4439ae7810e143e1bcc69b05ca0...</td>\n      <td>76135</td>\n      <td>{'ssdeep': '1536:Sw5j4LB3dUalDarob+tltydxgjmzB...</td>\n      <td>sdhash hash</td>\n      <td>{'tlsh': 'T101734B13B0959D7AC4478A301AC7823B99...</td>\n      <td>Machoc hash</td>\n    </tr>\n    <tr>\n      <th>1989</th>\n      <td>1989</td>\n      <td>jbigkit</td>\n      <td>67855fe5ed323498b1e1a1c9f0a8b2b8b235bb2b4f3a4f...</td>\n      <td>21544</td>\n      <td>{'ssdeep': '192:GTJmX1ws6CWEORGArDqE/1LyZAntTq...</td>\n      <td>sdhash hash</td>\n      <td>{'tlsh': 'T10BA21827E3815876CDC5413451A74629B1...</td>\n      <td>Machoc hash</td>\n    </tr>\n  </tbody>\n</table>\n<p>1990 rows × 8 columns</p>\n</div>"
     },
     "execution_count": 846,
     "metadata": {},
     "output_type": "execute_result"
    }
   ],
   "source": [
    "df"
   ]
  },
  {
   "cell_type": "code",
   "execution_count": 847,
   "id": "9b46196621f10368",
   "metadata": {
    "collapsed": false,
    "ExecuteTime": {
     "end_time": "2023-12-02T17:46:23.658126Z",
     "start_time": "2023-12-02T17:46:23.653048Z"
    }
   },
   "outputs": [],
   "source": [
    "family_counts = df['family'].value_counts()\n",
    "\n",
    "# Filter the families with more than one entry\n",
    "scicore_filtered = df[df['family'].map(family_counts) > 1]"
   ]
  },
  {
   "cell_type": "markdown",
   "id": "c1bc96c0b446a978",
   "metadata": {
    "collapsed": false
   },
   "source": [
    "# Scicore Filtered\n",
    "\n",
    "This is the filtered dataset with only families that have more than one entry. Since comparing the binary to itself can be done with SHA256, I will skip the families with only 1 entry."
   ]
  },
  {
   "cell_type": "code",
   "execution_count": 848,
   "id": "4a8d50374c3d4cc8",
   "metadata": {
    "collapsed": false,
    "ExecuteTime": {
     "end_time": "2023-12-02T17:46:23.671999Z",
     "start_time": "2023-12-02T17:46:23.663242Z"
    }
   },
   "outputs": [
    {
     "data": {
      "text/plain": "       _id          family                                             SHA256  \\\n0        0         DIAMOND  bdbbc7d10475610a47665613a15b523692f2e586e495bf...   \n1        1         DIAMOND  3e5b9caaa8ec0488d0ef6649fa3205af16cd286921fdf3...   \n2        2         DIAMOND  3e7c7a7415567a30a6131c959448e136c1c4cd25e2755d...   \n3        3         DIAMOND  6336bd767371ef854def756641f8af86dd591e62170eb8...   \n5        5  RStudio-Server  8ed496fd927bf12ab2680275d12ae8d239c77f426345e8...   \n...    ...             ...                                                ...   \n1983  1983        help2man  79bbee7e82e8cab0f238bc135ec79543a071371cddeb11...   \n1984  1984        help2man  2a1400af01f63f02b64889eb203ed60eee4014a4d4ded2...   \n1985  1985        help2man  4b4f9faa682356601be5fb4ecd94d0761b41a877aebe42...   \n1986  1986        help2man  16d420a69b74f3ec081ffae840653e2246ab4758d85e38...   \n1987  1987        help2man  982697334fef2dab34b4393832e7011a74a92ff05fd426...   \n\n      file_size                                             ssdeep  \\\n0       1744592  {'ssdeep': '24576:0ZgkO8W6krEazzEHRyE5fx5j0Gkm...   \n1       1264648  {'ssdeep': '24576:N7RayWHeZhpVZNmHQ/0R223Vcqem...   \n2       7963768  {'ssdeep': '98304:O4g2u6YzoSU6Zr5CqeWRP07lRNMc...   \n3       1599192  {'ssdeep': '24576:39vHSut4l6xFkIRp1IzwbIPGVild...   \n5          4364  {'ssdeep': '96:mKNT20vznhw3tngiBbGBsek3Kfy2wy3...   \n...         ...                                                ...   \n1983      19871  {'ssdeep': '384:sALj4CCJ8/eQyWvPX+ejZbCOL3npSe...   \n1984      19896  {'ssdeep': '384:svLjrCCJ8/eQrvPX+ejZbCOL3npSeL...   \n1985      20063  {'ssdeep': '384:sBLdhCCJ8rwQ0EvrX+rjZbOeL3npSe...   \n1986      20063  {'ssdeep': '384:sBLdkCCJ8rwQ0EvrX+rjZbOeL3npSe...   \n1987      20051  {'ssdeep': '384:sDLjOCCJ8/eQrvPX+rjZb2OL3npSeL...   \n\n           sdhash                                               tlsh  \\\n0     sdhash hash  {'tlsh': 'T170858D1B66820CB9C492D53467E797F268...   \n1     sdhash hash  {'tlsh': 'T1FB457E47FAC358A8C097D538466FA1367A...   \n2     sdhash hash  {'tlsh': 'T1A3868E03E687A468C8A6C43813DB91B3ED...   \n3     sdhash hash  {'tlsh': 'T112759F1B6BA208ADC892D53457E796F26C...   \n5     sdhash hash  {'tlsh': 'T150918C52B0542BB67974A378DBB71467E3...   \n...           ...                                                ...   \n1983  sdhash hash  {'tlsh': 'T13092F805EA2A8637B15301F77FDA54D09B...   \n1984  sdhash hash  {'tlsh': 'T1EC92F905EA2A8637B15301F77FDA54C09B...   \n1985  sdhash hash  {'tlsh': 'T16B92F905EA1A8677B25301F77FDAA4C097...   \n1986  sdhash hash  {'tlsh': 'T12C92F905EA1A8677B25301F77FDAA4C097...   \n1987  sdhash hash  {'tlsh': 'T192920A04EA1A8677B25301F77FDA94C097...   \n\n           machoc  \n0     Machoc hash  \n1     Machoc hash  \n2     Machoc hash  \n3     Machoc hash  \n5     Machoc hash  \n...           ...  \n1983  Machoc hash  \n1984  Machoc hash  \n1985  Machoc hash  \n1986  Machoc hash  \n1987  Machoc hash  \n\n[1664 rows x 8 columns]",
      "text/html": "<div>\n<style scoped>\n    .dataframe tbody tr th:only-of-type {\n        vertical-align: middle;\n    }\n\n    .dataframe tbody tr th {\n        vertical-align: top;\n    }\n\n    .dataframe thead th {\n        text-align: right;\n    }\n</style>\n<table border=\"1\" class=\"dataframe\">\n  <thead>\n    <tr style=\"text-align: right;\">\n      <th></th>\n      <th>_id</th>\n      <th>family</th>\n      <th>SHA256</th>\n      <th>file_size</th>\n      <th>ssdeep</th>\n      <th>sdhash</th>\n      <th>tlsh</th>\n      <th>machoc</th>\n    </tr>\n  </thead>\n  <tbody>\n    <tr>\n      <th>0</th>\n      <td>0</td>\n      <td>DIAMOND</td>\n      <td>bdbbc7d10475610a47665613a15b523692f2e586e495bf...</td>\n      <td>1744592</td>\n      <td>{'ssdeep': '24576:0ZgkO8W6krEazzEHRyE5fx5j0Gkm...</td>\n      <td>sdhash hash</td>\n      <td>{'tlsh': 'T170858D1B66820CB9C492D53467E797F268...</td>\n      <td>Machoc hash</td>\n    </tr>\n    <tr>\n      <th>1</th>\n      <td>1</td>\n      <td>DIAMOND</td>\n      <td>3e5b9caaa8ec0488d0ef6649fa3205af16cd286921fdf3...</td>\n      <td>1264648</td>\n      <td>{'ssdeep': '24576:N7RayWHeZhpVZNmHQ/0R223Vcqem...</td>\n      <td>sdhash hash</td>\n      <td>{'tlsh': 'T1FB457E47FAC358A8C097D538466FA1367A...</td>\n      <td>Machoc hash</td>\n    </tr>\n    <tr>\n      <th>2</th>\n      <td>2</td>\n      <td>DIAMOND</td>\n      <td>3e7c7a7415567a30a6131c959448e136c1c4cd25e2755d...</td>\n      <td>7963768</td>\n      <td>{'ssdeep': '98304:O4g2u6YzoSU6Zr5CqeWRP07lRNMc...</td>\n      <td>sdhash hash</td>\n      <td>{'tlsh': 'T1A3868E03E687A468C8A6C43813DB91B3ED...</td>\n      <td>Machoc hash</td>\n    </tr>\n    <tr>\n      <th>3</th>\n      <td>3</td>\n      <td>DIAMOND</td>\n      <td>6336bd767371ef854def756641f8af86dd591e62170eb8...</td>\n      <td>1599192</td>\n      <td>{'ssdeep': '24576:39vHSut4l6xFkIRp1IzwbIPGVild...</td>\n      <td>sdhash hash</td>\n      <td>{'tlsh': 'T112759F1B6BA208ADC892D53457E796F26C...</td>\n      <td>Machoc hash</td>\n    </tr>\n    <tr>\n      <th>5</th>\n      <td>5</td>\n      <td>RStudio-Server</td>\n      <td>8ed496fd927bf12ab2680275d12ae8d239c77f426345e8...</td>\n      <td>4364</td>\n      <td>{'ssdeep': '96:mKNT20vznhw3tngiBbGBsek3Kfy2wy3...</td>\n      <td>sdhash hash</td>\n      <td>{'tlsh': 'T150918C52B0542BB67974A378DBB71467E3...</td>\n      <td>Machoc hash</td>\n    </tr>\n    <tr>\n      <th>...</th>\n      <td>...</td>\n      <td>...</td>\n      <td>...</td>\n      <td>...</td>\n      <td>...</td>\n      <td>...</td>\n      <td>...</td>\n      <td>...</td>\n    </tr>\n    <tr>\n      <th>1983</th>\n      <td>1983</td>\n      <td>help2man</td>\n      <td>79bbee7e82e8cab0f238bc135ec79543a071371cddeb11...</td>\n      <td>19871</td>\n      <td>{'ssdeep': '384:sALj4CCJ8/eQyWvPX+ejZbCOL3npSe...</td>\n      <td>sdhash hash</td>\n      <td>{'tlsh': 'T13092F805EA2A8637B15301F77FDA54D09B...</td>\n      <td>Machoc hash</td>\n    </tr>\n    <tr>\n      <th>1984</th>\n      <td>1984</td>\n      <td>help2man</td>\n      <td>2a1400af01f63f02b64889eb203ed60eee4014a4d4ded2...</td>\n      <td>19896</td>\n      <td>{'ssdeep': '384:svLjrCCJ8/eQrvPX+ejZbCOL3npSeL...</td>\n      <td>sdhash hash</td>\n      <td>{'tlsh': 'T1EC92F905EA2A8637B15301F77FDA54C09B...</td>\n      <td>Machoc hash</td>\n    </tr>\n    <tr>\n      <th>1985</th>\n      <td>1985</td>\n      <td>help2man</td>\n      <td>4b4f9faa682356601be5fb4ecd94d0761b41a877aebe42...</td>\n      <td>20063</td>\n      <td>{'ssdeep': '384:sBLdhCCJ8rwQ0EvrX+rjZbOeL3npSe...</td>\n      <td>sdhash hash</td>\n      <td>{'tlsh': 'T16B92F905EA1A8677B25301F77FDAA4C097...</td>\n      <td>Machoc hash</td>\n    </tr>\n    <tr>\n      <th>1986</th>\n      <td>1986</td>\n      <td>help2man</td>\n      <td>16d420a69b74f3ec081ffae840653e2246ab4758d85e38...</td>\n      <td>20063</td>\n      <td>{'ssdeep': '384:sBLdkCCJ8rwQ0EvrX+rjZbOeL3npSe...</td>\n      <td>sdhash hash</td>\n      <td>{'tlsh': 'T12C92F905EA1A8677B25301F77FDAA4C097...</td>\n      <td>Machoc hash</td>\n    </tr>\n    <tr>\n      <th>1987</th>\n      <td>1987</td>\n      <td>help2man</td>\n      <td>982697334fef2dab34b4393832e7011a74a92ff05fd426...</td>\n      <td>20051</td>\n      <td>{'ssdeep': '384:sDLjOCCJ8/eQrvPX+rjZb2OL3npSeL...</td>\n      <td>sdhash hash</td>\n      <td>{'tlsh': 'T192920A04EA1A8677B25301F77FDA94C097...</td>\n      <td>Machoc hash</td>\n    </tr>\n  </tbody>\n</table>\n<p>1664 rows × 8 columns</p>\n</div>"
     },
     "execution_count": 848,
     "metadata": {},
     "output_type": "execute_result"
    }
   ],
   "source": [
    "scicore_filtered"
   ]
  },
  {
   "cell_type": "code",
   "execution_count": 849,
   "id": "f0ea6c1ac88ec6a6",
   "metadata": {
    "collapsed": false,
    "ExecuteTime": {
     "end_time": "2023-12-02T17:46:23.690910Z",
     "start_time": "2023-12-02T17:46:23.667294Z"
    }
   },
   "outputs": [],
   "source": [
    "original_count = df.shape[0]\n",
    "\n",
    "# Count the occurrences of each family\n",
    "family_counts = df['family'].value_counts()\n",
    "\n",
    "# Filter the DataFrame to keep families with more than one entry\n",
    "scicore_filtered = df[df['family'].map(family_counts) > 1]\n",
    "\n",
    "# Get the new number of rows after filtering\n",
    "filtered_count = scicore_filtered.shape[0]\n",
    "\n",
    "# Identify the families that were removed\n",
    "removed_families = family_counts[family_counts == 1].index.tolist()\n",
    "\n",
    "# Print the results\n",
    "#print(f\"Original DataFrame had {original_count} rows.\")\n",
    "#print(f\"Filtered DataFrame has {filtered_count} rows.\")\n",
    "#print(f\"Families removed (only had 1 entry): {removed_families}\")\n"
   ]
  },
  {
   "cell_type": "markdown",
   "id": "725b0752d2259e5a",
   "metadata": {
    "collapsed": false
   },
   "source": [
    "Example: Get the tlsh hash of the first entry (DIAMOND) and compare to all other entries."
   ]
  },
  {
   "cell_type": "code",
   "execution_count": 850,
   "id": "b6601cb5ea2b2ede",
   "metadata": {
    "collapsed": false,
    "ExecuteTime": {
     "end_time": "2023-12-02T17:46:23.716989Z",
     "start_time": "2023-12-02T17:46:23.673110Z"
    }
   },
   "outputs": [],
   "source": [
    "from joblib import Parallel, delayed\n",
    "\n",
    "def compare_sample(index, hasher):\n",
    "    target_hash = scicore_concat.iloc[index][hasher][hasher]\n",
    "    scores = []\n",
    "\n",
    "    def compute_score(row):\n",
    "        if hasher == \"tlsh\":\n",
    "            return [row.name, row[\"family\"], int(tlsh.diff(target_hash, row[hasher][hasher]))]\n",
    "        elif hasher == \"ssdeep\":\n",
    "            return [row.name, row[\"family\"], int(ssdeep.compare(target_hash, row[hasher][hasher]))]\n",
    "\n",
    "    scores = Parallel(n_jobs=-1)(delayed(compute_score)(row) for _, row in scicore_filtered.iterrows())\n",
    "\n",
    "    return pd.DataFrame(scores, columns=[\"index\", \"family\", \"score\"])\n"
   ]
  },
  {
   "cell_type": "markdown",
   "id": "5c7ab9630a599bb8",
   "metadata": {
    "collapsed": false
   },
   "source": [
    "# Score\n",
    "\n",
    "For TLSH, the score can go from 0 to as high as thousands. Depending on the threshold, we can filter out the entries that are not a candidate for a match, because of the False Positive rate and the True Positive rate. Reference: TLSH paper"
   ]
  },
  {
   "cell_type": "code",
   "execution_count": 851,
   "id": "771a76ce5b670a95",
   "metadata": {
    "collapsed": false,
    "ExecuteTime": {
     "end_time": "2023-12-02T17:46:23.749195Z",
     "start_time": "2023-12-02T17:46:23.678763Z"
    }
   },
   "outputs": [
    {
     "data": {
      "text/plain": "   index   family  score\n3      3  DIAMOND    100",
      "text/html": "<div>\n<style scoped>\n    .dataframe tbody tr th:only-of-type {\n        vertical-align: middle;\n    }\n\n    .dataframe tbody tr th {\n        vertical-align: top;\n    }\n\n    .dataframe thead th {\n        text-align: right;\n    }\n</style>\n<table border=\"1\" class=\"dataframe\">\n  <thead>\n    <tr style=\"text-align: right;\">\n      <th></th>\n      <th>index</th>\n      <th>family</th>\n      <th>score</th>\n    </tr>\n  </thead>\n  <tbody>\n    <tr>\n      <th>3</th>\n      <td>3</td>\n      <td>DIAMOND</td>\n      <td>100</td>\n    </tr>\n  </tbody>\n</table>\n</div>"
     },
     "execution_count": 851,
     "metadata": {},
     "output_type": "execute_result"
    }
   ],
   "source": [
    "perf"
   ]
  },
  {
   "cell_type": "markdown",
   "id": "5d27b505468a4d23",
   "metadata": {
    "collapsed": false
   },
   "source": [
    "# Comparison\n",
    "\n",
    "The idea now is to first see how the hashes are matched on their own families.\n",
    "Example: Family DIAMOND hashes get only compared to itself to see how the score is distributed.\n",
    "\n",
    "`family_scores` is for TLSH\n",
    "`fam_sco_ssdeep` is for ssdeep"
   ]
  },
  {
   "cell_type": "markdown",
   "id": "b292b05aa65d6e14",
   "metadata": {
    "collapsed": false
   },
   "source": [
    "## TLSH"
   ]
  },
  {
   "cell_type": "code",
   "execution_count": 852,
   "id": "40c548a5fe3a8bb7",
   "metadata": {
    "collapsed": false,
    "ExecuteTime": {
     "end_time": "2023-12-02T17:46:24.118743Z",
     "start_time": "2023-12-02T17:46:23.685087Z"
    }
   },
   "outputs": [],
   "source": [
    "import itertools\n",
    "\n",
    "family_scores = pd.DataFrame(columns=[\"family\", \"values\", \"mean\", \"median\", \"std\", \"amount\"])\n",
    "fam_sco_ssdeep = pd.DataFrame(columns=[\"family\", \"values\", \"mean\", \"median\", \"std\", \"amount\"])\n",
    "for k,fam in enumerate(scicore_filtered[\"family\"].unique()):\n",
    "    values = []\n",
    "    s_values = []\n",
    "    tmp = scicore_filtered[scicore_filtered[\"family\"] == fam][\"tlsh\"].tolist()\n",
    "    tmps = scicore_filtered[scicore_filtered[\"family\"] == fam][\"ssdeep\"].tolist()\n",
    "    combinations = list(itertools.combinations(tmp, 2))\n",
    "    s_combinations = list(itertools.combinations(tmps, 2))\n",
    "    for a, b in combinations:\n",
    "        g = tlsh.diff(a[\"tlsh\"],b[\"tlsh\"])\n",
    "        values.append(g)\n",
    "        \n",
    "    for a, b in s_combinations:\n",
    "        f = ssdeep.compare(a[\"ssdeep\"],b[\"ssdeep\"])\n",
    "        s_values.append(f)\n",
    "    family_scores.loc[k] = [fam,values,np.mean(values), np.median(values), np.std(values),len(values)]\n",
    "    fam_sco_ssdeep.loc[k] = [fam,s_values,np.mean(s_values), np.median(s_values), np.std(s_values),len(s_values)]"
   ]
  },
  {
   "cell_type": "code",
   "execution_count": 853,
   "id": "3db1127341c3bf20",
   "metadata": {
    "collapsed": false,
    "ExecuteTime": {
     "end_time": "2023-12-02T17:46:24.133Z",
     "start_time": "2023-12-02T17:46:24.126406Z"
    }
   },
   "outputs": [
    {
     "data": {
      "text/plain": "             family                                             values  \\\n0           DIAMOND                      [128, 260, 41, 320, 129, 271]   \n1    RStudio-Server  [17, 4, 22, 164, 6, 23, 16, 7, 20, 45, 190, 22...   \n4             libgd  [206, 169, 386, 136, 140, 471, 43, 460, 121, 447]   \n6               ant  [13, 0, 99, 99, 99, 0, 13, 86, 86, 86, 13, 99,...   \n7            HTSlib  [101, 125, 90, 58, 35, 30, 244, 60, 39, 79, 10...   \n..              ...                                                ...   \n327            ORCA             [3, 3, 1, 472, 0, 3, 472, 3, 472, 472]   \n328             Qt5                           [23, 55, 37, 67, 49, 45]   \n331          Salmon  [90, 75, 113, 47, 63, 81, 384, 57, 36, 74, 76,...   \n332         SeqPrep  [151, 174, 163, 184, 153, 186, 46, 34, 51, 7, ...   \n334        help2man  [21, 3, 0, 0, 4, 12, 12, 21, 21, 21, 21, 10, 8...   \n\n           mean  median         std  amount  \n0    191.500000   194.5   98.415361       6  \n1     49.583333    22.0   61.029763      36  \n4    257.900000   187.5  155.789891      10  \n6     57.428571    86.0   44.618565      21  \n7    125.321429   102.5   85.404940      28  \n..          ...     ...         ...     ...  \n327  190.100000     3.0  230.172305      10  \n328   46.000000    47.0   13.796135       6  \n331  162.464286    85.5  136.939633      28  \n332   76.904762    48.0   59.995162      21  \n334   10.055556    10.5    7.106118      36  \n\n[155 rows x 6 columns]",
      "text/html": "<div>\n<style scoped>\n    .dataframe tbody tr th:only-of-type {\n        vertical-align: middle;\n    }\n\n    .dataframe tbody tr th {\n        vertical-align: top;\n    }\n\n    .dataframe thead th {\n        text-align: right;\n    }\n</style>\n<table border=\"1\" class=\"dataframe\">\n  <thead>\n    <tr style=\"text-align: right;\">\n      <th></th>\n      <th>family</th>\n      <th>values</th>\n      <th>mean</th>\n      <th>median</th>\n      <th>std</th>\n      <th>amount</th>\n    </tr>\n  </thead>\n  <tbody>\n    <tr>\n      <th>0</th>\n      <td>DIAMOND</td>\n      <td>[128, 260, 41, 320, 129, 271]</td>\n      <td>191.500000</td>\n      <td>194.5</td>\n      <td>98.415361</td>\n      <td>6</td>\n    </tr>\n    <tr>\n      <th>1</th>\n      <td>RStudio-Server</td>\n      <td>[17, 4, 22, 164, 6, 23, 16, 7, 20, 45, 190, 22...</td>\n      <td>49.583333</td>\n      <td>22.0</td>\n      <td>61.029763</td>\n      <td>36</td>\n    </tr>\n    <tr>\n      <th>4</th>\n      <td>libgd</td>\n      <td>[206, 169, 386, 136, 140, 471, 43, 460, 121, 447]</td>\n      <td>257.900000</td>\n      <td>187.5</td>\n      <td>155.789891</td>\n      <td>10</td>\n    </tr>\n    <tr>\n      <th>6</th>\n      <td>ant</td>\n      <td>[13, 0, 99, 99, 99, 0, 13, 86, 86, 86, 13, 99,...</td>\n      <td>57.428571</td>\n      <td>86.0</td>\n      <td>44.618565</td>\n      <td>21</td>\n    </tr>\n    <tr>\n      <th>7</th>\n      <td>HTSlib</td>\n      <td>[101, 125, 90, 58, 35, 30, 244, 60, 39, 79, 10...</td>\n      <td>125.321429</td>\n      <td>102.5</td>\n      <td>85.404940</td>\n      <td>28</td>\n    </tr>\n    <tr>\n      <th>...</th>\n      <td>...</td>\n      <td>...</td>\n      <td>...</td>\n      <td>...</td>\n      <td>...</td>\n      <td>...</td>\n    </tr>\n    <tr>\n      <th>327</th>\n      <td>ORCA</td>\n      <td>[3, 3, 1, 472, 0, 3, 472, 3, 472, 472]</td>\n      <td>190.100000</td>\n      <td>3.0</td>\n      <td>230.172305</td>\n      <td>10</td>\n    </tr>\n    <tr>\n      <th>328</th>\n      <td>Qt5</td>\n      <td>[23, 55, 37, 67, 49, 45]</td>\n      <td>46.000000</td>\n      <td>47.0</td>\n      <td>13.796135</td>\n      <td>6</td>\n    </tr>\n    <tr>\n      <th>331</th>\n      <td>Salmon</td>\n      <td>[90, 75, 113, 47, 63, 81, 384, 57, 36, 74, 76,...</td>\n      <td>162.464286</td>\n      <td>85.5</td>\n      <td>136.939633</td>\n      <td>28</td>\n    </tr>\n    <tr>\n      <th>332</th>\n      <td>SeqPrep</td>\n      <td>[151, 174, 163, 184, 153, 186, 46, 34, 51, 7, ...</td>\n      <td>76.904762</td>\n      <td>48.0</td>\n      <td>59.995162</td>\n      <td>21</td>\n    </tr>\n    <tr>\n      <th>334</th>\n      <td>help2man</td>\n      <td>[21, 3, 0, 0, 4, 12, 12, 21, 21, 21, 21, 10, 8...</td>\n      <td>10.055556</td>\n      <td>10.5</td>\n      <td>7.106118</td>\n      <td>36</td>\n    </tr>\n  </tbody>\n</table>\n<p>155 rows × 6 columns</p>\n</div>"
     },
     "execution_count": 853,
     "metadata": {},
     "output_type": "execute_result"
    }
   ],
   "source": [
    "# Ignore the ones with only one result\n",
    "family_scores.sort_values('amount')\n",
    "family_scores_tlsh = family_scores[family_scores[\"amount\"] > 3]\n",
    "family_scores_tlsh"
   ]
  },
  {
   "cell_type": "code",
   "execution_count": 854,
   "id": "321495badce1390b",
   "metadata": {
    "collapsed": false,
    "ExecuteTime": {
     "end_time": "2023-12-02T17:46:24.232321Z",
     "start_time": "2023-12-02T17:46:24.134677Z"
    }
   },
   "outputs": [
    {
     "data": {
      "text/plain": "<Figure size 640x480 with 1 Axes>",
      "image/png": "[encoded data removed]"
     },
     "metadata": {},
     "output_type": "display_data"
    }
   ],
   "source": [
    "family_scores_tlsh[[\"mean\",\"median\",\"std\"]].boxplot()\n",
    "plt.title(\"Boxplot of the distribution of TLSH scores\")\n",
    "plt.show()"
   ]
  },
  {
   "cell_type": "markdown",
   "id": "43b28a0854e036bc",
   "metadata": {
    "collapsed": false
   },
   "source": [
    "Comparing the scores of the families, the distribution is comparable to the result of the paper of TLSH. The prediction starts to be acceptable at around 80 and the false postive rate starts to be to high after 150 in the paper. Here we can see a similar trend.\n",
    "\n",
    "# TLSH Prediction"
   ]
  },
  {
   "cell_type": "code",
   "execution_count": 855,
   "id": "c4d59853a571b384",
   "metadata": {
    "collapsed": false,
    "ExecuteTime": {
     "end_time": "2023-12-02T17:46:24.232512Z",
     "start_time": "2023-12-02T17:46:24.221839Z"
    }
   },
   "outputs": [],
   "source": [
    "def tlsh_predictor(threshold=0):\n",
    "    predict = pd.DataFrame(index=range(family_scores_tlsh.shape[0]), columns=[\"score\", \"prediction\", \"true_value\"])\n",
    "    for i in range(0,scicore_filtered.shape[0],1):\n",
    "        score = 1000\n",
    "        k = 0\n",
    "        for j in range(0,scicore_filtered.shape[0],1):\n",
    "            if i == j:\n",
    "                continue\n",
    "            tmp = tlsh.diff(scicore_filtered.iloc[i][\"tlsh\"][\"tlsh\"],scicore_filtered.iloc[j][\"tlsh\"][\"tlsh\"])\n",
    "            if score > tmp > threshold:\n",
    "                score = tmp\n",
    "                k = j\n",
    "            \n",
    "        #print(f\"score: {score}, prediction: {scicore_filtered.iloc[i]['family']}, true value: {scicore_filtered.iloc[k]['family']}\")\n",
    "        predict.loc[i] = [score, scicore_filtered.iloc[i][\"family\"], scicore_filtered.iloc[k][\"family\"]]\n",
    "    return predict\n"
   ]
  },
  {
   "cell_type": "markdown",
   "id": "ceb9c3ec706dfd63",
   "metadata": {
    "collapsed": false
   },
   "source": [
    "When not giving any threshold we receive a true positive rate of $81\\%$ and a false positive rate of $19\\%$. Compared to SSDEEP this is a great result."
   ]
  },
  {
   "cell_type": "markdown",
   "id": "f3e4df607a5b0e0c",
   "metadata": {
    "collapsed": false
   },
   "source": [
    "# ROC Curve\n",
    "\n",
    "To correctly get a ROC curve, 4 values are essential: TP, FP, TN, FN.\n",
    "\n",
    "The problem currently is, that I do not have other samples which can have no match. All the samples have a match and therefore the TN rate is 0. Thus, I will add the same amount of malware samples and concatenate with the scicore db."
   ]
  },
  {
   "cell_type": "code",
   "execution_count": 856,
   "id": "99377c5d623bc51d",
   "metadata": {
    "collapsed": false,
    "ExecuteTime": {
     "end_time": "2023-12-02T17:46:24.241918Z",
     "start_time": "2023-12-02T17:46:24.232420Z"
    }
   },
   "outputs": [
    {
     "data": {
      "text/plain": "       _id          family                                             SHA256  \\\n0        0         DIAMOND  bdbbc7d10475610a47665613a15b523692f2e586e495bf...   \n1        1         DIAMOND  3e5b9caaa8ec0488d0ef6649fa3205af16cd286921fdf3...   \n2        2         DIAMOND  3e7c7a7415567a30a6131c959448e136c1c4cd25e2755d...   \n3        3         DIAMOND  6336bd767371ef854def756641f8af86dd591e62170eb8...   \n5        5  RStudio-Server  8ed496fd927bf12ab2680275d12ae8d239c77f426345e8...   \n...    ...             ...                                                ...   \n1983  1983        help2man  79bbee7e82e8cab0f238bc135ec79543a071371cddeb11...   \n1984  1984        help2man  2a1400af01f63f02b64889eb203ed60eee4014a4d4ded2...   \n1985  1985        help2man  4b4f9faa682356601be5fb4ecd94d0761b41a877aebe42...   \n1986  1986        help2man  16d420a69b74f3ec081ffae840653e2246ab4758d85e38...   \n1987  1987        help2man  982697334fef2dab34b4393832e7011a74a92ff05fd426...   \n\n      file_size                                             ssdeep  \\\n0       1744592  {'ssdeep': '24576:0ZgkO8W6krEazzEHRyE5fx5j0Gkm...   \n1       1264648  {'ssdeep': '24576:N7RayWHeZhpVZNmHQ/0R223Vcqem...   \n2       7963768  {'ssdeep': '98304:O4g2u6YzoSU6Zr5CqeWRP07lRNMc...   \n3       1599192  {'ssdeep': '24576:39vHSut4l6xFkIRp1IzwbIPGVild...   \n5          4364  {'ssdeep': '96:mKNT20vznhw3tngiBbGBsek3Kfy2wy3...   \n...         ...                                                ...   \n1983      19871  {'ssdeep': '384:sALj4CCJ8/eQyWvPX+ejZbCOL3npSe...   \n1984      19896  {'ssdeep': '384:svLjrCCJ8/eQrvPX+ejZbCOL3npSeL...   \n1985      20063  {'ssdeep': '384:sBLdhCCJ8rwQ0EvrX+rjZbOeL3npSe...   \n1986      20063  {'ssdeep': '384:sBLdkCCJ8rwQ0EvrX+rjZbOeL3npSe...   \n1987      20051  {'ssdeep': '384:sDLjOCCJ8/eQrvPX+rjZb2OL3npSeL...   \n\n           sdhash                                               tlsh  \\\n0     sdhash hash  {'tlsh': 'T170858D1B66820CB9C492D53467E797F268...   \n1     sdhash hash  {'tlsh': 'T1FB457E47FAC358A8C097D538466FA1367A...   \n2     sdhash hash  {'tlsh': 'T1A3868E03E687A468C8A6C43813DB91B3ED...   \n3     sdhash hash  {'tlsh': 'T112759F1B6BA208ADC892D53457E796F26C...   \n5     sdhash hash  {'tlsh': 'T150918C52B0542BB67974A378DBB71467E3...   \n...           ...                                                ...   \n1983  sdhash hash  {'tlsh': 'T13092F805EA2A8637B15301F77FDA54D09B...   \n1984  sdhash hash  {'tlsh': 'T1EC92F905EA2A8637B15301F77FDA54C09B...   \n1985  sdhash hash  {'tlsh': 'T16B92F905EA1A8677B25301F77FDAA4C097...   \n1986  sdhash hash  {'tlsh': 'T12C92F905EA1A8677B25301F77FDAA4C097...   \n1987  sdhash hash  {'tlsh': 'T192920A04EA1A8677B25301F77FDA94C097...   \n\n           machoc  malware  \n0     Machoc hash    False  \n1     Machoc hash    False  \n2     Machoc hash    False  \n3     Machoc hash    False  \n5     Machoc hash    False  \n...           ...      ...  \n1983  Machoc hash    False  \n1984  Machoc hash    False  \n1985  Machoc hash    False  \n1986  Machoc hash    False  \n1987  Machoc hash    False  \n\n[1664 rows x 9 columns]",
      "text/html": "<div>\n<style scoped>\n    .dataframe tbody tr th:only-of-type {\n        vertical-align: middle;\n    }\n\n    .dataframe tbody tr th {\n        vertical-align: top;\n    }\n\n    .dataframe thead th {\n        text-align: right;\n    }\n</style>\n<table border=\"1\" class=\"dataframe\">\n  <thead>\n    <tr style=\"text-align: right;\">\n      <th></th>\n      <th>_id</th>\n      <th>family</th>\n      <th>SHA256</th>\n      <th>file_size</th>\n      <th>ssdeep</th>\n      <th>sdhash</th>\n      <th>tlsh</th>\n      <th>machoc</th>\n      <th>malware</th>\n    </tr>\n  </thead>\n  <tbody>\n    <tr>\n      <th>0</th>\n      <td>0</td>\n      <td>DIAMOND</td>\n      <td>bdbbc7d10475610a47665613a15b523692f2e586e495bf...</td>\n      <td>1744592</td>\n      <td>{'ssdeep': '24576:0ZgkO8W6krEazzEHRyE5fx5j0Gkm...</td>\n      <td>sdhash hash</td>\n      <td>{'tlsh': 'T170858D1B66820CB9C492D53467E797F268...</td>\n      <td>Machoc hash</td>\n      <td>False</td>\n    </tr>\n    <tr>\n      <th>1</th>\n      <td>1</td>\n      <td>DIAMOND</td>\n      <td>3e5b9caaa8ec0488d0ef6649fa3205af16cd286921fdf3...</td>\n      <td>1264648</td>\n      <td>{'ssdeep': '24576:N7RayWHeZhpVZNmHQ/0R223Vcqem...</td>\n      <td>sdhash hash</td>\n      <td>{'tlsh': 'T1FB457E47FAC358A8C097D538466FA1367A...</td>\n      <td>Machoc hash</td>\n      <td>False</td>\n    </tr>\n    <tr>\n      <th>2</th>\n      <td>2</td>\n      <td>DIAMOND</td>\n      <td>3e7c7a7415567a30a6131c959448e136c1c4cd25e2755d...</td>\n      <td>7963768</td>\n      <td>{'ssdeep': '98304:O4g2u6YzoSU6Zr5CqeWRP07lRNMc...</td>\n      <td>sdhash hash</td>\n      <td>{'tlsh': 'T1A3868E03E687A468C8A6C43813DB91B3ED...</td>\n      <td>Machoc hash</td>\n      <td>False</td>\n    </tr>\n    <tr>\n      <th>3</th>\n      <td>3</td>\n      <td>DIAMOND</td>\n      <td>6336bd767371ef854def756641f8af86dd591e62170eb8...</td>\n      <td>1599192</td>\n      <td>{'ssdeep': '24576:39vHSut4l6xFkIRp1IzwbIPGVild...</td>\n      <td>sdhash hash</td>\n      <td>{'tlsh': 'T112759F1B6BA208ADC892D53457E796F26C...</td>\n      <td>Machoc hash</td>\n      <td>False</td>\n    </tr>\n    <tr>\n      <th>5</th>\n      <td>5</td>\n      <td>RStudio-Server</td>\n      <td>8ed496fd927bf12ab2680275d12ae8d239c77f426345e8...</td>\n      <td>4364</td>\n      <td>{'ssdeep': '96:mKNT20vznhw3tngiBbGBsek3Kfy2wy3...</td>\n      <td>sdhash hash</td>\n      <td>{'tlsh': 'T150918C52B0542BB67974A378DBB71467E3...</td>\n      <td>Machoc hash</td>\n      <td>False</td>\n    </tr>\n    <tr>\n      <th>...</th>\n      <td>...</td>\n      <td>...</td>\n      <td>...</td>\n      <td>...</td>\n      <td>...</td>\n      <td>...</td>\n      <td>...</td>\n      <td>...</td>\n      <td>...</td>\n    </tr>\n    <tr>\n      <th>1983</th>\n      <td>1983</td>\n      <td>help2man</td>\n      <td>79bbee7e82e8cab0f238bc135ec79543a071371cddeb11...</td>\n      <td>19871</td>\n      <td>{'ssdeep': '384:sALj4CCJ8/eQyWvPX+ejZbCOL3npSe...</td>\n      <td>sdhash hash</td>\n      <td>{'tlsh': 'T13092F805EA2A8637B15301F77FDA54D09B...</td>\n      <td>Machoc hash</td>\n      <td>False</td>\n    </tr>\n    <tr>\n      <th>1984</th>\n      <td>1984</td>\n      <td>help2man</td>\n      <td>2a1400af01f63f02b64889eb203ed60eee4014a4d4ded2...</td>\n      <td>19896</td>\n      <td>{'ssdeep': '384:svLjrCCJ8/eQrvPX+ejZbCOL3npSeL...</td>\n      <td>sdhash hash</td>\n      <td>{'tlsh': 'T1EC92F905EA2A8637B15301F77FDA54C09B...</td>\n      <td>Machoc hash</td>\n      <td>False</td>\n    </tr>\n    <tr>\n      <th>1985</th>\n      <td>1985</td>\n      <td>help2man</td>\n      <td>4b4f9faa682356601be5fb4ecd94d0761b41a877aebe42...</td>\n      <td>20063</td>\n      <td>{'ssdeep': '384:sBLdhCCJ8rwQ0EvrX+rjZbOeL3npSe...</td>\n      <td>sdhash hash</td>\n      <td>{'tlsh': 'T16B92F905EA1A8677B25301F77FDAA4C097...</td>\n      <td>Machoc hash</td>\n      <td>False</td>\n    </tr>\n    <tr>\n      <th>1986</th>\n      <td>1986</td>\n      <td>help2man</td>\n      <td>16d420a69b74f3ec081ffae840653e2246ab4758d85e38...</td>\n      <td>20063</td>\n      <td>{'ssdeep': '384:sBLdkCCJ8rwQ0EvrX+rjZbOeL3npSe...</td>\n      <td>sdhash hash</td>\n      <td>{'tlsh': 'T12C92F905EA1A8677B25301F77FDAA4C097...</td>\n      <td>Machoc hash</td>\n      <td>False</td>\n    </tr>\n    <tr>\n      <th>1987</th>\n      <td>1987</td>\n      <td>help2man</td>\n      <td>982697334fef2dab34b4393832e7011a74a92ff05fd426...</td>\n      <td>20051</td>\n      <td>{'ssdeep': '384:sDLjOCCJ8/eQrvPX+rjZb2OL3npSeL...</td>\n      <td>sdhash hash</td>\n      <td>{'tlsh': 'T192920A04EA1A8677B25301F77FDA94C097...</td>\n      <td>Machoc hash</td>\n      <td>False</td>\n    </tr>\n  </tbody>\n</table>\n<p>1664 rows × 9 columns</p>\n</div>"
     },
     "execution_count": 856,
     "metadata": {},
     "output_type": "execute_result"
    }
   ],
   "source": [
    "scicore_filtered[\"malware\"] = False\n",
    "scicore_filtered"
   ]
  },
  {
   "cell_type": "code",
   "execution_count": 857,
   "id": "2da36ab8708098c4",
   "metadata": {
    "collapsed": false,
    "ExecuteTime": {
     "end_time": "2023-12-02T17:46:24.298711Z",
     "start_time": "2023-12-02T17:46:24.236793Z"
    }
   },
   "outputs": [
    {
     "data": {
      "text/plain": "                          _id               family  \\\n0                           0              DIAMOND   \n1                           1              DIAMOND   \n2                           2              DIAMOND   \n3                           3              DIAMOND   \n5                           5       RStudio-Server   \n..                        ...                  ...   \n161  656387bb3624482ac9d22043             GandCrab   \n162  6563924f3624482ac9d2b007  LokiPasswordStealer   \n163  65637d583624482ac9d1d820             Bashlite   \n164  65637d963624482ac9d1dd0b             Bashlite   \n165  6563880b3624482ac9d227eb             GandCrab   \n\n                                                SHA256  file_size  \\\n0    bdbbc7d10475610a47665613a15b523692f2e586e495bf...    1744592   \n1    3e5b9caaa8ec0488d0ef6649fa3205af16cd286921fdf3...    1264648   \n2    3e7c7a7415567a30a6131c959448e136c1c4cd25e2755d...    7963768   \n3    6336bd767371ef854def756641f8af86dd591e62170eb8...    1599192   \n5    8ed496fd927bf12ab2680275d12ae8d239c77f426345e8...       4364   \n..                                                 ...        ...   \n161  448748449c0ca2753e5a777450eaa7de0e77192d9af93d...      71168   \n162  ac5cee6485958007296885d85f5fdbafaaf417d51c6d50...     663552   \n163  dc820effe24106cdd600dbe895650c46893c17907e892b...     126909   \n164  ebbe4ff412995823217f8ebfc6029ab379de1fa876cf4d...     144085   \n165  9c6caf853a3ea45b88181ee1fbd7f5d3653851e9861e06...      97712   \n\n                                                ssdeep       sdhash  \\\n0    {'ssdeep': '24576:0ZgkO8W6krEazzEHRyE5fx5j0Gkm...  sdhash hash   \n1    {'ssdeep': '24576:N7RayWHeZhpVZNmHQ/0R223Vcqem...  sdhash hash   \n2    {'ssdeep': '98304:O4g2u6YzoSU6Zr5CqeWRP07lRNMc...  sdhash hash   \n3    {'ssdeep': '24576:39vHSut4l6xFkIRp1IzwbIPGVild...  sdhash hash   \n5    {'ssdeep': '96:mKNT20vznhw3tngiBbGBsek3Kfy2wy3...  sdhash hash   \n..                                                 ...          ...   \n161  {'ssdeep': '1536:fZZZZZZZZZZZZpXzzzzzzzzzzzzV9...  sdhash hash   \n162  {'ssdeep': '1536:vzvQSZpGS4/31A6mQgL2eYCGDwRcM...  sdhash hash   \n163  {'ssdeep': '3072:MDM85GqkDjRnYy3+xdhQMXn3cEgr7...  sdhash hash   \n164  {'ssdeep': '3072:hwWF8zi9QOvb0Peh3nDSnpCRaXKue...  sdhash hash   \n165  {'ssdeep': '1536:BZZZZZZZZZZZZJOEDlwYSMQsGHxg0...  sdhash hash   \n\n                                                  tlsh       machoc  malware  \n0    {'tlsh': 'T170858D1B66820CB9C492D53467E797F268...  Machoc hash    False  \n1    {'tlsh': 'T1FB457E47FAC358A8C097D538466FA1367A...  Machoc hash    False  \n2    {'tlsh': 'T1A3868E03E687A468C8A6C43813DB91B3ED...  Machoc hash    False  \n3    {'tlsh': 'T112759F1B6BA208ADC892D53457E796F26C...  Machoc hash    False  \n5    {'tlsh': 'T150918C52B0542BB67974A378DBB71467E3...  Machoc hash    False  \n..                                                 ...          ...      ...  \n161  {'tlsh': 'T12F636A0EA2E1A193E1F357B9FA757E6544...  Machoc hash     True  \n162  {'tlsh': 'T15FE42A82B2A5C030F7B74DB2BB73A5B785...  Machoc hash     True  \n163  {'tlsh': 'T116C34B57D58AD7BFD0570AB901AFA27E05...  Machoc hash     True  \n164  {'tlsh': 'T169E328377191C9BBC05362B41ADBA6619C...  Machoc hash     True  \n165  {'tlsh': 'T1ACA37D24B1D276B3F1E269BAE6B47B1244...  Machoc hash     True  \n\n[1830 rows x 9 columns]",
      "text/html": "<div>\n<style scoped>\n    .dataframe tbody tr th:only-of-type {\n        vertical-align: middle;\n    }\n\n    .dataframe tbody tr th {\n        vertical-align: top;\n    }\n\n    .dataframe thead th {\n        text-align: right;\n    }\n</style>\n<table border=\"1\" class=\"dataframe\">\n  <thead>\n    <tr style=\"text-align: right;\">\n      <th></th>\n      <th>_id</th>\n      <th>family</th>\n      <th>SHA256</th>\n      <th>file_size</th>\n      <th>ssdeep</th>\n      <th>sdhash</th>\n      <th>tlsh</th>\n      <th>machoc</th>\n      <th>malware</th>\n    </tr>\n  </thead>\n  <tbody>\n    <tr>\n      <th>0</th>\n      <td>0</td>\n      <td>DIAMOND</td>\n      <td>bdbbc7d10475610a47665613a15b523692f2e586e495bf...</td>\n      <td>1744592</td>\n      <td>{'ssdeep': '24576:0ZgkO8W6krEazzEHRyE5fx5j0Gkm...</td>\n      <td>sdhash hash</td>\n      <td>{'tlsh': 'T170858D1B66820CB9C492D53467E797F268...</td>\n      <td>Machoc hash</td>\n      <td>False</td>\n    </tr>\n    <tr>\n      <th>1</th>\n      <td>1</td>\n      <td>DIAMOND</td>\n      <td>3e5b9caaa8ec0488d0ef6649fa3205af16cd286921fdf3...</td>\n      <td>1264648</td>\n      <td>{'ssdeep': '24576:N7RayWHeZhpVZNmHQ/0R223Vcqem...</td>\n      <td>sdhash hash</td>\n      <td>{'tlsh': 'T1FB457E47FAC358A8C097D538466FA1367A...</td>\n      <td>Machoc hash</td>\n      <td>False</td>\n    </tr>\n    <tr>\n      <th>2</th>\n      <td>2</td>\n      <td>DIAMOND</td>\n      <td>3e7c7a7415567a30a6131c959448e136c1c4cd25e2755d...</td>\n      <td>7963768</td>\n      <td>{'ssdeep': '98304:O4g2u6YzoSU6Zr5CqeWRP07lRNMc...</td>\n      <td>sdhash hash</td>\n      <td>{'tlsh': 'T1A3868E03E687A468C8A6C43813DB91B3ED...</td>\n      <td>Machoc hash</td>\n      <td>False</td>\n    </tr>\n    <tr>\n      <th>3</th>\n      <td>3</td>\n      <td>DIAMOND</td>\n      <td>6336bd767371ef854def756641f8af86dd591e62170eb8...</td>\n      <td>1599192</td>\n      <td>{'ssdeep': '24576:39vHSut4l6xFkIRp1IzwbIPGVild...</td>\n      <td>sdhash hash</td>\n      <td>{'tlsh': 'T112759F1B6BA208ADC892D53457E796F26C...</td>\n      <td>Machoc hash</td>\n      <td>False</td>\n    </tr>\n    <tr>\n      <th>5</th>\n      <td>5</td>\n      <td>RStudio-Server</td>\n      <td>8ed496fd927bf12ab2680275d12ae8d239c77f426345e8...</td>\n      <td>4364</td>\n      <td>{'ssdeep': '96:mKNT20vznhw3tngiBbGBsek3Kfy2wy3...</td>\n      <td>sdhash hash</td>\n      <td>{'tlsh': 'T150918C52B0542BB67974A378DBB71467E3...</td>\n      <td>Machoc hash</td>\n      <td>False</td>\n    </tr>\n    <tr>\n      <th>...</th>\n      <td>...</td>\n      <td>...</td>\n      <td>...</td>\n      <td>...</td>\n      <td>...</td>\n      <td>...</td>\n      <td>...</td>\n      <td>...</td>\n      <td>...</td>\n    </tr>\n    <tr>\n      <th>161</th>\n      <td>656387bb3624482ac9d22043</td>\n      <td>GandCrab</td>\n      <td>448748449c0ca2753e5a777450eaa7de0e77192d9af93d...</td>\n      <td>71168</td>\n      <td>{'ssdeep': '1536:fZZZZZZZZZZZZpXzzzzzzzzzzzzV9...</td>\n      <td>sdhash hash</td>\n      <td>{'tlsh': 'T12F636A0EA2E1A193E1F357B9FA757E6544...</td>\n      <td>Machoc hash</td>\n      <td>True</td>\n    </tr>\n    <tr>\n      <th>162</th>\n      <td>6563924f3624482ac9d2b007</td>\n      <td>LokiPasswordStealer</td>\n      <td>ac5cee6485958007296885d85f5fdbafaaf417d51c6d50...</td>\n      <td>663552</td>\n      <td>{'ssdeep': '1536:vzvQSZpGS4/31A6mQgL2eYCGDwRcM...</td>\n      <td>sdhash hash</td>\n      <td>{'tlsh': 'T15FE42A82B2A5C030F7B74DB2BB73A5B785...</td>\n      <td>Machoc hash</td>\n      <td>True</td>\n    </tr>\n    <tr>\n      <th>163</th>\n      <td>65637d583624482ac9d1d820</td>\n      <td>Bashlite</td>\n      <td>dc820effe24106cdd600dbe895650c46893c17907e892b...</td>\n      <td>126909</td>\n      <td>{'ssdeep': '3072:MDM85GqkDjRnYy3+xdhQMXn3cEgr7...</td>\n      <td>sdhash hash</td>\n      <td>{'tlsh': 'T116C34B57D58AD7BFD0570AB901AFA27E05...</td>\n      <td>Machoc hash</td>\n      <td>True</td>\n    </tr>\n    <tr>\n      <th>164</th>\n      <td>65637d963624482ac9d1dd0b</td>\n      <td>Bashlite</td>\n      <td>ebbe4ff412995823217f8ebfc6029ab379de1fa876cf4d...</td>\n      <td>144085</td>\n      <td>{'ssdeep': '3072:hwWF8zi9QOvb0Peh3nDSnpCRaXKue...</td>\n      <td>sdhash hash</td>\n      <td>{'tlsh': 'T169E328377191C9BBC05362B41ADBA6619C...</td>\n      <td>Machoc hash</td>\n      <td>True</td>\n    </tr>\n    <tr>\n      <th>165</th>\n      <td>6563880b3624482ac9d227eb</td>\n      <td>GandCrab</td>\n      <td>9c6caf853a3ea45b88181ee1fbd7f5d3653851e9861e06...</td>\n      <td>97712</td>\n      <td>{'ssdeep': '1536:BZZZZZZZZZZZZJOEDlwYSMQsGHxg0...</td>\n      <td>sdhash hash</td>\n      <td>{'tlsh': 'T1ACA37D24B1D276B3F1E269BAE6B47B1244...</td>\n      <td>Machoc hash</td>\n      <td>True</td>\n    </tr>\n  </tbody>\n</table>\n<p>1830 rows × 9 columns</p>\n</div>"
     },
     "execution_count": 857,
     "metadata": {},
     "output_type": "execute_result"
    }
   ],
   "source": [
    "size = scicore_filtered.shape[0] / 10\n",
    "malware = pd.DataFrame(list(db[\"families\"].aggregate([{\"$sample\": {\"size\": size}}])))\n",
    "malware[\"malware\"] = True\n",
    "malware\n",
    "scicore_concat = pd.concat([scicore_filtered, malware])\n",
    "\n",
    "scicore_concat"
   ]
  },
  {
   "cell_type": "markdown",
   "id": "f52b2b8d11c04de0",
   "metadata": {
    "collapsed": false
   },
   "source": [
    "### TLSH Prediction Concat\n",
    "To now correctly get the 4 essential values for the ROC curve, I will go through the concat dataset and compare to the scicore dataset. If a malware sample gets matched with a scicore one, then it is a FP. If no match gets found then it is a TN. If a scicore sample gets not matched to scicore dataset then it is a FN. If a scicore sample gets matched to a scicore sample then it is a TP."
   ]
  },
  {
   "cell_type": "code",
   "execution_count": 959,
   "id": "784d00c444751075",
   "metadata": {
    "collapsed": false,
    "ExecuteTime": {
     "end_time": "2023-12-02T18:45:21.340143Z",
     "start_time": "2023-12-02T18:45:21.326864Z"
    }
   },
   "outputs": [],
   "source": [
    "\"\"\"\n",
    "def tlsh_predictor_concat(threshold=1000):\n",
    "    predict = pd.DataFrame(index=range(family_scores_tlsh.shape[0]), columns=[\"score\",\"threshold\" , \"prediction\", \"true_value\", \"malware\"])\n",
    "    for i in range(0,scicore_concat.shape[0],1):\n",
    "        score = 1000\n",
    "        k = 0\n",
    "        for j in range(0,scicore_filtered.shape[0],1):\n",
    "            if i == j:\n",
    "                continue\n",
    "            tmp = tlsh.diff(scicore_concat.iloc[i][\"tlsh\"][\"tlsh\"],scicore_filtered.iloc[j][\"tlsh\"][\"tlsh\"])\n",
    "            if score > tmp < threshold:\n",
    "                score = tmp\n",
    "                k = j\n",
    "            \n",
    "        #print(f\"score: {score}, prediction: {scicore_filtered.iloc[i]['family']}, true value: {scicore_filtered.iloc[k]['family']}\")\n",
    "        predict.loc[i] = [score,threshold ,scicore_concat.iloc[i][\"family\"], scicore_concat.iloc[k][\"family\"],scicore_concat.iloc[i][\"malware\"]]\n",
    "    return predict\n",
    "def tlsh_roc():\n",
    "    # Initialize DataFrame for ROC values\n",
    "    roc = pd.DataFrame(columns=[\"threshold\", \"true_positive_rate\", \"false_positive_rate\"])\n",
    "\n",
    "    # Iterate over each threshold\n",
    "    for threshold in range(150,50, -10):\n",
    "        pred = tlsh_predictor_concat(threshold)\n",
    "        TP = (pred[\"true_value\"] == pred[\"prediction\"]).sum()\n",
    "        FP = (pred[\"true_value\"] != pred[\"prediction\"]).sum()\n",
    "        FN = ((pred[\"score\"] == 1000) & (pred[\"malware\"] == False)).sum()\n",
    "        TN = ((pred[\"score\"] == 1000) & (pred[\"malware\"] == True)).sum()\n",
    "        \n",
    "        TPR = TP / (TP + FN) if TP + FN != 0 else 0\n",
    "        FPR = FP / (FP + TN) if FP + TN != 0 else 0\n",
    "        # Append results to DataFrame\n",
    "        roc.loc[threshold] = [threshold, TPR, FPR]\n",
    "    \n",
    "    return roc\n",
    "    \n",
    "    \"\"\""
   ]
  },
  {
   "cell_type": "code",
   "execution_count": 860,
   "metadata": {
    "ExecuteTime": {
     "end_time": "2023-12-02T17:46:44.142701Z",
     "start_time": "2023-12-02T17:46:24.330412Z"
    }
   },
   "outputs": [
    {
     "data": {
      "text/plain": "                    Family 1        Family 2  Malware 1  Malware 2  \\\n0                    DIAMOND         DIAMOND      False      False   \n1                    DIAMOND         DIAMOND      False      False   \n2                    DIAMOND         DIAMOND      False      False   \n3                    DIAMOND  RStudio-Server      False      False   \n4                    DIAMOND  RStudio-Server      False      False   \n...                      ...             ...        ...        ...   \n1673530  LokiPasswordStealer        Bashlite       True       True   \n1673531  LokiPasswordStealer        GandCrab       True       True   \n1673532             Bashlite        Bashlite       True       True   \n1673533             Bashlite        GandCrab       True       True   \n1673534             Bashlite        GandCrab       True       True   \n\n                                                    TLSH 1  \\\n0        T170858D1B66820CB9C492D53467E797F26830B8B5C238...   \n1        T170858D1B66820CB9C492D53467E797F26830B8B5C238...   \n2        T170858D1B66820CB9C492D53467E797F26830B8B5C238...   \n3        T170858D1B66820CB9C492D53467E797F26830B8B5C238...   \n4        T170858D1B66820CB9C492D53467E797F26830B8B5C238...   \n...                                                    ...   \n1673530  T15FE42A82B2A5C030F7B74DB2BB73A5B7857E7C332D22...   \n1673531  T15FE42A82B2A5C030F7B74DB2BB73A5B7857E7C332D22...   \n1673532  T116C34B57D58AD7BFD0570AB901AFA27E0521FE3A462A...   \n1673533  T116C34B57D58AD7BFD0570AB901AFA27E0521FE3A462A...   \n1673534  T169E328377191C9BBC05362B41ADBA6619C21FCBF0771...   \n\n                                                    TLSH 2  Diff Score  \n0        T1FB457E47FAC358A8C097D538466FA1367A31BC9FC230...         128  \n1        T1A3868E03E687A468C8A6C43813DB91B3ED717C799630...         260  \n2        T112759F1B6BA208ADC892D53457E796F26C31B8B5C238...          41  \n3        T150918C52B0542BB67974A378DBB71467E320905B6001...         938  \n4        T1C4918A62B0542B767974A368DBB71466E320905B6001...         963  \n...                                                    ...         ...  \n1673530  T169E328377191C9BBC05362B41ADBA6619C21FCBF0771...         382  \n1673531  T1ACA37D24B1D276B3F1E269BAE6B47B12445D7D042794...         464  \n1673532  T169E328377191C9BBC05362B41ADBA6619C21FCBF0771...         176  \n1673533  T1ACA37D24B1D276B3F1E269BAE6B47B12445D7D042794...         244  \n1673534  T1ACA37D24B1D276B3F1E269BAE6B47B12445D7D042794...         314  \n\n[1673535 rows x 7 columns]",
      "text/html": "<div>\n<style scoped>\n    .dataframe tbody tr th:only-of-type {\n        vertical-align: middle;\n    }\n\n    .dataframe tbody tr th {\n        vertical-align: top;\n    }\n\n    .dataframe thead th {\n        text-align: right;\n    }\n</style>\n<table border=\"1\" class=\"dataframe\">\n  <thead>\n    <tr style=\"text-align: right;\">\n      <th></th>\n      <th>Family 1</th>\n      <th>Family 2</th>\n      <th>Malware 1</th>\n      <th>Malware 2</th>\n      <th>TLSH 1</th>\n      <th>TLSH 2</th>\n      <th>Diff Score</th>\n    </tr>\n  </thead>\n  <tbody>\n    <tr>\n      <th>0</th>\n      <td>DIAMOND</td>\n      <td>DIAMOND</td>\n      <td>False</td>\n      <td>False</td>\n      <td>T170858D1B66820CB9C492D53467E797F26830B8B5C238...</td>\n      <td>T1FB457E47FAC358A8C097D538466FA1367A31BC9FC230...</td>\n      <td>128</td>\n    </tr>\n    <tr>\n      <th>1</th>\n      <td>DIAMOND</td>\n      <td>DIAMOND</td>\n      <td>False</td>\n      <td>False</td>\n      <td>T170858D1B66820CB9C492D53467E797F26830B8B5C238...</td>\n      <td>T1A3868E03E687A468C8A6C43813DB91B3ED717C799630...</td>\n      <td>260</td>\n    </tr>\n    <tr>\n      <th>2</th>\n      <td>DIAMOND</td>\n      <td>DIAMOND</td>\n      <td>False</td>\n      <td>False</td>\n      <td>T170858D1B66820CB9C492D53467E797F26830B8B5C238...</td>\n      <td>T112759F1B6BA208ADC892D53457E796F26C31B8B5C238...</td>\n      <td>41</td>\n    </tr>\n    <tr>\n      <th>3</th>\n      <td>DIAMOND</td>\n      <td>RStudio-Server</td>\n      <td>False</td>\n      <td>False</td>\n      <td>T170858D1B66820CB9C492D53467E797F26830B8B5C238...</td>\n      <td>T150918C52B0542BB67974A378DBB71467E320905B6001...</td>\n      <td>938</td>\n    </tr>\n    <tr>\n      <th>4</th>\n      <td>DIAMOND</td>\n      <td>RStudio-Server</td>\n      <td>False</td>\n      <td>False</td>\n      <td>T170858D1B66820CB9C492D53467E797F26830B8B5C238...</td>\n      <td>T1C4918A62B0542B767974A368DBB71466E320905B6001...</td>\n      <td>963</td>\n    </tr>\n    <tr>\n      <th>...</th>\n      <td>...</td>\n      <td>...</td>\n      <td>...</td>\n      <td>...</td>\n      <td>...</td>\n      <td>...</td>\n      <td>...</td>\n    </tr>\n    <tr>\n      <th>1673530</th>\n      <td>LokiPasswordStealer</td>\n      <td>Bashlite</td>\n      <td>True</td>\n      <td>True</td>\n      <td>T15FE42A82B2A5C030F7B74DB2BB73A5B7857E7C332D22...</td>\n      <td>T169E328377191C9BBC05362B41ADBA6619C21FCBF0771...</td>\n      <td>382</td>\n    </tr>\n    <tr>\n      <th>1673531</th>\n      <td>LokiPasswordStealer</td>\n      <td>GandCrab</td>\n      <td>True</td>\n      <td>True</td>\n      <td>T15FE42A82B2A5C030F7B74DB2BB73A5B7857E7C332D22...</td>\n      <td>T1ACA37D24B1D276B3F1E269BAE6B47B12445D7D042794...</td>\n      <td>464</td>\n    </tr>\n    <tr>\n      <th>1673532</th>\n      <td>Bashlite</td>\n      <td>Bashlite</td>\n      <td>True</td>\n      <td>True</td>\n      <td>T116C34B57D58AD7BFD0570AB901AFA27E0521FE3A462A...</td>\n      <td>T169E328377191C9BBC05362B41ADBA6619C21FCBF0771...</td>\n      <td>176</td>\n    </tr>\n    <tr>\n      <th>1673533</th>\n      <td>Bashlite</td>\n      <td>GandCrab</td>\n      <td>True</td>\n      <td>True</td>\n      <td>T116C34B57D58AD7BFD0570AB901AFA27E0521FE3A462A...</td>\n      <td>T1ACA37D24B1D276B3F1E269BAE6B47B12445D7D042794...</td>\n      <td>244</td>\n    </tr>\n    <tr>\n      <th>1673534</th>\n      <td>Bashlite</td>\n      <td>GandCrab</td>\n      <td>True</td>\n      <td>True</td>\n      <td>T169E328377191C9BBC05362B41ADBA6619C21FCBF0771...</td>\n      <td>T1ACA37D24B1D276B3F1E269BAE6B47B12445D7D042794...</td>\n      <td>314</td>\n    </tr>\n  </tbody>\n</table>\n<p>1673535 rows × 7 columns</p>\n</div>"
     },
     "execution_count": 860,
     "metadata": {},
     "output_type": "execute_result"
    }
   ],
   "source": [
    "\n",
    "from itertools import combinations\n",
    "\n",
    "# Generate all binary combinations of the strings in the specified column\n",
    "string_combinations = combinations(scicore_concat[['tlsh', 'family', 'malware']].iterrows(), 2)\n",
    "\n",
    "# Apply tlsh.diff to each combination\n",
    "results = []\n",
    "for (idx1, row1), (idx2, row2) in string_combinations:\n",
    "    diff_score = tlsh.diff(row1['tlsh'][\"tlsh\"], row2['tlsh'][\"tlsh\"])\n",
    "    results.append((row1['family'], row2['family'], row1['malware'], row2['malware'], row1['tlsh']['tlsh'], row2['tlsh']['tlsh'], diff_score))\n",
    "\n",
    "# Convert results to DataFrame\n",
    "results_df = pd.DataFrame(results, columns=['Family 1', 'Family 2', 'Malware 1', \"Malware 2\", 'TLSH 1', 'TLSH 2', 'Diff Score'])\n",
    "\n",
    "results_df\n"
   ],
   "id": "2ec9ae8acc68416a"
  },
  {
   "cell_type": "code",
   "execution_count": 968,
   "outputs": [
    {
     "data": {
      "text/plain": "0.651543793320731"
     },
     "execution_count": 968,
     "metadata": {},
     "output_type": "execute_result"
    }
   ],
   "source": [
    "p = results_df.loc[results_df.groupby(\"TLSH 1\")[\"Diff Score\"].idxmin()]\n",
    "\n",
    "p = p[p[\"Malware 2\"] != True]\n",
    "\n",
    "(p[\"Family 1\"] == p[\"Family 2\"]).sum() / p.shape[0]"
   ],
   "metadata": {
    "collapsed": false,
    "ExecuteTime": {
     "end_time": "2023-12-02T21:00:01.020879Z",
     "start_time": "2023-12-02T21:00:00.842008Z"
    }
   },
   "id": "6076ac44eb3cc057"
  },
  {
   "cell_type": "code",
   "execution_count": 947,
   "metadata": {
    "ExecuteTime": {
     "end_time": "2023-12-02T18:41:33.080792Z",
     "start_time": "2023-12-02T18:39:24.250152Z"
    }
   },
   "outputs": [
    {
     "ename": "KeyboardInterrupt",
     "evalue": "",
     "output_type": "error",
     "traceback": [
      "\u001B[0;31m---------------------------------------------------------------------------\u001B[0m",
      "\u001B[0;31mKeyboardInterrupt\u001B[0m                         Traceback (most recent call last)",
      "Cell \u001B[0;32mIn[947], line 8\u001B[0m\n\u001B[1;32m      6\u001B[0m \u001B[38;5;28;01mfor\u001B[39;00m fam \u001B[38;5;129;01min\u001B[39;00m all_hashes:\n\u001B[1;32m      7\u001B[0m     fam_df \u001B[38;5;241m=\u001B[39m results_df[results_df[\u001B[38;5;124m\"\u001B[39m\u001B[38;5;124mTLSH 1\u001B[39m\u001B[38;5;124m\"\u001B[39m] \u001B[38;5;241m==\u001B[39m fam]\n\u001B[0;32m----> 8\u001B[0m     result \u001B[38;5;241m=\u001B[39m results_df[\u001B[43mresults_df\u001B[49m\u001B[43m[\u001B[49m\u001B[38;5;124;43m\"\u001B[39;49m\u001B[38;5;124;43mTLSH 1\u001B[39;49m\u001B[38;5;124;43m\"\u001B[39;49m\u001B[43m]\u001B[49m\u001B[43m \u001B[49m\u001B[38;5;241;43m==\u001B[39;49m\u001B[43m \u001B[49m\u001B[43mfam\u001B[49m]\u001B[38;5;241m.\u001B[39msort_values(\u001B[38;5;124m\"\u001B[39m\u001B[38;5;124mDiff Score\u001B[39m\u001B[38;5;124m\"\u001B[39m)\n\u001B[1;32m      9\u001B[0m     \u001B[38;5;28;01mfor\u001B[39;00m th \u001B[38;5;129;01min\u001B[39;00m \u001B[38;5;28mrange\u001B[39m(\u001B[38;5;241m0\u001B[39m,\u001B[38;5;241m310\u001B[39m,\u001B[38;5;241m10\u001B[39m):\n\u001B[1;32m     10\u001B[0m         result_th \u001B[38;5;241m=\u001B[39m result[result[\u001B[38;5;124m\"\u001B[39m\u001B[38;5;124mDiff Score\u001B[39m\u001B[38;5;124m\"\u001B[39m] \u001B[38;5;241m<\u001B[39m th]\n",
      "File \u001B[0;32m/Library/Python/3.9/site-packages/pandas/core/ops/common.py:76\u001B[0m, in \u001B[0;36m_unpack_zerodim_and_defer.<locals>.new_method\u001B[0;34m(self, other)\u001B[0m\n\u001B[1;32m     72\u001B[0m             \u001B[38;5;28;01mreturn\u001B[39;00m \u001B[38;5;28mNotImplemented\u001B[39m\n\u001B[1;32m     74\u001B[0m other \u001B[38;5;241m=\u001B[39m item_from_zerodim(other)\n\u001B[0;32m---> 76\u001B[0m \u001B[38;5;28;01mreturn\u001B[39;00m \u001B[43mmethod\u001B[49m\u001B[43m(\u001B[49m\u001B[38;5;28;43mself\u001B[39;49m\u001B[43m,\u001B[49m\u001B[43m \u001B[49m\u001B[43mother\u001B[49m\u001B[43m)\u001B[49m\n",
      "File \u001B[0;32m/Library/Python/3.9/site-packages/pandas/core/arraylike.py:40\u001B[0m, in \u001B[0;36mOpsMixin.__eq__\u001B[0;34m(self, other)\u001B[0m\n\u001B[1;32m     38\u001B[0m \u001B[38;5;129m@unpack_zerodim_and_defer\u001B[39m(\u001B[38;5;124m\"\u001B[39m\u001B[38;5;124m__eq__\u001B[39m\u001B[38;5;124m\"\u001B[39m)\n\u001B[1;32m     39\u001B[0m \u001B[38;5;28;01mdef\u001B[39;00m \u001B[38;5;21m__eq__\u001B[39m(\u001B[38;5;28mself\u001B[39m, other):\n\u001B[0;32m---> 40\u001B[0m     \u001B[38;5;28;01mreturn\u001B[39;00m \u001B[38;5;28;43mself\u001B[39;49m\u001B[38;5;241;43m.\u001B[39;49m\u001B[43m_cmp_method\u001B[49m\u001B[43m(\u001B[49m\u001B[43mother\u001B[49m\u001B[43m,\u001B[49m\u001B[43m \u001B[49m\u001B[43moperator\u001B[49m\u001B[38;5;241;43m.\u001B[39;49m\u001B[43meq\u001B[49m\u001B[43m)\u001B[49m\n",
      "File \u001B[0;32m/Library/Python/3.9/site-packages/pandas/core/series.py:5799\u001B[0m, in \u001B[0;36mSeries._cmp_method\u001B[0;34m(self, other, op)\u001B[0m\n\u001B[1;32m   5796\u001B[0m lvalues \u001B[38;5;241m=\u001B[39m \u001B[38;5;28mself\u001B[39m\u001B[38;5;241m.\u001B[39m_values\n\u001B[1;32m   5797\u001B[0m rvalues \u001B[38;5;241m=\u001B[39m extract_array(other, extract_numpy\u001B[38;5;241m=\u001B[39m\u001B[38;5;28;01mTrue\u001B[39;00m, extract_range\u001B[38;5;241m=\u001B[39m\u001B[38;5;28;01mTrue\u001B[39;00m)\n\u001B[0;32m-> 5799\u001B[0m res_values \u001B[38;5;241m=\u001B[39m \u001B[43mops\u001B[49m\u001B[38;5;241;43m.\u001B[39;49m\u001B[43mcomparison_op\u001B[49m\u001B[43m(\u001B[49m\u001B[43mlvalues\u001B[49m\u001B[43m,\u001B[49m\u001B[43m \u001B[49m\u001B[43mrvalues\u001B[49m\u001B[43m,\u001B[49m\u001B[43m \u001B[49m\u001B[43mop\u001B[49m\u001B[43m)\u001B[49m\n\u001B[1;32m   5801\u001B[0m \u001B[38;5;28;01mreturn\u001B[39;00m \u001B[38;5;28mself\u001B[39m\u001B[38;5;241m.\u001B[39m_construct_result(res_values, name\u001B[38;5;241m=\u001B[39mres_name)\n",
      "File \u001B[0;32m/Library/Python/3.9/site-packages/pandas/core/ops/array_ops.py:346\u001B[0m, in \u001B[0;36mcomparison_op\u001B[0;34m(left, right, op)\u001B[0m\n\u001B[1;32m    343\u001B[0m     \u001B[38;5;28;01mreturn\u001B[39;00m invalid_comparison(lvalues, rvalues, op)\n\u001B[1;32m    345\u001B[0m \u001B[38;5;28;01melif\u001B[39;00m lvalues\u001B[38;5;241m.\u001B[39mdtype \u001B[38;5;241m==\u001B[39m \u001B[38;5;28mobject\u001B[39m \u001B[38;5;129;01mor\u001B[39;00m \u001B[38;5;28misinstance\u001B[39m(rvalues, \u001B[38;5;28mstr\u001B[39m):\n\u001B[0;32m--> 346\u001B[0m     res_values \u001B[38;5;241m=\u001B[39m \u001B[43mcomp_method_OBJECT_ARRAY\u001B[49m\u001B[43m(\u001B[49m\u001B[43mop\u001B[49m\u001B[43m,\u001B[49m\u001B[43m \u001B[49m\u001B[43mlvalues\u001B[49m\u001B[43m,\u001B[49m\u001B[43m \u001B[49m\u001B[43mrvalues\u001B[49m\u001B[43m)\u001B[49m\n\u001B[1;32m    348\u001B[0m \u001B[38;5;28;01melse\u001B[39;00m:\n\u001B[1;32m    349\u001B[0m     res_values \u001B[38;5;241m=\u001B[39m _na_arithmetic_op(lvalues, rvalues, op, is_cmp\u001B[38;5;241m=\u001B[39m\u001B[38;5;28;01mTrue\u001B[39;00m)\n",
      "File \u001B[0;32m/Library/Python/3.9/site-packages/pandas/core/ops/array_ops.py:131\u001B[0m, in \u001B[0;36mcomp_method_OBJECT_ARRAY\u001B[0;34m(op, x, y)\u001B[0m\n\u001B[1;32m    129\u001B[0m     result \u001B[38;5;241m=\u001B[39m libops\u001B[38;5;241m.\u001B[39mvec_compare(x\u001B[38;5;241m.\u001B[39mravel(), y\u001B[38;5;241m.\u001B[39mravel(), op)\n\u001B[1;32m    130\u001B[0m \u001B[38;5;28;01melse\u001B[39;00m:\n\u001B[0;32m--> 131\u001B[0m     result \u001B[38;5;241m=\u001B[39m \u001B[43mlibops\u001B[49m\u001B[38;5;241;43m.\u001B[39;49m\u001B[43mscalar_compare\u001B[49m\u001B[43m(\u001B[49m\u001B[43mx\u001B[49m\u001B[38;5;241;43m.\u001B[39;49m\u001B[43mravel\u001B[49m\u001B[43m(\u001B[49m\u001B[43m)\u001B[49m\u001B[43m,\u001B[49m\u001B[43m \u001B[49m\u001B[43my\u001B[49m\u001B[43m,\u001B[49m\u001B[43m \u001B[49m\u001B[43mop\u001B[49m\u001B[43m)\u001B[49m\n\u001B[1;32m    132\u001B[0m \u001B[38;5;28;01mreturn\u001B[39;00m result\u001B[38;5;241m.\u001B[39mreshape(x\u001B[38;5;241m.\u001B[39mshape)\n",
      "\u001B[0;31mKeyboardInterrupt\u001B[0m: "
     ]
    }
   ],
   "source": [
    "\"\"\"\n",
    "all_hashes = scicore_concat[\"tlsh\"].map(lambda x: x[\"tlsh\"])\n",
    "\n",
    "# drop all rows where 'Malware 2' is True\n",
    "\n",
    "predict = pd.DataFrame(index=range(all_hashes.shape[0]), columns=[\"score\", \"threshold\" , \"prediction\", \"true_value\", \"malware\", \"trash\"])\n",
    "for fam in all_hashes:\n",
    "    fam_df = results_df[results_df[\"TLSH 1\"] == fam]\n",
    "    result = results_df[results_df[\"TLSH 1\"] == fam].sort_values(\"Diff Score\")\n",
    "    for th in range(0,310,10):\n",
    "        result_th = result[result[\"Diff Score\"] < th]\n",
    "        if result_th.shape[0] == 0:\n",
    "            predict.loc[fam] = [1000,th, \"No Match\", fam, result[\"Malware 1\"].iloc[0], result[\"Malware 2\"].iloc[0]]\n",
    "            continue\n",
    "        result_s = result_th.sort_values(\"Diff Score\").iloc[0]\n",
    "        score = result_s[\"Diff Score\"]\n",
    "        prediction = result_s[\"Family 2\"]\n",
    "        malware = result_s[\"Malware 1\"]\n",
    "        trash = result_s[\"Malware 2\"]\n",
    "        predict.loc[fam] = [score,th, prediction, fam, malware,trash]\n",
    "        \"\"\"\n",
    "        \n",
    "    "
   ],
   "id": "c4c3d1833b7b33db"
  },
  {
   "cell_type": "code",
   "execution_count": 924,
   "outputs": [
    {
     "data": {
      "text/plain": "0      T170858D1B66820CB9C492D53467E797F26830B8B5C238...\n1      T1FB457E47FAC358A8C097D538466FA1367A31BC9FC230...\n2      T1A3868E03E687A468C8A6C43813DB91B3ED717C799630...\n3      T112759F1B6BA208ADC892D53457E796F26C31B8B5C238...\n5      T150918C52B0542BB67974A378DBB71467E320905B6001...\n                             ...                        \n161    T12F636A0EA2E1A193E1F357B9FA757E65446E3D203B28...\n162    T15FE42A82B2A5C030F7B74DB2BB73A5B7857E7C332D22...\n163    T116C34B57D58AD7BFD0570AB901AFA27E0521FE3A462A...\n164    T169E328377191C9BBC05362B41ADBA6619C21FCBF0771...\n165    T1ACA37D24B1D276B3F1E269BAE6B47B12445D7D042794...\nName: tlsh, Length: 1830, dtype: object"
     },
     "execution_count": 924,
     "metadata": {},
     "output_type": "execute_result"
    }
   ],
   "source": [
    "scicore_concat[\"tlsh\"].map(lambda x: x[\"tlsh\"])"
   ],
   "metadata": {
    "collapsed": false,
    "ExecuteTime": {
     "end_time": "2023-12-02T18:24:02.495945Z",
     "start_time": "2023-12-02T18:24:02.484516Z"
    }
   },
   "id": "48518f21662bca16"
  },
  {
   "cell_type": "markdown",
   "id": "4e3623cf049a754f",
   "metadata": {
    "collapsed": false
   },
   "source": [
    "# SSDEEP"
   ]
  },
  {
   "cell_type": "code",
   "execution_count": 864,
   "id": "808067460567d11b",
   "metadata": {
    "collapsed": false,
    "ExecuteTime": {
     "end_time": "2023-12-02T17:47:05.037806Z",
     "start_time": "2023-12-02T17:47:05.002873Z"
    }
   },
   "outputs": [
    {
     "data": {
      "text/plain": "             family                                             values  \\\n0           DIAMOND                                 [0, 0, 0, 0, 0, 0]   \n1    RStudio-Server  [97, 93, 93, 85, 94, 94, 97, 93, 93, 93, 85, 9...   \n2          Infernal                                          [0, 0, 0]   \n3          FragPipe                                               [82]   \n4             libgd                 [0, 71, 0, 0, 69, 0, 61, 0, 75, 0]   \n..              ...                                                ...   \n330        prodigal                                          [0, 0, 0]   \n331          Salmon  [0, 0, 0, 0, 0, 0, 0, 0, 0, 0, 0, 0, 0, 0, 0, ...   \n332         SeqPrep  [0, 0, 0, 0, 0, 0, 0, 0, 0, 0, 0, 0, 0, 0, 0, ...   \n333           Qhull                                                [0]   \n334        help2man  [93, 96, 100, 100, 96, 79, 79, 93, 94, 93, 93,...   \n\n          mean  median        std  amount  \n0     0.000000     0.0   0.000000       6  \n1    92.527778    93.0   4.065342      36  \n2     0.000000     0.0   0.000000       3  \n3    82.000000    82.0   0.000000       1  \n4    27.600000     0.0  33.956443      10  \n..         ...     ...        ...     ...  \n330   0.000000     0.0   0.000000       3  \n331   0.000000     0.0   0.000000      28  \n332   0.000000     0.0   0.000000      21  \n333   0.000000     0.0   0.000000       1  \n334  89.722222    93.0   7.949882      36  \n\n[335 rows x 6 columns]",
      "text/html": "<div>\n<style scoped>\n    .dataframe tbody tr th:only-of-type {\n        vertical-align: middle;\n    }\n\n    .dataframe tbody tr th {\n        vertical-align: top;\n    }\n\n    .dataframe thead th {\n        text-align: right;\n    }\n</style>\n<table border=\"1\" class=\"dataframe\">\n  <thead>\n    <tr style=\"text-align: right;\">\n      <th></th>\n      <th>family</th>\n      <th>values</th>\n      <th>mean</th>\n      <th>median</th>\n      <th>std</th>\n      <th>amount</th>\n    </tr>\n  </thead>\n  <tbody>\n    <tr>\n      <th>0</th>\n      <td>DIAMOND</td>\n      <td>[0, 0, 0, 0, 0, 0]</td>\n      <td>0.000000</td>\n      <td>0.0</td>\n      <td>0.000000</td>\n      <td>6</td>\n    </tr>\n    <tr>\n      <th>1</th>\n      <td>RStudio-Server</td>\n      <td>[97, 93, 93, 85, 94, 94, 97, 93, 93, 93, 85, 9...</td>\n      <td>92.527778</td>\n      <td>93.0</td>\n      <td>4.065342</td>\n      <td>36</td>\n    </tr>\n    <tr>\n      <th>2</th>\n      <td>Infernal</td>\n      <td>[0, 0, 0]</td>\n      <td>0.000000</td>\n      <td>0.0</td>\n      <td>0.000000</td>\n      <td>3</td>\n    </tr>\n    <tr>\n      <th>3</th>\n      <td>FragPipe</td>\n      <td>[82]</td>\n      <td>82.000000</td>\n      <td>82.0</td>\n      <td>0.000000</td>\n      <td>1</td>\n    </tr>\n    <tr>\n      <th>4</th>\n      <td>libgd</td>\n      <td>[0, 71, 0, 0, 69, 0, 61, 0, 75, 0]</td>\n      <td>27.600000</td>\n      <td>0.0</td>\n      <td>33.956443</td>\n      <td>10</td>\n    </tr>\n    <tr>\n      <th>...</th>\n      <td>...</td>\n      <td>...</td>\n      <td>...</td>\n      <td>...</td>\n      <td>...</td>\n      <td>...</td>\n    </tr>\n    <tr>\n      <th>330</th>\n      <td>prodigal</td>\n      <td>[0, 0, 0]</td>\n      <td>0.000000</td>\n      <td>0.0</td>\n      <td>0.000000</td>\n      <td>3</td>\n    </tr>\n    <tr>\n      <th>331</th>\n      <td>Salmon</td>\n      <td>[0, 0, 0, 0, 0, 0, 0, 0, 0, 0, 0, 0, 0, 0, 0, ...</td>\n      <td>0.000000</td>\n      <td>0.0</td>\n      <td>0.000000</td>\n      <td>28</td>\n    </tr>\n    <tr>\n      <th>332</th>\n      <td>SeqPrep</td>\n      <td>[0, 0, 0, 0, 0, 0, 0, 0, 0, 0, 0, 0, 0, 0, 0, ...</td>\n      <td>0.000000</td>\n      <td>0.0</td>\n      <td>0.000000</td>\n      <td>21</td>\n    </tr>\n    <tr>\n      <th>333</th>\n      <td>Qhull</td>\n      <td>[0]</td>\n      <td>0.000000</td>\n      <td>0.0</td>\n      <td>0.000000</td>\n      <td>1</td>\n    </tr>\n    <tr>\n      <th>334</th>\n      <td>help2man</td>\n      <td>[93, 96, 100, 100, 96, 79, 79, 93, 94, 93, 93,...</td>\n      <td>89.722222</td>\n      <td>93.0</td>\n      <td>7.949882</td>\n      <td>36</td>\n    </tr>\n  </tbody>\n</table>\n<p>335 rows × 6 columns</p>\n</div>"
     },
     "execution_count": 864,
     "metadata": {},
     "output_type": "execute_result"
    }
   ],
   "source": [
    "# Remove redundant comparisons comparing themselfs\n",
    "c = fam_sco_ssdeep[fam_sco_ssdeep['amount'] > 3]\n",
    "c[c[\"median\"] > 0]\n",
    "fam_sco_ssdeep"
   ]
  },
  {
   "cell_type": "code",
   "execution_count": 865,
   "id": "5683db91c1b1dcde",
   "metadata": {
    "collapsed": false,
    "ExecuteTime": {
     "end_time": "2023-12-02T17:47:05.117227Z",
     "start_time": "2023-12-02T17:47:05.013582Z"
    }
   },
   "outputs": [
    {
     "data": {
      "text/plain": "<Figure size 640x480 with 1 Axes>",
      "image/png": "[encoded data removed]"
     },
     "metadata": {},
     "output_type": "display_data"
    }
   ],
   "source": [
    "fam_sco_ssdeep.boxplot(\"mean\")\n",
    "plt.title(\"Boxplot of the mean distribution of ssdeep scores\")\n",
    "plt.show()"
   ]
  },
  {
   "cell_type": "markdown",
   "id": "6174b09213bc0e82",
   "metadata": {
    "collapsed": false
   },
   "source": [
    "Interestingly, the ssdeep scores are much worse compared to the TLSH scores. The mean lies at around 0, which indicates no match and is therefore definitely not a good fuzzy hasher for this dataset."
   ]
  },
  {
   "cell_type": "markdown",
   "id": "d7c6452b87b449d9",
   "metadata": {
    "collapsed": false
   },
   "source": [
    "## SSDEEP Prediction\n",
    "\n",
    "First I will define a function that will predict the family of a sample based on the score of the comparison. The score is the maximum score of the comparison of the sample to all other samples. If the score is 0, there is no match and the prediction is \"No Match\". If the score is higher than 0, the prediction is the family with the highest score, based on the threshold. Second, I will define a function that will calculate the ROC curve based on the predictions on the given thresholds."
   ]
  },
  {
   "cell_type": "code",
   "execution_count": 866,
   "id": "b231b0bb38d5e38",
   "metadata": {
    "collapsed": false,
    "ExecuteTime": {
     "end_time": "2023-12-02T17:47:05.157597Z",
     "start_time": "2023-12-02T17:47:05.109460Z"
    }
   },
   "outputs": [],
   "source": [
    "def predictor(threshhold=0, hasher=\"ssdeep\"):\n",
    "\n",
    "    predict = pd.DataFrame(index=range(scicore_concat.shape[0]), columns=[\"score\", \"prediction\", \"true_value\", \"malware\"])\n",
    "    \n",
    "    for i in range(scicore_concat.shape[0]):\n",
    "        tmp = compare_sample(i, hasher)\n",
    "        tmp.loc[i, \"score\"] = 0  # Set the score of the i-th sample to 0 because it is compared to itself\n",
    "        max_score = tmp[\"score\"].max()\n",
    "        \n",
    "        if max_score == 0 or max_score <= threshhold:\n",
    "            #ic(\"No match\")\n",
    "            predict.loc[i] = [0, \"No Match\", scicore_concat.iloc[i][\"family\"], scicore_concat.iloc[i][\"malware\"]]\n",
    "        else:\n",
    "            max_score_idx = tmp[\"score\"].idxmax()\n",
    "            prediction = tmp.loc[max_score_idx, \"family\"]\n",
    "            true_value = scicore_concat.iloc[i][\"family\"]\n",
    "            predict.loc[i] = [max_score, prediction, true_value, scicore_concat.iloc[i][\"malware\"]]\n",
    "    \n",
    "    return predict"
   ]
  },
  {
   "cell_type": "code",
   "execution_count": 867,
   "id": "d683f693236926fb",
   "metadata": {
    "collapsed": false,
    "ExecuteTime": {
     "end_time": "2023-12-02T17:47:05.164971Z",
     "start_time": "2023-12-02T17:47:05.114567Z"
    }
   },
   "outputs": [],
   "source": [
    "def roc(predi):\n",
    "    # Initialize DataFrame for ROC values\n",
    "    roc = pd.DataFrame(columns=[\"threshold\", \"true_positive_rate\", \"false_positive_rate\"])\n",
    "\n",
    "    # Iterate over each threshold\n",
    "    for threshold in range(10, 100, 10):\n",
    "   \n",
    "        pred = predi[pred[\"score\"] > threshold]\n",
    "        \n",
    "        TP = (pred[\"true_value\"] == pred[\"prediction\"]).sum()\n",
    "        FP = (pred[\"true_value\"] != pred[\"prediction\"]).sum()\n",
    "        FN = ((pred[\"prediction\"] == \"No Match\") & (pred[\"malware\"] == False)).sum()\n",
    "        TN = ((pred[\"prediction\"] == \"No Match\") & (pred[\"malware\"] == True)).sum()\n",
    "        \n",
    "        TPR = TP / (TP + FN) if TP + FN != 0 else 0\n",
    "        FPR = FP / (FP + TN) if FP + TN != 0 else 0\n",
    "        # Append results to DataFrame\n",
    "        roc.loc[threshold] = [threshold, TPR, FPR]\n",
    "        ic(threshold, TPR, FPR)\n",
    "    return roc\n"
   ]
  },
  {
   "cell_type": "code",
   "execution_count": 868,
   "id": "32b632108a945371",
   "metadata": {
    "collapsed": false,
    "ExecuteTime": {
     "end_time": "2023-12-02T17:50:27.613471Z",
     "start_time": "2023-12-02T17:47:05.119615Z"
    }
   },
   "outputs": [
    {
     "ename": "KeyboardInterrupt",
     "evalue": "",
     "output_type": "error",
     "traceback": [
      "\u001B[0;31m---------------------------------------------------------------------------\u001B[0m",
      "\u001B[0;31mKeyboardInterrupt\u001B[0m                         Traceback (most recent call last)",
      "Cell \u001B[0;32mIn[868], line 1\u001B[0m\n\u001B[0;32m----> 1\u001B[0m predo \u001B[38;5;241m=\u001B[39m \u001B[43mpredictor\u001B[49m\u001B[43m(\u001B[49m\u001B[43m)\u001B[49m\n",
      "Cell \u001B[0;32mIn[866], line 6\u001B[0m, in \u001B[0;36mpredictor\u001B[0;34m(threshhold, hasher)\u001B[0m\n\u001B[1;32m      3\u001B[0m predict \u001B[38;5;241m=\u001B[39m pd\u001B[38;5;241m.\u001B[39mDataFrame(index\u001B[38;5;241m=\u001B[39m\u001B[38;5;28mrange\u001B[39m(scicore_concat\u001B[38;5;241m.\u001B[39mshape[\u001B[38;5;241m0\u001B[39m]), columns\u001B[38;5;241m=\u001B[39m[\u001B[38;5;124m\"\u001B[39m\u001B[38;5;124mscore\u001B[39m\u001B[38;5;124m\"\u001B[39m, \u001B[38;5;124m\"\u001B[39m\u001B[38;5;124mprediction\u001B[39m\u001B[38;5;124m\"\u001B[39m, \u001B[38;5;124m\"\u001B[39m\u001B[38;5;124mtrue_value\u001B[39m\u001B[38;5;124m\"\u001B[39m, \u001B[38;5;124m\"\u001B[39m\u001B[38;5;124mmalware\u001B[39m\u001B[38;5;124m\"\u001B[39m])\n\u001B[1;32m      5\u001B[0m \u001B[38;5;28;01mfor\u001B[39;00m i \u001B[38;5;129;01min\u001B[39;00m \u001B[38;5;28mrange\u001B[39m(scicore_concat\u001B[38;5;241m.\u001B[39mshape[\u001B[38;5;241m0\u001B[39m]):\n\u001B[0;32m----> 6\u001B[0m     tmp \u001B[38;5;241m=\u001B[39m \u001B[43mcompare_sample\u001B[49m\u001B[43m(\u001B[49m\u001B[43mi\u001B[49m\u001B[43m,\u001B[49m\u001B[43m \u001B[49m\u001B[43mhasher\u001B[49m\u001B[43m)\u001B[49m\n\u001B[1;32m      7\u001B[0m     tmp\u001B[38;5;241m.\u001B[39mloc[i, \u001B[38;5;124m\"\u001B[39m\u001B[38;5;124mscore\u001B[39m\u001B[38;5;124m\"\u001B[39m] \u001B[38;5;241m=\u001B[39m \u001B[38;5;241m0\u001B[39m  \u001B[38;5;66;03m# Set the score of the i-th sample to 0 because it is compared to itself\u001B[39;00m\n\u001B[1;32m      8\u001B[0m     max_score \u001B[38;5;241m=\u001B[39m tmp[\u001B[38;5;124m\"\u001B[39m\u001B[38;5;124mscore\u001B[39m\u001B[38;5;124m\"\u001B[39m]\u001B[38;5;241m.\u001B[39mmax()\n",
      "Cell \u001B[0;32mIn[850], line 13\u001B[0m, in \u001B[0;36mcompare_sample\u001B[0;34m(index, hasher)\u001B[0m\n\u001B[1;32m     10\u001B[0m     \u001B[38;5;28;01melif\u001B[39;00m hasher \u001B[38;5;241m==\u001B[39m \u001B[38;5;124m\"\u001B[39m\u001B[38;5;124mssdeep\u001B[39m\u001B[38;5;124m\"\u001B[39m:\n\u001B[1;32m     11\u001B[0m         \u001B[38;5;28;01mreturn\u001B[39;00m [row\u001B[38;5;241m.\u001B[39mname, row[\u001B[38;5;124m\"\u001B[39m\u001B[38;5;124mfamily\u001B[39m\u001B[38;5;124m\"\u001B[39m], \u001B[38;5;28mint\u001B[39m(ssdeep\u001B[38;5;241m.\u001B[39mcompare(target_hash, row[hasher][hasher]))]\n\u001B[0;32m---> 13\u001B[0m scores \u001B[38;5;241m=\u001B[39m \u001B[43mParallel\u001B[49m\u001B[43m(\u001B[49m\u001B[43mn_jobs\u001B[49m\u001B[38;5;241;43m=\u001B[39;49m\u001B[38;5;241;43m-\u001B[39;49m\u001B[38;5;241;43m1\u001B[39;49m\u001B[43m)\u001B[49m\u001B[43m(\u001B[49m\u001B[43mdelayed\u001B[49m\u001B[43m(\u001B[49m\u001B[43mcompute_score\u001B[49m\u001B[43m)\u001B[49m\u001B[43m(\u001B[49m\u001B[43mrow\u001B[49m\u001B[43m)\u001B[49m\u001B[43m \u001B[49m\u001B[38;5;28;43;01mfor\u001B[39;49;00m\u001B[43m \u001B[49m\u001B[43m_\u001B[49m\u001B[43m,\u001B[49m\u001B[43m \u001B[49m\u001B[43mrow\u001B[49m\u001B[43m \u001B[49m\u001B[38;5;129;43;01min\u001B[39;49;00m\u001B[43m \u001B[49m\u001B[43mscicore_filtered\u001B[49m\u001B[38;5;241;43m.\u001B[39;49m\u001B[43miterrows\u001B[49m\u001B[43m(\u001B[49m\u001B[43m)\u001B[49m\u001B[43m)\u001B[49m\n\u001B[1;32m     15\u001B[0m \u001B[38;5;28;01mreturn\u001B[39;00m pd\u001B[38;5;241m.\u001B[39mDataFrame(scores, columns\u001B[38;5;241m=\u001B[39m[\u001B[38;5;124m\"\u001B[39m\u001B[38;5;124mindex\u001B[39m\u001B[38;5;124m\"\u001B[39m, \u001B[38;5;124m\"\u001B[39m\u001B[38;5;124mfamily\u001B[39m\u001B[38;5;124m\"\u001B[39m, \u001B[38;5;124m\"\u001B[39m\u001B[38;5;124mscore\u001B[39m\u001B[38;5;124m\"\u001B[39m])\n",
      "File \u001B[0;32m/Library/Python/3.9/site-packages/joblib/parallel.py:1952\u001B[0m, in \u001B[0;36mParallel.__call__\u001B[0;34m(self, iterable)\u001B[0m\n\u001B[1;32m   1946\u001B[0m \u001B[38;5;66;03m# The first item from the output is blank, but it makes the interpreter\u001B[39;00m\n\u001B[1;32m   1947\u001B[0m \u001B[38;5;66;03m# progress until it enters the Try/Except block of the generator and\u001B[39;00m\n\u001B[1;32m   1948\u001B[0m \u001B[38;5;66;03m# reach the first `yield` statement. This starts the aynchronous\u001B[39;00m\n\u001B[1;32m   1949\u001B[0m \u001B[38;5;66;03m# dispatch of the tasks to the workers.\u001B[39;00m\n\u001B[1;32m   1950\u001B[0m \u001B[38;5;28mnext\u001B[39m(output)\n\u001B[0;32m-> 1952\u001B[0m \u001B[38;5;28;01mreturn\u001B[39;00m output \u001B[38;5;28;01mif\u001B[39;00m \u001B[38;5;28mself\u001B[39m\u001B[38;5;241m.\u001B[39mreturn_generator \u001B[38;5;28;01melse\u001B[39;00m \u001B[38;5;28;43mlist\u001B[39;49m\u001B[43m(\u001B[49m\u001B[43moutput\u001B[49m\u001B[43m)\u001B[49m\n",
      "File \u001B[0;32m/Library/Python/3.9/site-packages/joblib/parallel.py:1595\u001B[0m, in \u001B[0;36mParallel._get_outputs\u001B[0;34m(self, iterator, pre_dispatch)\u001B[0m\n\u001B[1;32m   1592\u001B[0m     \u001B[38;5;28;01myield\u001B[39;00m\n\u001B[1;32m   1594\u001B[0m     \u001B[38;5;28;01mwith\u001B[39;00m \u001B[38;5;28mself\u001B[39m\u001B[38;5;241m.\u001B[39m_backend\u001B[38;5;241m.\u001B[39mretrieval_context():\n\u001B[0;32m-> 1595\u001B[0m         \u001B[38;5;28;01myield from\u001B[39;00m \u001B[38;5;28mself\u001B[39m\u001B[38;5;241m.\u001B[39m_retrieve()\n\u001B[1;32m   1597\u001B[0m \u001B[38;5;28;01mexcept\u001B[39;00m \u001B[38;5;167;01mGeneratorExit\u001B[39;00m:\n\u001B[1;32m   1598\u001B[0m     \u001B[38;5;66;03m# The generator has been garbage collected before being fully\u001B[39;00m\n\u001B[1;32m   1599\u001B[0m     \u001B[38;5;66;03m# consumed. This aborts the remaining tasks if possible and warn\u001B[39;00m\n\u001B[1;32m   1600\u001B[0m     \u001B[38;5;66;03m# the user if necessary.\u001B[39;00m\n\u001B[1;32m   1601\u001B[0m     \u001B[38;5;28mself\u001B[39m\u001B[38;5;241m.\u001B[39m_exception \u001B[38;5;241m=\u001B[39m \u001B[38;5;28;01mTrue\u001B[39;00m\n",
      "File \u001B[0;32m/Library/Python/3.9/site-packages/joblib/parallel.py:1707\u001B[0m, in \u001B[0;36mParallel._retrieve\u001B[0;34m(self)\u001B[0m\n\u001B[1;32m   1702\u001B[0m \u001B[38;5;66;03m# If the next job is not ready for retrieval yet, we just wait for\u001B[39;00m\n\u001B[1;32m   1703\u001B[0m \u001B[38;5;66;03m# async callbacks to progress.\u001B[39;00m\n\u001B[1;32m   1704\u001B[0m \u001B[38;5;28;01mif\u001B[39;00m ((\u001B[38;5;28mlen\u001B[39m(\u001B[38;5;28mself\u001B[39m\u001B[38;5;241m.\u001B[39m_jobs) \u001B[38;5;241m==\u001B[39m \u001B[38;5;241m0\u001B[39m) \u001B[38;5;129;01mor\u001B[39;00m\n\u001B[1;32m   1705\u001B[0m     (\u001B[38;5;28mself\u001B[39m\u001B[38;5;241m.\u001B[39m_jobs[\u001B[38;5;241m0\u001B[39m]\u001B[38;5;241m.\u001B[39mget_status(\n\u001B[1;32m   1706\u001B[0m         timeout\u001B[38;5;241m=\u001B[39m\u001B[38;5;28mself\u001B[39m\u001B[38;5;241m.\u001B[39mtimeout) \u001B[38;5;241m==\u001B[39m TASK_PENDING)):\n\u001B[0;32m-> 1707\u001B[0m     \u001B[43mtime\u001B[49m\u001B[38;5;241;43m.\u001B[39;49m\u001B[43msleep\u001B[49m\u001B[43m(\u001B[49m\u001B[38;5;241;43m0.01\u001B[39;49m\u001B[43m)\u001B[49m\n\u001B[1;32m   1708\u001B[0m     \u001B[38;5;28;01mcontinue\u001B[39;00m\n\u001B[1;32m   1710\u001B[0m \u001B[38;5;66;03m# We need to be careful: the job list can be filling up as\u001B[39;00m\n\u001B[1;32m   1711\u001B[0m \u001B[38;5;66;03m# we empty it and Python list are not thread-safe by\u001B[39;00m\n\u001B[1;32m   1712\u001B[0m \u001B[38;5;66;03m# default hence the use of the lock\u001B[39;00m\n",
      "\u001B[0;31mKeyboardInterrupt\u001B[0m: "
     ]
    }
   ],
   "source": [
    "predo = predictor()"
   ]
  },
  {
   "cell_type": "code",
   "execution_count": null,
   "id": "ed1b2b428c34fe39",
   "metadata": {
    "collapsed": false,
    "ExecuteTime": {
     "start_time": "2023-12-02T17:50:27.615365Z"
    }
   },
   "outputs": [],
   "source": [
    "roci = roc(predo)\n",
    "roci"
   ]
  },
  {
   "cell_type": "code",
   "execution_count": null,
   "metadata": {
    "ExecuteTime": {
     "start_time": "2023-12-02T17:50:27.617058Z"
    }
   },
   "outputs": [],
   "source": [
    "predo"
   ],
   "id": "c8c2f119ac2140a0"
  },
  {
   "cell_type": "markdown",
   "id": "fd47a8e605835e39",
   "metadata": {
    "collapsed": false
   },
   "source": [
    "The table represents the rates in % for each threshold. We can clearly see that the false positive rate is way to high and min maxing the threshold will not help. The ssdeep hasher is not a good candidate for this dataset, as the max true positive rate lies at $8.6\\%$ and the false positive rate at $91.4\\%$."
   ]
  },
  {
   "cell_type": "code",
   "execution_count": null,
   "id": "b67a4773b7b75297",
   "metadata": {
    "collapsed": false,
    "ExecuteTime": {
     "start_time": "2023-12-02T17:50:27.618453Z"
    }
   },
   "outputs": [],
   "source": [
    "# Plot the ROC curve in range 0.1 to 1.0\n",
    "roci.plot(x=\"false_positive_rate\", y=\"true_positive_rate\", xlim=(roci[\"false_positive_rate\"].min(), roci[\"false_positive_rate\"].max()), ylim=(roci[\"true_positive_rate\"].min(), roci[\"true_positive_rate\"].max()), title=\"Kinda a ROC Curve\", legend=False)\n",
    "plt.show()"
   ]
  },
  {
   "cell_type": "markdown",
   "id": "243eadf7501be593",
   "metadata": {
    "collapsed": false
   },
   "source": [
    "# TLSH Prediction"
   ]
  },
  {
   "cell_type": "code",
   "execution_count": null,
   "id": "a273266fb0065bd2",
   "metadata": {
    "collapsed": false,
    "ExecuteTime": {
     "start_time": "2023-12-02T17:50:27.620379Z"
    }
   },
   "outputs": [],
   "source": []
  }
 ],
 "metadata": {
  "kernelspec": {
   "display_name": "Python 3",
   "language": "python",
   "name": "python3"
  },
  "language_info": {
   "codemirror_mode": {
    "name": "ipython",
    "version": 2
   },
   "file_extension": ".py",
   "mimetype": "text/x-python",
   "name": "python",
   "nbconvert_exporter": "python",
   "pygments_lexer": "ipython2",
   "version": "2.7.6"
  }
 },
 "nbformat": 4,
 "nbformat_minor": 5
}
