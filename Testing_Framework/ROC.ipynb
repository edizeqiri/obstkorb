{
 "cells": [
  {
   "cell_type": "code",
   "execution_count": 6,
   "outputs": [],
   "source": [
    "import numpy as np\n",
    "import pandas as pd\n",
    "import Mongo_Connector as mongo\n",
    "import tlsh\n",
    "from icecream import ic\n",
    "import matplotlib.pyplot as plt\n",
    "import ssdeep\n",
    "import warnings\n",
    "warnings.filterwarnings('ignore')\n",
    "db = mongo.init(\"portainer\", port=32768)\n",
    "df = pd.DataFrame(list(db[\"scicore\"].find({})))"
   ],
   "metadata": {
    "collapsed": false,
    "ExecuteTime": {
     "end_time": "2023-12-11T15:49:16.337003Z",
     "start_time": "2023-12-11T15:49:16.236762Z"
    }
   },
   "id": "22fccd7542970ad0"
  },
  {
   "cell_type": "markdown",
   "source": [
    "# Scicore Comparison\n",
    "\n",
    "This notebook is used to compare the tlsh and ssdeep hashes of the scicore dataset.\n",
    "First I will compare the tlsh hashes and then the ssdeep hashes.\n",
    "\n"
   ],
   "metadata": {
    "collapsed": false
   },
   "id": "645427b0ea5514b7"
  },
  {
   "cell_type": "code",
   "execution_count": 7,
   "outputs": [
    {
     "data": {
      "text/plain": "       _id    family                                             SHA256  \\\n0        0   DIAMOND  bdbbc7d10475610a47665613a15b523692f2e586e495bf...   \n1        1   DIAMOND  3e5b9caaa8ec0488d0ef6649fa3205af16cd286921fdf3...   \n2        2   DIAMOND  3e7c7a7415567a30a6131c959448e136c1c4cd25e2755d...   \n3        3   DIAMOND  6336bd767371ef854def756641f8af86dd591e62170eb8...   \n4        4     OCaml  3eee2da2d713d971e6618b2f089d08e495c0cd8ec722f7...   \n...    ...       ...                                                ...   \n1985  1985  help2man  4b4f9faa682356601be5fb4ecd94d0761b41a877aebe42...   \n1986  1986  help2man  16d420a69b74f3ec081ffae840653e2246ab4758d85e38...   \n1987  1987  help2man  982697334fef2dab34b4393832e7011a74a92ff05fd426...   \n1988  1988  ChimPipe  6cbb727cbfb1fb6335e4439ae7810e143e1bcc69b05ca0...   \n1989  1989   jbigkit  67855fe5ed323498b1e1a1c9f0a8b2b8b235bb2b4f3a4f...   \n\n      file_size                                             ssdeep  \\\n0       1744592  {'ssdeep': '24576:0ZgkO8W6krEazzEHRyE5fx5j0Gkm...   \n1       1264648  {'ssdeep': '24576:N7RayWHeZhpVZNmHQ/0R223Vcqem...   \n2       7963768  {'ssdeep': '98304:O4g2u6YzoSU6Zr5CqeWRP07lRNMc...   \n3       1599192  {'ssdeep': '24576:39vHSut4l6xFkIRp1IzwbIPGVild...   \n4      13173764  {'ssdeep': '49152:lZBmaeQesTwicgVOMB4aJZhYw2UN...   \n...         ...                                                ...   \n1985      20063  {'ssdeep': '384:sBLdhCCJ8rwQ0EvrX+rjZbOeL3npSe...   \n1986      20063  {'ssdeep': '384:sBLdkCCJ8rwQ0EvrX+rjZbOeL3npSe...   \n1987      20051  {'ssdeep': '384:sDLjOCCJ8/eQrvPX+rjZb2OL3npSeL...   \n1988      76135  {'ssdeep': '1536:Sw5j4LB3dUalDarob+tltydxgjmzB...   \n1989      21544  {'ssdeep': '192:GTJmX1ws6CWEORGArDqE/1LyZAntTq...   \n\n           sdhash                                               tlsh  \\\n0     sdhash hash  {'tlsh': 'T170858D1B66820CB9C492D53467E797F268...   \n1     sdhash hash  {'tlsh': 'T1FB457E47FAC358A8C097D538466FA1367A...   \n2     sdhash hash  {'tlsh': 'T1A3868E03E687A468C8A6C43813DB91B3ED...   \n3     sdhash hash  {'tlsh': 'T112759F1B6BA208ADC892D53457E796F26C...   \n4     sdhash hash  {'tlsh': 'T1F6D6E80EBB470662CD9809FE8CD5868FD6...   \n...           ...                                                ...   \n1985  sdhash hash  {'tlsh': 'T16B92F905EA1A8677B25301F77FDAA4C097...   \n1986  sdhash hash  {'tlsh': 'T12C92F905EA1A8677B25301F77FDAA4C097...   \n1987  sdhash hash  {'tlsh': 'T192920A04EA1A8677B25301F77FDA94C097...   \n1988  sdhash hash  {'tlsh': 'T101734B13B0959D7AC4478A301AC7823B99...   \n1989  sdhash hash  {'tlsh': 'T10BA21827E3815876CDC5413451A74629B1...   \n\n           machoc  \n0     Machoc hash  \n1     Machoc hash  \n2     Machoc hash  \n3     Machoc hash  \n4     Machoc hash  \n...           ...  \n1985  Machoc hash  \n1986  Machoc hash  \n1987  Machoc hash  \n1988  Machoc hash  \n1989  Machoc hash  \n\n[1990 rows x 8 columns]",
      "text/html": "<div>\n<style scoped>\n    .dataframe tbody tr th:only-of-type {\n        vertical-align: middle;\n    }\n\n    .dataframe tbody tr th {\n        vertical-align: top;\n    }\n\n    .dataframe thead th {\n        text-align: right;\n    }\n</style>\n<table border=\"1\" class=\"dataframe\">\n  <thead>\n    <tr style=\"text-align: right;\">\n      <th></th>\n      <th>_id</th>\n      <th>family</th>\n      <th>SHA256</th>\n      <th>file_size</th>\n      <th>ssdeep</th>\n      <th>sdhash</th>\n      <th>tlsh</th>\n      <th>machoc</th>\n    </tr>\n  </thead>\n  <tbody>\n    <tr>\n      <th>0</th>\n      <td>0</td>\n      <td>DIAMOND</td>\n      <td>bdbbc7d10475610a47665613a15b523692f2e586e495bf...</td>\n      <td>1744592</td>\n      <td>{'ssdeep': '24576:0ZgkO8W6krEazzEHRyE5fx5j0Gkm...</td>\n      <td>sdhash hash</td>\n      <td>{'tlsh': 'T170858D1B66820CB9C492D53467E797F268...</td>\n      <td>Machoc hash</td>\n    </tr>\n    <tr>\n      <th>1</th>\n      <td>1</td>\n      <td>DIAMOND</td>\n      <td>3e5b9caaa8ec0488d0ef6649fa3205af16cd286921fdf3...</td>\n      <td>1264648</td>\n      <td>{'ssdeep': '24576:N7RayWHeZhpVZNmHQ/0R223Vcqem...</td>\n      <td>sdhash hash</td>\n      <td>{'tlsh': 'T1FB457E47FAC358A8C097D538466FA1367A...</td>\n      <td>Machoc hash</td>\n    </tr>\n    <tr>\n      <th>2</th>\n      <td>2</td>\n      <td>DIAMOND</td>\n      <td>3e7c7a7415567a30a6131c959448e136c1c4cd25e2755d...</td>\n      <td>7963768</td>\n      <td>{'ssdeep': '98304:O4g2u6YzoSU6Zr5CqeWRP07lRNMc...</td>\n      <td>sdhash hash</td>\n      <td>{'tlsh': 'T1A3868E03E687A468C8A6C43813DB91B3ED...</td>\n      <td>Machoc hash</td>\n    </tr>\n    <tr>\n      <th>3</th>\n      <td>3</td>\n      <td>DIAMOND</td>\n      <td>6336bd767371ef854def756641f8af86dd591e62170eb8...</td>\n      <td>1599192</td>\n      <td>{'ssdeep': '24576:39vHSut4l6xFkIRp1IzwbIPGVild...</td>\n      <td>sdhash hash</td>\n      <td>{'tlsh': 'T112759F1B6BA208ADC892D53457E796F26C...</td>\n      <td>Machoc hash</td>\n    </tr>\n    <tr>\n      <th>4</th>\n      <td>4</td>\n      <td>OCaml</td>\n      <td>3eee2da2d713d971e6618b2f089d08e495c0cd8ec722f7...</td>\n      <td>13173764</td>\n      <td>{'ssdeep': '49152:lZBmaeQesTwicgVOMB4aJZhYw2UN...</td>\n      <td>sdhash hash</td>\n      <td>{'tlsh': 'T1F6D6E80EBB470662CD9809FE8CD5868FD6...</td>\n      <td>Machoc hash</td>\n    </tr>\n    <tr>\n      <th>...</th>\n      <td>...</td>\n      <td>...</td>\n      <td>...</td>\n      <td>...</td>\n      <td>...</td>\n      <td>...</td>\n      <td>...</td>\n      <td>...</td>\n    </tr>\n    <tr>\n      <th>1985</th>\n      <td>1985</td>\n      <td>help2man</td>\n      <td>4b4f9faa682356601be5fb4ecd94d0761b41a877aebe42...</td>\n      <td>20063</td>\n      <td>{'ssdeep': '384:sBLdhCCJ8rwQ0EvrX+rjZbOeL3npSe...</td>\n      <td>sdhash hash</td>\n      <td>{'tlsh': 'T16B92F905EA1A8677B25301F77FDAA4C097...</td>\n      <td>Machoc hash</td>\n    </tr>\n    <tr>\n      <th>1986</th>\n      <td>1986</td>\n      <td>help2man</td>\n      <td>16d420a69b74f3ec081ffae840653e2246ab4758d85e38...</td>\n      <td>20063</td>\n      <td>{'ssdeep': '384:sBLdkCCJ8rwQ0EvrX+rjZbOeL3npSe...</td>\n      <td>sdhash hash</td>\n      <td>{'tlsh': 'T12C92F905EA1A8677B25301F77FDAA4C097...</td>\n      <td>Machoc hash</td>\n    </tr>\n    <tr>\n      <th>1987</th>\n      <td>1987</td>\n      <td>help2man</td>\n      <td>982697334fef2dab34b4393832e7011a74a92ff05fd426...</td>\n      <td>20051</td>\n      <td>{'ssdeep': '384:sDLjOCCJ8/eQrvPX+rjZb2OL3npSeL...</td>\n      <td>sdhash hash</td>\n      <td>{'tlsh': 'T192920A04EA1A8677B25301F77FDA94C097...</td>\n      <td>Machoc hash</td>\n    </tr>\n    <tr>\n      <th>1988</th>\n      <td>1988</td>\n      <td>ChimPipe</td>\n      <td>6cbb727cbfb1fb6335e4439ae7810e143e1bcc69b05ca0...</td>\n      <td>76135</td>\n      <td>{'ssdeep': '1536:Sw5j4LB3dUalDarob+tltydxgjmzB...</td>\n      <td>sdhash hash</td>\n      <td>{'tlsh': 'T101734B13B0959D7AC4478A301AC7823B99...</td>\n      <td>Machoc hash</td>\n    </tr>\n    <tr>\n      <th>1989</th>\n      <td>1989</td>\n      <td>jbigkit</td>\n      <td>67855fe5ed323498b1e1a1c9f0a8b2b8b235bb2b4f3a4f...</td>\n      <td>21544</td>\n      <td>{'ssdeep': '192:GTJmX1ws6CWEORGArDqE/1LyZAntTq...</td>\n      <td>sdhash hash</td>\n      <td>{'tlsh': 'T10BA21827E3815876CDC5413451A74629B1...</td>\n      <td>Machoc hash</td>\n    </tr>\n  </tbody>\n</table>\n<p>1990 rows × 8 columns</p>\n</div>"
     },
     "execution_count": 7,
     "metadata": {},
     "output_type": "execute_result"
    }
   ],
   "source": [
    "df"
   ],
   "metadata": {
    "collapsed": false,
    "ExecuteTime": {
     "end_time": "2023-12-11T15:49:16.338310Z",
     "start_time": "2023-12-11T15:49:16.332075Z"
    }
   },
   "id": "345f4ddef4f92e24"
  },
  {
   "cell_type": "code",
   "execution_count": 8,
   "outputs": [
    {
     "data": {
      "text/plain": "<Axes: >"
     },
     "execution_count": 8,
     "metadata": {},
     "output_type": "execute_result"
    },
    {
     "data": {
      "text/plain": "<Figure size 640x480 with 1 Axes>",
      "image/png": "[encoded data removed]"
     },
     "metadata": {},
     "output_type": "display_data"
    }
   ],
   "source": [
    "family_counts = df['family'].value_counts()\n",
    "\n",
    "# Filter the families with more than one entry\n",
    "scicore_filtered = df[df['family'].map(family_counts) > 1]\n",
    "\n",
    "family_counts.hist(bins=len(family_counts))"
   ],
   "metadata": {
    "collapsed": false,
    "ExecuteTime": {
     "end_time": "2023-12-11T15:49:16.721479Z",
     "start_time": "2023-12-11T15:49:16.336023Z"
    }
   },
   "id": "14cc12ba90837f3c"
  },
  {
   "cell_type": "markdown",
   "source": [
    "# Scicore Filtered\n",
    "\n",
    "This is the filtered dataset with only families that have more than one entry. Since comparing the binary to itself can be done with SHA256, I will skip the families with only 1 entry."
   ],
   "metadata": {
    "collapsed": false
   },
   "id": "3399b516809a9f1e"
  },
  {
   "cell_type": "code",
   "execution_count": 9,
   "outputs": [
    {
     "data": {
      "text/plain": "       _id          family                                             SHA256  \\\n0        0         DIAMOND  bdbbc7d10475610a47665613a15b523692f2e586e495bf...   \n1        1         DIAMOND  3e5b9caaa8ec0488d0ef6649fa3205af16cd286921fdf3...   \n2        2         DIAMOND  3e7c7a7415567a30a6131c959448e136c1c4cd25e2755d...   \n3        3         DIAMOND  6336bd767371ef854def756641f8af86dd591e62170eb8...   \n5        5  RStudio-Server  8ed496fd927bf12ab2680275d12ae8d239c77f426345e8...   \n...    ...             ...                                                ...   \n1983  1983        help2man  79bbee7e82e8cab0f238bc135ec79543a071371cddeb11...   \n1984  1984        help2man  2a1400af01f63f02b64889eb203ed60eee4014a4d4ded2...   \n1985  1985        help2man  4b4f9faa682356601be5fb4ecd94d0761b41a877aebe42...   \n1986  1986        help2man  16d420a69b74f3ec081ffae840653e2246ab4758d85e38...   \n1987  1987        help2man  982697334fef2dab34b4393832e7011a74a92ff05fd426...   \n\n      file_size                                             ssdeep  \\\n0       1744592  {'ssdeep': '24576:0ZgkO8W6krEazzEHRyE5fx5j0Gkm...   \n1       1264648  {'ssdeep': '24576:N7RayWHeZhpVZNmHQ/0R223Vcqem...   \n2       7963768  {'ssdeep': '98304:O4g2u6YzoSU6Zr5CqeWRP07lRNMc...   \n3       1599192  {'ssdeep': '24576:39vHSut4l6xFkIRp1IzwbIPGVild...   \n5          4364  {'ssdeep': '96:mKNT20vznhw3tngiBbGBsek3Kfy2wy3...   \n...         ...                                                ...   \n1983      19871  {'ssdeep': '384:sALj4CCJ8/eQyWvPX+ejZbCOL3npSe...   \n1984      19896  {'ssdeep': '384:svLjrCCJ8/eQrvPX+ejZbCOL3npSeL...   \n1985      20063  {'ssdeep': '384:sBLdhCCJ8rwQ0EvrX+rjZbOeL3npSe...   \n1986      20063  {'ssdeep': '384:sBLdkCCJ8rwQ0EvrX+rjZbOeL3npSe...   \n1987      20051  {'ssdeep': '384:sDLjOCCJ8/eQrvPX+rjZb2OL3npSeL...   \n\n           sdhash                                               tlsh  \\\n0     sdhash hash  {'tlsh': 'T170858D1B66820CB9C492D53467E797F268...   \n1     sdhash hash  {'tlsh': 'T1FB457E47FAC358A8C097D538466FA1367A...   \n2     sdhash hash  {'tlsh': 'T1A3868E03E687A468C8A6C43813DB91B3ED...   \n3     sdhash hash  {'tlsh': 'T112759F1B6BA208ADC892D53457E796F26C...   \n5     sdhash hash  {'tlsh': 'T150918C52B0542BB67974A378DBB71467E3...   \n...           ...                                                ...   \n1983  sdhash hash  {'tlsh': 'T13092F805EA2A8637B15301F77FDA54D09B...   \n1984  sdhash hash  {'tlsh': 'T1EC92F905EA2A8637B15301F77FDA54C09B...   \n1985  sdhash hash  {'tlsh': 'T16B92F905EA1A8677B25301F77FDAA4C097...   \n1986  sdhash hash  {'tlsh': 'T12C92F905EA1A8677B25301F77FDAA4C097...   \n1987  sdhash hash  {'tlsh': 'T192920A04EA1A8677B25301F77FDA94C097...   \n\n           machoc  \n0     Machoc hash  \n1     Machoc hash  \n2     Machoc hash  \n3     Machoc hash  \n5     Machoc hash  \n...           ...  \n1983  Machoc hash  \n1984  Machoc hash  \n1985  Machoc hash  \n1986  Machoc hash  \n1987  Machoc hash  \n\n[1664 rows x 8 columns]",
      "text/html": "<div>\n<style scoped>\n    .dataframe tbody tr th:only-of-type {\n        vertical-align: middle;\n    }\n\n    .dataframe tbody tr th {\n        vertical-align: top;\n    }\n\n    .dataframe thead th {\n        text-align: right;\n    }\n</style>\n<table border=\"1\" class=\"dataframe\">\n  <thead>\n    <tr style=\"text-align: right;\">\n      <th></th>\n      <th>_id</th>\n      <th>family</th>\n      <th>SHA256</th>\n      <th>file_size</th>\n      <th>ssdeep</th>\n      <th>sdhash</th>\n      <th>tlsh</th>\n      <th>machoc</th>\n    </tr>\n  </thead>\n  <tbody>\n    <tr>\n      <th>0</th>\n      <td>0</td>\n      <td>DIAMOND</td>\n      <td>bdbbc7d10475610a47665613a15b523692f2e586e495bf...</td>\n      <td>1744592</td>\n      <td>{'ssdeep': '24576:0ZgkO8W6krEazzEHRyE5fx5j0Gkm...</td>\n      <td>sdhash hash</td>\n      <td>{'tlsh': 'T170858D1B66820CB9C492D53467E797F268...</td>\n      <td>Machoc hash</td>\n    </tr>\n    <tr>\n      <th>1</th>\n      <td>1</td>\n      <td>DIAMOND</td>\n      <td>3e5b9caaa8ec0488d0ef6649fa3205af16cd286921fdf3...</td>\n      <td>1264648</td>\n      <td>{'ssdeep': '24576:N7RayWHeZhpVZNmHQ/0R223Vcqem...</td>\n      <td>sdhash hash</td>\n      <td>{'tlsh': 'T1FB457E47FAC358A8C097D538466FA1367A...</td>\n      <td>Machoc hash</td>\n    </tr>\n    <tr>\n      <th>2</th>\n      <td>2</td>\n      <td>DIAMOND</td>\n      <td>3e7c7a7415567a30a6131c959448e136c1c4cd25e2755d...</td>\n      <td>7963768</td>\n      <td>{'ssdeep': '98304:O4g2u6YzoSU6Zr5CqeWRP07lRNMc...</td>\n      <td>sdhash hash</td>\n      <td>{'tlsh': 'T1A3868E03E687A468C8A6C43813DB91B3ED...</td>\n      <td>Machoc hash</td>\n    </tr>\n    <tr>\n      <th>3</th>\n      <td>3</td>\n      <td>DIAMOND</td>\n      <td>6336bd767371ef854def756641f8af86dd591e62170eb8...</td>\n      <td>1599192</td>\n      <td>{'ssdeep': '24576:39vHSut4l6xFkIRp1IzwbIPGVild...</td>\n      <td>sdhash hash</td>\n      <td>{'tlsh': 'T112759F1B6BA208ADC892D53457E796F26C...</td>\n      <td>Machoc hash</td>\n    </tr>\n    <tr>\n      <th>5</th>\n      <td>5</td>\n      <td>RStudio-Server</td>\n      <td>8ed496fd927bf12ab2680275d12ae8d239c77f426345e8...</td>\n      <td>4364</td>\n      <td>{'ssdeep': '96:mKNT20vznhw3tngiBbGBsek3Kfy2wy3...</td>\n      <td>sdhash hash</td>\n      <td>{'tlsh': 'T150918C52B0542BB67974A378DBB71467E3...</td>\n      <td>Machoc hash</td>\n    </tr>\n    <tr>\n      <th>...</th>\n      <td>...</td>\n      <td>...</td>\n      <td>...</td>\n      <td>...</td>\n      <td>...</td>\n      <td>...</td>\n      <td>...</td>\n      <td>...</td>\n    </tr>\n    <tr>\n      <th>1983</th>\n      <td>1983</td>\n      <td>help2man</td>\n      <td>79bbee7e82e8cab0f238bc135ec79543a071371cddeb11...</td>\n      <td>19871</td>\n      <td>{'ssdeep': '384:sALj4CCJ8/eQyWvPX+ejZbCOL3npSe...</td>\n      <td>sdhash hash</td>\n      <td>{'tlsh': 'T13092F805EA2A8637B15301F77FDA54D09B...</td>\n      <td>Machoc hash</td>\n    </tr>\n    <tr>\n      <th>1984</th>\n      <td>1984</td>\n      <td>help2man</td>\n      <td>2a1400af01f63f02b64889eb203ed60eee4014a4d4ded2...</td>\n      <td>19896</td>\n      <td>{'ssdeep': '384:svLjrCCJ8/eQrvPX+ejZbCOL3npSeL...</td>\n      <td>sdhash hash</td>\n      <td>{'tlsh': 'T1EC92F905EA2A8637B15301F77FDA54C09B...</td>\n      <td>Machoc hash</td>\n    </tr>\n    <tr>\n      <th>1985</th>\n      <td>1985</td>\n      <td>help2man</td>\n      <td>4b4f9faa682356601be5fb4ecd94d0761b41a877aebe42...</td>\n      <td>20063</td>\n      <td>{'ssdeep': '384:sBLdhCCJ8rwQ0EvrX+rjZbOeL3npSe...</td>\n      <td>sdhash hash</td>\n      <td>{'tlsh': 'T16B92F905EA1A8677B25301F77FDAA4C097...</td>\n      <td>Machoc hash</td>\n    </tr>\n    <tr>\n      <th>1986</th>\n      <td>1986</td>\n      <td>help2man</td>\n      <td>16d420a69b74f3ec081ffae840653e2246ab4758d85e38...</td>\n      <td>20063</td>\n      <td>{'ssdeep': '384:sBLdkCCJ8rwQ0EvrX+rjZbOeL3npSe...</td>\n      <td>sdhash hash</td>\n      <td>{'tlsh': 'T12C92F905EA1A8677B25301F77FDAA4C097...</td>\n      <td>Machoc hash</td>\n    </tr>\n    <tr>\n      <th>1987</th>\n      <td>1987</td>\n      <td>help2man</td>\n      <td>982697334fef2dab34b4393832e7011a74a92ff05fd426...</td>\n      <td>20051</td>\n      <td>{'ssdeep': '384:sDLjOCCJ8/eQrvPX+rjZb2OL3npSeL...</td>\n      <td>sdhash hash</td>\n      <td>{'tlsh': 'T192920A04EA1A8677B25301F77FDA94C097...</td>\n      <td>Machoc hash</td>\n    </tr>\n  </tbody>\n</table>\n<p>1664 rows × 8 columns</p>\n</div>"
     },
     "execution_count": 9,
     "metadata": {},
     "output_type": "execute_result"
    }
   ],
   "source": [
    "scicore_filtered"
   ],
   "metadata": {
    "collapsed": false,
    "ExecuteTime": {
     "end_time": "2023-12-11T15:49:16.731389Z",
     "start_time": "2023-12-11T15:49:16.726883Z"
    }
   },
   "id": "912405b828bad807"
  },
  {
   "cell_type": "code",
   "execution_count": 10,
   "outputs": [
    {
     "name": "stdout",
     "output_type": "stream",
     "text": [
      "Original DataFrame had 1990 rows.\n",
      "Filtered DataFrame has 1664 rows.\n",
      "Families removed (only had 1 entry): ['evo', 'pyfaidx', 'ELPA', 'lbzip2', 'SNAP-HMM', 'gsutil', 'MACS', 'Genrich', 'SNP-sites', 'cryodrgn', 'KaKs_Calculator', 'hifiasm-meta', 'CheckM', 'BayeScEnv', 'spaln', 'Molden', 'RADtools', 'Chiron', 'bed2diffs', 'MaSuRCA', 'eval', 'DTI-TK', 'ELPH', 'HiC-Pro', 'LAMMPS', 'Pindel', 'vcflib', 'SPAGeDi', 'how_are_we_stranded_here', 'bcl2fastq', 'DLCpar', 'AutoDockSuite', 'smalt', 'VirSorter2', 'libtasn1', 'Kraken2', 'anduril', 'Themisto', 'Phylonium', 'skewer', 'PhyloGibbs', 'Porechop', 'MariaDB', 'HipMer', 'xxd', 'redmask', 'PAPI', 'GPy', 'QUAST', 'ChimPipe', 'NCO', 'Ghostscript', 'QMCPACK', 'samblaster', 'Merlin', 'NCBI-Toolkit', 'flatbuffers', 'git-lfs', 'MetaEuk', 'KLayout', 'uchime', 'ProModII', 'FreeFem++', 'Nim', 'UCLUST', 'ETE3', 'chewBBACA', 'panaroo', 'Piranha', 'MaCH', 'tabix', 'CONTRAfold', 'IMa2', 'GeneMark-ET', 'kim-api', 'Roary', 'PROCSE', 'HISAT3N', 'andi', 'sumaclust', 'GCC_nvptx_none', 'PASApipeline', 'pairtools', 'Miniconda2', 'ChimeraX', 'MPJ-Express', 'GenomeTools', 'FastQTL', 'VIGRA', 'MOE', 'clearcut', 'LittleCMS', 'ngmlr', 'AmpliconNoise', 'ngs-barcode-count-c', 'Tomo3D', 'Transrate', 'ECL', 'Magic-BLAST', 'FSA', 'Ruby', 'KisSplice', 'RAD', 'snakemake', 'p11-kit', 'LoFreq', 'Kent_tools', 'GeneTorrent-download', 'FastCodeML', 'PLINKSEQ', 'treemix', 'GapCloser', 'makeinfo', 'Molcas', 'gpustat', 'QuadProg++', 'ruamel.yaml', 'Relate', 'ncdu', 'AutoDock_Vina', 'Coot', 'motif', 'GnuTLS', 'cuteSV', 'GLIMMER', 'Tracer', 'stress', 'FLASH2', 'OpenSSL', 'APBS', 'rSeq', 'Foldseek', 'Caffe_unet', 'Polypolish', 'imake', 'FlexiBLAS', 'Tombo', 'Grace', 'Structure', 'SCANMS', 'coevol', 'Check', 'NiBabel', 'iSMC', 'libidn2', 'bokeh', 'igv-reports', 'bwa-mem2', 'SWIPE', 'ATSAS', 'giflib', 'dashing', 'ChIP-Seq', 'purge_dups', 'Xvfb', 'MetaBAT', 'mumax', 'Voro++', 'nvptx-tools', 'Ragel', 'ImReP', 'Cube', 'pocl', 'Discovar', 'eems_snps', 'GCL', 'bioawk', 'Seqtk', 'detettore', 'RDFlib', 'samplot', 'MEGAHIT', 'ClonalFrame', 'SNAPE-pooled', 'Gdk-Pixbuf', 'Maven', 'NanoPlot', 'PyOpenCL', 'libdap', 'sickle', 'ea-utils', 'PRINSEQ', 'libdeflate', 'Cufflinks', 'KAT', 'iced', 'Test-YAML', 'Minipolish', 'scikit-bio', 'Red', 'Theano', 'EVcouplings', 'Chimera', 'aria2', 'focus', 'OTF2', 'BamBam', 'MIRA', 'Minimac', 'Sambamba', 'voronota', 'PureCLIP', 'CGAL', 'ABINIT', 'disambiguate', 'provean', 'Flexbar', 'Cython', 'SCOTCH', 'IgBLAST', 'Mathematica', 'Cookiecutter', 'hifiasm', 'Nextflow', 'Hail', 'DendroPy', 'SHELX', 'Platanus_allee', 'OCaml', 'angsd', 'abricate', 'ParMETIS', 'COBS', 'MAMBA', 'SpaceRanger', 'VMD', 'LUMPY', 'mdtest', 'OBITools', 'MRtrix3', 'ribomap', 'LSD', 'biom-format', 'MAGeCK', 'mpiBLAST', 'ecCodes', 'fqgrep', 'nseg', 'Pysam', 'NWChem', 'PhyloBayes-MPI', 'ctffind', 'MySQL', 'OPARI2', 'CARNAC-LR', 'Mercurial', 'SKA', 'LSD2', 'Singularity', 'circlator', 'RNA-QC-Chain', 'MariaDB-connector-c', 'slurm-drmaa', 'Slicer', 'STAR-Fusion', 'csvkit', 'PeakSeq', 'make', 'p7zip', 'archspec', 'ZORRO', 'COMSOL', 'MAKER', 'GC3Pie', 'Co-phylog', 'EPACTS', 'MotEvo', 'Gossamer', 'EMAN', 'tax2tree', 'bbftpPRO', 'trimAl', 'INRICH', 'dask', 'RNA-SeQC', 'sniffles', 'BioPerl', 'BLASR', 'dashing2', 'PhenotypeSeeker', 'GenomeThreader', 'DiscovarDenovo', 'Centrifuge', 'bamaddrg', 'ExaBayes', 'ALLPATHS-LG', 'IDR', 'OpenCV', 'Oases', 'TWL-NINJA', 'NcFTP', 'code-server', 'Platanus', 're2c', 'kdiff3', 'ParsInsert', 'rate4site', 'MMSEQ', 'Homer', 'protobuf-python', 'PANDAseq', 'T-Coffee', 'HDF', 'ANTLR', 'Flappie', 'ARCS', 'mSWEEP', 'libaec', 'Score-P', 'Filtlong', 'SelEstim', 'figlet', 'UMI-tools', 'BitSeq', 'cooler', 'FastME', 'gdc-client', 'TPMCalculator', 'Arrow', 'lftp', 'Clustal-Omega', 'pybind11', 'patchelf', 'QuTiP', 'PHAST', 'jbigkit']\n"
     ]
    }
   ],
   "source": [
    "original_count = df.shape[0]\n",
    "\n",
    "# Count the occurrences of each family\n",
    "family_counts = df['family'].value_counts()\n",
    "\n",
    "# Filter the DataFrame to keep families with more than one entry\n",
    "scicore_filtered = df[df['family'].map(family_counts) > 1]\n",
    "\n",
    "# Get the new number of rows after filtering\n",
    "filtered_count = scicore_filtered.shape[0]\n",
    "\n",
    "# Identify the families that were removed\n",
    "removed_families = family_counts[family_counts == 1].index.tolist()\n",
    "\n",
    "# Print the results\n",
    "print(f\"Original DataFrame had {original_count} rows.\")\n",
    "print(f\"Filtered DataFrame has {filtered_count} rows.\")\n",
    "print(f\"Families removed (only had 1 entry): {removed_families}\")\n"
   ],
   "metadata": {
    "collapsed": false,
    "ExecuteTime": {
     "end_time": "2023-12-11T15:49:16.736145Z",
     "start_time": "2023-12-11T15:49:16.729639Z"
    }
   },
   "id": "161acb1c2e62f89f"
  },
  {
   "cell_type": "markdown",
   "source": [
    "Example: Get the tlsh hash of the first entry (DIAMOND) and compare to all other entries."
   ],
   "metadata": {
    "collapsed": false
   },
   "id": "6d16e014dc57fa6c"
  },
  {
   "cell_type": "markdown",
   "source": [
    "# ROC Curve\n",
    "\n",
    "To correctly get a ROC curve, 4 values are essential: TP, FP, TN, FN.\n",
    "\n",
    "The problem currently is, that I do not have other samples which can have no match. All the samples have a match and therefore the TN rate is 0. Thus, I will add the same amount of malware samples and concatenate with the scicore db."
   ],
   "metadata": {
    "collapsed": false
   },
   "id": "8b3baf9ef3e78ab2"
  },
  {
   "cell_type": "code",
   "execution_count": 11,
   "outputs": [
    {
     "data": {
      "text/plain": "                          _id              family  \\\n0                           0             DIAMOND   \n1                           1             DIAMOND   \n2                           2             DIAMOND   \n3                           3             DIAMOND   \n5                           5      RStudio-Server   \n..                        ...                 ...   \n161  656377e93624482ac9d19b07  Android.Hummingbad   \n162  65639bb63624482ac9d2efd0               QtBot   \n163  656377eb3624482ac9d19b12  Android.Hummingbad   \n164  65639d3e3624482ac9d304b1              Sakula   \n165  65639ff43624482ac9d322a2          WpBruteBot   \n\n                                                SHA256  file_size  \\\n0    bdbbc7d10475610a47665613a15b523692f2e586e495bf...    1744592   \n1    3e5b9caaa8ec0488d0ef6649fa3205af16cd286921fdf3...    1264648   \n2    3e7c7a7415567a30a6131c959448e136c1c4cd25e2755d...    7963768   \n3    6336bd767371ef854def756641f8af86dd591e62170eb8...    1599192   \n5    8ed496fd927bf12ab2680275d12ae8d239c77f426345e8...       4364   \n..                                                 ...        ...   \n161  2f8b2cec903babe3277d0c6d787b20e9a696bc458c187a...    2457424   \n162  9da4699c30eb631198faf3224269ec42b0d5e45f147692...     256464   \n163  126e2e83d0ec518dca0d4fbf876fc9ba45ee1c5a00e90b...    2359119   \n164  0e5f5d373e4283271950b6f5d15b7f5400e2bd1b815c89...      36864   \n165  1749584133dc3678dbf687f3c7e9928cf1cda400c86138...   22859484   \n\n                                                ssdeep       sdhash  \\\n0    {'ssdeep': '24576:0ZgkO8W6krEazzEHRyE5fx5j0Gkm...  sdhash hash   \n1    {'ssdeep': '24576:N7RayWHeZhpVZNmHQ/0R223Vcqem...  sdhash hash   \n2    {'ssdeep': '98304:O4g2u6YzoSU6Zr5CqeWRP07lRNMc...  sdhash hash   \n3    {'ssdeep': '24576:39vHSut4l6xFkIRp1IzwbIPGVild...  sdhash hash   \n5    {'ssdeep': '96:mKNT20vznhw3tngiBbGBsek3Kfy2wy3...  sdhash hash   \n..                                                 ...          ...   \n161  {'ssdeep': '49152:LwuyDA3JlgZyP5qG66BbUAJ/bKJo...  sdhash hash   \n162  {'ssdeep': '3072:wNzPHk9MpcMUBzGjkN2kOW7zpO7KZ...  sdhash hash   \n163  {'ssdeep': '49152:QwJGetSmNJa/4sE0OKX9s7FbWptb...  sdhash hash   \n164  {'ssdeep': '768:lwbYGCv4nuEcJpQK4TQbtKvXwXgA9l...  sdhash hash   \n165  {'ssdeep': '393216:RumADZm6MjCzIz9iY3hJpM857m6...  sdhash hash   \n\n                                                  tlsh       machoc  malware  \n0    {'tlsh': 'T170858D1B66820CB9C492D53467E797F268...  Machoc hash    False  \n1    {'tlsh': 'T1FB457E47FAC358A8C097D538466FA1367A...  Machoc hash    False  \n2    {'tlsh': 'T1A3868E03E687A468C8A6C43813DB91B3ED...  Machoc hash    False  \n3    {'tlsh': 'T112759F1B6BA208ADC892D53457E796F26C...  Machoc hash    False  \n5    {'tlsh': 'T150918C52B0542BB67974A378DBB71467E3...  Machoc hash    False  \n..                                                 ...          ...      ...  \n161  {'tlsh': 'T1B3B51242F3A6F91BC931D0726285233B65...  Machoc hash     True  \n162  {'tlsh': 'T198448D4B48DCB391CA7A4C76A4B29019CD...  Machoc hash     True  \n163  {'tlsh': 'T1C4B50256F3B6F816C832D1327289273765...  Machoc hash     True  \n164  {'tlsh': 'T122F2E0E0B6B784C8C99C563351272A49A1...  Machoc hash     True  \n165  {'tlsh': 'T1103733D1FD9192ABC763807C5E2C4AC3C0...  Machoc hash     True  \n\n[1830 rows x 9 columns]",
      "text/html": "<div>\n<style scoped>\n    .dataframe tbody tr th:only-of-type {\n        vertical-align: middle;\n    }\n\n    .dataframe tbody tr th {\n        vertical-align: top;\n    }\n\n    .dataframe thead th {\n        text-align: right;\n    }\n</style>\n<table border=\"1\" class=\"dataframe\">\n  <thead>\n    <tr style=\"text-align: right;\">\n      <th></th>\n      <th>_id</th>\n      <th>family</th>\n      <th>SHA256</th>\n      <th>file_size</th>\n      <th>ssdeep</th>\n      <th>sdhash</th>\n      <th>tlsh</th>\n      <th>machoc</th>\n      <th>malware</th>\n    </tr>\n  </thead>\n  <tbody>\n    <tr>\n      <th>0</th>\n      <td>0</td>\n      <td>DIAMOND</td>\n      <td>bdbbc7d10475610a47665613a15b523692f2e586e495bf...</td>\n      <td>1744592</td>\n      <td>{'ssdeep': '24576:0ZgkO8W6krEazzEHRyE5fx5j0Gkm...</td>\n      <td>sdhash hash</td>\n      <td>{'tlsh': 'T170858D1B66820CB9C492D53467E797F268...</td>\n      <td>Machoc hash</td>\n      <td>False</td>\n    </tr>\n    <tr>\n      <th>1</th>\n      <td>1</td>\n      <td>DIAMOND</td>\n      <td>3e5b9caaa8ec0488d0ef6649fa3205af16cd286921fdf3...</td>\n      <td>1264648</td>\n      <td>{'ssdeep': '24576:N7RayWHeZhpVZNmHQ/0R223Vcqem...</td>\n      <td>sdhash hash</td>\n      <td>{'tlsh': 'T1FB457E47FAC358A8C097D538466FA1367A...</td>\n      <td>Machoc hash</td>\n      <td>False</td>\n    </tr>\n    <tr>\n      <th>2</th>\n      <td>2</td>\n      <td>DIAMOND</td>\n      <td>3e7c7a7415567a30a6131c959448e136c1c4cd25e2755d...</td>\n      <td>7963768</td>\n      <td>{'ssdeep': '98304:O4g2u6YzoSU6Zr5CqeWRP07lRNMc...</td>\n      <td>sdhash hash</td>\n      <td>{'tlsh': 'T1A3868E03E687A468C8A6C43813DB91B3ED...</td>\n      <td>Machoc hash</td>\n      <td>False</td>\n    </tr>\n    <tr>\n      <th>3</th>\n      <td>3</td>\n      <td>DIAMOND</td>\n      <td>6336bd767371ef854def756641f8af86dd591e62170eb8...</td>\n      <td>1599192</td>\n      <td>{'ssdeep': '24576:39vHSut4l6xFkIRp1IzwbIPGVild...</td>\n      <td>sdhash hash</td>\n      <td>{'tlsh': 'T112759F1B6BA208ADC892D53457E796F26C...</td>\n      <td>Machoc hash</td>\n      <td>False</td>\n    </tr>\n    <tr>\n      <th>5</th>\n      <td>5</td>\n      <td>RStudio-Server</td>\n      <td>8ed496fd927bf12ab2680275d12ae8d239c77f426345e8...</td>\n      <td>4364</td>\n      <td>{'ssdeep': '96:mKNT20vznhw3tngiBbGBsek3Kfy2wy3...</td>\n      <td>sdhash hash</td>\n      <td>{'tlsh': 'T150918C52B0542BB67974A378DBB71467E3...</td>\n      <td>Machoc hash</td>\n      <td>False</td>\n    </tr>\n    <tr>\n      <th>...</th>\n      <td>...</td>\n      <td>...</td>\n      <td>...</td>\n      <td>...</td>\n      <td>...</td>\n      <td>...</td>\n      <td>...</td>\n      <td>...</td>\n      <td>...</td>\n    </tr>\n    <tr>\n      <th>161</th>\n      <td>656377e93624482ac9d19b07</td>\n      <td>Android.Hummingbad</td>\n      <td>2f8b2cec903babe3277d0c6d787b20e9a696bc458c187a...</td>\n      <td>2457424</td>\n      <td>{'ssdeep': '49152:LwuyDA3JlgZyP5qG66BbUAJ/bKJo...</td>\n      <td>sdhash hash</td>\n      <td>{'tlsh': 'T1B3B51242F3A6F91BC931D0726285233B65...</td>\n      <td>Machoc hash</td>\n      <td>True</td>\n    </tr>\n    <tr>\n      <th>162</th>\n      <td>65639bb63624482ac9d2efd0</td>\n      <td>QtBot</td>\n      <td>9da4699c30eb631198faf3224269ec42b0d5e45f147692...</td>\n      <td>256464</td>\n      <td>{'ssdeep': '3072:wNzPHk9MpcMUBzGjkN2kOW7zpO7KZ...</td>\n      <td>sdhash hash</td>\n      <td>{'tlsh': 'T198448D4B48DCB391CA7A4C76A4B29019CD...</td>\n      <td>Machoc hash</td>\n      <td>True</td>\n    </tr>\n    <tr>\n      <th>163</th>\n      <td>656377eb3624482ac9d19b12</td>\n      <td>Android.Hummingbad</td>\n      <td>126e2e83d0ec518dca0d4fbf876fc9ba45ee1c5a00e90b...</td>\n      <td>2359119</td>\n      <td>{'ssdeep': '49152:QwJGetSmNJa/4sE0OKX9s7FbWptb...</td>\n      <td>sdhash hash</td>\n      <td>{'tlsh': 'T1C4B50256F3B6F816C832D1327289273765...</td>\n      <td>Machoc hash</td>\n      <td>True</td>\n    </tr>\n    <tr>\n      <th>164</th>\n      <td>65639d3e3624482ac9d304b1</td>\n      <td>Sakula</td>\n      <td>0e5f5d373e4283271950b6f5d15b7f5400e2bd1b815c89...</td>\n      <td>36864</td>\n      <td>{'ssdeep': '768:lwbYGCv4nuEcJpQK4TQbtKvXwXgA9l...</td>\n      <td>sdhash hash</td>\n      <td>{'tlsh': 'T122F2E0E0B6B784C8C99C563351272A49A1...</td>\n      <td>Machoc hash</td>\n      <td>True</td>\n    </tr>\n    <tr>\n      <th>165</th>\n      <td>65639ff43624482ac9d322a2</td>\n      <td>WpBruteBot</td>\n      <td>1749584133dc3678dbf687f3c7e9928cf1cda400c86138...</td>\n      <td>22859484</td>\n      <td>{'ssdeep': '393216:RumADZm6MjCzIz9iY3hJpM857m6...</td>\n      <td>sdhash hash</td>\n      <td>{'tlsh': 'T1103733D1FD9192ABC763807C5E2C4AC3C0...</td>\n      <td>Machoc hash</td>\n      <td>True</td>\n    </tr>\n  </tbody>\n</table>\n<p>1830 rows × 9 columns</p>\n</div>"
     },
     "execution_count": 11,
     "metadata": {},
     "output_type": "execute_result"
    }
   ],
   "source": [
    "scicore_filtered[\"malware\"] = False\n",
    "size = scicore_filtered.shape[0] / 10\n",
    "malware = pd.DataFrame(list(db[\"families\"].aggregate([{\"$sample\": {\"size\": size}}])))\n",
    "malware[\"malware\"] = True\n",
    "\n",
    "scicore_concat = pd.concat([scicore_filtered, malware])\n",
    "\n",
    "scicore_concat"
   ],
   "metadata": {
    "collapsed": false,
    "ExecuteTime": {
     "end_time": "2023-12-11T15:49:16.798567Z",
     "start_time": "2023-12-11T15:49:16.737175Z"
    }
   },
   "id": "df3c6e3c0b6c2dfb"
  },
  {
   "cell_type": "markdown",
   "source": [
    "### TLSH Prediction Concat\n",
    "To now correctly get the 4 essential values for the ROC curve, I will go through the concat dataset and compare to the scicore dataset. If the positive match is wrong then it is a FP. If no match gets found then it is a TN. If a scicore sample gets not matched to scicore dataset then it is a FN. If a scicore sample gets matched to a scicore sample then it is a TP."
   ],
   "metadata": {
    "collapsed": false
   },
   "id": "744d1a997f16c148"
  },
  {
   "cell_type": "code",
   "execution_count": 12,
   "outputs": [],
   "source": [
    "# Function to generate a dataframe with all the possible combinations of the hashes. Reduces iloc overhead.\n",
    "def tlsh_comb(df=scicore_concat):\n",
    "    from itertools import combinations\n",
    "    \n",
    "    # Generate all binary combinations of the strings in the specified column\n",
    "    string_combinations = combinations(df[['tlsh', 'family', 'malware']].iterrows(), 2)\n",
    "    \n",
    "    # Apply tlsh.diff to each combination\n",
    "    results = []\n",
    "    for (idx1, row1), (idx2, row2) in string_combinations:\n",
    "        diff_score = tlsh.diff(row1['tlsh'][\"tlsh\"], row2['tlsh'][\"tlsh\"])\n",
    "        results.append((row1['family'], row2['family'], row1['malware'], row2['malware'], row1['tlsh']['tlsh'], row2['tlsh']['tlsh'], diff_score))\n",
    "    \n",
    "    # Convert results to DataFrame\n",
    "    results_df = pd.DataFrame(results, columns=['Family 1', 'Family 2', 'Malware 1', \"Malware 2\", 'TLSH 1', 'TLSH 2', 'Diff Score'])\n",
    "    \n",
    "    return results_df\n"
   ],
   "metadata": {
    "collapsed": false,
    "ExecuteTime": {
     "end_time": "2023-12-11T15:49:16.799479Z",
     "start_time": "2023-12-11T15:49:16.770753Z"
    }
   },
   "id": "34c2f90cb8ec7c40"
  },
  {
   "cell_type": "code",
   "execution_count": 13,
   "outputs": [
    {
     "data": {
      "text/plain": "0.6509136735979836"
     },
     "execution_count": 13,
     "metadata": {},
     "output_type": "execute_result"
    }
   ],
   "source": [
    "results_df = tlsh_comb()\n",
    "p = results_df.loc[results_df.groupby(\"TLSH 1\")[\"Diff Score\"].idxmin()]\n",
    "\n",
    "p = p[p[\"Malware 2\"] != True]\n",
    "\n",
    "(p[\"Family 1\"] == p[\"Family 2\"]).sum() / p.shape[0]"
   ],
   "metadata": {
    "collapsed": false,
    "ExecuteTime": {
     "end_time": "2023-12-11T15:49:33.589489Z",
     "start_time": "2023-12-11T15:49:16.840460Z"
    }
   },
   "id": "8daf5a3ba94515d"
  },
  {
   "cell_type": "code",
   "execution_count": 14,
   "outputs": [
    {
     "data": {
      "text/plain": "     threshold  true_positive_rate  false_positive_rate\n0          0.0            0.000000             0.000000\n1          1.0            0.237762             0.036585\n2          2.0            0.404372             0.039474\n3          3.0            0.462312             0.041096\n4          4.0            0.513636             0.042254\n..         ...                 ...                  ...\n495      495.0            0.997104             1.000000\n496      496.0            0.997104             1.000000\n497      497.0            0.997104             1.000000\n498      498.0            0.997104             1.000000\n499      499.0            0.997104             1.000000\n\n[500 rows x 3 columns]",
      "text/html": "<div>\n<style scoped>\n    .dataframe tbody tr th:only-of-type {\n        vertical-align: middle;\n    }\n\n    .dataframe tbody tr th {\n        vertical-align: top;\n    }\n\n    .dataframe thead th {\n        text-align: right;\n    }\n</style>\n<table border=\"1\" class=\"dataframe\">\n  <thead>\n    <tr style=\"text-align: right;\">\n      <th></th>\n      <th>threshold</th>\n      <th>true_positive_rate</th>\n      <th>false_positive_rate</th>\n    </tr>\n  </thead>\n  <tbody>\n    <tr>\n      <th>0</th>\n      <td>0.0</td>\n      <td>0.000000</td>\n      <td>0.000000</td>\n    </tr>\n    <tr>\n      <th>1</th>\n      <td>1.0</td>\n      <td>0.237762</td>\n      <td>0.036585</td>\n    </tr>\n    <tr>\n      <th>2</th>\n      <td>2.0</td>\n      <td>0.404372</td>\n      <td>0.039474</td>\n    </tr>\n    <tr>\n      <th>3</th>\n      <td>3.0</td>\n      <td>0.462312</td>\n      <td>0.041096</td>\n    </tr>\n    <tr>\n      <th>4</th>\n      <td>4.0</td>\n      <td>0.513636</td>\n      <td>0.042254</td>\n    </tr>\n    <tr>\n      <th>...</th>\n      <td>...</td>\n      <td>...</td>\n      <td>...</td>\n    </tr>\n    <tr>\n      <th>495</th>\n      <td>495.0</td>\n      <td>0.997104</td>\n      <td>1.000000</td>\n    </tr>\n    <tr>\n      <th>496</th>\n      <td>496.0</td>\n      <td>0.997104</td>\n      <td>1.000000</td>\n    </tr>\n    <tr>\n      <th>497</th>\n      <td>497.0</td>\n      <td>0.997104</td>\n      <td>1.000000</td>\n    </tr>\n    <tr>\n      <th>498</th>\n      <td>498.0</td>\n      <td>0.997104</td>\n      <td>1.000000</td>\n    </tr>\n    <tr>\n      <th>499</th>\n      <td>499.0</td>\n      <td>0.997104</td>\n      <td>1.000000</td>\n    </tr>\n  </tbody>\n</table>\n<p>500 rows × 3 columns</p>\n</div>"
     },
     "execution_count": 14,
     "metadata": {},
     "output_type": "execute_result"
    }
   ],
   "source": [
    "def tlsh_thresh(s):\n",
    "    s = s.loc[results_df.groupby(\"TLSH 1\")[\"Diff Score\"].idxmin()]\n",
    "    ssdeep_th = pd.DataFrame(columns=[\"threshold\", \"true_positive_rate\", \"false_positive_rate\"])\n",
    "    comp_to_sci = s[s[\"Malware 2\"] == False]\n",
    "    compt_to_malware = s[s[\"Malware 2\"] == True]\n",
    "    for i in range (0,500,1):\n",
    "        \n",
    "        sci_th = comp_to_sci[comp_to_sci[\"Diff Score\"] < i]\n",
    "        mal_th = compt_to_malware[compt_to_malware[\"Diff Score\"] < i]\n",
    "        f_th = compt_to_malware[compt_to_malware[\"Diff Score\"] >= i]\n",
    "        \n",
    "        TP = (sci_th[\"Family 1\"] == sci_th[\"Family 2\"]).sum()\n",
    "        FP = (sci_th[\"Family 1\"] != sci_th[\"Family 2\"]).sum()\n",
    "        FN = (f_th[\"Family 1\"] != f_th[\"Family 2\"]).sum()\n",
    "        TN = (f_th[\"Family 1\"] == f_th[\"Family 2\"]).sum()\n",
    "        \n",
    "        TPR = TP / (TP + FN) if TP + FN != 0 else 0\n",
    "        FPR = FP / (FP + TN) if FP + TN != 0 else 0\n",
    "        # Append results to DataFrame\n",
    "        ssdeep_th.loc[i] = [i, TPR, FPR]\n",
    "    return ssdeep_th\n",
    "p = tlsh_thresh(tlsh_comb())\n",
    "p"
   ],
   "metadata": {
    "collapsed": false,
    "ExecuteTime": {
     "end_time": "2023-12-11T15:49:51.143953Z",
     "start_time": "2023-12-11T15:49:33.687937Z"
    }
   },
   "id": "53075d206cb0fbc7"
  },
  {
   "cell_type": "code",
   "execution_count": 15,
   "outputs": [
    {
     "name": "stdout",
     "output_type": "stream",
     "text": [
      "The optimal Threshold is: 25\n"
     ]
    }
   ],
   "source": [
    "print(f'The optimal Threshold is: {(p[\"true_positive_rate\"] - p[\"false_positive_rate\"]).abs().idxmax()}')"
   ],
   "metadata": {
    "collapsed": false,
    "ExecuteTime": {
     "end_time": "2023-12-11T15:49:51.149081Z",
     "start_time": "2023-12-11T15:49:51.146394Z"
    }
   },
   "id": "161a0df56997297d"
  },
  {
   "cell_type": "code",
   "execution_count": 16,
   "outputs": [
    {
     "data": {
      "text/plain": "<Figure size 640x480 with 1 Axes>",
      "image/png": "[encoded data removed]"
     },
     "metadata": {},
     "output_type": "display_data"
    }
   ],
   "source": [
    "p.plot(x=\"false_positive_rate\", y=\"true_positive_rate\", xlim=(0, 1), ylim=(0, 1),title=\"ROC Curve for TLSH\", legend=False)\n",
    "plt.plot([0, 1], [0, 1], color='navy', linestyle='--')\n",
    "plt.show()"
   ],
   "metadata": {
    "collapsed": false,
    "ExecuteTime": {
     "end_time": "2023-12-11T15:49:51.224415Z",
     "start_time": "2023-12-11T15:49:51.148528Z"
    }
   },
   "id": "924984aacef97837"
  },
  {
   "cell_type": "markdown",
   "source": [
    "With a threshold of 30 we get the best ratio of true positive rate and false positive rate. The true positive rate is 0.81 and the false positive rate is 0.19."
   ],
   "metadata": {
    "collapsed": false
   },
   "id": "424bd1fcc14e47e"
  },
  {
   "cell_type": "markdown",
   "source": [
    "# SSDEEP\n",
    "## Prediction\n",
    "\n",
    "First I will define a function that will predict the family of a sample based on the score of the comparison. The score is the maximum score of the comparison of the sample to all other samples. If the score is 0, there is no match and the prediction is \"No Match\". If the score is higher than 0, the prediction is the family with the highest score, based on the threshold. Second, I will define a function that will calculate the ROC curve based on the predictions on the given thresholds."
   ],
   "metadata": {
    "collapsed": false
   },
   "id": "d66f50b8296342f3"
  },
  {
   "cell_type": "code",
   "execution_count": 17,
   "outputs": [],
   "source": [
    "def ssdeep_comb(df=scicore_concat):\n",
    "    from itertools import combinations\n",
    "    \n",
    "    # Generate all binary combinations of the strings in the specified column\n",
    "    string_combinations = combinations(df[['ssdeep', 'family', 'malware']].iterrows(), 2)\n",
    "    \n",
    "    # Apply tlsh.diff to each combination\n",
    "    results = []\n",
    "    for (idx1, row1), (idx2, row2) in string_combinations:\n",
    "        diff_score = ssdeep.compare(row1['ssdeep'][\"ssdeep\"], row2['ssdeep'][\"ssdeep\"])\n",
    "        results.append((row1['family'], row2['family'], row1['malware'], row2['malware'], row1['ssdeep']['ssdeep'], row2['ssdeep']['ssdeep'], diff_score))\n",
    "    \n",
    "    # Convert results to DataFrame\n",
    "    results_df = pd.DataFrame(results, columns=['Family 1', 'Family 2', 'Malware 1', \"Malware 2\", 'ssdeep 1', 'ssdeep 2', 'Diff Score'])\n",
    "    \n",
    "    return results_df"
   ],
   "metadata": {
    "collapsed": false,
    "ExecuteTime": {
     "end_time": "2023-12-11T15:49:51.241496Z",
     "start_time": "2023-12-11T15:49:51.219167Z"
    }
   },
   "id": "de2d4b94273078e3"
  },
  {
   "cell_type": "code",
   "execution_count": 18,
   "outputs": [],
   "source": [
    "result_ssdeep = ssdeep_comb(df=scicore_filtered)"
   ],
   "metadata": {
    "collapsed": false,
    "ExecuteTime": {
     "end_time": "2023-12-11T15:50:06.276030Z",
     "start_time": "2023-12-11T15:49:51.230452Z"
    }
   },
   "id": "aa8b789b7dcd2648"
  },
  {
   "cell_type": "code",
   "execution_count": 19,
   "outputs": [
    {
     "data": {
      "text/plain": "         Family 1        Family 2  Malware 1  Malware 2  \\\n0         DIAMOND         DIAMOND      False      False   \n1         DIAMOND         DIAMOND      False      False   \n2         DIAMOND         DIAMOND      False      False   \n3         DIAMOND  RStudio-Server      False      False   \n4         DIAMOND  RStudio-Server      False      False   \n...           ...             ...        ...        ...   \n1383611  help2man        help2man      False      False   \n1383612  help2man        help2man      False      False   \n1383613  help2man        help2man      False      False   \n1383614  help2man        help2man      False      False   \n1383615  help2man        help2man      False      False   \n\n                                                  ssdeep 1  \\\n0        24576:0ZgkO8W6krEazzEHRyE5fx5j0Gkmbc4/EnbL6kS1...   \n1        24576:0ZgkO8W6krEazzEHRyE5fx5j0Gkmbc4/EnbL6kS1...   \n2        24576:0ZgkO8W6krEazzEHRyE5fx5j0Gkmbc4/EnbL6kS1...   \n3        24576:0ZgkO8W6krEazzEHRyE5fx5j0Gkmbc4/EnbL6kS1...   \n4        24576:0ZgkO8W6krEazzEHRyE5fx5j0Gkmbc4/EnbL6kS1...   \n...                                                    ...   \n1383611  384:svLjrCCJ8/eQrvPX+ejZbCOL3npSeLLK9qj9OLUAg5...   \n1383612  384:svLjrCCJ8/eQrvPX+ejZbCOL3npSeLLK9qj9OLUAg5...   \n1383613  384:sBLdhCCJ8rwQ0EvrX+rjZbOeL3npSeLLK9qj9OLUAg...   \n1383614  384:sBLdhCCJ8rwQ0EvrX+rjZbOeL3npSeLLK9qj9OLUAg...   \n1383615  384:sBLdkCCJ8rwQ0EvrX+rjZbOeL3npSeLLK9qj9OLUAg...   \n\n                                                  ssdeep 2  Diff Score  \n0        24576:N7RayWHeZhpVZNmHQ/0R223Vcqemo8hS1QOq:ray...           0  \n1        98304:O4g2u6YzoSU6Zr5CqeWRP07lRNMceRe/ai8Qt5vj...           0  \n2        24576:39vHSut4l6xFkIRp1IzwbIPGVildRLdJNyZJfkD7...           0  \n3        96:mKNT20vznhw3tngiBbGBsek3Kfy2wy3wy70rsnt/amM...           0  \n4        96:mKNT20vsihw3tngiBbGBsek3Kfy2wy3wy70rsnt/amM...           0  \n...                                                    ...         ...  \n1383611  384:sBLdkCCJ8rwQ0EvrX+rjZbOeL3npSeLLK9qj9OLUAg...          80  \n1383612  384:sDLjOCCJ8/eQrvPX+rjZb2OL3npSeLLK9qj9OLUAg5...          94  \n1383613  384:sBLdkCCJ8rwQ0EvrX+rjZbOeL3npSeLLK9qj9OLUAg...          99  \n1383614  384:sDLjOCCJ8/eQrvPX+rjZb2OL3npSeLLK9qj9OLUAg5...          82  \n1383615  384:sDLjOCCJ8/eQrvPX+rjZb2OL3npSeLLK9qj9OLUAg5...          82  \n\n[1383616 rows x 7 columns]",
      "text/html": "<div>\n<style scoped>\n    .dataframe tbody tr th:only-of-type {\n        vertical-align: middle;\n    }\n\n    .dataframe tbody tr th {\n        vertical-align: top;\n    }\n\n    .dataframe thead th {\n        text-align: right;\n    }\n</style>\n<table border=\"1\" class=\"dataframe\">\n  <thead>\n    <tr style=\"text-align: right;\">\n      <th></th>\n      <th>Family 1</th>\n      <th>Family 2</th>\n      <th>Malware 1</th>\n      <th>Malware 2</th>\n      <th>ssdeep 1</th>\n      <th>ssdeep 2</th>\n      <th>Diff Score</th>\n    </tr>\n  </thead>\n  <tbody>\n    <tr>\n      <th>0</th>\n      <td>DIAMOND</td>\n      <td>DIAMOND</td>\n      <td>False</td>\n      <td>False</td>\n      <td>24576:0ZgkO8W6krEazzEHRyE5fx5j0Gkmbc4/EnbL6kS1...</td>\n      <td>24576:N7RayWHeZhpVZNmHQ/0R223Vcqemo8hS1QOq:ray...</td>\n      <td>0</td>\n    </tr>\n    <tr>\n      <th>1</th>\n      <td>DIAMOND</td>\n      <td>DIAMOND</td>\n      <td>False</td>\n      <td>False</td>\n      <td>24576:0ZgkO8W6krEazzEHRyE5fx5j0Gkmbc4/EnbL6kS1...</td>\n      <td>98304:O4g2u6YzoSU6Zr5CqeWRP07lRNMceRe/ai8Qt5vj...</td>\n      <td>0</td>\n    </tr>\n    <tr>\n      <th>2</th>\n      <td>DIAMOND</td>\n      <td>DIAMOND</td>\n      <td>False</td>\n      <td>False</td>\n      <td>24576:0ZgkO8W6krEazzEHRyE5fx5j0Gkmbc4/EnbL6kS1...</td>\n      <td>24576:39vHSut4l6xFkIRp1IzwbIPGVildRLdJNyZJfkD7...</td>\n      <td>0</td>\n    </tr>\n    <tr>\n      <th>3</th>\n      <td>DIAMOND</td>\n      <td>RStudio-Server</td>\n      <td>False</td>\n      <td>False</td>\n      <td>24576:0ZgkO8W6krEazzEHRyE5fx5j0Gkmbc4/EnbL6kS1...</td>\n      <td>96:mKNT20vznhw3tngiBbGBsek3Kfy2wy3wy70rsnt/amM...</td>\n      <td>0</td>\n    </tr>\n    <tr>\n      <th>4</th>\n      <td>DIAMOND</td>\n      <td>RStudio-Server</td>\n      <td>False</td>\n      <td>False</td>\n      <td>24576:0ZgkO8W6krEazzEHRyE5fx5j0Gkmbc4/EnbL6kS1...</td>\n      <td>96:mKNT20vsihw3tngiBbGBsek3Kfy2wy3wy70rsnt/amM...</td>\n      <td>0</td>\n    </tr>\n    <tr>\n      <th>...</th>\n      <td>...</td>\n      <td>...</td>\n      <td>...</td>\n      <td>...</td>\n      <td>...</td>\n      <td>...</td>\n      <td>...</td>\n    </tr>\n    <tr>\n      <th>1383611</th>\n      <td>help2man</td>\n      <td>help2man</td>\n      <td>False</td>\n      <td>False</td>\n      <td>384:svLjrCCJ8/eQrvPX+ejZbCOL3npSeLLK9qj9OLUAg5...</td>\n      <td>384:sBLdkCCJ8rwQ0EvrX+rjZbOeL3npSeLLK9qj9OLUAg...</td>\n      <td>80</td>\n    </tr>\n    <tr>\n      <th>1383612</th>\n      <td>help2man</td>\n      <td>help2man</td>\n      <td>False</td>\n      <td>False</td>\n      <td>384:svLjrCCJ8/eQrvPX+ejZbCOL3npSeLLK9qj9OLUAg5...</td>\n      <td>384:sDLjOCCJ8/eQrvPX+rjZb2OL3npSeLLK9qj9OLUAg5...</td>\n      <td>94</td>\n    </tr>\n    <tr>\n      <th>1383613</th>\n      <td>help2man</td>\n      <td>help2man</td>\n      <td>False</td>\n      <td>False</td>\n      <td>384:sBLdhCCJ8rwQ0EvrX+rjZbOeL3npSeLLK9qj9OLUAg...</td>\n      <td>384:sBLdkCCJ8rwQ0EvrX+rjZbOeL3npSeLLK9qj9OLUAg...</td>\n      <td>99</td>\n    </tr>\n    <tr>\n      <th>1383614</th>\n      <td>help2man</td>\n      <td>help2man</td>\n      <td>False</td>\n      <td>False</td>\n      <td>384:sBLdhCCJ8rwQ0EvrX+rjZbOeL3npSeLLK9qj9OLUAg...</td>\n      <td>384:sDLjOCCJ8/eQrvPX+rjZb2OL3npSeLLK9qj9OLUAg5...</td>\n      <td>82</td>\n    </tr>\n    <tr>\n      <th>1383615</th>\n      <td>help2man</td>\n      <td>help2man</td>\n      <td>False</td>\n      <td>False</td>\n      <td>384:sBLdkCCJ8rwQ0EvrX+rjZbOeL3npSeLLK9qj9OLUAg...</td>\n      <td>384:sDLjOCCJ8/eQrvPX+rjZb2OL3npSeLLK9qj9OLUAg5...</td>\n      <td>82</td>\n    </tr>\n  </tbody>\n</table>\n<p>1383616 rows × 7 columns</p>\n</div>"
     },
     "execution_count": 19,
     "metadata": {},
     "output_type": "execute_result"
    }
   ],
   "source": [
    "result_ssdeep"
   ],
   "metadata": {
    "collapsed": false,
    "ExecuteTime": {
     "end_time": "2023-12-11T15:50:06.281868Z",
     "start_time": "2023-12-11T15:50:06.279388Z"
    }
   },
   "id": "cd45e80fb5a8475"
  },
  {
   "cell_type": "code",
   "execution_count": 20,
   "outputs": [
    {
     "data": {
      "text/plain": "0.2555831265508685"
     },
     "execution_count": 20,
     "metadata": {},
     "output_type": "execute_result"
    }
   ],
   "source": [
    "s = result_ssdeep.loc[result_ssdeep.groupby('ssdeep 1')[\"Diff Score\"].idxmax()]\n",
    "size = s.shape[0]\n",
    "s = s[s[\"Malware 2\"] == False]\n",
    "s = s[s[\"Diff Score\"] > 0]\n",
    "(s[\"Family 1\"] == s[\"Family 2\"]).sum() / size\n"
   ],
   "metadata": {
    "collapsed": false,
    "ExecuteTime": {
     "end_time": "2023-12-11T15:50:06.455680Z",
     "start_time": "2023-12-11T15:50:06.289284Z"
    }
   },
   "id": "309eb6e2c0d40249"
  },
  {
   "cell_type": "markdown",
   "source": [
    "The absolute true positive rate is 23% for any threshold higher than 0 with noise."
   ],
   "metadata": {
    "collapsed": false
   },
   "id": "7d18471717848ceb"
  },
  {
   "cell_type": "code",
   "execution_count": 21,
   "outputs": [
    {
     "data": {
      "text/plain": "7034"
     },
     "execution_count": 21,
     "metadata": {},
     "output_type": "execute_result"
    }
   ],
   "source": [
    "comp_to_sci = result_ssdeep[result_ssdeep[\"Malware 2\"] == False]\n",
    "compt_to_malware = result_ssdeep[result_ssdeep[\"Malware 2\"] == True]\n",
    "(comp_to_sci[\"Family 1\"] == comp_to_sci[\"Family 2\"]).sum()"
   ],
   "metadata": {
    "collapsed": false,
    "ExecuteTime": {
     "end_time": "2023-12-11T15:50:06.529296Z",
     "start_time": "2023-12-11T15:50:06.451703Z"
    }
   },
   "id": "5c84bd077070bc14"
  },
  {
   "cell_type": "code",
   "execution_count": 22,
   "outputs": [
    {
     "data": {
      "text/plain": "     threshold  true_positive_rate  false_positive_rate\n0          0.0            1.000000                  1.0\n1          1.0            0.004202                  1.0\n2          2.0            0.004202                  1.0\n3          3.0            0.004202                  1.0\n4          4.0            0.004202                  1.0\n..         ...                 ...                  ...\n105      105.0            0.000000                  0.0\n106      106.0            0.000000                  0.0\n107      107.0            0.000000                  0.0\n108      108.0            0.000000                  0.0\n109      109.0            0.000000                  0.0\n\n[110 rows x 3 columns]",
      "text/html": "<div>\n<style scoped>\n    .dataframe tbody tr th:only-of-type {\n        vertical-align: middle;\n    }\n\n    .dataframe tbody tr th {\n        vertical-align: top;\n    }\n\n    .dataframe thead th {\n        text-align: right;\n    }\n</style>\n<table border=\"1\" class=\"dataframe\">\n  <thead>\n    <tr style=\"text-align: right;\">\n      <th></th>\n      <th>threshold</th>\n      <th>true_positive_rate</th>\n      <th>false_positive_rate</th>\n    </tr>\n  </thead>\n  <tbody>\n    <tr>\n      <th>0</th>\n      <td>0.0</td>\n      <td>1.000000</td>\n      <td>1.0</td>\n    </tr>\n    <tr>\n      <th>1</th>\n      <td>1.0</td>\n      <td>0.004202</td>\n      <td>1.0</td>\n    </tr>\n    <tr>\n      <th>2</th>\n      <td>2.0</td>\n      <td>0.004202</td>\n      <td>1.0</td>\n    </tr>\n    <tr>\n      <th>3</th>\n      <td>3.0</td>\n      <td>0.004202</td>\n      <td>1.0</td>\n    </tr>\n    <tr>\n      <th>4</th>\n      <td>4.0</td>\n      <td>0.004202</td>\n      <td>1.0</td>\n    </tr>\n    <tr>\n      <th>...</th>\n      <td>...</td>\n      <td>...</td>\n      <td>...</td>\n    </tr>\n    <tr>\n      <th>105</th>\n      <td>105.0</td>\n      <td>0.000000</td>\n      <td>0.0</td>\n    </tr>\n    <tr>\n      <th>106</th>\n      <td>106.0</td>\n      <td>0.000000</td>\n      <td>0.0</td>\n    </tr>\n    <tr>\n      <th>107</th>\n      <td>107.0</td>\n      <td>0.000000</td>\n      <td>0.0</td>\n    </tr>\n    <tr>\n      <th>108</th>\n      <td>108.0</td>\n      <td>0.000000</td>\n      <td>0.0</td>\n    </tr>\n    <tr>\n      <th>109</th>\n      <td>109.0</td>\n      <td>0.000000</td>\n      <td>0.0</td>\n    </tr>\n  </tbody>\n</table>\n<p>110 rows × 3 columns</p>\n</div>"
     },
     "execution_count": 22,
     "metadata": {},
     "output_type": "execute_result"
    }
   ],
   "source": [
    "def ssdeep_thresh(s):\n",
    "    s = s.loc[result_ssdeep.groupby('ssdeep 1')[\"Diff Score\"].idxmax()]\n",
    "    ssdeep_th = pd.DataFrame(columns=[\"threshold\", \"true_positive_rate\", \"false_positive_rate\"])\n",
    "    comp_to_sci = s[s[\"Malware 2\"] == False]\n",
    "    compt_to_malware = s[s[\"Malware 2\"] == True]\n",
    "    for i in range (0,110,1):\n",
    "        \n",
    "        sci_th = comp_to_sci[comp_to_sci[\"Diff Score\"] >= i]\n",
    "        mal_th = compt_to_malware[compt_to_malware[\"Diff Score\"] > i]\n",
    "        f_th = compt_to_malware[compt_to_malware[\"Diff Score\"] < i]\n",
    "        \n",
    "        TP = (sci_th[\"Family 1\"] == sci_th[\"Family 2\"]).sum()\n",
    "        FP = (sci_th[\"Family 1\"] != sci_th[\"Family 2\"]).sum()\n",
    "        FN = (f_th[\"Family 1\"] != f_th[\"Family 2\"]).sum()\n",
    "        TN = (f_th[\"Family 1\"] == f_th[\"Family 2\"]).sum()\n",
    "        \n",
    "        TPR = TP / (TP + FN) if TP + FN != 0 else 0\n",
    "        FPR = FP / (FP + TN) if FP + TN != 0 else 0\n",
    "        # Append results to DataFrame\n",
    "        ssdeep_th.loc[i] = [i, TPR, FPR]\n",
    "    return ssdeep_th\n",
    "p = ssdeep_thresh(ssdeep_comb())\n",
    "p"
   ],
   "metadata": {
    "collapsed": false,
    "ExecuteTime": {
     "end_time": "2023-12-11T15:50:25.291793Z",
     "start_time": "2023-12-11T15:50:06.599701Z"
    }
   },
   "id": "b60b25824e24246d"
  },
  {
   "cell_type": "code",
   "execution_count": 23,
   "outputs": [
    {
     "data": {
      "text/plain": "<Figure size 640x480 with 1 Axes>",
      "image/png": "[encoded data removed]"
     },
     "metadata": {},
     "output_type": "display_data"
    }
   ],
   "source": [
    "# Plot the ROC curve in range 0.1 to 1.0\n",
    "p.plot(x=\"false_positive_rate\", y=\"true_positive_rate\", xlim=(0, 1), ylim=(0, 1),title=\"ROC Curve for ssdeep\", legend=False)\n",
    "\n",
    "# add a dotet line with y = x for comparison\n",
    "plt.plot([0, 1], [0, 1], color='navy', linestyle='--')\n",
    "plt.show()"
   ],
   "metadata": {
    "collapsed": false,
    "ExecuteTime": {
     "end_time": "2023-12-11T15:50:25.355567Z",
     "start_time": "2023-12-11T15:50:25.292444Z"
    }
   },
   "id": "cdd8ce5e25ad23b3"
  },
  {
   "cell_type": "code",
   "execution_count": 24,
   "outputs": [
    {
     "name": "stdout",
     "output_type": "stream",
     "text": [
      "The optimal Threshold is: 1\n"
     ]
    }
   ],
   "source": [
    "print(f'The optimal Threshold is: {(p[\"true_positive_rate\"] - p[\"false_positive_rate\"]).abs().idxmax()}')"
   ],
   "metadata": {
    "collapsed": false,
    "ExecuteTime": {
     "end_time": "2023-12-11T15:50:25.359737Z",
     "start_time": "2023-12-11T15:50:25.353109Z"
    }
   },
   "id": "3c9261c8b1990426"
  }
 ],
 "metadata": {
  "kernelspec": {
   "display_name": "Python 3",
   "language": "python",
   "name": "python3"
  },
  "language_info": {
   "codemirror_mode": {
    "name": "ipython",
    "version": 2
   },
   "file_extension": ".py",
   "mimetype": "text/x-python",
   "name": "python",
   "nbconvert_exporter": "python",
   "pygments_lexer": "ipython2",
   "version": "2.7.6"
  }
 },
 "nbformat": 4,
 "nbformat_minor": 5
}
