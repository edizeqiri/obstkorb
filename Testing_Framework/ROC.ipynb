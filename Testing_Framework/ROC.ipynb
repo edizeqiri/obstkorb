{
 "cells": [
  {
   "cell_type": "code",
   "execution_count": 20,
   "id": "22fccd7542970ad0",
   "metadata": {
    "ExecuteTime": {
     "end_time": "2023-12-16T21:09:11.233523Z",
     "start_time": "2023-12-16T21:09:10.872245Z"
    },
    "collapsed": false
   },
   "outputs": [],
   "source": [
    "import numpy as np\n",
    "import pandas as pd\n",
    "import Mongo_Connector as mongo\n",
    "import tlsh\n",
    "from icecream import ic\n",
    "import matplotlib.pyplot as plt\n",
    "import ssdeep\n",
    "import warnings\n",
    "warnings.filterwarnings('ignore')\n",
    "db = mongo.init(\"portainer\", port=32768)\n",
    "df = pd.DataFrame(list(db[\"scicore\"].find({})))"
   ]
  },
  {
   "cell_type": "markdown",
   "id": "645427b0ea5514b7",
   "metadata": {
    "collapsed": false
   },
   "source": [
    "# Scicore Comparison\n",
    "\n",
    "This notebook is used to compare the tlsh and ssdeep hashes of the scicore dataset.\n",
    "First I will compare the tlsh hashes and then the ssdeep hashes.\n",
    "\n"
   ]
  },
  {
   "cell_type": "code",
   "execution_count": 21,
   "id": "345f4ddef4f92e24",
   "metadata": {
    "ExecuteTime": {
     "end_time": "2023-12-16T21:09:11.247569Z",
     "start_time": "2023-12-16T21:09:11.240604Z"
    },
    "collapsed": false
   },
   "outputs": [
    {
     "data": {
      "text/html": [
       "<div>\n",
       "<style scoped>\n",
       "    .dataframe tbody tr th:only-of-type {\n",
       "        vertical-align: middle;\n",
       "    }\n",
       "\n",
       "    .dataframe tbody tr th {\n",
       "        vertical-align: top;\n",
       "    }\n",
       "\n",
       "    .dataframe thead th {\n",
       "        text-align: right;\n",
       "    }\n",
       "</style>\n",
       "<table border=\"1\" class=\"dataframe\">\n",
       "  <thead>\n",
       "    <tr style=\"text-align: right;\">\n",
       "      <th></th>\n",
       "      <th>_id</th>\n",
       "      <th>family</th>\n",
       "      <th>SHA256</th>\n",
       "      <th>file_size</th>\n",
       "      <th>ssdeep</th>\n",
       "      <th>sdhash</th>\n",
       "      <th>tlsh</th>\n",
       "      <th>machoc</th>\n",
       "    </tr>\n",
       "  </thead>\n",
       "  <tbody>\n",
       "    <tr>\n",
       "      <th>0</th>\n",
       "      <td>0</td>\n",
       "      <td>DIAMOND</td>\n",
       "      <td>bdbbc7d10475610a47665613a15b523692f2e586e495bf...</td>\n",
       "      <td>1744592</td>\n",
       "      <td>{'ssdeep': '24576:0ZgkO8W6krEazzEHRyE5fx5j0Gkm...</td>\n",
       "      <td>sdhash hash</td>\n",
       "      <td>{'tlsh': 'T170858D1B66820CB9C492D53467E797F268...</td>\n",
       "      <td>Machoc hash</td>\n",
       "    </tr>\n",
       "    <tr>\n",
       "      <th>1</th>\n",
       "      <td>1</td>\n",
       "      <td>DIAMOND</td>\n",
       "      <td>3e5b9caaa8ec0488d0ef6649fa3205af16cd286921fdf3...</td>\n",
       "      <td>1264648</td>\n",
       "      <td>{'ssdeep': '24576:N7RayWHeZhpVZNmHQ/0R223Vcqem...</td>\n",
       "      <td>sdhash hash</td>\n",
       "      <td>{'tlsh': 'T1FB457E47FAC358A8C097D538466FA1367A...</td>\n",
       "      <td>Machoc hash</td>\n",
       "    </tr>\n",
       "    <tr>\n",
       "      <th>2</th>\n",
       "      <td>2</td>\n",
       "      <td>DIAMOND</td>\n",
       "      <td>3e7c7a7415567a30a6131c959448e136c1c4cd25e2755d...</td>\n",
       "      <td>7963768</td>\n",
       "      <td>{'ssdeep': '98304:O4g2u6YzoSU6Zr5CqeWRP07lRNMc...</td>\n",
       "      <td>sdhash hash</td>\n",
       "      <td>{'tlsh': 'T1A3868E03E687A468C8A6C43813DB91B3ED...</td>\n",
       "      <td>Machoc hash</td>\n",
       "    </tr>\n",
       "    <tr>\n",
       "      <th>3</th>\n",
       "      <td>3</td>\n",
       "      <td>DIAMOND</td>\n",
       "      <td>6336bd767371ef854def756641f8af86dd591e62170eb8...</td>\n",
       "      <td>1599192</td>\n",
       "      <td>{'ssdeep': '24576:39vHSut4l6xFkIRp1IzwbIPGVild...</td>\n",
       "      <td>sdhash hash</td>\n",
       "      <td>{'tlsh': 'T112759F1B6BA208ADC892D53457E796F26C...</td>\n",
       "      <td>Machoc hash</td>\n",
       "    </tr>\n",
       "    <tr>\n",
       "      <th>4</th>\n",
       "      <td>4</td>\n",
       "      <td>OCaml</td>\n",
       "      <td>3eee2da2d713d971e6618b2f089d08e495c0cd8ec722f7...</td>\n",
       "      <td>13173764</td>\n",
       "      <td>{'ssdeep': '49152:lZBmaeQesTwicgVOMB4aJZhYw2UN...</td>\n",
       "      <td>sdhash hash</td>\n",
       "      <td>{'tlsh': 'T1F6D6E80EBB470662CD9809FE8CD5868FD6...</td>\n",
       "      <td>Machoc hash</td>\n",
       "    </tr>\n",
       "    <tr>\n",
       "      <th>...</th>\n",
       "      <td>...</td>\n",
       "      <td>...</td>\n",
       "      <td>...</td>\n",
       "      <td>...</td>\n",
       "      <td>...</td>\n",
       "      <td>...</td>\n",
       "      <td>...</td>\n",
       "      <td>...</td>\n",
       "    </tr>\n",
       "    <tr>\n",
       "      <th>1985</th>\n",
       "      <td>1985</td>\n",
       "      <td>help2man</td>\n",
       "      <td>4b4f9faa682356601be5fb4ecd94d0761b41a877aebe42...</td>\n",
       "      <td>20063</td>\n",
       "      <td>{'ssdeep': '384:sBLdhCCJ8rwQ0EvrX+rjZbOeL3npSe...</td>\n",
       "      <td>sdhash hash</td>\n",
       "      <td>{'tlsh': 'T16B92F905EA1A8677B25301F77FDAA4C097...</td>\n",
       "      <td>Machoc hash</td>\n",
       "    </tr>\n",
       "    <tr>\n",
       "      <th>1986</th>\n",
       "      <td>1986</td>\n",
       "      <td>help2man</td>\n",
       "      <td>16d420a69b74f3ec081ffae840653e2246ab4758d85e38...</td>\n",
       "      <td>20063</td>\n",
       "      <td>{'ssdeep': '384:sBLdkCCJ8rwQ0EvrX+rjZbOeL3npSe...</td>\n",
       "      <td>sdhash hash</td>\n",
       "      <td>{'tlsh': 'T12C92F905EA1A8677B25301F77FDAA4C097...</td>\n",
       "      <td>Machoc hash</td>\n",
       "    </tr>\n",
       "    <tr>\n",
       "      <th>1987</th>\n",
       "      <td>1987</td>\n",
       "      <td>help2man</td>\n",
       "      <td>982697334fef2dab34b4393832e7011a74a92ff05fd426...</td>\n",
       "      <td>20051</td>\n",
       "      <td>{'ssdeep': '384:sDLjOCCJ8/eQrvPX+rjZb2OL3npSeL...</td>\n",
       "      <td>sdhash hash</td>\n",
       "      <td>{'tlsh': 'T192920A04EA1A8677B25301F77FDA94C097...</td>\n",
       "      <td>Machoc hash</td>\n",
       "    </tr>\n",
       "    <tr>\n",
       "      <th>1988</th>\n",
       "      <td>1988</td>\n",
       "      <td>ChimPipe</td>\n",
       "      <td>6cbb727cbfb1fb6335e4439ae7810e143e1bcc69b05ca0...</td>\n",
       "      <td>76135</td>\n",
       "      <td>{'ssdeep': '1536:Sw5j4LB3dUalDarob+tltydxgjmzB...</td>\n",
       "      <td>sdhash hash</td>\n",
       "      <td>{'tlsh': 'T101734B13B0959D7AC4478A301AC7823B99...</td>\n",
       "      <td>Machoc hash</td>\n",
       "    </tr>\n",
       "    <tr>\n",
       "      <th>1989</th>\n",
       "      <td>1989</td>\n",
       "      <td>jbigkit</td>\n",
       "      <td>67855fe5ed323498b1e1a1c9f0a8b2b8b235bb2b4f3a4f...</td>\n",
       "      <td>21544</td>\n",
       "      <td>{'ssdeep': '192:GTJmX1ws6CWEORGArDqE/1LyZAntTq...</td>\n",
       "      <td>sdhash hash</td>\n",
       "      <td>{'tlsh': 'T10BA21827E3815876CDC5413451A74629B1...</td>\n",
       "      <td>Machoc hash</td>\n",
       "    </tr>\n",
       "  </tbody>\n",
       "</table>\n",
       "<p>1990 rows × 8 columns</p>\n",
       "</div>"
      ],
      "text/plain": [
       "       _id    family                                             SHA256  \\\n",
       "0        0   DIAMOND  bdbbc7d10475610a47665613a15b523692f2e586e495bf...   \n",
       "1        1   DIAMOND  3e5b9caaa8ec0488d0ef6649fa3205af16cd286921fdf3...   \n",
       "2        2   DIAMOND  3e7c7a7415567a30a6131c959448e136c1c4cd25e2755d...   \n",
       "3        3   DIAMOND  6336bd767371ef854def756641f8af86dd591e62170eb8...   \n",
       "4        4     OCaml  3eee2da2d713d971e6618b2f089d08e495c0cd8ec722f7...   \n",
       "...    ...       ...                                                ...   \n",
       "1985  1985  help2man  4b4f9faa682356601be5fb4ecd94d0761b41a877aebe42...   \n",
       "1986  1986  help2man  16d420a69b74f3ec081ffae840653e2246ab4758d85e38...   \n",
       "1987  1987  help2man  982697334fef2dab34b4393832e7011a74a92ff05fd426...   \n",
       "1988  1988  ChimPipe  6cbb727cbfb1fb6335e4439ae7810e143e1bcc69b05ca0...   \n",
       "1989  1989   jbigkit  67855fe5ed323498b1e1a1c9f0a8b2b8b235bb2b4f3a4f...   \n",
       "\n",
       "      file_size                                             ssdeep  \\\n",
       "0       1744592  {'ssdeep': '24576:0ZgkO8W6krEazzEHRyE5fx5j0Gkm...   \n",
       "1       1264648  {'ssdeep': '24576:N7RayWHeZhpVZNmHQ/0R223Vcqem...   \n",
       "2       7963768  {'ssdeep': '98304:O4g2u6YzoSU6Zr5CqeWRP07lRNMc...   \n",
       "3       1599192  {'ssdeep': '24576:39vHSut4l6xFkIRp1IzwbIPGVild...   \n",
       "4      13173764  {'ssdeep': '49152:lZBmaeQesTwicgVOMB4aJZhYw2UN...   \n",
       "...         ...                                                ...   \n",
       "1985      20063  {'ssdeep': '384:sBLdhCCJ8rwQ0EvrX+rjZbOeL3npSe...   \n",
       "1986      20063  {'ssdeep': '384:sBLdkCCJ8rwQ0EvrX+rjZbOeL3npSe...   \n",
       "1987      20051  {'ssdeep': '384:sDLjOCCJ8/eQrvPX+rjZb2OL3npSeL...   \n",
       "1988      76135  {'ssdeep': '1536:Sw5j4LB3dUalDarob+tltydxgjmzB...   \n",
       "1989      21544  {'ssdeep': '192:GTJmX1ws6CWEORGArDqE/1LyZAntTq...   \n",
       "\n",
       "           sdhash                                               tlsh  \\\n",
       "0     sdhash hash  {'tlsh': 'T170858D1B66820CB9C492D53467E797F268...   \n",
       "1     sdhash hash  {'tlsh': 'T1FB457E47FAC358A8C097D538466FA1367A...   \n",
       "2     sdhash hash  {'tlsh': 'T1A3868E03E687A468C8A6C43813DB91B3ED...   \n",
       "3     sdhash hash  {'tlsh': 'T112759F1B6BA208ADC892D53457E796F26C...   \n",
       "4     sdhash hash  {'tlsh': 'T1F6D6E80EBB470662CD9809FE8CD5868FD6...   \n",
       "...           ...                                                ...   \n",
       "1985  sdhash hash  {'tlsh': 'T16B92F905EA1A8677B25301F77FDAA4C097...   \n",
       "1986  sdhash hash  {'tlsh': 'T12C92F905EA1A8677B25301F77FDAA4C097...   \n",
       "1987  sdhash hash  {'tlsh': 'T192920A04EA1A8677B25301F77FDA94C097...   \n",
       "1988  sdhash hash  {'tlsh': 'T101734B13B0959D7AC4478A301AC7823B99...   \n",
       "1989  sdhash hash  {'tlsh': 'T10BA21827E3815876CDC5413451A74629B1...   \n",
       "\n",
       "           machoc  \n",
       "0     Machoc hash  \n",
       "1     Machoc hash  \n",
       "2     Machoc hash  \n",
       "3     Machoc hash  \n",
       "4     Machoc hash  \n",
       "...           ...  \n",
       "1985  Machoc hash  \n",
       "1986  Machoc hash  \n",
       "1987  Machoc hash  \n",
       "1988  Machoc hash  \n",
       "1989  Machoc hash  \n",
       "\n",
       "[1990 rows x 8 columns]"
      ]
     },
     "execution_count": 21,
     "metadata": {},
     "output_type": "execute_result"
    }
   ],
   "source": [
    "df"
   ]
  },
  {
   "cell_type": "code",
   "execution_count": 22,
   "id": "14cc12ba90837f3c",
   "metadata": {
    "ExecuteTime": {
     "end_time": "2023-12-16T21:09:11.368814Z",
     "start_time": "2023-12-16T21:09:11.244947Z"
    },
    "collapsed": false
   },
   "outputs": [
    {
     "data": {
      "text/plain": [
       "(0.0, 100.0)"
      ]
     },
     "execution_count": 22,
     "metadata": {},
     "output_type": "execute_result"
    },
    {
     "data": {
      "image/png": "[encoded data removed]",
      "text/plain": [
       "<Figure size 2000x1000 with 1 Axes>"
      ]
     },
     "metadata": {},
     "output_type": "display_data"
    }
   ],
   "source": [
    "family_counts = df['family'].value_counts()\n",
    "\n",
    "# Filter the families with more than one entry\n",
    "scicore_filtered = df[df['family'].map(family_counts) > 1]\n",
    "\n",
    "family_counts.plot(kind='bar', figsize=(20, 10))\n",
    "plt.xticks([])\n",
    "plt.ylim(0, 100)"
   ]
  },
  {
   "cell_type": "markdown",
   "id": "3399b516809a9f1e",
   "metadata": {
    "collapsed": false
   },
   "source": [
    "# Scicore Filtered\n",
    "\n",
    "This is the filtered dataset with only families that have more than one entry. Since comparing the binary to itself can be done with SHA256, I will skip the families with only 1 entry."
   ]
  },
  {
   "cell_type": "code",
   "execution_count": 23,
   "id": "912405b828bad807",
   "metadata": {
    "ExecuteTime": {
     "end_time": "2023-12-16T21:09:11.370957Z",
     "start_time": "2023-12-16T21:09:11.362031Z"
    },
    "collapsed": false
   },
   "outputs": [
    {
     "data": {
      "text/html": [
       "<div>\n",
       "<style scoped>\n",
       "    .dataframe tbody tr th:only-of-type {\n",
       "        vertical-align: middle;\n",
       "    }\n",
       "\n",
       "    .dataframe tbody tr th {\n",
       "        vertical-align: top;\n",
       "    }\n",
       "\n",
       "    .dataframe thead th {\n",
       "        text-align: right;\n",
       "    }\n",
       "</style>\n",
       "<table border=\"1\" class=\"dataframe\">\n",
       "  <thead>\n",
       "    <tr style=\"text-align: right;\">\n",
       "      <th></th>\n",
       "      <th>_id</th>\n",
       "      <th>family</th>\n",
       "      <th>SHA256</th>\n",
       "      <th>file_size</th>\n",
       "      <th>ssdeep</th>\n",
       "      <th>sdhash</th>\n",
       "      <th>tlsh</th>\n",
       "      <th>machoc</th>\n",
       "    </tr>\n",
       "  </thead>\n",
       "  <tbody>\n",
       "    <tr>\n",
       "      <th>0</th>\n",
       "      <td>0</td>\n",
       "      <td>DIAMOND</td>\n",
       "      <td>bdbbc7d10475610a47665613a15b523692f2e586e495bf...</td>\n",
       "      <td>1744592</td>\n",
       "      <td>{'ssdeep': '24576:0ZgkO8W6krEazzEHRyE5fx5j0Gkm...</td>\n",
       "      <td>sdhash hash</td>\n",
       "      <td>{'tlsh': 'T170858D1B66820CB9C492D53467E797F268...</td>\n",
       "      <td>Machoc hash</td>\n",
       "    </tr>\n",
       "    <tr>\n",
       "      <th>1</th>\n",
       "      <td>1</td>\n",
       "      <td>DIAMOND</td>\n",
       "      <td>3e5b9caaa8ec0488d0ef6649fa3205af16cd286921fdf3...</td>\n",
       "      <td>1264648</td>\n",
       "      <td>{'ssdeep': '24576:N7RayWHeZhpVZNmHQ/0R223Vcqem...</td>\n",
       "      <td>sdhash hash</td>\n",
       "      <td>{'tlsh': 'T1FB457E47FAC358A8C097D538466FA1367A...</td>\n",
       "      <td>Machoc hash</td>\n",
       "    </tr>\n",
       "    <tr>\n",
       "      <th>2</th>\n",
       "      <td>2</td>\n",
       "      <td>DIAMOND</td>\n",
       "      <td>3e7c7a7415567a30a6131c959448e136c1c4cd25e2755d...</td>\n",
       "      <td>7963768</td>\n",
       "      <td>{'ssdeep': '98304:O4g2u6YzoSU6Zr5CqeWRP07lRNMc...</td>\n",
       "      <td>sdhash hash</td>\n",
       "      <td>{'tlsh': 'T1A3868E03E687A468C8A6C43813DB91B3ED...</td>\n",
       "      <td>Machoc hash</td>\n",
       "    </tr>\n",
       "    <tr>\n",
       "      <th>3</th>\n",
       "      <td>3</td>\n",
       "      <td>DIAMOND</td>\n",
       "      <td>6336bd767371ef854def756641f8af86dd591e62170eb8...</td>\n",
       "      <td>1599192</td>\n",
       "      <td>{'ssdeep': '24576:39vHSut4l6xFkIRp1IzwbIPGVild...</td>\n",
       "      <td>sdhash hash</td>\n",
       "      <td>{'tlsh': 'T112759F1B6BA208ADC892D53457E796F26C...</td>\n",
       "      <td>Machoc hash</td>\n",
       "    </tr>\n",
       "    <tr>\n",
       "      <th>5</th>\n",
       "      <td>5</td>\n",
       "      <td>RStudio-Server</td>\n",
       "      <td>8ed496fd927bf12ab2680275d12ae8d239c77f426345e8...</td>\n",
       "      <td>4364</td>\n",
       "      <td>{'ssdeep': '96:mKNT20vznhw3tngiBbGBsek3Kfy2wy3...</td>\n",
       "      <td>sdhash hash</td>\n",
       "      <td>{'tlsh': 'T150918C52B0542BB67974A378DBB71467E3...</td>\n",
       "      <td>Machoc hash</td>\n",
       "    </tr>\n",
       "    <tr>\n",
       "      <th>...</th>\n",
       "      <td>...</td>\n",
       "      <td>...</td>\n",
       "      <td>...</td>\n",
       "      <td>...</td>\n",
       "      <td>...</td>\n",
       "      <td>...</td>\n",
       "      <td>...</td>\n",
       "      <td>...</td>\n",
       "    </tr>\n",
       "    <tr>\n",
       "      <th>1983</th>\n",
       "      <td>1983</td>\n",
       "      <td>help2man</td>\n",
       "      <td>79bbee7e82e8cab0f238bc135ec79543a071371cddeb11...</td>\n",
       "      <td>19871</td>\n",
       "      <td>{'ssdeep': '384:sALj4CCJ8/eQyWvPX+ejZbCOL3npSe...</td>\n",
       "      <td>sdhash hash</td>\n",
       "      <td>{'tlsh': 'T13092F805EA2A8637B15301F77FDA54D09B...</td>\n",
       "      <td>Machoc hash</td>\n",
       "    </tr>\n",
       "    <tr>\n",
       "      <th>1984</th>\n",
       "      <td>1984</td>\n",
       "      <td>help2man</td>\n",
       "      <td>2a1400af01f63f02b64889eb203ed60eee4014a4d4ded2...</td>\n",
       "      <td>19896</td>\n",
       "      <td>{'ssdeep': '384:svLjrCCJ8/eQrvPX+ejZbCOL3npSeL...</td>\n",
       "      <td>sdhash hash</td>\n",
       "      <td>{'tlsh': 'T1EC92F905EA2A8637B15301F77FDA54C09B...</td>\n",
       "      <td>Machoc hash</td>\n",
       "    </tr>\n",
       "    <tr>\n",
       "      <th>1985</th>\n",
       "      <td>1985</td>\n",
       "      <td>help2man</td>\n",
       "      <td>4b4f9faa682356601be5fb4ecd94d0761b41a877aebe42...</td>\n",
       "      <td>20063</td>\n",
       "      <td>{'ssdeep': '384:sBLdhCCJ8rwQ0EvrX+rjZbOeL3npSe...</td>\n",
       "      <td>sdhash hash</td>\n",
       "      <td>{'tlsh': 'T16B92F905EA1A8677B25301F77FDAA4C097...</td>\n",
       "      <td>Machoc hash</td>\n",
       "    </tr>\n",
       "    <tr>\n",
       "      <th>1986</th>\n",
       "      <td>1986</td>\n",
       "      <td>help2man</td>\n",
       "      <td>16d420a69b74f3ec081ffae840653e2246ab4758d85e38...</td>\n",
       "      <td>20063</td>\n",
       "      <td>{'ssdeep': '384:sBLdkCCJ8rwQ0EvrX+rjZbOeL3npSe...</td>\n",
       "      <td>sdhash hash</td>\n",
       "      <td>{'tlsh': 'T12C92F905EA1A8677B25301F77FDAA4C097...</td>\n",
       "      <td>Machoc hash</td>\n",
       "    </tr>\n",
       "    <tr>\n",
       "      <th>1987</th>\n",
       "      <td>1987</td>\n",
       "      <td>help2man</td>\n",
       "      <td>982697334fef2dab34b4393832e7011a74a92ff05fd426...</td>\n",
       "      <td>20051</td>\n",
       "      <td>{'ssdeep': '384:sDLjOCCJ8/eQrvPX+rjZb2OL3npSeL...</td>\n",
       "      <td>sdhash hash</td>\n",
       "      <td>{'tlsh': 'T192920A04EA1A8677B25301F77FDA94C097...</td>\n",
       "      <td>Machoc hash</td>\n",
       "    </tr>\n",
       "  </tbody>\n",
       "</table>\n",
       "<p>1664 rows × 8 columns</p>\n",
       "</div>"
      ],
      "text/plain": [
       "       _id          family                                             SHA256  \\\n",
       "0        0         DIAMOND  bdbbc7d10475610a47665613a15b523692f2e586e495bf...   \n",
       "1        1         DIAMOND  3e5b9caaa8ec0488d0ef6649fa3205af16cd286921fdf3...   \n",
       "2        2         DIAMOND  3e7c7a7415567a30a6131c959448e136c1c4cd25e2755d...   \n",
       "3        3         DIAMOND  6336bd767371ef854def756641f8af86dd591e62170eb8...   \n",
       "5        5  RStudio-Server  8ed496fd927bf12ab2680275d12ae8d239c77f426345e8...   \n",
       "...    ...             ...                                                ...   \n",
       "1983  1983        help2man  79bbee7e82e8cab0f238bc135ec79543a071371cddeb11...   \n",
       "1984  1984        help2man  2a1400af01f63f02b64889eb203ed60eee4014a4d4ded2...   \n",
       "1985  1985        help2man  4b4f9faa682356601be5fb4ecd94d0761b41a877aebe42...   \n",
       "1986  1986        help2man  16d420a69b74f3ec081ffae840653e2246ab4758d85e38...   \n",
       "1987  1987        help2man  982697334fef2dab34b4393832e7011a74a92ff05fd426...   \n",
       "\n",
       "      file_size                                             ssdeep  \\\n",
       "0       1744592  {'ssdeep': '24576:0ZgkO8W6krEazzEHRyE5fx5j0Gkm...   \n",
       "1       1264648  {'ssdeep': '24576:N7RayWHeZhpVZNmHQ/0R223Vcqem...   \n",
       "2       7963768  {'ssdeep': '98304:O4g2u6YzoSU6Zr5CqeWRP07lRNMc...   \n",
       "3       1599192  {'ssdeep': '24576:39vHSut4l6xFkIRp1IzwbIPGVild...   \n",
       "5          4364  {'ssdeep': '96:mKNT20vznhw3tngiBbGBsek3Kfy2wy3...   \n",
       "...         ...                                                ...   \n",
       "1983      19871  {'ssdeep': '384:sALj4CCJ8/eQyWvPX+ejZbCOL3npSe...   \n",
       "1984      19896  {'ssdeep': '384:svLjrCCJ8/eQrvPX+ejZbCOL3npSeL...   \n",
       "1985      20063  {'ssdeep': '384:sBLdhCCJ8rwQ0EvrX+rjZbOeL3npSe...   \n",
       "1986      20063  {'ssdeep': '384:sBLdkCCJ8rwQ0EvrX+rjZbOeL3npSe...   \n",
       "1987      20051  {'ssdeep': '384:sDLjOCCJ8/eQrvPX+rjZb2OL3npSeL...   \n",
       "\n",
       "           sdhash                                               tlsh  \\\n",
       "0     sdhash hash  {'tlsh': 'T170858D1B66820CB9C492D53467E797F268...   \n",
       "1     sdhash hash  {'tlsh': 'T1FB457E47FAC358A8C097D538466FA1367A...   \n",
       "2     sdhash hash  {'tlsh': 'T1A3868E03E687A468C8A6C43813DB91B3ED...   \n",
       "3     sdhash hash  {'tlsh': 'T112759F1B6BA208ADC892D53457E796F26C...   \n",
       "5     sdhash hash  {'tlsh': 'T150918C52B0542BB67974A378DBB71467E3...   \n",
       "...           ...                                                ...   \n",
       "1983  sdhash hash  {'tlsh': 'T13092F805EA2A8637B15301F77FDA54D09B...   \n",
       "1984  sdhash hash  {'tlsh': 'T1EC92F905EA2A8637B15301F77FDA54C09B...   \n",
       "1985  sdhash hash  {'tlsh': 'T16B92F905EA1A8677B25301F77FDAA4C097...   \n",
       "1986  sdhash hash  {'tlsh': 'T12C92F905EA1A8677B25301F77FDAA4C097...   \n",
       "1987  sdhash hash  {'tlsh': 'T192920A04EA1A8677B25301F77FDA94C097...   \n",
       "\n",
       "           machoc  \n",
       "0     Machoc hash  \n",
       "1     Machoc hash  \n",
       "2     Machoc hash  \n",
       "3     Machoc hash  \n",
       "5     Machoc hash  \n",
       "...           ...  \n",
       "1983  Machoc hash  \n",
       "1984  Machoc hash  \n",
       "1985  Machoc hash  \n",
       "1986  Machoc hash  \n",
       "1987  Machoc hash  \n",
       "\n",
       "[1664 rows x 8 columns]"
      ]
     },
     "execution_count": 23,
     "metadata": {},
     "output_type": "execute_result"
    }
   ],
   "source": [
    "scicore_filtered"
   ]
  },
  {
   "cell_type": "code",
   "execution_count": 24,
   "id": "161acb1c2e62f89f",
   "metadata": {
    "ExecuteTime": {
     "end_time": "2023-12-16T21:09:11.380213Z",
     "start_time": "2023-12-16T21:09:11.372601Z"
    },
    "collapsed": false
   },
   "outputs": [
    {
     "name": "stdout",
     "output_type": "stream",
     "text": [
      "Original DataFrame had 1990 rows.\n",
      "Filtered DataFrame has 1664 rows.\n",
      "Families removed (only had 1 entry): ['evo', 'pyfaidx', 'ELPA', 'lbzip2', 'SNAP-HMM', 'gsutil', 'MACS', 'Genrich', 'SNP-sites', 'cryodrgn', 'KaKs_Calculator', 'hifiasm-meta', 'CheckM', 'BayeScEnv', 'spaln', 'Molden', 'RADtools', 'Chiron', 'bed2diffs', 'MaSuRCA', 'eval', 'DTI-TK', 'ELPH', 'HiC-Pro', 'LAMMPS', 'Pindel', 'vcflib', 'SPAGeDi', 'how_are_we_stranded_here', 'bcl2fastq', 'DLCpar', 'AutoDockSuite', 'smalt', 'VirSorter2', 'libtasn1', 'Kraken2', 'anduril', 'Themisto', 'Phylonium', 'skewer', 'PhyloGibbs', 'Porechop', 'MariaDB', 'HipMer', 'xxd', 'redmask', 'PAPI', 'GPy', 'QUAST', 'ChimPipe', 'NCO', 'Ghostscript', 'QMCPACK', 'samblaster', 'Merlin', 'NCBI-Toolkit', 'flatbuffers', 'git-lfs', 'MetaEuk', 'KLayout', 'uchime', 'ProModII', 'FreeFem++', 'Nim', 'UCLUST', 'ETE3', 'chewBBACA', 'panaroo', 'Piranha', 'MaCH', 'tabix', 'CONTRAfold', 'IMa2', 'GeneMark-ET', 'kim-api', 'Roary', 'PROCSE', 'HISAT3N', 'andi', 'sumaclust', 'GCC_nvptx_none', 'PASApipeline', 'pairtools', 'Miniconda2', 'ChimeraX', 'MPJ-Express', 'GenomeTools', 'FastQTL', 'VIGRA', 'MOE', 'clearcut', 'LittleCMS', 'ngmlr', 'AmpliconNoise', 'ngs-barcode-count-c', 'Tomo3D', 'Transrate', 'ECL', 'Magic-BLAST', 'FSA', 'Ruby', 'KisSplice', 'RAD', 'snakemake', 'p11-kit', 'LoFreq', 'Kent_tools', 'GeneTorrent-download', 'FastCodeML', 'PLINKSEQ', 'treemix', 'GapCloser', 'makeinfo', 'Molcas', 'gpustat', 'QuadProg++', 'ruamel.yaml', 'Relate', 'ncdu', 'AutoDock_Vina', 'Coot', 'motif', 'GnuTLS', 'cuteSV', 'GLIMMER', 'Tracer', 'stress', 'FLASH2', 'OpenSSL', 'APBS', 'rSeq', 'Foldseek', 'Caffe_unet', 'Polypolish', 'imake', 'FlexiBLAS', 'Tombo', 'Grace', 'Structure', 'SCANMS', 'coevol', 'Check', 'NiBabel', 'iSMC', 'libidn2', 'bokeh', 'igv-reports', 'bwa-mem2', 'SWIPE', 'ATSAS', 'giflib', 'dashing', 'ChIP-Seq', 'purge_dups', 'Xvfb', 'MetaBAT', 'mumax', 'Voro++', 'nvptx-tools', 'Ragel', 'ImReP', 'Cube', 'pocl', 'Discovar', 'eems_snps', 'GCL', 'bioawk', 'Seqtk', 'detettore', 'RDFlib', 'samplot', 'MEGAHIT', 'ClonalFrame', 'SNAPE-pooled', 'Gdk-Pixbuf', 'Maven', 'NanoPlot', 'PyOpenCL', 'libdap', 'sickle', 'ea-utils', 'PRINSEQ', 'libdeflate', 'Cufflinks', 'KAT', 'iced', 'Test-YAML', 'Minipolish', 'scikit-bio', 'Red', 'Theano', 'EVcouplings', 'Chimera', 'aria2', 'focus', 'OTF2', 'BamBam', 'MIRA', 'Minimac', 'Sambamba', 'voronota', 'PureCLIP', 'CGAL', 'ABINIT', 'disambiguate', 'provean', 'Flexbar', 'Cython', 'SCOTCH', 'IgBLAST', 'Mathematica', 'Cookiecutter', 'hifiasm', 'Nextflow', 'Hail', 'DendroPy', 'SHELX', 'Platanus_allee', 'OCaml', 'angsd', 'abricate', 'ParMETIS', 'COBS', 'MAMBA', 'SpaceRanger', 'VMD', 'LUMPY', 'mdtest', 'OBITools', 'MRtrix3', 'ribomap', 'LSD', 'biom-format', 'MAGeCK', 'mpiBLAST', 'ecCodes', 'fqgrep', 'nseg', 'Pysam', 'NWChem', 'PhyloBayes-MPI', 'ctffind', 'MySQL', 'OPARI2', 'CARNAC-LR', 'Mercurial', 'SKA', 'LSD2', 'Singularity', 'circlator', 'RNA-QC-Chain', 'MariaDB-connector-c', 'slurm-drmaa', 'Slicer', 'STAR-Fusion', 'csvkit', 'PeakSeq', 'make', 'p7zip', 'archspec', 'ZORRO', 'COMSOL', 'MAKER', 'GC3Pie', 'Co-phylog', 'EPACTS', 'MotEvo', 'Gossamer', 'EMAN', 'tax2tree', 'bbftpPRO', 'trimAl', 'INRICH', 'dask', 'RNA-SeQC', 'sniffles', 'BioPerl', 'BLASR', 'dashing2', 'PhenotypeSeeker', 'GenomeThreader', 'DiscovarDenovo', 'Centrifuge', 'bamaddrg', 'ExaBayes', 'ALLPATHS-LG', 'IDR', 'OpenCV', 'Oases', 'TWL-NINJA', 'NcFTP', 'code-server', 'Platanus', 're2c', 'kdiff3', 'ParsInsert', 'rate4site', 'MMSEQ', 'Homer', 'protobuf-python', 'PANDAseq', 'T-Coffee', 'HDF', 'ANTLR', 'Flappie', 'ARCS', 'mSWEEP', 'libaec', 'Score-P', 'Filtlong', 'SelEstim', 'figlet', 'UMI-tools', 'BitSeq', 'cooler', 'FastME', 'gdc-client', 'TPMCalculator', 'Arrow', 'lftp', 'Clustal-Omega', 'pybind11', 'patchelf', 'QuTiP', 'PHAST', 'jbigkit']\n"
     ]
    },
    {
     "data": {
      "text/plain": [
       "<function print(*args, sep=' ', end='\\n', file=None, flush=False)>"
      ]
     },
     "execution_count": 24,
     "metadata": {},
     "output_type": "execute_result"
    }
   ],
   "source": [
    "original_count = df.shape[0]\n",
    "\n",
    "# Count the occurrences of each family\n",
    "family_counts = df['family'].value_counts()\n",
    "\n",
    "# Filter the DataFrame to keep families with more than one entry\n",
    "scicore_filtered = df[df['family'].map(family_counts) > 1]\n",
    "\n",
    "# Get the new number of rows after filtering\n",
    "filtered_count = scicore_filtered.shape[0]\n",
    "\n",
    "# Identify the families that were removed\n",
    "removed_families = family_counts[family_counts == 1].index.tolist()\n",
    "\n",
    "# Print the results\n",
    "print(f\"Original DataFrame had {original_count} rows.\")\n",
    "print(f\"Filtered DataFrame has {filtered_count} rows.\")\n",
    "print(f\"Families removed (only had 1 entry): {removed_families}\")\n",
    "print"
   ]
  },
  {
   "cell_type": "code",
   "execution_count": 25,
   "id": "7c3028b3",
   "metadata": {
    "ExecuteTime": {
     "end_time": "2023-12-16T21:09:11.380780Z",
     "start_time": "2023-12-16T21:09:11.376213Z"
    }
   },
   "outputs": [
    {
     "data": {
      "text/plain": [
       "335"
      ]
     },
     "execution_count": 25,
     "metadata": {},
     "output_type": "execute_result"
    }
   ],
   "source": [
    "len(scicore_filtered['family'].unique())"
   ]
  },
  {
   "cell_type": "markdown",
   "id": "6d16e014dc57fa6c",
   "metadata": {
    "collapsed": false
   },
   "source": [
    "Example: Get the tlsh hash of the first entry (DIAMOND) and compare to all other entries."
   ]
  },
  {
   "cell_type": "markdown",
   "id": "8b3baf9ef3e78ab2",
   "metadata": {
    "collapsed": false
   },
   "source": [
    "# ROC Curve\n",
    "\n",
    "To correctly get a ROC curve, 4 values are essential: TP, FP, TN, FN.\n",
    "\n",
    "The problem currently is, that I do not have other samples which can have no match. All the samples have a match and therefore the TN rate is 0. Thus, I will add the same amount of malware samples and concatenate with the scicore db."
   ]
  },
  {
   "cell_type": "code",
   "execution_count": 26,
   "id": "df3c6e3c0b6c2dfb",
   "metadata": {
    "ExecuteTime": {
     "end_time": "2023-12-16T21:09:11.427568Z",
     "start_time": "2023-12-16T21:09:11.380063Z"
    },
    "collapsed": false
   },
   "outputs": [
    {
     "data": {
      "text/html": [
       "<div>\n",
       "<style scoped>\n",
       "    .dataframe tbody tr th:only-of-type {\n",
       "        vertical-align: middle;\n",
       "    }\n",
       "\n",
       "    .dataframe tbody tr th {\n",
       "        vertical-align: top;\n",
       "    }\n",
       "\n",
       "    .dataframe thead th {\n",
       "        text-align: right;\n",
       "    }\n",
       "</style>\n",
       "<table border=\"1\" class=\"dataframe\">\n",
       "  <thead>\n",
       "    <tr style=\"text-align: right;\">\n",
       "      <th></th>\n",
       "      <th>_id</th>\n",
       "      <th>family</th>\n",
       "      <th>SHA256</th>\n",
       "      <th>file_size</th>\n",
       "      <th>ssdeep</th>\n",
       "      <th>sdhash</th>\n",
       "      <th>tlsh</th>\n",
       "      <th>machoc</th>\n",
       "      <th>malware</th>\n",
       "    </tr>\n",
       "  </thead>\n",
       "  <tbody>\n",
       "    <tr>\n",
       "      <th>0</th>\n",
       "      <td>0</td>\n",
       "      <td>DIAMOND</td>\n",
       "      <td>bdbbc7d10475610a47665613a15b523692f2e586e495bf...</td>\n",
       "      <td>1744592</td>\n",
       "      <td>{'ssdeep': '24576:0ZgkO8W6krEazzEHRyE5fx5j0Gkm...</td>\n",
       "      <td>sdhash hash</td>\n",
       "      <td>{'tlsh': 'T170858D1B66820CB9C492D53467E797F268...</td>\n",
       "      <td>Machoc hash</td>\n",
       "      <td>False</td>\n",
       "    </tr>\n",
       "    <tr>\n",
       "      <th>1</th>\n",
       "      <td>1</td>\n",
       "      <td>DIAMOND</td>\n",
       "      <td>3e5b9caaa8ec0488d0ef6649fa3205af16cd286921fdf3...</td>\n",
       "      <td>1264648</td>\n",
       "      <td>{'ssdeep': '24576:N7RayWHeZhpVZNmHQ/0R223Vcqem...</td>\n",
       "      <td>sdhash hash</td>\n",
       "      <td>{'tlsh': 'T1FB457E47FAC358A8C097D538466FA1367A...</td>\n",
       "      <td>Machoc hash</td>\n",
       "      <td>False</td>\n",
       "    </tr>\n",
       "    <tr>\n",
       "      <th>2</th>\n",
       "      <td>2</td>\n",
       "      <td>DIAMOND</td>\n",
       "      <td>3e7c7a7415567a30a6131c959448e136c1c4cd25e2755d...</td>\n",
       "      <td>7963768</td>\n",
       "      <td>{'ssdeep': '98304:O4g2u6YzoSU6Zr5CqeWRP07lRNMc...</td>\n",
       "      <td>sdhash hash</td>\n",
       "      <td>{'tlsh': 'T1A3868E03E687A468C8A6C43813DB91B3ED...</td>\n",
       "      <td>Machoc hash</td>\n",
       "      <td>False</td>\n",
       "    </tr>\n",
       "    <tr>\n",
       "      <th>3</th>\n",
       "      <td>3</td>\n",
       "      <td>DIAMOND</td>\n",
       "      <td>6336bd767371ef854def756641f8af86dd591e62170eb8...</td>\n",
       "      <td>1599192</td>\n",
       "      <td>{'ssdeep': '24576:39vHSut4l6xFkIRp1IzwbIPGVild...</td>\n",
       "      <td>sdhash hash</td>\n",
       "      <td>{'tlsh': 'T112759F1B6BA208ADC892D53457E796F26C...</td>\n",
       "      <td>Machoc hash</td>\n",
       "      <td>False</td>\n",
       "    </tr>\n",
       "    <tr>\n",
       "      <th>5</th>\n",
       "      <td>5</td>\n",
       "      <td>RStudio-Server</td>\n",
       "      <td>8ed496fd927bf12ab2680275d12ae8d239c77f426345e8...</td>\n",
       "      <td>4364</td>\n",
       "      <td>{'ssdeep': '96:mKNT20vznhw3tngiBbGBsek3Kfy2wy3...</td>\n",
       "      <td>sdhash hash</td>\n",
       "      <td>{'tlsh': 'T150918C52B0542BB67974A378DBB71467E3...</td>\n",
       "      <td>Machoc hash</td>\n",
       "      <td>False</td>\n",
       "    </tr>\n",
       "    <tr>\n",
       "      <th>...</th>\n",
       "      <td>...</td>\n",
       "      <td>...</td>\n",
       "      <td>...</td>\n",
       "      <td>...</td>\n",
       "      <td>...</td>\n",
       "      <td>...</td>\n",
       "      <td>...</td>\n",
       "      <td>...</td>\n",
       "      <td>...</td>\n",
       "    </tr>\n",
       "    <tr>\n",
       "      <th>327</th>\n",
       "      <td>65637c113624482ac9d1be94</td>\n",
       "      <td>Bashlite</td>\n",
       "      <td>8e71be086d99e0cb6b450fa190b55828196a3adf801c44...</td>\n",
       "      <td>83858</td>\n",
       "      <td>{'ssdeep': '1536:OuHS95q0+M5ci087Ap7YZN8nOB6MO...</td>\n",
       "      <td>sdhash hash</td>\n",
       "      <td>{'tlsh': 'T19C83182B5291C0AEC08353B52ADF9961AC...</td>\n",
       "      <td>Machoc hash</td>\n",
       "      <td>True</td>\n",
       "    </tr>\n",
       "    <tr>\n",
       "      <th>328</th>\n",
       "      <td>656392b73624482ac9d2b6cd</td>\n",
       "      <td>MacOS.Shlayer</td>\n",
       "      <td>ee17609feb45caf359f111097b63fa42c6fee3b0b7fa97...</td>\n",
       "      <td>914</td>\n",
       "      <td>{'ssdeep': '24:soTQkfZhzoKf0hF3SonehcK1zSP6WbP...</td>\n",
       "      <td>sdhash hash</td>\n",
       "      <td>{'tlsh': 'T15A11E1A0EC41B5393945EB2F3B04CC3845...</td>\n",
       "      <td>Machoc hash</td>\n",
       "      <td>True</td>\n",
       "    </tr>\n",
       "    <tr>\n",
       "      <th>329</th>\n",
       "      <td>65637bda3624482ac9d1ba66</td>\n",
       "      <td>Bashlite</td>\n",
       "      <td>818b915383338d374c1afac88fda11bd37e06ad0a069fc...</td>\n",
       "      <td>66177</td>\n",
       "      <td>{'ssdeep': '768:XR4idwyOFt5mSlCOUQGoEJfoaq649m...</td>\n",
       "      <td>sdhash hash</td>\n",
       "      <td>{'tlsh': 'T1D1530ACAE643DBB3D81311F102AB9A6B09...</td>\n",
       "      <td>Machoc hash</td>\n",
       "      <td>True</td>\n",
       "    </tr>\n",
       "    <tr>\n",
       "      <th>330</th>\n",
       "      <td>6563962a3624482ac9d2ba47</td>\n",
       "      <td>MercurialStealer</td>\n",
       "      <td>ee77c05139a72dc3f1c86391c2bb0c16f198249ae4f099...</td>\n",
       "      <td>60416</td>\n",
       "      <td>{'ssdeep': '1536:6cKfnG8eRWT5F7EqC2Tql9EPgY7gv...</td>\n",
       "      <td>sdhash hash</td>\n",
       "      <td>{'tlsh': 'T1CB435B09B7ED8609F3FF4AB95DB2416086...</td>\n",
       "      <td>Machoc hash</td>\n",
       "      <td>True</td>\n",
       "    </tr>\n",
       "    <tr>\n",
       "      <th>331</th>\n",
       "      <td>656399ad3624482ac9d2d094</td>\n",
       "      <td>NetWireRAT</td>\n",
       "      <td>f15ad49b74ca5a545240c7678bd1cd4311243407d6f6c5...</td>\n",
       "      <td>1388968</td>\n",
       "      <td>{'ssdeep': '24576:Ku6J33O0c+JY5UZ+XC0kGso6Fa72...</td>\n",
       "      <td>sdhash hash</td>\n",
       "      <td>{'tlsh': 'T1D055BF52E39EC2F0DE165172BA7DF71A2F...</td>\n",
       "      <td>Machoc hash</td>\n",
       "      <td>True</td>\n",
       "    </tr>\n",
       "  </tbody>\n",
       "</table>\n",
       "<p>1996 rows × 9 columns</p>\n",
       "</div>"
      ],
      "text/plain": [
       "                          _id            family  \\\n",
       "0                           0           DIAMOND   \n",
       "1                           1           DIAMOND   \n",
       "2                           2           DIAMOND   \n",
       "3                           3           DIAMOND   \n",
       "5                           5    RStudio-Server   \n",
       "..                        ...               ...   \n",
       "327  65637c113624482ac9d1be94          Bashlite   \n",
       "328  656392b73624482ac9d2b6cd     MacOS.Shlayer   \n",
       "329  65637bda3624482ac9d1ba66          Bashlite   \n",
       "330  6563962a3624482ac9d2ba47  MercurialStealer   \n",
       "331  656399ad3624482ac9d2d094        NetWireRAT   \n",
       "\n",
       "                                                SHA256  file_size  \\\n",
       "0    bdbbc7d10475610a47665613a15b523692f2e586e495bf...    1744592   \n",
       "1    3e5b9caaa8ec0488d0ef6649fa3205af16cd286921fdf3...    1264648   \n",
       "2    3e7c7a7415567a30a6131c959448e136c1c4cd25e2755d...    7963768   \n",
       "3    6336bd767371ef854def756641f8af86dd591e62170eb8...    1599192   \n",
       "5    8ed496fd927bf12ab2680275d12ae8d239c77f426345e8...       4364   \n",
       "..                                                 ...        ...   \n",
       "327  8e71be086d99e0cb6b450fa190b55828196a3adf801c44...      83858   \n",
       "328  ee17609feb45caf359f111097b63fa42c6fee3b0b7fa97...        914   \n",
       "329  818b915383338d374c1afac88fda11bd37e06ad0a069fc...      66177   \n",
       "330  ee77c05139a72dc3f1c86391c2bb0c16f198249ae4f099...      60416   \n",
       "331  f15ad49b74ca5a545240c7678bd1cd4311243407d6f6c5...    1388968   \n",
       "\n",
       "                                                ssdeep       sdhash  \\\n",
       "0    {'ssdeep': '24576:0ZgkO8W6krEazzEHRyE5fx5j0Gkm...  sdhash hash   \n",
       "1    {'ssdeep': '24576:N7RayWHeZhpVZNmHQ/0R223Vcqem...  sdhash hash   \n",
       "2    {'ssdeep': '98304:O4g2u6YzoSU6Zr5CqeWRP07lRNMc...  sdhash hash   \n",
       "3    {'ssdeep': '24576:39vHSut4l6xFkIRp1IzwbIPGVild...  sdhash hash   \n",
       "5    {'ssdeep': '96:mKNT20vznhw3tngiBbGBsek3Kfy2wy3...  sdhash hash   \n",
       "..                                                 ...          ...   \n",
       "327  {'ssdeep': '1536:OuHS95q0+M5ci087Ap7YZN8nOB6MO...  sdhash hash   \n",
       "328  {'ssdeep': '24:soTQkfZhzoKf0hF3SonehcK1zSP6WbP...  sdhash hash   \n",
       "329  {'ssdeep': '768:XR4idwyOFt5mSlCOUQGoEJfoaq649m...  sdhash hash   \n",
       "330  {'ssdeep': '1536:6cKfnG8eRWT5F7EqC2Tql9EPgY7gv...  sdhash hash   \n",
       "331  {'ssdeep': '24576:Ku6J33O0c+JY5UZ+XC0kGso6Fa72...  sdhash hash   \n",
       "\n",
       "                                                  tlsh       machoc  malware  \n",
       "0    {'tlsh': 'T170858D1B66820CB9C492D53467E797F268...  Machoc hash    False  \n",
       "1    {'tlsh': 'T1FB457E47FAC358A8C097D538466FA1367A...  Machoc hash    False  \n",
       "2    {'tlsh': 'T1A3868E03E687A468C8A6C43813DB91B3ED...  Machoc hash    False  \n",
       "3    {'tlsh': 'T112759F1B6BA208ADC892D53457E796F26C...  Machoc hash    False  \n",
       "5    {'tlsh': 'T150918C52B0542BB67974A378DBB71467E3...  Machoc hash    False  \n",
       "..                                                 ...          ...      ...  \n",
       "327  {'tlsh': 'T19C83182B5291C0AEC08353B52ADF9961AC...  Machoc hash     True  \n",
       "328  {'tlsh': 'T15A11E1A0EC41B5393945EB2F3B04CC3845...  Machoc hash     True  \n",
       "329  {'tlsh': 'T1D1530ACAE643DBB3D81311F102AB9A6B09...  Machoc hash     True  \n",
       "330  {'tlsh': 'T1CB435B09B7ED8609F3FF4AB95DB2416086...  Machoc hash     True  \n",
       "331  {'tlsh': 'T1D055BF52E39EC2F0DE165172BA7DF71A2F...  Machoc hash     True  \n",
       "\n",
       "[1996 rows x 9 columns]"
      ]
     },
     "execution_count": 26,
     "metadata": {},
     "output_type": "execute_result"
    }
   ],
   "source": [
    "scicore_filtered[\"malware\"] = False\n",
    "size = scicore_filtered.shape[0] / 5\n",
    "malware = pd.DataFrame(list(db[\"families\"].aggregate([{\"$sample\": {\"size\": size}}])))\n",
    "malware[\"malware\"] = True\n",
    "\n",
    "scicore_concat = pd.concat([scicore_filtered, malware])\n",
    "\n",
    "scicore_concat"
   ]
  },
  {
   "cell_type": "markdown",
   "id": "744d1a997f16c148",
   "metadata": {
    "collapsed": false
   },
   "source": [
    "### TLSH Prediction Concat\n",
    "To now correctly get the 4 essential values for the ROC curve, I will go through the concat dataset and compare to the scicore dataset. If the positive match is wrong then it is a FP. If no match gets found then it is a TN. If a scicore sample gets not matched to scicore dataset then it is a FN. If a scicore sample gets matched to a scicore sample then it is a TP."
   ]
  },
  {
   "cell_type": "code",
   "execution_count": 27,
   "id": "34c2f90cb8ec7c40",
   "metadata": {
    "ExecuteTime": {
     "end_time": "2023-12-16T21:09:11.437129Z",
     "start_time": "2023-12-16T21:09:11.406844Z"
    },
    "collapsed": false
   },
   "outputs": [],
   "source": [
    "# Function to generate a dataframe with all the possible combinations of the hashes. Reduces iloc overhead.\n",
    "def tlsh_comb(df=scicore_concat):\n",
    "    from itertools import combinations\n",
    "    \n",
    "    # Generate all binary combinations of the strings in the specified column\n",
    "    string_combinations = combinations(df[['tlsh', 'family', 'malware']].iterrows(), 2)\n",
    "    \n",
    "    # Apply tlsh.diff to each combination\n",
    "    results = []\n",
    "    for (idx1, row1), (idx2, row2) in string_combinations:\n",
    "        diff_score = tlsh.diff(row1['tlsh'][\"tlsh\"], row2['tlsh'][\"tlsh\"])\n",
    "        results.append((row1['family'], row2['family'], row1['malware'], row2['malware'], row1['tlsh']['tlsh'], row2['tlsh']['tlsh'], diff_score))\n",
    "    \n",
    "    # Convert results to DataFrame\n",
    "    results_df = pd.DataFrame(results, columns=['Family 1', 'Family 2', 'Malware 1', \"Malware 2\", 'TLSH 1', 'TLSH 2', 'Diff Score'])\n",
    "    \n",
    "    return results_df\n"
   ]
  },
  {
   "cell_type": "code",
   "execution_count": 28,
   "id": "8daf5a3ba94515d",
   "metadata": {
    "ExecuteTime": {
     "end_time": "2023-12-16T21:09:25.453658Z",
     "start_time": "2023-12-16T21:09:11.499665Z"
    },
    "collapsed": false
   },
   "outputs": [],
   "source": [
    "results_tlsh = tlsh_comb()\n",
    "\n"
   ]
  },
  {
   "cell_type": "code",
   "execution_count": 29,
   "id": "460afe476fb884de",
   "metadata": {
    "ExecuteTime": {
     "end_time": "2023-12-16T21:09:25.461231Z",
     "start_time": "2023-12-16T21:09:25.458546Z"
    },
    "collapsed": false
   },
   "outputs": [
    {
     "data": {
      "text/html": [
       "<div>\n",
       "<style scoped>\n",
       "    .dataframe tbody tr th:only-of-type {\n",
       "        vertical-align: middle;\n",
       "    }\n",
       "\n",
       "    .dataframe tbody tr th {\n",
       "        vertical-align: top;\n",
       "    }\n",
       "\n",
       "    .dataframe thead th {\n",
       "        text-align: right;\n",
       "    }\n",
       "</style>\n",
       "<table border=\"1\" class=\"dataframe\">\n",
       "  <thead>\n",
       "    <tr style=\"text-align: right;\">\n",
       "      <th></th>\n",
       "      <th>Family 1</th>\n",
       "      <th>Family 2</th>\n",
       "      <th>Malware 1</th>\n",
       "      <th>Malware 2</th>\n",
       "      <th>TLSH 1</th>\n",
       "      <th>TLSH 2</th>\n",
       "      <th>Diff Score</th>\n",
       "    </tr>\n",
       "  </thead>\n",
       "  <tbody>\n",
       "    <tr>\n",
       "      <th>0</th>\n",
       "      <td>DIAMOND</td>\n",
       "      <td>DIAMOND</td>\n",
       "      <td>False</td>\n",
       "      <td>False</td>\n",
       "      <td>T170858D1B66820CB9C492D53467E797F26830B8B5C238...</td>\n",
       "      <td>T1FB457E47FAC358A8C097D538466FA1367A31BC9FC230...</td>\n",
       "      <td>128</td>\n",
       "    </tr>\n",
       "    <tr>\n",
       "      <th>1</th>\n",
       "      <td>DIAMOND</td>\n",
       "      <td>DIAMOND</td>\n",
       "      <td>False</td>\n",
       "      <td>False</td>\n",
       "      <td>T170858D1B66820CB9C492D53467E797F26830B8B5C238...</td>\n",
       "      <td>T1A3868E03E687A468C8A6C43813DB91B3ED717C799630...</td>\n",
       "      <td>260</td>\n",
       "    </tr>\n",
       "    <tr>\n",
       "      <th>2</th>\n",
       "      <td>DIAMOND</td>\n",
       "      <td>DIAMOND</td>\n",
       "      <td>False</td>\n",
       "      <td>False</td>\n",
       "      <td>T170858D1B66820CB9C492D53467E797F26830B8B5C238...</td>\n",
       "      <td>T112759F1B6BA208ADC892D53457E796F26C31B8B5C238...</td>\n",
       "      <td>41</td>\n",
       "    </tr>\n",
       "    <tr>\n",
       "      <th>3</th>\n",
       "      <td>DIAMOND</td>\n",
       "      <td>RStudio-Server</td>\n",
       "      <td>False</td>\n",
       "      <td>False</td>\n",
       "      <td>T170858D1B66820CB9C492D53467E797F26830B8B5C238...</td>\n",
       "      <td>T150918C52B0542BB67974A378DBB71467E320905B6001...</td>\n",
       "      <td>938</td>\n",
       "    </tr>\n",
       "    <tr>\n",
       "      <th>4</th>\n",
       "      <td>DIAMOND</td>\n",
       "      <td>RStudio-Server</td>\n",
       "      <td>False</td>\n",
       "      <td>False</td>\n",
       "      <td>T170858D1B66820CB9C492D53467E797F26830B8B5C238...</td>\n",
       "      <td>T1C4918A62B0542B767974A368DBB71466E320905B6001...</td>\n",
       "      <td>963</td>\n",
       "    </tr>\n",
       "    <tr>\n",
       "      <th>...</th>\n",
       "      <td>...</td>\n",
       "      <td>...</td>\n",
       "      <td>...</td>\n",
       "      <td>...</td>\n",
       "      <td>...</td>\n",
       "      <td>...</td>\n",
       "      <td>...</td>\n",
       "    </tr>\n",
       "    <tr>\n",
       "      <th>1991005</th>\n",
       "      <td>MacOS.Shlayer</td>\n",
       "      <td>MercurialStealer</td>\n",
       "      <td>True</td>\n",
       "      <td>True</td>\n",
       "      <td>T15A11E1A0EC41B5393945EB2F3B04CC3845DA42FBDA40...</td>\n",
       "      <td>T1CB435B09B7ED8609F3FF4AB95DB241608673B866AC32...</td>\n",
       "      <td>793</td>\n",
       "    </tr>\n",
       "    <tr>\n",
       "      <th>1991006</th>\n",
       "      <td>MacOS.Shlayer</td>\n",
       "      <td>NetWireRAT</td>\n",
       "      <td>True</td>\n",
       "      <td>True</td>\n",
       "      <td>T15A11E1A0EC41B5393945EB2F3B04CC3845DA42FBDA40...</td>\n",
       "      <td>T1D055BF52E39EC2F0DE165172BA7DF71A2F3F3C254530...</td>\n",
       "      <td>1078</td>\n",
       "    </tr>\n",
       "    <tr>\n",
       "      <th>1991007</th>\n",
       "      <td>Bashlite</td>\n",
       "      <td>MercurialStealer</td>\n",
       "      <td>True</td>\n",
       "      <td>True</td>\n",
       "      <td>T1D1530ACAE643DBB3D81311F102AB9A6B0931FE3E4C32...</td>\n",
       "      <td>T1CB435B09B7ED8609F3FF4AB95DB241608673B866AC32...</td>\n",
       "      <td>229</td>\n",
       "    </tr>\n",
       "    <tr>\n",
       "      <th>1991008</th>\n",
       "      <td>Bashlite</td>\n",
       "      <td>NetWireRAT</td>\n",
       "      <td>True</td>\n",
       "      <td>True</td>\n",
       "      <td>T1D1530ACAE643DBB3D81311F102AB9A6B0931FE3E4C32...</td>\n",
       "      <td>T1D055BF52E39EC2F0DE165172BA7DF71A2F3F3C254530...</td>\n",
       "      <td>627</td>\n",
       "    </tr>\n",
       "    <tr>\n",
       "      <th>1991009</th>\n",
       "      <td>MercurialStealer</td>\n",
       "      <td>NetWireRAT</td>\n",
       "      <td>True</td>\n",
       "      <td>True</td>\n",
       "      <td>T1CB435B09B7ED8609F3FF4AB95DB241608673B866AC32...</td>\n",
       "      <td>T1D055BF52E39EC2F0DE165172BA7DF71A2F3F3C254530...</td>\n",
       "      <td>677</td>\n",
       "    </tr>\n",
       "  </tbody>\n",
       "</table>\n",
       "<p>1991010 rows × 7 columns</p>\n",
       "</div>"
      ],
      "text/plain": [
       "                 Family 1          Family 2  Malware 1  Malware 2  \\\n",
       "0                 DIAMOND           DIAMOND      False      False   \n",
       "1                 DIAMOND           DIAMOND      False      False   \n",
       "2                 DIAMOND           DIAMOND      False      False   \n",
       "3                 DIAMOND    RStudio-Server      False      False   \n",
       "4                 DIAMOND    RStudio-Server      False      False   \n",
       "...                   ...               ...        ...        ...   \n",
       "1991005     MacOS.Shlayer  MercurialStealer       True       True   \n",
       "1991006     MacOS.Shlayer        NetWireRAT       True       True   \n",
       "1991007          Bashlite  MercurialStealer       True       True   \n",
       "1991008          Bashlite        NetWireRAT       True       True   \n",
       "1991009  MercurialStealer        NetWireRAT       True       True   \n",
       "\n",
       "                                                    TLSH 1  \\\n",
       "0        T170858D1B66820CB9C492D53467E797F26830B8B5C238...   \n",
       "1        T170858D1B66820CB9C492D53467E797F26830B8B5C238...   \n",
       "2        T170858D1B66820CB9C492D53467E797F26830B8B5C238...   \n",
       "3        T170858D1B66820CB9C492D53467E797F26830B8B5C238...   \n",
       "4        T170858D1B66820CB9C492D53467E797F26830B8B5C238...   \n",
       "...                                                    ...   \n",
       "1991005  T15A11E1A0EC41B5393945EB2F3B04CC3845DA42FBDA40...   \n",
       "1991006  T15A11E1A0EC41B5393945EB2F3B04CC3845DA42FBDA40...   \n",
       "1991007  T1D1530ACAE643DBB3D81311F102AB9A6B0931FE3E4C32...   \n",
       "1991008  T1D1530ACAE643DBB3D81311F102AB9A6B0931FE3E4C32...   \n",
       "1991009  T1CB435B09B7ED8609F3FF4AB95DB241608673B866AC32...   \n",
       "\n",
       "                                                    TLSH 2  Diff Score  \n",
       "0        T1FB457E47FAC358A8C097D538466FA1367A31BC9FC230...         128  \n",
       "1        T1A3868E03E687A468C8A6C43813DB91B3ED717C799630...         260  \n",
       "2        T112759F1B6BA208ADC892D53457E796F26C31B8B5C238...          41  \n",
       "3        T150918C52B0542BB67974A378DBB71467E320905B6001...         938  \n",
       "4        T1C4918A62B0542B767974A368DBB71466E320905B6001...         963  \n",
       "...                                                    ...         ...  \n",
       "1991005  T1CB435B09B7ED8609F3FF4AB95DB241608673B866AC32...         793  \n",
       "1991006  T1D055BF52E39EC2F0DE165172BA7DF71A2F3F3C254530...        1078  \n",
       "1991007  T1CB435B09B7ED8609F3FF4AB95DB241608673B866AC32...         229  \n",
       "1991008  T1D055BF52E39EC2F0DE165172BA7DF71A2F3F3C254530...         627  \n",
       "1991009  T1D055BF52E39EC2F0DE165172BA7DF71A2F3F3C254530...         677  \n",
       "\n",
       "[1991010 rows x 7 columns]"
      ]
     },
     "execution_count": 29,
     "metadata": {},
     "output_type": "execute_result"
    }
   ],
   "source": [
    "results_tlsh"
   ]
  },
  {
   "cell_type": "code",
   "execution_count": 30,
   "id": "86d3a57a",
   "metadata": {
    "ExecuteTime": {
     "end_time": "2023-12-16T21:09:25.614638Z",
     "start_time": "2023-12-16T21:09:25.467194Z"
    }
   },
   "outputs": [],
   "source": [
    "p = results_tlsh.loc[results_tlsh.groupby(\"TLSH 1\")[\"Diff Score\"].idxmin()]\n"
   ]
  },
  {
   "cell_type": "code",
   "execution_count": 31,
   "id": "7870405be8e3a461",
   "metadata": {
    "ExecuteTime": {
     "end_time": "2023-12-16T21:09:25.621136Z",
     "start_time": "2023-12-16T21:09:25.615429Z"
    },
    "collapsed": false
   },
   "outputs": [
    {
     "name": "stdout",
     "output_type": "stream",
     "text": [
      "TP is: 0.6401985111662531 and amount is 1032 of 1612\n"
     ]
    }
   ],
   "source": [
    "l = p[p['Malware 1'] == False]\n",
    "\n",
    "f = l[l[\"Diff Score\"] < 4000]\n",
    "winrate = ((f[\"Family 1\"] == f[\"Family 2\"]).sum() / len(f))\n",
    "print(f'TP is: {winrate} and amount is {(f[\"Family 1\"] == f[\"Family 2\"]).sum()} of {len(l)}')"
   ]
  },
  {
   "cell_type": "code",
   "execution_count": 32,
   "id": "f2727a98b0c992f7",
   "metadata": {
    "ExecuteTime": {
     "end_time": "2023-12-16T21:09:25.851485Z",
     "start_time": "2023-12-16T21:09:25.621518Z"
    },
    "collapsed": false
   },
   "outputs": [],
   "source": [
    "def tlsh_beby_tresh(data):\n",
    "    ssdeep_th = pd.DataFrame(columns=[\"threshold\", \"true_positive_rate\", \"false_positive_rate\", \"hitrate\"])\n",
    "    for i in range(0,500, 1):\n",
    "        tmp = data[data[\"Diff Score\"] < i]\n",
    "        if len(tmp) != 0:\n",
    "            winrate = ((tmp[\"Family 1\"] == tmp[\"Family 2\"]).sum() / len(tmp))\n",
    "            ssdeep_th.loc[i] = [i, winrate, 1 - winrate,len(tmp) / len(data)]\n",
    "    return ssdeep_th\n",
    "        \n",
    "p = tlsh_beby_tresh(p)"
   ]
  },
  {
   "cell_type": "code",
   "execution_count": 36,
   "id": "53075d206cb0fbc7",
   "metadata": {
    "ExecuteTime": {
     "end_time": "2023-12-16T21:09:40.550223Z",
     "start_time": "2023-12-16T21:09:25.920769Z"
    },
    "collapsed": false
   },
   "outputs": [
    {
     "data": {
      "text/html": [
       "<div>\n",
       "<style scoped>\n",
       "    .dataframe tbody tr th:only-of-type {\n",
       "        vertical-align: middle;\n",
       "    }\n",
       "\n",
       "    .dataframe tbody tr th {\n",
       "        vertical-align: top;\n",
       "    }\n",
       "\n",
       "    .dataframe thead th {\n",
       "        text-align: right;\n",
       "    }\n",
       "</style>\n",
       "<table border=\"1\" class=\"dataframe\">\n",
       "  <thead>\n",
       "    <tr style=\"text-align: right;\">\n",
       "      <th></th>\n",
       "      <th>threshold</th>\n",
       "      <th>true_positive_rate</th>\n",
       "      <th>false_positive_rate</th>\n",
       "    </tr>\n",
       "  </thead>\n",
       "  <tbody>\n",
       "    <tr>\n",
       "      <th>0</th>\n",
       "      <td>0.0</td>\n",
       "      <td>0.000000</td>\n",
       "      <td>0.000000</td>\n",
       "    </tr>\n",
       "    <tr>\n",
       "      <th>1</th>\n",
       "      <td>1.0</td>\n",
       "      <td>0.173469</td>\n",
       "      <td>0.014925</td>\n",
       "    </tr>\n",
       "    <tr>\n",
       "      <th>2</th>\n",
       "      <td>2.0</td>\n",
       "      <td>0.316239</td>\n",
       "      <td>0.017544</td>\n",
       "    </tr>\n",
       "    <tr>\n",
       "      <th>3</th>\n",
       "      <td>3.0</td>\n",
       "      <td>0.368000</td>\n",
       "      <td>0.018405</td>\n",
       "    </tr>\n",
       "    <tr>\n",
       "      <th>4</th>\n",
       "      <td>4.0</td>\n",
       "      <td>0.418519</td>\n",
       "      <td>0.019481</td>\n",
       "    </tr>\n",
       "    <tr>\n",
       "      <th>...</th>\n",
       "      <td>...</td>\n",
       "      <td>...</td>\n",
       "      <td>...</td>\n",
       "    </tr>\n",
       "    <tr>\n",
       "      <th>295</th>\n",
       "      <td>295.0</td>\n",
       "      <td>0.986616</td>\n",
       "      <td>1.000000</td>\n",
       "    </tr>\n",
       "    <tr>\n",
       "      <th>296</th>\n",
       "      <td>296.0</td>\n",
       "      <td>0.986616</td>\n",
       "      <td>1.000000</td>\n",
       "    </tr>\n",
       "    <tr>\n",
       "      <th>297</th>\n",
       "      <td>297.0</td>\n",
       "      <td>0.986616</td>\n",
       "      <td>1.000000</td>\n",
       "    </tr>\n",
       "    <tr>\n",
       "      <th>298</th>\n",
       "      <td>298.0</td>\n",
       "      <td>0.986616</td>\n",
       "      <td>1.000000</td>\n",
       "    </tr>\n",
       "    <tr>\n",
       "      <th>299</th>\n",
       "      <td>299.0</td>\n",
       "      <td>0.986616</td>\n",
       "      <td>1.000000</td>\n",
       "    </tr>\n",
       "  </tbody>\n",
       "</table>\n",
       "<p>300 rows × 3 columns</p>\n",
       "</div>"
      ],
      "text/plain": [
       "     threshold  true_positive_rate  false_positive_rate\n",
       "0          0.0            0.000000             0.000000\n",
       "1          1.0            0.173469             0.014925\n",
       "2          2.0            0.316239             0.017544\n",
       "3          3.0            0.368000             0.018405\n",
       "4          4.0            0.418519             0.019481\n",
       "..         ...                 ...                  ...\n",
       "295      295.0            0.986616             1.000000\n",
       "296      296.0            0.986616             1.000000\n",
       "297      297.0            0.986616             1.000000\n",
       "298      298.0            0.986616             1.000000\n",
       "299      299.0            0.986616             1.000000\n",
       "\n",
       "[300 rows x 3 columns]"
      ]
     },
     "execution_count": 36,
     "metadata": {},
     "output_type": "execute_result"
    }
   ],
   "source": [
    "def tlsh_thresh(s):\n",
    "    s = s.loc[s.groupby(\"TLSH 1\")[\"Diff Score\"].idxmin()]\n",
    "    ssdeep_th = pd.DataFrame(columns=[\"threshold\", \"true_positive_rate\", \"false_positive_rate\"])\n",
    "    comp_to_sci = s[s[\"Malware 1\"] == False]\n",
    "    compt_to_malware = s[s[\"Malware 2\"] == True]\n",
    "    for i in range (0,300,1):\n",
    "        \n",
    "        sci_th = comp_to_sci[comp_to_sci[\"Diff Score\"] < i]\n",
    "        mal_th = compt_to_malware[compt_to_malware[\"Diff Score\"] < i]\n",
    "        f_th = compt_to_malware[compt_to_malware[\"Diff Score\"] >= i]\n",
    "        \n",
    "        TP = (sci_th[\"Family 1\"] == sci_th[\"Family 2\"]).sum()\n",
    "        FP = (sci_th[\"Family 1\"] != sci_th[\"Family 2\"]).sum()\n",
    "        FN = (f_th[\"Family 1\"] != f_th[\"Family 2\"]).sum()\n",
    "        TN = (f_th[\"Family 1\"] == f_th[\"Family 2\"]).sum()\n",
    "        \n",
    "        TPR = TP / (TP + FN) if TP + FN != 0 else 0\n",
    "        FPR = FP / (FP + TN) if FP + TN != 0 else 0\n",
    "        # Append results to DataFrame\n",
    "        ssdeep_th.loc[i] = [i, TPR, FPR]\n",
    "    return ssdeep_th\n",
    "p = tlsh_thresh(tlsh_comb())\n",
    "p"
   ]
  },
  {
   "cell_type": "code",
   "execution_count": 37,
   "id": "161a0df56997297d",
   "metadata": {
    "ExecuteTime": {
     "end_time": "2023-12-16T21:09:40.550917Z",
     "start_time": "2023-12-16T21:09:40.546498Z"
    },
    "collapsed": false
   },
   "outputs": [
    {
     "name": "stdout",
     "output_type": "stream",
     "text": [
      "The optimal Threshold is: 30\n"
     ]
    }
   ],
   "source": [
    "print(f'The optimal Threshold is: {(p[\"true_positive_rate\"] - p[\"false_positive_rate\"]).abs().idxmax()}')"
   ]
  },
  {
   "cell_type": "code",
   "execution_count": 48,
   "id": "924984aacef97837",
   "metadata": {
    "ExecuteTime": {
     "end_time": "2023-12-16T21:09:40.633572Z",
     "start_time": "2023-12-16T21:09:40.548960Z"
    },
    "collapsed": false
   },
   "outputs": [
    {
     "data": {
      "image/png": "[encoded data removed]",
      "text/plain": [
       "<Figure size 640x480 with 1 Axes>"
      ]
     },
     "metadata": {},
     "output_type": "display_data"
    }
   ],
   "source": [
    "p.plot(x=\"false_positive_rate\", y=\"true_positive_rate\", xlim=(0, 1), ylim=(0, 1),title=\"ROC Curve for TLSH\", legend=False)\n",
    "plt.plot([0, 1], [0, 1], color='navy', linestyle='--')\n",
    "for i in range(0,p.shape[0], 8):\n",
    "    plt.annotate(i, (p[\"false_positive_rate\"][i], p[\"true_positive_rate\"][i]), fontsize=8, xytext=(-7, 8), textcoords='offset points')\n",
    "    if i > 60:\n",
    "        break\n",
    "plt.show()"
   ]
  },
  {
   "cell_type": "markdown",
   "id": "424bd1fcc14e47e",
   "metadata": {
    "collapsed": false
   },
   "source": [
    "With a threshold of 14 we get the best ratio of true positive rate and false positive rate. The true positive rate is 0.81 and the false positive rate is 0.19."
   ]
  },
  {
   "cell_type": "markdown",
   "id": "d66f50b8296342f3",
   "metadata": {
    "collapsed": false
   },
   "source": [
    "# SSDEEP\n",
    "## Prediction\n",
    "\n",
    "First I will define a function that will predict the family of a sample based on the score of the comparison. The score is the maximum score of the comparison of the sample to all other samples. If the score is 0, there is no match and the prediction is \"No Match\". If the score is higher than 0, the prediction is the family with the highest score, based on the threshold. Second, I will define a function that will calculate the ROC curve based on the predictions on the given thresholds."
   ]
  },
  {
   "cell_type": "code",
   "execution_count": 49,
   "id": "de2d4b94273078e3",
   "metadata": {
    "ExecuteTime": {
     "end_time": "2023-12-16T21:09:40.634661Z",
     "start_time": "2023-12-16T21:09:40.632001Z"
    },
    "collapsed": false
   },
   "outputs": [],
   "source": [
    "def ssdeep_comb(df=scicore_concat):\n",
    "    from itertools import combinations\n",
    "    \n",
    "    # Generate all binary combinations of the strings in the specified column\n",
    "    string_combinations = combinations(df[['ssdeep', 'family', 'malware']].iterrows(), 2)\n",
    "    \n",
    "    # Apply tlsh.diff to each combination\n",
    "    results = []\n",
    "    for (idx1, row1), (idx2, row2) in string_combinations:\n",
    "        diff_score = ssdeep.compare(row1['ssdeep'][\"ssdeep\"], row2['ssdeep'][\"ssdeep\"])\n",
    "        if diff_score == 0:\n",
    "            results.append((row1['family'], \"No Match\", row1['malware'], row2['malware'], row1['ssdeep']['ssdeep'], row2['ssdeep']['ssdeep'], diff_score))\n",
    "        else:\n",
    "            results.append((row1['family'], row2['family'], row1['malware'], row2['malware'], row1['ssdeep']['ssdeep'], row2['ssdeep']['ssdeep'], diff_score))\n",
    "    \n",
    "    # Convert results to DataFrame\n",
    "    results_df = pd.DataFrame(results, columns=['Family 1', 'Family 2', 'Malware 1', \"Malware 2\", 'ssdeep 1', 'ssdeep 2', 'Diff Score'])\n",
    "    \n",
    "    return results_df"
   ]
  },
  {
   "cell_type": "code",
   "execution_count": 50,
   "id": "aa8b789b7dcd2648",
   "metadata": {
    "ExecuteTime": {
     "end_time": "2023-12-16T21:09:55.258265Z",
     "start_time": "2023-12-16T21:09:40.635210Z"
    },
    "collapsed": false
   },
   "outputs": [],
   "source": [
    "result_ssdeep = ssdeep_comb(df=scicore_filtered)"
   ]
  },
  {
   "cell_type": "code",
   "execution_count": 51,
   "id": "cd45e80fb5a8475",
   "metadata": {
    "ExecuteTime": {
     "end_time": "2023-12-16T21:09:55.264534Z",
     "start_time": "2023-12-16T21:09:55.261506Z"
    },
    "collapsed": false
   },
   "outputs": [
    {
     "data": {
      "text/html": [
       "<div>\n",
       "<style scoped>\n",
       "    .dataframe tbody tr th:only-of-type {\n",
       "        vertical-align: middle;\n",
       "    }\n",
       "\n",
       "    .dataframe tbody tr th {\n",
       "        vertical-align: top;\n",
       "    }\n",
       "\n",
       "    .dataframe thead th {\n",
       "        text-align: right;\n",
       "    }\n",
       "</style>\n",
       "<table border=\"1\" class=\"dataframe\">\n",
       "  <thead>\n",
       "    <tr style=\"text-align: right;\">\n",
       "      <th></th>\n",
       "      <th>Family 1</th>\n",
       "      <th>Family 2</th>\n",
       "      <th>Malware 1</th>\n",
       "      <th>Malware 2</th>\n",
       "      <th>ssdeep 1</th>\n",
       "      <th>ssdeep 2</th>\n",
       "      <th>Diff Score</th>\n",
       "    </tr>\n",
       "  </thead>\n",
       "  <tbody>\n",
       "    <tr>\n",
       "      <th>0</th>\n",
       "      <td>DIAMOND</td>\n",
       "      <td>No Match</td>\n",
       "      <td>False</td>\n",
       "      <td>False</td>\n",
       "      <td>24576:0ZgkO8W6krEazzEHRyE5fx5j0Gkmbc4/EnbL6kS1...</td>\n",
       "      <td>24576:N7RayWHeZhpVZNmHQ/0R223Vcqemo8hS1QOq:ray...</td>\n",
       "      <td>0</td>\n",
       "    </tr>\n",
       "    <tr>\n",
       "      <th>1</th>\n",
       "      <td>DIAMOND</td>\n",
       "      <td>No Match</td>\n",
       "      <td>False</td>\n",
       "      <td>False</td>\n",
       "      <td>24576:0ZgkO8W6krEazzEHRyE5fx5j0Gkmbc4/EnbL6kS1...</td>\n",
       "      <td>98304:O4g2u6YzoSU6Zr5CqeWRP07lRNMceRe/ai8Qt5vj...</td>\n",
       "      <td>0</td>\n",
       "    </tr>\n",
       "    <tr>\n",
       "      <th>2</th>\n",
       "      <td>DIAMOND</td>\n",
       "      <td>No Match</td>\n",
       "      <td>False</td>\n",
       "      <td>False</td>\n",
       "      <td>24576:0ZgkO8W6krEazzEHRyE5fx5j0Gkmbc4/EnbL6kS1...</td>\n",
       "      <td>24576:39vHSut4l6xFkIRp1IzwbIPGVildRLdJNyZJfkD7...</td>\n",
       "      <td>0</td>\n",
       "    </tr>\n",
       "    <tr>\n",
       "      <th>3</th>\n",
       "      <td>DIAMOND</td>\n",
       "      <td>No Match</td>\n",
       "      <td>False</td>\n",
       "      <td>False</td>\n",
       "      <td>24576:0ZgkO8W6krEazzEHRyE5fx5j0Gkmbc4/EnbL6kS1...</td>\n",
       "      <td>96:mKNT20vznhw3tngiBbGBsek3Kfy2wy3wy70rsnt/amM...</td>\n",
       "      <td>0</td>\n",
       "    </tr>\n",
       "    <tr>\n",
       "      <th>4</th>\n",
       "      <td>DIAMOND</td>\n",
       "      <td>No Match</td>\n",
       "      <td>False</td>\n",
       "      <td>False</td>\n",
       "      <td>24576:0ZgkO8W6krEazzEHRyE5fx5j0Gkmbc4/EnbL6kS1...</td>\n",
       "      <td>96:mKNT20vsihw3tngiBbGBsek3Kfy2wy3wy70rsnt/amM...</td>\n",
       "      <td>0</td>\n",
       "    </tr>\n",
       "    <tr>\n",
       "      <th>...</th>\n",
       "      <td>...</td>\n",
       "      <td>...</td>\n",
       "      <td>...</td>\n",
       "      <td>...</td>\n",
       "      <td>...</td>\n",
       "      <td>...</td>\n",
       "      <td>...</td>\n",
       "    </tr>\n",
       "    <tr>\n",
       "      <th>1383611</th>\n",
       "      <td>help2man</td>\n",
       "      <td>help2man</td>\n",
       "      <td>False</td>\n",
       "      <td>False</td>\n",
       "      <td>384:svLjrCCJ8/eQrvPX+ejZbCOL3npSeLLK9qj9OLUAg5...</td>\n",
       "      <td>384:sBLdkCCJ8rwQ0EvrX+rjZbOeL3npSeLLK9qj9OLUAg...</td>\n",
       "      <td>80</td>\n",
       "    </tr>\n",
       "    <tr>\n",
       "      <th>1383612</th>\n",
       "      <td>help2man</td>\n",
       "      <td>help2man</td>\n",
       "      <td>False</td>\n",
       "      <td>False</td>\n",
       "      <td>384:svLjrCCJ8/eQrvPX+ejZbCOL3npSeLLK9qj9OLUAg5...</td>\n",
       "      <td>384:sDLjOCCJ8/eQrvPX+rjZb2OL3npSeLLK9qj9OLUAg5...</td>\n",
       "      <td>94</td>\n",
       "    </tr>\n",
       "    <tr>\n",
       "      <th>1383613</th>\n",
       "      <td>help2man</td>\n",
       "      <td>help2man</td>\n",
       "      <td>False</td>\n",
       "      <td>False</td>\n",
       "      <td>384:sBLdhCCJ8rwQ0EvrX+rjZbOeL3npSeLLK9qj9OLUAg...</td>\n",
       "      <td>384:sBLdkCCJ8rwQ0EvrX+rjZbOeL3npSeLLK9qj9OLUAg...</td>\n",
       "      <td>99</td>\n",
       "    </tr>\n",
       "    <tr>\n",
       "      <th>1383614</th>\n",
       "      <td>help2man</td>\n",
       "      <td>help2man</td>\n",
       "      <td>False</td>\n",
       "      <td>False</td>\n",
       "      <td>384:sBLdhCCJ8rwQ0EvrX+rjZbOeL3npSeLLK9qj9OLUAg...</td>\n",
       "      <td>384:sDLjOCCJ8/eQrvPX+rjZb2OL3npSeLLK9qj9OLUAg5...</td>\n",
       "      <td>82</td>\n",
       "    </tr>\n",
       "    <tr>\n",
       "      <th>1383615</th>\n",
       "      <td>help2man</td>\n",
       "      <td>help2man</td>\n",
       "      <td>False</td>\n",
       "      <td>False</td>\n",
       "      <td>384:sBLdkCCJ8rwQ0EvrX+rjZbOeL3npSeLLK9qj9OLUAg...</td>\n",
       "      <td>384:sDLjOCCJ8/eQrvPX+rjZb2OL3npSeLLK9qj9OLUAg5...</td>\n",
       "      <td>82</td>\n",
       "    </tr>\n",
       "  </tbody>\n",
       "</table>\n",
       "<p>1383616 rows × 7 columns</p>\n",
       "</div>"
      ],
      "text/plain": [
       "         Family 1  Family 2  Malware 1  Malware 2  \\\n",
       "0         DIAMOND  No Match      False      False   \n",
       "1         DIAMOND  No Match      False      False   \n",
       "2         DIAMOND  No Match      False      False   \n",
       "3         DIAMOND  No Match      False      False   \n",
       "4         DIAMOND  No Match      False      False   \n",
       "...           ...       ...        ...        ...   \n",
       "1383611  help2man  help2man      False      False   \n",
       "1383612  help2man  help2man      False      False   \n",
       "1383613  help2man  help2man      False      False   \n",
       "1383614  help2man  help2man      False      False   \n",
       "1383615  help2man  help2man      False      False   \n",
       "\n",
       "                                                  ssdeep 1  \\\n",
       "0        24576:0ZgkO8W6krEazzEHRyE5fx5j0Gkmbc4/EnbL6kS1...   \n",
       "1        24576:0ZgkO8W6krEazzEHRyE5fx5j0Gkmbc4/EnbL6kS1...   \n",
       "2        24576:0ZgkO8W6krEazzEHRyE5fx5j0Gkmbc4/EnbL6kS1...   \n",
       "3        24576:0ZgkO8W6krEazzEHRyE5fx5j0Gkmbc4/EnbL6kS1...   \n",
       "4        24576:0ZgkO8W6krEazzEHRyE5fx5j0Gkmbc4/EnbL6kS1...   \n",
       "...                                                    ...   \n",
       "1383611  384:svLjrCCJ8/eQrvPX+ejZbCOL3npSeLLK9qj9OLUAg5...   \n",
       "1383612  384:svLjrCCJ8/eQrvPX+ejZbCOL3npSeLLK9qj9OLUAg5...   \n",
       "1383613  384:sBLdhCCJ8rwQ0EvrX+rjZbOeL3npSeLLK9qj9OLUAg...   \n",
       "1383614  384:sBLdhCCJ8rwQ0EvrX+rjZbOeL3npSeLLK9qj9OLUAg...   \n",
       "1383615  384:sBLdkCCJ8rwQ0EvrX+rjZbOeL3npSeLLK9qj9OLUAg...   \n",
       "\n",
       "                                                  ssdeep 2  Diff Score  \n",
       "0        24576:N7RayWHeZhpVZNmHQ/0R223Vcqemo8hS1QOq:ray...           0  \n",
       "1        98304:O4g2u6YzoSU6Zr5CqeWRP07lRNMceRe/ai8Qt5vj...           0  \n",
       "2        24576:39vHSut4l6xFkIRp1IzwbIPGVildRLdJNyZJfkD7...           0  \n",
       "3        96:mKNT20vznhw3tngiBbGBsek3Kfy2wy3wy70rsnt/amM...           0  \n",
       "4        96:mKNT20vsihw3tngiBbGBsek3Kfy2wy3wy70rsnt/amM...           0  \n",
       "...                                                    ...         ...  \n",
       "1383611  384:sBLdkCCJ8rwQ0EvrX+rjZbOeL3npSeLLK9qj9OLUAg...          80  \n",
       "1383612  384:sDLjOCCJ8/eQrvPX+rjZb2OL3npSeLLK9qj9OLUAg5...          94  \n",
       "1383613  384:sBLdkCCJ8rwQ0EvrX+rjZbOeL3npSeLLK9qj9OLUAg...          99  \n",
       "1383614  384:sDLjOCCJ8/eQrvPX+rjZb2OL3npSeLLK9qj9OLUAg5...          82  \n",
       "1383615  384:sDLjOCCJ8/eQrvPX+rjZb2OL3npSeLLK9qj9OLUAg5...          82  \n",
       "\n",
       "[1383616 rows x 7 columns]"
      ]
     },
     "execution_count": 51,
     "metadata": {},
     "output_type": "execute_result"
    }
   ],
   "source": [
    "result_ssdeep"
   ]
  },
  {
   "cell_type": "code",
   "execution_count": 52,
   "id": "309eb6e2c0d40249",
   "metadata": {
    "ExecuteTime": {
     "end_time": "2023-12-16T21:09:55.427112Z",
     "start_time": "2023-12-16T21:09:55.282119Z"
    },
    "collapsed": false
   },
   "outputs": [
    {
     "data": {
      "text/plain": [
       "0.8555240793201133"
      ]
     },
     "execution_count": 52,
     "metadata": {},
     "output_type": "execute_result"
    }
   ],
   "source": [
    "s = result_ssdeep.loc[result_ssdeep.groupby('ssdeep 1')[\"Diff Score\"].idxmax()]\n",
    "size = s.shape[0]\n",
    "s = s[s[\"Malware 2\"] == False]\n",
    "s = s[s[\"Diff Score\"] > 60]\n",
    "(s[\"Family 1\"] == s[\"Family 2\"]).sum() / s.shape[0]\n"
   ]
  },
  {
   "cell_type": "markdown",
   "id": "7d18471717848ceb",
   "metadata": {
    "collapsed": false
   },
   "source": [
    "The absolute true positive rate is 23% for any threshold higher than 0 with noise."
   ]
  },
  {
   "cell_type": "code",
   "execution_count": 53,
   "id": "5c84bd077070bc14",
   "metadata": {
    "ExecuteTime": {
     "end_time": "2023-12-16T21:09:55.506603Z",
     "start_time": "2023-12-16T21:09:55.423797Z"
    },
    "collapsed": false
   },
   "outputs": [
    {
     "data": {
      "text/plain": [
       "1539"
      ]
     },
     "execution_count": 53,
     "metadata": {},
     "output_type": "execute_result"
    }
   ],
   "source": [
    "comp_to_sci = result_ssdeep[result_ssdeep[\"Malware 2\"] == False]\n",
    "compt_to_malware = result_ssdeep[result_ssdeep[\"Malware 2\"] == True]\n",
    "(comp_to_sci[\"Family 1\"] == comp_to_sci[\"Family 2\"]).sum()"
   ]
  },
  {
   "cell_type": "code",
   "execution_count": 54,
   "id": "b60b25824e24246d",
   "metadata": {
    "ExecuteTime": {
     "end_time": "2023-12-16T21:10:11.656069Z",
     "start_time": "2023-12-16T21:09:55.620849Z"
    },
    "collapsed": false
   },
   "outputs": [
    {
     "data": {
      "text/html": [
       "<div>\n",
       "<style scoped>\n",
       "    .dataframe tbody tr th:only-of-type {\n",
       "        vertical-align: middle;\n",
       "    }\n",
       "\n",
       "    .dataframe tbody tr th {\n",
       "        vertical-align: top;\n",
       "    }\n",
       "\n",
       "    .dataframe thead th {\n",
       "        text-align: right;\n",
       "    }\n",
       "</style>\n",
       "<table border=\"1\" class=\"dataframe\">\n",
       "  <thead>\n",
       "    <tr style=\"text-align: right;\">\n",
       "      <th></th>\n",
       "      <th>threshold</th>\n",
       "      <th>true_positive_rate</th>\n",
       "      <th>false_positive_rate</th>\n",
       "    </tr>\n",
       "  </thead>\n",
       "  <tbody>\n",
       "    <tr>\n",
       "      <th>0</th>\n",
       "      <td>0.0</td>\n",
       "      <td>1.000000</td>\n",
       "      <td>1.0</td>\n",
       "    </tr>\n",
       "    <tr>\n",
       "      <th>1</th>\n",
       "      <td>1.0</td>\n",
       "      <td>0.650869</td>\n",
       "      <td>1.0</td>\n",
       "    </tr>\n",
       "    <tr>\n",
       "      <th>2</th>\n",
       "      <td>2.0</td>\n",
       "      <td>0.650869</td>\n",
       "      <td>1.0</td>\n",
       "    </tr>\n",
       "    <tr>\n",
       "      <th>3</th>\n",
       "      <td>3.0</td>\n",
       "      <td>0.650869</td>\n",
       "      <td>1.0</td>\n",
       "    </tr>\n",
       "    <tr>\n",
       "      <th>4</th>\n",
       "      <td>4.0</td>\n",
       "      <td>0.650869</td>\n",
       "      <td>1.0</td>\n",
       "    </tr>\n",
       "    <tr>\n",
       "      <th>...</th>\n",
       "      <td>...</td>\n",
       "      <td>...</td>\n",
       "      <td>...</td>\n",
       "    </tr>\n",
       "    <tr>\n",
       "      <th>105</th>\n",
       "      <td>105.0</td>\n",
       "      <td>0.000000</td>\n",
       "      <td>0.0</td>\n",
       "    </tr>\n",
       "    <tr>\n",
       "      <th>106</th>\n",
       "      <td>106.0</td>\n",
       "      <td>0.000000</td>\n",
       "      <td>0.0</td>\n",
       "    </tr>\n",
       "    <tr>\n",
       "      <th>107</th>\n",
       "      <td>107.0</td>\n",
       "      <td>0.000000</td>\n",
       "      <td>0.0</td>\n",
       "    </tr>\n",
       "    <tr>\n",
       "      <th>108</th>\n",
       "      <td>108.0</td>\n",
       "      <td>0.000000</td>\n",
       "      <td>0.0</td>\n",
       "    </tr>\n",
       "    <tr>\n",
       "      <th>109</th>\n",
       "      <td>109.0</td>\n",
       "      <td>0.000000</td>\n",
       "      <td>0.0</td>\n",
       "    </tr>\n",
       "  </tbody>\n",
       "</table>\n",
       "<p>110 rows × 3 columns</p>\n",
       "</div>"
      ],
      "text/plain": [
       "     threshold  true_positive_rate  false_positive_rate\n",
       "0          0.0            1.000000                  1.0\n",
       "1          1.0            0.650869                  1.0\n",
       "2          2.0            0.650869                  1.0\n",
       "3          3.0            0.650869                  1.0\n",
       "4          4.0            0.650869                  1.0\n",
       "..         ...                 ...                  ...\n",
       "105      105.0            0.000000                  0.0\n",
       "106      106.0            0.000000                  0.0\n",
       "107      107.0            0.000000                  0.0\n",
       "108      108.0            0.000000                  0.0\n",
       "109      109.0            0.000000                  0.0\n",
       "\n",
       "[110 rows x 3 columns]"
      ]
     },
     "execution_count": 54,
     "metadata": {},
     "output_type": "execute_result"
    }
   ],
   "source": [
    "def ssdeep_thresh(s):\n",
    "    s = s.loc[s.groupby('ssdeep 1')[\"Diff Score\"].idxmax()]\n",
    "    ssdeep_th = pd.DataFrame(columns=[\"threshold\", \"true_positive_rate\", \"false_positive_rate\"])\n",
    "    comp_to_sci = s[s[\"Malware 1\"] == False]\n",
    "    compt_to_malware = s[s[\"Malware 2\"] == True]\n",
    "    for i in range (0,110,1):\n",
    "        \n",
    "        sci_th = comp_to_sci[comp_to_sci[\"Diff Score\"] >= i]\n",
    "        mal_th = compt_to_malware[compt_to_malware[\"Diff Score\"] > i]\n",
    "        f_th = compt_to_malware[compt_to_malware[\"Diff Score\"] < i]\n",
    "        \n",
    "        TP = (sci_th[\"Family 1\"] == sci_th[\"Family 2\"]).sum()\n",
    "        FP = (sci_th[\"Family 1\"] != sci_th[\"Family 2\"]).sum()\n",
    "        FN = (f_th[\"Family 1\"] != f_th[\"Family 2\"]).sum()\n",
    "        TN = (f_th[\"Family 1\"] == f_th[\"Family 2\"]).sum()\n",
    "        \n",
    "        TPR = TP / (TP + FN) if TP + FN != 0 else 0\n",
    "        FPR = FP / (FP + TN) if FP + TN != 0 else 0\n",
    "        # Append results to DataFrame\n",
    "        ssdeep_th.loc[i] = [i, TPR, FPR]\n",
    "    return ssdeep_th\n",
    "p = ssdeep_thresh(ssdeep_comb())\n",
    "p"
   ]
  },
  {
   "cell_type": "code",
   "execution_count": 60,
   "id": "cdd8ce5e25ad23b3",
   "metadata": {
    "ExecuteTime": {
     "end_time": "2023-12-16T21:10:11.738909Z",
     "start_time": "2023-12-16T21:10:11.665521Z"
    },
    "collapsed": false
   },
   "outputs": [
    {
     "data": {
      "image/png": "[encoded data removed]",
      "text/plain": [
       "<Figure size 640x480 with 1 Axes>"
      ]
     },
     "metadata": {},
     "output_type": "display_data"
    }
   ],
   "source": [
    "# Plot the ROC curve in range 0.1 to 1.0\n",
    "p.plot(x=\"false_positive_rate\", y=\"true_positive_rate\", xlim=(0, 1), ylim=(0, 1),title=\"ROC Curve for ssdeep\")\n",
    "for i in range(p.shape[0]- 1,0, -3):\n",
    "    plt.annotate(i, (p[\"false_positive_rate\"][i], p[\"true_positive_rate\"][i]), fontsize=8, xytext=(-7, 8), textcoords='offset points')\n",
    "    if i < 80:\n",
    "        break\n",
    "# add a dotet line with y = x for comparison\n",
    "plt.plot([0, 1], [0, 1], color='navy', linestyle='--')\n",
    "plt.show()"
   ]
  },
  {
   "cell_type": "code",
   "execution_count": 56,
   "id": "3c9261c8b1990426",
   "metadata": {
    "ExecuteTime": {
     "end_time": "2023-12-16T21:10:11.740439Z",
     "start_time": "2023-12-16T21:10:11.738021Z"
    },
    "collapsed": false
   },
   "outputs": [
    {
     "name": "stdout",
     "output_type": "stream",
     "text": [
      "The optimal Threshold is: 26\n"
     ]
    }
   ],
   "source": [
    "print(f'The optimal Threshold is: {(p[\"true_positive_rate\"] - p[\"false_positive_rate\"]).abs().idxmax()}')"
   ]
  },
  {
   "cell_type": "code",
   "execution_count": 88,
   "id": "583e7cd4",
   "metadata": {
    "ExecuteTime": {
     "end_time": "2023-12-16T21:10:11.743679Z",
     "start_time": "2023-12-16T21:10:11.740364Z"
    }
   },
   "outputs": [],
   "source": [
    "tlsh_comp = results_tlsh.loc[results_tlsh.groupby(\"TLSH 1\")[\"Diff Score\"].idxmin()]\n",
    "ssdeep_comp = result_ssdeep.loc[result_ssdeep.groupby('ssdeep 1')[\"Diff Score\"].idxmax()]\n",
    "tls = []\n",
    "ssd = []\n",
    "for i in range (0,310,10):\n",
    "    tlsh_comp_diff = tlsh_comp[tlsh_comp[\"Diff Score\"] < i]\n",
    "    tlsh_comp_diff = tlsh_comp_diff[tlsh_comp_diff[\"Malware 1\"] == False]\n",
    "    winrate = (tlsh_comp_diff[\"Family 1\"] == tlsh_comp_diff[\"Family 2\"]).sum() / len(tlsh_comp_diff)\n",
    "    total = len(tlsh_comp_diff) / len(tlsh_comp)\n",
    "    tls.append((winrate, 1-winrate, total, i))\n",
    "for j in range (0,110,10):\n",
    "    ssdeep_comp_diff = ssdeep_comp[ssdeep_comp[\"Diff Score\"] >= j]\n",
    "    ssdeep_comp_diff = ssdeep_comp_diff[ssdeep_comp_diff[\"Malware 1\"] == False]\n",
    "    winrate = (ssdeep_comp_diff[\"Family 1\"] == ssdeep_comp_diff[\"Family 2\"]).sum() / len(ssdeep_comp_diff)\n",
    "    total = len(ssdeep_comp_diff) / len(ssdeep_comp)\n",
    "    ssd.append((winrate, 1-winrate, total,j))"
   ]
  },
  {
   "cell_type": "code",
   "execution_count": 97,
   "id": "a410e5d7",
   "metadata": {},
   "outputs": [
    {
     "data": {
      "text/plain": [
       "<Figure size 640x480 with 0 Axes>"
      ]
     },
     "metadata": {},
     "output_type": "display_data"
    },
    {
     "data": {
      "image/png": "[encoded data removed]",
      "text/plain": [
       "<Figure size 2000x500 with 2 Axes>"
      ]
     },
     "metadata": {},
     "output_type": "display_data"
    }
   ],
   "source": [
    "titi = pd.DataFrame(tls, columns=[\"winrate\", \"lossrate\", \"total\", \"threshold\"])\n",
    "sisi = pd.DataFrame(ssd, columns=[\"winrate\", \"lossrate\", \"total\", \"threshold\"])\n",
    "#ti = titi.plot(x=\"threshold\", y=[\"winrate\",\"lossrate\",\"total\"],title=\"EDI Curve for TLSH\")\n",
    "#si = sisi.plot(x=\"threshold\", y=[\"winrate\",\"lossrate\",\"total\"],title=\"EDI Curve for ssdeep\")\n",
    "\n",
    "plt.clf()\n",
    "fig, ax = plt.subplots(1,2, figsize=(20,5))\n",
    "ax[0].plot(titi[\"threshold\"], titi[\"winrate\"], label=\"hitrate\")\n",
    "ax[0].plot(titi[\"threshold\"], titi[\"lossrate\"], label=\"missrate\")\n",
    "ax[0].plot(titi[\"threshold\"], titi[\"total\"], label=\"total\")\n",
    "ax[0].axvline(x=50, color='violet', linestyle='--', label='Safe')\n",
    "ax[0].axvline(x=120, color='black', linestyle='--', label='Broad')\n",
    "ax[0].legend()\n",
    "ax[0].set_title(\"EDI Curve for TLSH\")\n",
    "ax[0].set_xlabel(\"Threshold\")\n",
    "ax[0].set_ylabel(\"Percentage\")\n",
    "ax[1].plot(sisi[\"threshold\"], sisi[\"winrate\"], label=\"hitrate\")\n",
    "ax[1].plot(sisi[\"threshold\"], sisi[\"lossrate\"], label=\"missrate\")\n",
    "ax[1].plot(sisi[\"threshold\"], sisi[\"total\"], label=\"total\")\n",
    "ax[1].axvline(x=6, color='black', linestyle='--', label='Intersection')\n",
    "ax[1].legend()\n",
    "ax[1].set_title(\"EDI Curve for ssdeep\")\n",
    "ax[1].set_xlabel(\"Threshold\")\n",
    "ax[1].set_ylabel(\"Percentage\")\n",
    "plt.show()"
   ]
  }
 ],
 "metadata": {
  "kernelspec": {
   "display_name": "Python 3",
   "language": "python",
   "name": "python3"
  },
  "language_info": {
   "codemirror_mode": {
    "name": "ipython",
    "version": 3
   },
   "file_extension": ".py",
   "mimetype": "text/x-python",
   "name": "python",
   "nbconvert_exporter": "python",
   "pygments_lexer": "ipython3",
   "version": "3.11.5"
  }
 },
 "nbformat": 4,
 "nbformat_minor": 5
}
