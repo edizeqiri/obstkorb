{
 "cells": [
  {
   "cell_type": "code",
   "execution_count": 147,
   "id": "initial_id",
   "metadata": {
    "collapsed": true,
    "ExecuteTime": {
     "end_time": "2023-12-11T11:32:33.717475Z",
     "start_time": "2023-12-11T11:32:31.707494Z"
    }
   },
   "outputs": [],
   "source": [
    "import numpy as np\n",
    "import pandas as pd\n",
    "import Mongo_Connector as mongo\n",
    "import tlsh\n",
    "from icecream import ic\n",
    "import matplotlib.pyplot as plt\n",
    "import ssdeep\n",
    "import warnings\n",
    "from itertools import combinations\n",
    "warnings.filterwarnings('ignore')\n",
    "db = mongo.init(\"portainer\", port=32768)\n",
    "df = pd.DataFrame(list(db[\"families\"].find({})))"
   ]
  },
  {
   "cell_type": "code",
   "execution_count": 148,
   "outputs": [
    {
     "data": {
      "text/plain": "<Axes: >"
     },
     "execution_count": 148,
     "metadata": {},
     "output_type": "execute_result"
    },
    {
     "data": {
      "text/plain": "<Figure size 640x480 with 1 Axes>",
      "image/png": "[encoded data removed]"
     },
     "metadata": {},
     "output_type": "display_data"
    }
   ],
   "source": [
    "family_counts = df['family'].value_counts()\n",
    "\n",
    "# Filter the families with more than one entry\n",
    "malware_filtered = df[df['family'].map(family_counts) > 1]\n",
    "\n",
    "family_counts.hist(bins=100)"
   ],
   "metadata": {
    "collapsed": false,
    "ExecuteTime": {
     "end_time": "2023-12-11T11:32:34.733603Z",
     "start_time": "2023-12-11T11:32:34.615887Z"
    }
   },
   "id": "937a2956f270d7ca"
  },
  {
   "cell_type": "code",
   "execution_count": 149,
   "outputs": [
    {
     "data": {
      "text/plain": "                             _id   family  \\\n0       6563776f3624482ac9d197e3  9002Rat   \n1       6563776f3624482ac9d197e4  9002Rat   \n2       6563776f3624482ac9d197e5  9002Rat   \n3       6563776f3624482ac9d197e6  9002Rat   \n4       6563776f3624482ac9d197e7  9002Rat   \n...                          ...      ...   \n104365  6563a2f13624482ac9d32f90  zxShell   \n104366  6563a2f13624482ac9d32f91  zxShell   \n104367  6563a2f13624482ac9d32f92  zxShell   \n104368  6563a2f13624482ac9d32f93  zxShell   \n104369  6563a2f13624482ac9d32f94  zxShell   \n\n                                                   SHA256  file_size  \\\n0       006c74c6813a6efeabea860b2718ed548eed216a319d76...      66888   \n1       0414ffdf9dcf32061cc57d0b54bf4410c1c588258c1261...      91136   \n2       054ac444bb2e4fa836ecb6ecdbb9381001ab26cf109451...   20008392   \n3       06fb64ebe50ee96901a339a7c5f686ead86e2ed6b26a73...   13189815   \n4       07da10375b0862760f3cb84e563f74ff4fc53864e34836...   21415252   \n...                                                   ...        ...   \n104365  e2d2761fc2535d99527df2f7cffd8dddccd504dc0096f6...    1181088   \n104366  e416ad91acbc386bf67dc551fb36b9d95a195d8b656cfe...     581536   \n104367  ef049339f1eb091cda335b51939f91e784e1ab1e006056...    1678576   \n104368  fbe294910ef833e1c9b2c8663c06b6ef99c13b2bc5eb01...    1698208   \n104369  fc3cacb2103adedc11720c34a243de58085c1a7283ba35...     204240   \n\n                                                   ssdeep       sdhash  \\\n0       {'ssdeep': '1536:fyOinfXrmThthYvYh+8+IXbTyllRb...  sdhash hash   \n1       {'ssdeep': '1536:isQQjCC6ZRC5EPviVkdsayrPJe7P6...  sdhash hash   \n2       {'ssdeep': '393216:1ZZNprQxrpbXZRCb0g/6cGx3PjW...  sdhash hash   \n3       {'ssdeep': '393216:z0ZCif89tnKfsp09SskycXZBBLW...  sdhash hash   \n4       {'ssdeep': '393216:c5gt4ljF2jF0C0eUkGz2Wqha9zO...  sdhash hash   \n...                                                   ...          ...   \n104365  {'ssdeep': '24576:OD46fWg3rOqkdvJ7jXLq7+aywR+r...  sdhash hash   \n104366  {'ssdeep': '12288:1wHoMbN76R+m/ZZsJsjLa7pxIkmV...  sdhash hash   \n104367  {'ssdeep': '24576:nUtLEVCXBJFlUXYuJmQsYsECO0Gw...  sdhash hash   \n104368  {'ssdeep': '24576:hlIE5fsyVqdxskKfia9TQyaM9rrI...  sdhash hash   \n104369  {'ssdeep': '3072:MRXYhKlbnA9cmZi3Ks30JkGq2uPB+...  sdhash hash   \n\n                                                     tlsh       machoc  \n0       {'tlsh': 'T18A635B27E9548473CDC24DB044E80B7B8A...  Machoc hash  \n1       {'tlsh': 'T1D9937B107682C275D47A29344C69CB731B...  Machoc hash  \n2       {'tlsh': 'T14217331276D2C037C1A711719A37EB29AA...  Machoc hash  \n3       {'tlsh': 'T192D6336519E01E8CF2D177765AB1A2D44F...  Machoc hash  \n4       {'tlsh': 'T16827339FB8735437E78CE4F089FA77F202...  Machoc hash  \n...                                                   ...          ...  \n104365  {'tlsh': 'T1C64523683D62D4F0C4EF523C29FA7B2C76...  Machoc hash  \n104366  {'tlsh': 'T178C423AB070915FBE54ADC3C005752E41C...  Machoc hash  \n104367  {'tlsh': 'T1807533E66396CC60DFAAC4B2AF8F4266DB...  Machoc hash  \n104368  {'tlsh': 'T1067533C5AA1F6183EFCB443A57759E3AF7...  Machoc hash  \n104369  {'tlsh': 'T178141247D9953AE0DCB11B74ED83692FF2...  Machoc hash  \n\n[104260 rows x 8 columns]",
      "text/html": "<div>\n<style scoped>\n    .dataframe tbody tr th:only-of-type {\n        vertical-align: middle;\n    }\n\n    .dataframe tbody tr th {\n        vertical-align: top;\n    }\n\n    .dataframe thead th {\n        text-align: right;\n    }\n</style>\n<table border=\"1\" class=\"dataframe\">\n  <thead>\n    <tr style=\"text-align: right;\">\n      <th></th>\n      <th>_id</th>\n      <th>family</th>\n      <th>SHA256</th>\n      <th>file_size</th>\n      <th>ssdeep</th>\n      <th>sdhash</th>\n      <th>tlsh</th>\n      <th>machoc</th>\n    </tr>\n  </thead>\n  <tbody>\n    <tr>\n      <th>0</th>\n      <td>6563776f3624482ac9d197e3</td>\n      <td>9002Rat</td>\n      <td>006c74c6813a6efeabea860b2718ed548eed216a319d76...</td>\n      <td>66888</td>\n      <td>{'ssdeep': '1536:fyOinfXrmThthYvYh+8+IXbTyllRb...</td>\n      <td>sdhash hash</td>\n      <td>{'tlsh': 'T18A635B27E9548473CDC24DB044E80B7B8A...</td>\n      <td>Machoc hash</td>\n    </tr>\n    <tr>\n      <th>1</th>\n      <td>6563776f3624482ac9d197e4</td>\n      <td>9002Rat</td>\n      <td>0414ffdf9dcf32061cc57d0b54bf4410c1c588258c1261...</td>\n      <td>91136</td>\n      <td>{'ssdeep': '1536:isQQjCC6ZRC5EPviVkdsayrPJe7P6...</td>\n      <td>sdhash hash</td>\n      <td>{'tlsh': 'T1D9937B107682C275D47A29344C69CB731B...</td>\n      <td>Machoc hash</td>\n    </tr>\n    <tr>\n      <th>2</th>\n      <td>6563776f3624482ac9d197e5</td>\n      <td>9002Rat</td>\n      <td>054ac444bb2e4fa836ecb6ecdbb9381001ab26cf109451...</td>\n      <td>20008392</td>\n      <td>{'ssdeep': '393216:1ZZNprQxrpbXZRCb0g/6cGx3PjW...</td>\n      <td>sdhash hash</td>\n      <td>{'tlsh': 'T14217331276D2C037C1A711719A37EB29AA...</td>\n      <td>Machoc hash</td>\n    </tr>\n    <tr>\n      <th>3</th>\n      <td>6563776f3624482ac9d197e6</td>\n      <td>9002Rat</td>\n      <td>06fb64ebe50ee96901a339a7c5f686ead86e2ed6b26a73...</td>\n      <td>13189815</td>\n      <td>{'ssdeep': '393216:z0ZCif89tnKfsp09SskycXZBBLW...</td>\n      <td>sdhash hash</td>\n      <td>{'tlsh': 'T192D6336519E01E8CF2D177765AB1A2D44F...</td>\n      <td>Machoc hash</td>\n    </tr>\n    <tr>\n      <th>4</th>\n      <td>6563776f3624482ac9d197e7</td>\n      <td>9002Rat</td>\n      <td>07da10375b0862760f3cb84e563f74ff4fc53864e34836...</td>\n      <td>21415252</td>\n      <td>{'ssdeep': '393216:c5gt4ljF2jF0C0eUkGz2Wqha9zO...</td>\n      <td>sdhash hash</td>\n      <td>{'tlsh': 'T16827339FB8735437E78CE4F089FA77F202...</td>\n      <td>Machoc hash</td>\n    </tr>\n    <tr>\n      <th>...</th>\n      <td>...</td>\n      <td>...</td>\n      <td>...</td>\n      <td>...</td>\n      <td>...</td>\n      <td>...</td>\n      <td>...</td>\n      <td>...</td>\n    </tr>\n    <tr>\n      <th>104365</th>\n      <td>6563a2f13624482ac9d32f90</td>\n      <td>zxShell</td>\n      <td>e2d2761fc2535d99527df2f7cffd8dddccd504dc0096f6...</td>\n      <td>1181088</td>\n      <td>{'ssdeep': '24576:OD46fWg3rOqkdvJ7jXLq7+aywR+r...</td>\n      <td>sdhash hash</td>\n      <td>{'tlsh': 'T1C64523683D62D4F0C4EF523C29FA7B2C76...</td>\n      <td>Machoc hash</td>\n    </tr>\n    <tr>\n      <th>104366</th>\n      <td>6563a2f13624482ac9d32f91</td>\n      <td>zxShell</td>\n      <td>e416ad91acbc386bf67dc551fb36b9d95a195d8b656cfe...</td>\n      <td>581536</td>\n      <td>{'ssdeep': '12288:1wHoMbN76R+m/ZZsJsjLa7pxIkmV...</td>\n      <td>sdhash hash</td>\n      <td>{'tlsh': 'T178C423AB070915FBE54ADC3C005752E41C...</td>\n      <td>Machoc hash</td>\n    </tr>\n    <tr>\n      <th>104367</th>\n      <td>6563a2f13624482ac9d32f92</td>\n      <td>zxShell</td>\n      <td>ef049339f1eb091cda335b51939f91e784e1ab1e006056...</td>\n      <td>1678576</td>\n      <td>{'ssdeep': '24576:nUtLEVCXBJFlUXYuJmQsYsECO0Gw...</td>\n      <td>sdhash hash</td>\n      <td>{'tlsh': 'T1807533E66396CC60DFAAC4B2AF8F4266DB...</td>\n      <td>Machoc hash</td>\n    </tr>\n    <tr>\n      <th>104368</th>\n      <td>6563a2f13624482ac9d32f93</td>\n      <td>zxShell</td>\n      <td>fbe294910ef833e1c9b2c8663c06b6ef99c13b2bc5eb01...</td>\n      <td>1698208</td>\n      <td>{'ssdeep': '24576:hlIE5fsyVqdxskKfia9TQyaM9rrI...</td>\n      <td>sdhash hash</td>\n      <td>{'tlsh': 'T1067533C5AA1F6183EFCB443A57759E3AF7...</td>\n      <td>Machoc hash</td>\n    </tr>\n    <tr>\n      <th>104369</th>\n      <td>6563a2f13624482ac9d32f94</td>\n      <td>zxShell</td>\n      <td>fc3cacb2103adedc11720c34a243de58085c1a7283ba35...</td>\n      <td>204240</td>\n      <td>{'ssdeep': '3072:MRXYhKlbnA9cmZi3Ks30JkGq2uPB+...</td>\n      <td>sdhash hash</td>\n      <td>{'tlsh': 'T178141247D9953AE0DCB11B74ED83692FF2...</td>\n      <td>Machoc hash</td>\n    </tr>\n  </tbody>\n</table>\n<p>104260 rows × 8 columns</p>\n</div>"
     },
     "execution_count": 149,
     "metadata": {},
     "output_type": "execute_result"
    }
   ],
   "source": [
    "malware_filtered"
   ],
   "metadata": {
    "collapsed": false,
    "ExecuteTime": {
     "end_time": "2023-12-11T11:32:35.461154Z",
     "start_time": "2023-12-11T11:32:35.458154Z"
    }
   },
   "id": "82e74953313c069c"
  },
  {
   "cell_type": "code",
   "execution_count": 150,
   "outputs": [
    {
     "name": "stdout",
     "output_type": "stream",
     "text": [
      "Original DataFrame had 104370 rows.\n",
      "Filtered DataFrame has 104260 rows.\n",
      "Families removed (only had 1 entry): ['Cryxos', 'CABless-40444', 'Amadey', 'Gopuram', 'GoSearch', 'WhiteBlackCrypt', 'OriginLogger', 'Android.Sharkbot', 'CaddyWiper', 'Coper', 'WagnerWiper', 'GwisinLocker', 'GoodwillRansomware', 'DeadBoltRansomware', 'CuratorRansomware', 'HaronRansomware', 'VMProtect', 'Cova', 'ViperSoftX', 'AzovRansomware', 'RhadamanthysLoader', 'Hydra', 'DarkWatchmanRAT', 'VBCrypt', 'NvRendererMiner', 'CerberRansomware', 'GodFather', 'Nukesped', 'RedCap', 'DTrack', 'Pymafka', 'EchelonStealer', 'DiscordRAT', 'Enigma', 'Escobar', 'AcidRain', 'EvilQuest', 'Zanubis', 'PoweRAT', 'Exmatter', 'ClipBanker', 'PlatinumGroup', 'FastViewer', 'Conficker', 'FBIOperationDuckHunt', 'Ousaban', 'AppleSeed', 'Flashback', 'Oski', 'XFilesStealer', 'Oscorp', 'CertiShell', 'Gh0stRAT', 'GigabudRAT', 'Industroyer', 'IssacWiper', 'IRATA', 'MeowRansomware', 'Babadeda', 'NeutrinoEK', 'Strab', 'MacOS.Coldroot', 'Stealc', 'MacOS.Dok', 'MacOS.Dummy', 'Networm', 'Babuk', 'CyclopsBlink', 'MagicRAT', 'Android.Greywolf', 'Neshta', 'MinodoLoader', 'Mmon', 'MoishaRansomware', 'MoneyRansomware', 'Siloscape', 'SiestaGraph', 'Netwalker', 'Shlayer', 'ShinyMW2Exploit', 'ShinoLocker', 'MyDoom', 'MacOS.AppleJeus', 'ABCBot', 'SunnyDayRansomware', 'Darkbit', 'JaffRansomware', 'RookRansomware', 'Joker', 'BlackTech', 'KMSPico', 'NuclearEK', 'BlackSnakeRansomware', 'Kovter', 'KoxicRansomware', 'Truebot', 'CrimsonRAT', 'Nosu', 'Kronos', 'TriangleDB', 'Asbit', 'KurayStealer', 'Tofsee', 'TitanStealer', 'LazyScripter', 'Cronrat', 'LgoogLoader', 'DarkBitRansomware', 'BlackCatRansomware', 'KrusRansomware']\n"
     ]
    }
   ],
   "source": [
    "original_count = df.shape[0]\n",
    "\n",
    "# Count the occurrences of each family\n",
    "family_counts = df['family'].value_counts()\n",
    "\n",
    "# Filter the DataFrame to keep families with more than one entry\n",
    "malware_filtered = df[df['family'].map(family_counts) > 1]\n",
    "\n",
    "# Get the new number of rows after filtering\n",
    "filtered_count = malware_filtered.shape[0]\n",
    "\n",
    "# Identify the families that were removed\n",
    "removed_families = family_counts[family_counts == 1].index.tolist()\n",
    "\n",
    "# Print the results\n",
    "print(f\"Original DataFrame had {original_count} rows.\")\n",
    "print(f\"Filtered DataFrame has {filtered_count} rows.\")\n",
    "print(f\"Families removed (only had 1 entry): {removed_families}\")"
   ],
   "metadata": {
    "collapsed": false,
    "ExecuteTime": {
     "end_time": "2023-12-11T11:32:38.975403Z",
     "start_time": "2023-12-11T11:32:38.949305Z"
    }
   },
   "id": "f729907f8678da8"
  },
  {
   "cell_type": "code",
   "execution_count": 151,
   "outputs": [
    {
     "data": {
      "text/plain": "                           _id       family  \\\n0     6563776f3624482ac9d197e3      9002Rat   \n1     6563776f3624482ac9d197e4      9002Rat   \n2     6563776f3624482ac9d197e5      9002Rat   \n3     6563776f3624482ac9d197e6      9002Rat   \n4     6563776f3624482ac9d197e7      9002Rat   \n...                        ...          ...   \n1985                      1629         ELPH   \n1986                       546      numactl   \n1987                      1100        Ninja   \n1988                       485       Python   \n1989                       970  OpenMalaria   \n\n                                                 SHA256  file_size  \\\n0     006c74c6813a6efeabea860b2718ed548eed216a319d76...      66888   \n1     0414ffdf9dcf32061cc57d0b54bf4410c1c588258c1261...      91136   \n2     054ac444bb2e4fa836ecb6ecdbb9381001ab26cf109451...   20008392   \n3     06fb64ebe50ee96901a339a7c5f686ead86e2ed6b26a73...   13189815   \n4     07da10375b0862760f3cb84e563f74ff4fc53864e34836...   21415252   \n...                                                 ...        ...   \n1985  4ebc5f4545816687b2c14b6892c89b2b47b6a8d66f7c0b...     230560   \n1986  b00c5c085141adbee90f4ef3e636e3be63c720f19dbf70...      39392   \n1987  ac299c6c89aba915115d11d4ef63b00b699cba77926c5a...    7688744   \n1988  2f2494ae2ba446d3b54480e860d3c70364f9790666bf76...      28712   \n1989  7d5c703d56def08cf06941969d7ea5d5b8b95a04aece82...    7910104   \n\n                                                 ssdeep       sdhash  \\\n0     {'ssdeep': '1536:fyOinfXrmThthYvYh+8+IXbTyllRb...  sdhash hash   \n1     {'ssdeep': '1536:isQQjCC6ZRC5EPviVkdsayrPJe7P6...  sdhash hash   \n2     {'ssdeep': '393216:1ZZNprQxrpbXZRCb0g/6cGx3PjW...  sdhash hash   \n3     {'ssdeep': '393216:z0ZCif89tnKfsp09SskycXZBBLW...  sdhash hash   \n4     {'ssdeep': '393216:c5gt4ljF2jF0C0eUkGz2Wqha9zO...  sdhash hash   \n...                                                 ...          ...   \n1985  {'ssdeep': '6144:RHeKkrczaeAHFYmXkDgN63ZbStG8s...  sdhash hash   \n1986  {'ssdeep': '384:1tEQq2CzR105nNOuCAHbUpkjzn3srC...  sdhash hash   \n1987  {'ssdeep': '49152:/wV9BJMsM2B+e8wdD82Nm1AwDbdF...  sdhash hash   \n1988  {'ssdeep': '384:xJV12Ao/YK3kcpnUtSRUpqxYKMGNtI...  sdhash hash   \n1989  {'ssdeep': '49152:zjcR0cAiHC9Hgh0pTDvaQ0kf66zM...  sdhash hash   \n\n                                                   tlsh       machoc  scicore  \n0     {'tlsh': 'T18A635B27E9548473CDC24DB044E80B7B8A...  Machoc hash    False  \n1     {'tlsh': 'T1D9937B107682C275D47A29344C69CB731B...  Machoc hash    False  \n2     {'tlsh': 'T14217331276D2C037C1A711719A37EB29AA...  Machoc hash    False  \n3     {'tlsh': 'T192D6336519E01E8CF2D177765AB1A2D44F...  Machoc hash    False  \n4     {'tlsh': 'T16827339FB8735437E78CE4F089FA77F202...  Machoc hash    False  \n...                                                 ...          ...      ...  \n1985  {'tlsh': 'T13B344D33F7728D9EC307BA786EDB86D2A1...  Machoc hash     True  \n1986  {'tlsh': 'T11A03C537F39189F6C590827A25530769B9...  Machoc hash     True  \n1987  {'tlsh': 'T1AE768D63F7DA5DD7C892AE3669EF033987...  Machoc hash     True  \n1988  {'tlsh': 'T1CFD2E757EED8D8ABD7CD13BB9D43073C13...  Machoc hash     True  \n1989  {'tlsh': 'T1D3867D27F587A97DCCCCB3B51A1F3122A6...  Machoc hash     True  \n\n[106250 rows x 9 columns]",
      "text/html": "<div>\n<style scoped>\n    .dataframe tbody tr th:only-of-type {\n        vertical-align: middle;\n    }\n\n    .dataframe tbody tr th {\n        vertical-align: top;\n    }\n\n    .dataframe thead th {\n        text-align: right;\n    }\n</style>\n<table border=\"1\" class=\"dataframe\">\n  <thead>\n    <tr style=\"text-align: right;\">\n      <th></th>\n      <th>_id</th>\n      <th>family</th>\n      <th>SHA256</th>\n      <th>file_size</th>\n      <th>ssdeep</th>\n      <th>sdhash</th>\n      <th>tlsh</th>\n      <th>machoc</th>\n      <th>scicore</th>\n    </tr>\n  </thead>\n  <tbody>\n    <tr>\n      <th>0</th>\n      <td>6563776f3624482ac9d197e3</td>\n      <td>9002Rat</td>\n      <td>006c74c6813a6efeabea860b2718ed548eed216a319d76...</td>\n      <td>66888</td>\n      <td>{'ssdeep': '1536:fyOinfXrmThthYvYh+8+IXbTyllRb...</td>\n      <td>sdhash hash</td>\n      <td>{'tlsh': 'T18A635B27E9548473CDC24DB044E80B7B8A...</td>\n      <td>Machoc hash</td>\n      <td>False</td>\n    </tr>\n    <tr>\n      <th>1</th>\n      <td>6563776f3624482ac9d197e4</td>\n      <td>9002Rat</td>\n      <td>0414ffdf9dcf32061cc57d0b54bf4410c1c588258c1261...</td>\n      <td>91136</td>\n      <td>{'ssdeep': '1536:isQQjCC6ZRC5EPviVkdsayrPJe7P6...</td>\n      <td>sdhash hash</td>\n      <td>{'tlsh': 'T1D9937B107682C275D47A29344C69CB731B...</td>\n      <td>Machoc hash</td>\n      <td>False</td>\n    </tr>\n    <tr>\n      <th>2</th>\n      <td>6563776f3624482ac9d197e5</td>\n      <td>9002Rat</td>\n      <td>054ac444bb2e4fa836ecb6ecdbb9381001ab26cf109451...</td>\n      <td>20008392</td>\n      <td>{'ssdeep': '393216:1ZZNprQxrpbXZRCb0g/6cGx3PjW...</td>\n      <td>sdhash hash</td>\n      <td>{'tlsh': 'T14217331276D2C037C1A711719A37EB29AA...</td>\n      <td>Machoc hash</td>\n      <td>False</td>\n    </tr>\n    <tr>\n      <th>3</th>\n      <td>6563776f3624482ac9d197e6</td>\n      <td>9002Rat</td>\n      <td>06fb64ebe50ee96901a339a7c5f686ead86e2ed6b26a73...</td>\n      <td>13189815</td>\n      <td>{'ssdeep': '393216:z0ZCif89tnKfsp09SskycXZBBLW...</td>\n      <td>sdhash hash</td>\n      <td>{'tlsh': 'T192D6336519E01E8CF2D177765AB1A2D44F...</td>\n      <td>Machoc hash</td>\n      <td>False</td>\n    </tr>\n    <tr>\n      <th>4</th>\n      <td>6563776f3624482ac9d197e7</td>\n      <td>9002Rat</td>\n      <td>07da10375b0862760f3cb84e563f74ff4fc53864e34836...</td>\n      <td>21415252</td>\n      <td>{'ssdeep': '393216:c5gt4ljF2jF0C0eUkGz2Wqha9zO...</td>\n      <td>sdhash hash</td>\n      <td>{'tlsh': 'T16827339FB8735437E78CE4F089FA77F202...</td>\n      <td>Machoc hash</td>\n      <td>False</td>\n    </tr>\n    <tr>\n      <th>...</th>\n      <td>...</td>\n      <td>...</td>\n      <td>...</td>\n      <td>...</td>\n      <td>...</td>\n      <td>...</td>\n      <td>...</td>\n      <td>...</td>\n      <td>...</td>\n    </tr>\n    <tr>\n      <th>1985</th>\n      <td>1629</td>\n      <td>ELPH</td>\n      <td>4ebc5f4545816687b2c14b6892c89b2b47b6a8d66f7c0b...</td>\n      <td>230560</td>\n      <td>{'ssdeep': '6144:RHeKkrczaeAHFYmXkDgN63ZbStG8s...</td>\n      <td>sdhash hash</td>\n      <td>{'tlsh': 'T13B344D33F7728D9EC307BA786EDB86D2A1...</td>\n      <td>Machoc hash</td>\n      <td>True</td>\n    </tr>\n    <tr>\n      <th>1986</th>\n      <td>546</td>\n      <td>numactl</td>\n      <td>b00c5c085141adbee90f4ef3e636e3be63c720f19dbf70...</td>\n      <td>39392</td>\n      <td>{'ssdeep': '384:1tEQq2CzR105nNOuCAHbUpkjzn3srC...</td>\n      <td>sdhash hash</td>\n      <td>{'tlsh': 'T11A03C537F39189F6C590827A25530769B9...</td>\n      <td>Machoc hash</td>\n      <td>True</td>\n    </tr>\n    <tr>\n      <th>1987</th>\n      <td>1100</td>\n      <td>Ninja</td>\n      <td>ac299c6c89aba915115d11d4ef63b00b699cba77926c5a...</td>\n      <td>7688744</td>\n      <td>{'ssdeep': '49152:/wV9BJMsM2B+e8wdD82Nm1AwDbdF...</td>\n      <td>sdhash hash</td>\n      <td>{'tlsh': 'T1AE768D63F7DA5DD7C892AE3669EF033987...</td>\n      <td>Machoc hash</td>\n      <td>True</td>\n    </tr>\n    <tr>\n      <th>1988</th>\n      <td>485</td>\n      <td>Python</td>\n      <td>2f2494ae2ba446d3b54480e860d3c70364f9790666bf76...</td>\n      <td>28712</td>\n      <td>{'ssdeep': '384:xJV12Ao/YK3kcpnUtSRUpqxYKMGNtI...</td>\n      <td>sdhash hash</td>\n      <td>{'tlsh': 'T1CFD2E757EED8D8ABD7CD13BB9D43073C13...</td>\n      <td>Machoc hash</td>\n      <td>True</td>\n    </tr>\n    <tr>\n      <th>1989</th>\n      <td>970</td>\n      <td>OpenMalaria</td>\n      <td>7d5c703d56def08cf06941969d7ea5d5b8b95a04aece82...</td>\n      <td>7910104</td>\n      <td>{'ssdeep': '49152:zjcR0cAiHC9Hgh0pTDvaQ0kf66zM...</td>\n      <td>sdhash hash</td>\n      <td>{'tlsh': 'T1D3867D27F587A97DCCCCB3B51A1F3122A6...</td>\n      <td>Machoc hash</td>\n      <td>True</td>\n    </tr>\n  </tbody>\n</table>\n<p>106250 rows × 9 columns</p>\n</div>"
     },
     "execution_count": 151,
     "metadata": {},
     "output_type": "execute_result"
    }
   ],
   "source": [
    "malware_filtered[\"scicore\"] = False\n",
    "size = malware_filtered.shape[0] / 10\n",
    "scicore = pd.DataFrame(list(db[\"scicore\"].aggregate([{\"$sample\": {\"size\": size}}])))\n",
    "scicore[\"scicore\"] = True\n",
    "\n",
    "malware_concat = pd.concat([malware_filtered, scicore])\n",
    "\n",
    "malware_concat"
   ],
   "metadata": {
    "collapsed": false,
    "ExecuteTime": {
     "end_time": "2023-12-11T11:32:40.383721Z",
     "start_time": "2023-12-11T11:32:40.260736Z"
    }
   },
   "id": "5f1b0310db0eeeb6"
  },
  {
   "cell_type": "code",
   "execution_count": 152,
   "outputs": [
    {
     "data": {
      "text/plain": "                           _id       family  \\\n0     6563776f3624482ac9d197e3      9002Rat   \n1     6563776f3624482ac9d197e4      9002Rat   \n2     6563776f3624482ac9d197e5      9002Rat   \n3     6563776f3624482ac9d197e6      9002Rat   \n4     6563776f3624482ac9d197e7      9002Rat   \n...                        ...          ...   \n1985                      1629         ELPH   \n1986                       546      numactl   \n1987                      1100        Ninja   \n1988                       485       Python   \n1989                       970  OpenMalaria   \n\n                                                 SHA256  file_size  \\\n0     006c74c6813a6efeabea860b2718ed548eed216a319d76...      66888   \n1     0414ffdf9dcf32061cc57d0b54bf4410c1c588258c1261...      91136   \n2     054ac444bb2e4fa836ecb6ecdbb9381001ab26cf109451...   20008392   \n3     06fb64ebe50ee96901a339a7c5f686ead86e2ed6b26a73...   13189815   \n4     07da10375b0862760f3cb84e563f74ff4fc53864e34836...   21415252   \n...                                                 ...        ...   \n1985  4ebc5f4545816687b2c14b6892c89b2b47b6a8d66f7c0b...     230560   \n1986  b00c5c085141adbee90f4ef3e636e3be63c720f19dbf70...      39392   \n1987  ac299c6c89aba915115d11d4ef63b00b699cba77926c5a...    7688744   \n1988  2f2494ae2ba446d3b54480e860d3c70364f9790666bf76...      28712   \n1989  7d5c703d56def08cf06941969d7ea5d5b8b95a04aece82...    7910104   \n\n                                                 ssdeep       sdhash  \\\n0     {'ssdeep': '1536:fyOinfXrmThthYvYh+8+IXbTyllRb...  sdhash hash   \n1     {'ssdeep': '1536:isQQjCC6ZRC5EPviVkdsayrPJe7P6...  sdhash hash   \n2     {'ssdeep': '393216:1ZZNprQxrpbXZRCb0g/6cGx3PjW...  sdhash hash   \n3     {'ssdeep': '393216:z0ZCif89tnKfsp09SskycXZBBLW...  sdhash hash   \n4     {'ssdeep': '393216:c5gt4ljF2jF0C0eUkGz2Wqha9zO...  sdhash hash   \n...                                                 ...          ...   \n1985  {'ssdeep': '6144:RHeKkrczaeAHFYmXkDgN63ZbStG8s...  sdhash hash   \n1986  {'ssdeep': '384:1tEQq2CzR105nNOuCAHbUpkjzn3srC...  sdhash hash   \n1987  {'ssdeep': '49152:/wV9BJMsM2B+e8wdD82Nm1AwDbdF...  sdhash hash   \n1988  {'ssdeep': '384:xJV12Ao/YK3kcpnUtSRUpqxYKMGNtI...  sdhash hash   \n1989  {'ssdeep': '49152:zjcR0cAiHC9Hgh0pTDvaQ0kf66zM...  sdhash hash   \n\n                                                   tlsh       machoc  scicore  \n0     T18A635B27E9548473CDC24DB044E80B7B8A77B6B00765...  Machoc hash    False  \n1     T1D9937B107682C275D47A29344C69CB731BBE7E529AF4...  Machoc hash    False  \n2     T14217331276D2C037C1A711719A37EB29AAF2B0305734...  Machoc hash    False  \n3     T192D6336519E01E8CF2D177765AB1A2D44F79FF168B43...  Machoc hash    False  \n4     T16827339FB8735437E78CE4F089FA77F202ED9DB5B854...  Machoc hash    False  \n...                                                 ...          ...      ...  \n1985  T13B344D33F7728D9EC307BA786EDB86D2A1607CF03721...  Machoc hash     True  \n1986  T11A03C537F39189F6C590827A25530769B9A33C32F731...  Machoc hash     True  \n1987  T1AE768D63F7DA5DD7C892AE3669EF03398723E830EB1A...  Machoc hash     True  \n1988  T1CFD2E757EED8D8ABD7CD13BB9D43073C1333921D8602...  Machoc hash     True  \n1989  T1D3867D27F587A97DCCCCB3B51A1F3122A6B47E3A0DB0...  Machoc hash     True  \n\n[106250 rows x 9 columns]",
      "text/html": "<div>\n<style scoped>\n    .dataframe tbody tr th:only-of-type {\n        vertical-align: middle;\n    }\n\n    .dataframe tbody tr th {\n        vertical-align: top;\n    }\n\n    .dataframe thead th {\n        text-align: right;\n    }\n</style>\n<table border=\"1\" class=\"dataframe\">\n  <thead>\n    <tr style=\"text-align: right;\">\n      <th></th>\n      <th>_id</th>\n      <th>family</th>\n      <th>SHA256</th>\n      <th>file_size</th>\n      <th>ssdeep</th>\n      <th>sdhash</th>\n      <th>tlsh</th>\n      <th>machoc</th>\n      <th>scicore</th>\n    </tr>\n  </thead>\n  <tbody>\n    <tr>\n      <th>0</th>\n      <td>6563776f3624482ac9d197e3</td>\n      <td>9002Rat</td>\n      <td>006c74c6813a6efeabea860b2718ed548eed216a319d76...</td>\n      <td>66888</td>\n      <td>{'ssdeep': '1536:fyOinfXrmThthYvYh+8+IXbTyllRb...</td>\n      <td>sdhash hash</td>\n      <td>T18A635B27E9548473CDC24DB044E80B7B8A77B6B00765...</td>\n      <td>Machoc hash</td>\n      <td>False</td>\n    </tr>\n    <tr>\n      <th>1</th>\n      <td>6563776f3624482ac9d197e4</td>\n      <td>9002Rat</td>\n      <td>0414ffdf9dcf32061cc57d0b54bf4410c1c588258c1261...</td>\n      <td>91136</td>\n      <td>{'ssdeep': '1536:isQQjCC6ZRC5EPviVkdsayrPJe7P6...</td>\n      <td>sdhash hash</td>\n      <td>T1D9937B107682C275D47A29344C69CB731BBE7E529AF4...</td>\n      <td>Machoc hash</td>\n      <td>False</td>\n    </tr>\n    <tr>\n      <th>2</th>\n      <td>6563776f3624482ac9d197e5</td>\n      <td>9002Rat</td>\n      <td>054ac444bb2e4fa836ecb6ecdbb9381001ab26cf109451...</td>\n      <td>20008392</td>\n      <td>{'ssdeep': '393216:1ZZNprQxrpbXZRCb0g/6cGx3PjW...</td>\n      <td>sdhash hash</td>\n      <td>T14217331276D2C037C1A711719A37EB29AAF2B0305734...</td>\n      <td>Machoc hash</td>\n      <td>False</td>\n    </tr>\n    <tr>\n      <th>3</th>\n      <td>6563776f3624482ac9d197e6</td>\n      <td>9002Rat</td>\n      <td>06fb64ebe50ee96901a339a7c5f686ead86e2ed6b26a73...</td>\n      <td>13189815</td>\n      <td>{'ssdeep': '393216:z0ZCif89tnKfsp09SskycXZBBLW...</td>\n      <td>sdhash hash</td>\n      <td>T192D6336519E01E8CF2D177765AB1A2D44F79FF168B43...</td>\n      <td>Machoc hash</td>\n      <td>False</td>\n    </tr>\n    <tr>\n      <th>4</th>\n      <td>6563776f3624482ac9d197e7</td>\n      <td>9002Rat</td>\n      <td>07da10375b0862760f3cb84e563f74ff4fc53864e34836...</td>\n      <td>21415252</td>\n      <td>{'ssdeep': '393216:c5gt4ljF2jF0C0eUkGz2Wqha9zO...</td>\n      <td>sdhash hash</td>\n      <td>T16827339FB8735437E78CE4F089FA77F202ED9DB5B854...</td>\n      <td>Machoc hash</td>\n      <td>False</td>\n    </tr>\n    <tr>\n      <th>...</th>\n      <td>...</td>\n      <td>...</td>\n      <td>...</td>\n      <td>...</td>\n      <td>...</td>\n      <td>...</td>\n      <td>...</td>\n      <td>...</td>\n      <td>...</td>\n    </tr>\n    <tr>\n      <th>1985</th>\n      <td>1629</td>\n      <td>ELPH</td>\n      <td>4ebc5f4545816687b2c14b6892c89b2b47b6a8d66f7c0b...</td>\n      <td>230560</td>\n      <td>{'ssdeep': '6144:RHeKkrczaeAHFYmXkDgN63ZbStG8s...</td>\n      <td>sdhash hash</td>\n      <td>T13B344D33F7728D9EC307BA786EDB86D2A1607CF03721...</td>\n      <td>Machoc hash</td>\n      <td>True</td>\n    </tr>\n    <tr>\n      <th>1986</th>\n      <td>546</td>\n      <td>numactl</td>\n      <td>b00c5c085141adbee90f4ef3e636e3be63c720f19dbf70...</td>\n      <td>39392</td>\n      <td>{'ssdeep': '384:1tEQq2CzR105nNOuCAHbUpkjzn3srC...</td>\n      <td>sdhash hash</td>\n      <td>T11A03C537F39189F6C590827A25530769B9A33C32F731...</td>\n      <td>Machoc hash</td>\n      <td>True</td>\n    </tr>\n    <tr>\n      <th>1987</th>\n      <td>1100</td>\n      <td>Ninja</td>\n      <td>ac299c6c89aba915115d11d4ef63b00b699cba77926c5a...</td>\n      <td>7688744</td>\n      <td>{'ssdeep': '49152:/wV9BJMsM2B+e8wdD82Nm1AwDbdF...</td>\n      <td>sdhash hash</td>\n      <td>T1AE768D63F7DA5DD7C892AE3669EF03398723E830EB1A...</td>\n      <td>Machoc hash</td>\n      <td>True</td>\n    </tr>\n    <tr>\n      <th>1988</th>\n      <td>485</td>\n      <td>Python</td>\n      <td>2f2494ae2ba446d3b54480e860d3c70364f9790666bf76...</td>\n      <td>28712</td>\n      <td>{'ssdeep': '384:xJV12Ao/YK3kcpnUtSRUpqxYKMGNtI...</td>\n      <td>sdhash hash</td>\n      <td>T1CFD2E757EED8D8ABD7CD13BB9D43073C1333921D8602...</td>\n      <td>Machoc hash</td>\n      <td>True</td>\n    </tr>\n    <tr>\n      <th>1989</th>\n      <td>970</td>\n      <td>OpenMalaria</td>\n      <td>7d5c703d56def08cf06941969d7ea5d5b8b95a04aece82...</td>\n      <td>7910104</td>\n      <td>{'ssdeep': '49152:zjcR0cAiHC9Hgh0pTDvaQ0kf66zM...</td>\n      <td>sdhash hash</td>\n      <td>T1D3867D27F587A97DCCCCB3B51A1F3122A6B47E3A0DB0...</td>\n      <td>Machoc hash</td>\n      <td>True</td>\n    </tr>\n  </tbody>\n</table>\n<p>106250 rows × 9 columns</p>\n</div>"
     },
     "execution_count": 152,
     "metadata": {},
     "output_type": "execute_result"
    }
   ],
   "source": [
    "a = malware_concat\n",
    "a['tlsh'] = a['tlsh'].apply(lambda x: x['tlsh'] if 'tlsh' in x and isinstance(x, dict) else x)\n",
    "a"
   ],
   "metadata": {
    "collapsed": false,
    "ExecuteTime": {
     "end_time": "2023-12-11T11:32:48.073874Z",
     "start_time": "2023-12-11T11:32:48.035820Z"
    }
   },
   "id": "e2d796dbf23f8f04"
  },
  {
   "cell_type": "code",
   "execution_count": 154,
   "outputs": [
    {
     "ename": "ValueError",
     "evalue": "too many values to unpack (expected 2)",
     "output_type": "error",
     "traceback": [
      "\u001B[0;31m---------------------------------------------------------------------------\u001B[0m",
      "\u001B[0;31mValueError\u001B[0m                                Traceback (most recent call last)",
      "Cell \u001B[0;32mIn[154], line 4\u001B[0m\n\u001B[1;32m      1\u001B[0m filtered_df \u001B[38;5;241m=\u001B[39m a[a[\u001B[38;5;124m'\u001B[39m\u001B[38;5;124mtlsh\u001B[39m\u001B[38;5;124m'\u001B[39m] \u001B[38;5;241m!=\u001B[39m \u001B[38;5;124m'\u001B[39m\u001B[38;5;124mTNULL\u001B[39m\u001B[38;5;124m'\u001B[39m]\n\u001B[1;32m      2\u001B[0m string_combinations \u001B[38;5;241m=\u001B[39m combinations(malware_concat[[\u001B[38;5;124m'\u001B[39m\u001B[38;5;124mfamily\u001B[39m\u001B[38;5;124m'\u001B[39m, \u001B[38;5;124m'\u001B[39m\u001B[38;5;124mscicore\u001B[39m\u001B[38;5;124m'\u001B[39m, \u001B[38;5;124m'\u001B[39m\u001B[38;5;124mtlsh\u001B[39m\u001B[38;5;124m'\u001B[39m]], \u001B[38;5;241m2\u001B[39m)\n\u001B[0;32m----> 4\u001B[0m \u001B[38;5;28;01mfor\u001B[39;00m (idx1, row1), (idx2, row2) \u001B[38;5;129;01min\u001B[39;00m string_combinations:\n\u001B[1;32m      5\u001B[0m     \u001B[38;5;28mprint\u001B[39m(row1, row2)\n",
      "\u001B[0;31mValueError\u001B[0m: too many values to unpack (expected 2)"
     ]
    }
   ],
   "source": [
    "\n",
    "\n",
    "filtered_df = a[a['tlsh'] != 'TNULL']\n",
    "string_combinations = combinations(malware_concat[['family', 'scicore', 'tlsh']], 2)\n",
    "\n",
    "for (idx1, row1), (idx2, row2) in string_combinations:\n",
    "    print(row1, row2)\n"
   ],
   "metadata": {
    "collapsed": false,
    "ExecuteTime": {
     "end_time": "2023-12-11T11:33:27.486242Z",
     "start_time": "2023-12-11T11:33:27.450529Z"
    }
   },
   "id": "28ac770bc6b65c54"
  },
  {
   "cell_type": "code",
   "execution_count": 138,
   "outputs": [
    {
     "name": "stdout",
     "output_type": "stream",
     "text": [
      "String combinations generated\n"
     ]
    },
    {
     "ename": "KeyboardInterrupt",
     "evalue": "",
     "output_type": "error",
     "traceback": [
      "\u001B[0;31m---------------------------------------------------------------------------\u001B[0m",
      "\u001B[0;31mKeyboardInterrupt\u001B[0m                         Traceback (most recent call last)",
      "Cell \u001B[0;32mIn[138], line 18\u001B[0m\n\u001B[1;32m     15\u001B[0m     results_df \u001B[38;5;241m=\u001B[39m pd\u001B[38;5;241m.\u001B[39mDataFrame(results, columns\u001B[38;5;241m=\u001B[39m[\u001B[38;5;124m'\u001B[39m\u001B[38;5;124mFamily 1\u001B[39m\u001B[38;5;124m'\u001B[39m, \u001B[38;5;124m'\u001B[39m\u001B[38;5;124mFamily 2\u001B[39m\u001B[38;5;124m'\u001B[39m, \u001B[38;5;124m'\u001B[39m\u001B[38;5;124mScicore 1\u001B[39m\u001B[38;5;124m'\u001B[39m, \u001B[38;5;124m\"\u001B[39m\u001B[38;5;124mScicore 2\u001B[39m\u001B[38;5;124m\"\u001B[39m, \u001B[38;5;124m'\u001B[39m\u001B[38;5;124mTLSH 1\u001B[39m\u001B[38;5;124m'\u001B[39m, \u001B[38;5;124m'\u001B[39m\u001B[38;5;124mTLSH 2\u001B[39m\u001B[38;5;124m'\u001B[39m, \u001B[38;5;124m'\u001B[39m\u001B[38;5;124mDiff Score\u001B[39m\u001B[38;5;124m'\u001B[39m])\n\u001B[1;32m     17\u001B[0m     \u001B[38;5;28;01mreturn\u001B[39;00m results_df\n\u001B[0;32m---> 18\u001B[0m results_df \u001B[38;5;241m=\u001B[39m \u001B[43mtlsh_comb\u001B[49m\u001B[43m(\u001B[49m\u001B[43m)\u001B[49m\n",
      "Cell \u001B[0;32mIn[138], line 10\u001B[0m, in \u001B[0;36mtlsh_comb\u001B[0;34m(df)\u001B[0m\n\u001B[1;32m      8\u001B[0m results \u001B[38;5;241m=\u001B[39m []\n\u001B[1;32m      9\u001B[0m \u001B[38;5;28;01mfor\u001B[39;00m (idx1, row1), (idx2, row2) \u001B[38;5;129;01min\u001B[39;00m string_combinations:\n\u001B[0;32m---> 10\u001B[0m     \u001B[38;5;28;01mif\u001B[39;00m \u001B[43mrow1\u001B[49m\u001B[43m[\u001B[49m\u001B[38;5;124;43m'\u001B[39;49m\u001B[38;5;124;43mtlsh\u001B[39;49m\u001B[38;5;124;43m'\u001B[39;49m\u001B[43m]\u001B[49m[\u001B[38;5;124m\"\u001B[39m\u001B[38;5;124mtlsh\u001B[39m\u001B[38;5;124m\"\u001B[39m] \u001B[38;5;241m!=\u001B[39m \u001B[38;5;124m\"\u001B[39m\u001B[38;5;124mTNULL\u001B[39m\u001B[38;5;124m\"\u001B[39m \u001B[38;5;129;01mand\u001B[39;00m row2[\u001B[38;5;124m'\u001B[39m\u001B[38;5;124mtlsh\u001B[39m\u001B[38;5;124m'\u001B[39m][\u001B[38;5;124m\"\u001B[39m\u001B[38;5;124mtlsh\u001B[39m\u001B[38;5;124m\"\u001B[39m] \u001B[38;5;241m!=\u001B[39m \u001B[38;5;124m\"\u001B[39m\u001B[38;5;124mTNULL\u001B[39m\u001B[38;5;124m\"\u001B[39m:\n\u001B[1;32m     11\u001B[0m         diff_score \u001B[38;5;241m=\u001B[39m tlsh\u001B[38;5;241m.\u001B[39mdiff(row1[\u001B[38;5;124m'\u001B[39m\u001B[38;5;124mtlsh\u001B[39m\u001B[38;5;124m'\u001B[39m][\u001B[38;5;124m\"\u001B[39m\u001B[38;5;124mtlsh\u001B[39m\u001B[38;5;124m\"\u001B[39m], row2[\u001B[38;5;124m'\u001B[39m\u001B[38;5;124mtlsh\u001B[39m\u001B[38;5;124m'\u001B[39m][\u001B[38;5;124m\"\u001B[39m\u001B[38;5;124mtlsh\u001B[39m\u001B[38;5;124m\"\u001B[39m])\n\u001B[1;32m     12\u001B[0m         results\u001B[38;5;241m.\u001B[39mappend((row1[\u001B[38;5;124m'\u001B[39m\u001B[38;5;124mfamily\u001B[39m\u001B[38;5;124m'\u001B[39m], row2[\u001B[38;5;124m'\u001B[39m\u001B[38;5;124mfamily\u001B[39m\u001B[38;5;124m'\u001B[39m], row1[\u001B[38;5;124m'\u001B[39m\u001B[38;5;124mscicore\u001B[39m\u001B[38;5;124m'\u001B[39m], row2[\u001B[38;5;124m'\u001B[39m\u001B[38;5;124mscicore\u001B[39m\u001B[38;5;124m'\u001B[39m], row1[\u001B[38;5;124m'\u001B[39m\u001B[38;5;124mtlsh\u001B[39m\u001B[38;5;124m'\u001B[39m][\u001B[38;5;124m'\u001B[39m\u001B[38;5;124mtlsh\u001B[39m\u001B[38;5;124m'\u001B[39m], row2[\u001B[38;5;124m'\u001B[39m\u001B[38;5;124mtlsh\u001B[39m\u001B[38;5;124m'\u001B[39m][\u001B[38;5;124m'\u001B[39m\u001B[38;5;124mtlsh\u001B[39m\u001B[38;5;124m'\u001B[39m], diff_score))\n",
      "File \u001B[0;32m/Library/Python/3.9/site-packages/pandas/core/series.py:1027\u001B[0m, in \u001B[0;36mSeries.__getitem__\u001B[0;34m(self, key)\u001B[0m\n\u001B[1;32m   1024\u001B[0m \u001B[38;5;28;01mif\u001B[39;00m \u001B[38;5;28misinstance\u001B[39m(key, (\u001B[38;5;28mlist\u001B[39m, \u001B[38;5;28mtuple\u001B[39m)):\n\u001B[1;32m   1025\u001B[0m     key \u001B[38;5;241m=\u001B[39m unpack_1tuple(key)\n\u001B[0;32m-> 1027\u001B[0m \u001B[38;5;28;01mif\u001B[39;00m \u001B[43mis_integer\u001B[49m\u001B[43m(\u001B[49m\u001B[43mkey\u001B[49m\u001B[43m)\u001B[49m \u001B[38;5;129;01mand\u001B[39;00m \u001B[38;5;28mself\u001B[39m\u001B[38;5;241m.\u001B[39mindex\u001B[38;5;241m.\u001B[39m_should_fallback_to_positional:\n\u001B[1;32m   1028\u001B[0m     warnings\u001B[38;5;241m.\u001B[39mwarn(\n\u001B[1;32m   1029\u001B[0m         \u001B[38;5;66;03m# GH#50617\u001B[39;00m\n\u001B[1;32m   1030\u001B[0m         \u001B[38;5;124m\"\u001B[39m\u001B[38;5;124mSeries.__getitem__ treating keys as positions is deprecated. \u001B[39m\u001B[38;5;124m\"\u001B[39m\n\u001B[0;32m   (...)\u001B[0m\n\u001B[1;32m   1035\u001B[0m         stacklevel\u001B[38;5;241m=\u001B[39mfind_stack_level(),\n\u001B[1;32m   1036\u001B[0m     )\n\u001B[1;32m   1037\u001B[0m     \u001B[38;5;28;01mreturn\u001B[39;00m \u001B[38;5;28mself\u001B[39m\u001B[38;5;241m.\u001B[39m_values[key]\n",
      "\u001B[0;31mKeyboardInterrupt\u001B[0m: "
     ]
    }
   ],
   "source": [
    "def tlsh_comb(df=malware_concat):\n",
    "    from itertools import combinations\n",
    "    \n",
    "    # Generate all binary combinations of the strings in the specified column\n",
    "    string_combinations = combinations(df[['tlsh', 'family', 'scicore']].iterrows(), 2)\n",
    "    print(\"String combinations generated\")\n",
    "    # Apply tlsh.diff to each combination\n",
    "    results = []\n",
    "    for (idx1, row1), (idx2, row2) in string_combinations:\n",
    "        if row1['tlsh'][\"tlsh\"] != \"TNULL\" and row2['tlsh'][\"tlsh\"] != \"TNULL\":\n",
    "            diff_score = tlsh.diff(row1['tlsh'][\"tlsh\"], row2['tlsh'][\"tlsh\"])\n",
    "            results.append((row1['family'], row2['family'], row1['scicore'], row2['scicore'], row1['tlsh']['tlsh'], row2['tlsh']['tlsh'], diff_score))\n",
    "    \n",
    "    # Convert results to DataFrame\n",
    "    results_df = pd.DataFrame(results, columns=['Family 1', 'Family 2', 'Scicore 1', \"Scicore 2\", 'TLSH 1', 'TLSH 2', 'Diff Score'])\n",
    "    \n",
    "    return results_df\n",
    "results_df = tlsh_comb(a)"
   ],
   "metadata": {
    "collapsed": false,
    "ExecuteTime": {
     "end_time": "2023-12-11T11:30:20.238327Z",
     "start_time": "2023-12-11T11:30:01.499122Z"
    }
   },
   "id": "6607117367cece0a"
  },
  {
   "cell_type": "code",
   "execution_count": 130,
   "outputs": [
    {
     "name": "stdout",
     "output_type": "stream",
     "text": [
      "family scicore\n",
      "family tlsh\n",
      "scicore tlsh\n"
     ]
    }
   ],
   "source": [
    "\n",
    "filtered_df = a[a['tlsh'] != 'TNULL']\n",
    "string_combinations = combinations(filtered_df[['family', 'scicore', 'tlsh']], 2)\n",
    "\n",
    "    \n",
    "for row1, row2 in string_combinations:\n",
    "    print(row1, row2)\n"
   ],
   "metadata": {
    "collapsed": false,
    "ExecuteTime": {
     "end_time": "2023-12-11T11:27:20.095944Z",
     "start_time": "2023-12-11T11:27:20.070717Z"
    }
   },
   "id": "60b929256597a0a1"
  },
  {
   "cell_type": "code",
   "execution_count": 146,
   "outputs": [
    {
     "ename": "ValueError",
     "evalue": "too many values to unpack (expected 2)",
     "output_type": "error",
     "traceback": [
      "\u001B[0;31m---------------------------------------------------------------------------\u001B[0m",
      "\u001B[0;31mValueError\u001B[0m                                Traceback (most recent call last)",
      "Cell \u001B[0;32mIn[146], line 22\u001B[0m\n\u001B[1;32m     19\u001B[0m     \u001B[38;5;28;01mreturn\u001B[39;00m results_df\n\u001B[1;32m     21\u001B[0m \u001B[38;5;66;03m# Usage\u001B[39;00m\n\u001B[0;32m---> 22\u001B[0m results_df \u001B[38;5;241m=\u001B[39m \u001B[43mtlsh_comb\u001B[49m\u001B[43m(\u001B[49m\u001B[43ma\u001B[49m\u001B[43m)\u001B[49m\n",
      "Cell \u001B[0;32mIn[146], line 11\u001B[0m, in \u001B[0;36mtlsh_comb\u001B[0;34m(df)\u001B[0m\n\u001B[1;32m      8\u001B[0m string_combinations \u001B[38;5;241m=\u001B[39m combinations(df[[\u001B[38;5;124m'\u001B[39m\u001B[38;5;124mfamily\u001B[39m\u001B[38;5;124m'\u001B[39m, \u001B[38;5;124m'\u001B[39m\u001B[38;5;124mscicore\u001B[39m\u001B[38;5;124m'\u001B[39m, \u001B[38;5;124m'\u001B[39m\u001B[38;5;124mtlsh\u001B[39m\u001B[38;5;124m'\u001B[39m]], \u001B[38;5;241m2\u001B[39m)\n\u001B[1;32m     10\u001B[0m \u001B[38;5;66;03m# Use list comprehension for results\u001B[39;00m\n\u001B[0;32m---> 11\u001B[0m results \u001B[38;5;241m=\u001B[39m [\n\u001B[1;32m     12\u001B[0m     (row1[\u001B[38;5;124m'\u001B[39m\u001B[38;5;124mfamily\u001B[39m\u001B[38;5;124m'\u001B[39m], row2[\u001B[38;5;124m'\u001B[39m\u001B[38;5;124mfamily\u001B[39m\u001B[38;5;124m'\u001B[39m], row1[\u001B[38;5;124m'\u001B[39m\u001B[38;5;124mscicore\u001B[39m\u001B[38;5;124m'\u001B[39m], row2[\u001B[38;5;124m'\u001B[39m\u001B[38;5;124mscicore\u001B[39m\u001B[38;5;124m'\u001B[39m], row1[\u001B[38;5;124m'\u001B[39m\u001B[38;5;124mtlsh\u001B[39m\u001B[38;5;124m'\u001B[39m], row2[\u001B[38;5;124m'\u001B[39m\u001B[38;5;124mtlsh\u001B[39m\u001B[38;5;124m'\u001B[39m], tlsh\u001B[38;5;241m.\u001B[39mdiff(row1[\u001B[38;5;124m'\u001B[39m\u001B[38;5;124mtlsh\u001B[39m\u001B[38;5;124m'\u001B[39m], row2[\u001B[38;5;124m'\u001B[39m\u001B[38;5;124mtlsh\u001B[39m\u001B[38;5;124m'\u001B[39m]))\n\u001B[1;32m     13\u001B[0m     \u001B[38;5;28;01mfor\u001B[39;00m (idx1, row1), (idx2, row2) \u001B[38;5;129;01min\u001B[39;00m string_combinations\n\u001B[1;32m     14\u001B[0m ]\n\u001B[1;32m     16\u001B[0m \u001B[38;5;66;03m# Convert results to DataFrame\u001B[39;00m\n\u001B[1;32m     17\u001B[0m results_df \u001B[38;5;241m=\u001B[39m pd\u001B[38;5;241m.\u001B[39mDataFrame(results, columns\u001B[38;5;241m=\u001B[39m[\u001B[38;5;124m'\u001B[39m\u001B[38;5;124mFamily 1\u001B[39m\u001B[38;5;124m'\u001B[39m, \u001B[38;5;124m'\u001B[39m\u001B[38;5;124mFamily 2\u001B[39m\u001B[38;5;124m'\u001B[39m, \u001B[38;5;124m'\u001B[39m\u001B[38;5;124mScicore 1\u001B[39m\u001B[38;5;124m'\u001B[39m, \u001B[38;5;124m'\u001B[39m\u001B[38;5;124mScicore 2\u001B[39m\u001B[38;5;124m'\u001B[39m, \u001B[38;5;124m'\u001B[39m\u001B[38;5;124mTLSH 1\u001B[39m\u001B[38;5;124m'\u001B[39m, \u001B[38;5;124m'\u001B[39m\u001B[38;5;124mTLSH 2\u001B[39m\u001B[38;5;124m'\u001B[39m, \u001B[38;5;124m'\u001B[39m\u001B[38;5;124mDiff Score\u001B[39m\u001B[38;5;124m'\u001B[39m])\n",
      "Cell \u001B[0;32mIn[146], line 13\u001B[0m, in \u001B[0;36m<listcomp>\u001B[0;34m(.0)\u001B[0m\n\u001B[1;32m      8\u001B[0m string_combinations \u001B[38;5;241m=\u001B[39m combinations(df[[\u001B[38;5;124m'\u001B[39m\u001B[38;5;124mfamily\u001B[39m\u001B[38;5;124m'\u001B[39m, \u001B[38;5;124m'\u001B[39m\u001B[38;5;124mscicore\u001B[39m\u001B[38;5;124m'\u001B[39m, \u001B[38;5;124m'\u001B[39m\u001B[38;5;124mtlsh\u001B[39m\u001B[38;5;124m'\u001B[39m]], \u001B[38;5;241m2\u001B[39m)\n\u001B[1;32m     10\u001B[0m \u001B[38;5;66;03m# Use list comprehension for results\u001B[39;00m\n\u001B[1;32m     11\u001B[0m results \u001B[38;5;241m=\u001B[39m [\n\u001B[1;32m     12\u001B[0m     (row1[\u001B[38;5;124m'\u001B[39m\u001B[38;5;124mfamily\u001B[39m\u001B[38;5;124m'\u001B[39m], row2[\u001B[38;5;124m'\u001B[39m\u001B[38;5;124mfamily\u001B[39m\u001B[38;5;124m'\u001B[39m], row1[\u001B[38;5;124m'\u001B[39m\u001B[38;5;124mscicore\u001B[39m\u001B[38;5;124m'\u001B[39m], row2[\u001B[38;5;124m'\u001B[39m\u001B[38;5;124mscicore\u001B[39m\u001B[38;5;124m'\u001B[39m], row1[\u001B[38;5;124m'\u001B[39m\u001B[38;5;124mtlsh\u001B[39m\u001B[38;5;124m'\u001B[39m], row2[\u001B[38;5;124m'\u001B[39m\u001B[38;5;124mtlsh\u001B[39m\u001B[38;5;124m'\u001B[39m], tlsh\u001B[38;5;241m.\u001B[39mdiff(row1[\u001B[38;5;124m'\u001B[39m\u001B[38;5;124mtlsh\u001B[39m\u001B[38;5;124m'\u001B[39m], row2[\u001B[38;5;124m'\u001B[39m\u001B[38;5;124mtlsh\u001B[39m\u001B[38;5;124m'\u001B[39m]))\n\u001B[0;32m---> 13\u001B[0m     \u001B[38;5;28;01mfor\u001B[39;00m (idx1, row1), (idx2, row2) \u001B[38;5;129;01min\u001B[39;00m string_combinations\n\u001B[1;32m     14\u001B[0m ]\n\u001B[1;32m     16\u001B[0m \u001B[38;5;66;03m# Convert results to DataFrame\u001B[39;00m\n\u001B[1;32m     17\u001B[0m results_df \u001B[38;5;241m=\u001B[39m pd\u001B[38;5;241m.\u001B[39mDataFrame(results, columns\u001B[38;5;241m=\u001B[39m[\u001B[38;5;124m'\u001B[39m\u001B[38;5;124mFamily 1\u001B[39m\u001B[38;5;124m'\u001B[39m, \u001B[38;5;124m'\u001B[39m\u001B[38;5;124mFamily 2\u001B[39m\u001B[38;5;124m'\u001B[39m, \u001B[38;5;124m'\u001B[39m\u001B[38;5;124mScicore 1\u001B[39m\u001B[38;5;124m'\u001B[39m, \u001B[38;5;124m'\u001B[39m\u001B[38;5;124mScicore 2\u001B[39m\u001B[38;5;124m'\u001B[39m, \u001B[38;5;124m'\u001B[39m\u001B[38;5;124mTLSH 1\u001B[39m\u001B[38;5;124m'\u001B[39m, \u001B[38;5;124m'\u001B[39m\u001B[38;5;124mTLSH 2\u001B[39m\u001B[38;5;124m'\u001B[39m, \u001B[38;5;124m'\u001B[39m\u001B[38;5;124mDiff Score\u001B[39m\u001B[38;5;124m'\u001B[39m])\n",
      "\u001B[0;31mValueError\u001B[0m: too many values to unpack (expected 2)"
     ]
    }
   ],
   "source": [
    "import pandas as pd\n",
    "\n",
    "import tlsh\n",
    "\n",
    "def tlsh_comb(df):\n",
    "\n",
    "    # Generate combinations\n",
    "    string_combinations = combinations(df[['family', 'scicore', 'tlsh']], 2)\n",
    "\n",
    "    # Use list comprehension for results\n",
    "    results = [\n",
    "        (row1['family'], row2['family'], row1['scicore'], row2['scicore'], row1['tlsh'], row2['tlsh'], tlsh.diff(row1['tlsh'], row2['tlsh']))\n",
    "        for (idx1, row1), (idx2, row2) in string_combinations\n",
    "    ]\n",
    "\n",
    "    # Convert results to DataFrame\n",
    "    results_df = pd.DataFrame(results, columns=['Family 1', 'Family 2', 'Scicore 1', 'Scicore 2', 'TLSH 1', 'TLSH 2', 'Diff Score'])\n",
    "\n",
    "    return results_df\n",
    "\n",
    "# Usage\n",
    "results_df = tlsh_comb(a)\n"
   ],
   "metadata": {
    "collapsed": false,
    "ExecuteTime": {
     "end_time": "2023-12-11T11:32:16.233999Z",
     "start_time": "2023-12-11T11:32:16.208718Z"
    }
   },
   "id": "ab4c4c9cc95d46"
  },
  {
   "cell_type": "code",
   "execution_count": 102,
   "outputs": [
    {
     "ename": "NameError",
     "evalue": "name 'results_df' is not defined",
     "output_type": "error",
     "traceback": [
      "\u001B[0;31m---------------------------------------------------------------------------\u001B[0m",
      "\u001B[0;31mNameError\u001B[0m                                 Traceback (most recent call last)",
      "Cell \u001B[0;32mIn[102], line 1\u001B[0m\n\u001B[0;32m----> 1\u001B[0m p \u001B[38;5;241m=\u001B[39m \u001B[43mresults_df\u001B[49m\u001B[38;5;241m.\u001B[39mloc[results_df\u001B[38;5;241m.\u001B[39mgroupby(\u001B[38;5;124m\"\u001B[39m\u001B[38;5;124mTLSH 1\u001B[39m\u001B[38;5;124m\"\u001B[39m)[\u001B[38;5;124m\"\u001B[39m\u001B[38;5;124mDiff Score\u001B[39m\u001B[38;5;124m\"\u001B[39m]\u001B[38;5;241m.\u001B[39midxmin()]\n\u001B[1;32m      3\u001B[0m p \u001B[38;5;241m=\u001B[39m p[p[\u001B[38;5;124m\"\u001B[39m\u001B[38;5;124mScicore 2\u001B[39m\u001B[38;5;124m\"\u001B[39m] \u001B[38;5;241m!=\u001B[39m \u001B[38;5;28;01mTrue\u001B[39;00m]\n\u001B[1;32m      5\u001B[0m (p[\u001B[38;5;124m\"\u001B[39m\u001B[38;5;124mFamily 1\u001B[39m\u001B[38;5;124m\"\u001B[39m] \u001B[38;5;241m==\u001B[39m p[\u001B[38;5;124m\"\u001B[39m\u001B[38;5;124mFamily 2\u001B[39m\u001B[38;5;124m\"\u001B[39m])\u001B[38;5;241m.\u001B[39msum() \u001B[38;5;241m/\u001B[39m p\u001B[38;5;241m.\u001B[39mshape[\u001B[38;5;241m0\u001B[39m]\n",
      "\u001B[0;31mNameError\u001B[0m: name 'results_df' is not defined"
     ]
    }
   ],
   "source": [
    "\n",
    "p = results_df.loc[results_df.groupby(\"TLSH 1\")[\"Diff Score\"].idxmin()]\n",
    "\n",
    "p = p[p[\"Scicore 2\"] != True]\n",
    "\n",
    "(p[\"Family 1\"] == p[\"Family 2\"]).sum() / p.shape[0]"
   ],
   "metadata": {
    "collapsed": false,
    "ExecuteTime": {
     "end_time": "2023-12-11T11:19:04.422519Z",
     "start_time": "2023-12-11T11:19:04.414986Z"
    }
   },
   "id": "45535d2410c905d5"
  },
  {
   "cell_type": "code",
   "execution_count": null,
   "outputs": [],
   "source": [],
   "metadata": {
    "collapsed": false
   },
   "id": "4331e03b9299b12f"
  }
 ],
 "metadata": {
  "kernelspec": {
   "display_name": "Python 3",
   "language": "python",
   "name": "python3"
  },
  "language_info": {
   "codemirror_mode": {
    "name": "ipython",
    "version": 2
   },
   "file_extension": ".py",
   "mimetype": "text/x-python",
   "name": "python",
   "nbconvert_exporter": "python",
   "pygments_lexer": "ipython2",
   "version": "2.7.6"
  }
 },
 "nbformat": 4,
 "nbformat_minor": 5
}
