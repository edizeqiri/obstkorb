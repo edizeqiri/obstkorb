{
 "cells": [
  {
   "cell_type": "code",
   "execution_count": 1,
   "id": "6a8d586a31dd688a",
   "metadata": {
    "collapsed": false,
    "ExecuteTime": {
     "end_time": "2023-12-28T18:31:44.439881Z",
     "start_time": "2023-12-28T18:31:43.380257Z"
    }
   },
   "outputs": [],
   "source": [
    "import numpy as np\n",
    "import pandas as pd\n",
    "import Mongo_Connector as mongo\n",
    "import tlsh\n",
    "from icecream import ic\n",
    "import matplotlib.pyplot as plt\n",
    "import ssdeep\n",
    "import warnings\n",
    "warnings.filterwarnings('ignore')\n",
    "db = mongo.init(\"portainer\", port=32768)\n",
    "df = pd.DataFrame(list(db[\"scicore\"].find({})))"
   ]
  },
  {
   "cell_type": "markdown",
   "id": "b1559fb3a9473554",
   "metadata": {
    "collapsed": false
   },
   "source": [
    "# Scicore Comparison\n",
    "\n",
    "This notebook is used to compare the tlsh and ssdeep hashes of the scicore dataset.\n",
    "First I will compare the tlsh hashes and then the ssdeep hashes.\n",
    "\n"
   ]
  },
  {
   "cell_type": "code",
   "execution_count": null,
   "id": "bb69e5b1eba0ca8f",
   "metadata": {
    "ExecuteTime": {
     "end_time": "2023-12-04T09:32:16.581151Z",
     "start_time": "2023-12-04T09:32:16.573297Z"
    },
    "collapsed": false
   },
   "outputs": [
    {
     "data": {
      "text/html": [
       "<div>\n",
       "<style scoped>\n",
       "    .dataframe tbody tr th:only-of-type {\n",
       "        vertical-align: middle;\n",
       "    }\n",
       "\n",
       "    .dataframe tbody tr th {\n",
       "        vertical-align: top;\n",
       "    }\n",
       "\n",
       "    .dataframe thead th {\n",
       "        text-align: right;\n",
       "    }\n",
       "</style>\n",
       "<table border=\"1\" class=\"dataframe\">\n",
       "  <thead>\n",
       "    <tr style=\"text-align: right;\">\n",
       "      <th></th>\n",
       "      <th>_id</th>\n",
       "      <th>family</th>\n",
       "      <th>SHA256</th>\n",
       "      <th>file_size</th>\n",
       "      <th>ssdeep</th>\n",
       "      <th>sdhash</th>\n",
       "      <th>tlsh</th>\n",
       "      <th>machoc</th>\n",
       "    </tr>\n",
       "  </thead>\n",
       "  <tbody>\n",
       "    <tr>\n",
       "      <th>0</th>\n",
       "      <td>0</td>\n",
       "      <td>DIAMOND</td>\n",
       "      <td>bdbbc7d10475610a47665613a15b523692f2e586e495bf...</td>\n",
       "      <td>1744592</td>\n",
       "      <td>{'ssdeep': '24576:0ZgkO8W6krEazzEHRyE5fx5j0Gkm...</td>\n",
       "      <td>sdhash hash</td>\n",
       "      <td>{'tlsh': 'T170858D1B66820CB9C492D53467E797F268...</td>\n",
       "      <td>Machoc hash</td>\n",
       "    </tr>\n",
       "    <tr>\n",
       "      <th>1</th>\n",
       "      <td>1</td>\n",
       "      <td>DIAMOND</td>\n",
       "      <td>3e5b9caaa8ec0488d0ef6649fa3205af16cd286921fdf3...</td>\n",
       "      <td>1264648</td>\n",
       "      <td>{'ssdeep': '24576:N7RayWHeZhpVZNmHQ/0R223Vcqem...</td>\n",
       "      <td>sdhash hash</td>\n",
       "      <td>{'tlsh': 'T1FB457E47FAC358A8C097D538466FA1367A...</td>\n",
       "      <td>Machoc hash</td>\n",
       "    </tr>\n",
       "    <tr>\n",
       "      <th>2</th>\n",
       "      <td>2</td>\n",
       "      <td>DIAMOND</td>\n",
       "      <td>3e7c7a7415567a30a6131c959448e136c1c4cd25e2755d...</td>\n",
       "      <td>7963768</td>\n",
       "      <td>{'ssdeep': '98304:O4g2u6YzoSU6Zr5CqeWRP07lRNMc...</td>\n",
       "      <td>sdhash hash</td>\n",
       "      <td>{'tlsh': 'T1A3868E03E687A468C8A6C43813DB91B3ED...</td>\n",
       "      <td>Machoc hash</td>\n",
       "    </tr>\n",
       "    <tr>\n",
       "      <th>3</th>\n",
       "      <td>3</td>\n",
       "      <td>DIAMOND</td>\n",
       "      <td>6336bd767371ef854def756641f8af86dd591e62170eb8...</td>\n",
       "      <td>1599192</td>\n",
       "      <td>{'ssdeep': '24576:39vHSut4l6xFkIRp1IzwbIPGVild...</td>\n",
       "      <td>sdhash hash</td>\n",
       "      <td>{'tlsh': 'T112759F1B6BA208ADC892D53457E796F26C...</td>\n",
       "      <td>Machoc hash</td>\n",
       "    </tr>\n",
       "    <tr>\n",
       "      <th>4</th>\n",
       "      <td>4</td>\n",
       "      <td>OCaml</td>\n",
       "      <td>3eee2da2d713d971e6618b2f089d08e495c0cd8ec722f7...</td>\n",
       "      <td>13173764</td>\n",
       "      <td>{'ssdeep': '49152:lZBmaeQesTwicgVOMB4aJZhYw2UN...</td>\n",
       "      <td>sdhash hash</td>\n",
       "      <td>{'tlsh': 'T1F6D6E80EBB470662CD9809FE8CD5868FD6...</td>\n",
       "      <td>Machoc hash</td>\n",
       "    </tr>\n",
       "    <tr>\n",
       "      <th>...</th>\n",
       "      <td>...</td>\n",
       "      <td>...</td>\n",
       "      <td>...</td>\n",
       "      <td>...</td>\n",
       "      <td>...</td>\n",
       "      <td>...</td>\n",
       "      <td>...</td>\n",
       "      <td>...</td>\n",
       "    </tr>\n",
       "    <tr>\n",
       "      <th>1985</th>\n",
       "      <td>1985</td>\n",
       "      <td>help2man</td>\n",
       "      <td>4b4f9faa682356601be5fb4ecd94d0761b41a877aebe42...</td>\n",
       "      <td>20063</td>\n",
       "      <td>{'ssdeep': '384:sBLdhCCJ8rwQ0EvrX+rjZbOeL3npSe...</td>\n",
       "      <td>sdhash hash</td>\n",
       "      <td>{'tlsh': 'T16B92F905EA1A8677B25301F77FDAA4C097...</td>\n",
       "      <td>Machoc hash</td>\n",
       "    </tr>\n",
       "    <tr>\n",
       "      <th>1986</th>\n",
       "      <td>1986</td>\n",
       "      <td>help2man</td>\n",
       "      <td>16d420a69b74f3ec081ffae840653e2246ab4758d85e38...</td>\n",
       "      <td>20063</td>\n",
       "      <td>{'ssdeep': '384:sBLdkCCJ8rwQ0EvrX+rjZbOeL3npSe...</td>\n",
       "      <td>sdhash hash</td>\n",
       "      <td>{'tlsh': 'T12C92F905EA1A8677B25301F77FDAA4C097...</td>\n",
       "      <td>Machoc hash</td>\n",
       "    </tr>\n",
       "    <tr>\n",
       "      <th>1987</th>\n",
       "      <td>1987</td>\n",
       "      <td>help2man</td>\n",
       "      <td>982697334fef2dab34b4393832e7011a74a92ff05fd426...</td>\n",
       "      <td>20051</td>\n",
       "      <td>{'ssdeep': '384:sDLjOCCJ8/eQrvPX+rjZb2OL3npSeL...</td>\n",
       "      <td>sdhash hash</td>\n",
       "      <td>{'tlsh': 'T192920A04EA1A8677B25301F77FDA94C097...</td>\n",
       "      <td>Machoc hash</td>\n",
       "    </tr>\n",
       "    <tr>\n",
       "      <th>1988</th>\n",
       "      <td>1988</td>\n",
       "      <td>ChimPipe</td>\n",
       "      <td>6cbb727cbfb1fb6335e4439ae7810e143e1bcc69b05ca0...</td>\n",
       "      <td>76135</td>\n",
       "      <td>{'ssdeep': '1536:Sw5j4LB3dUalDarob+tltydxgjmzB...</td>\n",
       "      <td>sdhash hash</td>\n",
       "      <td>{'tlsh': 'T101734B13B0959D7AC4478A301AC7823B99...</td>\n",
       "      <td>Machoc hash</td>\n",
       "    </tr>\n",
       "    <tr>\n",
       "      <th>1989</th>\n",
       "      <td>1989</td>\n",
       "      <td>jbigkit</td>\n",
       "      <td>67855fe5ed323498b1e1a1c9f0a8b2b8b235bb2b4f3a4f...</td>\n",
       "      <td>21544</td>\n",
       "      <td>{'ssdeep': '192:GTJmX1ws6CWEORGArDqE/1LyZAntTq...</td>\n",
       "      <td>sdhash hash</td>\n",
       "      <td>{'tlsh': 'T10BA21827E3815876CDC5413451A74629B1...</td>\n",
       "      <td>Machoc hash</td>\n",
       "    </tr>\n",
       "  </tbody>\n",
       "</table>\n",
       "<p>1990 rows × 8 columns</p>\n",
       "</div>"
      ],
      "text/plain": [
       "       _id    family                                             SHA256  \\\n",
       "0        0   DIAMOND  bdbbc7d10475610a47665613a15b523692f2e586e495bf...   \n",
       "1        1   DIAMOND  3e5b9caaa8ec0488d0ef6649fa3205af16cd286921fdf3...   \n",
       "2        2   DIAMOND  3e7c7a7415567a30a6131c959448e136c1c4cd25e2755d...   \n",
       "3        3   DIAMOND  6336bd767371ef854def756641f8af86dd591e62170eb8...   \n",
       "4        4     OCaml  3eee2da2d713d971e6618b2f089d08e495c0cd8ec722f7...   \n",
       "...    ...       ...                                                ...   \n",
       "1985  1985  help2man  4b4f9faa682356601be5fb4ecd94d0761b41a877aebe42...   \n",
       "1986  1986  help2man  16d420a69b74f3ec081ffae840653e2246ab4758d85e38...   \n",
       "1987  1987  help2man  982697334fef2dab34b4393832e7011a74a92ff05fd426...   \n",
       "1988  1988  ChimPipe  6cbb727cbfb1fb6335e4439ae7810e143e1bcc69b05ca0...   \n",
       "1989  1989   jbigkit  67855fe5ed323498b1e1a1c9f0a8b2b8b235bb2b4f3a4f...   \n",
       "\n",
       "      file_size                                             ssdeep  \\\n",
       "0       1744592  {'ssdeep': '24576:0ZgkO8W6krEazzEHRyE5fx5j0Gkm...   \n",
       "1       1264648  {'ssdeep': '24576:N7RayWHeZhpVZNmHQ/0R223Vcqem...   \n",
       "2       7963768  {'ssdeep': '98304:O4g2u6YzoSU6Zr5CqeWRP07lRNMc...   \n",
       "3       1599192  {'ssdeep': '24576:39vHSut4l6xFkIRp1IzwbIPGVild...   \n",
       "4      13173764  {'ssdeep': '49152:lZBmaeQesTwicgVOMB4aJZhYw2UN...   \n",
       "...         ...                                                ...   \n",
       "1985      20063  {'ssdeep': '384:sBLdhCCJ8rwQ0EvrX+rjZbOeL3npSe...   \n",
       "1986      20063  {'ssdeep': '384:sBLdkCCJ8rwQ0EvrX+rjZbOeL3npSe...   \n",
       "1987      20051  {'ssdeep': '384:sDLjOCCJ8/eQrvPX+rjZb2OL3npSeL...   \n",
       "1988      76135  {'ssdeep': '1536:Sw5j4LB3dUalDarob+tltydxgjmzB...   \n",
       "1989      21544  {'ssdeep': '192:GTJmX1ws6CWEORGArDqE/1LyZAntTq...   \n",
       "\n",
       "           sdhash                                               tlsh  \\\n",
       "0     sdhash hash  {'tlsh': 'T170858D1B66820CB9C492D53467E797F268...   \n",
       "1     sdhash hash  {'tlsh': 'T1FB457E47FAC358A8C097D538466FA1367A...   \n",
       "2     sdhash hash  {'tlsh': 'T1A3868E03E687A468C8A6C43813DB91B3ED...   \n",
       "3     sdhash hash  {'tlsh': 'T112759F1B6BA208ADC892D53457E796F26C...   \n",
       "4     sdhash hash  {'tlsh': 'T1F6D6E80EBB470662CD9809FE8CD5868FD6...   \n",
       "...           ...                                                ...   \n",
       "1985  sdhash hash  {'tlsh': 'T16B92F905EA1A8677B25301F77FDAA4C097...   \n",
       "1986  sdhash hash  {'tlsh': 'T12C92F905EA1A8677B25301F77FDAA4C097...   \n",
       "1987  sdhash hash  {'tlsh': 'T192920A04EA1A8677B25301F77FDA94C097...   \n",
       "1988  sdhash hash  {'tlsh': 'T101734B13B0959D7AC4478A301AC7823B99...   \n",
       "1989  sdhash hash  {'tlsh': 'T10BA21827E3815876CDC5413451A74629B1...   \n",
       "\n",
       "           machoc  \n",
       "0     Machoc hash  \n",
       "1     Machoc hash  \n",
       "2     Machoc hash  \n",
       "3     Machoc hash  \n",
       "4     Machoc hash  \n",
       "...           ...  \n",
       "1985  Machoc hash  \n",
       "1986  Machoc hash  \n",
       "1987  Machoc hash  \n",
       "1988  Machoc hash  \n",
       "1989  Machoc hash  \n",
       "\n",
       "[1990 rows x 8 columns]"
      ]
     },
     "execution_count": 155,
     "metadata": {},
     "output_type": "execute_result"
    }
   ],
   "source": [
    "df"
   ]
  },
  {
   "cell_type": "code",
   "execution_count": null,
   "id": "9b46196621f10368",
   "metadata": {
    "ExecuteTime": {
     "end_time": "2023-12-04T09:32:16.586571Z",
     "start_time": "2023-12-04T09:32:16.582478Z"
    },
    "collapsed": false
   },
   "outputs": [],
   "source": [
    "family_counts = df['family'].value_counts()\n",
    "\n",
    "# Filter the families with more than one entry\n",
    "scicore_filtered = df[df['family'].map(family_counts) > 1]"
   ]
  },
  {
   "cell_type": "markdown",
   "id": "c1bc96c0b446a978",
   "metadata": {
    "collapsed": false
   },
   "source": [
    "# Scicore Filtered\n",
    "\n",
    "This is the filtered dataset with only families that have more than one entry. Since comparing the binary to itself can be done with SHA256, I will skip the families with only 1 entry."
   ]
  },
  {
   "cell_type": "code",
   "execution_count": null,
   "id": "4a8d50374c3d4cc8",
   "metadata": {
    "ExecuteTime": {
     "end_time": "2023-12-04T09:32:16.604721Z",
     "start_time": "2023-12-04T09:32:16.591649Z"
    },
    "collapsed": false
   },
   "outputs": [
    {
     "data": {
      "text/html": [
       "<div>\n",
       "<style scoped>\n",
       "    .dataframe tbody tr th:only-of-type {\n",
       "        vertical-align: middle;\n",
       "    }\n",
       "\n",
       "    .dataframe tbody tr th {\n",
       "        vertical-align: top;\n",
       "    }\n",
       "\n",
       "    .dataframe thead th {\n",
       "        text-align: right;\n",
       "    }\n",
       "</style>\n",
       "<table border=\"1\" class=\"dataframe\">\n",
       "  <thead>\n",
       "    <tr style=\"text-align: right;\">\n",
       "      <th></th>\n",
       "      <th>_id</th>\n",
       "      <th>family</th>\n",
       "      <th>SHA256</th>\n",
       "      <th>file_size</th>\n",
       "      <th>ssdeep</th>\n",
       "      <th>sdhash</th>\n",
       "      <th>tlsh</th>\n",
       "      <th>machoc</th>\n",
       "    </tr>\n",
       "  </thead>\n",
       "  <tbody>\n",
       "    <tr>\n",
       "      <th>0</th>\n",
       "      <td>0</td>\n",
       "      <td>DIAMOND</td>\n",
       "      <td>bdbbc7d10475610a47665613a15b523692f2e586e495bf...</td>\n",
       "      <td>1744592</td>\n",
       "      <td>{'ssdeep': '24576:0ZgkO8W6krEazzEHRyE5fx5j0Gkm...</td>\n",
       "      <td>sdhash hash</td>\n",
       "      <td>{'tlsh': 'T170858D1B66820CB9C492D53467E797F268...</td>\n",
       "      <td>Machoc hash</td>\n",
       "    </tr>\n",
       "    <tr>\n",
       "      <th>1</th>\n",
       "      <td>1</td>\n",
       "      <td>DIAMOND</td>\n",
       "      <td>3e5b9caaa8ec0488d0ef6649fa3205af16cd286921fdf3...</td>\n",
       "      <td>1264648</td>\n",
       "      <td>{'ssdeep': '24576:N7RayWHeZhpVZNmHQ/0R223Vcqem...</td>\n",
       "      <td>sdhash hash</td>\n",
       "      <td>{'tlsh': 'T1FB457E47FAC358A8C097D538466FA1367A...</td>\n",
       "      <td>Machoc hash</td>\n",
       "    </tr>\n",
       "    <tr>\n",
       "      <th>2</th>\n",
       "      <td>2</td>\n",
       "      <td>DIAMOND</td>\n",
       "      <td>3e7c7a7415567a30a6131c959448e136c1c4cd25e2755d...</td>\n",
       "      <td>7963768</td>\n",
       "      <td>{'ssdeep': '98304:O4g2u6YzoSU6Zr5CqeWRP07lRNMc...</td>\n",
       "      <td>sdhash hash</td>\n",
       "      <td>{'tlsh': 'T1A3868E03E687A468C8A6C43813DB91B3ED...</td>\n",
       "      <td>Machoc hash</td>\n",
       "    </tr>\n",
       "    <tr>\n",
       "      <th>3</th>\n",
       "      <td>3</td>\n",
       "      <td>DIAMOND</td>\n",
       "      <td>6336bd767371ef854def756641f8af86dd591e62170eb8...</td>\n",
       "      <td>1599192</td>\n",
       "      <td>{'ssdeep': '24576:39vHSut4l6xFkIRp1IzwbIPGVild...</td>\n",
       "      <td>sdhash hash</td>\n",
       "      <td>{'tlsh': 'T112759F1B6BA208ADC892D53457E796F26C...</td>\n",
       "      <td>Machoc hash</td>\n",
       "    </tr>\n",
       "    <tr>\n",
       "      <th>5</th>\n",
       "      <td>5</td>\n",
       "      <td>RStudio-Server</td>\n",
       "      <td>8ed496fd927bf12ab2680275d12ae8d239c77f426345e8...</td>\n",
       "      <td>4364</td>\n",
       "      <td>{'ssdeep': '96:mKNT20vznhw3tngiBbGBsek3Kfy2wy3...</td>\n",
       "      <td>sdhash hash</td>\n",
       "      <td>{'tlsh': 'T150918C52B0542BB67974A378DBB71467E3...</td>\n",
       "      <td>Machoc hash</td>\n",
       "    </tr>\n",
       "    <tr>\n",
       "      <th>...</th>\n",
       "      <td>...</td>\n",
       "      <td>...</td>\n",
       "      <td>...</td>\n",
       "      <td>...</td>\n",
       "      <td>...</td>\n",
       "      <td>...</td>\n",
       "      <td>...</td>\n",
       "      <td>...</td>\n",
       "    </tr>\n",
       "    <tr>\n",
       "      <th>1983</th>\n",
       "      <td>1983</td>\n",
       "      <td>help2man</td>\n",
       "      <td>79bbee7e82e8cab0f238bc135ec79543a071371cddeb11...</td>\n",
       "      <td>19871</td>\n",
       "      <td>{'ssdeep': '384:sALj4CCJ8/eQyWvPX+ejZbCOL3npSe...</td>\n",
       "      <td>sdhash hash</td>\n",
       "      <td>{'tlsh': 'T13092F805EA2A8637B15301F77FDA54D09B...</td>\n",
       "      <td>Machoc hash</td>\n",
       "    </tr>\n",
       "    <tr>\n",
       "      <th>1984</th>\n",
       "      <td>1984</td>\n",
       "      <td>help2man</td>\n",
       "      <td>2a1400af01f63f02b64889eb203ed60eee4014a4d4ded2...</td>\n",
       "      <td>19896</td>\n",
       "      <td>{'ssdeep': '384:svLjrCCJ8/eQrvPX+ejZbCOL3npSeL...</td>\n",
       "      <td>sdhash hash</td>\n",
       "      <td>{'tlsh': 'T1EC92F905EA2A8637B15301F77FDA54C09B...</td>\n",
       "      <td>Machoc hash</td>\n",
       "    </tr>\n",
       "    <tr>\n",
       "      <th>1985</th>\n",
       "      <td>1985</td>\n",
       "      <td>help2man</td>\n",
       "      <td>4b4f9faa682356601be5fb4ecd94d0761b41a877aebe42...</td>\n",
       "      <td>20063</td>\n",
       "      <td>{'ssdeep': '384:sBLdhCCJ8rwQ0EvrX+rjZbOeL3npSe...</td>\n",
       "      <td>sdhash hash</td>\n",
       "      <td>{'tlsh': 'T16B92F905EA1A8677B25301F77FDAA4C097...</td>\n",
       "      <td>Machoc hash</td>\n",
       "    </tr>\n",
       "    <tr>\n",
       "      <th>1986</th>\n",
       "      <td>1986</td>\n",
       "      <td>help2man</td>\n",
       "      <td>16d420a69b74f3ec081ffae840653e2246ab4758d85e38...</td>\n",
       "      <td>20063</td>\n",
       "      <td>{'ssdeep': '384:sBLdkCCJ8rwQ0EvrX+rjZbOeL3npSe...</td>\n",
       "      <td>sdhash hash</td>\n",
       "      <td>{'tlsh': 'T12C92F905EA1A8677B25301F77FDAA4C097...</td>\n",
       "      <td>Machoc hash</td>\n",
       "    </tr>\n",
       "    <tr>\n",
       "      <th>1987</th>\n",
       "      <td>1987</td>\n",
       "      <td>help2man</td>\n",
       "      <td>982697334fef2dab34b4393832e7011a74a92ff05fd426...</td>\n",
       "      <td>20051</td>\n",
       "      <td>{'ssdeep': '384:sDLjOCCJ8/eQrvPX+rjZb2OL3npSeL...</td>\n",
       "      <td>sdhash hash</td>\n",
       "      <td>{'tlsh': 'T192920A04EA1A8677B25301F77FDA94C097...</td>\n",
       "      <td>Machoc hash</td>\n",
       "    </tr>\n",
       "  </tbody>\n",
       "</table>\n",
       "<p>1664 rows × 8 columns</p>\n",
       "</div>"
      ],
      "text/plain": [
       "       _id          family                                             SHA256  \\\n",
       "0        0         DIAMOND  bdbbc7d10475610a47665613a15b523692f2e586e495bf...   \n",
       "1        1         DIAMOND  3e5b9caaa8ec0488d0ef6649fa3205af16cd286921fdf3...   \n",
       "2        2         DIAMOND  3e7c7a7415567a30a6131c959448e136c1c4cd25e2755d...   \n",
       "3        3         DIAMOND  6336bd767371ef854def756641f8af86dd591e62170eb8...   \n",
       "5        5  RStudio-Server  8ed496fd927bf12ab2680275d12ae8d239c77f426345e8...   \n",
       "...    ...             ...                                                ...   \n",
       "1983  1983        help2man  79bbee7e82e8cab0f238bc135ec79543a071371cddeb11...   \n",
       "1984  1984        help2man  2a1400af01f63f02b64889eb203ed60eee4014a4d4ded2...   \n",
       "1985  1985        help2man  4b4f9faa682356601be5fb4ecd94d0761b41a877aebe42...   \n",
       "1986  1986        help2man  16d420a69b74f3ec081ffae840653e2246ab4758d85e38...   \n",
       "1987  1987        help2man  982697334fef2dab34b4393832e7011a74a92ff05fd426...   \n",
       "\n",
       "      file_size                                             ssdeep  \\\n",
       "0       1744592  {'ssdeep': '24576:0ZgkO8W6krEazzEHRyE5fx5j0Gkm...   \n",
       "1       1264648  {'ssdeep': '24576:N7RayWHeZhpVZNmHQ/0R223Vcqem...   \n",
       "2       7963768  {'ssdeep': '98304:O4g2u6YzoSU6Zr5CqeWRP07lRNMc...   \n",
       "3       1599192  {'ssdeep': '24576:39vHSut4l6xFkIRp1IzwbIPGVild...   \n",
       "5          4364  {'ssdeep': '96:mKNT20vznhw3tngiBbGBsek3Kfy2wy3...   \n",
       "...         ...                                                ...   \n",
       "1983      19871  {'ssdeep': '384:sALj4CCJ8/eQyWvPX+ejZbCOL3npSe...   \n",
       "1984      19896  {'ssdeep': '384:svLjrCCJ8/eQrvPX+ejZbCOL3npSeL...   \n",
       "1985      20063  {'ssdeep': '384:sBLdhCCJ8rwQ0EvrX+rjZbOeL3npSe...   \n",
       "1986      20063  {'ssdeep': '384:sBLdkCCJ8rwQ0EvrX+rjZbOeL3npSe...   \n",
       "1987      20051  {'ssdeep': '384:sDLjOCCJ8/eQrvPX+rjZb2OL3npSeL...   \n",
       "\n",
       "           sdhash                                               tlsh  \\\n",
       "0     sdhash hash  {'tlsh': 'T170858D1B66820CB9C492D53467E797F268...   \n",
       "1     sdhash hash  {'tlsh': 'T1FB457E47FAC358A8C097D538466FA1367A...   \n",
       "2     sdhash hash  {'tlsh': 'T1A3868E03E687A468C8A6C43813DB91B3ED...   \n",
       "3     sdhash hash  {'tlsh': 'T112759F1B6BA208ADC892D53457E796F26C...   \n",
       "5     sdhash hash  {'tlsh': 'T150918C52B0542BB67974A378DBB71467E3...   \n",
       "...           ...                                                ...   \n",
       "1983  sdhash hash  {'tlsh': 'T13092F805EA2A8637B15301F77FDA54D09B...   \n",
       "1984  sdhash hash  {'tlsh': 'T1EC92F905EA2A8637B15301F77FDA54C09B...   \n",
       "1985  sdhash hash  {'tlsh': 'T16B92F905EA1A8677B25301F77FDAA4C097...   \n",
       "1986  sdhash hash  {'tlsh': 'T12C92F905EA1A8677B25301F77FDAA4C097...   \n",
       "1987  sdhash hash  {'tlsh': 'T192920A04EA1A8677B25301F77FDA94C097...   \n",
       "\n",
       "           machoc  \n",
       "0     Machoc hash  \n",
       "1     Machoc hash  \n",
       "2     Machoc hash  \n",
       "3     Machoc hash  \n",
       "5     Machoc hash  \n",
       "...           ...  \n",
       "1983  Machoc hash  \n",
       "1984  Machoc hash  \n",
       "1985  Machoc hash  \n",
       "1986  Machoc hash  \n",
       "1987  Machoc hash  \n",
       "\n",
       "[1664 rows x 8 columns]"
      ]
     },
     "execution_count": 157,
     "metadata": {},
     "output_type": "execute_result"
    }
   ],
   "source": [
    "scicore_filtered"
   ]
  },
  {
   "cell_type": "code",
   "execution_count": null,
   "id": "f0ea6c1ac88ec6a6",
   "metadata": {
    "ExecuteTime": {
     "end_time": "2023-12-04T09:32:16.621265Z",
     "start_time": "2023-12-04T09:32:16.595274Z"
    },
    "collapsed": false
   },
   "outputs": [],
   "source": [
    "original_count = df.shape[0]\n",
    "\n",
    "# Count the occurrences of each family\n",
    "family_counts = df['family'].value_counts()\n",
    "\n",
    "# Filter the DataFrame to keep families with more than one entry\n",
    "scicore_filtered = df[df['family'].map(family_counts) > 1]\n",
    "\n",
    "# Get the new number of rows after filtering\n",
    "filtered_count = scicore_filtered.shape[0]\n",
    "\n",
    "# Identify the families that were removed\n",
    "removed_families = family_counts[family_counts == 1].index.tolist()\n",
    "\n",
    "# Print the results\n",
    "#print(f\"Original DataFrame had {original_count} rows.\")\n",
    "#print(f\"Filtered DataFrame has {filtered_count} rows.\")\n",
    "#print(f\"Families removed (only had 1 entry): {removed_families}\")\n"
   ]
  },
  {
   "cell_type": "markdown",
   "id": "725b0752d2259e5a",
   "metadata": {
    "collapsed": false
   },
   "source": [
    "Example: Get the tlsh hash of the first entry (DIAMOND) and compare to all other entries."
   ]
  },
  {
   "cell_type": "code",
   "execution_count": null,
   "id": "b6601cb5ea2b2ede",
   "metadata": {
    "ExecuteTime": {
     "end_time": "2023-12-04T09:32:16.640272Z",
     "start_time": "2023-12-04T09:32:16.599611Z"
    },
    "collapsed": false
   },
   "outputs": [],
   "source": [
    "from joblib import Parallel, delayed\n",
    "\n",
    "def compare_sample(index, hasher):\n",
    "    target_hash = scicore_concat.iloc[index][hasher][hasher]\n",
    "    scores = []\n",
    "\n",
    "    def compute_score(row):\n",
    "        if hasher == \"tlsh\":\n",
    "            return [row.name, row[\"family\"], int(tlsh.diff(target_hash, row[hasher][hasher]))]\n",
    "        elif hasher == \"ssdeep\":\n",
    "            return [row.name, row[\"family\"], int(ssdeep.compare(target_hash, row[hasher][hasher]))]\n",
    "\n",
    "    scores = Parallel(n_jobs=-1)(delayed(compute_score)(row) for _, row in scicore_filtered.iterrows())\n",
    "\n",
    "    return pd.DataFrame(scores, columns=[\"index\", \"family\", \"score\"])\n"
   ]
  },
  {
   "cell_type": "markdown",
   "id": "5c7ab9630a599bb8",
   "metadata": {
    "collapsed": false
   },
   "source": [
    "# Score\n",
    "\n",
    "For TLSH, the score can go from 0 to as high as thousands. Depending on the threshold, we can filter out the entries that are not a candidate for a match, because of the False Positive rate and the True Positive rate. Reference: TLSH paper"
   ]
  },
  {
   "cell_type": "markdown",
   "id": "5d27b505468a4d23",
   "metadata": {
    "collapsed": false
   },
   "source": [
    "# Comparison\n",
    "\n",
    "The idea now is to first see how the hashes are matched on their own families.\n",
    "Example: Family DIAMOND hashes get only compared to itself to see how the score is distributed.\n",
    "\n",
    "`family_scores` is for TLSH\n",
    "`fam_sco_ssdeep` is for ssdeep"
   ]
  },
  {
   "cell_type": "markdown",
   "id": "b292b05aa65d6e14",
   "metadata": {
    "collapsed": false
   },
   "source": [
    "## TLSH"
   ]
  },
  {
   "cell_type": "code",
   "execution_count": null,
   "id": "40c548a5fe3a8bb7",
   "metadata": {
    "ExecuteTime": {
     "end_time": "2023-12-04T09:32:16.964503Z",
     "start_time": "2023-12-04T09:32:16.605069Z"
    },
    "collapsed": false
   },
   "outputs": [],
   "source": [
    "import itertools\n",
    "\n",
    "family_scores = pd.DataFrame(columns=[\"family\", \"values\", \"mean\", \"median\", \"std\", \"amount\"])\n",
    "fam_sco_ssdeep = pd.DataFrame(columns=[\"family\", \"values\", \"mean\", \"median\", \"std\", \"amount\"])\n",
    "for k,fam in enumerate(scicore_filtered[\"family\"].unique()):\n",
    "    values = []\n",
    "    s_values = []\n",
    "    tmp = scicore_filtered[scicore_filtered[\"family\"] == fam][\"tlsh\"].tolist()\n",
    "    tmps = scicore_filtered[scicore_filtered[\"family\"] == fam][\"ssdeep\"].tolist()\n",
    "    combinations = list(itertools.combinations(tmp, 2))\n",
    "    s_combinations = list(itertools.combinations(tmps, 2))\n",
    "    for a, b in combinations:\n",
    "        g = tlsh.diff(a[\"tlsh\"],b[\"tlsh\"])\n",
    "        values.append(g)\n",
    "        \n",
    "    for a, b in s_combinations:\n",
    "        f = ssdeep.compare(a[\"ssdeep\"],b[\"ssdeep\"])\n",
    "        s_values.append(f)\n",
    "    family_scores.loc[k] = [fam,values,np.mean(values), np.median(values), np.std(values),len(values)]\n",
    "    fam_sco_ssdeep.loc[k] = [fam,s_values,np.mean(s_values), np.median(s_values), np.std(s_values),len(s_values)]"
   ]
  },
  {
   "cell_type": "code",
   "execution_count": null,
   "id": "3db1127341c3bf20",
   "metadata": {
    "ExecuteTime": {
     "end_time": "2023-12-04T09:32:16.973243Z",
     "start_time": "2023-12-04T09:32:16.971075Z"
    },
    "collapsed": false
   },
   "outputs": [
    {
     "ename": "NameError",
     "evalue": "name 'family_scores' is not defined",
     "output_type": "error",
     "traceback": [
      "\u001B[0;31m---------------------------------------------------------------------------\u001B[0m",
      "\u001B[0;31mNameError\u001B[0m                                 Traceback (most recent call last)",
      "Cell \u001B[0;32mIn[1], line 2\u001B[0m\n\u001B[1;32m      1\u001B[0m \u001B[38;5;66;03m# Ignore the ones with only one result\u001B[39;00m\n\u001B[0;32m----> 2\u001B[0m \u001B[43mfamily_scores\u001B[49m\u001B[38;5;241m.\u001B[39msort_values(\u001B[38;5;124m'\u001B[39m\u001B[38;5;124mamount\u001B[39m\u001B[38;5;124m'\u001B[39m)\n\u001B[1;32m      3\u001B[0m family_scores_tlsh \u001B[38;5;241m=\u001B[39m family_scores[family_scores[\u001B[38;5;124m\"\u001B[39m\u001B[38;5;124mamount\u001B[39m\u001B[38;5;124m\"\u001B[39m] \u001B[38;5;241m>\u001B[39m \u001B[38;5;241m1\u001B[39m]\n\u001B[1;32m      4\u001B[0m family_scores_tlsh\n",
      "\u001B[0;31mNameError\u001B[0m: name 'family_scores' is not defined"
     ]
    }
   ],
   "source": [
    "# Ignore the ones with only one result\n",
    "family_scores.sort_values('amount')\n",
    "family_scores_tlsh = family_scores[family_scores[\"amount\"] > 1]\n",
    "family_scores_tlsh"
   ]
  },
  {
   "cell_type": "code",
   "execution_count": null,
   "id": "321495badce1390b",
   "metadata": {
    "ExecuteTime": {
     "end_time": "2023-12-04T09:32:17.037949Z",
     "start_time": "2023-12-04T09:32:16.975705Z"
    },
    "collapsed": false
   },
   "outputs": [
    {
     "data": {
      "image/png": "[encoded data removed]",
      "text/plain": [
       "<Figure size 640x480 with 1 Axes>"
      ]
     },
     "metadata": {},
     "output_type": "display_data"
    }
   ],
   "source": [
    "family_scores_tlsh[[\"mean\",\"median\",\"std\"]].boxplot()\n",
    "plt.title(\"Boxplot of the distribution of TLSH scores\")\n",
    "plt.show()"
   ]
  },
  {
   "cell_type": "markdown",
   "id": "43b28a0854e036bc",
   "metadata": {
    "collapsed": false
   },
   "source": [
    "Comparing the scores of the families, the distribution is comparable to the result of the paper of TLSH. The prediction starts to be acceptable at around 80 and the false postive rate starts to be to high after 150 in the paper. Here we can see a similar trend.\n",
    "\n",
    "# TLSH Prediction"
   ]
  },
  {
   "cell_type": "code",
   "execution_count": null,
   "id": "c4d59853a571b384",
   "metadata": {
    "ExecuteTime": {
     "end_time": "2023-12-04T09:32:17.057382Z",
     "start_time": "2023-12-04T09:32:17.042676Z"
    },
    "collapsed": false
   },
   "outputs": [],
   "source": [
    "def tlsh_predictor(threshold=0):\n",
    "    predict = pd.DataFrame(index=range(family_scores_tlsh.shape[0]), columns=[\"score\", \"prediction\", \"true_value\"])\n",
    "    for i in range(0,scicore_filtered.shape[0],1):\n",
    "        score = 1000\n",
    "        k = 0\n",
    "        for j in range(0,scicore_filtered.shape[0],1):\n",
    "            if i == j:\n",
    "                continue\n",
    "            tmp = tlsh.diff(scicore_filtered.iloc[i][\"tlsh\"][\"tlsh\"],scicore_filtered.iloc[j][\"tlsh\"][\"tlsh\"])\n",
    "            if score > tmp > threshold:\n",
    "                score = tmp\n",
    "                k = j\n",
    "            \n",
    "        #print(f\"score: {score}, prediction: {scicore_filtered.iloc[i]['family']}, true value: {scicore_filtered.iloc[k]['family']}\")\n",
    "        predict.loc[i] = [score, scicore_filtered.iloc[i][\"family\"], scicore_filtered.iloc[k][\"family\"]]\n",
    "    return predict\n"
   ]
  },
  {
   "cell_type": "markdown",
   "id": "ceb9c3ec706dfd63",
   "metadata": {
    "collapsed": false
   },
   "source": [
    "When not giving any threshold we receive a true positive rate of $81\\%$ and a false positive rate of $19\\%$. Compared to SSDEEP this is a great result."
   ]
  },
  {
   "cell_type": "markdown",
   "id": "f3e4df607a5b0e0c",
   "metadata": {
    "collapsed": false
   },
   "source": [
    "# ROC Curve\n",
    "\n",
    "To correctly get a ROC curve, 4 values are essential: TP, FP, TN, FN.\n",
    "\n",
    "The problem currently is, that I do not have other samples which can have no match. All the samples have a match and therefore the TN rate is 0. Thus, I will add the same amount of malware samples and concatenate with the scicore db."
   ]
  },
  {
   "cell_type": "code",
   "execution_count": null,
   "id": "99377c5d623bc51d",
   "metadata": {
    "ExecuteTime": {
     "end_time": "2023-12-04T09:32:17.057799Z",
     "start_time": "2023-12-04T09:32:17.045114Z"
    },
    "collapsed": false
   },
   "outputs": [
    {
     "data": {
      "text/html": [
       "<div>\n",
       "<style scoped>\n",
       "    .dataframe tbody tr th:only-of-type {\n",
       "        vertical-align: middle;\n",
       "    }\n",
       "\n",
       "    .dataframe tbody tr th {\n",
       "        vertical-align: top;\n",
       "    }\n",
       "\n",
       "    .dataframe thead th {\n",
       "        text-align: right;\n",
       "    }\n",
       "</style>\n",
       "<table border=\"1\" class=\"dataframe\">\n",
       "  <thead>\n",
       "    <tr style=\"text-align: right;\">\n",
       "      <th></th>\n",
       "      <th>_id</th>\n",
       "      <th>family</th>\n",
       "      <th>SHA256</th>\n",
       "      <th>file_size</th>\n",
       "      <th>ssdeep</th>\n",
       "      <th>sdhash</th>\n",
       "      <th>tlsh</th>\n",
       "      <th>machoc</th>\n",
       "      <th>malware</th>\n",
       "    </tr>\n",
       "  </thead>\n",
       "  <tbody>\n",
       "    <tr>\n",
       "      <th>0</th>\n",
       "      <td>0</td>\n",
       "      <td>DIAMOND</td>\n",
       "      <td>bdbbc7d10475610a47665613a15b523692f2e586e495bf...</td>\n",
       "      <td>1744592</td>\n",
       "      <td>{'ssdeep': '24576:0ZgkO8W6krEazzEHRyE5fx5j0Gkm...</td>\n",
       "      <td>sdhash hash</td>\n",
       "      <td>{'tlsh': 'T170858D1B66820CB9C492D53467E797F268...</td>\n",
       "      <td>Machoc hash</td>\n",
       "      <td>False</td>\n",
       "    </tr>\n",
       "    <tr>\n",
       "      <th>1</th>\n",
       "      <td>1</td>\n",
       "      <td>DIAMOND</td>\n",
       "      <td>3e5b9caaa8ec0488d0ef6649fa3205af16cd286921fdf3...</td>\n",
       "      <td>1264648</td>\n",
       "      <td>{'ssdeep': '24576:N7RayWHeZhpVZNmHQ/0R223Vcqem...</td>\n",
       "      <td>sdhash hash</td>\n",
       "      <td>{'tlsh': 'T1FB457E47FAC358A8C097D538466FA1367A...</td>\n",
       "      <td>Machoc hash</td>\n",
       "      <td>False</td>\n",
       "    </tr>\n",
       "    <tr>\n",
       "      <th>2</th>\n",
       "      <td>2</td>\n",
       "      <td>DIAMOND</td>\n",
       "      <td>3e7c7a7415567a30a6131c959448e136c1c4cd25e2755d...</td>\n",
       "      <td>7963768</td>\n",
       "      <td>{'ssdeep': '98304:O4g2u6YzoSU6Zr5CqeWRP07lRNMc...</td>\n",
       "      <td>sdhash hash</td>\n",
       "      <td>{'tlsh': 'T1A3868E03E687A468C8A6C43813DB91B3ED...</td>\n",
       "      <td>Machoc hash</td>\n",
       "      <td>False</td>\n",
       "    </tr>\n",
       "    <tr>\n",
       "      <th>3</th>\n",
       "      <td>3</td>\n",
       "      <td>DIAMOND</td>\n",
       "      <td>6336bd767371ef854def756641f8af86dd591e62170eb8...</td>\n",
       "      <td>1599192</td>\n",
       "      <td>{'ssdeep': '24576:39vHSut4l6xFkIRp1IzwbIPGVild...</td>\n",
       "      <td>sdhash hash</td>\n",
       "      <td>{'tlsh': 'T112759F1B6BA208ADC892D53457E796F26C...</td>\n",
       "      <td>Machoc hash</td>\n",
       "      <td>False</td>\n",
       "    </tr>\n",
       "    <tr>\n",
       "      <th>5</th>\n",
       "      <td>5</td>\n",
       "      <td>RStudio-Server</td>\n",
       "      <td>8ed496fd927bf12ab2680275d12ae8d239c77f426345e8...</td>\n",
       "      <td>4364</td>\n",
       "      <td>{'ssdeep': '96:mKNT20vznhw3tngiBbGBsek3Kfy2wy3...</td>\n",
       "      <td>sdhash hash</td>\n",
       "      <td>{'tlsh': 'T150918C52B0542BB67974A378DBB71467E3...</td>\n",
       "      <td>Machoc hash</td>\n",
       "      <td>False</td>\n",
       "    </tr>\n",
       "    <tr>\n",
       "      <th>...</th>\n",
       "      <td>...</td>\n",
       "      <td>...</td>\n",
       "      <td>...</td>\n",
       "      <td>...</td>\n",
       "      <td>...</td>\n",
       "      <td>...</td>\n",
       "      <td>...</td>\n",
       "      <td>...</td>\n",
       "      <td>...</td>\n",
       "    </tr>\n",
       "    <tr>\n",
       "      <th>1983</th>\n",
       "      <td>1983</td>\n",
       "      <td>help2man</td>\n",
       "      <td>79bbee7e82e8cab0f238bc135ec79543a071371cddeb11...</td>\n",
       "      <td>19871</td>\n",
       "      <td>{'ssdeep': '384:sALj4CCJ8/eQyWvPX+ejZbCOL3npSe...</td>\n",
       "      <td>sdhash hash</td>\n",
       "      <td>{'tlsh': 'T13092F805EA2A8637B15301F77FDA54D09B...</td>\n",
       "      <td>Machoc hash</td>\n",
       "      <td>False</td>\n",
       "    </tr>\n",
       "    <tr>\n",
       "      <th>1984</th>\n",
       "      <td>1984</td>\n",
       "      <td>help2man</td>\n",
       "      <td>2a1400af01f63f02b64889eb203ed60eee4014a4d4ded2...</td>\n",
       "      <td>19896</td>\n",
       "      <td>{'ssdeep': '384:svLjrCCJ8/eQrvPX+ejZbCOL3npSeL...</td>\n",
       "      <td>sdhash hash</td>\n",
       "      <td>{'tlsh': 'T1EC92F905EA2A8637B15301F77FDA54C09B...</td>\n",
       "      <td>Machoc hash</td>\n",
       "      <td>False</td>\n",
       "    </tr>\n",
       "    <tr>\n",
       "      <th>1985</th>\n",
       "      <td>1985</td>\n",
       "      <td>help2man</td>\n",
       "      <td>4b4f9faa682356601be5fb4ecd94d0761b41a877aebe42...</td>\n",
       "      <td>20063</td>\n",
       "      <td>{'ssdeep': '384:sBLdhCCJ8rwQ0EvrX+rjZbOeL3npSe...</td>\n",
       "      <td>sdhash hash</td>\n",
       "      <td>{'tlsh': 'T16B92F905EA1A8677B25301F77FDAA4C097...</td>\n",
       "      <td>Machoc hash</td>\n",
       "      <td>False</td>\n",
       "    </tr>\n",
       "    <tr>\n",
       "      <th>1986</th>\n",
       "      <td>1986</td>\n",
       "      <td>help2man</td>\n",
       "      <td>16d420a69b74f3ec081ffae840653e2246ab4758d85e38...</td>\n",
       "      <td>20063</td>\n",
       "      <td>{'ssdeep': '384:sBLdkCCJ8rwQ0EvrX+rjZbOeL3npSe...</td>\n",
       "      <td>sdhash hash</td>\n",
       "      <td>{'tlsh': 'T12C92F905EA1A8677B25301F77FDAA4C097...</td>\n",
       "      <td>Machoc hash</td>\n",
       "      <td>False</td>\n",
       "    </tr>\n",
       "    <tr>\n",
       "      <th>1987</th>\n",
       "      <td>1987</td>\n",
       "      <td>help2man</td>\n",
       "      <td>982697334fef2dab34b4393832e7011a74a92ff05fd426...</td>\n",
       "      <td>20051</td>\n",
       "      <td>{'ssdeep': '384:sDLjOCCJ8/eQrvPX+rjZb2OL3npSeL...</td>\n",
       "      <td>sdhash hash</td>\n",
       "      <td>{'tlsh': 'T192920A04EA1A8677B25301F77FDA94C097...</td>\n",
       "      <td>Machoc hash</td>\n",
       "      <td>False</td>\n",
       "    </tr>\n",
       "  </tbody>\n",
       "</table>\n",
       "<p>1664 rows × 9 columns</p>\n",
       "</div>"
      ],
      "text/plain": [
       "       _id          family                                             SHA256  \\\n",
       "0        0         DIAMOND  bdbbc7d10475610a47665613a15b523692f2e586e495bf...   \n",
       "1        1         DIAMOND  3e5b9caaa8ec0488d0ef6649fa3205af16cd286921fdf3...   \n",
       "2        2         DIAMOND  3e7c7a7415567a30a6131c959448e136c1c4cd25e2755d...   \n",
       "3        3         DIAMOND  6336bd767371ef854def756641f8af86dd591e62170eb8...   \n",
       "5        5  RStudio-Server  8ed496fd927bf12ab2680275d12ae8d239c77f426345e8...   \n",
       "...    ...             ...                                                ...   \n",
       "1983  1983        help2man  79bbee7e82e8cab0f238bc135ec79543a071371cddeb11...   \n",
       "1984  1984        help2man  2a1400af01f63f02b64889eb203ed60eee4014a4d4ded2...   \n",
       "1985  1985        help2man  4b4f9faa682356601be5fb4ecd94d0761b41a877aebe42...   \n",
       "1986  1986        help2man  16d420a69b74f3ec081ffae840653e2246ab4758d85e38...   \n",
       "1987  1987        help2man  982697334fef2dab34b4393832e7011a74a92ff05fd426...   \n",
       "\n",
       "      file_size                                             ssdeep  \\\n",
       "0       1744592  {'ssdeep': '24576:0ZgkO8W6krEazzEHRyE5fx5j0Gkm...   \n",
       "1       1264648  {'ssdeep': '24576:N7RayWHeZhpVZNmHQ/0R223Vcqem...   \n",
       "2       7963768  {'ssdeep': '98304:O4g2u6YzoSU6Zr5CqeWRP07lRNMc...   \n",
       "3       1599192  {'ssdeep': '24576:39vHSut4l6xFkIRp1IzwbIPGVild...   \n",
       "5          4364  {'ssdeep': '96:mKNT20vznhw3tngiBbGBsek3Kfy2wy3...   \n",
       "...         ...                                                ...   \n",
       "1983      19871  {'ssdeep': '384:sALj4CCJ8/eQyWvPX+ejZbCOL3npSe...   \n",
       "1984      19896  {'ssdeep': '384:svLjrCCJ8/eQrvPX+ejZbCOL3npSeL...   \n",
       "1985      20063  {'ssdeep': '384:sBLdhCCJ8rwQ0EvrX+rjZbOeL3npSe...   \n",
       "1986      20063  {'ssdeep': '384:sBLdkCCJ8rwQ0EvrX+rjZbOeL3npSe...   \n",
       "1987      20051  {'ssdeep': '384:sDLjOCCJ8/eQrvPX+rjZb2OL3npSeL...   \n",
       "\n",
       "           sdhash                                               tlsh  \\\n",
       "0     sdhash hash  {'tlsh': 'T170858D1B66820CB9C492D53467E797F268...   \n",
       "1     sdhash hash  {'tlsh': 'T1FB457E47FAC358A8C097D538466FA1367A...   \n",
       "2     sdhash hash  {'tlsh': 'T1A3868E03E687A468C8A6C43813DB91B3ED...   \n",
       "3     sdhash hash  {'tlsh': 'T112759F1B6BA208ADC892D53457E796F26C...   \n",
       "5     sdhash hash  {'tlsh': 'T150918C52B0542BB67974A378DBB71467E3...   \n",
       "...           ...                                                ...   \n",
       "1983  sdhash hash  {'tlsh': 'T13092F805EA2A8637B15301F77FDA54D09B...   \n",
       "1984  sdhash hash  {'tlsh': 'T1EC92F905EA2A8637B15301F77FDA54C09B...   \n",
       "1985  sdhash hash  {'tlsh': 'T16B92F905EA1A8677B25301F77FDAA4C097...   \n",
       "1986  sdhash hash  {'tlsh': 'T12C92F905EA1A8677B25301F77FDAA4C097...   \n",
       "1987  sdhash hash  {'tlsh': 'T192920A04EA1A8677B25301F77FDA94C097...   \n",
       "\n",
       "           machoc  malware  \n",
       "0     Machoc hash    False  \n",
       "1     Machoc hash    False  \n",
       "2     Machoc hash    False  \n",
       "3     Machoc hash    False  \n",
       "5     Machoc hash    False  \n",
       "...           ...      ...  \n",
       "1983  Machoc hash    False  \n",
       "1984  Machoc hash    False  \n",
       "1985  Machoc hash    False  \n",
       "1986  Machoc hash    False  \n",
       "1987  Machoc hash    False  \n",
       "\n",
       "[1664 rows x 9 columns]"
      ]
     },
     "execution_count": 164,
     "metadata": {},
     "output_type": "execute_result"
    }
   ],
   "source": [
    "scicore_filtered[\"malware\"] = False\n",
    "scicore_filtered"
   ]
  },
  {
   "cell_type": "code",
   "execution_count": null,
   "id": "2da36ab8708098c4",
   "metadata": {
    "ExecuteTime": {
     "end_time": "2023-12-04T09:32:17.134965Z",
     "start_time": "2023-12-04T09:32:17.054502Z"
    },
    "collapsed": false
   },
   "outputs": [
    {
     "data": {
      "text/html": [
       "<div>\n",
       "<style scoped>\n",
       "    .dataframe tbody tr th:only-of-type {\n",
       "        vertical-align: middle;\n",
       "    }\n",
       "\n",
       "    .dataframe tbody tr th {\n",
       "        vertical-align: top;\n",
       "    }\n",
       "\n",
       "    .dataframe thead th {\n",
       "        text-align: right;\n",
       "    }\n",
       "</style>\n",
       "<table border=\"1\" class=\"dataframe\">\n",
       "  <thead>\n",
       "    <tr style=\"text-align: right;\">\n",
       "      <th></th>\n",
       "      <th>_id</th>\n",
       "      <th>family</th>\n",
       "      <th>SHA256</th>\n",
       "      <th>file_size</th>\n",
       "      <th>ssdeep</th>\n",
       "      <th>sdhash</th>\n",
       "      <th>tlsh</th>\n",
       "      <th>machoc</th>\n",
       "      <th>malware</th>\n",
       "    </tr>\n",
       "  </thead>\n",
       "  <tbody>\n",
       "    <tr>\n",
       "      <th>0</th>\n",
       "      <td>0</td>\n",
       "      <td>DIAMOND</td>\n",
       "      <td>bdbbc7d10475610a47665613a15b523692f2e586e495bf...</td>\n",
       "      <td>1744592</td>\n",
       "      <td>{'ssdeep': '24576:0ZgkO8W6krEazzEHRyE5fx5j0Gkm...</td>\n",
       "      <td>sdhash hash</td>\n",
       "      <td>{'tlsh': 'T170858D1B66820CB9C492D53467E797F268...</td>\n",
       "      <td>Machoc hash</td>\n",
       "      <td>False</td>\n",
       "    </tr>\n",
       "    <tr>\n",
       "      <th>1</th>\n",
       "      <td>1</td>\n",
       "      <td>DIAMOND</td>\n",
       "      <td>3e5b9caaa8ec0488d0ef6649fa3205af16cd286921fdf3...</td>\n",
       "      <td>1264648</td>\n",
       "      <td>{'ssdeep': '24576:N7RayWHeZhpVZNmHQ/0R223Vcqem...</td>\n",
       "      <td>sdhash hash</td>\n",
       "      <td>{'tlsh': 'T1FB457E47FAC358A8C097D538466FA1367A...</td>\n",
       "      <td>Machoc hash</td>\n",
       "      <td>False</td>\n",
       "    </tr>\n",
       "    <tr>\n",
       "      <th>2</th>\n",
       "      <td>2</td>\n",
       "      <td>DIAMOND</td>\n",
       "      <td>3e7c7a7415567a30a6131c959448e136c1c4cd25e2755d...</td>\n",
       "      <td>7963768</td>\n",
       "      <td>{'ssdeep': '98304:O4g2u6YzoSU6Zr5CqeWRP07lRNMc...</td>\n",
       "      <td>sdhash hash</td>\n",
       "      <td>{'tlsh': 'T1A3868E03E687A468C8A6C43813DB91B3ED...</td>\n",
       "      <td>Machoc hash</td>\n",
       "      <td>False</td>\n",
       "    </tr>\n",
       "    <tr>\n",
       "      <th>3</th>\n",
       "      <td>3</td>\n",
       "      <td>DIAMOND</td>\n",
       "      <td>6336bd767371ef854def756641f8af86dd591e62170eb8...</td>\n",
       "      <td>1599192</td>\n",
       "      <td>{'ssdeep': '24576:39vHSut4l6xFkIRp1IzwbIPGVild...</td>\n",
       "      <td>sdhash hash</td>\n",
       "      <td>{'tlsh': 'T112759F1B6BA208ADC892D53457E796F26C...</td>\n",
       "      <td>Machoc hash</td>\n",
       "      <td>False</td>\n",
       "    </tr>\n",
       "    <tr>\n",
       "      <th>5</th>\n",
       "      <td>5</td>\n",
       "      <td>RStudio-Server</td>\n",
       "      <td>8ed496fd927bf12ab2680275d12ae8d239c77f426345e8...</td>\n",
       "      <td>4364</td>\n",
       "      <td>{'ssdeep': '96:mKNT20vznhw3tngiBbGBsek3Kfy2wy3...</td>\n",
       "      <td>sdhash hash</td>\n",
       "      <td>{'tlsh': 'T150918C52B0542BB67974A378DBB71467E3...</td>\n",
       "      <td>Machoc hash</td>\n",
       "      <td>False</td>\n",
       "    </tr>\n",
       "    <tr>\n",
       "      <th>...</th>\n",
       "      <td>...</td>\n",
       "      <td>...</td>\n",
       "      <td>...</td>\n",
       "      <td>...</td>\n",
       "      <td>...</td>\n",
       "      <td>...</td>\n",
       "      <td>...</td>\n",
       "      <td>...</td>\n",
       "      <td>...</td>\n",
       "    </tr>\n",
       "    <tr>\n",
       "      <th>161</th>\n",
       "      <td>65639a223624482ac9d2da93</td>\n",
       "      <td>Ngrbot</td>\n",
       "      <td>d9cd2115235cf1e90c5710987d381c04ff9fd0878b7770...</td>\n",
       "      <td>96256</td>\n",
       "      <td>{'ssdeep': '1536:xrvdNsU4+A/YSRO2b+3jLhUQfPamY...</td>\n",
       "      <td>sdhash hash</td>\n",
       "      <td>{'tlsh': 'T17F935B22F940D078F2E1107DF1F8EF7A89...</td>\n",
       "      <td>Machoc hash</td>\n",
       "      <td>True</td>\n",
       "    </tr>\n",
       "    <tr>\n",
       "      <th>162</th>\n",
       "      <td>65637a963624482ac9d1a2ff</td>\n",
       "      <td>Bashlite</td>\n",
       "      <td>24269cb11b1c69d15ff4875cf12e6447464c1fd32f3982...</td>\n",
       "      <td>91981</td>\n",
       "      <td>{'ssdeep': '1536:4tQ1wY5Tv9Iuja/I6rxqRT3KvpUbz...</td>\n",
       "      <td>sdhash hash</td>\n",
       "      <td>{'tlsh': 'T135933AC6B780DAB3D0431AB612ABA71501...</td>\n",
       "      <td>Machoc hash</td>\n",
       "      <td>True</td>\n",
       "    </tr>\n",
       "    <tr>\n",
       "      <th>163</th>\n",
       "      <td>65637dab3624482ac9d1de9c</td>\n",
       "      <td>Bashlite</td>\n",
       "      <td>f0aefaf8fd66bbf2b0cf12031f2fe108fde32402dc5685...</td>\n",
       "      <td>201093</td>\n",
       "      <td>{'ssdeep': '6144:+U8SgH7xUbetJ8auIiA/+aGnR/A3V...</td>\n",
       "      <td>sdhash hash</td>\n",
       "      <td>{'tlsh': 'T135145C569549DAB7D4830FB111EB972905...</td>\n",
       "      <td>Machoc hash</td>\n",
       "      <td>True</td>\n",
       "    </tr>\n",
       "    <tr>\n",
       "      <th>164</th>\n",
       "      <td>656386923624482ac9d20f8e</td>\n",
       "      <td>CVE-2017-11882</td>\n",
       "      <td>c1437395619147693b12be9f5d0f95e39d10862c641d8e...</td>\n",
       "      <td>11441</td>\n",
       "      <td>{'ssdeep': '192:PBwuIZ2N6hajnUBiYD2h0vo5xLX93Q...</td>\n",
       "      <td>sdhash hash</td>\n",
       "      <td>{'tlsh': 'T1E6329E70E8527138C67B98BC107708FEE7...</td>\n",
       "      <td>Machoc hash</td>\n",
       "      <td>True</td>\n",
       "    </tr>\n",
       "    <tr>\n",
       "      <th>165</th>\n",
       "      <td>65639afc3624482ac9d2e6d6</td>\n",
       "      <td>QtBot</td>\n",
       "      <td>16eb26ad56427f103b997b8f1bef7fcd42826358f0f68a...</td>\n",
       "      <td>1663648</td>\n",
       "      <td>{'ssdeep': '24576:alTFgtLkflWpSCipGymQkXEyhAXK...</td>\n",
       "      <td>sdhash hash</td>\n",
       "      <td>{'tlsh': 'T1E1759D827040BDB6F52F3531EC56B67187...</td>\n",
       "      <td>Machoc hash</td>\n",
       "      <td>True</td>\n",
       "    </tr>\n",
       "  </tbody>\n",
       "</table>\n",
       "<p>1830 rows × 9 columns</p>\n",
       "</div>"
      ],
      "text/plain": [
       "                          _id          family  \\\n",
       "0                           0         DIAMOND   \n",
       "1                           1         DIAMOND   \n",
       "2                           2         DIAMOND   \n",
       "3                           3         DIAMOND   \n",
       "5                           5  RStudio-Server   \n",
       "..                        ...             ...   \n",
       "161  65639a223624482ac9d2da93          Ngrbot   \n",
       "162  65637a963624482ac9d1a2ff        Bashlite   \n",
       "163  65637dab3624482ac9d1de9c        Bashlite   \n",
       "164  656386923624482ac9d20f8e  CVE-2017-11882   \n",
       "165  65639afc3624482ac9d2e6d6           QtBot   \n",
       "\n",
       "                                                SHA256  file_size  \\\n",
       "0    bdbbc7d10475610a47665613a15b523692f2e586e495bf...    1744592   \n",
       "1    3e5b9caaa8ec0488d0ef6649fa3205af16cd286921fdf3...    1264648   \n",
       "2    3e7c7a7415567a30a6131c959448e136c1c4cd25e2755d...    7963768   \n",
       "3    6336bd767371ef854def756641f8af86dd591e62170eb8...    1599192   \n",
       "5    8ed496fd927bf12ab2680275d12ae8d239c77f426345e8...       4364   \n",
       "..                                                 ...        ...   \n",
       "161  d9cd2115235cf1e90c5710987d381c04ff9fd0878b7770...      96256   \n",
       "162  24269cb11b1c69d15ff4875cf12e6447464c1fd32f3982...      91981   \n",
       "163  f0aefaf8fd66bbf2b0cf12031f2fe108fde32402dc5685...     201093   \n",
       "164  c1437395619147693b12be9f5d0f95e39d10862c641d8e...      11441   \n",
       "165  16eb26ad56427f103b997b8f1bef7fcd42826358f0f68a...    1663648   \n",
       "\n",
       "                                                ssdeep       sdhash  \\\n",
       "0    {'ssdeep': '24576:0ZgkO8W6krEazzEHRyE5fx5j0Gkm...  sdhash hash   \n",
       "1    {'ssdeep': '24576:N7RayWHeZhpVZNmHQ/0R223Vcqem...  sdhash hash   \n",
       "2    {'ssdeep': '98304:O4g2u6YzoSU6Zr5CqeWRP07lRNMc...  sdhash hash   \n",
       "3    {'ssdeep': '24576:39vHSut4l6xFkIRp1IzwbIPGVild...  sdhash hash   \n",
       "5    {'ssdeep': '96:mKNT20vznhw3tngiBbGBsek3Kfy2wy3...  sdhash hash   \n",
       "..                                                 ...          ...   \n",
       "161  {'ssdeep': '1536:xrvdNsU4+A/YSRO2b+3jLhUQfPamY...  sdhash hash   \n",
       "162  {'ssdeep': '1536:4tQ1wY5Tv9Iuja/I6rxqRT3KvpUbz...  sdhash hash   \n",
       "163  {'ssdeep': '6144:+U8SgH7xUbetJ8auIiA/+aGnR/A3V...  sdhash hash   \n",
       "164  {'ssdeep': '192:PBwuIZ2N6hajnUBiYD2h0vo5xLX93Q...  sdhash hash   \n",
       "165  {'ssdeep': '24576:alTFgtLkflWpSCipGymQkXEyhAXK...  sdhash hash   \n",
       "\n",
       "                                                  tlsh       machoc  malware  \n",
       "0    {'tlsh': 'T170858D1B66820CB9C492D53467E797F268...  Machoc hash    False  \n",
       "1    {'tlsh': 'T1FB457E47FAC358A8C097D538466FA1367A...  Machoc hash    False  \n",
       "2    {'tlsh': 'T1A3868E03E687A468C8A6C43813DB91B3ED...  Machoc hash    False  \n",
       "3    {'tlsh': 'T112759F1B6BA208ADC892D53457E796F26C...  Machoc hash    False  \n",
       "5    {'tlsh': 'T150918C52B0542BB67974A378DBB71467E3...  Machoc hash    False  \n",
       "..                                                 ...          ...      ...  \n",
       "161  {'tlsh': 'T17F935B22F940D078F2E1107DF1F8EF7A89...  Machoc hash     True  \n",
       "162  {'tlsh': 'T135933AC6B780DAB3D0431AB612ABA71501...  Machoc hash     True  \n",
       "163  {'tlsh': 'T135145C569549DAB7D4830FB111EB972905...  Machoc hash     True  \n",
       "164  {'tlsh': 'T1E6329E70E8527138C67B98BC107708FEE7...  Machoc hash     True  \n",
       "165  {'tlsh': 'T1E1759D827040BDB6F52F3531EC56B67187...  Machoc hash     True  \n",
       "\n",
       "[1830 rows x 9 columns]"
      ]
     },
     "execution_count": 165,
     "metadata": {},
     "output_type": "execute_result"
    }
   ],
   "source": [
    "size = scicore_filtered.shape[0] / 10\n",
    "malware = pd.DataFrame(list(db[\"families\"].aggregate([{\"$sample\": {\"size\": size}}])))\n",
    "malware[\"malware\"] = True\n",
    "malware\n",
    "scicore_concat = pd.concat([scicore_filtered, malware])\n",
    "\n",
    "scicore_concat"
   ]
  },
  {
   "cell_type": "markdown",
   "id": "f52b2b8d11c04de0",
   "metadata": {
    "collapsed": false
   },
   "source": [
    "### TLSH Prediction Concat\n",
    "To now correctly get the 4 essential values for the ROC curve, I will go through the concat dataset and compare to the scicore dataset. If the positive match is wrong then it is a FP. If no match gets found then it is a TN. If a scicore sample gets not matched to scicore dataset then it is a FN. If a scicore sample gets matched to a scicore sample then it is a TP."
   ]
  },
  {
   "cell_type": "code",
   "execution_count": null,
   "id": "784d00c444751075",
   "metadata": {
    "ExecuteTime": {
     "end_time": "2023-12-04T09:32:17.135266Z",
     "start_time": "2023-12-04T09:32:17.095018Z"
    },
    "collapsed": false
   },
   "outputs": [
    {
     "data": {
      "text/plain": [
       "'\\ndef tlsh_predictor_concat(threshold=1000):\\n    predict = pd.DataFrame(index=range(family_scores_tlsh.shape[0]), columns=[\"score\",\"threshold\" , \"prediction\", \"true_value\", \"malware\"])\\n    for i in range(0,scicore_concat.shape[0],1):\\n        score = 1000\\n        k = 0\\n        for j in range(0,scicore_filtered.shape[0],1):\\n            if i == j:\\n                continue\\n            tmp = tlsh.diff(scicore_concat.iloc[i][\"tlsh\"][\"tlsh\"],scicore_filtered.iloc[j][\"tlsh\"][\"tlsh\"])\\n            if score > tmp < threshold:\\n                score = tmp\\n                k = j\\n            \\n        #print(f\"score: {score}, prediction: {scicore_filtered.iloc[i][\\'family\\']}, true value: {scicore_filtered.iloc[k][\\'family\\']}\")\\n        predict.loc[i] = [score,threshold ,scicore_concat.iloc[i][\"family\"], scicore_concat.iloc[k][\"family\"],scicore_concat.iloc[i][\"malware\"]]\\n    return predict\\ndef tlsh_roc():\\n    # Initialize DataFrame for ROC values\\n    roc = pd.DataFrame(columns=[\"threshold\", \"true_positive_rate\", \"false_positive_rate\"])\\n\\n    # Iterate over each threshold\\n    for threshold in range(150,50, -10):\\n        pred = tlsh_predictor_concat(threshold)\\n        TP = (pred[\"true_value\"] == pred[\"prediction\"]).sum()\\n        FP = (pred[\"true_value\"] != pred[\"prediction\"]).sum()\\n        FN = ((pred[\"score\"] == 1000) & (pred[\"malware\"] == False)).sum()\\n        TN = ((pred[\"score\"] == 1000) & (pred[\"malware\"] == True)).sum()\\n        \\n        TPR = TP / (TP + FN) if TP + FN != 0 else 0\\n        FPR = FP / (FP + TN) if FP + TN != 0 else 0\\n        # Append results to DataFrame\\n        roc.loc[threshold] = [threshold, TPR, FPR]\\n    \\n    return roc\\n    \\n    '"
      ]
     },
     "execution_count": 166,
     "metadata": {},
     "output_type": "execute_result"
    }
   ],
   "source": [
    "\"\"\"\n",
    "def tlsh_predictor_concat(threshold=1000):\n",
    "    predict = pd.DataFrame(index=range(family_scores_tlsh.shape[0]), columns=[\"score\",\"threshold\" , \"prediction\", \"true_value\", \"malware\"])\n",
    "    for i in range(0,scicore_concat.shape[0],1):\n",
    "        score = 1000\n",
    "        k = 0\n",
    "        for j in range(0,scicore_filtered.shape[0],1):\n",
    "            if i == j:\n",
    "                continue\n",
    "            tmp = tlsh.diff(scicore_concat.iloc[i][\"tlsh\"][\"tlsh\"],scicore_filtered.iloc[j][\"tlsh\"][\"tlsh\"])\n",
    "            if score > tmp < threshold:\n",
    "                score = tmp\n",
    "                k = j\n",
    "            \n",
    "        #print(f\"score: {score}, prediction: {scicore_filtered.iloc[i]['family']}, true value: {scicore_filtered.iloc[k]['family']}\")\n",
    "        predict.loc[i] = [score,threshold ,scicore_concat.iloc[i][\"family\"], scicore_concat.iloc[k][\"family\"],scicore_concat.iloc[i][\"malware\"]]\n",
    "    return predict\n",
    "def tlsh_roc():\n",
    "    # Initialize DataFrame for ROC values\n",
    "    roc = pd.DataFrame(columns=[\"threshold\", \"true_positive_rate\", \"false_positive_rate\"])\n",
    "\n",
    "    # Iterate over each threshold\n",
    "    for threshold in range(150,50, -10):\n",
    "        pred = tlsh_predictor_concat(threshold)\n",
    "        TP = (pred[\"true_value\"] == pred[\"prediction\"]).sum()\n",
    "        FP = (pred[\"true_value\"] != pred[\"prediction\"]).sum()\n",
    "        FN = ((pred[\"score\"] == 1000) & (pred[\"malware\"] == False)).sum()\n",
    "        TN = ((pred[\"score\"] == 1000) & (pred[\"malware\"] == True)).sum()\n",
    "        \n",
    "        TPR = TP / (TP + FN) if TP + FN != 0 else 0\n",
    "        FPR = FP / (FP + TN) if FP + TN != 0 else 0\n",
    "        # Append results to DataFrame\n",
    "        roc.loc[threshold] = [threshold, TPR, FPR]\n",
    "    \n",
    "    return roc\n",
    "    \n",
    "    \"\"\""
   ]
  },
  {
   "cell_type": "code",
   "execution_count": null,
   "id": "2ec9ae8acc68416a",
   "metadata": {
    "ExecuteTime": {
     "end_time": "2023-12-04T09:32:17.143940Z",
     "start_time": "2023-12-04T09:32:17.099256Z"
    }
   },
   "outputs": [],
   "source": [
    "def tlsh_comb():\n",
    "    from itertools import combinations\n",
    "    \n",
    "    # Generate all binary combinations of the strings in the specified column\n",
    "    string_combinations = combinations(scicore_concat[['tlsh', 'family', 'malware']].iterrows(), 2)\n",
    "    \n",
    "    # Apply tlsh.diff to each combination\n",
    "    results = []\n",
    "    for (idx1, row1), (idx2, row2) in string_combinations:\n",
    "        diff_score = tlsh.diff(row1['tlsh'][\"tlsh\"], row2['tlsh'][\"tlsh\"])\n",
    "        results.append((row1['family'], row2['family'], row1['malware'], row2['malware'], row1['tlsh']['tlsh'], row2['tlsh']['tlsh'], diff_score))\n",
    "    \n",
    "    # Convert results to DataFrame\n",
    "    results_df = pd.DataFrame(results, columns=['Family 1', 'Family 2', 'Malware 1', \"Malware 2\", 'TLSH 1', 'TLSH 2', 'Diff Score'])\n",
    "    \n",
    "    return results_df\n"
   ]
  },
  {
   "cell_type": "code",
   "execution_count": null,
   "id": "6076ac44eb3cc057",
   "metadata": {
    "ExecuteTime": {
     "end_time": "2023-12-04T09:32:35.184606Z",
     "start_time": "2023-12-04T09:32:17.286833Z"
    },
    "collapsed": false
   },
   "outputs": [
    {
     "data": {
      "text/plain": [
       "0.6505037783375315"
      ]
     },
     "execution_count": 168,
     "metadata": {},
     "output_type": "execute_result"
    }
   ],
   "source": [
    "results_df = tlsh_comb()\n",
    "p = results_df.loc[results_df.groupby(\"TLSH 1\")[\"Diff Score\"].idxmin()]\n",
    "\n",
    "p = p[p[\"Malware 2\"] != True]\n",
    "\n",
    "(p[\"Family 1\"] == p[\"Family 2\"]).sum() / p.shape[0]"
   ]
  },
  {
   "cell_type": "code",
   "execution_count": null,
   "id": "afa07581491e4ada",
   "metadata": {
    "ExecuteTime": {
     "end_time": "2023-12-04T09:41:49.093519Z",
     "start_time": "2023-12-04T09:41:48.492737Z"
    },
    "collapsed": false
   },
   "outputs": [
    {
     "data": {
      "text/html": [
       "<div>\n",
       "<style scoped>\n",
       "    .dataframe tbody tr th:only-of-type {\n",
       "        vertical-align: middle;\n",
       "    }\n",
       "\n",
       "    .dataframe tbody tr th {\n",
       "        vertical-align: top;\n",
       "    }\n",
       "\n",
       "    .dataframe thead th {\n",
       "        text-align: right;\n",
       "    }\n",
       "</style>\n",
       "<table border=\"1\" class=\"dataframe\">\n",
       "  <thead>\n",
       "    <tr style=\"text-align: right;\">\n",
       "      <th></th>\n",
       "      <th>threshold</th>\n",
       "      <th>true_positive_rate</th>\n",
       "      <th>false_positive_rate</th>\n",
       "    </tr>\n",
       "  </thead>\n",
       "  <tbody>\n",
       "    <tr>\n",
       "      <th>0</th>\n",
       "      <td>0.0</td>\n",
       "      <td>0.000000</td>\n",
       "      <td>0.000000</td>\n",
       "    </tr>\n",
       "    <tr>\n",
       "      <th>1</th>\n",
       "      <td>1.0</td>\n",
       "      <td>0.253731</td>\n",
       "      <td>0.032609</td>\n",
       "    </tr>\n",
       "    <tr>\n",
       "      <th>2</th>\n",
       "      <td>2.0</td>\n",
       "      <td>0.430233</td>\n",
       "      <td>0.036585</td>\n",
       "    </tr>\n",
       "    <tr>\n",
       "      <th>3</th>\n",
       "      <td>3.0</td>\n",
       "      <td>0.486772</td>\n",
       "      <td>0.038462</td>\n",
       "    </tr>\n",
       "    <tr>\n",
       "      <th>4</th>\n",
       "      <td>4.0</td>\n",
       "      <td>0.538095</td>\n",
       "      <td>0.040000</td>\n",
       "    </tr>\n",
       "    <tr>\n",
       "      <th>...</th>\n",
       "      <td>...</td>\n",
       "      <td>...</td>\n",
       "      <td>...</td>\n",
       "    </tr>\n",
       "    <tr>\n",
       "      <th>495</th>\n",
       "      <td>495.0</td>\n",
       "      <td>0.999033</td>\n",
       "      <td>1.000000</td>\n",
       "    </tr>\n",
       "    <tr>\n",
       "      <th>496</th>\n",
       "      <td>496.0</td>\n",
       "      <td>0.999033</td>\n",
       "      <td>1.000000</td>\n",
       "    </tr>\n",
       "    <tr>\n",
       "      <th>497</th>\n",
       "      <td>497.0</td>\n",
       "      <td>0.999033</td>\n",
       "      <td>1.000000</td>\n",
       "    </tr>\n",
       "    <tr>\n",
       "      <th>498</th>\n",
       "      <td>498.0</td>\n",
       "      <td>0.999033</td>\n",
       "      <td>1.000000</td>\n",
       "    </tr>\n",
       "    <tr>\n",
       "      <th>499</th>\n",
       "      <td>499.0</td>\n",
       "      <td>0.999033</td>\n",
       "      <td>1.000000</td>\n",
       "    </tr>\n",
       "  </tbody>\n",
       "</table>\n",
       "<p>500 rows × 3 columns</p>\n",
       "</div>"
      ],
      "text/plain": [
       "     threshold  true_positive_rate  false_positive_rate\n",
       "0          0.0            0.000000             0.000000\n",
       "1          1.0            0.253731             0.032609\n",
       "2          2.0            0.430233             0.036585\n",
       "3          3.0            0.486772             0.038462\n",
       "4          4.0            0.538095             0.040000\n",
       "..         ...                 ...                  ...\n",
       "495      495.0            0.999033             1.000000\n",
       "496      496.0            0.999033             1.000000\n",
       "497      497.0            0.999033             1.000000\n",
       "498      498.0            0.999033             1.000000\n",
       "499      499.0            0.999033             1.000000\n",
       "\n",
       "[500 rows x 3 columns]"
      ]
     },
     "execution_count": 230,
     "metadata": {},
     "output_type": "execute_result"
    }
   ],
   "source": [
    "def tlsh_thresh(s):\n",
    "    s = s.loc[results_df.groupby(\"TLSH 1\")[\"Diff Score\"].idxmin()]\n",
    "    ssdeep_th = pd.DataFrame(columns=[\"threshold\", \"true_positive_rate\", \"false_positive_rate\"])\n",
    "    comp_to_sci = s[s[\"Malware 2\"] == False]\n",
    "    compt_to_malware = s[s[\"Malware 2\"] == True]\n",
    "    for i in range (0,500,1):\n",
    "        \n",
    "        sci_th = comp_to_sci[comp_to_sci[\"Diff Score\"] < i]\n",
    "        mal_th = compt_to_malware[compt_to_malware[\"Diff Score\"] < i]\n",
    "        f_th = compt_to_malware[compt_to_malware[\"Diff Score\"] >= i]\n",
    "        \n",
    "        TP = (sci_th[\"Family 1\"] == sci_th[\"Family 2\"]).sum()\n",
    "        FP = (sci_th[\"Family 1\"] != sci_th[\"Family 2\"]).sum()\n",
    "        FN = (f_th[\"Family 1\"] != f_th[\"Family 2\"]).sum()\n",
    "        TN = (f_th[\"Family 1\"] == f_th[\"Family 2\"]).sum()\n",
    "        \n",
    "        TPR = TP / (TP + FN) if TP + FN != 0 else 0\n",
    "        FPR = FP / (FP + TN) if FP + TN != 0 else 0\n",
    "        # Append results to DataFrame\n",
    "        ssdeep_th.loc[i] = [i, TPR, FPR]\n",
    "    return ssdeep_th\n",
    "p = tlsh_thresh(results_df)\n",
    "p"
   ]
  },
  {
   "cell_type": "code",
   "execution_count": null,
   "id": "e4d631856bf76777",
   "metadata": {
    "ExecuteTime": {
     "end_time": "2023-12-04T09:41:49.097789Z",
     "start_time": "2023-12-04T09:41:49.095396Z"
    },
    "collapsed": false
   },
   "outputs": [
    {
     "data": {
      "text/plain": [
       "25"
      ]
     },
     "execution_count": 231,
     "metadata": {},
     "output_type": "execute_result"
    }
   ],
   "source": [
    "(p[\"true_positive_rate\"] - p[\"false_positive_rate\"]).abs().idxmax()"
   ]
  },
  {
   "cell_type": "code",
   "execution_count": null,
   "id": "9481ada24fa54a52",
   "metadata": {
    "ExecuteTime": {
     "end_time": "2023-12-04T09:41:49.256159Z",
     "start_time": "2023-12-04T09:41:49.100823Z"
    },
    "collapsed": false
   },
   "outputs": [
    {
     "data": {
      "image/png": "[encoded data removed]",
      "text/plain": [
       "<Figure size 640x480 with 1 Axes>"
      ]
     },
     "metadata": {},
     "output_type": "display_data"
    }
   ],
   "source": [
    "p.plot(x=\"false_positive_rate\", y=\"true_positive_rate\", xlim=(0, 1), ylim=(0, 1),title=\"ROC Curve for TLSH\", legend=False)\n",
    "plt.show()"
   ]
  },
  {
   "cell_type": "markdown",
   "id": "6299bcee1c2e9a3f",
   "metadata": {
    "collapsed": false
   },
   "source": [
    "With a threshold of 30 we get the best ratio of true positive rate and false positive rate. The true positive rate is 0.81 and the false positive rate is 0.19."
   ]
  },
  {
   "cell_type": "code",
   "execution_count": null,
   "id": "c4c3d1833b7b33db",
   "metadata": {
    "ExecuteTime": {
     "end_time": "2023-12-04T09:32:37.884659Z",
     "start_time": "2023-12-04T09:32:37.871123Z"
    },
    "collapsed": false
   },
   "outputs": [
    {
     "data": {
      "text/plain": [
       "'\\nall_hashes = scicore_concat[\"tlsh\"].map(lambda x: x[\"tlsh\"])\\n\\n# drop all rows where \\'Malware 2\\' is True\\n\\npredict = pd.DataFrame(index=range(all_hashes.shape[0]), columns=[\"score\", \"threshold\" , \"prediction\", \"true_value\", \"malware\", \"trash\"])\\nfor fam in all_hashes:\\n    fam_df = results_df[results_df[\"TLSH 1\"] == fam]\\n    result = results_df[results_df[\"TLSH 1\"] == fam].sort_values(\"Diff Score\")\\n    for th in range(0,310,10):\\n        result_th = result[result[\"Diff Score\"] < th]\\n        if result_th.shape[0] == 0:\\n            predict.loc[fam] = [1000,th, \"No Match\", fam, result[\"Malware 1\"].iloc[0], result[\"Malware 2\"].iloc[0]]\\n            continue\\n        result_s = result_th.sort_values(\"Diff Score\").iloc[0]\\n        score = result_s[\"Diff Score\"]\\n        prediction = result_s[\"Family 2\"]\\n        malware = result_s[\"Malware 1\"]\\n        trash = result_s[\"Malware 2\"]\\n        predict.loc[fam] = [score,th, prediction, fam, malware,trash]\\n'"
      ]
     },
     "execution_count": 172,
     "metadata": {},
     "output_type": "execute_result"
    }
   ],
   "source": [
    "\"\"\"\n",
    "all_hashes = scicore_concat[\"tlsh\"].map(lambda x: x[\"tlsh\"])\n",
    "\n",
    "# drop all rows where 'Malware 2' is True\n",
    "\n",
    "predict = pd.DataFrame(index=range(all_hashes.shape[0]), columns=[\"score\", \"threshold\" , \"prediction\", \"true_value\", \"malware\", \"trash\"])\n",
    "for fam in all_hashes:\n",
    "    fam_df = results_df[results_df[\"TLSH 1\"] == fam]\n",
    "    result = results_df[results_df[\"TLSH 1\"] == fam].sort_values(\"Diff Score\")\n",
    "    for th in range(0,310,10):\n",
    "        result_th = result[result[\"Diff Score\"] < th]\n",
    "        if result_th.shape[0] == 0:\n",
    "            predict.loc[fam] = [1000,th, \"No Match\", fam, result[\"Malware 1\"].iloc[0], result[\"Malware 2\"].iloc[0]]\n",
    "            continue\n",
    "        result_s = result_th.sort_values(\"Diff Score\").iloc[0]\n",
    "        score = result_s[\"Diff Score\"]\n",
    "        prediction = result_s[\"Family 2\"]\n",
    "        malware = result_s[\"Malware 1\"]\n",
    "        trash = result_s[\"Malware 2\"]\n",
    "        predict.loc[fam] = [score,th, prediction, fam, malware,trash]\n",
    "\"\"\"\n",
    "        \n",
    "    "
   ]
  },
  {
   "cell_type": "markdown",
   "id": "4e3623cf049a754f",
   "metadata": {
    "collapsed": false
   },
   "source": [
    "# SSDEEP"
   ]
  },
  {
   "cell_type": "code",
   "execution_count": null,
   "id": "808067460567d11b",
   "metadata": {
    "ExecuteTime": {
     "end_time": "2023-12-04T09:32:37.884906Z",
     "start_time": "2023-12-04T09:32:37.879089Z"
    },
    "collapsed": false
   },
   "outputs": [
    {
     "data": {
      "text/html": [
       "<div>\n",
       "<style scoped>\n",
       "    .dataframe tbody tr th:only-of-type {\n",
       "        vertical-align: middle;\n",
       "    }\n",
       "\n",
       "    .dataframe tbody tr th {\n",
       "        vertical-align: top;\n",
       "    }\n",
       "\n",
       "    .dataframe thead th {\n",
       "        text-align: right;\n",
       "    }\n",
       "</style>\n",
       "<table border=\"1\" class=\"dataframe\">\n",
       "  <thead>\n",
       "    <tr style=\"text-align: right;\">\n",
       "      <th></th>\n",
       "      <th>family</th>\n",
       "      <th>values</th>\n",
       "      <th>mean</th>\n",
       "      <th>median</th>\n",
       "      <th>std</th>\n",
       "      <th>amount</th>\n",
       "    </tr>\n",
       "  </thead>\n",
       "  <tbody>\n",
       "    <tr>\n",
       "      <th>0</th>\n",
       "      <td>DIAMOND</td>\n",
       "      <td>[0, 0, 0, 0, 0, 0]</td>\n",
       "      <td>0.000000</td>\n",
       "      <td>0.0</td>\n",
       "      <td>0.000000</td>\n",
       "      <td>6</td>\n",
       "    </tr>\n",
       "    <tr>\n",
       "      <th>1</th>\n",
       "      <td>RStudio-Server</td>\n",
       "      <td>[97, 93, 93, 85, 94, 94, 97, 93, 93, 93, 85, 9...</td>\n",
       "      <td>92.527778</td>\n",
       "      <td>93.0</td>\n",
       "      <td>4.065342</td>\n",
       "      <td>36</td>\n",
       "    </tr>\n",
       "    <tr>\n",
       "      <th>2</th>\n",
       "      <td>Infernal</td>\n",
       "      <td>[0, 0, 0]</td>\n",
       "      <td>0.000000</td>\n",
       "      <td>0.0</td>\n",
       "      <td>0.000000</td>\n",
       "      <td>3</td>\n",
       "    </tr>\n",
       "    <tr>\n",
       "      <th>3</th>\n",
       "      <td>FragPipe</td>\n",
       "      <td>[82]</td>\n",
       "      <td>82.000000</td>\n",
       "      <td>82.0</td>\n",
       "      <td>0.000000</td>\n",
       "      <td>1</td>\n",
       "    </tr>\n",
       "    <tr>\n",
       "      <th>4</th>\n",
       "      <td>libgd</td>\n",
       "      <td>[0, 71, 0, 0, 69, 0, 61, 0, 75, 0]</td>\n",
       "      <td>27.600000</td>\n",
       "      <td>0.0</td>\n",
       "      <td>33.956443</td>\n",
       "      <td>10</td>\n",
       "    </tr>\n",
       "    <tr>\n",
       "      <th>...</th>\n",
       "      <td>...</td>\n",
       "      <td>...</td>\n",
       "      <td>...</td>\n",
       "      <td>...</td>\n",
       "      <td>...</td>\n",
       "      <td>...</td>\n",
       "    </tr>\n",
       "    <tr>\n",
       "      <th>330</th>\n",
       "      <td>prodigal</td>\n",
       "      <td>[0, 0, 0]</td>\n",
       "      <td>0.000000</td>\n",
       "      <td>0.0</td>\n",
       "      <td>0.000000</td>\n",
       "      <td>3</td>\n",
       "    </tr>\n",
       "    <tr>\n",
       "      <th>331</th>\n",
       "      <td>Salmon</td>\n",
       "      <td>[0, 0, 0, 0, 0, 0, 0, 0, 0, 0, 0, 0, 0, 0, 0, ...</td>\n",
       "      <td>0.000000</td>\n",
       "      <td>0.0</td>\n",
       "      <td>0.000000</td>\n",
       "      <td>28</td>\n",
       "    </tr>\n",
       "    <tr>\n",
       "      <th>332</th>\n",
       "      <td>SeqPrep</td>\n",
       "      <td>[0, 0, 0, 0, 0, 0, 0, 0, 0, 0, 0, 0, 0, 0, 0, ...</td>\n",
       "      <td>0.000000</td>\n",
       "      <td>0.0</td>\n",
       "      <td>0.000000</td>\n",
       "      <td>21</td>\n",
       "    </tr>\n",
       "    <tr>\n",
       "      <th>333</th>\n",
       "      <td>Qhull</td>\n",
       "      <td>[0]</td>\n",
       "      <td>0.000000</td>\n",
       "      <td>0.0</td>\n",
       "      <td>0.000000</td>\n",
       "      <td>1</td>\n",
       "    </tr>\n",
       "    <tr>\n",
       "      <th>334</th>\n",
       "      <td>help2man</td>\n",
       "      <td>[93, 96, 100, 100, 96, 79, 79, 93, 94, 93, 93,...</td>\n",
       "      <td>89.722222</td>\n",
       "      <td>93.0</td>\n",
       "      <td>7.949882</td>\n",
       "      <td>36</td>\n",
       "    </tr>\n",
       "  </tbody>\n",
       "</table>\n",
       "<p>335 rows × 6 columns</p>\n",
       "</div>"
      ],
      "text/plain": [
       "             family                                             values  \\\n",
       "0           DIAMOND                                 [0, 0, 0, 0, 0, 0]   \n",
       "1    RStudio-Server  [97, 93, 93, 85, 94, 94, 97, 93, 93, 93, 85, 9...   \n",
       "2          Infernal                                          [0, 0, 0]   \n",
       "3          FragPipe                                               [82]   \n",
       "4             libgd                 [0, 71, 0, 0, 69, 0, 61, 0, 75, 0]   \n",
       "..              ...                                                ...   \n",
       "330        prodigal                                          [0, 0, 0]   \n",
       "331          Salmon  [0, 0, 0, 0, 0, 0, 0, 0, 0, 0, 0, 0, 0, 0, 0, ...   \n",
       "332         SeqPrep  [0, 0, 0, 0, 0, 0, 0, 0, 0, 0, 0, 0, 0, 0, 0, ...   \n",
       "333           Qhull                                                [0]   \n",
       "334        help2man  [93, 96, 100, 100, 96, 79, 79, 93, 94, 93, 93,...   \n",
       "\n",
       "          mean  median        std  amount  \n",
       "0     0.000000     0.0   0.000000       6  \n",
       "1    92.527778    93.0   4.065342      36  \n",
       "2     0.000000     0.0   0.000000       3  \n",
       "3    82.000000    82.0   0.000000       1  \n",
       "4    27.600000     0.0  33.956443      10  \n",
       "..         ...     ...        ...     ...  \n",
       "330   0.000000     0.0   0.000000       3  \n",
       "331   0.000000     0.0   0.000000      28  \n",
       "332   0.000000     0.0   0.000000      21  \n",
       "333   0.000000     0.0   0.000000       1  \n",
       "334  89.722222    93.0   7.949882      36  \n",
       "\n",
       "[335 rows x 6 columns]"
      ]
     },
     "execution_count": 173,
     "metadata": {},
     "output_type": "execute_result"
    }
   ],
   "source": [
    "# Remove redundant comparisons comparing themselfs\n",
    "c = fam_sco_ssdeep[fam_sco_ssdeep['amount'] > 3]\n",
    "c[c[\"median\"] > 0]\n",
    "fam_sco_ssdeep"
   ]
  },
  {
   "cell_type": "code",
   "execution_count": null,
   "id": "5683db91c1b1dcde",
   "metadata": {
    "ExecuteTime": {
     "end_time": "2023-12-04T09:32:37.973200Z",
     "start_time": "2023-12-04T09:32:37.881184Z"
    },
    "collapsed": false
   },
   "outputs": [
    {
     "data": {
      "image/png": "[encoded data removed]",
      "text/plain": [
       "<Figure size 640x480 with 1 Axes>"
      ]
     },
     "metadata": {},
     "output_type": "display_data"
    }
   ],
   "source": [
    "fam_sco_ssdeep.boxplot(\"mean\")\n",
    "plt.title(\"Boxplot of the mean distribution of ssdeep scores\")\n",
    "plt.show()"
   ]
  },
  {
   "cell_type": "markdown",
   "id": "6174b09213bc0e82",
   "metadata": {
    "collapsed": false
   },
   "source": [
    "Interestingly, the ssdeep scores are much worse compared to the TLSH scores. The mean lies at around 0, which indicates no match and is therefore definitely not a good fuzzy hasher for this dataset."
   ]
  },
  {
   "cell_type": "markdown",
   "id": "d7c6452b87b449d9",
   "metadata": {
    "collapsed": false
   },
   "source": [
    "## SSDEEP Prediction\n",
    "\n",
    "First I will define a function that will predict the family of a sample based on the score of the comparison. The score is the maximum score of the comparison of the sample to all other samples. If the score is 0, there is no match and the prediction is \"No Match\". If the score is higher than 0, the prediction is the family with the highest score, based on the threshold. Second, I will define a function that will calculate the ROC curve based on the predictions on the given thresholds."
   ]
  },
  {
   "cell_type": "code",
   "execution_count": null,
   "id": "b231b0bb38d5e38",
   "metadata": {
    "ExecuteTime": {
     "end_time": "2023-12-04T09:32:37.988054Z",
     "start_time": "2023-12-04T09:32:37.942485Z"
    },
    "collapsed": false
   },
   "outputs": [],
   "source": [
    "def predictor(threshhold=0, hasher=\"ssdeep\"):\n",
    "\n",
    "    predict = pd.DataFrame(index=range(scicore_concat.shape[0]), columns=[\"score\", \"prediction\", \"true_value\", \"malware\"])\n",
    "    \n",
    "    for i in range(scicore_concat.shape[0]):\n",
    "        tmp = compare_sample(i, hasher)\n",
    "        tmp.loc[i, \"score\"] = 0  # Set the score of the i-th sample to 0 because it is compared to itself\n",
    "        max_score = tmp[\"score\"].max()\n",
    "        \n",
    "        if max_score == 0 or max_score <= threshhold:\n",
    "            #ic(\"No match\")\n",
    "            predict.loc[i] = [0, \"No Match\", scicore_concat.iloc[i][\"family\"], scicore_concat.iloc[i][\"malware\"]]\n",
    "        else:\n",
    "            max_score_idx = tmp[\"score\"].idxmax()\n",
    "            prediction = tmp.loc[max_score_idx, \"family\"]\n",
    "            true_value = scicore_concat.iloc[i][\"family\"]\n",
    "            predict.loc[i] = [max_score, prediction, true_value, scicore_concat.iloc[i][\"malware\"]]\n",
    "    \n",
    "    return predict"
   ]
  },
  {
   "cell_type": "code",
   "execution_count": null,
   "id": "d683f693236926fb",
   "metadata": {
    "ExecuteTime": {
     "end_time": "2023-12-04T09:32:37.990353Z",
     "start_time": "2023-12-04T09:32:37.949089Z"
    },
    "collapsed": false
   },
   "outputs": [],
   "source": [
    "def roc(predi):\n",
    "    # Initialize DataFrame for ROC values\n",
    "    roc = pd.DataFrame(columns=[\"threshold\", \"true_positive_rate\", \"false_positive_rate\"])\n",
    "\n",
    "    # Iterate over each threshold\n",
    "    for threshold in range(10, 100, 10):\n",
    "   \n",
    "        pred = predi[pred[\"score\"] > threshold]\n",
    "        \n",
    "        TP = (pred[\"true_value\"] == pred[\"prediction\"]).sum()\n",
    "        FP = (pred[\"true_value\"] != pred[\"prediction\"]).sum()\n",
    "        FN = ((pred[\"prediction\"] == \"No Match\") & (pred[\"malware\"] == False)).sum()\n",
    "        TN = ((pred[\"prediction\"] == \"No Match\") & (pred[\"malware\"] == True)).sum()\n",
    "        \n",
    "        TPR = TP / (TP + FN) if TP + FN != 0 else 0\n",
    "        FPR = FP / (FP + TN) if FP + TN != 0 else 0\n",
    "        # Append results to DataFrame\n",
    "        roc.loc[threshold] = [threshold, TPR, FPR]\n",
    "        ic(threshold, TPR, FPR)\n",
    "    return roc\n"
   ]
  },
  {
   "cell_type": "code",
   "execution_count": null,
   "id": "3104740798592709",
   "metadata": {
    "ExecuteTime": {
     "end_time": "2023-12-04T09:32:37.990445Z",
     "start_time": "2023-12-04T09:32:37.953154Z"
    },
    "collapsed": false
   },
   "outputs": [],
   "source": [
    "def ssdeep_comb():\n",
    "    from itertools import combinations\n",
    "    \n",
    "    # Generate all binary combinations of the strings in the specified column\n",
    "    string_combinations = combinations(scicore_concat[['ssdeep', 'family', 'malware']].iterrows(), 2)\n",
    "    \n",
    "    # Apply tlsh.diff to each combination\n",
    "    results = []\n",
    "    for (idx1, row1), (idx2, row2) in string_combinations:\n",
    "        diff_score = ssdeep.compare(row1['ssdeep'][\"ssdeep\"], row2['ssdeep'][\"ssdeep\"])\n",
    "        results.append((row1['family'], row2['family'], row1['malware'], row2['malware'], row1['ssdeep']['ssdeep'], row2['ssdeep']['ssdeep'], diff_score))\n",
    "    \n",
    "    # Convert results to DataFrame\n",
    "    results_df = pd.DataFrame(results, columns=['Family 1', 'Family 2', 'Malware 1', \"Malware 2\", 'ssdeep 1', 'ssdeep 2', 'Diff Score'])\n",
    "    \n",
    "    return results_df"
   ]
  },
  {
   "cell_type": "code",
   "execution_count": null,
   "id": "d323d49926dddbe0",
   "metadata": {
    "ExecuteTime": {
     "end_time": "2023-12-04T09:32:57.563506Z",
     "start_time": "2023-12-04T09:32:37.969653Z"
    },
    "collapsed": false
   },
   "outputs": [],
   "source": [
    "result_ssdeep = ssdeep_comb()"
   ]
  },
  {
   "cell_type": "code",
   "execution_count": null,
   "id": "70aad8659b3d40b0",
   "metadata": {
    "ExecuteTime": {
     "end_time": "2023-12-04T09:32:57.570034Z",
     "start_time": "2023-12-04T09:32:57.567486Z"
    },
    "collapsed": false
   },
   "outputs": [
    {
     "data": {
      "text/html": [
       "<div>\n",
       "<style scoped>\n",
       "    .dataframe tbody tr th:only-of-type {\n",
       "        vertical-align: middle;\n",
       "    }\n",
       "\n",
       "    .dataframe tbody tr th {\n",
       "        vertical-align: top;\n",
       "    }\n",
       "\n",
       "    .dataframe thead th {\n",
       "        text-align: right;\n",
       "    }\n",
       "</style>\n",
       "<table border=\"1\" class=\"dataframe\">\n",
       "  <thead>\n",
       "    <tr style=\"text-align: right;\">\n",
       "      <th></th>\n",
       "      <th>Family 1</th>\n",
       "      <th>Family 2</th>\n",
       "      <th>Malware 1</th>\n",
       "      <th>Malware 2</th>\n",
       "      <th>ssdeep 1</th>\n",
       "      <th>ssdeep 2</th>\n",
       "      <th>Diff Score</th>\n",
       "    </tr>\n",
       "  </thead>\n",
       "  <tbody>\n",
       "    <tr>\n",
       "      <th>0</th>\n",
       "      <td>DIAMOND</td>\n",
       "      <td>DIAMOND</td>\n",
       "      <td>False</td>\n",
       "      <td>False</td>\n",
       "      <td>24576:0ZgkO8W6krEazzEHRyE5fx5j0Gkmbc4/EnbL6kS1...</td>\n",
       "      <td>24576:N7RayWHeZhpVZNmHQ/0R223Vcqemo8hS1QOq:ray...</td>\n",
       "      <td>0</td>\n",
       "    </tr>\n",
       "    <tr>\n",
       "      <th>1</th>\n",
       "      <td>DIAMOND</td>\n",
       "      <td>DIAMOND</td>\n",
       "      <td>False</td>\n",
       "      <td>False</td>\n",
       "      <td>24576:0ZgkO8W6krEazzEHRyE5fx5j0Gkmbc4/EnbL6kS1...</td>\n",
       "      <td>98304:O4g2u6YzoSU6Zr5CqeWRP07lRNMceRe/ai8Qt5vj...</td>\n",
       "      <td>0</td>\n",
       "    </tr>\n",
       "    <tr>\n",
       "      <th>2</th>\n",
       "      <td>DIAMOND</td>\n",
       "      <td>DIAMOND</td>\n",
       "      <td>False</td>\n",
       "      <td>False</td>\n",
       "      <td>24576:0ZgkO8W6krEazzEHRyE5fx5j0Gkmbc4/EnbL6kS1...</td>\n",
       "      <td>24576:39vHSut4l6xFkIRp1IzwbIPGVildRLdJNyZJfkD7...</td>\n",
       "      <td>0</td>\n",
       "    </tr>\n",
       "    <tr>\n",
       "      <th>3</th>\n",
       "      <td>DIAMOND</td>\n",
       "      <td>RStudio-Server</td>\n",
       "      <td>False</td>\n",
       "      <td>False</td>\n",
       "      <td>24576:0ZgkO8W6krEazzEHRyE5fx5j0Gkmbc4/EnbL6kS1...</td>\n",
       "      <td>96:mKNT20vznhw3tngiBbGBsek3Kfy2wy3wy70rsnt/amM...</td>\n",
       "      <td>0</td>\n",
       "    </tr>\n",
       "    <tr>\n",
       "      <th>4</th>\n",
       "      <td>DIAMOND</td>\n",
       "      <td>RStudio-Server</td>\n",
       "      <td>False</td>\n",
       "      <td>False</td>\n",
       "      <td>24576:0ZgkO8W6krEazzEHRyE5fx5j0Gkmbc4/EnbL6kS1...</td>\n",
       "      <td>96:mKNT20vsihw3tngiBbGBsek3Kfy2wy3wy70rsnt/amM...</td>\n",
       "      <td>0</td>\n",
       "    </tr>\n",
       "    <tr>\n",
       "      <th>...</th>\n",
       "      <td>...</td>\n",
       "      <td>...</td>\n",
       "      <td>...</td>\n",
       "      <td>...</td>\n",
       "      <td>...</td>\n",
       "      <td>...</td>\n",
       "      <td>...</td>\n",
       "    </tr>\n",
       "    <tr>\n",
       "      <th>1673530</th>\n",
       "      <td>Bashlite</td>\n",
       "      <td>CVE-2017-11882</td>\n",
       "      <td>True</td>\n",
       "      <td>True</td>\n",
       "      <td>1536:4tQ1wY5Tv9Iuja/I6rxqRT3KvpUbzI46sxkXN/TLB...</td>\n",
       "      <td>192:PBwuIZ2N6hajnUBiYD2h0vo5xLX93Q/gdTiRNVZTRD...</td>\n",
       "      <td>0</td>\n",
       "    </tr>\n",
       "    <tr>\n",
       "      <th>1673531</th>\n",
       "      <td>Bashlite</td>\n",
       "      <td>QtBot</td>\n",
       "      <td>True</td>\n",
       "      <td>True</td>\n",
       "      <td>1536:4tQ1wY5Tv9Iuja/I6rxqRT3KvpUbzI46sxkXN/TLB...</td>\n",
       "      <td>24576:alTFgtLkflWpSCipGymQkXEyhAXK9lARFg7u:alT...</td>\n",
       "      <td>0</td>\n",
       "    </tr>\n",
       "    <tr>\n",
       "      <th>1673532</th>\n",
       "      <td>Bashlite</td>\n",
       "      <td>CVE-2017-11882</td>\n",
       "      <td>True</td>\n",
       "      <td>True</td>\n",
       "      <td>6144:+U8SgH7xUbetJ8auIiA/+aGnR/A3VDLMIUMCG:d8S...</td>\n",
       "      <td>192:PBwuIZ2N6hajnUBiYD2h0vo5xLX93Q/gdTiRNVZTRD...</td>\n",
       "      <td>0</td>\n",
       "    </tr>\n",
       "    <tr>\n",
       "      <th>1673533</th>\n",
       "      <td>Bashlite</td>\n",
       "      <td>QtBot</td>\n",
       "      <td>True</td>\n",
       "      <td>True</td>\n",
       "      <td>6144:+U8SgH7xUbetJ8auIiA/+aGnR/A3VDLMIUMCG:d8S...</td>\n",
       "      <td>24576:alTFgtLkflWpSCipGymQkXEyhAXK9lARFg7u:alT...</td>\n",
       "      <td>0</td>\n",
       "    </tr>\n",
       "    <tr>\n",
       "      <th>1673534</th>\n",
       "      <td>CVE-2017-11882</td>\n",
       "      <td>QtBot</td>\n",
       "      <td>True</td>\n",
       "      <td>True</td>\n",
       "      <td>192:PBwuIZ2N6hajnUBiYD2h0vo5xLX93Q/gdTiRNVZTRD...</td>\n",
       "      <td>24576:alTFgtLkflWpSCipGymQkXEyhAXK9lARFg7u:alT...</td>\n",
       "      <td>0</td>\n",
       "    </tr>\n",
       "  </tbody>\n",
       "</table>\n",
       "<p>1673535 rows × 7 columns</p>\n",
       "</div>"
      ],
      "text/plain": [
       "               Family 1        Family 2  Malware 1  Malware 2  \\\n",
       "0               DIAMOND         DIAMOND      False      False   \n",
       "1               DIAMOND         DIAMOND      False      False   \n",
       "2               DIAMOND         DIAMOND      False      False   \n",
       "3               DIAMOND  RStudio-Server      False      False   \n",
       "4               DIAMOND  RStudio-Server      False      False   \n",
       "...                 ...             ...        ...        ...   \n",
       "1673530        Bashlite  CVE-2017-11882       True       True   \n",
       "1673531        Bashlite           QtBot       True       True   \n",
       "1673532        Bashlite  CVE-2017-11882       True       True   \n",
       "1673533        Bashlite           QtBot       True       True   \n",
       "1673534  CVE-2017-11882           QtBot       True       True   \n",
       "\n",
       "                                                  ssdeep 1  \\\n",
       "0        24576:0ZgkO8W6krEazzEHRyE5fx5j0Gkmbc4/EnbL6kS1...   \n",
       "1        24576:0ZgkO8W6krEazzEHRyE5fx5j0Gkmbc4/EnbL6kS1...   \n",
       "2        24576:0ZgkO8W6krEazzEHRyE5fx5j0Gkmbc4/EnbL6kS1...   \n",
       "3        24576:0ZgkO8W6krEazzEHRyE5fx5j0Gkmbc4/EnbL6kS1...   \n",
       "4        24576:0ZgkO8W6krEazzEHRyE5fx5j0Gkmbc4/EnbL6kS1...   \n",
       "...                                                    ...   \n",
       "1673530  1536:4tQ1wY5Tv9Iuja/I6rxqRT3KvpUbzI46sxkXN/TLB...   \n",
       "1673531  1536:4tQ1wY5Tv9Iuja/I6rxqRT3KvpUbzI46sxkXN/TLB...   \n",
       "1673532  6144:+U8SgH7xUbetJ8auIiA/+aGnR/A3VDLMIUMCG:d8S...   \n",
       "1673533  6144:+U8SgH7xUbetJ8auIiA/+aGnR/A3VDLMIUMCG:d8S...   \n",
       "1673534  192:PBwuIZ2N6hajnUBiYD2h0vo5xLX93Q/gdTiRNVZTRD...   \n",
       "\n",
       "                                                  ssdeep 2  Diff Score  \n",
       "0        24576:N7RayWHeZhpVZNmHQ/0R223Vcqemo8hS1QOq:ray...           0  \n",
       "1        98304:O4g2u6YzoSU6Zr5CqeWRP07lRNMceRe/ai8Qt5vj...           0  \n",
       "2        24576:39vHSut4l6xFkIRp1IzwbIPGVildRLdJNyZJfkD7...           0  \n",
       "3        96:mKNT20vznhw3tngiBbGBsek3Kfy2wy3wy70rsnt/amM...           0  \n",
       "4        96:mKNT20vsihw3tngiBbGBsek3Kfy2wy3wy70rsnt/amM...           0  \n",
       "...                                                    ...         ...  \n",
       "1673530  192:PBwuIZ2N6hajnUBiYD2h0vo5xLX93Q/gdTiRNVZTRD...           0  \n",
       "1673531  24576:alTFgtLkflWpSCipGymQkXEyhAXK9lARFg7u:alT...           0  \n",
       "1673532  192:PBwuIZ2N6hajnUBiYD2h0vo5xLX93Q/gdTiRNVZTRD...           0  \n",
       "1673533  24576:alTFgtLkflWpSCipGymQkXEyhAXK9lARFg7u:alT...           0  \n",
       "1673534  24576:alTFgtLkflWpSCipGymQkXEyhAXK9lARFg7u:alT...           0  \n",
       "\n",
       "[1673535 rows x 7 columns]"
      ]
     },
     "execution_count": 179,
     "metadata": {},
     "output_type": "execute_result"
    }
   ],
   "source": [
    "result_ssdeep"
   ]
  },
  {
   "cell_type": "code",
   "execution_count": null,
   "id": "32b632108a945371",
   "metadata": {
    "ExecuteTime": {
     "end_time": "2023-12-04T09:32:57.775798Z",
     "start_time": "2023-12-04T09:32:57.578349Z"
    },
    "collapsed": false
   },
   "outputs": [
    {
     "data": {
      "text/plain": [
       "0.2323745064861816"
      ]
     },
     "execution_count": 180,
     "metadata": {},
     "output_type": "execute_result"
    }
   ],
   "source": [
    "s = result_ssdeep.loc[result_ssdeep.groupby('ssdeep 1')[\"Diff Score\"].idxmax()]\n",
    "size = s.shape[0]\n",
    "s = s[s[\"Malware 2\"] == False]\n",
    "s = s[s[\"Diff Score\"] > 0]\n",
    "(s[\"Family 1\"] == s[\"Family 2\"]).sum() / size\n"
   ]
  },
  {
   "cell_type": "markdown",
   "id": "d081959b03ca419a",
   "metadata": {
    "collapsed": false
   },
   "source": [
    "The absolute true positive rate is 23% for any threshold higher than 0 with noise."
   ]
  },
  {
   "cell_type": "code",
   "execution_count": null,
   "id": "d2e112787526573c",
   "metadata": {
    "ExecuteTime": {
     "end_time": "2023-12-04T09:32:57.872560Z",
     "start_time": "2023-12-04T09:32:57.768247Z"
    },
    "collapsed": false
   },
   "outputs": [
    {
     "data": {
      "text/plain": [
       "7034"
      ]
     },
     "execution_count": 181,
     "metadata": {},
     "output_type": "execute_result"
    }
   ],
   "source": [
    "comp_to_sci = result_ssdeep[result_ssdeep[\"Malware 2\"] == False]\n",
    "compt_to_malware = result_ssdeep[result_ssdeep[\"Malware 2\"] == True]\n",
    "(comp_to_sci[\"Family 1\"] == comp_to_sci[\"Family 2\"]).sum()"
   ]
  },
  {
   "cell_type": "code",
   "execution_count": null,
   "id": "655d4de1929bb932",
   "metadata": {
    "ExecuteTime": {
     "end_time": "2023-12-04T09:34:24.065342Z",
     "start_time": "2023-12-04T09:34:23.796222Z"
    },
    "collapsed": false
   },
   "outputs": [
    {
     "data": {
      "text/html": [
       "<div>\n",
       "<style scoped>\n",
       "    .dataframe tbody tr th:only-of-type {\n",
       "        vertical-align: middle;\n",
       "    }\n",
       "\n",
       "    .dataframe tbody tr th {\n",
       "        vertical-align: top;\n",
       "    }\n",
       "\n",
       "    .dataframe thead th {\n",
       "        text-align: right;\n",
       "    }\n",
       "</style>\n",
       "<table border=\"1\" class=\"dataframe\">\n",
       "  <thead>\n",
       "    <tr style=\"text-align: right;\">\n",
       "      <th></th>\n",
       "      <th>threshold</th>\n",
       "      <th>true_positive_rate</th>\n",
       "      <th>false_positive_rate</th>\n",
       "    </tr>\n",
       "  </thead>\n",
       "  <tbody>\n",
       "    <tr>\n",
       "      <th>0</th>\n",
       "      <td>0.0</td>\n",
       "      <td>1.000000</td>\n",
       "      <td>1.000000</td>\n",
       "    </tr>\n",
       "    <tr>\n",
       "      <th>1</th>\n",
       "      <td>1.0</td>\n",
       "      <td>0.790787</td>\n",
       "      <td>0.853659</td>\n",
       "    </tr>\n",
       "    <tr>\n",
       "      <th>2</th>\n",
       "      <td>2.0</td>\n",
       "      <td>0.790787</td>\n",
       "      <td>0.853659</td>\n",
       "    </tr>\n",
       "    <tr>\n",
       "      <th>3</th>\n",
       "      <td>3.0</td>\n",
       "      <td>0.790787</td>\n",
       "      <td>0.853659</td>\n",
       "    </tr>\n",
       "    <tr>\n",
       "      <th>4</th>\n",
       "      <td>4.0</td>\n",
       "      <td>0.790787</td>\n",
       "      <td>0.853659</td>\n",
       "    </tr>\n",
       "    <tr>\n",
       "      <th>...</th>\n",
       "      <td>...</td>\n",
       "      <td>...</td>\n",
       "      <td>...</td>\n",
       "    </tr>\n",
       "    <tr>\n",
       "      <th>105</th>\n",
       "      <td>105.0</td>\n",
       "      <td>0.000000</td>\n",
       "      <td>0.000000</td>\n",
       "    </tr>\n",
       "    <tr>\n",
       "      <th>106</th>\n",
       "      <td>106.0</td>\n",
       "      <td>0.000000</td>\n",
       "      <td>0.000000</td>\n",
       "    </tr>\n",
       "    <tr>\n",
       "      <th>107</th>\n",
       "      <td>107.0</td>\n",
       "      <td>0.000000</td>\n",
       "      <td>0.000000</td>\n",
       "    </tr>\n",
       "    <tr>\n",
       "      <th>108</th>\n",
       "      <td>108.0</td>\n",
       "      <td>0.000000</td>\n",
       "      <td>0.000000</td>\n",
       "    </tr>\n",
       "    <tr>\n",
       "      <th>109</th>\n",
       "      <td>109.0</td>\n",
       "      <td>0.000000</td>\n",
       "      <td>0.000000</td>\n",
       "    </tr>\n",
       "  </tbody>\n",
       "</table>\n",
       "<p>110 rows × 3 columns</p>\n",
       "</div>"
      ],
      "text/plain": [
       "     threshold  true_positive_rate  false_positive_rate\n",
       "0          0.0            1.000000             1.000000\n",
       "1          1.0            0.790787             0.853659\n",
       "2          2.0            0.790787             0.853659\n",
       "3          3.0            0.790787             0.853659\n",
       "4          4.0            0.790787             0.853659\n",
       "..         ...                 ...                  ...\n",
       "105      105.0            0.000000             0.000000\n",
       "106      106.0            0.000000             0.000000\n",
       "107      107.0            0.000000             0.000000\n",
       "108      108.0            0.000000             0.000000\n",
       "109      109.0            0.000000             0.000000\n",
       "\n",
       "[110 rows x 3 columns]"
      ]
     },
     "execution_count": 192,
     "metadata": {},
     "output_type": "execute_result"
    }
   ],
   "source": [
    "def ssdeep_thresh(s):\n",
    "    s = s.loc[result_ssdeep.groupby('ssdeep 1')[\"Diff Score\"].idxmax()]\n",
    "    ssdeep_th = pd.DataFrame(columns=[\"threshold\", \"true_positive_rate\", \"false_positive_rate\"])\n",
    "    comp_to_sci = s[s[\"Malware 2\"] == False]\n",
    "    compt_to_malware = s[s[\"Malware 2\"] == True]\n",
    "    for i in range (0,110,1):\n",
    "        \n",
    "        sci_th = comp_to_sci[comp_to_sci[\"Diff Score\"] >= i]\n",
    "        mal_th = compt_to_malware[compt_to_malware[\"Diff Score\"] > i]\n",
    "        f_th = compt_to_malware[compt_to_malware[\"Diff Score\"] < i]\n",
    "        TP = (sci_th[\"Family 1\"] == sci_th[\"Family 2\"]).sum()\n",
    "        FP = (sci_th[\"Family 1\"] != sci_th[\"Family 2\"]).sum()\n",
    "        FN = (f_th[\"Family 1\"] != f_th[\"Family 2\"]).sum()\n",
    "        TN = (f_th[\"Family 1\"] == f_th[\"Family 2\"]).sum()\n",
    "        \n",
    "        TPR = TP / (TP + FN) if TP + FN != 0 else 0\n",
    "        FPR = FP / (FP + TN) if FP + TN != 0 else 0\n",
    "        # Append results to DataFrame\n",
    "        ssdeep_th.loc[i] = [i, TPR, FPR]\n",
    "    return ssdeep_th\n",
    "p = ssdeep_thresh(result_ssdeep)\n",
    "p"
   ]
  },
  {
   "cell_type": "code",
   "execution_count": null,
   "id": "b67a4773b7b75297",
   "metadata": {
    "ExecuteTime": {
     "end_time": "2023-12-04T09:34:24.689167Z",
     "start_time": "2023-12-04T09:34:24.621903Z"
    },
    "collapsed": false
   },
   "outputs": [
    {
     "data": {
      "image/png": "[encoded data removed]",
      "text/plain": [
       "<Figure size 640x480 with 1 Axes>"
      ]
     },
     "metadata": {},
     "output_type": "display_data"
    }
   ],
   "source": [
    "# Plot the ROC curve in range 0.1 to 1.0\n",
    "p.plot(x=\"false_positive_rate\", y=\"true_positive_rate\", xlim=(0, 1), ylim=(0, 1),title=\"ROC Curve for ssdeep\", legend=False)\n",
    "plt.show()"
   ]
  },
  {
   "cell_type": "code",
   "execution_count": null,
   "id": "a273266fb0065bd2",
   "metadata": {
    "ExecuteTime": {
     "end_time": "2023-12-04T09:36:17.373446Z",
     "start_time": "2023-12-04T09:36:17.360956Z"
    },
    "collapsed": false
   },
   "outputs": [
    {
     "data": {
      "text/plain": [
       "0.4025157232704403"
      ]
     },
     "execution_count": 195,
     "metadata": {},
     "output_type": "execute_result"
    }
   ],
   "source": [
    "(p[\"true_positive_rate\"] - p[\"false_positive_rate\"]).abs().max()"
   ]
  },
  {
   "cell_type": "code",
   "execution_count": null,
   "id": "2de79e1395270ff9",
   "metadata": {
    "collapsed": false
   },
   "outputs": [],
   "source": []
  }
 ],
 "metadata": {
  "kernelspec": {
   "display_name": "Python 3",
   "language": "python",
   "name": "python3"
  },
  "language_info": {
   "codemirror_mode": {
    "name": "ipython",
    "version": 3
   },
   "file_extension": ".py",
   "mimetype": "text/x-python",
   "name": "python",
   "nbconvert_exporter": "python",
   "pygments_lexer": "ipython3",
   "version": "3.9.6"
  }
 },
 "nbformat": 4,
 "nbformat_minor": 5
}
