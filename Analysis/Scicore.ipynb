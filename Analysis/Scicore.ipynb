{
 "cells": [
  {
   "cell_type": "code",
   "execution_count": 1,
   "id": "22fccd7542970ad0",
   "metadata": {
    "ExecuteTime": {
     "end_time": "2024-01-17T08:58:26.975005Z",
     "start_time": "2024-01-17T08:58:21.421657Z"
    },
    "collapsed": false
   },
   "outputs": [],
   "source": [
    "import numpy as np\n",
    "import pandas as pd\n",
    "import Mongo_Connector as mongo\n",
    "import tlsh\n",
    "from icecream import ic\n",
    "import matplotlib.pyplot as plt\n",
    "import ssdeep\n",
    "import warnings\n",
    "warnings.filterwarnings('ignore')\n",
    "db = mongo.init(\"portainer\", port=32768)\n",
    "df = pd.DataFrame(list(db[\"scicore\"].find({})))\n",
    "machoke = pd.DataFrame(list(db[\"machoke\"].find({})))\n",
    "df = df.merge(machoke[['SHA256', 'machoke']], on='SHA256', how='left')"
   ]
  },
  {
   "cell_type": "markdown",
   "id": "645427b0ea5514b7",
   "metadata": {
    "collapsed": false
   },
   "source": [
    "# Scicore Comparison\n",
    "\n",
    "This notebook is used to compare the tlsh and ssdeep hashes of the scicore dataset.\n",
    "First I will compare the tlsh hashes and then the ssdeep hashes.\n",
    "\n"
   ]
  },
  {
   "cell_type": "code",
   "execution_count": 2,
   "id": "345f4ddef4f92e24",
   "metadata": {
    "ExecuteTime": {
     "end_time": "2024-01-17T08:58:26.993976Z",
     "start_time": "2024-01-17T08:58:26.986796Z"
    },
    "collapsed": false
   },
   "outputs": [
    {
     "data": {
      "text/html": [
       "<div>\n",
       "<style scoped>\n",
       "    .dataframe tbody tr th:only-of-type {\n",
       "        vertical-align: middle;\n",
       "    }\n",
       "\n",
       "    .dataframe tbody tr th {\n",
       "        vertical-align: top;\n",
       "    }\n",
       "\n",
       "    .dataframe thead th {\n",
       "        text-align: right;\n",
       "    }\n",
       "</style>\n",
       "<table border=\"1\" class=\"dataframe\">\n",
       "  <thead>\n",
       "    <tr style=\"text-align: right;\">\n",
       "      <th></th>\n",
       "      <th>_id</th>\n",
       "      <th>family</th>\n",
       "      <th>SHA256</th>\n",
       "      <th>file_size</th>\n",
       "      <th>ssdeep</th>\n",
       "      <th>sdhash</th>\n",
       "      <th>tlsh</th>\n",
       "      <th>machoc</th>\n",
       "      <th>strings</th>\n",
       "      <th>machoke</th>\n",
       "    </tr>\n",
       "  </thead>\n",
       "  <tbody>\n",
       "    <tr>\n",
       "      <th>0</th>\n",
       "      <td>0</td>\n",
       "      <td>DIAMOND</td>\n",
       "      <td>bdbbc7d10475610a47665613a15b523692f2e586e495bf...</td>\n",
       "      <td>1744592</td>\n",
       "      <td>{'ssdeep': '24576:0ZgkO8W6krEazzEHRyE5fx5j0Gkm...</td>\n",
       "      <td>sdhash hash</td>\n",
       "      <td>{'tlsh': 'T170858D1B66820CB9C492D53467E797F268...</td>\n",
       "      <td>Machoc hash</td>\n",
       "      <td>{'strings': 'T1C844E9E35DC61D198DD65718A3A7936...</td>\n",
       "      <td>NaN</td>\n",
       "    </tr>\n",
       "    <tr>\n",
       "      <th>1</th>\n",
       "      <td>1</td>\n",
       "      <td>DIAMOND</td>\n",
       "      <td>3e5b9caaa8ec0488d0ef6649fa3205af16cd286921fdf3...</td>\n",
       "      <td>1264648</td>\n",
       "      <td>{'ssdeep': '24576:N7RayWHeZhpVZNmHQ/0R223Vcqem...</td>\n",
       "      <td>sdhash hash</td>\n",
       "      <td>{'tlsh': 'T1FB457E47FAC358A8C097D538466FA1367A...</td>\n",
       "      <td>Machoc hash</td>\n",
       "      <td>{'strings': 'T1FC1409F28DC02D14C5E7532DA3D6866...</td>\n",
       "      <td>NaN</td>\n",
       "    </tr>\n",
       "    <tr>\n",
       "      <th>2</th>\n",
       "      <td>2</td>\n",
       "      <td>DIAMOND</td>\n",
       "      <td>3e7c7a7415567a30a6131c959448e136c1c4cd25e2755d...</td>\n",
       "      <td>7963768</td>\n",
       "      <td>{'ssdeep': '98304:O4g2u6YzoSU6Zr5CqeWRP07lRNMc...</td>\n",
       "      <td>sdhash hash</td>\n",
       "      <td>{'tlsh': 'T1A3868E03E687A468C8A6C43813DB91B3ED...</td>\n",
       "      <td>Machoc hash</td>\n",
       "      <td>{'strings': 'T1C7751AD30D8F2C209CAE73507295D13...</td>\n",
       "      <td>NaN</td>\n",
       "    </tr>\n",
       "    <tr>\n",
       "      <th>3</th>\n",
       "      <td>3</td>\n",
       "      <td>DIAMOND</td>\n",
       "      <td>6336bd767371ef854def756641f8af86dd591e62170eb8...</td>\n",
       "      <td>1599192</td>\n",
       "      <td>{'ssdeep': '24576:39vHSut4l6xFkIRp1IzwbIPGVild...</td>\n",
       "      <td>sdhash hash</td>\n",
       "      <td>{'tlsh': 'T112759F1B6BA208ADC892D53457E796F26C...</td>\n",
       "      <td>Machoc hash</td>\n",
       "      <td>{'strings': 'T1CD44E9E34CC62D198DD65718A3A7926...</td>\n",
       "      <td>NaN</td>\n",
       "    </tr>\n",
       "    <tr>\n",
       "      <th>4</th>\n",
       "      <td>4</td>\n",
       "      <td>OCaml</td>\n",
       "      <td>3eee2da2d713d971e6618b2f089d08e495c0cd8ec722f7...</td>\n",
       "      <td>13173764</td>\n",
       "      <td>{'ssdeep': '49152:lZBmaeQesTwicgVOMB4aJZhYw2UN...</td>\n",
       "      <td>sdhash hash</td>\n",
       "      <td>{'tlsh': 'T1F6D6E80EBB470662CD9809FE8CD5868FD6...</td>\n",
       "      <td>Machoc hash</td>\n",
       "      <td>{'strings': 'T1AC75D50CF4B0A5622CC2F4AFFB0DF68...</td>\n",
       "      <td>NaN</td>\n",
       "    </tr>\n",
       "    <tr>\n",
       "      <th>...</th>\n",
       "      <td>...</td>\n",
       "      <td>...</td>\n",
       "      <td>...</td>\n",
       "      <td>...</td>\n",
       "      <td>...</td>\n",
       "      <td>...</td>\n",
       "      <td>...</td>\n",
       "      <td>...</td>\n",
       "      <td>...</td>\n",
       "      <td>...</td>\n",
       "    </tr>\n",
       "    <tr>\n",
       "      <th>2061</th>\n",
       "      <td>1986</td>\n",
       "      <td>help2man</td>\n",
       "      <td>16d420a69b74f3ec081ffae840653e2246ab4758d85e38...</td>\n",
       "      <td>20063</td>\n",
       "      <td>{'ssdeep': '384:sBLdkCCJ8rwQ0EvrX+rjZbOeL3npSe...</td>\n",
       "      <td>sdhash hash</td>\n",
       "      <td>{'tlsh': 'T12C92F905EA1A8677B25301F77FDAA4C097...</td>\n",
       "      <td>Machoc hash</td>\n",
       "      <td>{'strings': 'T19292F818E81B4677B25345F37B8A548...</td>\n",
       "      <td>{'machoke': 'Not a valid binary file\t/users/st...</td>\n",
       "    </tr>\n",
       "    <tr>\n",
       "      <th>2062</th>\n",
       "      <td>1987</td>\n",
       "      <td>help2man</td>\n",
       "      <td>982697334fef2dab34b4393832e7011a74a92ff05fd426...</td>\n",
       "      <td>20051</td>\n",
       "      <td>{'ssdeep': '384:sDLjOCCJ8/eQrvPX+rjZb2OL3npSeL...</td>\n",
       "      <td>sdhash hash</td>\n",
       "      <td>{'tlsh': 'T192920A04EA1A8677B25301F77FDA94C097...</td>\n",
       "      <td>Machoc hash</td>\n",
       "      <td>NaN</td>\n",
       "      <td>{'machoke': 'Not a valid binary file\t/users/st...</td>\n",
       "    </tr>\n",
       "    <tr>\n",
       "      <th>2063</th>\n",
       "      <td>1987</td>\n",
       "      <td>help2man</td>\n",
       "      <td>982697334fef2dab34b4393832e7011a74a92ff05fd426...</td>\n",
       "      <td>20051</td>\n",
       "      <td>{'ssdeep': '384:sDLjOCCJ8/eQrvPX+rjZb2OL3npSeL...</td>\n",
       "      <td>sdhash hash</td>\n",
       "      <td>{'tlsh': 'T192920A04EA1A8677B25301F77FDA94C097...</td>\n",
       "      <td>Machoc hash</td>\n",
       "      <td>NaN</td>\n",
       "      <td>{'machoke': 'Not a valid binary file\t/users/st...</td>\n",
       "    </tr>\n",
       "    <tr>\n",
       "      <th>2064</th>\n",
       "      <td>1988</td>\n",
       "      <td>ChimPipe</td>\n",
       "      <td>6cbb727cbfb1fb6335e4439ae7810e143e1bcc69b05ca0...</td>\n",
       "      <td>76135</td>\n",
       "      <td>{'ssdeep': '1536:Sw5j4LB3dUalDarob+tltydxgjmzB...</td>\n",
       "      <td>sdhash hash</td>\n",
       "      <td>{'tlsh': 'T101734B13B0959D7AC4478A301AC7823B99...</td>\n",
       "      <td>Machoc hash</td>\n",
       "      <td>{'strings': 'T1CD32B7163C74AAB109D289B2B754859...</td>\n",
       "      <td>NaN</td>\n",
       "    </tr>\n",
       "    <tr>\n",
       "      <th>2065</th>\n",
       "      <td>1989</td>\n",
       "      <td>jbigkit</td>\n",
       "      <td>67855fe5ed323498b1e1a1c9f0a8b2b8b235bb2b4f3a4f...</td>\n",
       "      <td>21544</td>\n",
       "      <td>{'ssdeep': '192:GTJmX1ws6CWEORGArDqE/1LyZAntTq...</td>\n",
       "      <td>sdhash hash</td>\n",
       "      <td>{'tlsh': 'T10BA21827E3815876CDC5413451A74629B1...</td>\n",
       "      <td>Machoc hash</td>\n",
       "      <td>{'strings': 'T10BB1C6029BA4B8733B831275731C1A5...</td>\n",
       "      <td>{'machoke': '3db8a17a1a02300ec19ce261a02300e1a...</td>\n",
       "    </tr>\n",
       "  </tbody>\n",
       "</table>\n",
       "<p>2066 rows × 10 columns</p>\n",
       "</div>"
      ],
      "text/plain": [
       "       _id    family                                             SHA256  \\\n",
       "0        0   DIAMOND  bdbbc7d10475610a47665613a15b523692f2e586e495bf...   \n",
       "1        1   DIAMOND  3e5b9caaa8ec0488d0ef6649fa3205af16cd286921fdf3...   \n",
       "2        2   DIAMOND  3e7c7a7415567a30a6131c959448e136c1c4cd25e2755d...   \n",
       "3        3   DIAMOND  6336bd767371ef854def756641f8af86dd591e62170eb8...   \n",
       "4        4     OCaml  3eee2da2d713d971e6618b2f089d08e495c0cd8ec722f7...   \n",
       "...    ...       ...                                                ...   \n",
       "2061  1986  help2man  16d420a69b74f3ec081ffae840653e2246ab4758d85e38...   \n",
       "2062  1987  help2man  982697334fef2dab34b4393832e7011a74a92ff05fd426...   \n",
       "2063  1987  help2man  982697334fef2dab34b4393832e7011a74a92ff05fd426...   \n",
       "2064  1988  ChimPipe  6cbb727cbfb1fb6335e4439ae7810e143e1bcc69b05ca0...   \n",
       "2065  1989   jbigkit  67855fe5ed323498b1e1a1c9f0a8b2b8b235bb2b4f3a4f...   \n",
       "\n",
       "      file_size                                             ssdeep  \\\n",
       "0       1744592  {'ssdeep': '24576:0ZgkO8W6krEazzEHRyE5fx5j0Gkm...   \n",
       "1       1264648  {'ssdeep': '24576:N7RayWHeZhpVZNmHQ/0R223Vcqem...   \n",
       "2       7963768  {'ssdeep': '98304:O4g2u6YzoSU6Zr5CqeWRP07lRNMc...   \n",
       "3       1599192  {'ssdeep': '24576:39vHSut4l6xFkIRp1IzwbIPGVild...   \n",
       "4      13173764  {'ssdeep': '49152:lZBmaeQesTwicgVOMB4aJZhYw2UN...   \n",
       "...         ...                                                ...   \n",
       "2061      20063  {'ssdeep': '384:sBLdkCCJ8rwQ0EvrX+rjZbOeL3npSe...   \n",
       "2062      20051  {'ssdeep': '384:sDLjOCCJ8/eQrvPX+rjZb2OL3npSeL...   \n",
       "2063      20051  {'ssdeep': '384:sDLjOCCJ8/eQrvPX+rjZb2OL3npSeL...   \n",
       "2064      76135  {'ssdeep': '1536:Sw5j4LB3dUalDarob+tltydxgjmzB...   \n",
       "2065      21544  {'ssdeep': '192:GTJmX1ws6CWEORGArDqE/1LyZAntTq...   \n",
       "\n",
       "           sdhash                                               tlsh  \\\n",
       "0     sdhash hash  {'tlsh': 'T170858D1B66820CB9C492D53467E797F268...   \n",
       "1     sdhash hash  {'tlsh': 'T1FB457E47FAC358A8C097D538466FA1367A...   \n",
       "2     sdhash hash  {'tlsh': 'T1A3868E03E687A468C8A6C43813DB91B3ED...   \n",
       "3     sdhash hash  {'tlsh': 'T112759F1B6BA208ADC892D53457E796F26C...   \n",
       "4     sdhash hash  {'tlsh': 'T1F6D6E80EBB470662CD9809FE8CD5868FD6...   \n",
       "...           ...                                                ...   \n",
       "2061  sdhash hash  {'tlsh': 'T12C92F905EA1A8677B25301F77FDAA4C097...   \n",
       "2062  sdhash hash  {'tlsh': 'T192920A04EA1A8677B25301F77FDA94C097...   \n",
       "2063  sdhash hash  {'tlsh': 'T192920A04EA1A8677B25301F77FDA94C097...   \n",
       "2064  sdhash hash  {'tlsh': 'T101734B13B0959D7AC4478A301AC7823B99...   \n",
       "2065  sdhash hash  {'tlsh': 'T10BA21827E3815876CDC5413451A74629B1...   \n",
       "\n",
       "           machoc                                            strings  \\\n",
       "0     Machoc hash  {'strings': 'T1C844E9E35DC61D198DD65718A3A7936...   \n",
       "1     Machoc hash  {'strings': 'T1FC1409F28DC02D14C5E7532DA3D6866...   \n",
       "2     Machoc hash  {'strings': 'T1C7751AD30D8F2C209CAE73507295D13...   \n",
       "3     Machoc hash  {'strings': 'T1CD44E9E34CC62D198DD65718A3A7926...   \n",
       "4     Machoc hash  {'strings': 'T1AC75D50CF4B0A5622CC2F4AFFB0DF68...   \n",
       "...           ...                                                ...   \n",
       "2061  Machoc hash  {'strings': 'T19292F818E81B4677B25345F37B8A548...   \n",
       "2062  Machoc hash                                                NaN   \n",
       "2063  Machoc hash                                                NaN   \n",
       "2064  Machoc hash  {'strings': 'T1CD32B7163C74AAB109D289B2B754859...   \n",
       "2065  Machoc hash  {'strings': 'T10BB1C6029BA4B8733B831275731C1A5...   \n",
       "\n",
       "                                                machoke  \n",
       "0                                                   NaN  \n",
       "1                                                   NaN  \n",
       "2                                                   NaN  \n",
       "3                                                   NaN  \n",
       "4                                                   NaN  \n",
       "...                                                 ...  \n",
       "2061  {'machoke': 'Not a valid binary file\t/users/st...  \n",
       "2062  {'machoke': 'Not a valid binary file\t/users/st...  \n",
       "2063  {'machoke': 'Not a valid binary file\t/users/st...  \n",
       "2064                                                NaN  \n",
       "2065  {'machoke': '3db8a17a1a02300ec19ce261a02300e1a...  \n",
       "\n",
       "[2066 rows x 10 columns]"
      ]
     },
     "execution_count": 2,
     "metadata": {},
     "output_type": "execute_result"
    }
   ],
   "source": [
    "df"
   ]
  },
  {
   "cell_type": "code",
   "execution_count": 62,
   "id": "14cc12ba90837f3c",
   "metadata": {
    "ExecuteTime": {
     "end_time": "2024-01-17T08:58:27.915266Z",
     "start_time": "2024-01-17T08:58:26.993980Z"
    },
    "collapsed": false
   },
   "outputs": [
    {
     "data": {
      "text/plain": [
       "(0.0, 100.0)"
      ]
     },
     "execution_count": 62,
     "metadata": {},
     "output_type": "execute_result"
    },
    {
     "data": {
      "image/png": "[encoded data removed]",
      "text/plain": [
       "<Figure size 2000x1000 with 1 Axes>"
      ]
     },
     "metadata": {},
     "output_type": "display_data"
    }
   ],
   "source": [
    "family_counts = df['family'].value_counts()\n",
    "\n",
    "# Filter the families with more than one entry\n",
    "scicore_filtered = df[df['family'].map(family_counts) > 1]\n",
    "family_counts.plot(kind='bar', figsize=(20, 10))\n",
    "plt.xticks([])\n",
    "plt.ylim(0, 100)"
   ]
  },
  {
   "cell_type": "markdown",
   "source": [],
   "metadata": {
    "collapsed": false
   },
   "id": "b9c03216fc778424"
  },
  {
   "cell_type": "markdown",
   "id": "3399b516809a9f1e",
   "metadata": {
    "collapsed": false
   },
   "source": [
    "# Scicore Filtered\n",
    "\n",
    "This is the filtered dataset with only families that have more than one entry. Since comparing the binary to itself can be done with SHA256, I will skip the families with only 1 entry."
   ]
  },
  {
   "cell_type": "code",
   "execution_count": 3,
   "id": "912405b828bad807",
   "metadata": {
    "ExecuteTime": {
     "end_time": "2024-01-17T08:58:27.925199Z",
     "start_time": "2024-01-17T08:58:27.921885Z"
    },
    "collapsed": false
   },
   "outputs": [
    {
     "ename": "NameError",
     "evalue": "name 'scicore_filtered' is not defined",
     "output_type": "error",
     "traceback": [
      "\u001B[0;31m---------------------------------------------------------------------------\u001B[0m",
      "\u001B[0;31mNameError\u001B[0m                                 Traceback (most recent call last)",
      "Cell \u001B[0;32mIn[3], line 1\u001B[0m\n\u001B[0;32m----> 1\u001B[0m \u001B[43mscicore_filtered\u001B[49m\n",
      "\u001B[0;31mNameError\u001B[0m: name 'scicore_filtered' is not defined"
     ]
    }
   ],
   "source": [
    "scicore_filtered"
   ]
  },
  {
   "cell_type": "code",
   "execution_count": 4,
   "id": "161acb1c2e62f89f",
   "metadata": {
    "ExecuteTime": {
     "end_time": "2024-01-17T08:58:27.937512Z",
     "start_time": "2024-01-17T08:58:27.925849Z"
    },
    "collapsed": false
   },
   "outputs": [
    {
     "name": "stdout",
     "output_type": "stream",
     "text": [
      "Original DataFrame had 2066 rows.\n",
      "Filtered DataFrame has 1740 rows.\n",
      "Families removed (only had 1 entry): ['FastQTL', 'MAKER', 'bwa-mem2', 'CONTRAfold', 'APBS', 'RADtools', 'ChimPipe', 'Gossamer', 'tax2tree', 'andi', 'MOE', 'OpenSSL', 'GeneMark-ET', 'GCC_nvptx_none', 'OPARI2', 'Caffe_unet', 'SKA', 'HipMer', 'Tombo', 'CARNAC-LR', 'Structure', 'Mercurial', 'PhyloBayes-MPI', 'archspec', 'ZORRO', 'COMSOL', 'ruamel.yaml', 'smalt', 'INRICH', 'PASApipeline', 'SCANMS', 'GenomeThreader', 'coevol', 'dashing2', 'Check', 'imake', 'Singularity', 'Miniconda2', 'BLASR', 'circlator', 'MySQL', 'BioPerl', 'MACS', 'EPACTS', 'MaCH', 'panaroo', 'how_are_we_stranded_here', 'NiBabel', 'KisSplice', 'MPJ-Express', 'UCLUST', 'FSA', 'Magic-BLAST', 'ngs-barcode-count-c', 'ProModII', 'bcl2fastq', 'uchime', 'vcflib', 'Pindel', 'LAMMPS', 'clearcut', 'eval', 'Kent_tools', 'Chiron', 'flatbuffers', 'RAD', 'spaln', 'AutoDockSuite', 'FLASH2', 'ELPA', 'Ruby', 'ECL', 'SNAP-HMM', 'Transrate', 'Piranha', 'samblaster', 'Relate', 'ELPH', 'Co-phylog', 'GC3Pie', 'Pysam', 'ATSAS', 'stress', 'ncdu', 'AutoDock_Vina', 'NCO', 'SNP-sites', 'QUAST', 'GnuTLS', 'libtasn1', 'LittleCMS', 'Porechop', 'gpustat', 'ngmlr', 'PhyloGibbs', 'GLIMMER', 'AmpliconNoise', 'GeneTorrent-download', 'anduril', 'NCBI-Toolkit', 'LoFreq', 'Kraken2', 'cryodrgn', 'p11-kit', 'hifiasm-meta', 'makeinfo', 'CheckM', 'VIGRA', 'abricate', 'STAR-Fusion', 'EMAN', 'Slicer', 'slurm-drmaa', 'MariaDB-connector-c', 'RNA-QC-Chain', 'LSD2', 'ctffind', 'PhenotypeSeeker', 'sniffles', 'RNA-SeQC', 'dask', 'bbftpPRO', 'MotEvo', 'Cube', 'Foldseek', 'PAPI', 'redmask', 'xxd', 'MariaDB', 'skewer', 'Phylonium', 'Themisto', 'Ghostscript', 'QMCPACK', 'Merlin', 'p7zip', 'Centrifuge', 'bamaddrg', 'libaec', 'MetaBAT', 'purge_dups', 'EVcouplings', 'Test-YAML', 'iced', 'ea-utils', 'sickle', 'PyOpenCL', 'Maven', 'Gdk-Pixbuf', 'fqgrep', 'NWChem', 'HDF', 'PANDAseq', 'protobuf-python', 'Homer', 'TWL-NINJA', 'ANTLR', 'pybind11', 'Clustal-Omega', 'Arrow', 'mSWEEP', 'UMI-tools', 'ETE3', 'Nim', 'KLayout', 'FlexiBLAS', 'rSeq', 'GapCloser', 'treemix', 'PLINKSEQ', 'GenomeTools', 'ChimeraX', 'HISAT3N', 'PROCSE', 'kim-api', 'FastCodeML', 'Tomo3D', 'CUDAcore', 'snakemake', 'Roary', 'sumaclust', 'Keras', 'cuteSV', 'Tracer', 'tabix', 'bed2diffs', 'git-lfs', 'FreeFem++', 'chewBBACA', 'Polypolish', 'Grace', 'MetaEuk', 'iSMC', 'VirSorter2', 'DTI-TK', 'pyfaidx', 'lbzip2', 'Genrich', 'KaKs_Calculator', 'BayeScEnv', 'evo', 'SPAGeDi', 'DLCpar', 'Molden', 'HiC-Pro', 'MaSuRCA', 'gsutil', 'IMa2', 'pairtools', 'motif', 'Coot', 'QuadProg++', 'Molcas', 'igv-reports', 'bokeh', 'libidn2', 'mumax', 'Discovar', 'csvkit', 'KAT', 'ParsInsert', 'rate4site', 'MMSEQ', 'T-Coffee', 'nseg', 'giflib', 'NanoPlot', 'libdap', 'PRINSEQ', 'SNAPE-pooled', 'libdeflate', 'Minipolish', 'eems_snps', 'scikit-bio', 'Red', 'Theano', 'Cufflinks', 'ClonalFrame', 'MEGAHIT', 'samplot', 'dashing', 'ChIP-Seq', 'Xvfb', 'Voro++', 're2c', 'ExaBayes', 'Platanus', 'code-server', 'PeakSeq', 'make', 'DiscovarDenovo', 'ARCS', 'Score-P', 'Filtlong', 'SelEstim', 'figlet', 'BitSeq', 'cooler', 'FastME', 'TPMCalculator', 'lftp', 'patchelf', 'PHAST', 'gdc-client', 'Flappie', 'kdiff3', 'ALLPATHS-LG', 'IDR', 'OpenCV', 'Oases', 'NcFTP', 'nvptx-tools', 'Ragel', 'ImReP', 'IgBLAST', 'SWIPE', 'trimAl', 'Nextflow', 'Cookiecutter', 'Mathematica', 'SCOTCH', 'Cython', 'Flexbar', 'PureCLIP', 'Minimac', 'MIRA', 'Hail', 'provean', 'mdtest', 'mpiBLAST', 'OBITools', 'LUMPY', 'SpaceRanger', 'MAMBA', 'SHELX', 'aria2', 'Chimera', 'detettore', 'hifiasm', 'disambiguate', 'pocl', 'OTF2', 'GCL', 'bioawk', 'Seqtk', 'RDFlib', 'focus', 'angsd', 'OCaml', 'ParMETIS', 'COBS', 'VMD', 'Platanus_allee', 'MRtrix3', 'ribomap', 'LSD', 'biom-format', 'MAGeCK', 'ecCodes', 'DendroPy', 'BamBam', 'Sambamba', 'voronota', 'CGAL', 'ABINIT', 'jbigkit']\n"
     ]
    },
    {
     "data": {
      "text/plain": [
       "<function print>"
      ]
     },
     "execution_count": 4,
     "metadata": {},
     "output_type": "execute_result"
    }
   ],
   "source": [
    "original_count = df.shape[0]\n",
    "\n",
    "# Count the occurrences of each family\n",
    "family_counts = df['family'].value_counts()\n",
    "\n",
    "# Filter the DataFrame to keep families with more than one entry\n",
    "scicore_filtered = df[df['family'].map(family_counts) > 1]\n",
    "\n",
    "# Get the new number of rows after filtering\n",
    "filtered_count = scicore_filtered.shape[0]\n",
    "\n",
    "# Identify the families that were removed\n",
    "removed_families = family_counts[family_counts == 1].index.tolist()\n",
    "\n",
    "# Print the results\n",
    "print(f\"Original DataFrame had {original_count} rows.\")\n",
    "print(f\"Filtered DataFrame has {filtered_count} rows.\")\n",
    "print(f\"Families removed (only had 1 entry): {removed_families}\")\n",
    "print"
   ]
  },
  {
   "cell_type": "code",
   "execution_count": 5,
   "id": "7c3028b3",
   "metadata": {
    "ExecuteTime": {
     "end_time": "2024-01-17T08:58:27.938278Z",
     "start_time": "2024-01-17T08:58:27.930302Z"
    }
   },
   "outputs": [
    {
     "data": {
      "text/plain": [
       "334"
      ]
     },
     "execution_count": 5,
     "metadata": {},
     "output_type": "execute_result"
    }
   ],
   "source": [
    "len(scicore_filtered['family'].unique())"
   ]
  },
  {
   "cell_type": "markdown",
   "id": "6d16e014dc57fa6c",
   "metadata": {
    "collapsed": false
   },
   "source": [
    "Example: Get the tlsh hash of the first entry (DIAMOND) and compare to all other entries."
   ]
  },
  {
   "cell_type": "code",
   "execution_count": 6,
   "id": "49d91a93",
   "metadata": {
    "ExecuteTime": {
     "end_time": "2024-01-17T08:58:28.062195Z",
     "start_time": "2024-01-17T08:58:27.936242Z"
    }
   },
   "outputs": [],
   "source": [
    "import itertools\n",
    "# Pre-calculate combinations for both tlsh and ssdeep\n",
    "\n",
    "# Assuming filtered_df, tlsh, ssdeep are defined elsewhere\n",
    "\n",
    "# Initialize lists to store data for DataFrame creation\n",
    "tlsh_data = []\n",
    "ssdeep_data = []\n",
    "\n",
    "for family, group in scicore_filtered.groupby('family'):\n",
    "    # Extract the values for tlsh and ssdeep\n",
    "    tlsh_values = group['tlsh'].tolist()\n",
    "    ssdeep_values = group['ssdeep'].tolist()\n",
    "    \n",
    "    # Calculate combinations and their respective differences/similarities\n",
    "    tlsh_combinations = itertools.combinations(tlsh_values, 2)\n",
    "    ssdeep_combinations = itertools.combinations(ssdeep_values, 2)\n",
    "\n",
    "    tlsh_diffs = [tlsh.diff(a[\"tlsh\"], b[\"tlsh\"]) for a, b in tlsh_combinations]\n",
    "    ssdeep_scores = [ssdeep.compare(a[\"ssdeep\"], b[\"ssdeep\"]) for a, b in ssdeep_combinations]\n",
    "\n",
    "    # Append the results to the lists\n",
    "    tlsh_data.append({\n",
    "        'family': family,\n",
    "        'values': tlsh_diffs,\n",
    "        'mean': np.mean(tlsh_diffs) if tlsh_diffs else np.nan,\n",
    "        'median': np.median(tlsh_diffs) if tlsh_diffs else np.nan,\n",
    "        'std': np.std(tlsh_diffs) if tlsh_diffs else np.nan,\n",
    "        'amount': len(tlsh_diffs)\n",
    "    })\n",
    "\n",
    "    ssdeep_data.append({\n",
    "        'family': family,\n",
    "        'values': ssdeep_scores,\n",
    "        'mean': np.mean(ssdeep_scores) if ssdeep_scores else np.nan,\n",
    "        'median': np.median(ssdeep_scores) if ssdeep_scores else np.nan,\n",
    "        'std': np.std(ssdeep_scores) if ssdeep_scores else np.nan,\n",
    "        'amount': len(ssdeep_scores)\n",
    "    })\n",
    "\n",
    "# Create DataFrames from the lists\n",
    "fam_tlsh = pd.DataFrame(tlsh_data)\n",
    "fam_ssdeep = pd.DataFrame(ssdeep_data)"
   ]
  },
  {
   "cell_type": "code",
   "execution_count": 7,
   "id": "0a17ed5d",
   "metadata": {
    "ExecuteTime": {
     "end_time": "2024-01-17T08:58:28.082851Z",
     "start_time": "2024-01-17T08:58:27.977610Z"
    }
   },
   "outputs": [
    {
     "data": {
      "text/plain": [
       "<Axes: >"
      ]
     },
     "execution_count": 7,
     "metadata": {},
     "output_type": "execute_result"
    },
    {
     "data": {
      "image/png": "[encoded data removed]",
      "text/plain": [
       "<Figure size 640x480 with 1 Axes>"
      ]
     },
     "metadata": {},
     "output_type": "display_data"
    }
   ],
   "source": [
    "fam_tlsh = fam_tlsh[fam_tlsh['amount'] > 1]\n",
    "fam_tlsh[[\"mean\",\"median\",\"std\"]].boxplot()"
   ]
  },
  {
   "cell_type": "code",
   "execution_count": 8,
   "id": "6d7510d9",
   "metadata": {
    "ExecuteTime": {
     "end_time": "2024-01-17T08:58:28.152795Z",
     "start_time": "2024-01-17T08:58:28.041099Z"
    }
   },
   "outputs": [
    {
     "data": {
      "text/plain": [
       "<Axes: >"
      ]
     },
     "execution_count": 8,
     "metadata": {},
     "output_type": "execute_result"
    }
   ],
   "source": [
    "fam_ssdeep = fam_ssdeep[fam_ssdeep['amount'] > 1]\n",
    "fam_ssdeep[[\"mean\",\"median\",\"std\"]].boxplot()"
   ]
  },
  {
   "cell_type": "markdown",
   "id": "8b3baf9ef3e78ab2",
   "metadata": {
    "collapsed": false
   },
   "source": [
    "# ROC Curve\n",
    "\n",
    "To correctly get a ROC curve, 4 values are essential: TP, FP, TN, FN.\n",
    "\n",
    "The problem currently is, that I do not have other samples which can have no match. All the samples have a match and therefore the TN rate is 0. Thus, I will add the same amount of malware samples and concatenate with the scicore db."
   ]
  },
  {
   "cell_type": "code",
   "execution_count": 9,
   "id": "df3c6e3c0b6c2dfb",
   "metadata": {
    "ExecuteTime": {
     "end_time": "2024-01-17T08:58:28.227316Z",
     "start_time": "2024-01-17T08:58:28.097979Z"
    },
    "collapsed": false
   },
   "outputs": [
    {
     "data": {
      "text/html": [
       "<div>\n",
       "<style scoped>\n",
       "    .dataframe tbody tr th:only-of-type {\n",
       "        vertical-align: middle;\n",
       "    }\n",
       "\n",
       "    .dataframe tbody tr th {\n",
       "        vertical-align: top;\n",
       "    }\n",
       "\n",
       "    .dataframe thead th {\n",
       "        text-align: right;\n",
       "    }\n",
       "</style>\n",
       "<table border=\"1\" class=\"dataframe\">\n",
       "  <thead>\n",
       "    <tr style=\"text-align: right;\">\n",
       "      <th></th>\n",
       "      <th>_id</th>\n",
       "      <th>family</th>\n",
       "      <th>SHA256</th>\n",
       "      <th>file_size</th>\n",
       "      <th>ssdeep</th>\n",
       "      <th>sdhash</th>\n",
       "      <th>tlsh</th>\n",
       "      <th>machoc</th>\n",
       "      <th>strings</th>\n",
       "      <th>machoke</th>\n",
       "      <th>malware</th>\n",
       "    </tr>\n",
       "  </thead>\n",
       "  <tbody>\n",
       "    <tr>\n",
       "      <th>0</th>\n",
       "      <td>0</td>\n",
       "      <td>DIAMOND</td>\n",
       "      <td>bdbbc7d10475610a47665613a15b523692f2e586e495bf...</td>\n",
       "      <td>1744592</td>\n",
       "      <td>{'ssdeep': '24576:0ZgkO8W6krEazzEHRyE5fx5j0Gkm...</td>\n",
       "      <td>sdhash hash</td>\n",
       "      <td>{'tlsh': 'T170858D1B66820CB9C492D53467E797F268...</td>\n",
       "      <td>Machoc hash</td>\n",
       "      <td>{'strings': 'T1C844E9E35DC61D198DD65718A3A7936...</td>\n",
       "      <td>NaN</td>\n",
       "      <td>False</td>\n",
       "    </tr>\n",
       "    <tr>\n",
       "      <th>1</th>\n",
       "      <td>1</td>\n",
       "      <td>DIAMOND</td>\n",
       "      <td>3e5b9caaa8ec0488d0ef6649fa3205af16cd286921fdf3...</td>\n",
       "      <td>1264648</td>\n",
       "      <td>{'ssdeep': '24576:N7RayWHeZhpVZNmHQ/0R223Vcqem...</td>\n",
       "      <td>sdhash hash</td>\n",
       "      <td>{'tlsh': 'T1FB457E47FAC358A8C097D538466FA1367A...</td>\n",
       "      <td>Machoc hash</td>\n",
       "      <td>{'strings': 'T1FC1409F28DC02D14C5E7532DA3D6866...</td>\n",
       "      <td>NaN</td>\n",
       "      <td>False</td>\n",
       "    </tr>\n",
       "    <tr>\n",
       "      <th>2</th>\n",
       "      <td>2</td>\n",
       "      <td>DIAMOND</td>\n",
       "      <td>3e7c7a7415567a30a6131c959448e136c1c4cd25e2755d...</td>\n",
       "      <td>7963768</td>\n",
       "      <td>{'ssdeep': '98304:O4g2u6YzoSU6Zr5CqeWRP07lRNMc...</td>\n",
       "      <td>sdhash hash</td>\n",
       "      <td>{'tlsh': 'T1A3868E03E687A468C8A6C43813DB91B3ED...</td>\n",
       "      <td>Machoc hash</td>\n",
       "      <td>{'strings': 'T1C7751AD30D8F2C209CAE73507295D13...</td>\n",
       "      <td>NaN</td>\n",
       "      <td>False</td>\n",
       "    </tr>\n",
       "    <tr>\n",
       "      <th>3</th>\n",
       "      <td>3</td>\n",
       "      <td>DIAMOND</td>\n",
       "      <td>6336bd767371ef854def756641f8af86dd591e62170eb8...</td>\n",
       "      <td>1599192</td>\n",
       "      <td>{'ssdeep': '24576:39vHSut4l6xFkIRp1IzwbIPGVild...</td>\n",
       "      <td>sdhash hash</td>\n",
       "      <td>{'tlsh': 'T112759F1B6BA208ADC892D53457E796F26C...</td>\n",
       "      <td>Machoc hash</td>\n",
       "      <td>{'strings': 'T1CD44E9E34CC62D198DD65718A3A7926...</td>\n",
       "      <td>NaN</td>\n",
       "      <td>False</td>\n",
       "    </tr>\n",
       "    <tr>\n",
       "      <th>5</th>\n",
       "      <td>5</td>\n",
       "      <td>RStudio-Server</td>\n",
       "      <td>8ed496fd927bf12ab2680275d12ae8d239c77f426345e8...</td>\n",
       "      <td>4364</td>\n",
       "      <td>{'ssdeep': '96:mKNT20vznhw3tngiBbGBsek3Kfy2wy3...</td>\n",
       "      <td>sdhash hash</td>\n",
       "      <td>{'tlsh': 'T150918C52B0542BB67974A378DBB71467E3...</td>\n",
       "      <td>Machoc hash</td>\n",
       "      <td>{'strings': 'T17791BD52B0552B763974A37CDB77246...</td>\n",
       "      <td>{'machoke': 'Not a valid binary file\t/users/st...</td>\n",
       "      <td>False</td>\n",
       "    </tr>\n",
       "    <tr>\n",
       "      <th>...</th>\n",
       "      <td>...</td>\n",
       "      <td>...</td>\n",
       "      <td>...</td>\n",
       "      <td>...</td>\n",
       "      <td>...</td>\n",
       "      <td>...</td>\n",
       "      <td>...</td>\n",
       "      <td>...</td>\n",
       "      <td>...</td>\n",
       "      <td>...</td>\n",
       "      <td>...</td>\n",
       "    </tr>\n",
       "    <tr>\n",
       "      <th>82</th>\n",
       "      <td>656387bf3624482ac9d220a7</td>\n",
       "      <td>GandCrab</td>\n",
       "      <td>48a0a8d1ae44bdb3af57f4be174e214dda027a85ee2cc7...</td>\n",
       "      <td>71168</td>\n",
       "      <td>{'ssdeep': '1536:QZZZZZZZZZZZZpXzzzzzzzzzzzzV9...</td>\n",
       "      <td>sdhash hash</td>\n",
       "      <td>{'tlsh': 'T1A3636A0EA2E1A193E1F357B9FA757E6544...</td>\n",
       "      <td>Machoc hash</td>\n",
       "      <td>{'strings': 'T12BD15C87B5903EBC856612C8C8FA778...</td>\n",
       "      <td>NaN</td>\n",
       "      <td>True</td>\n",
       "    </tr>\n",
       "    <tr>\n",
       "      <th>83</th>\n",
       "      <td>656389793624482ac9d23b4e</td>\n",
       "      <td>GootLoader</td>\n",
       "      <td>4a8f23dfe0bffd433fbb4116335303f64789c5f3f4b87b...</td>\n",
       "      <td>303681</td>\n",
       "      <td>{'ssdeep': '6144:/aaKxfbLY8Cv4okSFmwqFbP6s3JlU...</td>\n",
       "      <td>sdhash hash</td>\n",
       "      <td>{'tlsh': 'T11754B3D9734F116F4BA233AAE43B5149FF...</td>\n",
       "      <td>Machoc hash</td>\n",
       "      <td>{'strings': 'T1234409E976C6212A873731AAE46F525...</td>\n",
       "      <td>NaN</td>\n",
       "      <td>True</td>\n",
       "    </tr>\n",
       "    <tr>\n",
       "      <th>84</th>\n",
       "      <td>6563811d3624482ac9d1f09a</td>\n",
       "      <td>Bazarbackdoor</td>\n",
       "      <td>64a89b48b21de68bd94c17da675208884d2d9849b70c0c...</td>\n",
       "      <td>860472</td>\n",
       "      <td>{'ssdeep': '12288:AhSHOXRAi0qE308rEJfBXdQjPkr0...</td>\n",
       "      <td>sdhash hash</td>\n",
       "      <td>{'tlsh': 'T1C0052941AF9BC5EAD16FA13FC5060952E5...</td>\n",
       "      <td>Machoc hash</td>\n",
       "      <td>{'strings': 'T1608372A0AD5033B14ABA87E0E3F5C4D...</td>\n",
       "      <td>NaN</td>\n",
       "      <td>True</td>\n",
       "    </tr>\n",
       "    <tr>\n",
       "      <th>85</th>\n",
       "      <td>6563847c3624482ac9d201df</td>\n",
       "      <td>Bazarbackdoor</td>\n",
       "      <td>ef11daa694324f4d6aef6fcaded22707a2501338985434...</td>\n",
       "      <td>891696</td>\n",
       "      <td>{'ssdeep': '12288:ZvVaWV/QaPwFRgnhT1cHxnBWywdX...</td>\n",
       "      <td>sdhash hash</td>\n",
       "      <td>{'tlsh': 'T1C5152951AFABC5EAC16BA23FC5060942E5...</td>\n",
       "      <td>Machoc hash</td>\n",
       "      <td>{'strings': 'T1F89373A09D9033B14ABA87A0E7F4C4D...</td>\n",
       "      <td>NaN</td>\n",
       "      <td>True</td>\n",
       "    </tr>\n",
       "    <tr>\n",
       "      <th>86</th>\n",
       "      <td>656378113624482ac9d19ce2</td>\n",
       "      <td>Android.Xavier</td>\n",
       "      <td>0a725fc23a15536110e075ba13575d2cdc746317044be2...</td>\n",
       "      <td>7840204</td>\n",
       "      <td>{'ssdeep': '196608:zS/08gpZlMzeBd33jWowZvs4P8B...</td>\n",
       "      <td>sdhash hash</td>\n",
       "      <td>{'tlsh': 'T111860153E758B826D4F3C3328B70725764...</td>\n",
       "      <td>Machoc hash</td>\n",
       "      <td>{'strings': 'T1EC1527658269F05702B7D3A9EFB16A8...</td>\n",
       "      <td>{'machoke': 'Not a valid binary file\tF:\\vx\\And...</td>\n",
       "      <td>True</td>\n",
       "    </tr>\n",
       "  </tbody>\n",
       "</table>\n",
       "<p>1827 rows × 11 columns</p>\n",
       "</div>"
      ],
      "text/plain": [
       "                         _id          family  \\\n",
       "0                          0         DIAMOND   \n",
       "1                          1         DIAMOND   \n",
       "2                          2         DIAMOND   \n",
       "3                          3         DIAMOND   \n",
       "5                          5  RStudio-Server   \n",
       "..                       ...             ...   \n",
       "82  656387bf3624482ac9d220a7        GandCrab   \n",
       "83  656389793624482ac9d23b4e      GootLoader   \n",
       "84  6563811d3624482ac9d1f09a   Bazarbackdoor   \n",
       "85  6563847c3624482ac9d201df   Bazarbackdoor   \n",
       "86  656378113624482ac9d19ce2  Android.Xavier   \n",
       "\n",
       "                                               SHA256  file_size  \\\n",
       "0   bdbbc7d10475610a47665613a15b523692f2e586e495bf...    1744592   \n",
       "1   3e5b9caaa8ec0488d0ef6649fa3205af16cd286921fdf3...    1264648   \n",
       "2   3e7c7a7415567a30a6131c959448e136c1c4cd25e2755d...    7963768   \n",
       "3   6336bd767371ef854def756641f8af86dd591e62170eb8...    1599192   \n",
       "5   8ed496fd927bf12ab2680275d12ae8d239c77f426345e8...       4364   \n",
       "..                                                ...        ...   \n",
       "82  48a0a8d1ae44bdb3af57f4be174e214dda027a85ee2cc7...      71168   \n",
       "83  4a8f23dfe0bffd433fbb4116335303f64789c5f3f4b87b...     303681   \n",
       "84  64a89b48b21de68bd94c17da675208884d2d9849b70c0c...     860472   \n",
       "85  ef11daa694324f4d6aef6fcaded22707a2501338985434...     891696   \n",
       "86  0a725fc23a15536110e075ba13575d2cdc746317044be2...    7840204   \n",
       "\n",
       "                                               ssdeep       sdhash  \\\n",
       "0   {'ssdeep': '24576:0ZgkO8W6krEazzEHRyE5fx5j0Gkm...  sdhash hash   \n",
       "1   {'ssdeep': '24576:N7RayWHeZhpVZNmHQ/0R223Vcqem...  sdhash hash   \n",
       "2   {'ssdeep': '98304:O4g2u6YzoSU6Zr5CqeWRP07lRNMc...  sdhash hash   \n",
       "3   {'ssdeep': '24576:39vHSut4l6xFkIRp1IzwbIPGVild...  sdhash hash   \n",
       "5   {'ssdeep': '96:mKNT20vznhw3tngiBbGBsek3Kfy2wy3...  sdhash hash   \n",
       "..                                                ...          ...   \n",
       "82  {'ssdeep': '1536:QZZZZZZZZZZZZpXzzzzzzzzzzzzV9...  sdhash hash   \n",
       "83  {'ssdeep': '6144:/aaKxfbLY8Cv4okSFmwqFbP6s3JlU...  sdhash hash   \n",
       "84  {'ssdeep': '12288:AhSHOXRAi0qE308rEJfBXdQjPkr0...  sdhash hash   \n",
       "85  {'ssdeep': '12288:ZvVaWV/QaPwFRgnhT1cHxnBWywdX...  sdhash hash   \n",
       "86  {'ssdeep': '196608:zS/08gpZlMzeBd33jWowZvs4P8B...  sdhash hash   \n",
       "\n",
       "                                                 tlsh       machoc  \\\n",
       "0   {'tlsh': 'T170858D1B66820CB9C492D53467E797F268...  Machoc hash   \n",
       "1   {'tlsh': 'T1FB457E47FAC358A8C097D538466FA1367A...  Machoc hash   \n",
       "2   {'tlsh': 'T1A3868E03E687A468C8A6C43813DB91B3ED...  Machoc hash   \n",
       "3   {'tlsh': 'T112759F1B6BA208ADC892D53457E796F26C...  Machoc hash   \n",
       "5   {'tlsh': 'T150918C52B0542BB67974A378DBB71467E3...  Machoc hash   \n",
       "..                                                ...          ...   \n",
       "82  {'tlsh': 'T1A3636A0EA2E1A193E1F357B9FA757E6544...  Machoc hash   \n",
       "83  {'tlsh': 'T11754B3D9734F116F4BA233AAE43B5149FF...  Machoc hash   \n",
       "84  {'tlsh': 'T1C0052941AF9BC5EAD16FA13FC5060952E5...  Machoc hash   \n",
       "85  {'tlsh': 'T1C5152951AFABC5EAC16BA23FC5060942E5...  Machoc hash   \n",
       "86  {'tlsh': 'T111860153E758B826D4F3C3328B70725764...  Machoc hash   \n",
       "\n",
       "                                              strings  \\\n",
       "0   {'strings': 'T1C844E9E35DC61D198DD65718A3A7936...   \n",
       "1   {'strings': 'T1FC1409F28DC02D14C5E7532DA3D6866...   \n",
       "2   {'strings': 'T1C7751AD30D8F2C209CAE73507295D13...   \n",
       "3   {'strings': 'T1CD44E9E34CC62D198DD65718A3A7926...   \n",
       "5   {'strings': 'T17791BD52B0552B763974A37CDB77246...   \n",
       "..                                                ...   \n",
       "82  {'strings': 'T12BD15C87B5903EBC856612C8C8FA778...   \n",
       "83  {'strings': 'T1234409E976C6212A873731AAE46F525...   \n",
       "84  {'strings': 'T1608372A0AD5033B14ABA87E0E3F5C4D...   \n",
       "85  {'strings': 'T1F89373A09D9033B14ABA87A0E7F4C4D...   \n",
       "86  {'strings': 'T1EC1527658269F05702B7D3A9EFB16A8...   \n",
       "\n",
       "                                              machoke  malware  \n",
       "0                                                 NaN    False  \n",
       "1                                                 NaN    False  \n",
       "2                                                 NaN    False  \n",
       "3                                                 NaN    False  \n",
       "5   {'machoke': 'Not a valid binary file\t/users/st...    False  \n",
       "..                                                ...      ...  \n",
       "82                                                NaN     True  \n",
       "83                                                NaN     True  \n",
       "84                                                NaN     True  \n",
       "85                                                NaN     True  \n",
       "86  {'machoke': 'Not a valid binary file\tF:\\vx\\And...     True  \n",
       "\n",
       "[1827 rows x 11 columns]"
      ]
     },
     "execution_count": 9,
     "metadata": {},
     "output_type": "execute_result"
    }
   ],
   "source": [
    "scicore_filtered[\"malware\"] = False\n",
    "size = scicore_filtered.shape[0] / 20\n",
    "malware = pd.DataFrame(list(db[\"malware\"].aggregate([{\"$sample\": {\"size\": size}}])))\n",
    "malware[\"malware\"] = True\n",
    "\n",
    "scicore_concat = pd.concat([scicore_filtered, malware])\n",
    "\n",
    "scicore_concat"
   ]
  },
  {
   "cell_type": "code",
   "execution_count": 10,
   "id": "3f2264e1",
   "metadata": {
    "ExecuteTime": {
     "end_time": "2024-01-17T08:58:28.228567Z",
     "start_time": "2024-01-17T08:58:28.178483Z"
    }
   },
   "outputs": [
    {
     "data": {
      "text/html": [
       "<div>\n",
       "<style scoped>\n",
       "    .dataframe tbody tr th:only-of-type {\n",
       "        vertical-align: middle;\n",
       "    }\n",
       "\n",
       "    .dataframe tbody tr th {\n",
       "        vertical-align: top;\n",
       "    }\n",
       "\n",
       "    .dataframe thead th {\n",
       "        text-align: right;\n",
       "    }\n",
       "</style>\n",
       "<table border=\"1\" class=\"dataframe\">\n",
       "  <thead>\n",
       "    <tr style=\"text-align: right;\">\n",
       "      <th></th>\n",
       "      <th>_id</th>\n",
       "      <th>family</th>\n",
       "      <th>SHA256</th>\n",
       "      <th>file_size</th>\n",
       "      <th>ssdeep</th>\n",
       "      <th>sdhash</th>\n",
       "      <th>tlsh</th>\n",
       "      <th>machoc</th>\n",
       "      <th>strings</th>\n",
       "      <th>machoke</th>\n",
       "      <th>malware</th>\n",
       "    </tr>\n",
       "  </thead>\n",
       "  <tbody>\n",
       "    <tr>\n",
       "      <th>26</th>\n",
       "      <td>26</td>\n",
       "      <td>libgd</td>\n",
       "      <td>98323a0d7a04d490c8c3fa65eba54580d6424a105e9ea1...</td>\n",
       "      <td>12256</td>\n",
       "      <td>192:G4MFkE1i1psbJcIflb1U2eVoc8NgcfmE1Z4if:81te...</td>\n",
       "      <td>sdhash hash</td>\n",
       "      <td>T16942944FE76259BFDAD94238588B0B707373E87DF713...</td>\n",
       "      <td>Machoc hash</td>\n",
       "      <td>T1EC31784CE67BE47779D73668770E0E11A6873E45C762...</td>\n",
       "      <td>3db8a17a1a02300ec19ce261a02300e1a02300ec4d3411...</td>\n",
       "      <td>False</td>\n",
       "    </tr>\n",
       "    <tr>\n",
       "      <th>54</th>\n",
       "      <td>46</td>\n",
       "      <td>hwloc</td>\n",
       "      <td>fb0d766180b9b7660a152ac2a8f34038bbfde6d042341c...</td>\n",
       "      <td>18216</td>\n",
       "      <td>192:GnR37uG3EE2ntzHlZfZZJVoRxsXAZsSiZf7PZV7:cp...</td>\n",
       "      <td>sdhash hash</td>\n",
       "      <td>T1D782D98BDAE08937D4E05234589B0A2079F3E5F4FB23...</td>\n",
       "      <td>Machoc hash</td>\n",
       "      <td>T15871724D2579F53379A22578AA5C4C04D482EBB4AF20...</td>\n",
       "      <td>3db8a17a1a02300e1a02300ec19ce261a02300ea247ec5...</td>\n",
       "      <td>False</td>\n",
       "    </tr>\n",
       "    <tr>\n",
       "      <th>55</th>\n",
       "      <td>47</td>\n",
       "      <td>hwloc</td>\n",
       "      <td>53b571e7d5faa63ffab2afadb549c0a217a4018bb8a180...</td>\n",
       "      <td>46688</td>\n",
       "      <td>768:46R8Xdf+eMWtO3lkCKsooHtUJf6nP7pXnIX:4l1+e/...</td>\n",
       "      <td>sdhash hash</td>\n",
       "      <td>T19C231A079BD18479D5E08130A9DB6B12A6B3F0F5D330...</td>\n",
       "      <td>Machoc hash</td>\n",
       "      <td>T1663298120FA6D42377E20579FF94BF42E7E2C6659720...</td>\n",
       "      <td>3db8a17a1a02300ec19ce261a02300e1a02300e7c91cb3...</td>\n",
       "      <td>False</td>\n",
       "    </tr>\n",
       "    <tr>\n",
       "      <th>56</th>\n",
       "      <td>48</td>\n",
       "      <td>hwloc</td>\n",
       "      <td>839236bb57cfcc2db79239f199608ae30faf26c5efca13...</td>\n",
       "      <td>27216</td>\n",
       "      <td>384:cbDbynRaDQt7U0J9Ug7TBtS/4UnQ1S6ZO9j8D+:Aan...</td>\n",
       "      <td>sdhash hash</td>\n",
       "      <td>T199C23D8BE7F14CBBD8D89630686B0B24A6B3F4F1E720...</td>\n",
       "      <td>Machoc hash</td>\n",
       "      <td>T1B4C1B8851DBAB0137EA22A2CFF6D8D40E3A1EA95D300...</td>\n",
       "      <td>3db8a17a1a02300ec19ce261a02300e1a02300ec4d3411...</td>\n",
       "      <td>False</td>\n",
       "    </tr>\n",
       "    <tr>\n",
       "      <th>57</th>\n",
       "      <td>49</td>\n",
       "      <td>hwloc</td>\n",
       "      <td>3cb3182958db8bf2b1cc137ae2ac0c618f97332c4aa564...</td>\n",
       "      <td>46712</td>\n",
       "      <td>768:iaj3CUxjbUpOlmbVylUMqIhtVBHtUJf6oTgKunIX:i...</td>\n",
       "      <td>sdhash hash</td>\n",
       "      <td>T1E32319079B918474C4D5C130ADDBAB26AAB3F0F1D730...</td>\n",
       "      <td>Machoc hash</td>\n",
       "      <td>T10E2297270F66D423A6E20575FF94BE43D7E2C6629730...</td>\n",
       "      <td>3db8a17a1a02300ec19ce261a02300e1a02300e7c91cb3...</td>\n",
       "      <td>False</td>\n",
       "    </tr>\n",
       "    <tr>\n",
       "      <th>...</th>\n",
       "      <td>...</td>\n",
       "      <td>...</td>\n",
       "      <td>...</td>\n",
       "      <td>...</td>\n",
       "      <td>...</td>\n",
       "      <td>...</td>\n",
       "      <td>...</td>\n",
       "      <td>...</td>\n",
       "      <td>...</td>\n",
       "      <td>...</td>\n",
       "      <td>...</td>\n",
       "    </tr>\n",
       "    <tr>\n",
       "      <th>2042</th>\n",
       "      <td>1974</td>\n",
       "      <td>SeqPrep</td>\n",
       "      <td>957a077e1db255eb416420317fb4fa678d61be947919c4...</td>\n",
       "      <td>106776</td>\n",
       "      <td>1536:3H8sLvPPk1YK1s7yLLu0g0HBlb/fW5LtupvKG:3cs...</td>\n",
       "      <td>sdhash hash</td>\n",
       "      <td>T1CFA3F73BFF67901DC34B96780DE280AD6622BE742A78...</td>\n",
       "      <td>Machoc hash</td>\n",
       "      <td>T15232291601BEF822C7C3FA2AA34D4853CE91551DBBA5...</td>\n",
       "      <td>3db8a17a1a02300ec4d3411ec4d3411ec19ce261a02300...</td>\n",
       "      <td>False</td>\n",
       "    </tr>\n",
       "    <tr>\n",
       "      <th>2043</th>\n",
       "      <td>1975</td>\n",
       "      <td>SeqPrep</td>\n",
       "      <td>2023b37b9df662cda1454fdc0dfff693686d4ff9fb9ae2...</td>\n",
       "      <td>96360</td>\n",
       "      <td>768:DpcvgRDFlFOCPku1cnTqZxXj7TUS8YDRjuXQNoEi4Y...</td>\n",
       "      <td>sdhash hash</td>\n",
       "      <td>T1E193E83BFFA7901DC34A957809E381E2A622BD343E74...</td>\n",
       "      <td>Machoc hash</td>\n",
       "      <td>T115424C1615BEE422C2C3FA6673884813D991593CBFB0...</td>\n",
       "      <td>3db8a17a1a02300e5713ec025713ec02c19ce26c4d3411...</td>\n",
       "      <td>False</td>\n",
       "    </tr>\n",
       "    <tr>\n",
       "      <th>2044</th>\n",
       "      <td>1976</td>\n",
       "      <td>SeqPrep</td>\n",
       "      <td>a2163b07a13d1b0a86db3f582e3ec6a8c2d9b45a7d85e0...</td>\n",
       "      <td>106816</td>\n",
       "      <td>1536:ojAqutuBk1vrT4xl4FRlN1rUkLlb/J95LtDpm7G:o...</td>\n",
       "      <td>sdhash hash</td>\n",
       "      <td>T122A3F83BFF67901EC34B96380DE280AD6622BE742A78...</td>\n",
       "      <td>Machoc hash</td>\n",
       "      <td>T1D932391601BEE822C3C3FA2AB34D4853CE92551CB7A5...</td>\n",
       "      <td>3db8a17a1a02300ec4d3411ec4d3411ec19ce261a02300...</td>\n",
       "      <td>False</td>\n",
       "    </tr>\n",
       "    <tr>\n",
       "      <th>2045</th>\n",
       "      <td>1977</td>\n",
       "      <td>Qhull</td>\n",
       "      <td>f1d0863b5c5bbbe387d77d724d49291152fcfd654c8498...</td>\n",
       "      <td>384752</td>\n",
       "      <td>6144:RLnCLZZoerNhFTkojdX0ke6hJh62PNeJX6pOaQe8H...</td>\n",
       "      <td>sdhash hash</td>\n",
       "      <td>T193845B9B37D218FDD8D28430825B5257FFB5B0A41221...</td>\n",
       "      <td>Machoc hash</td>\n",
       "      <td>T1B2A32AF12F40269395E301A683056259F3F868B76F70...</td>\n",
       "      <td>3db8a17a1a02300e153362cabde1558fc0dbd3be2ec3a4...</td>\n",
       "      <td>False</td>\n",
       "    </tr>\n",
       "    <tr>\n",
       "      <th>2046</th>\n",
       "      <td>1978</td>\n",
       "      <td>Qhull</td>\n",
       "      <td>f00a7eabaef8886758d0859ca1579f5b3d05b68699129a...</td>\n",
       "      <td>481872</td>\n",
       "      <td>6144:MhtjLAwCh9zM7HmtT45cCvfLxORucDF8UFgFJCeP3...</td>\n",
       "      <td>sdhash hash</td>\n",
       "      <td>T1BAA43B9B379218EDD4D24430821B6253FB79B0A54221...</td>\n",
       "      <td>Machoc hash</td>\n",
       "      <td>T1BAD3F8F62E001BA350E3016683056259F3F864B76FB5...</td>\n",
       "      <td>3db8a17a1a02300e8f96357ebde1558f5eec066fa914ca...</td>\n",
       "      <td>False</td>\n",
       "    </tr>\n",
       "  </tbody>\n",
       "</table>\n",
       "<p>760 rows × 11 columns</p>\n",
       "</div>"
      ],
      "text/plain": [
       "       _id   family                                             SHA256  \\\n",
       "26      26    libgd  98323a0d7a04d490c8c3fa65eba54580d6424a105e9ea1...   \n",
       "54      46    hwloc  fb0d766180b9b7660a152ac2a8f34038bbfde6d042341c...   \n",
       "55      47    hwloc  53b571e7d5faa63ffab2afadb549c0a217a4018bb8a180...   \n",
       "56      48    hwloc  839236bb57cfcc2db79239f199608ae30faf26c5efca13...   \n",
       "57      49    hwloc  3cb3182958db8bf2b1cc137ae2ac0c618f97332c4aa564...   \n",
       "...    ...      ...                                                ...   \n",
       "2042  1974  SeqPrep  957a077e1db255eb416420317fb4fa678d61be947919c4...   \n",
       "2043  1975  SeqPrep  2023b37b9df662cda1454fdc0dfff693686d4ff9fb9ae2...   \n",
       "2044  1976  SeqPrep  a2163b07a13d1b0a86db3f582e3ec6a8c2d9b45a7d85e0...   \n",
       "2045  1977    Qhull  f1d0863b5c5bbbe387d77d724d49291152fcfd654c8498...   \n",
       "2046  1978    Qhull  f00a7eabaef8886758d0859ca1579f5b3d05b68699129a...   \n",
       "\n",
       "      file_size                                             ssdeep  \\\n",
       "26        12256  192:G4MFkE1i1psbJcIflb1U2eVoc8NgcfmE1Z4if:81te...   \n",
       "54        18216  192:GnR37uG3EE2ntzHlZfZZJVoRxsXAZsSiZf7PZV7:cp...   \n",
       "55        46688  768:46R8Xdf+eMWtO3lkCKsooHtUJf6nP7pXnIX:4l1+e/...   \n",
       "56        27216  384:cbDbynRaDQt7U0J9Ug7TBtS/4UnQ1S6ZO9j8D+:Aan...   \n",
       "57        46712  768:iaj3CUxjbUpOlmbVylUMqIhtVBHtUJf6oTgKunIX:i...   \n",
       "...         ...                                                ...   \n",
       "2042     106776  1536:3H8sLvPPk1YK1s7yLLu0g0HBlb/fW5LtupvKG:3cs...   \n",
       "2043      96360  768:DpcvgRDFlFOCPku1cnTqZxXj7TUS8YDRjuXQNoEi4Y...   \n",
       "2044     106816  1536:ojAqutuBk1vrT4xl4FRlN1rUkLlb/J95LtDpm7G:o...   \n",
       "2045     384752  6144:RLnCLZZoerNhFTkojdX0ke6hJh62PNeJX6pOaQe8H...   \n",
       "2046     481872  6144:MhtjLAwCh9zM7HmtT45cCvfLxORucDF8UFgFJCeP3...   \n",
       "\n",
       "           sdhash                                               tlsh  \\\n",
       "26    sdhash hash  T16942944FE76259BFDAD94238588B0B707373E87DF713...   \n",
       "54    sdhash hash  T1D782D98BDAE08937D4E05234589B0A2079F3E5F4FB23...   \n",
       "55    sdhash hash  T19C231A079BD18479D5E08130A9DB6B12A6B3F0F5D330...   \n",
       "56    sdhash hash  T199C23D8BE7F14CBBD8D89630686B0B24A6B3F4F1E720...   \n",
       "57    sdhash hash  T1E32319079B918474C4D5C130ADDBAB26AAB3F0F1D730...   \n",
       "...           ...                                                ...   \n",
       "2042  sdhash hash  T1CFA3F73BFF67901DC34B96780DE280AD6622BE742A78...   \n",
       "2043  sdhash hash  T1E193E83BFFA7901DC34A957809E381E2A622BD343E74...   \n",
       "2044  sdhash hash  T122A3F83BFF67901EC34B96380DE280AD6622BE742A78...   \n",
       "2045  sdhash hash  T193845B9B37D218FDD8D28430825B5257FFB5B0A41221...   \n",
       "2046  sdhash hash  T1BAA43B9B379218EDD4D24430821B6253FB79B0A54221...   \n",
       "\n",
       "           machoc                                            strings  \\\n",
       "26    Machoc hash  T1EC31784CE67BE47779D73668770E0E11A6873E45C762...   \n",
       "54    Machoc hash  T15871724D2579F53379A22578AA5C4C04D482EBB4AF20...   \n",
       "55    Machoc hash  T1663298120FA6D42377E20579FF94BF42E7E2C6659720...   \n",
       "56    Machoc hash  T1B4C1B8851DBAB0137EA22A2CFF6D8D40E3A1EA95D300...   \n",
       "57    Machoc hash  T10E2297270F66D423A6E20575FF94BE43D7E2C6629730...   \n",
       "...           ...                                                ...   \n",
       "2042  Machoc hash  T15232291601BEF822C7C3FA2AA34D4853CE91551DBBA5...   \n",
       "2043  Machoc hash  T115424C1615BEE422C2C3FA6673884813D991593CBFB0...   \n",
       "2044  Machoc hash  T1D932391601BEE822C3C3FA2AB34D4853CE92551CB7A5...   \n",
       "2045  Machoc hash  T1B2A32AF12F40269395E301A683056259F3F868B76F70...   \n",
       "2046  Machoc hash  T1BAD3F8F62E001BA350E3016683056259F3F864B76FB5...   \n",
       "\n",
       "                                                machoke  malware  \n",
       "26    3db8a17a1a02300ec19ce261a02300e1a02300ec4d3411...    False  \n",
       "54    3db8a17a1a02300e1a02300ec19ce261a02300ea247ec5...    False  \n",
       "55    3db8a17a1a02300ec19ce261a02300e1a02300e7c91cb3...    False  \n",
       "56    3db8a17a1a02300ec19ce261a02300e1a02300ec4d3411...    False  \n",
       "57    3db8a17a1a02300ec19ce261a02300e1a02300e7c91cb3...    False  \n",
       "...                                                 ...      ...  \n",
       "2042  3db8a17a1a02300ec4d3411ec4d3411ec19ce261a02300...    False  \n",
       "2043  3db8a17a1a02300e5713ec025713ec02c19ce26c4d3411...    False  \n",
       "2044  3db8a17a1a02300ec4d3411ec4d3411ec19ce261a02300...    False  \n",
       "2045  3db8a17a1a02300e153362cabde1558fc0dbd3be2ec3a4...    False  \n",
       "2046  3db8a17a1a02300e8f96357ebde1558f5eec066fa914ca...    False  \n",
       "\n",
       "[760 rows x 11 columns]"
      ]
     },
     "execution_count": 10,
     "metadata": {},
     "output_type": "execute_result"
    }
   ],
   "source": [
    "a = scicore_concat\n",
    "\n",
    "a.dropna(subset=['tlsh'], inplace=True)\n",
    "a.dropna(subset=['ssdeep'], inplace=True)\n",
    "a.dropna(subset=['strings'], inplace=True)\n",
    "a.dropna(subset=['machoke'], inplace=True)\n",
    "\n",
    "a['tlsh'] = a['tlsh'].apply(lambda x: x['tlsh'] if 'tlsh' in x and isinstance(x, dict) else x)\n",
    "a = a[a['tlsh'] != 'TNULL']\n",
    "a['ssdeep'] = a['ssdeep'].apply(lambda x: x['ssdeep'] if 'ssdeep' in x and isinstance(x, dict) else x)\n",
    "\n",
    "a['strings'] = a['strings'].apply(lambda x: x['strings'] if 'strings' in x and isinstance(x, dict) else x)\n",
    "a = a[a['strings'] != 'TNULL']\n",
    "\n",
    "a['machoke'] = a['machoke'].apply(lambda x: x['machoke'] if 'machoke' in x and isinstance(x, dict) else x)\n",
    "\n",
    "# drop on row \"machoke\" if it starts with \"Not\"\n",
    "a = a[~a['machoke'].str.startswith('Not')]\n",
    "a = a[~a['machoke'].str.startswith('r2')]\n",
    "\n",
    "# remove on \"machoke\" everything after \"\\t\"\n",
    "a['machoke'] = a['machoke'].apply(lambda x: x.split(\"\\t\")[0])\n",
    "\n",
    "filtered_df = a\n",
    "filtered_df\n"
   ]
  },
  {
   "cell_type": "markdown",
   "id": "744d1a997f16c148",
   "metadata": {
    "collapsed": false
   },
   "source": [
    "### TLSH Prediction Concat\n",
    "To now correctly get the 4 essential values for the ROC curve, I will go through the concat dataset and compare to the scicore dataset. If the positive match is wrong then it is a FP. If no match gets found then it is a TN. If a scicore sample gets not matched to scicore dataset then it is a FN. If a scicore sample gets matched to a scicore sample then it is a TP."
   ]
  },
  {
   "cell_type": "code",
   "execution_count": 71,
   "id": "34c2f90cb8ec7c40",
   "metadata": {
    "ExecuteTime": {
     "end_time": "2024-01-17T08:58:28.240858Z",
     "start_time": "2024-01-17T08:58:28.195550Z"
    },
    "collapsed": false
   },
   "outputs": [],
   "source": [
    "# Function to generate a dataframe with all the possible combinations of the hashes. Reduces iloc overhead.\n",
    "def tlsh_comb(df=filtered_df, col='tlsh'):\n",
    "    from itertools import combinations\n",
    "    \n",
    "    # Generate all binary combinations of the strings in the specified column\n",
    "    string_combinations = combinations(df[[col, 'family', 'malware']].iterrows(), 2)\n",
    "    \n",
    "    # Apply tlsh.diff to each combination\n",
    "    results = []\n",
    "    for (idx1, row1), (idx2, row2) in string_combinations:\n",
    "        diff_score = tlsh.diff(row1[col], row2[col])\n",
    "        results.append((row1['family'], row2['family'], row1['malware'], row2['malware'], row1[col], row2[col], diff_score))\n",
    "    \n",
    "    # Convert results to DataFrame\n",
    "    results_df = pd.DataFrame(results, columns=['Family 1', 'Family 2', 'Malware 1', \"Malware 2\", 'TLSH 1', 'TLSH 2', 'Diff Score'])\n",
    "    \n",
    "    return results_df\n"
   ]
  },
  {
   "cell_type": "code",
   "execution_count": 15,
   "id": "8daf5a3ba94515d",
   "metadata": {
    "ExecuteTime": {
     "end_time": "2023-12-30T20:52:09.580206Z",
     "start_time": "2023-12-30T20:51:41.371328Z"
    },
    "collapsed": false
   },
   "outputs": [],
   "source": [
    "results_tlsh = tlsh_comb()\n",
    "results_str = tlsh_comb(col='strings')\n"
   ]
  },
  {
   "cell_type": "code",
   "execution_count": 16,
   "id": "460afe476fb884de",
   "metadata": {
    "ExecuteTime": {
     "end_time": "2023-12-30T20:52:09.588470Z",
     "start_time": "2023-12-30T20:52:09.583237Z"
    },
    "collapsed": false
   },
   "outputs": [
    {
     "data": {
      "text/html": [
       "<div>\n",
       "<style scoped>\n",
       "    .dataframe tbody tr th:only-of-type {\n",
       "        vertical-align: middle;\n",
       "    }\n",
       "\n",
       "    .dataframe tbody tr th {\n",
       "        vertical-align: top;\n",
       "    }\n",
       "\n",
       "    .dataframe thead th {\n",
       "        text-align: right;\n",
       "    }\n",
       "</style>\n",
       "<table border=\"1\" class=\"dataframe\">\n",
       "  <thead>\n",
       "    <tr style=\"text-align: right;\">\n",
       "      <th></th>\n",
       "      <th>Family 1</th>\n",
       "      <th>Family 2</th>\n",
       "      <th>Malware 1</th>\n",
       "      <th>Malware 2</th>\n",
       "      <th>TLSH 1</th>\n",
       "      <th>TLSH 2</th>\n",
       "      <th>Diff Score</th>\n",
       "    </tr>\n",
       "  </thead>\n",
       "  <tbody>\n",
       "    <tr>\n",
       "      <th>0</th>\n",
       "      <td>DIAMOND</td>\n",
       "      <td>DIAMOND</td>\n",
       "      <td>False</td>\n",
       "      <td>False</td>\n",
       "      <td>T170858D1B66820CB9C492D53467E797F26830B8B5C238...</td>\n",
       "      <td>T1FB457E47FAC358A8C097D538466FA1367A31BC9FC230...</td>\n",
       "      <td>128</td>\n",
       "    </tr>\n",
       "    <tr>\n",
       "      <th>1</th>\n",
       "      <td>DIAMOND</td>\n",
       "      <td>DIAMOND</td>\n",
       "      <td>False</td>\n",
       "      <td>False</td>\n",
       "      <td>T170858D1B66820CB9C492D53467E797F26830B8B5C238...</td>\n",
       "      <td>T1A3868E03E687A468C8A6C43813DB91B3ED717C799630...</td>\n",
       "      <td>260</td>\n",
       "    </tr>\n",
       "    <tr>\n",
       "      <th>2</th>\n",
       "      <td>DIAMOND</td>\n",
       "      <td>DIAMOND</td>\n",
       "      <td>False</td>\n",
       "      <td>False</td>\n",
       "      <td>T170858D1B66820CB9C492D53467E797F26830B8B5C238...</td>\n",
       "      <td>T112759F1B6BA208ADC892D53457E796F26C31B8B5C238...</td>\n",
       "      <td>41</td>\n",
       "    </tr>\n",
       "    <tr>\n",
       "      <th>3</th>\n",
       "      <td>DIAMOND</td>\n",
       "      <td>RStudio-Server</td>\n",
       "      <td>False</td>\n",
       "      <td>False</td>\n",
       "      <td>T170858D1B66820CB9C492D53467E797F26830B8B5C238...</td>\n",
       "      <td>T150918C52B0542BB67974A378DBB71467E320905B6001...</td>\n",
       "      <td>938</td>\n",
       "    </tr>\n",
       "    <tr>\n",
       "      <th>4</th>\n",
       "      <td>DIAMOND</td>\n",
       "      <td>RStudio-Server</td>\n",
       "      <td>False</td>\n",
       "      <td>False</td>\n",
       "      <td>T170858D1B66820CB9C492D53467E797F26830B8B5C238...</td>\n",
       "      <td>T1C4918A62B0542B767974A368DBB71466E320905B6001...</td>\n",
       "      <td>963</td>\n",
       "    </tr>\n",
       "    <tr>\n",
       "      <th>...</th>\n",
       "      <td>...</td>\n",
       "      <td>...</td>\n",
       "      <td>...</td>\n",
       "      <td>...</td>\n",
       "      <td>...</td>\n",
       "      <td>...</td>\n",
       "      <td>...</td>\n",
       "    </tr>\n",
       "    <tr>\n",
       "      <th>1391941</th>\n",
       "      <td>Bankshot</td>\n",
       "      <td>Bashlite</td>\n",
       "      <td>True</td>\n",
       "      <td>True</td>\n",
       "      <td>T197C72321F9B1C422CDDA0336D9DBB2F521AD5D20DE24...</td>\n",
       "      <td>T111732949E552C6F7C4821BB10397BAEE0766FD394E7A...</td>\n",
       "      <td>1028</td>\n",
       "    </tr>\n",
       "    <tr>\n",
       "      <th>1391942</th>\n",
       "      <td>Bankshot</td>\n",
       "      <td>Bashlite</td>\n",
       "      <td>True</td>\n",
       "      <td>True</td>\n",
       "      <td>T197C72321F9B1C422CDDA0336D9DBB2F521AD5D20DE24...</td>\n",
       "      <td>T1EEB33B376651C97AC08356F426EBC5729C13BCBB0B32...</td>\n",
       "      <td>1042</td>\n",
       "    </tr>\n",
       "    <tr>\n",
       "      <th>1391943</th>\n",
       "      <td>Koadic</td>\n",
       "      <td>Bashlite</td>\n",
       "      <td>True</td>\n",
       "      <td>True</td>\n",
       "      <td>T162939D83B6C216B2DACAD2B001A236B6CF74937B8719...</td>\n",
       "      <td>T111732949E552C6F7C4821BB10397BAEE0766FD394E7A...</td>\n",
       "      <td>288</td>\n",
       "    </tr>\n",
       "    <tr>\n",
       "      <th>1391944</th>\n",
       "      <td>Koadic</td>\n",
       "      <td>Bashlite</td>\n",
       "      <td>True</td>\n",
       "      <td>True</td>\n",
       "      <td>T162939D83B6C216B2DACAD2B001A236B6CF74937B8719...</td>\n",
       "      <td>T1EEB33B376651C97AC08356F426EBC5729C13BCBB0B32...</td>\n",
       "      <td>278</td>\n",
       "    </tr>\n",
       "    <tr>\n",
       "      <th>1391945</th>\n",
       "      <td>Bashlite</td>\n",
       "      <td>Bashlite</td>\n",
       "      <td>True</td>\n",
       "      <td>True</td>\n",
       "      <td>T111732949E552C6F7C4821BB10397BAEE0766FD394E7A...</td>\n",
       "      <td>T1EEB33B376651C97AC08356F426EBC5729C13BCBB0B32...</td>\n",
       "      <td>197</td>\n",
       "    </tr>\n",
       "  </tbody>\n",
       "</table>\n",
       "<p>1391946 rows × 7 columns</p>\n",
       "</div>"
      ],
      "text/plain": [
       "         Family 1        Family 2  Malware 1  Malware 2  \\\n",
       "0         DIAMOND         DIAMOND      False      False   \n",
       "1         DIAMOND         DIAMOND      False      False   \n",
       "2         DIAMOND         DIAMOND      False      False   \n",
       "3         DIAMOND  RStudio-Server      False      False   \n",
       "4         DIAMOND  RStudio-Server      False      False   \n",
       "...           ...             ...        ...        ...   \n",
       "1391941  Bankshot        Bashlite       True       True   \n",
       "1391942  Bankshot        Bashlite       True       True   \n",
       "1391943    Koadic        Bashlite       True       True   \n",
       "1391944    Koadic        Bashlite       True       True   \n",
       "1391945  Bashlite        Bashlite       True       True   \n",
       "\n",
       "                                                    TLSH 1  \\\n",
       "0        T170858D1B66820CB9C492D53467E797F26830B8B5C238...   \n",
       "1        T170858D1B66820CB9C492D53467E797F26830B8B5C238...   \n",
       "2        T170858D1B66820CB9C492D53467E797F26830B8B5C238...   \n",
       "3        T170858D1B66820CB9C492D53467E797F26830B8B5C238...   \n",
       "4        T170858D1B66820CB9C492D53467E797F26830B8B5C238...   \n",
       "...                                                    ...   \n",
       "1391941  T197C72321F9B1C422CDDA0336D9DBB2F521AD5D20DE24...   \n",
       "1391942  T197C72321F9B1C422CDDA0336D9DBB2F521AD5D20DE24...   \n",
       "1391943  T162939D83B6C216B2DACAD2B001A236B6CF74937B8719...   \n",
       "1391944  T162939D83B6C216B2DACAD2B001A236B6CF74937B8719...   \n",
       "1391945  T111732949E552C6F7C4821BB10397BAEE0766FD394E7A...   \n",
       "\n",
       "                                                    TLSH 2  Diff Score  \n",
       "0        T1FB457E47FAC358A8C097D538466FA1367A31BC9FC230...         128  \n",
       "1        T1A3868E03E687A468C8A6C43813DB91B3ED717C799630...         260  \n",
       "2        T112759F1B6BA208ADC892D53457E796F26C31B8B5C238...          41  \n",
       "3        T150918C52B0542BB67974A378DBB71467E320905B6001...         938  \n",
       "4        T1C4918A62B0542B767974A368DBB71466E320905B6001...         963  \n",
       "...                                                    ...         ...  \n",
       "1391941  T111732949E552C6F7C4821BB10397BAEE0766FD394E7A...        1028  \n",
       "1391942  T1EEB33B376651C97AC08356F426EBC5729C13BCBB0B32...        1042  \n",
       "1391943  T111732949E552C6F7C4821BB10397BAEE0766FD394E7A...         288  \n",
       "1391944  T1EEB33B376651C97AC08356F426EBC5729C13BCBB0B32...         278  \n",
       "1391945  T1EEB33B376651C97AC08356F426EBC5729C13BCBB0B32...         197  \n",
       "\n",
       "[1391946 rows x 7 columns]"
      ]
     },
     "execution_count": 16,
     "metadata": {},
     "output_type": "execute_result"
    }
   ],
   "source": [
    "results_tlsh"
   ]
  },
  {
   "cell_type": "code",
   "execution_count": 17,
   "id": "86d3a57a",
   "metadata": {
    "ExecuteTime": {
     "end_time": "2023-12-30T20:52:09.891672Z",
     "start_time": "2023-12-30T20:52:09.592739Z"
    }
   },
   "outputs": [],
   "source": [
    "p = results_tlsh.loc[results_tlsh.groupby(\"TLSH 1\")[\"Diff Score\"].idxmin()]\n",
    "s = results_str.loc[results_str.groupby(\"TLSH 1\")[\"Diff Score\"].idxmin()]"
   ]
  },
  {
   "cell_type": "code",
   "execution_count": 18,
   "id": "c69fc911",
   "metadata": {
    "ExecuteTime": {
     "end_time": "2023-12-30T20:52:09.899840Z",
     "start_time": "2023-12-30T20:52:09.894931Z"
    }
   },
   "outputs": [
    {
     "data": {
      "text/html": [
       "<div>\n",
       "<style scoped>\n",
       "    .dataframe tbody tr th:only-of-type {\n",
       "        vertical-align: middle;\n",
       "    }\n",
       "\n",
       "    .dataframe tbody tr th {\n",
       "        vertical-align: top;\n",
       "    }\n",
       "\n",
       "    .dataframe thead th {\n",
       "        text-align: right;\n",
       "    }\n",
       "</style>\n",
       "<table border=\"1\" class=\"dataframe\">\n",
       "  <thead>\n",
       "    <tr style=\"text-align: right;\">\n",
       "      <th></th>\n",
       "      <th>Family 1</th>\n",
       "      <th>Family 2</th>\n",
       "      <th>Malware 1</th>\n",
       "      <th>Malware 2</th>\n",
       "      <th>TLSH 1</th>\n",
       "      <th>TLSH 2</th>\n",
       "      <th>Diff Score</th>\n",
       "    </tr>\n",
       "  </thead>\n",
       "  <tbody>\n",
       "    <tr>\n",
       "      <th>1133108</th>\n",
       "      <td>cURL</td>\n",
       "      <td>cURL</td>\n",
       "      <td>False</td>\n",
       "      <td>False</td>\n",
       "      <td>T100232B0180E5791701E543D3B3D566AF3378F0FB2900...</td>\n",
       "      <td>T1DA132A0284E8791705E943C3B3D5A69F7338F0FB2601...</td>\n",
       "      <td>29</td>\n",
       "    </tr>\n",
       "    <tr>\n",
       "      <th>1219370</th>\n",
       "      <td>GSL</td>\n",
       "      <td>GSL</td>\n",
       "      <td>False</td>\n",
       "      <td>False</td>\n",
       "      <td>T10041654C5A77D6F324C3271CA21E452266037959DB2B...</td>\n",
       "      <td>T17641630C5676DAB33A83332DF30E4422A643765ADB5A...</td>\n",
       "      <td>54</td>\n",
       "    </tr>\n",
       "    <tr>\n",
       "      <th>1177106</th>\n",
       "      <td>pkgconf</td>\n",
       "      <td>pkgconf</td>\n",
       "      <td>False</td>\n",
       "      <td>False</td>\n",
       "      <td>T10042C9221A44FDF715814BA7F378446143F1A9F6A361...</td>\n",
       "      <td>T18942D7120A54FEF725914BA7F338542053B2A5F9A361...</td>\n",
       "      <td>41</td>\n",
       "    </tr>\n",
       "    <tr>\n",
       "      <th>1217863</th>\n",
       "      <td>MATLAB</td>\n",
       "      <td>E:\\Cloud\\Nextcloud\\Uni\\7. Semester\\Bachelors_T...</td>\n",
       "      <td>False</td>\n",
       "      <td>False</td>\n",
       "      <td>T10043732A7E448FB0265CC475494A61C8F22D415B03B6...</td>\n",
       "      <td>T1A8436368FBE30DB1C4C529C6524B914BFF811B52D13F...</td>\n",
       "      <td>192</td>\n",
       "    </tr>\n",
       "    <tr>\n",
       "      <th>1316091</th>\n",
       "      <td>x264</td>\n",
       "      <td>x264</td>\n",
       "      <td>False</td>\n",
       "      <td>False</td>\n",
       "      <td>T100540804CE113BEE42F16960E374E18B33E053B727A0...</td>\n",
       "      <td>T1C3540704CD113BEE41F16960E3B4A14F33E053B727A0...</td>\n",
       "      <td>12</td>\n",
       "    </tr>\n",
       "    <tr>\n",
       "      <th>...</th>\n",
       "      <td>...</td>\n",
       "      <td>...</td>\n",
       "      <td>...</td>\n",
       "      <td>...</td>\n",
       "      <td>...</td>\n",
       "      <td>...</td>\n",
       "      <td>...</td>\n",
       "    </tr>\n",
       "    <tr>\n",
       "      <th>1067534</th>\n",
       "      <td>XZ</td>\n",
       "      <td>XZ</td>\n",
       "      <td>False</td>\n",
       "      <td>False</td>\n",
       "      <td>T1FE92D8124430197B03D11583BB2CDE476371A1677361...</td>\n",
       "      <td>T17EA2E912943019B717D11583BB2CDB427371A1673360...</td>\n",
       "      <td>25</td>\n",
       "    </tr>\n",
       "    <tr>\n",
       "      <th>1190651</th>\n",
       "      <td>E:\\Cloud\\Nextcloud\\Uni\\7. Semester\\Bachelors_T...</td>\n",
       "      <td>E:\\Cloud\\Nextcloud\\Uni\\7. Semester\\Bachelors_T...</td>\n",
       "      <td>False</td>\n",
       "      <td>False</td>\n",
       "      <td>T1FE95B41184B077764EFB8530A7AE4E98B72841A756E1...</td>\n",
       "      <td>T18295B41184B077764EFB8530A7AE4E98B72840A756E1...</td>\n",
       "      <td>3</td>\n",
       "    </tr>\n",
       "    <tr>\n",
       "      <th>1387481</th>\n",
       "      <td>ORCA</td>\n",
       "      <td>ORCA</td>\n",
       "      <td>False</td>\n",
       "      <td>False</td>\n",
       "      <td>T1FEB6A7910EC031A80BB85771A7BAE5DDB35053DBA731...</td>\n",
       "      <td>T1F756EC475D8C338B2F624FE09B79908B3710248F7D2F...</td>\n",
       "      <td>310</td>\n",
       "    </tr>\n",
       "    <tr>\n",
       "      <th>930459</th>\n",
       "      <td>OpenStructure</td>\n",
       "      <td>JasPer</td>\n",
       "      <td>False</td>\n",
       "      <td>False</td>\n",
       "      <td>T1FEC1B512AF567869DA9BD13B34CD6DC05F8283614E70...</td>\n",
       "      <td>T19EC1A4089A759133328137AA76CE89416B62312E6620...</td>\n",
       "      <td>159</td>\n",
       "    </tr>\n",
       "    <tr>\n",
       "      <th>1367856</th>\n",
       "      <td>RAxML</td>\n",
       "      <td>RAxML</td>\n",
       "      <td>False</td>\n",
       "      <td>False</td>\n",
       "      <td>T1FEC319805EF036F706974660B766D289776061B72F2C...</td>\n",
       "      <td>T1EB043A805BE032FB06874691B3A9D185776062B7372C...</td>\n",
       "      <td>96</td>\n",
       "    </tr>\n",
       "  </tbody>\n",
       "</table>\n",
       "<p>1665 rows × 7 columns</p>\n",
       "</div>"
      ],
      "text/plain": [
       "                                                  Family 1  \\\n",
       "1133108                                               cURL   \n",
       "1219370                                                GSL   \n",
       "1177106                                            pkgconf   \n",
       "1217863                                             MATLAB   \n",
       "1316091                                               x264   \n",
       "...                                                    ...   \n",
       "1067534                                                 XZ   \n",
       "1190651  E:\\Cloud\\Nextcloud\\Uni\\7. Semester\\Bachelors_T...   \n",
       "1387481                                               ORCA   \n",
       "930459                                       OpenStructure   \n",
       "1367856                                              RAxML   \n",
       "\n",
       "                                                  Family 2  Malware 1  \\\n",
       "1133108                                               cURL      False   \n",
       "1219370                                                GSL      False   \n",
       "1177106                                            pkgconf      False   \n",
       "1217863  E:\\Cloud\\Nextcloud\\Uni\\7. Semester\\Bachelors_T...      False   \n",
       "1316091                                               x264      False   \n",
       "...                                                    ...        ...   \n",
       "1067534                                                 XZ      False   \n",
       "1190651  E:\\Cloud\\Nextcloud\\Uni\\7. Semester\\Bachelors_T...      False   \n",
       "1387481                                               ORCA      False   \n",
       "930459                                              JasPer      False   \n",
       "1367856                                              RAxML      False   \n",
       "\n",
       "         Malware 2                                             TLSH 1  \\\n",
       "1133108      False  T100232B0180E5791701E543D3B3D566AF3378F0FB2900...   \n",
       "1219370      False  T10041654C5A77D6F324C3271CA21E452266037959DB2B...   \n",
       "1177106      False  T10042C9221A44FDF715814BA7F378446143F1A9F6A361...   \n",
       "1217863      False  T10043732A7E448FB0265CC475494A61C8F22D415B03B6...   \n",
       "1316091      False  T100540804CE113BEE42F16960E374E18B33E053B727A0...   \n",
       "...            ...                                                ...   \n",
       "1067534      False  T1FE92D8124430197B03D11583BB2CDE476371A1677361...   \n",
       "1190651      False  T1FE95B41184B077764EFB8530A7AE4E98B72841A756E1...   \n",
       "1387481      False  T1FEB6A7910EC031A80BB85771A7BAE5DDB35053DBA731...   \n",
       "930459       False  T1FEC1B512AF567869DA9BD13B34CD6DC05F8283614E70...   \n",
       "1367856      False  T1FEC319805EF036F706974660B766D289776061B72F2C...   \n",
       "\n",
       "                                                    TLSH 2  Diff Score  \n",
       "1133108  T1DA132A0284E8791705E943C3B3D5A69F7338F0FB2601...          29  \n",
       "1219370  T17641630C5676DAB33A83332DF30E4422A643765ADB5A...          54  \n",
       "1177106  T18942D7120A54FEF725914BA7F338542053B2A5F9A361...          41  \n",
       "1217863  T1A8436368FBE30DB1C4C529C6524B914BFF811B52D13F...         192  \n",
       "1316091  T1C3540704CD113BEE41F16960E3B4A14F33E053B727A0...          12  \n",
       "...                                                    ...         ...  \n",
       "1067534  T17EA2E912943019B717D11583BB2CDB427371A1673360...          25  \n",
       "1190651  T18295B41184B077764EFB8530A7AE4E98B72840A756E1...           3  \n",
       "1387481  T1F756EC475D8C338B2F624FE09B79908B3710248F7D2F...         310  \n",
       "930459   T19EC1A4089A759133328137AA76CE89416B62312E6620...         159  \n",
       "1367856  T1EB043A805BE032FB06874691B3A9D185776062B7372C...          96  \n",
       "\n",
       "[1665 rows x 7 columns]"
      ]
     },
     "execution_count": 18,
     "metadata": {},
     "output_type": "execute_result"
    }
   ],
   "source": [
    "s"
   ]
  },
  {
   "cell_type": "code",
   "execution_count": 19,
   "id": "7870405be8e3a461",
   "metadata": {
    "ExecuteTime": {
     "end_time": "2023-12-30T20:52:09.902528Z",
     "start_time": "2023-12-30T20:52:09.898536Z"
    },
    "collapsed": false
   },
   "outputs": [
    {
     "name": "stdout",
     "output_type": "stream",
     "text": [
      "TP is: 0.6302050963331262 and amount is 1014 of 1609\n"
     ]
    }
   ],
   "source": [
    "l = p[p['Malware 1'] == False]\n",
    "\n",
    "f = l[l[\"Diff Score\"] < 4000]\n",
    "winrate = ((f[\"Family 1\"] == f[\"Family 2\"]).sum() / len(f))\n",
    "print(f'TP is: {winrate} and amount is {(f[\"Family 1\"] == f[\"Family 2\"]).sum()} of {len(l)}')"
   ]
  },
  {
   "cell_type": "code",
   "execution_count": 20,
   "id": "53075d206cb0fbc7",
   "metadata": {
    "ExecuteTime": {
     "end_time": "2023-12-30T20:52:39.033374Z",
     "start_time": "2023-12-30T20:52:10.014803Z"
    },
    "collapsed": false
   },
   "outputs": [],
   "source": [
    "def tlsh_thresh(s):\n",
    "    s = s.loc[s.groupby(\"TLSH 1\")[\"Diff Score\"].idxmin()]\n",
    "    ssdeep_th = pd.DataFrame(columns=[\"threshold\", \"true_positive_rate\", \"false_positive_rate\"])\n",
    "    comp_to_sci = s[s[\"Malware 1\"] == False]\n",
    "    compt_to_malware = s[s[\"Malware 2\"] == True]\n",
    "    for i in range (0,300,1):\n",
    "        \n",
    "        sci_th = comp_to_sci[comp_to_sci[\"Diff Score\"] < i]\n",
    "        mal_th = compt_to_malware[compt_to_malware[\"Diff Score\"] < i]\n",
    "        f_th = compt_to_malware[compt_to_malware[\"Diff Score\"] >= i]\n",
    "        \n",
    "        TP = (sci_th[\"Family 1\"] == sci_th[\"Family 2\"]).sum()\n",
    "        FP = (sci_th[\"Family 1\"] != sci_th[\"Family 2\"]).sum()\n",
    "        FN = (f_th[\"Family 1\"] != f_th[\"Family 2\"]).sum()\n",
    "        TN = (f_th[\"Family 1\"] == f_th[\"Family 2\"]).sum()\n",
    "        \n",
    "        TPR = TP / (TP + FN) if TP + FN != 0 else 0\n",
    "        FPR = FP / (FP + TN) if FP + TN != 0 else 0\n",
    "        # Append results to DataFrame\n",
    "        ssdeep_th.loc[i] = [i, TPR, FPR]\n",
    "    return ssdeep_th\n",
    "p = tlsh_thresh(tlsh_comb())\n",
    "s = tlsh_thresh(tlsh_comb(col='strings'))"
   ]
  },
  {
   "cell_type": "code",
   "execution_count": 21,
   "id": "44552a05",
   "metadata": {
    "ExecuteTime": {
     "end_time": "2023-12-30T20:52:39.041065Z",
     "start_time": "2023-12-30T20:52:39.036006Z"
    }
   },
   "outputs": [
    {
     "data": {
      "text/html": [
       "<div>\n",
       "<style scoped>\n",
       "    .dataframe tbody tr th:only-of-type {\n",
       "        vertical-align: middle;\n",
       "    }\n",
       "\n",
       "    .dataframe tbody tr th {\n",
       "        vertical-align: top;\n",
       "    }\n",
       "\n",
       "    .dataframe thead th {\n",
       "        text-align: right;\n",
       "    }\n",
       "</style>\n",
       "<table border=\"1\" class=\"dataframe\">\n",
       "  <thead>\n",
       "    <tr style=\"text-align: right;\">\n",
       "      <th></th>\n",
       "      <th>threshold</th>\n",
       "      <th>true_positive_rate</th>\n",
       "      <th>false_positive_rate</th>\n",
       "    </tr>\n",
       "  </thead>\n",
       "  <tbody>\n",
       "    <tr>\n",
       "      <th>0</th>\n",
       "      <td>0.0</td>\n",
       "      <td>0.000000</td>\n",
       "      <td>0.000000</td>\n",
       "    </tr>\n",
       "    <tr>\n",
       "      <th>1</th>\n",
       "      <td>1.0</td>\n",
       "      <td>0.000000</td>\n",
       "      <td>0.000000</td>\n",
       "    </tr>\n",
       "    <tr>\n",
       "      <th>2</th>\n",
       "      <td>2.0</td>\n",
       "      <td>0.471264</td>\n",
       "      <td>0.000000</td>\n",
       "    </tr>\n",
       "    <tr>\n",
       "      <th>3</th>\n",
       "      <td>3.0</td>\n",
       "      <td>0.566038</td>\n",
       "      <td>0.000000</td>\n",
       "    </tr>\n",
       "    <tr>\n",
       "      <th>4</th>\n",
       "      <td>4.0</td>\n",
       "      <td>0.643411</td>\n",
       "      <td>0.000000</td>\n",
       "    </tr>\n",
       "    <tr>\n",
       "      <th>...</th>\n",
       "      <td>...</td>\n",
       "      <td>...</td>\n",
       "      <td>...</td>\n",
       "    </tr>\n",
       "    <tr>\n",
       "      <th>295</th>\n",
       "      <td>295.0</td>\n",
       "      <td>0.987342</td>\n",
       "      <td>0.998305</td>\n",
       "    </tr>\n",
       "    <tr>\n",
       "      <th>296</th>\n",
       "      <td>296.0</td>\n",
       "      <td>0.987342</td>\n",
       "      <td>0.998305</td>\n",
       "    </tr>\n",
       "    <tr>\n",
       "      <th>297</th>\n",
       "      <td>297.0</td>\n",
       "      <td>0.988304</td>\n",
       "      <td>0.998305</td>\n",
       "    </tr>\n",
       "    <tr>\n",
       "      <th>298</th>\n",
       "      <td>298.0</td>\n",
       "      <td>0.988304</td>\n",
       "      <td>0.998305</td>\n",
       "    </tr>\n",
       "    <tr>\n",
       "      <th>299</th>\n",
       "      <td>299.0</td>\n",
       "      <td>0.988304</td>\n",
       "      <td>0.998305</td>\n",
       "    </tr>\n",
       "  </tbody>\n",
       "</table>\n",
       "<p>300 rows × 3 columns</p>\n",
       "</div>"
      ],
      "text/plain": [
       "     threshold  true_positive_rate  false_positive_rate\n",
       "0          0.0            0.000000             0.000000\n",
       "1          1.0            0.000000             0.000000\n",
       "2          2.0            0.471264             0.000000\n",
       "3          3.0            0.566038             0.000000\n",
       "4          4.0            0.643411             0.000000\n",
       "..         ...                 ...                  ...\n",
       "295      295.0            0.987342             0.998305\n",
       "296      296.0            0.987342             0.998305\n",
       "297      297.0            0.988304             0.998305\n",
       "298      298.0            0.988304             0.998305\n",
       "299      299.0            0.988304             0.998305\n",
       "\n",
       "[300 rows x 3 columns]"
      ]
     },
     "execution_count": 21,
     "metadata": {},
     "output_type": "execute_result"
    }
   ],
   "source": [
    "p"
   ]
  },
  {
   "cell_type": "code",
   "execution_count": 22,
   "id": "924984aacef97837",
   "metadata": {
    "ExecuteTime": {
     "end_time": "2023-12-30T20:52:39.123873Z",
     "start_time": "2023-12-30T20:52:39.040857Z"
    },
    "collapsed": false
   },
   "outputs": [
    {
     "data": {
      "image/png": "[encoded data removed]",
      "text/plain": [
       "<Figure size 640x480 with 1 Axes>"
      ]
     },
     "metadata": {},
     "output_type": "display_data"
    }
   ],
   "source": [
    "p.plot(x=\"false_positive_rate\", y=\"true_positive_rate\", xlim=(0, 1), ylim=(0, 1),title=\"ROC Curve for TLSH\", legend=False)\n",
    "plt.plot([0, 1], [0, 1], color='navy', linestyle='--')\n",
    "for i in range(0,p.shape[0], 8):\n",
    "    plt.annotate(i, (p[\"false_positive_rate\"][i], p[\"true_positive_rate\"][i]), fontsize=8, xytext=(-7, 8), textcoords='offset points')\n",
    "    if i > 60:\n",
    "        break\n",
    "plt.show()"
   ]
  },
  {
   "cell_type": "code",
   "execution_count": 23,
   "id": "aed44b50",
   "metadata": {
    "ExecuteTime": {
     "end_time": "2023-12-30T20:52:39.199514Z",
     "start_time": "2023-12-30T20:52:39.122090Z"
    }
   },
   "outputs": [
    {
     "data": {
      "image/png": "[encoded data removed]",
      "text/plain": [
       "<Figure size 640x480 with 1 Axes>"
      ]
     },
     "metadata": {},
     "output_type": "display_data"
    }
   ],
   "source": [
    "s.plot(x=\"false_positive_rate\", y=\"true_positive_rate\", xlim=(0, 1), ylim=(0, 1),title=\"ROC Curve for strings\", legend=False)\n",
    "plt.plot([0, 1], [0, 1], color='navy', linestyle='--')\n",
    "for i in range(0,p.shape[0], 8):\n",
    "    plt.annotate(i, (p[\"false_positive_rate\"][i], p[\"true_positive_rate\"][i]), fontsize=8, xytext=(-7, 8), textcoords='offset points')\n",
    "    if i > 60:\n",
    "        break\n",
    "plt.show()"
   ]
  },
  {
   "cell_type": "code",
   "execution_count": 44,
   "id": "71d389117e42087f",
   "metadata": {
    "ExecuteTime": {
     "end_time": "2023-12-31T17:04:53.452024Z",
     "start_time": "2023-12-31T17:04:39.660956Z"
    },
    "collapsed": false
   },
   "outputs": [
    {
     "data": {
      "text/plain": [
       "<Axes: title={'center': 'F1 Score and Accuracy for TLSH'}, xlabel='threshold'>"
      ]
     },
     "execution_count": 44,
     "metadata": {},
     "output_type": "execute_result"
    },
    {
     "data": {
      "image/png": "[encoded data removed]",
      "text/plain": [
       "<Figure size 640x480 with 1 Axes>"
      ]
     },
     "metadata": {},
     "output_type": "display_data"
    }
   ],
   "source": [
    "def tlsh_f1(s):\n",
    "    s = s.loc[s.groupby('TLSH 1')[\"Diff Score\"].idxmin()]\n",
    "    ssdeep_th = pd.DataFrame(columns=[\"threshold\", \"f1\", \"accuracy\"])\n",
    "    comp_to_sci = s[s[\"Malware 1\"] == False]\n",
    "    compt_to_malware = s[s[\"Malware 2\"] == True]\n",
    "    for i in range (0,300,1):\n",
    "        \n",
    "        sci_th = comp_to_sci[comp_to_sci[\"Diff Score\"] >= i]\n",
    "        mal_th = compt_to_malware[compt_to_malware[\"Diff Score\"] > i]\n",
    "        f_th = compt_to_malware[compt_to_malware[\"Diff Score\"] < i]\n",
    "        \n",
    "        TP = (sci_th[\"Family 1\"] == sci_th[\"Family 2\"]).sum()\n",
    "        FP = (sci_th[\"Family 1\"] != sci_th[\"Family 2\"]).sum()\n",
    "        FN = (f_th[\"Family 1\"] != f_th[\"Family 2\"]).sum()\n",
    "        TN = (f_th[\"Family 1\"] == f_th[\"Family 2\"]).sum()\n",
    "        \n",
    "        precision = TP / (TP + FP) if TP + FP != 0 else 0\n",
    "        recall = TP / (TP + FN) if TP + TN != 0 else 0\n",
    "        \n",
    "        f1 = (2 * precision * recall) / (precision + recall)\n",
    "        accuracy = (TP + TN) / (TP + FP + FN + TN)\n",
    "        # Append results to DataFrame\n",
    "        ssdeep_th.loc[i] = [i, f1, accuracy]\n",
    "    return ssdeep_th\n",
    "f = tlsh_f1(tlsh_comb())\n",
    "f.plot(x=\"threshold\", y=[\"f1\",\"accuracy\"],title=\"F1 Score and Accuracy for TLSH\")"
   ]
  },
  {
   "cell_type": "code",
   "execution_count": 45,
   "id": "3a6c81b31a5b599e",
   "metadata": {
    "ExecuteTime": {
     "end_time": "2023-12-31T17:05:07.126061Z",
     "start_time": "2023-12-31T17:04:53.522328Z"
    },
    "collapsed": false
   },
   "outputs": [
    {
     "data": {
      "text/plain": [
       "<Axes: title={'center': 'F1 Score and Accuracy for strings'}, xlabel='threshold'>"
      ]
     },
     "execution_count": 45,
     "metadata": {},
     "output_type": "execute_result"
    },
    {
     "data": {
      "image/png": "[encoded data removed]",
      "text/plain": [
       "<Figure size 640x480 with 1 Axes>"
      ]
     },
     "metadata": {},
     "output_type": "display_data"
    }
   ],
   "source": [
    "s = tlsh_f1(tlsh_comb(col='strings'))\n",
    "s.plot(x=\"threshold\", y=[\"f1\",\"accuracy\"],title=\"F1 Score and Accuracy for strings\")"
   ]
  },
  {
   "cell_type": "markdown",
   "id": "d66f50b8296342f3",
   "metadata": {
    "collapsed": false
   },
   "source": [
    "# SSDEEP\n",
    "## Prediction\n",
    "\n",
    "First I will define a function that will predict the family of a sample based on the score of the comparison. The score is the maximum score of the comparison of the sample to all other samples. If the score is 0, there is no match and the prediction is \"No Match\". If the score is higher than 0, the prediction is the family with the highest score, based on the threshold. Second, I will define a function that will calculate the ROC curve based on the predictions on the given thresholds."
   ]
  },
  {
   "cell_type": "code",
   "execution_count": 24,
   "id": "de2d4b94273078e3",
   "metadata": {
    "ExecuteTime": {
     "end_time": "2023-12-30T20:52:39.203099Z",
     "start_time": "2023-12-30T20:52:39.200837Z"
    },
    "collapsed": false
   },
   "outputs": [],
   "source": [
    "def ssdeep_comb(df=scicore_concat):\n",
    "    from itertools import combinations\n",
    "    \n",
    "    # Generate all binary combinations of the strings in the specified column\n",
    "    string_combinations = combinations(df[['ssdeep', 'family', 'malware']].iterrows(), 2)\n",
    "    \n",
    "    # Apply tlsh.diff to each combination\n",
    "    results = []\n",
    "    for (idx1, row1), (idx2, row2) in string_combinations:\n",
    "        diff_score = ssdeep.compare(row1['ssdeep'][\"ssdeep\"], row2['ssdeep'][\"ssdeep\"])\n",
    "        if diff_score == 0:\n",
    "            results.append((row1['family'], \"No Match\", row1['malware'], row2['malware'], row1['ssdeep']['ssdeep'], row2['ssdeep']['ssdeep'], diff_score))\n",
    "        else:\n",
    "            results.append((row1['family'], row2['family'], row1['malware'], row2['malware'], row1['ssdeep']['ssdeep'], row2['ssdeep']['ssdeep'], diff_score))\n",
    "    \n",
    "    # Convert results to DataFrame\n",
    "    results_df = pd.DataFrame(results, columns=['Family 1', 'Family 2', 'Malware 1', \"Malware 2\", 'ssdeep 1', 'ssdeep 2', 'Diff Score'])\n",
    "    \n",
    "    return results_df"
   ]
  },
  {
   "cell_type": "code",
   "execution_count": 25,
   "id": "aa8b789b7dcd2648",
   "metadata": {
    "ExecuteTime": {
     "end_time": "2023-12-30T20:52:52.926269Z",
     "start_time": "2023-12-30T20:52:39.239056Z"
    },
    "collapsed": false
   },
   "outputs": [],
   "source": [
    "result_ssdeep = ssdeep_comb(df=scicore_filtered)"
   ]
  },
  {
   "cell_type": "code",
   "execution_count": 26,
   "id": "cd45e80fb5a8475",
   "metadata": {
    "ExecuteTime": {
     "end_time": "2023-12-30T20:52:52.934756Z",
     "start_time": "2023-12-30T20:52:52.929783Z"
    },
    "collapsed": false
   },
   "outputs": [
    {
     "data": {
      "text/html": [
       "<div>\n",
       "<style scoped>\n",
       "    .dataframe tbody tr th:only-of-type {\n",
       "        vertical-align: middle;\n",
       "    }\n",
       "\n",
       "    .dataframe tbody tr th {\n",
       "        vertical-align: top;\n",
       "    }\n",
       "\n",
       "    .dataframe thead th {\n",
       "        text-align: right;\n",
       "    }\n",
       "</style>\n",
       "<table border=\"1\" class=\"dataframe\">\n",
       "  <thead>\n",
       "    <tr style=\"text-align: right;\">\n",
       "      <th></th>\n",
       "      <th>Family 1</th>\n",
       "      <th>Family 2</th>\n",
       "      <th>Malware 1</th>\n",
       "      <th>Malware 2</th>\n",
       "      <th>ssdeep 1</th>\n",
       "      <th>ssdeep 2</th>\n",
       "      <th>Diff Score</th>\n",
       "    </tr>\n",
       "  </thead>\n",
       "  <tbody>\n",
       "    <tr>\n",
       "      <th>0</th>\n",
       "      <td>DIAMOND</td>\n",
       "      <td>No Match</td>\n",
       "      <td>False</td>\n",
       "      <td>False</td>\n",
       "      <td>24576:0ZgkO8W6krEazzEHRyE5fx5j0Gkmbc4/EnbL6kS1...</td>\n",
       "      <td>24576:N7RayWHeZhpVZNmHQ/0R223Vcqemo8hS1QOq:ray...</td>\n",
       "      <td>0</td>\n",
       "    </tr>\n",
       "    <tr>\n",
       "      <th>1</th>\n",
       "      <td>DIAMOND</td>\n",
       "      <td>No Match</td>\n",
       "      <td>False</td>\n",
       "      <td>False</td>\n",
       "      <td>24576:0ZgkO8W6krEazzEHRyE5fx5j0Gkmbc4/EnbL6kS1...</td>\n",
       "      <td>98304:O4g2u6YzoSU6Zr5CqeWRP07lRNMceRe/ai8Qt5vj...</td>\n",
       "      <td>0</td>\n",
       "    </tr>\n",
       "    <tr>\n",
       "      <th>2</th>\n",
       "      <td>DIAMOND</td>\n",
       "      <td>No Match</td>\n",
       "      <td>False</td>\n",
       "      <td>False</td>\n",
       "      <td>24576:0ZgkO8W6krEazzEHRyE5fx5j0Gkmbc4/EnbL6kS1...</td>\n",
       "      <td>24576:39vHSut4l6xFkIRp1IzwbIPGVildRLdJNyZJfkD7...</td>\n",
       "      <td>0</td>\n",
       "    </tr>\n",
       "    <tr>\n",
       "      <th>3</th>\n",
       "      <td>DIAMOND</td>\n",
       "      <td>No Match</td>\n",
       "      <td>False</td>\n",
       "      <td>False</td>\n",
       "      <td>24576:0ZgkO8W6krEazzEHRyE5fx5j0Gkmbc4/EnbL6kS1...</td>\n",
       "      <td>96:mKNT20vznhw3tngiBbGBsek3Kfy2wy3wy70rsnt/amM...</td>\n",
       "      <td>0</td>\n",
       "    </tr>\n",
       "    <tr>\n",
       "      <th>4</th>\n",
       "      <td>DIAMOND</td>\n",
       "      <td>No Match</td>\n",
       "      <td>False</td>\n",
       "      <td>False</td>\n",
       "      <td>24576:0ZgkO8W6krEazzEHRyE5fx5j0Gkmbc4/EnbL6kS1...</td>\n",
       "      <td>96:mKNT20vsihw3tngiBbGBsek3Kfy2wy3wy70rsnt/amM...</td>\n",
       "      <td>0</td>\n",
       "    </tr>\n",
       "    <tr>\n",
       "      <th>...</th>\n",
       "      <td>...</td>\n",
       "      <td>...</td>\n",
       "      <td>...</td>\n",
       "      <td>...</td>\n",
       "      <td>...</td>\n",
       "      <td>...</td>\n",
       "      <td>...</td>\n",
       "    </tr>\n",
       "    <tr>\n",
       "      <th>1376965</th>\n",
       "      <td>help2man</td>\n",
       "      <td>help2man</td>\n",
       "      <td>False</td>\n",
       "      <td>False</td>\n",
       "      <td>384:svLjrCCJ8/eQrvPX+ejZbCOL3npSeLLK9qj9OLUAg5...</td>\n",
       "      <td>384:sBLdkCCJ8rwQ0EvrX+rjZbOeL3npSeLLK9qj9OLUAg...</td>\n",
       "      <td>80</td>\n",
       "    </tr>\n",
       "    <tr>\n",
       "      <th>1376966</th>\n",
       "      <td>help2man</td>\n",
       "      <td>help2man</td>\n",
       "      <td>False</td>\n",
       "      <td>False</td>\n",
       "      <td>384:svLjrCCJ8/eQrvPX+ejZbCOL3npSeLLK9qj9OLUAg5...</td>\n",
       "      <td>384:sDLjOCCJ8/eQrvPX+rjZb2OL3npSeLLK9qj9OLUAg5...</td>\n",
       "      <td>94</td>\n",
       "    </tr>\n",
       "    <tr>\n",
       "      <th>1376967</th>\n",
       "      <td>help2man</td>\n",
       "      <td>help2man</td>\n",
       "      <td>False</td>\n",
       "      <td>False</td>\n",
       "      <td>384:sBLdhCCJ8rwQ0EvrX+rjZbOeL3npSeLLK9qj9OLUAg...</td>\n",
       "      <td>384:sBLdkCCJ8rwQ0EvrX+rjZbOeL3npSeLLK9qj9OLUAg...</td>\n",
       "      <td>99</td>\n",
       "    </tr>\n",
       "    <tr>\n",
       "      <th>1376968</th>\n",
       "      <td>help2man</td>\n",
       "      <td>help2man</td>\n",
       "      <td>False</td>\n",
       "      <td>False</td>\n",
       "      <td>384:sBLdhCCJ8rwQ0EvrX+rjZbOeL3npSeLLK9qj9OLUAg...</td>\n",
       "      <td>384:sDLjOCCJ8/eQrvPX+rjZb2OL3npSeLLK9qj9OLUAg5...</td>\n",
       "      <td>82</td>\n",
       "    </tr>\n",
       "    <tr>\n",
       "      <th>1376969</th>\n",
       "      <td>help2man</td>\n",
       "      <td>help2man</td>\n",
       "      <td>False</td>\n",
       "      <td>False</td>\n",
       "      <td>384:sBLdkCCJ8rwQ0EvrX+rjZbOeL3npSeLLK9qj9OLUAg...</td>\n",
       "      <td>384:sDLjOCCJ8/eQrvPX+rjZb2OL3npSeLLK9qj9OLUAg5...</td>\n",
       "      <td>82</td>\n",
       "    </tr>\n",
       "  </tbody>\n",
       "</table>\n",
       "<p>1376970 rows × 7 columns</p>\n",
       "</div>"
      ],
      "text/plain": [
       "         Family 1  Family 2  Malware 1  Malware 2  \\\n",
       "0         DIAMOND  No Match      False      False   \n",
       "1         DIAMOND  No Match      False      False   \n",
       "2         DIAMOND  No Match      False      False   \n",
       "3         DIAMOND  No Match      False      False   \n",
       "4         DIAMOND  No Match      False      False   \n",
       "...           ...       ...        ...        ...   \n",
       "1376965  help2man  help2man      False      False   \n",
       "1376966  help2man  help2man      False      False   \n",
       "1376967  help2man  help2man      False      False   \n",
       "1376968  help2man  help2man      False      False   \n",
       "1376969  help2man  help2man      False      False   \n",
       "\n",
       "                                                  ssdeep 1  \\\n",
       "0        24576:0ZgkO8W6krEazzEHRyE5fx5j0Gkmbc4/EnbL6kS1...   \n",
       "1        24576:0ZgkO8W6krEazzEHRyE5fx5j0Gkmbc4/EnbL6kS1...   \n",
       "2        24576:0ZgkO8W6krEazzEHRyE5fx5j0Gkmbc4/EnbL6kS1...   \n",
       "3        24576:0ZgkO8W6krEazzEHRyE5fx5j0Gkmbc4/EnbL6kS1...   \n",
       "4        24576:0ZgkO8W6krEazzEHRyE5fx5j0Gkmbc4/EnbL6kS1...   \n",
       "...                                                    ...   \n",
       "1376965  384:svLjrCCJ8/eQrvPX+ejZbCOL3npSeLLK9qj9OLUAg5...   \n",
       "1376966  384:svLjrCCJ8/eQrvPX+ejZbCOL3npSeLLK9qj9OLUAg5...   \n",
       "1376967  384:sBLdhCCJ8rwQ0EvrX+rjZbOeL3npSeLLK9qj9OLUAg...   \n",
       "1376968  384:sBLdhCCJ8rwQ0EvrX+rjZbOeL3npSeLLK9qj9OLUAg...   \n",
       "1376969  384:sBLdkCCJ8rwQ0EvrX+rjZbOeL3npSeLLK9qj9OLUAg...   \n",
       "\n",
       "                                                  ssdeep 2  Diff Score  \n",
       "0        24576:N7RayWHeZhpVZNmHQ/0R223Vcqemo8hS1QOq:ray...           0  \n",
       "1        98304:O4g2u6YzoSU6Zr5CqeWRP07lRNMceRe/ai8Qt5vj...           0  \n",
       "2        24576:39vHSut4l6xFkIRp1IzwbIPGVildRLdJNyZJfkD7...           0  \n",
       "3        96:mKNT20vznhw3tngiBbGBsek3Kfy2wy3wy70rsnt/amM...           0  \n",
       "4        96:mKNT20vsihw3tngiBbGBsek3Kfy2wy3wy70rsnt/amM...           0  \n",
       "...                                                    ...         ...  \n",
       "1376965  384:sBLdkCCJ8rwQ0EvrX+rjZbOeL3npSeLLK9qj9OLUAg...          80  \n",
       "1376966  384:sDLjOCCJ8/eQrvPX+rjZb2OL3npSeLLK9qj9OLUAg5...          94  \n",
       "1376967  384:sBLdkCCJ8rwQ0EvrX+rjZbOeL3npSeLLK9qj9OLUAg...          99  \n",
       "1376968  384:sDLjOCCJ8/eQrvPX+rjZb2OL3npSeLLK9qj9OLUAg5...          82  \n",
       "1376969  384:sDLjOCCJ8/eQrvPX+rjZb2OL3npSeLLK9qj9OLUAg5...          82  \n",
       "\n",
       "[1376970 rows x 7 columns]"
      ]
     },
     "execution_count": 26,
     "metadata": {},
     "output_type": "execute_result"
    }
   ],
   "source": [
    "result_ssdeep"
   ]
  },
  {
   "cell_type": "code",
   "execution_count": 27,
   "id": "309eb6e2c0d40249",
   "metadata": {
    "ExecuteTime": {
     "end_time": "2023-12-30T20:52:53.096686Z",
     "start_time": "2023-12-30T20:52:52.939672Z"
    },
    "collapsed": false
   },
   "outputs": [
    {
     "data": {
      "text/plain": [
       "0.8461538461538461"
      ]
     },
     "execution_count": 27,
     "metadata": {},
     "output_type": "execute_result"
    }
   ],
   "source": [
    "s = result_ssdeep.loc[result_ssdeep.groupby('ssdeep 1')[\"Diff Score\"].idxmax()]\n",
    "size = s.shape[0]\n",
    "s = s[s[\"Malware 2\"] == False]\n",
    "s = s[s[\"Diff Score\"] > 60]\n",
    "(s[\"Family 1\"] == s[\"Family 2\"]).sum() / s.shape[0]\n"
   ]
  },
  {
   "cell_type": "markdown",
   "id": "7d18471717848ceb",
   "metadata": {
    "collapsed": false
   },
   "source": [
    "The absolute true positive rate is 23% for any threshold higher than 0 with noise."
   ]
  },
  {
   "cell_type": "code",
   "execution_count": 28,
   "id": "5c84bd077070bc14",
   "metadata": {
    "ExecuteTime": {
     "end_time": "2023-12-30T20:52:53.174938Z",
     "start_time": "2023-12-30T20:52:53.097094Z"
    },
    "collapsed": false
   },
   "outputs": [
    {
     "data": {
      "text/plain": [
       "1525"
      ]
     },
     "execution_count": 28,
     "metadata": {},
     "output_type": "execute_result"
    }
   ],
   "source": [
    "comp_to_sci = result_ssdeep[result_ssdeep[\"Malware 2\"] == False]\n",
    "compt_to_malware = result_ssdeep[result_ssdeep[\"Malware 2\"] == True]\n",
    "(comp_to_sci[\"Family 1\"] == comp_to_sci[\"Family 2\"]).sum()"
   ]
  },
  {
   "cell_type": "code",
   "execution_count": 29,
   "id": "b60b25824e24246d",
   "metadata": {
    "ExecuteTime": {
     "end_time": "2023-12-30T20:53:07.175329Z",
     "start_time": "2023-12-30T20:52:53.206867Z"
    },
    "collapsed": false
   },
   "outputs": [
    {
     "data": {
      "text/html": [
       "<div>\n",
       "<style scoped>\n",
       "    .dataframe tbody tr th:only-of-type {\n",
       "        vertical-align: middle;\n",
       "    }\n",
       "\n",
       "    .dataframe tbody tr th {\n",
       "        vertical-align: top;\n",
       "    }\n",
       "\n",
       "    .dataframe thead th {\n",
       "        text-align: right;\n",
       "    }\n",
       "</style>\n",
       "<table border=\"1\" class=\"dataframe\">\n",
       "  <thead>\n",
       "    <tr style=\"text-align: right;\">\n",
       "      <th></th>\n",
       "      <th>threshold</th>\n",
       "      <th>true_positive_rate</th>\n",
       "      <th>false_positive_rate</th>\n",
       "    </tr>\n",
       "  </thead>\n",
       "  <tbody>\n",
       "    <tr>\n",
       "      <th>0</th>\n",
       "      <td>0.0</td>\n",
       "      <td>1.000000</td>\n",
       "      <td>1.0</td>\n",
       "    </tr>\n",
       "    <tr>\n",
       "      <th>1</th>\n",
       "      <td>1.0</td>\n",
       "      <td>0.894737</td>\n",
       "      <td>1.0</td>\n",
       "    </tr>\n",
       "    <tr>\n",
       "      <th>2</th>\n",
       "      <td>2.0</td>\n",
       "      <td>0.894737</td>\n",
       "      <td>1.0</td>\n",
       "    </tr>\n",
       "    <tr>\n",
       "      <th>3</th>\n",
       "      <td>3.0</td>\n",
       "      <td>0.894737</td>\n",
       "      <td>1.0</td>\n",
       "    </tr>\n",
       "    <tr>\n",
       "      <th>4</th>\n",
       "      <td>4.0</td>\n",
       "      <td>0.894737</td>\n",
       "      <td>1.0</td>\n",
       "    </tr>\n",
       "    <tr>\n",
       "      <th>...</th>\n",
       "      <td>...</td>\n",
       "      <td>...</td>\n",
       "      <td>...</td>\n",
       "    </tr>\n",
       "    <tr>\n",
       "      <th>105</th>\n",
       "      <td>105.0</td>\n",
       "      <td>0.000000</td>\n",
       "      <td>0.0</td>\n",
       "    </tr>\n",
       "    <tr>\n",
       "      <th>106</th>\n",
       "      <td>106.0</td>\n",
       "      <td>0.000000</td>\n",
       "      <td>0.0</td>\n",
       "    </tr>\n",
       "    <tr>\n",
       "      <th>107</th>\n",
       "      <td>107.0</td>\n",
       "      <td>0.000000</td>\n",
       "      <td>0.0</td>\n",
       "    </tr>\n",
       "    <tr>\n",
       "      <th>108</th>\n",
       "      <td>108.0</td>\n",
       "      <td>0.000000</td>\n",
       "      <td>0.0</td>\n",
       "    </tr>\n",
       "    <tr>\n",
       "      <th>109</th>\n",
       "      <td>109.0</td>\n",
       "      <td>0.000000</td>\n",
       "      <td>0.0</td>\n",
       "    </tr>\n",
       "  </tbody>\n",
       "</table>\n",
       "<p>110 rows × 3 columns</p>\n",
       "</div>"
      ],
      "text/plain": [
       "     threshold  true_positive_rate  false_positive_rate\n",
       "0          0.0            1.000000                  1.0\n",
       "1          1.0            0.894737                  1.0\n",
       "2          2.0            0.894737                  1.0\n",
       "3          3.0            0.894737                  1.0\n",
       "4          4.0            0.894737                  1.0\n",
       "..         ...                 ...                  ...\n",
       "105      105.0            0.000000                  0.0\n",
       "106      106.0            0.000000                  0.0\n",
       "107      107.0            0.000000                  0.0\n",
       "108      108.0            0.000000                  0.0\n",
       "109      109.0            0.000000                  0.0\n",
       "\n",
       "[110 rows x 3 columns]"
      ]
     },
     "execution_count": 29,
     "metadata": {},
     "output_type": "execute_result"
    }
   ],
   "source": [
    "def ssdeep_thresh(s):\n",
    "    s = s.loc[s.groupby('ssdeep 1')[\"Diff Score\"].idxmax()]\n",
    "    ssdeep_th = pd.DataFrame(columns=[\"threshold\", \"true_positive_rate\", \"false_positive_rate\"])\n",
    "    comp_to_sci = s[s[\"Malware 1\"] == False]\n",
    "    compt_to_malware = s[s[\"Malware 2\"] == True]\n",
    "    for i in range (0,110,1):\n",
    "        \n",
    "        sci_th = comp_to_sci[comp_to_sci[\"Diff Score\"] >= i]\n",
    "        mal_th = compt_to_malware[compt_to_malware[\"Diff Score\"] > i]\n",
    "        f_th = compt_to_malware[compt_to_malware[\"Diff Score\"] < i]\n",
    "        \n",
    "        TP = (sci_th[\"Family 1\"] == sci_th[\"Family 2\"]).sum()\n",
    "        FP = (sci_th[\"Family 1\"] != sci_th[\"Family 2\"]).sum()\n",
    "        FN = (f_th[\"Family 1\"] != f_th[\"Family 2\"]).sum()\n",
    "        TN = (f_th[\"Family 1\"] == f_th[\"Family 2\"]).sum()\n",
    "        \n",
    "        TPR = TP / (TP + FN) if TP + FN != 0 else 0\n",
    "        FPR = FP / (FP + TN) if FP + TN != 0 else 0\n",
    "        # Append results to DataFrame\n",
    "        ssdeep_th.loc[i] = [i, TPR, FPR]\n",
    "    return ssdeep_th\n",
    "p = ssdeep_thresh(ssdeep_comb())\n",
    "p"
   ]
  },
  {
   "cell_type": "code",
   "execution_count": 30,
   "id": "cdd8ce5e25ad23b3",
   "metadata": {
    "ExecuteTime": {
     "end_time": "2023-12-30T20:53:07.271764Z",
     "start_time": "2023-12-30T20:53:07.183952Z"
    },
    "collapsed": false
   },
   "outputs": [
    {
     "data": {
      "image/png": "[encoded data removed]",
      "text/plain": [
       "<Figure size 640x480 with 1 Axes>"
      ]
     },
     "metadata": {},
     "output_type": "display_data"
    }
   ],
   "source": [
    "# Plot the ROC curve in range 0.1 to 1.0\n",
    "p.plot(x=\"false_positive_rate\", y=\"true_positive_rate\", xlim=(0, 1), ylim=(0, 1),title=\"ROC Curve for ssdeep\")\n",
    "for i in range(p.shape[0]- 1,0, -3):\n",
    "    plt.annotate(i, (p[\"false_positive_rate\"][i], p[\"true_positive_rate\"][i]), fontsize=8, xytext=(-7, 8), textcoords='offset points')\n",
    "    if i < 80:\n",
    "        break\n",
    "# add a dotet line with y = x for comparison\n",
    "plt.plot([0, 1], [0, 1], color='navy', linestyle='--')\n",
    "plt.show()"
   ]
  },
  {
   "cell_type": "code",
   "execution_count": 31,
   "id": "6e29b5bdcbe1dffe",
   "metadata": {
    "ExecuteTime": {
     "end_time": "2023-12-30T20:53:21.102655Z",
     "start_time": "2023-12-30T20:53:07.275198Z"
    },
    "collapsed": false
   },
   "outputs": [
    {
     "data": {
      "text/html": [
       "<div>\n",
       "<style scoped>\n",
       "    .dataframe tbody tr th:only-of-type {\n",
       "        vertical-align: middle;\n",
       "    }\n",
       "\n",
       "    .dataframe tbody tr th {\n",
       "        vertical-align: top;\n",
       "    }\n",
       "\n",
       "    .dataframe thead th {\n",
       "        text-align: right;\n",
       "    }\n",
       "</style>\n",
       "<table border=\"1\" class=\"dataframe\">\n",
       "  <thead>\n",
       "    <tr style=\"text-align: right;\">\n",
       "      <th></th>\n",
       "      <th>threshold</th>\n",
       "      <th>f1</th>\n",
       "      <th>accuracy</th>\n",
       "    </tr>\n",
       "  </thead>\n",
       "  <tbody>\n",
       "    <tr>\n",
       "      <th>0</th>\n",
       "      <td>0.0</td>\n",
       "      <td>0.391000</td>\n",
       "      <td>0.243008</td>\n",
       "    </tr>\n",
       "    <tr>\n",
       "      <th>1</th>\n",
       "      <td>1.0</td>\n",
       "      <td>0.866002</td>\n",
       "      <td>0.853516</td>\n",
       "    </tr>\n",
       "    <tr>\n",
       "      <th>2</th>\n",
       "      <td>2.0</td>\n",
       "      <td>0.866002</td>\n",
       "      <td>0.853516</td>\n",
       "    </tr>\n",
       "    <tr>\n",
       "      <th>3</th>\n",
       "      <td>3.0</td>\n",
       "      <td>0.866002</td>\n",
       "      <td>0.853516</td>\n",
       "    </tr>\n",
       "    <tr>\n",
       "      <th>4</th>\n",
       "      <td>4.0</td>\n",
       "      <td>0.866002</td>\n",
       "      <td>0.853516</td>\n",
       "    </tr>\n",
       "    <tr>\n",
       "      <th>...</th>\n",
       "      <td>...</td>\n",
       "      <td>...</td>\n",
       "      <td>...</td>\n",
       "    </tr>\n",
       "    <tr>\n",
       "      <th>105</th>\n",
       "      <td>105.0</td>\n",
       "      <td>NaN</td>\n",
       "      <td>0.779661</td>\n",
       "    </tr>\n",
       "    <tr>\n",
       "      <th>106</th>\n",
       "      <td>106.0</td>\n",
       "      <td>NaN</td>\n",
       "      <td>0.779661</td>\n",
       "    </tr>\n",
       "    <tr>\n",
       "      <th>107</th>\n",
       "      <td>107.0</td>\n",
       "      <td>NaN</td>\n",
       "      <td>0.779661</td>\n",
       "    </tr>\n",
       "    <tr>\n",
       "      <th>108</th>\n",
       "      <td>108.0</td>\n",
       "      <td>NaN</td>\n",
       "      <td>0.779661</td>\n",
       "    </tr>\n",
       "    <tr>\n",
       "      <th>109</th>\n",
       "      <td>109.0</td>\n",
       "      <td>NaN</td>\n",
       "      <td>0.779661</td>\n",
       "    </tr>\n",
       "  </tbody>\n",
       "</table>\n",
       "<p>110 rows × 3 columns</p>\n",
       "</div>"
      ],
      "text/plain": [
       "     threshold        f1  accuracy\n",
       "0          0.0  0.391000  0.243008\n",
       "1          1.0  0.866002  0.853516\n",
       "2          2.0  0.866002  0.853516\n",
       "3          3.0  0.866002  0.853516\n",
       "4          4.0  0.866002  0.853516\n",
       "..         ...       ...       ...\n",
       "105      105.0       NaN  0.779661\n",
       "106      106.0       NaN  0.779661\n",
       "107      107.0       NaN  0.779661\n",
       "108      108.0       NaN  0.779661\n",
       "109      109.0       NaN  0.779661\n",
       "\n",
       "[110 rows x 3 columns]"
      ]
     },
     "execution_count": 31,
     "metadata": {},
     "output_type": "execute_result"
    }
   ],
   "source": [
    "def ssdeep_f1(s):\n",
    "    s = s.loc[s.groupby('ssdeep 1')[\"Diff Score\"].idxmax()]\n",
    "    ssdeep_th = pd.DataFrame(columns=[\"threshold\", \"f1\", \"accuracy\"])\n",
    "    comp_to_sci = s[s[\"Malware 1\"] == False]\n",
    "    compt_to_malware = s[s[\"Malware 2\"] == True]\n",
    "    for i in range (0,110,1):\n",
    "        \n",
    "        sci_th = comp_to_sci[comp_to_sci[\"Diff Score\"] >= i]\n",
    "        mal_th = compt_to_malware[compt_to_malware[\"Diff Score\"] > i]\n",
    "        f_th = compt_to_malware[compt_to_malware[\"Diff Score\"] < i]\n",
    "        \n",
    "        TP = (sci_th[\"Family 1\"] == sci_th[\"Family 2\"]).sum()\n",
    "        FP = (sci_th[\"Family 1\"] != sci_th[\"Family 2\"]).sum()\n",
    "        FN = (f_th[\"Family 1\"] != f_th[\"Family 2\"]).sum()\n",
    "        TN = (f_th[\"Family 1\"] == f_th[\"Family 2\"]).sum()\n",
    "        \n",
    "        precision = TP / (TP + FP) if TP + FP != 0 else 0\n",
    "        recall = TP / (TP + FN) if TP + TN != 0 else 0\n",
    "        \n",
    "        f1 = (2 * precision * recall) / (precision + recall)\n",
    "        accuracy = (TP + FN) / (TP + FP + FN + TN)\n",
    "        # Append results to DataFrame\n",
    "        ssdeep_th.loc[i] = [i, f1, accuracy]\n",
    "    return ssdeep_th\n",
    "f = ssdeep_f1(ssdeep_comb())\n",
    "f"
   ]
  },
  {
   "cell_type": "code",
   "execution_count": 32,
   "id": "b6f9b693a8fac85a",
   "metadata": {
    "ExecuteTime": {
     "end_time": "2023-12-30T20:53:21.199803Z",
     "start_time": "2023-12-30T20:53:21.109897Z"
    },
    "collapsed": false
   },
   "outputs": [
    {
     "data": {
      "text/plain": [
       "<Axes: title={'center': 'F1 Score and Accuracy for ssdeep'}, xlabel='threshold'>"
      ]
     },
     "execution_count": 32,
     "metadata": {},
     "output_type": "execute_result"
    },
    {
     "data": {
      "image/png": "[encoded data removed]",
      "text/plain": [
       "<Figure size 640x480 with 1 Axes>"
      ]
     },
     "metadata": {},
     "output_type": "display_data"
    }
   ],
   "source": [
    "f.plot(x=\"threshold\", y=[\"f1\",\"accuracy\"],title=\"F1 Score and Accuracy for ssdeep\")"
   ]
  },
  {
   "cell_type": "code",
   "execution_count": 33,
   "id": "3c9261c8b1990426",
   "metadata": {
    "ExecuteTime": {
     "end_time": "2023-12-30T20:53:21.203791Z",
     "start_time": "2023-12-30T20:53:21.196701Z"
    },
    "collapsed": false
   },
   "outputs": [
    {
     "name": "stdout",
     "output_type": "stream",
     "text": [
      "The optimal Threshold is: 97\n"
     ]
    }
   ],
   "source": [
    "print(f'The optimal Threshold is: {(p[\"true_positive_rate\"] - p[\"false_positive_rate\"]).abs().idxmax()}')"
   ]
  },
  {
   "cell_type": "markdown",
   "id": "a6c8353537f05784",
   "metadata": {
    "collapsed": false
   },
   "source": [
    "# Machoke"
   ]
  },
  {
   "cell_type": "code",
   "execution_count": 34,
   "id": "3ee402b0a029edd8",
   "metadata": {
    "ExecuteTime": {
     "end_time": "2024-01-17T09:09:05.161088Z",
     "start_time": "2024-01-17T09:09:05.125489Z"
    },
    "collapsed": false
   },
   "outputs": [
    {
     "data": {
      "text/html": [
       "<div>\n",
       "<style scoped>\n",
       "    .dataframe tbody tr th:only-of-type {\n",
       "        vertical-align: middle;\n",
       "    }\n",
       "\n",
       "    .dataframe tbody tr th {\n",
       "        vertical-align: top;\n",
       "    }\n",
       "\n",
       "    .dataframe thead th {\n",
       "        text-align: right;\n",
       "    }\n",
       "</style>\n",
       "<table border=\"1\" class=\"dataframe\">\n",
       "  <thead>\n",
       "    <tr style=\"text-align: right;\">\n",
       "      <th></th>\n",
       "      <th>Family 1</th>\n",
       "      <th>Family 2</th>\n",
       "      <th>Malware 1</th>\n",
       "      <th>Malware 2</th>\n",
       "      <th>Machoke 1</th>\n",
       "      <th>Machoke 2</th>\n",
       "      <th>Diff Score</th>\n",
       "    </tr>\n",
       "  </thead>\n",
       "  <tbody>\n",
       "    <tr>\n",
       "      <th>0</th>\n",
       "      <td>libgd</td>\n",
       "      <td>hwloc</td>\n",
       "      <td>False</td>\n",
       "      <td>False</td>\n",
       "      <td>3db8a17a1a02300ec19ce261a02300e1a02300ec4d3411...</td>\n",
       "      <td>3db8a17a1a02300e1a02300ec19ce261a02300ea247ec5...</td>\n",
       "      <td>0.746835</td>\n",
       "    </tr>\n",
       "    <tr>\n",
       "      <th>1</th>\n",
       "      <td>libgd</td>\n",
       "      <td>hwloc</td>\n",
       "      <td>False</td>\n",
       "      <td>False</td>\n",
       "      <td>3db8a17a1a02300ec19ce261a02300e1a02300ec4d3411...</td>\n",
       "      <td>3db8a17a1a02300ec19ce261a02300e1a02300e7c91cb3...</td>\n",
       "      <td>0.754464</td>\n",
       "    </tr>\n",
       "    <tr>\n",
       "      <th>2</th>\n",
       "      <td>libgd</td>\n",
       "      <td>hwloc</td>\n",
       "      <td>False</td>\n",
       "      <td>False</td>\n",
       "      <td>3db8a17a1a02300ec19ce261a02300e1a02300ec4d3411...</td>\n",
       "      <td>3db8a17a1a02300ec19ce261a02300e1a02300ec4d3411...</td>\n",
       "      <td>0.647799</td>\n",
       "    </tr>\n",
       "    <tr>\n",
       "      <th>3</th>\n",
       "      <td>libgd</td>\n",
       "      <td>hwloc</td>\n",
       "      <td>False</td>\n",
       "      <td>False</td>\n",
       "      <td>3db8a17a1a02300ec19ce261a02300e1a02300ec4d3411...</td>\n",
       "      <td>3db8a17a1a02300ec19ce261a02300e1a02300e7c91cb3...</td>\n",
       "      <td>0.760000</td>\n",
       "    </tr>\n",
       "    <tr>\n",
       "      <th>4</th>\n",
       "      <td>libgd</td>\n",
       "      <td>hwloc</td>\n",
       "      <td>False</td>\n",
       "      <td>False</td>\n",
       "      <td>3db8a17a1a02300ec19ce261a02300e1a02300ec4d3411...</td>\n",
       "      <td>3db8a17a1a02300e1a02300ec19ce261a02300ec4d3411...</td>\n",
       "      <td>0.658683</td>\n",
       "    </tr>\n",
       "  </tbody>\n",
       "</table>\n",
       "</div>"
      ],
      "text/plain": [
       "  Family 1 Family 2  Malware 1  Malware 2  \\\n",
       "0    libgd    hwloc      False      False   \n",
       "1    libgd    hwloc      False      False   \n",
       "2    libgd    hwloc      False      False   \n",
       "3    libgd    hwloc      False      False   \n",
       "4    libgd    hwloc      False      False   \n",
       "\n",
       "                                           Machoke 1  \\\n",
       "0  3db8a17a1a02300ec19ce261a02300e1a02300ec4d3411...   \n",
       "1  3db8a17a1a02300ec19ce261a02300e1a02300ec4d3411...   \n",
       "2  3db8a17a1a02300ec19ce261a02300e1a02300ec4d3411...   \n",
       "3  3db8a17a1a02300ec19ce261a02300e1a02300ec4d3411...   \n",
       "4  3db8a17a1a02300ec19ce261a02300e1a02300ec4d3411...   \n",
       "\n",
       "                                           Machoke 2  Diff Score  \n",
       "0  3db8a17a1a02300e1a02300ec19ce261a02300ea247ec5...    0.746835  \n",
       "1  3db8a17a1a02300ec19ce261a02300e1a02300e7c91cb3...    0.754464  \n",
       "2  3db8a17a1a02300ec19ce261a02300e1a02300ec4d3411...    0.647799  \n",
       "3  3db8a17a1a02300ec19ce261a02300e1a02300e7c91cb3...    0.760000  \n",
       "4  3db8a17a1a02300e1a02300ec19ce261a02300ec4d3411...    0.658683  "
      ]
     },
     "execution_count": 34,
     "metadata": {},
     "output_type": "execute_result"
    }
   ],
   "source": [
    "from itertools import combinations\n",
    "from sklearn.metrics import jaccard_score\n",
    "def jaccard_distance_sklearn(str1, str2, n=8):\n",
    "    # Function to generate n-grams from a string\n",
    "    def ngrams(s, n):\n",
    "        return set([s[i:i+n] for i in range(len(s) - n + 1)])\n",
    "\n",
    "    # Convert inputs to strings if they are not\n",
    "    str1 = str(str1) if not isinstance(str1, str) else str1\n",
    "    str2 = str(str2) if not isinstance(str2, str) else str2\n",
    "\n",
    "    # Create n-grams for each string\n",
    "    set1 = ngrams(str1, n)\n",
    "    set2 = ngrams(str2, n)\n",
    "\n",
    "    # Calculate Jaccard similarity and convert to distance\n",
    "    if len(set1.union(set2)) == 0:  # Avoid division by zero\n",
    "        return 1.0 if set1 != set2 else 0.0\n",
    "    similarity = len(set1.intersection(set2)) / len(set1.union(set2))\n",
    "    distance = 1 - similarity\n",
    "\n",
    "    return distance\n",
    "\n",
    "\n",
    "def machoke_comb(df):\n",
    "    # get jaccard distance of all combinations\n",
    "\n",
    "    # Generate all binary combinations of the strings in the specified column\n",
    "    string_combinations = combinations(df[['machoke', 'family', 'malware']].iterrows(), 2)\n",
    "    results = []\n",
    "    for (idx1, row1), (idx2, row2) in string_combinations:\n",
    "    \n",
    "        diff_score = jaccard_distance_sklearn(row1['machoke'], row2['machoke'])\n",
    "        if diff_score == 0:\n",
    "            results.append((row1['family'], \"No Match\", row1['malware'], row2['malware'], row1['machoke'], row2['machoke'], diff_score))\n",
    "        else:\n",
    "            results.append((row1['family'], row2['family'], row1['malware'], row2['malware'], row1['machoke'], row2['machoke'], diff_score))\n",
    "    \n",
    "    results_df = pd.DataFrame(results, columns=['Family 1', 'Family 2', 'Malware 1', \"Malware 2\", 'Machoke 1', 'Machoke 2', 'Diff Score'])\n",
    "    return results_df\n",
    "\n",
    "machoke_best = machoke_comb(df=filtered_df)\n",
    "\n",
    "machoke_best.head()"
   ]
  },
  {
   "cell_type": "code",
   "execution_count": 35,
   "id": "d5893e3ecf0f4742",
   "metadata": {
    "ExecuteTime": {
     "end_time": "2024-01-17T08:57:30.718965Z",
     "start_time": "2024-01-17T08:57:30.709831Z"
    },
    "collapsed": false
   },
   "outputs": [],
   "source": [
    "machoke_best = machoke_best.loc[machoke_best.groupby('Machoke 1')[\"Diff Score\"].idxmax()]"
   ]
  },
  {
   "cell_type": "code",
   "execution_count": 36,
   "id": "5830545e",
   "metadata": {},
   "outputs": [
    {
     "data": {
      "text/plain": [
       "0.0014992503748125937"
      ]
     },
     "execution_count": 36,
     "metadata": {},
     "output_type": "execute_result"
    }
   ],
   "source": [
    "(machoke_best[\"Family 1\"] == machoke_best[\"Family 2\"]).sum() / machoke_best.shape[0]"
   ]
  },
  {
   "cell_type": "code",
   "execution_count": 34,
   "id": "583e7cd4",
   "metadata": {
    "ExecuteTime": {
     "end_time": "2023-12-30T20:53:21.696177Z",
     "start_time": "2023-12-30T20:53:21.209189Z"
    }
   },
   "outputs": [],
   "source": [
    "tlsh_comp = results_tlsh.loc[results_tlsh.groupby(\"TLSH 1\")[\"Diff Score\"].idxmin()]\n",
    "ssdeep_comp = result_ssdeep.loc[result_ssdeep.groupby('ssdeep 1')[\"Diff Score\"].idxmax()]\n",
    "string_comp = results_str.loc[results_str.groupby(\"TLSH 1\")[\"Diff Score\"].idxmin()]\n",
    "tls = []\n",
    "ssd = []\n",
    "strs = []\n",
    "for i in range (0,310,10):\n",
    "    tlsh_comp_diff = tlsh_comp[tlsh_comp[\"Diff Score\"] < i]\n",
    "    string_comp_diff = string_comp[string_comp[\"Diff Score\"] < i]\n",
    "    tlsh_comp_diff = tlsh_comp_diff[tlsh_comp_diff[\"Malware 1\"] == False]\n",
    "    string_comp_diff = string_comp_diff[string_comp_diff[\"Malware 1\"] == False]\n",
    "    winrate_tlsh = (tlsh_comp_diff[\"Family 1\"] == tlsh_comp_diff[\"Family 2\"]).sum() / len(tlsh_comp_diff)\n",
    "    winrate_str = (string_comp_diff[\"Family 1\"] == string_comp_diff[\"Family 2\"]).sum() / len(string_comp_diff)\n",
    "    total_tlsh = len(tlsh_comp_diff) / len(tlsh_comp)\n",
    "    total_str = len(string_comp_diff) / len(string_comp)\n",
    "    tls.append((winrate_tlsh, 1-winrate_tlsh, total_tlsh, i))\n",
    "    strs.append((winrate_str, 1-winrate_str, total_str, i))\n",
    "for j in range (0,110,10):\n",
    "    ssdeep_comp_diff = ssdeep_comp[ssdeep_comp[\"Diff Score\"] >= j]\n",
    "    ssdeep_comp_diff = ssdeep_comp_diff[ssdeep_comp_diff[\"Malware 1\"] == False]\n",
    "    winrate = (ssdeep_comp_diff[\"Family 1\"] == ssdeep_comp_diff[\"Family 2\"]).sum() / len(ssdeep_comp_diff)\n",
    "    total = len(ssdeep_comp_diff) / len(ssdeep_comp)\n",
    "    ssd.append((winrate, 1-winrate, total,j))"
   ]
  },
  {
   "cell_type": "code",
   "execution_count": 35,
   "id": "a410e5d7",
   "metadata": {
    "ExecuteTime": {
     "end_time": "2023-12-30T20:53:21.932667Z",
     "start_time": "2023-12-30T20:53:21.695775Z"
    }
   },
   "outputs": [
    {
     "data": {
      "text/plain": [
       "<Figure size 640x480 with 0 Axes>"
      ]
     },
     "metadata": {},
     "output_type": "display_data"
    },
    {
     "data": {
      "image/png": "[encoded data removed]",
      "text/plain": [
       "<Figure size 2000x500 with 3 Axes>"
      ]
     },
     "metadata": {},
     "output_type": "display_data"
    }
   ],
   "source": [
    "titi = pd.DataFrame(tls, columns=[\"winrate\", \"lossrate\", \"total\", \"threshold\"])\n",
    "sisi = pd.DataFrame(ssd, columns=[\"winrate\", \"lossrate\", \"total\", \"threshold\"])\n",
    "strt = pd.DataFrame(strs, columns=[\"winrate\", \"lossrate\", \"total\", \"threshold\"])\n",
    "#ti = titi.plot(x=\"threshold\", y=[\"winrate\",\"lossrate\",\"total\"],title=\"EDI Curve for TLSH\")\n",
    "#si = sisi.plot(x=\"threshold\", y=[\"winrate\",\"lossrate\",\"total\"],title=\"EDI Curve for ssdeep\")\n",
    "\n",
    "plt.clf()\n",
    "fig, ax = plt.subplots(1,3, figsize=(20,5))\n",
    "ax[0].plot(titi[\"threshold\"], titi[\"winrate\"], label=\"hitrate\")\n",
    "ax[0].plot(titi[\"threshold\"], titi[\"lossrate\"], label=\"missrate\")\n",
    "ax[0].plot(titi[\"threshold\"], titi[\"total\"], label=\"total\")\n",
    "ax[0].axvline(x=50, color='violet', linestyle='--', label='Safe')\n",
    "ax[0].axvline(x=100, color='black', linestyle='--', label='Broad')\n",
    "ax[0].legend()\n",
    "ax[0].set_title(\"EDI Curve for TLSH\")\n",
    "ax[0].set_xlabel(\"Threshold\")\n",
    "ax[0].set_ylabel(\"Percentage\")\n",
    "ax[1].plot(sisi[\"threshold\"], sisi[\"winrate\"], label=\"hitrate\")\n",
    "ax[1].plot(sisi[\"threshold\"], sisi[\"lossrate\"], label=\"missrate\")\n",
    "ax[1].plot(sisi[\"threshold\"], sisi[\"total\"], label=\"total\")\n",
    "ax[1].axvline(x=6, color='black', linestyle='--', label='Intersection')\n",
    "ax[1].legend()\n",
    "ax[1].set_title(\"EDI Curve for ssdeep\")\n",
    "ax[1].set_xlabel(\"Threshold\")\n",
    "ax[1].set_ylabel(\"Percentage\")\n",
    "ax[2].plot(strt[\"threshold\"], strt[\"winrate\"], label=\"hitrate\")\n",
    "ax[2].plot(strt[\"threshold\"], strt[\"lossrate\"], label=\"missrate\")\n",
    "ax[2].plot(strt[\"threshold\"], strt[\"total\"], label=\"total\")\n",
    "ax[2].axvline(x=50, color='violet', linestyle='--', label='Safe')\n",
    "ax[2].axvline(x=140, color='black', linestyle='--', label='Broad')\n",
    "ax[2].legend()\n",
    "ax[2].set_title(\"EDI Curve for strings\")\n",
    "plt.show()"
   ]
  },
  {
   "cell_type": "code",
   "execution_count": 35,
   "id": "8476383b5446b66d",
   "metadata": {
    "ExecuteTime": {
     "end_time": "2023-12-30T20:53:21.934458Z",
     "start_time": "2023-12-30T20:53:21.932179Z"
    },
    "collapsed": false
   },
   "outputs": [],
   "source": []
  }
 ],
 "metadata": {
  "kernelspec": {
   "display_name": "Python 3",
   "language": "python",
   "name": "python3"
  },
  "language_info": {
   "codemirror_mode": {
    "name": "ipython",
    "version": 3
   },
   "file_extension": ".py",
   "mimetype": "text/x-python",
   "name": "python",
   "nbconvert_exporter": "python",
   "pygments_lexer": "ipython3",
   "version": "3.9.6"
  }
 },
 "nbformat": 4,
 "nbformat_minor": 5
}
