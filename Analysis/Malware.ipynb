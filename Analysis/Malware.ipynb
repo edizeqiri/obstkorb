{
 "cells": [
  {
   "cell_type": "code",
   "execution_count": 1,
   "id": "initial_id",
   "metadata": {
    "ExecuteTime": {
     "end_time": "2024-01-14T15:43:42.895554400Z",
     "start_time": "2024-01-14T15:43:40.582725700Z"
    },
    "collapsed": true
   },
   "outputs": [],
   "source": [
    "import numpy as np\n",
    "import pandas as pd\n",
    "import Mongo_Connector as mongo\n",
    "import tlsh\n",
    "from icecream import ic\n",
    "import matplotlib.pyplot as plt\n",
    "import ssdeep\n",
    "import warnings\n",
    "from concurrent.futures import ThreadPoolExecutor\n",
    "from itertools import combinations\n",
    "import concurrent.futures\n",
    "warnings.filterwarnings('ignore')\n",
    "db = mongo.init(\"portainer\", port=32768)\n",
    "df = pd.DataFrame(list(db[\"malware\"].find({})))"
   ]
  },
  {
   "cell_type": "code",
   "execution_count": 2,
   "id": "937a2956f270d7ca",
   "metadata": {
    "ExecuteTime": {
     "end_time": "2024-01-06T16:08:46.306175Z",
     "start_time": "2024-01-06T16:08:46.068596Z"
    },
    "collapsed": false
   },
   "outputs": [
    {
     "data": {
      "text/plain": [
       "(0.0, 40.0)"
      ]
     },
     "execution_count": 2,
     "metadata": {},
     "output_type": "execute_result"
    },
    {
     "data": {
      "image/png": "[encoded data removed]",
      "text/plain": [
       "<Figure size 640x480 with 1 Axes>"
      ]
     },
     "metadata": {},
     "output_type": "display_data"
    }
   ],
   "source": [
    "family_counts = df['family'].value_counts()\n",
    "\n",
    "# Filter the families with more than one entry\n",
    "malware_filtered = df[df['family'].map(family_counts) > 1]\n",
    "malware_filtered = malware_filtered.dropna()\n",
    "family_counts.hist(bins=100)\n",
    "plt.ylim(0, 40)"
   ]
  },
  {
   "cell_type": "code",
   "execution_count": 3,
   "id": "74ea060fe0b87308",
   "metadata": {
    "ExecuteTime": {
     "end_time": "2024-01-06T16:08:46.314538Z",
     "start_time": "2024-01-06T16:08:46.305110Z"
    },
    "collapsed": false
   },
   "outputs": [
    {
     "data": {
      "text/html": [
       "<div>\n",
       "<style scoped>\n",
       "    .dataframe tbody tr th:only-of-type {\n",
       "        vertical-align: middle;\n",
       "    }\n",
       "\n",
       "    .dataframe tbody tr th {\n",
       "        vertical-align: top;\n",
       "    }\n",
       "\n",
       "    .dataframe thead th {\n",
       "        text-align: right;\n",
       "    }\n",
       "</style>\n",
       "<table border=\"1\" class=\"dataframe\">\n",
       "  <thead>\n",
       "    <tr style=\"text-align: right;\">\n",
       "      <th></th>\n",
       "      <th>_id</th>\n",
       "      <th>family</th>\n",
       "      <th>SHA256</th>\n",
       "      <th>file_size</th>\n",
       "      <th>ssdeep</th>\n",
       "      <th>sdhash</th>\n",
       "      <th>tlsh</th>\n",
       "      <th>machoc</th>\n",
       "      <th>strings</th>\n",
       "      <th>machoke</th>\n",
       "    </tr>\n",
       "  </thead>\n",
       "  <tbody>\n",
       "    <tr>\n",
       "      <th>0</th>\n",
       "      <td>6563776f3624482ac9d197e3</td>\n",
       "      <td>9002Rat</td>\n",
       "      <td>006c74c6813a6efeabea860b2718ed548eed216a319d76...</td>\n",
       "      <td>66888</td>\n",
       "      <td>{'ssdeep': '1536:fyOinfXrmThthYvYh+8+IXbTyllRb...</td>\n",
       "      <td>sdhash hash</td>\n",
       "      <td>{'tlsh': 'T18A635B27E9548473CDC24DB044E80B7B8A...</td>\n",
       "      <td>Machoc hash</td>\n",
       "      <td>{'strings': 'T1E212E7DB1104D5268DC716B2880B19E...</td>\n",
       "      <td>{'machoke': '526cb6c74b6b4fe4ab698f6a149c2da4a...</td>\n",
       "    </tr>\n",
       "    <tr>\n",
       "      <th>1</th>\n",
       "      <td>6563776f3624482ac9d197e4</td>\n",
       "      <td>9002Rat</td>\n",
       "      <td>0414ffdf9dcf32061cc57d0b54bf4410c1c588258c1261...</td>\n",
       "      <td>91136</td>\n",
       "      <td>{'ssdeep': '1536:isQQjCC6ZRC5EPviVkdsayrPJe7P6...</td>\n",
       "      <td>sdhash hash</td>\n",
       "      <td>{'tlsh': 'T1D9937B107682C275D47A29344C69CB731B...</td>\n",
       "      <td>Machoc hash</td>\n",
       "      <td>{'strings': 'T153E14A15A8F899E35597838855607B8...</td>\n",
       "      <td>{'machoke': 'c21014d561f4751fdaa6af077e8d16e1a...</td>\n",
       "    </tr>\n",
       "    <tr>\n",
       "      <th>2</th>\n",
       "      <td>6563776f3624482ac9d197e5</td>\n",
       "      <td>9002Rat</td>\n",
       "      <td>054ac444bb2e4fa836ecb6ecdbb9381001ab26cf109451...</td>\n",
       "      <td>20008392</td>\n",
       "      <td>{'ssdeep': '393216:1ZZNprQxrpbXZRCb0g/6cGx3PjW...</td>\n",
       "      <td>sdhash hash</td>\n",
       "      <td>{'tlsh': 'T14217331276D2C037C1A711719A37EB29AA...</td>\n",
       "      <td>Machoc hash</td>\n",
       "      <td>{'strings': 'T1865523536490B4B9B1EB478206F3A75...</td>\n",
       "      <td>{'machoke': 'MNULL', 'hash_time': 0}</td>\n",
       "    </tr>\n",
       "    <tr>\n",
       "      <th>3</th>\n",
       "      <td>6563776f3624482ac9d197e6</td>\n",
       "      <td>9002Rat</td>\n",
       "      <td>06fb64ebe50ee96901a339a7c5f686ead86e2ed6b26a73...</td>\n",
       "      <td>13189815</td>\n",
       "      <td>{'ssdeep': '393216:z0ZCif89tnKfsp09SskycXZBBLW...</td>\n",
       "      <td>sdhash hash</td>\n",
       "      <td>{'tlsh': 'T192D6336519E01E8CF2D177765AB1A2D44F...</td>\n",
       "      <td>Machoc hash</td>\n",
       "      <td>{'strings': 'T1401533932CF134146066EBB64D4FBCA...</td>\n",
       "      <td>{'machoke': 'fc420b141a25c1e87bff906654371d173...</td>\n",
       "    </tr>\n",
       "    <tr>\n",
       "      <th>4</th>\n",
       "      <td>6563776f3624482ac9d197e7</td>\n",
       "      <td>9002Rat</td>\n",
       "      <td>07da10375b0862760f3cb84e563f74ff4fc53864e34836...</td>\n",
       "      <td>21415252</td>\n",
       "      <td>{'ssdeep': '393216:c5gt4ljF2jF0C0eUkGz2Wqha9zO...</td>\n",
       "      <td>sdhash hash</td>\n",
       "      <td>{'tlsh': 'T16827339FB8735437E78CE4F089FA77F202...</td>\n",
       "      <td>Machoc hash</td>\n",
       "      <td>{'strings': 'T107653373A5E073D133E792E3A6CBEB5...</td>\n",
       "      <td>{'machoke': '9afe7f481a25c1e87bff906697df084cc...</td>\n",
       "    </tr>\n",
       "    <tr>\n",
       "      <th>...</th>\n",
       "      <td>...</td>\n",
       "      <td>...</td>\n",
       "      <td>...</td>\n",
       "      <td>...</td>\n",
       "      <td>...</td>\n",
       "      <td>...</td>\n",
       "      <td>...</td>\n",
       "      <td>...</td>\n",
       "      <td>...</td>\n",
       "      <td>...</td>\n",
       "    </tr>\n",
       "    <tr>\n",
       "      <th>208641</th>\n",
       "      <td>658f24555f823237b2e23b36</td>\n",
       "      <td>zxShell</td>\n",
       "      <td>fbe294910ef833e1c9b2c8663c06b6ef99c13b2bc5eb01...</td>\n",
       "      <td>1698208</td>\n",
       "      <td>NaN</td>\n",
       "      <td>NaN</td>\n",
       "      <td>NaN</td>\n",
       "      <td>NaN</td>\n",
       "      <td>{'strings': 'T173F301867C0624D5EBFFAEDB4D3A703...</td>\n",
       "      <td>NaN</td>\n",
       "    </tr>\n",
       "    <tr>\n",
       "      <th>208642</th>\n",
       "      <td>658f24555f823237b2e23b37</td>\n",
       "      <td>zxShell</td>\n",
       "      <td>fc3cacb2103adedc11720c34a243de58085c1a7283ba35...</td>\n",
       "      <td>204240</td>\n",
       "      <td>NaN</td>\n",
       "      <td>NaN</td>\n",
       "      <td>NaN</td>\n",
       "      <td>NaN</td>\n",
       "      <td>{'strings': 'T1BF62AFC75196B9D08B8A8F92E752A05...</td>\n",
       "      <td>NaN</td>\n",
       "    </tr>\n",
       "    <tr>\n",
       "      <th>208643</th>\n",
       "      <td>658f24555f823237b2e23b38</td>\n",
       "      <td>zxShell</td>\n",
       "      <td>dbd03093e58c2d60f4f47b720691cd3e6310f0566403ee...</td>\n",
       "      <td>1343952</td>\n",
       "      <td>NaN</td>\n",
       "      <td>NaN</td>\n",
       "      <td>NaN</td>\n",
       "      <td>NaN</td>\n",
       "      <td>{'strings': 'T1425302C618D220E6EF92DA1C95AB778...</td>\n",
       "      <td>NaN</td>\n",
       "    </tr>\n",
       "    <tr>\n",
       "      <th>208644</th>\n",
       "      <td>658f24555f823237b2e23b39</td>\n",
       "      <td>zxShell</td>\n",
       "      <td>e2d2761fc2535d99527df2f7cffd8dddccd504dc0096f6...</td>\n",
       "      <td>1181088</td>\n",
       "      <td>NaN</td>\n",
       "      <td>NaN</td>\n",
       "      <td>NaN</td>\n",
       "      <td>NaN</td>\n",
       "      <td>{'strings': 'T167B3E1E1659228B103A6CF4D5AE7770...</td>\n",
       "      <td>NaN</td>\n",
       "    </tr>\n",
       "    <tr>\n",
       "      <th>208645</th>\n",
       "      <td>658f24555f823237b2e23b3a</td>\n",
       "      <td>zxShell</td>\n",
       "      <td>ef049339f1eb091cda335b51939f91e784e1ab1e006056...</td>\n",
       "      <td>1678576</td>\n",
       "      <td>NaN</td>\n",
       "      <td>NaN</td>\n",
       "      <td>NaN</td>\n",
       "      <td>NaN</td>\n",
       "      <td>{'strings': 'T197F31281A8029415E9FF49C21E37B37...</td>\n",
       "      <td>NaN</td>\n",
       "    </tr>\n",
       "  </tbody>\n",
       "</table>\n",
       "<p>208646 rows × 10 columns</p>\n",
       "</div>"
      ],
      "text/plain": [
       "                             _id   family  \\\n",
       "0       6563776f3624482ac9d197e3  9002Rat   \n",
       "1       6563776f3624482ac9d197e4  9002Rat   \n",
       "2       6563776f3624482ac9d197e5  9002Rat   \n",
       "3       6563776f3624482ac9d197e6  9002Rat   \n",
       "4       6563776f3624482ac9d197e7  9002Rat   \n",
       "...                          ...      ...   \n",
       "208641  658f24555f823237b2e23b36  zxShell   \n",
       "208642  658f24555f823237b2e23b37  zxShell   \n",
       "208643  658f24555f823237b2e23b38  zxShell   \n",
       "208644  658f24555f823237b2e23b39  zxShell   \n",
       "208645  658f24555f823237b2e23b3a  zxShell   \n",
       "\n",
       "                                                   SHA256  file_size  \\\n",
       "0       006c74c6813a6efeabea860b2718ed548eed216a319d76...      66888   \n",
       "1       0414ffdf9dcf32061cc57d0b54bf4410c1c588258c1261...      91136   \n",
       "2       054ac444bb2e4fa836ecb6ecdbb9381001ab26cf109451...   20008392   \n",
       "3       06fb64ebe50ee96901a339a7c5f686ead86e2ed6b26a73...   13189815   \n",
       "4       07da10375b0862760f3cb84e563f74ff4fc53864e34836...   21415252   \n",
       "...                                                   ...        ...   \n",
       "208641  fbe294910ef833e1c9b2c8663c06b6ef99c13b2bc5eb01...    1698208   \n",
       "208642  fc3cacb2103adedc11720c34a243de58085c1a7283ba35...     204240   \n",
       "208643  dbd03093e58c2d60f4f47b720691cd3e6310f0566403ee...    1343952   \n",
       "208644  e2d2761fc2535d99527df2f7cffd8dddccd504dc0096f6...    1181088   \n",
       "208645  ef049339f1eb091cda335b51939f91e784e1ab1e006056...    1678576   \n",
       "\n",
       "                                                   ssdeep       sdhash  \\\n",
       "0       {'ssdeep': '1536:fyOinfXrmThthYvYh+8+IXbTyllRb...  sdhash hash   \n",
       "1       {'ssdeep': '1536:isQQjCC6ZRC5EPviVkdsayrPJe7P6...  sdhash hash   \n",
       "2       {'ssdeep': '393216:1ZZNprQxrpbXZRCb0g/6cGx3PjW...  sdhash hash   \n",
       "3       {'ssdeep': '393216:z0ZCif89tnKfsp09SskycXZBBLW...  sdhash hash   \n",
       "4       {'ssdeep': '393216:c5gt4ljF2jF0C0eUkGz2Wqha9zO...  sdhash hash   \n",
       "...                                                   ...          ...   \n",
       "208641                                                NaN          NaN   \n",
       "208642                                                NaN          NaN   \n",
       "208643                                                NaN          NaN   \n",
       "208644                                                NaN          NaN   \n",
       "208645                                                NaN          NaN   \n",
       "\n",
       "                                                     tlsh       machoc  \\\n",
       "0       {'tlsh': 'T18A635B27E9548473CDC24DB044E80B7B8A...  Machoc hash   \n",
       "1       {'tlsh': 'T1D9937B107682C275D47A29344C69CB731B...  Machoc hash   \n",
       "2       {'tlsh': 'T14217331276D2C037C1A711719A37EB29AA...  Machoc hash   \n",
       "3       {'tlsh': 'T192D6336519E01E8CF2D177765AB1A2D44F...  Machoc hash   \n",
       "4       {'tlsh': 'T16827339FB8735437E78CE4F089FA77F202...  Machoc hash   \n",
       "...                                                   ...          ...   \n",
       "208641                                                NaN          NaN   \n",
       "208642                                                NaN          NaN   \n",
       "208643                                                NaN          NaN   \n",
       "208644                                                NaN          NaN   \n",
       "208645                                                NaN          NaN   \n",
       "\n",
       "                                                  strings  \\\n",
       "0       {'strings': 'T1E212E7DB1104D5268DC716B2880B19E...   \n",
       "1       {'strings': 'T153E14A15A8F899E35597838855607B8...   \n",
       "2       {'strings': 'T1865523536490B4B9B1EB478206F3A75...   \n",
       "3       {'strings': 'T1401533932CF134146066EBB64D4FBCA...   \n",
       "4       {'strings': 'T107653373A5E073D133E792E3A6CBEB5...   \n",
       "...                                                   ...   \n",
       "208641  {'strings': 'T173F301867C0624D5EBFFAEDB4D3A703...   \n",
       "208642  {'strings': 'T1BF62AFC75196B9D08B8A8F92E752A05...   \n",
       "208643  {'strings': 'T1425302C618D220E6EF92DA1C95AB778...   \n",
       "208644  {'strings': 'T167B3E1E1659228B103A6CF4D5AE7770...   \n",
       "208645  {'strings': 'T197F31281A8029415E9FF49C21E37B37...   \n",
       "\n",
       "                                                  machoke  \n",
       "0       {'machoke': '526cb6c74b6b4fe4ab698f6a149c2da4a...  \n",
       "1       {'machoke': 'c21014d561f4751fdaa6af077e8d16e1a...  \n",
       "2                    {'machoke': 'MNULL', 'hash_time': 0}  \n",
       "3       {'machoke': 'fc420b141a25c1e87bff906654371d173...  \n",
       "4       {'machoke': '9afe7f481a25c1e87bff906697df084cc...  \n",
       "...                                                   ...  \n",
       "208641                                                NaN  \n",
       "208642                                                NaN  \n",
       "208643                                                NaN  \n",
       "208644                                                NaN  \n",
       "208645                                                NaN  \n",
       "\n",
       "[208646 rows x 10 columns]"
      ]
     },
     "execution_count": 3,
     "metadata": {},
     "output_type": "execute_result"
    }
   ],
   "source": [
    "df"
   ]
  },
  {
   "cell_type": "code",
   "execution_count": 4,
   "id": "f729907f8678da8",
   "metadata": {
    "ExecuteTime": {
     "end_time": "2024-01-06T16:08:46.387645Z",
     "start_time": "2024-01-06T16:08:46.334638Z"
    },
    "collapsed": false
   },
   "outputs": [
    {
     "name": "stdout",
     "output_type": "stream",
     "text": [
      "Original DataFrame had 208646 rows.\n",
      "Filtered DataFrame has 208644 rows.\n",
      "Families removed (only had 1 entry): ['CyclopsBlink', 'Darkbit']\n"
     ]
    }
   ],
   "source": [
    "original_count = df.shape[0]\n",
    "\n",
    "# Count the occurrences of each family\n",
    "family_counts = df['family'].value_counts()\n",
    "\n",
    "# Filter the DataFrame to keep families with more than one entry\n",
    "malware_filtered = df[df['family'].map(family_counts) > 1]\n",
    "\n",
    "# Get the new number of rows after filtering\n",
    "filtered_count = malware_filtered.shape[0]\n",
    "\n",
    "# Identify the families that were removed\n",
    "removed_families = family_counts[family_counts == 1].index.tolist()\n",
    "\n",
    "# Print the results\n",
    "print(f\"Original DataFrame had {original_count} rows.\")\n",
    "print(f\"Filtered DataFrame has {filtered_count} rows.\")\n",
    "print(f\"Families removed (only had 1 entry): {removed_families}\")"
   ]
  },
  {
   "cell_type": "code",
   "execution_count": 5,
   "id": "43999c3227a4f1e2",
   "metadata": {
    "ExecuteTime": {
     "end_time": "2024-01-06T16:08:46.953296Z",
     "start_time": "2024-01-06T16:08:46.395187Z"
    },
    "collapsed": false
   },
   "outputs": [
    {
     "data": {
      "text/plain": [
       "([], [])"
      ]
     },
     "execution_count": 5,
     "metadata": {},
     "output_type": "execute_result"
    },
    {
     "data": {
      "image/png": "[encoded data removed]",
      "text/plain": [
       "<Figure size 2000x1000 with 1 Axes>"
      ]
     },
     "metadata": {},
     "output_type": "display_data"
    }
   ],
   "source": [
    "malware_filtered[\"family\"].value_counts().plot(x=\"family\", y=\"count\", kind=\"bar\", figsize=(20, 10))\n",
    "plt.xticks([])"
   ]
  },
  {
   "cell_type": "code",
   "execution_count": 6,
   "id": "78bef638",
   "metadata": {
    "ExecuteTime": {
     "end_time": "2024-01-06T16:08:47.076339Z",
     "start_time": "2024-01-06T16:08:46.965485Z"
    }
   },
   "outputs": [
    {
     "data": {
      "text/plain": [
       "527"
      ]
     },
     "execution_count": 6,
     "metadata": {},
     "output_type": "execute_result"
    }
   ],
   "source": [
    "len(df[\"family\"].unique())"
   ]
  },
  {
   "cell_type": "code",
   "execution_count": 7,
   "id": "5f1b0310db0eeeb6",
   "metadata": {
    "ExecuteTime": {
     "end_time": "2024-01-06T16:08:47.122884Z",
     "start_time": "2024-01-06T16:08:46.976653Z"
    },
    "collapsed": false
   },
   "outputs": [
    {
     "data": {
      "text/html": [
       "<div>\n",
       "<style scoped>\n",
       "    .dataframe tbody tr th:only-of-type {\n",
       "        vertical-align: middle;\n",
       "    }\n",
       "\n",
       "    .dataframe tbody tr th {\n",
       "        vertical-align: top;\n",
       "    }\n",
       "\n",
       "    .dataframe thead th {\n",
       "        text-align: right;\n",
       "    }\n",
       "</style>\n",
       "<table border=\"1\" class=\"dataframe\">\n",
       "  <thead>\n",
       "    <tr style=\"text-align: right;\">\n",
       "      <th></th>\n",
       "      <th>_id</th>\n",
       "      <th>family</th>\n",
       "      <th>SHA256</th>\n",
       "      <th>file_size</th>\n",
       "      <th>ssdeep</th>\n",
       "      <th>sdhash</th>\n",
       "      <th>tlsh</th>\n",
       "      <th>machoc</th>\n",
       "      <th>strings</th>\n",
       "      <th>machoke</th>\n",
       "      <th>scicore</th>\n",
       "    </tr>\n",
       "  </thead>\n",
       "  <tbody>\n",
       "    <tr>\n",
       "      <th>0</th>\n",
       "      <td>6563776f3624482ac9d197e3</td>\n",
       "      <td>9002Rat</td>\n",
       "      <td>006c74c6813a6efeabea860b2718ed548eed216a319d76...</td>\n",
       "      <td>66888</td>\n",
       "      <td>{'ssdeep': '1536:fyOinfXrmThthYvYh+8+IXbTyllRb...</td>\n",
       "      <td>sdhash hash</td>\n",
       "      <td>{'tlsh': 'T18A635B27E9548473CDC24DB044E80B7B8A...</td>\n",
       "      <td>Machoc hash</td>\n",
       "      <td>{'strings': 'T1E212E7DB1104D5268DC716B2880B19E...</td>\n",
       "      <td>{'machoke': '526cb6c74b6b4fe4ab698f6a149c2da4a...</td>\n",
       "      <td>False</td>\n",
       "    </tr>\n",
       "    <tr>\n",
       "      <th>1</th>\n",
       "      <td>6563776f3624482ac9d197e4</td>\n",
       "      <td>9002Rat</td>\n",
       "      <td>0414ffdf9dcf32061cc57d0b54bf4410c1c588258c1261...</td>\n",
       "      <td>91136</td>\n",
       "      <td>{'ssdeep': '1536:isQQjCC6ZRC5EPviVkdsayrPJe7P6...</td>\n",
       "      <td>sdhash hash</td>\n",
       "      <td>{'tlsh': 'T1D9937B107682C275D47A29344C69CB731B...</td>\n",
       "      <td>Machoc hash</td>\n",
       "      <td>{'strings': 'T153E14A15A8F899E35597838855607B8...</td>\n",
       "      <td>{'machoke': 'c21014d561f4751fdaa6af077e8d16e1a...</td>\n",
       "      <td>False</td>\n",
       "    </tr>\n",
       "    <tr>\n",
       "      <th>2</th>\n",
       "      <td>6563776f3624482ac9d197e5</td>\n",
       "      <td>9002Rat</td>\n",
       "      <td>054ac444bb2e4fa836ecb6ecdbb9381001ab26cf109451...</td>\n",
       "      <td>20008392</td>\n",
       "      <td>{'ssdeep': '393216:1ZZNprQxrpbXZRCb0g/6cGx3PjW...</td>\n",
       "      <td>sdhash hash</td>\n",
       "      <td>{'tlsh': 'T14217331276D2C037C1A711719A37EB29AA...</td>\n",
       "      <td>Machoc hash</td>\n",
       "      <td>{'strings': 'T1865523536490B4B9B1EB478206F3A75...</td>\n",
       "      <td>{'machoke': 'MNULL', 'hash_time': 0}</td>\n",
       "      <td>False</td>\n",
       "    </tr>\n",
       "    <tr>\n",
       "      <th>3</th>\n",
       "      <td>6563776f3624482ac9d197e6</td>\n",
       "      <td>9002Rat</td>\n",
       "      <td>06fb64ebe50ee96901a339a7c5f686ead86e2ed6b26a73...</td>\n",
       "      <td>13189815</td>\n",
       "      <td>{'ssdeep': '393216:z0ZCif89tnKfsp09SskycXZBBLW...</td>\n",
       "      <td>sdhash hash</td>\n",
       "      <td>{'tlsh': 'T192D6336519E01E8CF2D177765AB1A2D44F...</td>\n",
       "      <td>Machoc hash</td>\n",
       "      <td>{'strings': 'T1401533932CF134146066EBB64D4FBCA...</td>\n",
       "      <td>{'machoke': 'fc420b141a25c1e87bff906654371d173...</td>\n",
       "      <td>False</td>\n",
       "    </tr>\n",
       "    <tr>\n",
       "      <th>4</th>\n",
       "      <td>6563776f3624482ac9d197e7</td>\n",
       "      <td>9002Rat</td>\n",
       "      <td>07da10375b0862760f3cb84e563f74ff4fc53864e34836...</td>\n",
       "      <td>21415252</td>\n",
       "      <td>{'ssdeep': '393216:c5gt4ljF2jF0C0eUkGz2Wqha9zO...</td>\n",
       "      <td>sdhash hash</td>\n",
       "      <td>{'tlsh': 'T16827339FB8735437E78CE4F089FA77F202...</td>\n",
       "      <td>Machoc hash</td>\n",
       "      <td>{'strings': 'T107653373A5E073D133E792E3A6CBEB5...</td>\n",
       "      <td>{'machoke': '9afe7f481a25c1e87bff906697df084cc...</td>\n",
       "      <td>False</td>\n",
       "    </tr>\n",
       "    <tr>\n",
       "      <th>...</th>\n",
       "      <td>...</td>\n",
       "      <td>...</td>\n",
       "      <td>...</td>\n",
       "      <td>...</td>\n",
       "      <td>...</td>\n",
       "      <td>...</td>\n",
       "      <td>...</td>\n",
       "      <td>...</td>\n",
       "      <td>...</td>\n",
       "      <td>...</td>\n",
       "      <td>...</td>\n",
       "    </tr>\n",
       "    <tr>\n",
       "      <th>1985</th>\n",
       "      <td>82</td>\n",
       "      <td>CapnProto</td>\n",
       "      <td>d371e548a0c3c38c8fd1939999f9b0dbe91853c1cd21c9...</td>\n",
       "      <td>302736</td>\n",
       "      <td>{'ssdeep': '6144:v83mjGvGtJO9M7kmfEBbIDa8Ll6Iw...</td>\n",
       "      <td>sdhash hash</td>\n",
       "      <td>{'tlsh': 'T1A554C82B255E5D37C987B0FE42C96233AF...</td>\n",
       "      <td>Machoc hash</td>\n",
       "      <td>{'strings': 'T1DCE3459A241E5D338E4730DE4299231...</td>\n",
       "      <td>NaN</td>\n",
       "      <td>True</td>\n",
       "    </tr>\n",
       "    <tr>\n",
       "      <th>1986</th>\n",
       "      <td>728</td>\n",
       "      <td>Chimera</td>\n",
       "      <td>9bc1a28fae47ef15bbec02d0c968812dbf4453f7306888...</td>\n",
       "      <td>5104</td>\n",
       "      <td>{'ssdeep': '96:yN2v3TCCvg7ytihAtMwXYpEreo6BM2I...</td>\n",
       "      <td>sdhash hash</td>\n",
       "      <td>{'tlsh': 'T1C2B131657336AF6D5EA7C0CE4F15A11E6A...</td>\n",
       "      <td>Machoc hash</td>\n",
       "      <td>{'strings': 'T14AA15269B332AF685DA7C4C68B14710...</td>\n",
       "      <td>NaN</td>\n",
       "      <td>True</td>\n",
       "    </tr>\n",
       "    <tr>\n",
       "      <th>1987</th>\n",
       "      <td>269</td>\n",
       "      <td>Stacks</td>\n",
       "      <td>212ef6a93df07d601393f71e51289621f18325a2b3a12f...</td>\n",
       "      <td>411064</td>\n",
       "      <td>{'ssdeep': '6144:ClBAik4vSdQEZ68SSo1BGWxs+1EtB...</td>\n",
       "      <td>sdhash hash</td>\n",
       "      <td>{'tlsh': 'T12694280BF6A718BCC8D6D730535B9436E9...</td>\n",
       "      <td>Machoc hash</td>\n",
       "      <td>{'strings': 'T141A3C7D3059B1CB45DE22754B32B612...</td>\n",
       "      <td>NaN</td>\n",
       "      <td>True</td>\n",
       "    </tr>\n",
       "    <tr>\n",
       "      <th>1988</th>\n",
       "      <td>625</td>\n",
       "      <td>UCX</td>\n",
       "      <td>138e9097341db19577181957e7a1f44fe70736e7087363...</td>\n",
       "      <td>4227784</td>\n",
       "      <td>{'ssdeep': '98304:ouItcWKjVnBft87WBBdCjb43Q1Y2...</td>\n",
       "      <td>sdhash hash</td>\n",
       "      <td>{'tlsh': 'T18F160755E79779D2C81ADAB8868F932072...</td>\n",
       "      <td>Machoc hash</td>\n",
       "      <td>{'strings': 'T143C4C7A4DA5728D2985E6A9CC34C334...</td>\n",
       "      <td>NaN</td>\n",
       "      <td>True</td>\n",
       "    </tr>\n",
       "    <tr>\n",
       "      <th>1989</th>\n",
       "      <td>1878</td>\n",
       "      <td>MUSCLE</td>\n",
       "      <td>b01dfe7eba16b95d24731d0db6fce5472f10e733391323...</td>\n",
       "      <td>1500768</td>\n",
       "      <td>{'ssdeep': '24576:WE59An8WIdJJqtwBnuVdZ+CwD0EM...</td>\n",
       "      <td>sdhash hash</td>\n",
       "      <td>{'tlsh': 'T19C657E4AB2B364BDC193C030479BEBA2AD...</td>\n",
       "      <td>Machoc hash</td>\n",
       "      <td>{'strings': 'T15AA3B6C46C80786E12E98BB0935AE7D...</td>\n",
       "      <td>NaN</td>\n",
       "      <td>True</td>\n",
       "    </tr>\n",
       "  </tbody>\n",
       "</table>\n",
       "<p>210634 rows × 11 columns</p>\n",
       "</div>"
      ],
      "text/plain": [
       "                           _id     family  \\\n",
       "0     6563776f3624482ac9d197e3    9002Rat   \n",
       "1     6563776f3624482ac9d197e4    9002Rat   \n",
       "2     6563776f3624482ac9d197e5    9002Rat   \n",
       "3     6563776f3624482ac9d197e6    9002Rat   \n",
       "4     6563776f3624482ac9d197e7    9002Rat   \n",
       "...                        ...        ...   \n",
       "1985                        82  CapnProto   \n",
       "1986                       728    Chimera   \n",
       "1987                       269     Stacks   \n",
       "1988                       625        UCX   \n",
       "1989                      1878     MUSCLE   \n",
       "\n",
       "                                                 SHA256  file_size  \\\n",
       "0     006c74c6813a6efeabea860b2718ed548eed216a319d76...      66888   \n",
       "1     0414ffdf9dcf32061cc57d0b54bf4410c1c588258c1261...      91136   \n",
       "2     054ac444bb2e4fa836ecb6ecdbb9381001ab26cf109451...   20008392   \n",
       "3     06fb64ebe50ee96901a339a7c5f686ead86e2ed6b26a73...   13189815   \n",
       "4     07da10375b0862760f3cb84e563f74ff4fc53864e34836...   21415252   \n",
       "...                                                 ...        ...   \n",
       "1985  d371e548a0c3c38c8fd1939999f9b0dbe91853c1cd21c9...     302736   \n",
       "1986  9bc1a28fae47ef15bbec02d0c968812dbf4453f7306888...       5104   \n",
       "1987  212ef6a93df07d601393f71e51289621f18325a2b3a12f...     411064   \n",
       "1988  138e9097341db19577181957e7a1f44fe70736e7087363...    4227784   \n",
       "1989  b01dfe7eba16b95d24731d0db6fce5472f10e733391323...    1500768   \n",
       "\n",
       "                                                 ssdeep       sdhash  \\\n",
       "0     {'ssdeep': '1536:fyOinfXrmThthYvYh+8+IXbTyllRb...  sdhash hash   \n",
       "1     {'ssdeep': '1536:isQQjCC6ZRC5EPviVkdsayrPJe7P6...  sdhash hash   \n",
       "2     {'ssdeep': '393216:1ZZNprQxrpbXZRCb0g/6cGx3PjW...  sdhash hash   \n",
       "3     {'ssdeep': '393216:z0ZCif89tnKfsp09SskycXZBBLW...  sdhash hash   \n",
       "4     {'ssdeep': '393216:c5gt4ljF2jF0C0eUkGz2Wqha9zO...  sdhash hash   \n",
       "...                                                 ...          ...   \n",
       "1985  {'ssdeep': '6144:v83mjGvGtJO9M7kmfEBbIDa8Ll6Iw...  sdhash hash   \n",
       "1986  {'ssdeep': '96:yN2v3TCCvg7ytihAtMwXYpEreo6BM2I...  sdhash hash   \n",
       "1987  {'ssdeep': '6144:ClBAik4vSdQEZ68SSo1BGWxs+1EtB...  sdhash hash   \n",
       "1988  {'ssdeep': '98304:ouItcWKjVnBft87WBBdCjb43Q1Y2...  sdhash hash   \n",
       "1989  {'ssdeep': '24576:WE59An8WIdJJqtwBnuVdZ+CwD0EM...  sdhash hash   \n",
       "\n",
       "                                                   tlsh       machoc  \\\n",
       "0     {'tlsh': 'T18A635B27E9548473CDC24DB044E80B7B8A...  Machoc hash   \n",
       "1     {'tlsh': 'T1D9937B107682C275D47A29344C69CB731B...  Machoc hash   \n",
       "2     {'tlsh': 'T14217331276D2C037C1A711719A37EB29AA...  Machoc hash   \n",
       "3     {'tlsh': 'T192D6336519E01E8CF2D177765AB1A2D44F...  Machoc hash   \n",
       "4     {'tlsh': 'T16827339FB8735437E78CE4F089FA77F202...  Machoc hash   \n",
       "...                                                 ...          ...   \n",
       "1985  {'tlsh': 'T1A554C82B255E5D37C987B0FE42C96233AF...  Machoc hash   \n",
       "1986  {'tlsh': 'T1C2B131657336AF6D5EA7C0CE4F15A11E6A...  Machoc hash   \n",
       "1987  {'tlsh': 'T12694280BF6A718BCC8D6D730535B9436E9...  Machoc hash   \n",
       "1988  {'tlsh': 'T18F160755E79779D2C81ADAB8868F932072...  Machoc hash   \n",
       "1989  {'tlsh': 'T19C657E4AB2B364BDC193C030479BEBA2AD...  Machoc hash   \n",
       "\n",
       "                                                strings  \\\n",
       "0     {'strings': 'T1E212E7DB1104D5268DC716B2880B19E...   \n",
       "1     {'strings': 'T153E14A15A8F899E35597838855607B8...   \n",
       "2     {'strings': 'T1865523536490B4B9B1EB478206F3A75...   \n",
       "3     {'strings': 'T1401533932CF134146066EBB64D4FBCA...   \n",
       "4     {'strings': 'T107653373A5E073D133E792E3A6CBEB5...   \n",
       "...                                                 ...   \n",
       "1985  {'strings': 'T1DCE3459A241E5D338E4730DE4299231...   \n",
       "1986  {'strings': 'T14AA15269B332AF685DA7C4C68B14710...   \n",
       "1987  {'strings': 'T141A3C7D3059B1CB45DE22754B32B612...   \n",
       "1988  {'strings': 'T143C4C7A4DA5728D2985E6A9CC34C334...   \n",
       "1989  {'strings': 'T15AA3B6C46C80786E12E98BB0935AE7D...   \n",
       "\n",
       "                                                machoke  scicore  \n",
       "0     {'machoke': '526cb6c74b6b4fe4ab698f6a149c2da4a...    False  \n",
       "1     {'machoke': 'c21014d561f4751fdaa6af077e8d16e1a...    False  \n",
       "2                  {'machoke': 'MNULL', 'hash_time': 0}    False  \n",
       "3     {'machoke': 'fc420b141a25c1e87bff906654371d173...    False  \n",
       "4     {'machoke': '9afe7f481a25c1e87bff906697df084cc...    False  \n",
       "...                                                 ...      ...  \n",
       "1985                                                NaN     True  \n",
       "1986                                                NaN     True  \n",
       "1987                                                NaN     True  \n",
       "1988                                                NaN     True  \n",
       "1989                                                NaN     True  \n",
       "\n",
       "[210634 rows x 11 columns]"
      ]
     },
     "execution_count": 7,
     "metadata": {},
     "output_type": "execute_result"
    }
   ],
   "source": [
    "malware_filtered[\"scicore\"] = False\n",
    "size = malware_filtered.shape[0] / 20\n",
    "scicore = pd.DataFrame(list(db[\"scicore\"].aggregate([{\"$sample\": {\"size\": size}}])))\n",
    "scicore[\"scicore\"] = True\n",
    "\n",
    "malware_concat = pd.concat([malware_filtered, scicore])\n",
    "\n",
    "malware_concat"
   ]
  },
  {
   "cell_type": "code",
   "execution_count": 8,
   "id": "ffb69068",
   "metadata": {
    "ExecuteTime": {
     "end_time": "2024-01-06T16:08:47.281098Z",
     "start_time": "2024-01-06T16:08:47.137486Z"
    }
   },
   "outputs": [
    {
     "data": {
      "text/html": [
       "<div>\n",
       "<style scoped>\n",
       "    .dataframe tbody tr th:only-of-type {\n",
       "        vertical-align: middle;\n",
       "    }\n",
       "\n",
       "    .dataframe tbody tr th {\n",
       "        vertical-align: top;\n",
       "    }\n",
       "\n",
       "    .dataframe thead th {\n",
       "        text-align: right;\n",
       "    }\n",
       "</style>\n",
       "<table border=\"1\" class=\"dataframe\">\n",
       "  <thead>\n",
       "    <tr style=\"text-align: right;\">\n",
       "      <th></th>\n",
       "      <th>_id</th>\n",
       "      <th>family</th>\n",
       "      <th>SHA256</th>\n",
       "      <th>file_size</th>\n",
       "      <th>ssdeep</th>\n",
       "      <th>sdhash</th>\n",
       "      <th>tlsh</th>\n",
       "      <th>machoc</th>\n",
       "      <th>strings</th>\n",
       "      <th>machoke</th>\n",
       "      <th>scicore</th>\n",
       "    </tr>\n",
       "  </thead>\n",
       "  <tbody>\n",
       "    <tr>\n",
       "      <th>54788</th>\n",
       "      <td>65638d463624482ac9d26de7</td>\n",
       "      <td>Koadic</td>\n",
       "      <td>0000015bf5f766e7a709983fe08a8d6983fb5d49213d43...</td>\n",
       "      <td>138752</td>\n",
       "      <td>{'ssdeep': '3072:3U/9+vstGGGFOn+tdHhVfErWGQ+SB...</td>\n",
       "      <td>sdhash hash</td>\n",
       "      <td>{'tlsh': 'T1BAD3AE4376C25372E5C116B101A529BBEB...</td>\n",
       "      <td>Machoc hash</td>\n",
       "      <td>{'strings': 'T1A9421C8B18DA396AE1370522C6FCA18...</td>\n",
       "      <td>NaN</td>\n",
       "      <td>False</td>\n",
       "    </tr>\n",
       "  </tbody>\n",
       "</table>\n",
       "</div>"
      ],
      "text/plain": [
       "                            _id  family  \\\n",
       "54788  65638d463624482ac9d26de7  Koadic   \n",
       "\n",
       "                                                  SHA256  file_size  \\\n",
       "54788  0000015bf5f766e7a709983fe08a8d6983fb5d49213d43...     138752   \n",
       "\n",
       "                                                  ssdeep       sdhash  \\\n",
       "54788  {'ssdeep': '3072:3U/9+vstGGGFOn+tdHhVfErWGQ+SB...  sdhash hash   \n",
       "\n",
       "                                                    tlsh       machoc  \\\n",
       "54788  {'tlsh': 'T1BAD3AE4376C25372E5C116B101A529BBEB...  Machoc hash   \n",
       "\n",
       "                                                 strings machoke  scicore  \n",
       "54788  {'strings': 'T1A9421C8B18DA396AE1370522C6FCA18...     NaN    False  "
      ]
     },
     "execution_count": 8,
     "metadata": {},
     "output_type": "execute_result"
    }
   ],
   "source": [
    "a = malware_concat\n",
    "a = a[a['tlsh'] != 'TNULL']\n",
    "a.dropna(subset=['tlsh'], inplace=True)\n",
    "a.dropna(subset=['ssdeep'], inplace=True)\n",
    "a.dropna(subset=['strings'], inplace=True)\n",
    "a[a[\"SHA256\"] == \"0000015bf5f766e7a709983fe08a8d6983fb5d49213d4389871c2b69e6c19b25\"]\n",
    "\n"
   ]
  },
  {
   "cell_type": "code",
   "execution_count": 9,
   "id": "8d8fee9c",
   "metadata": {
    "ExecuteTime": {
     "end_time": "2024-01-06T16:08:47.335258Z",
     "start_time": "2024-01-06T16:08:47.292900Z"
    }
   },
   "outputs": [
    {
     "data": {
      "text/plain": [
       "0"
      ]
     },
     "execution_count": 9,
     "metadata": {},
     "output_type": "execute_result"
    }
   ],
   "source": [
    "a = a[a['tlsh'] != 'TNULL']\n",
    "(a[\"tlsh\"] == \"TNULL\").sum()"
   ]
  },
  {
   "cell_type": "code",
   "execution_count": 10,
   "id": "e2d796dbf23f8f04",
   "metadata": {
    "ExecuteTime": {
     "end_time": "2024-01-06T16:08:47.455333Z",
     "start_time": "2024-01-06T16:08:47.350014Z"
    },
    "collapsed": false
   },
   "outputs": [],
   "source": [
    "\n",
    "a['tlsh'] = a['tlsh'].apply(lambda x: x['tlsh'] if 'tlsh' in x and isinstance(x, dict) else x)\n",
    "a = a[a['tlsh'] != 'TNULL']\n",
    "a['ssdeep'] = a['ssdeep'].apply(lambda x: x['ssdeep'] if 'ssdeep' in x and isinstance(x, dict) else x)\n",
    "\n",
    "a['strings'] = a['strings'].apply(lambda x: x['strings'] if 'strings' in x and isinstance(x, dict) else x)\n",
    "a = a[a['strings'] != 'TNULL']\n",
    "filtered_df = a"
   ]
  },
  {
   "cell_type": "code",
   "execution_count": 11,
   "id": "76a07cdf",
   "metadata": {
    "ExecuteTime": {
     "end_time": "2024-01-06T16:08:47.464710Z",
     "start_time": "2024-01-06T16:08:47.463121Z"
    }
   },
   "outputs": [
    {
     "data": {
      "text/plain": [
       "0"
      ]
     },
     "execution_count": 11,
     "metadata": {},
     "output_type": "execute_result"
    }
   ],
   "source": [
    "(filtered_df[\"tlsh\"] == \"TNULL\").sum()"
   ]
  },
  {
   "cell_type": "code",
   "execution_count": 12,
   "id": "186fa82f",
   "metadata": {
    "ExecuteTime": {
     "end_time": "2024-01-06T16:08:47.470792Z",
     "start_time": "2024-01-06T16:08:47.468604Z"
    }
   },
   "outputs": [
    {
     "data": {
      "text/plain": [
       "'\\nimport itertools\\n# Pre-calculate combinations for both tlsh and ssdeep\\n\\n# Assuming filtered_df, tlsh, ssdeep are defined elsewhere\\n\\n# Initialize lists to store data for DataFrame creation\\ntlsh_data = []\\nssdeep_data = []\\nstrings_data = []\\n\\nfor family, group in filtered_df.groupby(\\'family\\'):\\n    # Extract the values for tlsh and ssdeep\\n    tlsh_values = group[\\'tlsh\\'].tolist()\\n    ssdeep_values = group[\\'ssdeep\\'].tolist()\\n    strings_values = group[\\'strings\\'].tolist()\\n\\n    # Calculate combinations and their respective differences/similarities\\n    tlsh_combinations = itertools.combinations(tlsh_values, 2)\\n    ssdeep_combinations = itertools.combinations(ssdeep_values, 2)\\n    strings_combinations = itertools.combinations(strings_values, 2)\\n    \\n\\n    tlsh_diffs = [tlsh.diff(a, b) for a, b in tlsh_combinations]\\n    ssdeep_scores = [ssdeep.compare(a, b) for a, b in ssdeep_combinations]\\n    strings_diffs = [tlsh.diff(a, b) for a, b in strings_combinations]\\n    \\n\\n    # Append the results to the lists\\n    tlsh_data.append({\\n        \\'family\\': family,\\n        \\'values\\': tlsh_diffs,\\n        \\'mean\\': np.mean(tlsh_diffs) if tlsh_diffs else np.nan,\\n        \\'median\\': np.median(tlsh_diffs) if tlsh_diffs else np.nan,\\n        \\'std\\': np.std(tlsh_diffs) if tlsh_diffs else np.nan,\\n        \\'amount\\': len(tlsh_diffs)\\n    })\\n\\n    ssdeep_data.append({\\n        \\'family\\': family,\\n        \\'values\\': ssdeep_scores,\\n        \\'mean\\': np.mean(ssdeep_scores) if ssdeep_scores else np.nan,\\n        \\'median\\': np.median(ssdeep_scores) if ssdeep_scores else np.nan,\\n        \\'std\\': np.std(ssdeep_scores) if ssdeep_scores else np.nan,\\n        \\'amount\\': len(ssdeep_scores)\\n    })\\n    \\n    strings_data.append({\\n        \\'family\\': family,\\n        \\'values\\': strings_diffs,\\n        \\'mean\\': np.mean(strings_diffs) if strings_diffs else np.nan,\\n        \\'median\\': np.median(strings_diffs) if strings_diffs else np.nan,\\n        \\'std\\': np.std(strings_diffs) if strings_diffs else np.nan,\\n        \\'amount\\': len(strings_diffs)\\n    })\\n\\n# Create DataFrames from the lists\\nfam_tlsh = pd.DataFrame(tlsh_data)\\nfam_ssdeep = pd.DataFrame(ssdeep_data)\\nfam_strings = pd.DataFrame(strings_data)\\nfam_tlsh = fam_tlsh[fam_tlsh[\\'amount\\'] > 1]\\nfam_tlsh[[\"mean\",\"median\",\"std\"]].boxplot()\\nfam_ssdeep = fam_ssdeep[fam_ssdeep[\\'amount\\'] > 1]\\nfam_ssdeep[[\"mean\",\"median\",\"std\"]].boxplot()\\nfam_strings = fam_strings[fam_strings[\\'amount\\'] > 1]\\nfam_strings[[\"mean\",\"median\",\"std\"]].boxplot()'"
      ]
     },
     "execution_count": 12,
     "metadata": {},
     "output_type": "execute_result"
    }
   ],
   "source": [
    "\"\"\"def calculate_metrics(values, function):\n",
    "    if not values:\n",
    "        return np.nan, np.nan, np.nan, 0\n",
    "\n",
    "    results = [function(a, b) for a, b in itertools.combinations(values, 2)]\n",
    "    return np.mean(results), np.median(results), np.std(results), len(results)\n",
    "\n",
    "def process_group(group):\n",
    "    family = group['family'].iloc[0]\n",
    "    tlsh_values = group['tlsh'].tolist()\n",
    "    ssdeep_values = group['ssdeep'].tolist()\n",
    "    strings_values = group['strings'].tolist()\n",
    "\n",
    "    tlsh_mean, tlsh_median, tlsh_std, tlsh_amount = calculate_metrics(tlsh_values, tlsh.diff)\n",
    "    ssdeep_mean, ssdeep_median, ssdeep_std, ssdeep_amount = calculate_metrics(ssdeep_values, ssdeep.compare)\n",
    "    strings_mean, strings_median, strings_std, strings_amount = calculate_metrics(strings_values, tlsh.diff)\n",
    "\n",
    "    return {\n",
    "        'family': family,\n",
    "        'tlsh': {'mean': tlsh_mean, 'median': tlsh_median, 'std': tlsh_std, 'amount': tlsh_amount},\n",
    "        'ssdeep': {'mean': ssdeep_mean, 'median': ssdeep_median, 'std': ssdeep_std, 'amount': ssdeep_amount},\n",
    "        'strings': {'mean': strings_mean, 'median': strings_median, 'std': strings_std, 'amount': strings_amount}\n",
    "    }\n",
    "\"\"\"\n",
    "\"\"\"with ThreadPoolExecutor() as executor:\n",
    "    results = list(executor.map(process_group, [group for _, group in filtered_df.groupby('family')]))\n",
    "\n",
    "# Transform results into DataFrames\n",
    "fam_tlsh = pd.DataFrame([{'family': res['family'], **res['tlsh']} for res in results])\n",
    "fam_ssdeep = pd.DataFrame([{'family': res['family'], **res['ssdeep']} for res in results])\n",
    "fam_strings = pd.DataFrame([{'family': res['family'], **res['strings']} for res in results])\"\"\"\n",
    "\"\"\"\n",
    "import itertools\n",
    "# Pre-calculate combinations for both tlsh and ssdeep\n",
    "\n",
    "# Assuming filtered_df, tlsh, ssdeep are defined elsewhere\n",
    "\n",
    "# Initialize lists to store data for DataFrame creation\n",
    "tlsh_data = []\n",
    "ssdeep_data = []\n",
    "strings_data = []\n",
    "\n",
    "for family, group in filtered_df.groupby('family'):\n",
    "    # Extract the values for tlsh and ssdeep\n",
    "    tlsh_values = group['tlsh'].tolist()\n",
    "    ssdeep_values = group['ssdeep'].tolist()\n",
    "    strings_values = group['strings'].tolist()\n",
    "\n",
    "    # Calculate combinations and their respective differences/similarities\n",
    "    tlsh_combinations = itertools.combinations(tlsh_values, 2)\n",
    "    ssdeep_combinations = itertools.combinations(ssdeep_values, 2)\n",
    "    strings_combinations = itertools.combinations(strings_values, 2)\n",
    "    \n",
    "\n",
    "    tlsh_diffs = [tlsh.diff(a, b) for a, b in tlsh_combinations]\n",
    "    ssdeep_scores = [ssdeep.compare(a, b) for a, b in ssdeep_combinations]\n",
    "    strings_diffs = [tlsh.diff(a, b) for a, b in strings_combinations]\n",
    "    \n",
    "\n",
    "    # Append the results to the lists\n",
    "    tlsh_data.append({\n",
    "        'family': family,\n",
    "        'values': tlsh_diffs,\n",
    "        'mean': np.mean(tlsh_diffs) if tlsh_diffs else np.nan,\n",
    "        'median': np.median(tlsh_diffs) if tlsh_diffs else np.nan,\n",
    "        'std': np.std(tlsh_diffs) if tlsh_diffs else np.nan,\n",
    "        'amount': len(tlsh_diffs)\n",
    "    })\n",
    "\n",
    "    ssdeep_data.append({\n",
    "        'family': family,\n",
    "        'values': ssdeep_scores,\n",
    "        'mean': np.mean(ssdeep_scores) if ssdeep_scores else np.nan,\n",
    "        'median': np.median(ssdeep_scores) if ssdeep_scores else np.nan,\n",
    "        'std': np.std(ssdeep_scores) if ssdeep_scores else np.nan,\n",
    "        'amount': len(ssdeep_scores)\n",
    "    })\n",
    "    \n",
    "    strings_data.append({\n",
    "        'family': family,\n",
    "        'values': strings_diffs,\n",
    "        'mean': np.mean(strings_diffs) if strings_diffs else np.nan,\n",
    "        'median': np.median(strings_diffs) if strings_diffs else np.nan,\n",
    "        'std': np.std(strings_diffs) if strings_diffs else np.nan,\n",
    "        'amount': len(strings_diffs)\n",
    "    })\n",
    "\n",
    "# Create DataFrames from the lists\n",
    "fam_tlsh = pd.DataFrame(tlsh_data)\n",
    "fam_ssdeep = pd.DataFrame(ssdeep_data)\n",
    "fam_strings = pd.DataFrame(strings_data)\n",
    "fam_tlsh = fam_tlsh[fam_tlsh['amount'] > 1]\n",
    "fam_tlsh[[\"mean\",\"median\",\"std\"]].boxplot()\n",
    "fam_ssdeep = fam_ssdeep[fam_ssdeep['amount'] > 1]\n",
    "fam_ssdeep[[\"mean\",\"median\",\"std\"]].boxplot()\n",
    "fam_strings = fam_strings[fam_strings['amount'] > 1]\n",
    "fam_strings[[\"mean\",\"median\",\"std\"]].boxplot()\"\"\""
   ]
  },
  {
   "cell_type": "code",
   "execution_count": 17,
   "id": "a5c52b2c",
   "metadata": {},
   "outputs": [
    {
     "name": "stdout",
     "output_type": "stream",
     "text": [
      "Completed 1/513 batches\n"
     ]
    },
    {
     "data": {
      "text/html": [
       "<div>\n",
       "<style scoped>\n",
       "    .dataframe tbody tr th:only-of-type {\n",
       "        vertical-align: middle;\n",
       "    }\n",
       "\n",
       "    .dataframe tbody tr th {\n",
       "        vertical-align: top;\n",
       "    }\n",
       "\n",
       "    .dataframe thead th {\n",
       "        text-align: right;\n",
       "    }\n",
       "</style>\n",
       "<table border=\"1\" class=\"dataframe\">\n",
       "  <thead>\n",
       "    <tr style=\"text-align: right;\">\n",
       "      <th></th>\n",
       "      <th>family1</th>\n",
       "      <th>family2</th>\n",
       "      <th>scicore1</th>\n",
       "      <th>scicore2</th>\n",
       "      <th>score</th>\n",
       "    </tr>\n",
       "  </thead>\n",
       "  <tbody>\n",
       "    <tr>\n",
       "      <th>0</th>\n",
       "      <td>9002Rat</td>\n",
       "      <td>XdSpy</td>\n",
       "      <td>False</td>\n",
       "      <td>False</td>\n",
       "      <td>114</td>\n",
       "    </tr>\n",
       "    <tr>\n",
       "      <th>1</th>\n",
       "      <td>9002Rat</td>\n",
       "      <td>UsbCulprit</td>\n",
       "      <td>False</td>\n",
       "      <td>False</td>\n",
       "      <td>18</td>\n",
       "    </tr>\n",
       "    <tr>\n",
       "      <th>2</th>\n",
       "      <td>9002Rat</td>\n",
       "      <td>9002Rat</td>\n",
       "      <td>False</td>\n",
       "      <td>False</td>\n",
       "      <td>56</td>\n",
       "    </tr>\n",
       "    <tr>\n",
       "      <th>3</th>\n",
       "      <td>9002Rat</td>\n",
       "      <td>WpBruteBot</td>\n",
       "      <td>False</td>\n",
       "      <td>False</td>\n",
       "      <td>157</td>\n",
       "    </tr>\n",
       "    <tr>\n",
       "      <th>4</th>\n",
       "      <td>9002Rat</td>\n",
       "      <td>DiscordTokenStealers</td>\n",
       "      <td>False</td>\n",
       "      <td>False</td>\n",
       "      <td>157</td>\n",
       "    </tr>\n",
       "    <tr>\n",
       "      <th>...</th>\n",
       "      <td>...</td>\n",
       "      <td>...</td>\n",
       "      <td>...</td>\n",
       "      <td>...</td>\n",
       "      <td>...</td>\n",
       "    </tr>\n",
       "    <tr>\n",
       "      <th>195</th>\n",
       "      <td>Android.Hummingbad</td>\n",
       "      <td>Android.Hummingbad</td>\n",
       "      <td>False</td>\n",
       "      <td>False</td>\n",
       "      <td>1</td>\n",
       "    </tr>\n",
       "    <tr>\n",
       "      <th>196</th>\n",
       "      <td>Android.Hummingbad</td>\n",
       "      <td>Android.Hummingbad</td>\n",
       "      <td>False</td>\n",
       "      <td>False</td>\n",
       "      <td>2</td>\n",
       "    </tr>\n",
       "    <tr>\n",
       "      <th>197</th>\n",
       "      <td>Android.Hummingbad</td>\n",
       "      <td>Android.Hummingbad</td>\n",
       "      <td>False</td>\n",
       "      <td>False</td>\n",
       "      <td>1</td>\n",
       "    </tr>\n",
       "    <tr>\n",
       "      <th>198</th>\n",
       "      <td>Android.Hummingbad</td>\n",
       "      <td>Android.Hummingbad</td>\n",
       "      <td>False</td>\n",
       "      <td>False</td>\n",
       "      <td>5</td>\n",
       "    </tr>\n",
       "    <tr>\n",
       "      <th>199</th>\n",
       "      <td>Android.Hummingbad</td>\n",
       "      <td>Android.Hummingbad</td>\n",
       "      <td>False</td>\n",
       "      <td>False</td>\n",
       "      <td>30</td>\n",
       "    </tr>\n",
       "  </tbody>\n",
       "</table>\n",
       "<p>200 rows × 5 columns</p>\n",
       "</div>"
      ],
      "text/plain": [
       "                family1               family2  scicore1  scicore2  score\n",
       "0               9002Rat                 XdSpy     False     False    114\n",
       "1               9002Rat            UsbCulprit     False     False     18\n",
       "2               9002Rat               9002Rat     False     False     56\n",
       "3               9002Rat            WpBruteBot     False     False    157\n",
       "4               9002Rat  DiscordTokenStealers     False     False    157\n",
       "..                  ...                   ...       ...       ...    ...\n",
       "195  Android.Hummingbad    Android.Hummingbad     False     False      1\n",
       "196  Android.Hummingbad    Android.Hummingbad     False     False      2\n",
       "197  Android.Hummingbad    Android.Hummingbad     False     False      1\n",
       "198  Android.Hummingbad    Android.Hummingbad     False     False      5\n",
       "199  Android.Hummingbad    Android.Hummingbad     False     False     30\n",
       "\n",
       "[200 rows x 5 columns]"
      ]
     },
     "execution_count": 17,
     "metadata": {},
     "output_type": "execute_result"
    }
   ],
   "source": [
    "from tmp import subresult\n",
    "import concurrent.futures\n",
    "\n",
    "def tlsh_score(df, col=\"tlsh\"):\n",
    "    numi = df[[col, 'family', 'scicore', 'SHA256']].to_numpy()\n",
    "    batch = 200\n",
    "    total_batches = len(range(0, len(numi), batch))\n",
    "    results = []\n",
    "    completed_batches = 0\n",
    "    \n",
    "    with concurrent.futures.ProcessPoolExecutor(max_workers=32) as executor:\n",
    "        future_results = [executor.submit(subresult, numi[i:i+batch],numi) for i in range(0, len(numi), batch)]\n",
    "        for future in concurrent.futures.as_completed(future_results):\n",
    "            try:\n",
    "                results.extend(future.result())\n",
    "            except Exception as e:\n",
    "                print(f\"Operation failed: {e}\")\n",
    "    return results\n",
    "\n",
    "\n",
    "\n",
    "    \n",
    "# Assuming you have 'filtered_df' defined somewhere before this point\n",
    "results = tlsh_score(filtered_df)\n",
    "results = pd.DataFrame(results, columns=[\"family1\", \"family2\", \"scicore1\", \"scicore2\", \"score\"])\n",
    "results\n"
   ]
  },
  {
   "cell_type": "code",
   "execution_count": 16,
   "id": "05a306a3",
   "metadata": {},
   "outputs": [],
   "source": [
    "def tlsh_comb(df=filtered_df, col='tlsh'):\n",
    "    from itertools import combinations\n",
    "    import math\n",
    "\n",
    "    # Total number of combinations\n",
    "    total_combinations = 19999900000  # Pre-calculated for 200,000 rows\n",
    "\n",
    "    # Generate all binary combinations of the strings in the specified column\n",
    "    string_combinations = combinations(df[[col, 'family', 'scicore']].iterrows(), 2)\n",
    "    \n",
    "    results = []\n",
    "    for i, ((idx1, row1), (idx2, row2)) in enumerate(string_combinations, 1):\n",
    "        diff_score = tlsh.diff(row1[col], row2[col])\n",
    "        results.append((row1['family'], row2['family'], row1['scicore'], row2['scicore'], row1[col], row2[col], diff_score))\n",
    "\n",
    "        # Print progress every 1% of total combinations\n",
    "        if i % (total_combinations // 100) == 0:\n",
    "            progress_percent = (i / total_combinations) * 100\n",
    "            print(f\"Progress: {progress_percent:.2f}%\")\n",
    "\n",
    "    # Convert results to DataFrame\n",
    "    results_df = pd.DataFrame(results, columns=['Family 1', 'Family 2', 'Scicore 1', \"Scicore 2\", 'TLSH 1', 'TLSH 2', 'Diff Score'])\n",
    "    \n",
    "    return results_df\n",
    "\n",
    "results_tlsh = tlsh_comb()\n"
   ]
  },
  {
   "cell_type": "code",
   "execution_count": null,
   "id": "4b1ef1cca274a7d0",
   "metadata": {
    "ExecuteTime": {
     "end_time": "2024-01-06T16:18:26.339471Z",
     "start_time": "2024-01-06T16:18:11.831664Z"
    }
   },
   "outputs": [
    {
     "ename": "",
     "evalue": "",
     "output_type": "error",
     "traceback": [
      "\u001b[1;31mRunning cells with 'venv' requires the ipykernel package.\n",
      "\u001b[1;31mRun the following command to install 'ipykernel' into the Python environment. \n",
      "\u001b[1;31mCommand: 'c:/Users/edi/Documents/GitHub/obstkorb/venv/Scripts/python.exe -m pip install ipykernel -U --force-reinstall'"
     ]
    }
   ],
   "source": [
    "import pandas as pd\n",
    "from itertools import combinations\n",
    "import tlsh\n",
    "\n",
    "def tlsh_comb_chunked(df, chunk_size=100):\n",
    "    # Function to process a chunk of combinations\n",
    "    def process_chunk(chunk):\n",
    "        results = []\n",
    "        for row1 in chunk.itertuples(index=False):\n",
    "            for row2 in df.itertuples(index=False):\n",
    "                try:\n",
    "                    diff_score = tlsh.diff(row1.tlsh, row2.tlsh)\n",
    "                    results.append((row1.family, row2.family, row1.scicore, row2.scicore, row1.tlsh, row2.tlsh, diff_score))\n",
    "                except Exception as e:\n",
    "                    print(f\"Error processing row: {e}\")\n",
    "                    continue\n",
    "        return results\n",
    "\n",
    "    # Initialize an empty list to store all results\n",
    "    all_results = []\n",
    "\n",
    "    # Iterate over the DataFrame in chunks\n",
    "    for start in range(0, len(df), chunk_size):\n",
    "        end = start + chunk_size\n",
    "        chunk = df.iloc[start:end]\n",
    "        all_results.extend(process_chunk(chunk))\n",
    "\n",
    "    # Convert all results to DataFrame\n",
    "    results_df = pd.DataFrame(all_results, columns=['Family 1', 'Family 2', 'Scicore 1', 'Scicore 2', 'TLSH 1', 'TLSH 2', 'Diff Score'])\n",
    "\n",
    "    return results_df\n",
    "\n",
    "# Usage\n",
    "# Replace 'your_dataframe' with your actual DataFrame variable\n",
    "results_tlsh = tlsh_comb_chunked(filtered_df, chunk_size=100)\n",
    "results_tlsh"
   ]
  },
  {
   "cell_type": "code",
   "execution_count": null,
   "id": "bcbde1ec",
   "metadata": {
    "ExecuteTime": {
     "end_time": "2024-01-06T16:18:40.369087Z",
     "start_time": "2024-01-06T16:18:26.344852Z"
    }
   },
   "outputs": [
    {
     "ename": "",
     "evalue": "",
     "output_type": "error",
     "traceback": [
      "\u001b[1;31mRunning cells with 'venv' requires the ipykernel package.\n",
      "\u001b[1;31mRun the following command to install 'ipykernel' into the Python environment. \n",
      "\u001b[1;31mCommand: 'c:/Users/edi/Documents/GitHub/obstkorb/venv/Scripts/python.exe -m pip install ipykernel -U --force-reinstall'"
     ]
    }
   ],
   "source": [
    "def strings_comb_chunked(df, chunk_size=100):\n",
    "    # Function to process a chunk of combinations\n",
    "    def process_chunk(chunk):\n",
    "        results = []\n",
    "        for row1, row2 in combinations(chunk.itertuples(index=False), 2):\n",
    "            try:\n",
    "                diff_score = tlsh.diff(row1.strings, row2.strings)\n",
    "                results.append((row1.family, row2.family, row1.scicore, row2.scicore, row1.strings, row2.strings, diff_score))\n",
    "            except Exception as e:\n",
    "                print(f\"Error processing row: {e}\")\n",
    "                continue\n",
    "        return results\n",
    "\n",
    "    # Initialize an empty list to store all results\n",
    "    all_results = []\n",
    "\n",
    "    # Iterate over the DataFrame in chunks\n",
    "    for start in range(0, len(df), chunk_size):\n",
    "        end = start + chunk_size\n",
    "        chunk = df.iloc[start:end]\n",
    "        all_results.extend(process_chunk(chunk))\n",
    "\n",
    "    # Convert all results to DataFrame\n",
    "    results_df = pd.DataFrame(all_results, columns=['Family 1', 'Family 2', 'Scicore 1', 'Scicore 2', 'strings 1', 'strings 2', 'Diff Score'])\n",
    "\n",
    "    return results_df\n",
    "\n",
    "results_strings = strings_comb_chunked(filtered_df, chunk_size=100)\n",
    "results_strings"
   ]
  },
  {
   "cell_type": "code",
   "execution_count": null,
   "id": "45535d2410c905d5",
   "metadata": {
    "ExecuteTime": {
     "end_time": "2024-01-06T16:18:42.227045Z",
     "start_time": "2024-01-06T16:18:40.399201Z"
    },
    "collapsed": false
   },
   "outputs": [
    {
     "ename": "",
     "evalue": "",
     "output_type": "error",
     "traceback": [
      "\u001b[1;31mRunning cells with 'venv' requires the ipykernel package.\n",
      "\u001b[1;31mRun the following command to install 'ipykernel' into the Python environment. \n",
      "\u001b[1;31mCommand: 'c:/Users/edi/Documents/GitHub/obstkorb/venv/Scripts/python.exe -m pip install ipykernel -U --force-reinstall'"
     ]
    }
   ],
   "source": [
    "p = results_tlsh.loc[results_tlsh.groupby(\"TLSH 1\")[\"Diff Score\"].idxmin()]\n",
    "(p[\"Family 1\"] == p[\"Family 2\"]).value_counts()"
   ]
  },
  {
   "cell_type": "code",
   "execution_count": null,
   "id": "abfe843e",
   "metadata": {},
   "outputs": [
    {
     "ename": "",
     "evalue": "",
     "output_type": "error",
     "traceback": [
      "\u001b[1;31mRunning cells with 'venv' requires the ipykernel package.\n",
      "\u001b[1;31mRun the following command to install 'ipykernel' into the Python environment. \n",
      "\u001b[1;31mCommand: 'c:/Users/edi/Documents/GitHub/obstkorb/venv/Scripts/python.exe -m pip install ipykernel -U --force-reinstall'"
     ]
    }
   ],
   "source": [
    "tmp = results_tlsh[results_tlsh[\"Family 1\"] == \"9002Rat\"]\n",
    "len(tmp[\"Family 2\"].unique())"
   ]
  },
  {
   "cell_type": "code",
   "execution_count": null,
   "id": "14a51686",
   "metadata": {},
   "outputs": [
    {
     "ename": "",
     "evalue": "",
     "output_type": "error",
     "traceback": [
      "\u001b[1;31mRunning cells with 'venv' requires the ipykernel package.\n",
      "\u001b[1;31mRun the following command to install 'ipykernel' into the Python environment. \n",
      "\u001b[1;31mCommand: 'c:/Users/edi/Documents/GitHub/obstkorb/venv/Scripts/python.exe -m pip install ipykernel -U --force-reinstall'"
     ]
    }
   ],
   "source": []
  },
  {
   "cell_type": "code",
   "execution_count": null,
   "id": "1cf17782",
   "metadata": {},
   "outputs": [
    {
     "ename": "",
     "evalue": "",
     "output_type": "error",
     "traceback": [
      "\u001b[1;31mRunning cells with 'venv' requires the ipykernel package.\n",
      "\u001b[1;31mRun the following command to install 'ipykernel' into the Python environment. \n",
      "\u001b[1;31mCommand: 'c:/Users/edi/Documents/GitHub/obstkorb/venv/Scripts/python.exe -m pip install ipykernel -U --force-reinstall'"
     ]
    }
   ],
   "source": []
  },
  {
   "cell_type": "code",
   "execution_count": null,
   "id": "5f5abaf9",
   "metadata": {},
   "outputs": [
    {
     "ename": "",
     "evalue": "",
     "output_type": "error",
     "traceback": [
      "\u001b[1;31mRunning cells with 'venv' requires the ipykernel package.\n",
      "\u001b[1;31mRun the following command to install 'ipykernel' into the Python environment. \n",
      "\u001b[1;31mCommand: 'c:/Users/edi/Documents/GitHub/obstkorb/venv/Scripts/python.exe -m pip install ipykernel -U --force-reinstall'"
     ]
    }
   ],
   "source": []
  },
  {
   "cell_type": "code",
   "execution_count": null,
   "id": "60e02b13",
   "metadata": {},
   "outputs": [
    {
     "ename": "",
     "evalue": "",
     "output_type": "error",
     "traceback": [
      "\u001b[1;31mRunning cells with 'venv' requires the ipykernel package.\n",
      "\u001b[1;31mRun the following command to install 'ipykernel' into the Python environment. \n",
      "\u001b[1;31mCommand: 'c:/Users/edi/Documents/GitHub/obstkorb/venv/Scripts/python.exe -m pip install ipykernel -U --force-reinstall'"
     ]
    }
   ],
   "source": []
  },
  {
   "cell_type": "code",
   "execution_count": null,
   "id": "82edae96",
   "metadata": {},
   "outputs": [
    {
     "ename": "",
     "evalue": "",
     "output_type": "error",
     "traceback": [
      "\u001b[1;31mRunning cells with 'venv' requires the ipykernel package.\n",
      "\u001b[1;31mRun the following command to install 'ipykernel' into the Python environment. \n",
      "\u001b[1;31mCommand: 'c:/Users/edi/Documents/GitHub/obstkorb/venv/Scripts/python.exe -m pip install ipykernel -U --force-reinstall'"
     ]
    }
   ],
   "source": []
  },
  {
   "cell_type": "code",
   "execution_count": null,
   "id": "d405ea41",
   "metadata": {},
   "outputs": [
    {
     "ename": "",
     "evalue": "",
     "output_type": "error",
     "traceback": [
      "\u001b[1;31mRunning cells with 'venv' requires the ipykernel package.\n",
      "\u001b[1;31mRun the following command to install 'ipykernel' into the Python environment. \n",
      "\u001b[1;31mCommand: 'c:/Users/edi/Documents/GitHub/obstkorb/venv/Scripts/python.exe -m pip install ipykernel -U --force-reinstall'"
     ]
    }
   ],
   "source": []
  },
  {
   "cell_type": "code",
   "execution_count": null,
   "id": "ef9c2ff1",
   "metadata": {},
   "outputs": [
    {
     "ename": "",
     "evalue": "",
     "output_type": "error",
     "traceback": [
      "\u001b[1;31mRunning cells with 'venv' requires the ipykernel package.\n",
      "\u001b[1;31mRun the following command to install 'ipykernel' into the Python environment. \n",
      "\u001b[1;31mCommand: 'c:/Users/edi/Documents/GitHub/obstkorb/venv/Scripts/python.exe -m pip install ipykernel -U --force-reinstall'"
     ]
    }
   ],
   "source": []
  },
  {
   "cell_type": "code",
   "execution_count": null,
   "id": "5d5ac939",
   "metadata": {},
   "outputs": [
    {
     "ename": "",
     "evalue": "",
     "output_type": "error",
     "traceback": [
      "\u001b[1;31mRunning cells with 'venv' requires the ipykernel package.\n",
      "\u001b[1;31mRun the following command to install 'ipykernel' into the Python environment. \n",
      "\u001b[1;31mCommand: 'c:/Users/edi/Documents/GitHub/obstkorb/venv/Scripts/python.exe -m pip install ipykernel -U --force-reinstall'"
     ]
    }
   ],
   "source": []
  },
  {
   "cell_type": "code",
   "execution_count": null,
   "id": "ed7c0632",
   "metadata": {},
   "outputs": [
    {
     "ename": "",
     "evalue": "",
     "output_type": "error",
     "traceback": [
      "\u001b[1;31mRunning cells with 'venv' requires the ipykernel package.\n",
      "\u001b[1;31mRun the following command to install 'ipykernel' into the Python environment. \n",
      "\u001b[1;31mCommand: 'c:/Users/edi/Documents/GitHub/obstkorb/venv/Scripts/python.exe -m pip install ipykernel -U --force-reinstall'"
     ]
    }
   ],
   "source": []
  },
  {
   "cell_type": "code",
   "execution_count": null,
   "id": "4da65ac3",
   "metadata": {
    "ExecuteTime": {
     "end_time": "2024-01-06T16:18:43.761724Z",
     "start_time": "2024-01-06T16:18:42.254438Z"
    }
   },
   "outputs": [
    {
     "ename": "",
     "evalue": "",
     "output_type": "error",
     "traceback": [
      "\u001b[1;31mRunning cells with 'venv' requires the ipykernel package.\n",
      "\u001b[1;31mRun the following command to install 'ipykernel' into the Python environment. \n",
      "\u001b[1;31mCommand: 'c:/Users/edi/Documents/GitHub/obstkorb/venv/Scripts/python.exe -m pip install ipykernel -U --force-reinstall'"
     ]
    }
   ],
   "source": [
    "s = results_strings.loc[results_strings.groupby(\"strings 1\")[\"Diff Score\"].idxmin()]\n",
    "(s[\"Family 1\"] == s[\"Family 2\"]).value_counts()"
   ]
  },
  {
   "cell_type": "code",
   "execution_count": null,
   "id": "4331e03b9299b12f",
   "metadata": {
    "ExecuteTime": {
     "end_time": "2024-01-06T16:19:32.556924Z",
     "start_time": "2024-01-06T16:18:44.067486Z"
    },
    "collapsed": false
   },
   "outputs": [
    {
     "ename": "",
     "evalue": "",
     "output_type": "error",
     "traceback": [
      "\u001b[1;31mRunning cells with 'venv' requires the ipykernel package.\n",
      "\u001b[1;31mRun the following command to install 'ipykernel' into the Python environment. \n",
      "\u001b[1;31mCommand: 'c:/Users/edi/Documents/GitHub/obstkorb/venv/Scripts/python.exe -m pip install ipykernel -U --force-reinstall'"
     ]
    }
   ],
   "source": [
    "def tlsh_thresh(s, by=\"TLSH 1\"):\n",
    "    s = s.loc[s.groupby(by)[\"Diff Score\"].idxmin()]\n",
    "    ssdeep_th = pd.DataFrame(columns=[\"threshold\", \"true_positive_rate\", \"false_positive_rate\"])\n",
    "    comp_to_sci = s[s[\"Scicore 1\"] == False]\n",
    "    compt_to_malware = s[s[\"Scicore 2\"] == True]\n",
    "    for i in range (0,300,1):\n",
    "        \n",
    "        sci_th = comp_to_sci[comp_to_sci[\"Diff Score\"] < i]\n",
    "        mal_th = compt_to_malware[compt_to_malware[\"Diff Score\"] < i]\n",
    "        f_th = compt_to_malware[compt_to_malware[\"Diff Score\"] >= i]\n",
    "        \n",
    "        TP = (sci_th[\"Family 1\"] == sci_th[\"Family 2\"]).sum()\n",
    "        FP = (sci_th[\"Family 1\"] != sci_th[\"Family 2\"]).sum()\n",
    "        FN = (f_th[\"Family 1\"] != f_th[\"Family 2\"]).sum()\n",
    "        TN = (f_th[\"Family 1\"] == f_th[\"Family 2\"]).sum()\n",
    "        \n",
    "        TPR = TP / (TP + FN) if TP + FN != 0 else 0\n",
    "        FPR = FP / (FP + TN) if FP + TN != 0 else 0\n",
    "        # Append results to DataFrame\n",
    "        ssdeep_th.loc[i] = [i, TPR, FPR]\n",
    "    return ssdeep_th\n",
    "p = tlsh_thresh(tlsh_comb_chunked(filtered_df, chunk_size=100))\n",
    "s = tlsh_thresh(strings_comb_chunked(filtered_df, chunk_size=100), by=\"strings 1\")\n",
    "s"
   ]
  },
  {
   "cell_type": "code",
   "execution_count": null,
   "id": "4fcefbbcefa185bd",
   "metadata": {
    "ExecuteTime": {
     "end_time": "2024-01-06T16:19:32.639727Z",
     "start_time": "2024-01-06T16:19:32.564360Z"
    }
   },
   "outputs": [
    {
     "ename": "",
     "evalue": "",
     "output_type": "error",
     "traceback": [
      "\u001b[1;31mRunning cells with 'venv' requires the ipykernel package.\n",
      "\u001b[1;31mRun the following command to install 'ipykernel' into the Python environment. \n",
      "\u001b[1;31mCommand: 'c:/Users/edi/Documents/GitHub/obstkorb/venv/Scripts/python.exe -m pip install ipykernel -U --force-reinstall'"
     ]
    }
   ],
   "source": [
    "p.plot(x=\"false_positive_rate\", y=\"true_positive_rate\", xlim=(0, 1), ylim=(0, 1),title=\"ROC Curve for TLSH\", legend=False)\n",
    "plt.plot([0, 1], [0, 1], color='navy', linestyle='--')\n",
    "for i in range(0,p.shape[0] - 1, 15):\n",
    "    plt.annotate(i, (p[\"false_positive_rate\"][i], p[\"true_positive_rate\"][i]), fontsize=8)\n",
    "    if i > 100:\n",
    "        break\n",
    "plt.show()"
   ]
  },
  {
   "cell_type": "code",
   "execution_count": null,
   "id": "e2472c6b",
   "metadata": {
    "ExecuteTime": {
     "end_time": "2024-01-06T16:19:32.711295Z",
     "start_time": "2024-01-06T16:19:32.643893Z"
    }
   },
   "outputs": [
    {
     "ename": "",
     "evalue": "",
     "output_type": "error",
     "traceback": [
      "\u001b[1;31mRunning cells with 'venv' requires the ipykernel package.\n",
      "\u001b[1;31mRun the following command to install 'ipykernel' into the Python environment. \n",
      "\u001b[1;31mCommand: 'c:/Users/edi/Documents/GitHub/obstkorb/venv/Scripts/python.exe -m pip install ipykernel -U --force-reinstall'"
     ]
    }
   ],
   "source": [
    "p.plot(x=\"false_positive_rate\", y=\"true_positive_rate\", xlim=(0, 1), ylim=(0, 1),title=\"ROC Curve for strings\", legend=False)\n",
    "plt.plot([0, 1], [0, 1], color='navy', linestyle='--')\n",
    "for i in range(0,p.shape[0] - 1, 15):\n",
    "    plt.annotate(i, (p[\"false_positive_rate\"][i], p[\"true_positive_rate\"][i]), fontsize=8)\n",
    "    if i > 100:\n",
    "        break\n",
    "plt.show()"
   ]
  },
  {
   "cell_type": "code",
   "execution_count": null,
   "id": "23d9cdad7ed075b5",
   "metadata": {
    "ExecuteTime": {
     "end_time": "2024-01-06T16:19:52.695424Z",
     "start_time": "2024-01-06T16:19:33.562813Z"
    },
    "collapsed": false
   },
   "outputs": [
    {
     "ename": "",
     "evalue": "",
     "output_type": "error",
     "traceback": [
      "\u001b[1;31mRunning cells with 'venv' requires the ipykernel package.\n",
      "\u001b[1;31mRun the following command to install 'ipykernel' into the Python environment. \n",
      "\u001b[1;31mCommand: 'c:/Users/edi/Documents/GitHub/obstkorb/venv/Scripts/python.exe -m pip install ipykernel -U --force-reinstall'"
     ]
    }
   ],
   "source": [
    "def tlsh_f1(s, by=\"TLSH 1\"):\n",
    "    s = s.loc[s.groupby(by)[\"Diff Score\"].idxmin()]\n",
    "    ssdeep_th = pd.DataFrame(columns=[\"threshold\", \"f1\", \"accuracy\"])\n",
    "    comp_to_sci = s[s[\"Scicore 1\"] == False]\n",
    "    compt_to_malware = s[s[\"Scicore 2\"] == True]\n",
    "    for i in range (1,300,1):\n",
    "        \n",
    "        sci_th = comp_to_sci[comp_to_sci[\"Diff Score\"] < i]\n",
    "        mal_th = compt_to_malware[compt_to_malware[\"Diff Score\"] < i]\n",
    "        f_th = compt_to_malware[compt_to_malware[\"Diff Score\"] >= i]\n",
    "        \n",
    "        TP = (sci_th[\"Family 1\"] == sci_th[\"Family 2\"]).sum()\n",
    "        FP = (sci_th[\"Family 1\"] != sci_th[\"Family 2\"]).sum()\n",
    "        FN = (f_th[\"Family 1\"] != f_th[\"Family 2\"]).sum()\n",
    "        TN = (f_th[\"Family 1\"] == f_th[\"Family 2\"]).sum()\n",
    "        \n",
    "        precision = TP / (TP + FP) if TP + FP != 0 else 0\n",
    "        recall = TP / (TP + FN) if TP + TN != 0 else 0\n",
    "        \n",
    "        f1 = (2 * precision * recall) / (precision + recall)\n",
    "        accuracy = (TP + TN) / (TP + FP + FN + TN)\n",
    "        # Append results to DataFrame\n",
    "        ssdeep_th.loc[i] = [i, f1, accuracy]\n",
    "    return ssdeep_th\n",
    "f = tlsh_f1(tlsh_comb_chunked(filtered_df, chunk_size=100))\n",
    "f.plot(x=\"threshold\", y=[\"f1\",\"accuracy\"],title=\"F1 Score and Accuracy for TLSH\")"
   ]
  },
  {
   "cell_type": "code",
   "execution_count": null,
   "id": "3a792041a8696a99",
   "metadata": {
    "ExecuteTime": {
     "end_time": "2024-01-06T16:20:19.436656Z",
     "start_time": "2024-01-06T16:19:52.699273Z"
    }
   },
   "outputs": [
    {
     "ename": "",
     "evalue": "",
     "output_type": "error",
     "traceback": [
      "\u001b[1;31mRunning cells with 'venv' requires the ipykernel package.\n",
      "\u001b[1;31mRun the following command to install 'ipykernel' into the Python environment. \n",
      "\u001b[1;31mCommand: 'c:/Users/edi/Documents/GitHub/obstkorb/venv/Scripts/python.exe -m pip install ipykernel -U --force-reinstall'"
     ]
    }
   ],
   "source": [
    "def ssdeep_comb_chunked(df, chunk_size=100):\n",
    "    # Function to process a chunk of combinations\n",
    "    def process_chunk_ssdeep(chunk):\n",
    "        results = []\n",
    "        for row1, row2 in combinations(chunk.itertuples(index=False), 2):\n",
    "            try:\n",
    "                diff_score = ssdeep.compare(row1.ssdeep, row2.ssdeep)\n",
    "                if diff_score == 0:\n",
    "                    results.append((row1.family, \"No Match\", row1.scicore, row2.scicore, row1.ssdeep, row2.ssdeep, diff_score))\n",
    "                else:\n",
    "                    results.append((row1.family, row2.family, row1.scicore, row2.scicore, row1.ssdeep, row2.ssdeep, diff_score))\n",
    "            except Exception as e:\n",
    "                print(f\"Error processing row: {e}\")\n",
    "                continue\n",
    "        return results\n",
    "    #df['ssdeep'] = df['ssdeep'].apply(lambda x: x['ssdeep'] if 'ssdeep' in x and isinstance(x, dict) else x)\n",
    "    # Initialize an empty list to store all results\n",
    "    all_results = []\n",
    "\n",
    "    # Iterate over the DataFrame in chunks\n",
    "    for start in range(0, len(df), chunk_size):\n",
    "        end = start + chunk_size\n",
    "        chunk = df.iloc[start:end]\n",
    "        all_results.extend(process_chunk_ssdeep(chunk))\n",
    "\n",
    "    # Convert all results to DataFrame\n",
    "    results_df = pd.DataFrame(all_results, columns=['Family 1', 'Family 2', 'Scicore 1', 'Scicore 2', 'ssdeep 1', 'ssdeep 2', 'Diff Score'])\n",
    "\n",
    "    return results_df\n",
    "\n",
    "# Usage\n",
    "# Replace 'your_dataframe' with your actual DataFrame variable\n",
    "results_ssdeep = ssdeep_comb_chunked(filtered_df, chunk_size=100)\n",
    "results_ssdeep"
   ]
  },
  {
   "cell_type": "code",
   "execution_count": null,
   "id": "fd49f9b1",
   "metadata": {
    "ExecuteTime": {
     "end_time": "2024-01-06T16:20:19.583086Z",
     "start_time": "2024-01-06T16:20:19.580248Z"
    }
   },
   "outputs": [
    {
     "ename": "",
     "evalue": "",
     "output_type": "error",
     "traceback": [
      "\u001b[1;31mRunning cells with 'venv' requires the ipykernel package.\n",
      "\u001b[1;31mRun the following command to install 'ipykernel' into the Python environment. \n",
      "\u001b[1;31mCommand: 'c:/Users/edi/Documents/GitHub/obstkorb/venv/Scripts/python.exe -m pip install ipykernel -U --force-reinstall'"
     ]
    }
   ],
   "source": [
    "results_ssdeep[results_ssdeep[\"Family 1\"] == \"Predator the Thief\"][\"Diff Score\"].idxmax()"
   ]
  },
  {
   "cell_type": "code",
   "execution_count": null,
   "id": "f5889d281524c026",
   "metadata": {
    "ExecuteTime": {
     "end_time": "2024-01-06T16:20:19.586158Z",
     "start_time": "2024-01-06T16:20:19.584625Z"
    }
   },
   "outputs": [
    {
     "ename": "",
     "evalue": "",
     "output_type": "error",
     "traceback": [
      "\u001b[1;31mRunning cells with 'venv' requires the ipykernel package.\n",
      "\u001b[1;31mRun the following command to install 'ipykernel' into the Python environment. \n",
      "\u001b[1;31mCommand: 'c:/Users/edi/Documents/GitHub/obstkorb/venv/Scripts/python.exe -m pip install ipykernel -U --force-reinstall'"
     ]
    }
   ],
   "source": [
    "results_ssdeep.iloc[4202845]"
   ]
  },
  {
   "cell_type": "code",
   "execution_count": null,
   "id": "4de195865273e3a7",
   "metadata": {
    "ExecuteTime": {
     "end_time": "2024-01-06T16:20:21.399208Z",
     "start_time": "2024-01-06T16:20:19.614042Z"
    },
    "collapsed": false
   },
   "outputs": [
    {
     "ename": "",
     "evalue": "",
     "output_type": "error",
     "traceback": [
      "\u001b[1;31mRunning cells with 'venv' requires the ipykernel package.\n",
      "\u001b[1;31mRun the following command to install 'ipykernel' into the Python environment. \n",
      "\u001b[1;31mCommand: 'c:/Users/edi/Documents/GitHub/obstkorb/venv/Scripts/python.exe -m pip install ipykernel -U --force-reinstall'"
     ]
    }
   ],
   "source": [
    "s = results_ssdeep.loc[results_ssdeep.groupby('ssdeep 1')[\"Diff Score\"].idxmax()]\n",
    "s[s[\"Family 1\"] == \"Predator the Thief\"]"
   ]
  },
  {
   "cell_type": "code",
   "execution_count": null,
   "id": "f4799f60",
   "metadata": {
    "ExecuteTime": {
     "end_time": "2024-01-06T16:20:21.413449Z",
     "start_time": "2024-01-06T16:20:21.399869Z"
    }
   },
   "outputs": [
    {
     "ename": "",
     "evalue": "",
     "output_type": "error",
     "traceback": [
      "\u001b[1;31mRunning cells with 'venv' requires the ipykernel package.\n",
      "\u001b[1;31mRun the following command to install 'ipykernel' into the Python environment. \n",
      "\u001b[1;31mCommand: 'c:/Users/edi/Documents/GitHub/obstkorb/venv/Scripts/python.exe -m pip install ipykernel -U --force-reinstall'"
     ]
    }
   ],
   "source": [
    "size = s.shape[0]\n",
    "s = s[s[\"Scicore 2\"] == False]\n",
    "(s[\"Family 1\"] == s[\"Family 2\"]).value_counts()"
   ]
  },
  {
   "cell_type": "code",
   "execution_count": null,
   "id": "67678b187fe7f31a",
   "metadata": {
    "ExecuteTime": {
     "end_time": "2024-01-06T16:20:41.153240Z",
     "start_time": "2024-01-06T16:20:21.417320Z"
    },
    "collapsed": false
   },
   "outputs": [
    {
     "ename": "",
     "evalue": "",
     "output_type": "error",
     "traceback": [
      "\u001b[1;31mRunning cells with 'venv' requires the ipykernel package.\n",
      "\u001b[1;31mRun the following command to install 'ipykernel' into the Python environment. \n",
      "\u001b[1;31mCommand: 'c:/Users/edi/Documents/GitHub/obstkorb/venv/Scripts/python.exe -m pip install ipykernel -U --force-reinstall'"
     ]
    }
   ],
   "source": [
    "def ssdeep_thresh(s):\n",
    "    s = s.loc[s.groupby('ssdeep 1')[\"Diff Score\"].idxmax()]\n",
    "    ssdeep_th = pd.DataFrame(columns=[\"threshold\", \"true_positive_rate\", \"false_positive_rate\"])\n",
    "    comp_to_sci = s[s[\"Scicore 1\"] == False]\n",
    "    compt_to_malware = s[s[\"Scicore 2\"] == True]\n",
    "    for i in range (0,110,1):\n",
    "        \n",
    "        sci_th = comp_to_sci[comp_to_sci[\"Diff Score\"] >= i]\n",
    "        mal_th = compt_to_malware[compt_to_malware[\"Diff Score\"] > i]\n",
    "        f_th = compt_to_malware[compt_to_malware[\"Diff Score\"] < i]\n",
    "        \n",
    "        TP = (sci_th[\"Family 1\"] == sci_th[\"Family 2\"]).sum()\n",
    "        FP = (sci_th[\"Family 1\"] != sci_th[\"Family 2\"]).sum()\n",
    "        FN = (f_th[\"Family 1\"] != f_th[\"Family 2\"]).sum()\n",
    "        TN = (f_th[\"Family 1\"] == f_th[\"Family 2\"]).sum()\n",
    "        \n",
    "        TPR = TP / (TP + FN) if TP + FN != 0 else 0\n",
    "        FPR = FP / (FP + TN) if FP + TN != 0 else 0\n",
    "        # Append results to DataFrame\n",
    "        ssdeep_th.loc[i] = [i, TPR, FPR]\n",
    "    return ssdeep_th\n",
    "p = ssdeep_thresh(ssdeep_comb_chunked(filtered_df, chunk_size=100))\n",
    "p.plot(x=\"false_positive_rate\", y=\"true_positive_rate\", xlim=(0, 1), ylim=(0, 1),title=\"ROC Curve for ssdeep\", legend=False)"
   ]
  },
  {
   "cell_type": "code",
   "execution_count": null,
   "id": "87c3c769",
   "metadata": {
    "ExecuteTime": {
     "end_time": "2024-01-06T16:20:41.220139Z",
     "start_time": "2024-01-06T16:20:41.159255Z"
    }
   },
   "outputs": [
    {
     "ename": "",
     "evalue": "",
     "output_type": "error",
     "traceback": [
      "\u001b[1;31mRunning cells with 'venv' requires the ipykernel package.\n",
      "\u001b[1;31mRun the following command to install 'ipykernel' into the Python environment. \n",
      "\u001b[1;31mCommand: 'c:/Users/edi/Documents/GitHub/obstkorb/venv/Scripts/python.exe -m pip install ipykernel -U --force-reinstall'"
     ]
    }
   ],
   "source": [
    "# Plot the ROC curve in range 0.1 to 1.0\n",
    "ax = p.plot(x=\"false_positive_rate\", y=\"true_positive_rate\", xlim=(0, 1), ylim=(0, 1),title=\"ROC Curve for ssdeep\", legend=False)\n",
    "for i in range(p.shape[0]- 1,0, -10):\n",
    "    plt.annotate(i, (p[\"false_positive_rate\"][i], p[\"true_positive_rate\"][i]), fontsize=8)\n",
    "    if i < 80:\n",
    "        break\n",
    "# add a dotet line with y = x for comparison\n",
    "plt.plot([0, 1], [0, 1], color='navy', linestyle='--')\n",
    "plt.show()"
   ]
  },
  {
   "cell_type": "code",
   "execution_count": null,
   "id": "00436b94",
   "metadata": {
    "ExecuteTime": {
     "end_time": "2024-01-06T16:20:41.222708Z",
     "start_time": "2024-01-06T16:20:41.221274Z"
    }
   },
   "outputs": [
    {
     "ename": "",
     "evalue": "",
     "output_type": "error",
     "traceback": [
      "\u001b[1;31mRunning cells with 'venv' requires the ipykernel package.\n",
      "\u001b[1;31mRun the following command to install 'ipykernel' into the Python environment. \n",
      "\u001b[1;31mCommand: 'c:/Users/edi/Documents/GitHub/obstkorb/venv/Scripts/python.exe -m pip install ipykernel -U --force-reinstall'"
     ]
    }
   ],
   "source": [
    "print(f'The optimal Threshold is: {(p[\"true_positive_rate\"] - p[\"false_positive_rate\"]).abs().idxmax()}')"
   ]
  },
  {
   "cell_type": "code",
   "execution_count": null,
   "id": "9b345291",
   "metadata": {
    "ExecuteTime": {
     "end_time": "2024-01-06T16:21:01.094868Z",
     "start_time": "2024-01-06T16:20:41.226336Z"
    }
   },
   "outputs": [
    {
     "ename": "",
     "evalue": "",
     "output_type": "error",
     "traceback": [
      "\u001b[1;31mRunning cells with 'venv' requires the ipykernel package.\n",
      "\u001b[1;31mRun the following command to install 'ipykernel' into the Python environment. \n",
      "\u001b[1;31mCommand: 'c:/Users/edi/Documents/GitHub/obstkorb/venv/Scripts/python.exe -m pip install ipykernel -U --force-reinstall'"
     ]
    }
   ],
   "source": [
    "def ssdeep_f1(s):\n",
    "    s = s.loc[s.groupby('ssdeep 1')[\"Diff Score\"].idxmax()]\n",
    "    ssdeep_th = pd.DataFrame(columns=[\"threshold\", \"f1\", \"accuracy\"])\n",
    "    comp_to_sci = s[s[\"Scicore 1\"] == False]\n",
    "    compt_to_malware = s[s[\"Scicore 2\"] == True]\n",
    "    for i in range (0,110,1):\n",
    "        \n",
    "        sci_th = comp_to_sci[comp_to_sci[\"Diff Score\"] >= i]\n",
    "        mal_th = compt_to_malware[compt_to_malware[\"Diff Score\"] > i]\n",
    "        f_th = compt_to_malware[compt_to_malware[\"Diff Score\"] < i]\n",
    "        \n",
    "        TP = (sci_th[\"Family 1\"] == sci_th[\"Family 2\"]).sum()\n",
    "        FP = (sci_th[\"Family 1\"] != sci_th[\"Family 2\"]).sum()\n",
    "        FN = (f_th[\"Family 1\"] != f_th[\"Family 2\"]).sum()\n",
    "        TN = (f_th[\"Family 1\"] == f_th[\"Family 2\"]).sum()\n",
    "        \n",
    "        TPR = TP / (TP + FN) if TP + FN != 0 else 0\n",
    "        FPR = FP / (FP + TN) if FP + TN != 0 else 0\n",
    "        # Append results to DataFrame\n",
    "        precision = TP / (TP + FP) if TP + FP != 0 else 0\n",
    "        recall = TP / (TP + FN) if TP + TN != 0 else 0\n",
    "        \n",
    "        f1 = (2 * precision * recall) / (precision + recall)\n",
    "        accuracy = (TP + TN) / (TP + FP + FN + TN)\n",
    "        # Append results to DataFrame\n",
    "        ssdeep_th.loc[i] = [i, f1, accuracy]\n",
    "    return ssdeep_th\n",
    "p = ssdeep_f1(ssdeep_comb_chunked(filtered_df, chunk_size=100))\n",
    "p.plot(x=\"threshold\", y=[\"f1\",\"accuracy\"],title=\"F1 Score and Accuracy for ssdeep\")"
   ]
  },
  {
   "cell_type": "code",
   "execution_count": null,
   "id": "a1ddf2a8",
   "metadata": {
    "ExecuteTime": {
     "end_time": "2024-01-06T16:21:15.169458Z",
     "start_time": "2024-01-06T16:21:01.125215Z"
    }
   },
   "outputs": [
    {
     "ename": "",
     "evalue": "",
     "output_type": "error",
     "traceback": [
      "\u001b[1;31mRunning cells with 'venv' requires the ipykernel package.\n",
      "\u001b[1;31mRun the following command to install 'ipykernel' into the Python environment. \n",
      "\u001b[1;31mCommand: 'c:/Users/edi/Documents/GitHub/obstkorb/venv/Scripts/python.exe -m pip install ipykernel -U --force-reinstall'"
     ]
    }
   ],
   "source": [
    "tlsh_comp = results_tlsh.loc[results_tlsh.groupby(\"TLSH 1\")[\"Diff Score\"].idxmin()]\n",
    "\n",
    "tlsh_comp_diff = tlsh_comp[tlsh_comp[\"Diff Score\"] < 400]\n",
    "tlsh_comp_diff = tlsh_comp_diff[tlsh_comp_diff[\"Scicore 1\"] == False]\n",
    "\n",
    "ssdeep_comp = results_ssdeep.loc[results_ssdeep.groupby('ssdeep 1')[\"Diff Score\"].idxmax()]\n",
    "ssdeep_comp_diff = ssdeep_comp[ssdeep_comp[\"Diff Score\"] > 0]\n",
    "\n",
    "(ssdeep_comp_diff[\"Family 1\"] == ssdeep_comp_diff[\"Family 2\"]).sum() / len(ssdeep_comp_diff)"
   ]
  },
  {
   "cell_type": "code",
   "execution_count": null,
   "id": "fecb76c9",
   "metadata": {
    "ExecuteTime": {
     "end_time": "2024-01-06T16:21:15.172006Z",
     "start_time": "2024-01-06T16:21:15.170001Z"
    }
   },
   "outputs": [
    {
     "ename": "",
     "evalue": "",
     "output_type": "error",
     "traceback": [
      "\u001b[1;31mRunning cells with 'venv' requires the ipykernel package.\n",
      "\u001b[1;31mRun the following command to install 'ipykernel' into the Python environment. \n",
      "\u001b[1;31mCommand: 'c:/Users/edi/Documents/GitHub/obstkorb/venv/Scripts/python.exe -m pip install ipykernel -U --force-reinstall'"
     ]
    }
   ],
   "source": [
    "len(ssdeep_comp_diff) / len(ssdeep_comp)"
   ]
  },
  {
   "cell_type": "code",
   "execution_count": null,
   "id": "8781d879",
   "metadata": {
    "ExecuteTime": {
     "end_time": "2024-01-06T16:21:15.198138Z",
     "start_time": "2024-01-06T16:21:15.193746Z"
    }
   },
   "outputs": [
    {
     "ename": "",
     "evalue": "",
     "output_type": "error",
     "traceback": [
      "\u001b[1;31mRunning cells with 'venv' requires the ipykernel package.\n",
      "\u001b[1;31mRun the following command to install 'ipykernel' into the Python environment. \n",
      "\u001b[1;31mCommand: 'c:/Users/edi/Documents/GitHub/obstkorb/venv/Scripts/python.exe -m pip install ipykernel -U --force-reinstall'"
     ]
    }
   ],
   "source": [
    "intersect = set(tlsh_comp_diff[\"Family 1\"]) & set(ssdeep_comp_diff[\"Family 1\"])\n",
    "union = set(tlsh_comp_diff[\"Family 1\"]) | set(ssdeep_comp_diff[\"Family 1\"])\n",
    "len(union - intersect) / len(union)\n"
   ]
  },
  {
   "cell_type": "code",
   "execution_count": null,
   "id": "998302d1",
   "metadata": {
    "ExecuteTime": {
     "end_time": "2024-01-06T16:21:21.597068Z",
     "start_time": "2024-01-06T16:21:15.221822Z"
    }
   },
   "outputs": [
    {
     "ename": "",
     "evalue": "",
     "output_type": "error",
     "traceback": [
      "\u001b[1;31mRunning cells with 'venv' requires the ipykernel package.\n",
      "\u001b[1;31mRun the following command to install 'ipykernel' into the Python environment. \n",
      "\u001b[1;31mCommand: 'c:/Users/edi/Documents/GitHub/obstkorb/venv/Scripts/python.exe -m pip install ipykernel -U --force-reinstall'"
     ]
    }
   ],
   "source": [
    "tlsh_comp = results_tlsh.loc[results_tlsh.groupby(\"TLSH 1\")[\"Diff Score\"].idxmin()]\n",
    "ssdeep_comp = results_ssdeep.loc[results_ssdeep.groupby('ssdeep 1')[\"Diff Score\"].idxmax()]\n",
    "strings_comp = results_strings.loc[results_strings.groupby('strings 1')[\"Diff Score\"].idxmin()]\n",
    "tls = []\n",
    "ssd = []\n",
    "strs = []\n",
    "for i in range (0,300,10):\n",
    "    tlsh_comp_diff = tlsh_comp[tlsh_comp[\"Diff Score\"] < i]\n",
    "    str_comp_diff = strings_comp[strings_comp[\"Diff Score\"] < i]\n",
    "    tlsh_comp_diff = tlsh_comp_diff[tlsh_comp_diff[\"Scicore 1\"] == False]\n",
    "    str_comp_diff = str_comp_diff[str_comp_diff[\"Scicore 1\"] == False]\n",
    "    winrate_tlsh = (tlsh_comp_diff[\"Family 1\"] == tlsh_comp_diff[\"Family 2\"]).sum() / len(tlsh_comp_diff)\n",
    "    winrate_str = (str_comp_diff[\"Family 1\"] == str_comp_diff[\"Family 2\"]).sum() / len(str_comp_diff)\n",
    "    total_tlsh = len(tlsh_comp_diff) / len(tlsh_comp)\n",
    "    total_str = len(str_comp_diff) / len(strings_comp)\n",
    "    tls.append((winrate_tlsh, 1-winrate_tlsh, total_tlsh,i))\n",
    "    strs.append((winrate_str, 1-winrate_str, total_str,i))\n",
    "for j in range (0,110,1):\n",
    "    ssdeep_comp_diff = ssdeep_comp[ssdeep_comp[\"Diff Score\"] >= j]\n",
    "    ssdeep_comp_diff = ssdeep_comp_diff[ssdeep_comp_diff[\"Scicore 1\"] == False]\n",
    "    winrate = (ssdeep_comp_diff[\"Family 1\"] == ssdeep_comp_diff[\"Family 2\"]).sum() / len(ssdeep_comp_diff)\n",
    "    total = len(ssdeep_comp_diff) / len(ssdeep_comp)\n",
    "    ssd.append((winrate, 1-winrate, total,j))"
   ]
  },
  {
   "cell_type": "code",
   "execution_count": null,
   "id": "49f1fd99",
   "metadata": {
    "ExecuteTime": {
     "end_time": "2024-01-06T16:21:21.805411Z",
     "start_time": "2024-01-06T16:21:21.598346Z"
    }
   },
   "outputs": [
    {
     "ename": "",
     "evalue": "",
     "output_type": "error",
     "traceback": [
      "\u001b[1;31mRunning cells with 'venv' requires the ipykernel package.\n",
      "\u001b[1;31mRun the following command to install 'ipykernel' into the Python environment. \n",
      "\u001b[1;31mCommand: 'c:/Users/edi/Documents/GitHub/obstkorb/venv/Scripts/python.exe -m pip install ipykernel -U --force-reinstall'"
     ]
    }
   ],
   "source": [
    "titi = pd.DataFrame(tls, columns=[\"winrate\", \"lossrate\", \"total\", \"threshold\"])\n",
    "sisi = pd.DataFrame(ssd, columns=[\"winrate\", \"lossrate\", \"total\", \"threshold\"])\n",
    "stsr = pd.DataFrame(strs, columns=[\"winrate\", \"lossrate\", \"total\", \"threshold\"])\n",
    "#ti = titi.plot(x=\"threshold\", y=[\"winrate\",\"lossrate\",\"total\"],title=\"EDI Curve for TLSH\")\n",
    "#si = sisi.plot(x=\"threshold\", y=[\"winrate\",\"lossrate\",\"total\"],title=\"EDI Curve for ssdeep\")\n",
    "\n",
    "plt.clf()\n",
    "fig, ax = plt.subplots(1,3, figsize=(20,5))\n",
    "ax[0].plot(titi[\"threshold\"], titi[\"winrate\"], label=\"winrate\")\n",
    "ax[0].plot(titi[\"threshold\"], titi[\"lossrate\"], label=\"lossrate\")\n",
    "ax[0].plot(titi[\"threshold\"], titi[\"total\"], label=\"total\")\n",
    "ax[0].legend()\n",
    "ax[0].set_title(\"EDI Curve for TLSH\")\n",
    "ax[0].set_xlabel(\"Threshold\")\n",
    "ax[0].set_ylabel(\"Percentage\")\n",
    "ax[1].plot(sisi[\"threshold\"], sisi[\"winrate\"], label=\"winrate\")\n",
    "ax[1].plot(sisi[\"threshold\"], sisi[\"lossrate\"], label=\"lossrate\")\n",
    "ax[1].plot(sisi[\"threshold\"], sisi[\"total\"], label=\"total\")\n",
    "ax[1].legend()\n",
    "ax[1].set_title(\"EDI Curve for ssdeep\")\n",
    "ax[1].set_xlabel(\"Threshold\")\n",
    "ax[1].set_ylabel(\"Percentage\")\n",
    "ax[2].plot(stsr[\"threshold\"], stsr[\"winrate\"], label=\"winrate\")\n",
    "ax[2].plot(stsr[\"threshold\"], stsr[\"lossrate\"], label=\"lossrate\")\n",
    "ax[2].plot(stsr[\"threshold\"], stsr[\"total\"], label=\"total\")\n",
    "ax[2].legend()\n",
    "ax[2].set_title(\"EDI Curve for strings\")\n",
    "ax[2].set_xlabel(\"Threshold\")\n",
    "ax[2].set_ylabel(\"Percentage\")\n",
    "plt.show()"
   ]
  }
 ],
 "metadata": {
  "kernelspec": {
   "display_name": "Python 3 (ipykernel)",
   "language": "python",
   "name": "python3"
  },
  "language_info": {
   "codemirror_mode": {
    "name": "ipython",
    "version": 3
   },
   "file_extension": ".py",
   "mimetype": "text/x-python",
   "name": "python",
   "nbconvert_exporter": "python",
   "pygments_lexer": "ipython3",
   "version": "3.11.5"
  }
 },
 "nbformat": 4,
 "nbformat_minor": 5
}
