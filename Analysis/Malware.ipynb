{
 "cells": [
  {
   "cell_type": "code",
   "execution_count": 7,
   "id": "initial_id",
   "metadata": {
    "ExecuteTime": {
     "end_time": "2024-01-06T16:08:46.046453Z",
     "start_time": "2024-01-06T16:08:39.249795Z"
    },
    "collapsed": true
   },
   "outputs": [],
   "source": [
    "import numpy as np\n",
    "import pandas as pd\n",
    "import Mongo_Connector as mongo\n",
    "import tlsh\n",
    "from icecream import ic\n",
    "import matplotlib.pyplot as plt\n",
    "import ssdeep\n",
    "import warnings\n",
    "from concurrent.futures import ThreadPoolExecutor\n",
    "from itertools import combinations\n",
    "warnings.filterwarnings('ignore')\n",
    "db = mongo.init(\"portainer\", port=32768)\n",
    "df = pd.DataFrame(list(db[\"malware\"].find({})))"
   ]
  },
  {
   "cell_type": "code",
   "execution_count": 8,
   "id": "937a2956f270d7ca",
   "metadata": {
    "ExecuteTime": {
     "end_time": "2024-01-06T16:08:46.306175Z",
     "start_time": "2024-01-06T16:08:46.068596Z"
    },
    "collapsed": false
   },
   "outputs": [
    {
     "data": {
      "text/plain": [
       "(0.0, 40.0)"
      ]
     },
     "execution_count": 8,
     "metadata": {},
     "output_type": "execute_result"
    },
    {
     "data": {
      "image/png": "[encoded data removed]",
      "text/plain": [
       "<Figure size 640x480 with 1 Axes>"
      ]
     },
     "metadata": {},
     "output_type": "display_data"
    }
   ],
   "source": [
    "family_counts = df['family'].value_counts()\n",
    "\n",
    "# Filter the families with more than one entry\n",
    "malware_filtered = df[df['family'].map(family_counts) > 1]\n",
    "malware_filtered = malware_filtered.dropna()\n",
    "family_counts.hist(bins=100)\n",
    "plt.ylim(0, 40)"
   ]
  },
  {
   "cell_type": "code",
   "execution_count": 9,
   "id": "74ea060fe0b87308",
   "metadata": {
    "ExecuteTime": {
     "end_time": "2024-01-06T16:08:46.314538Z",
     "start_time": "2024-01-06T16:08:46.305110Z"
    },
    "collapsed": false
   },
   "outputs": [
    {
     "data": {
      "text/html": [
       "<div>\n",
       "<style scoped>\n",
       "    .dataframe tbody tr th:only-of-type {\n",
       "        vertical-align: middle;\n",
       "    }\n",
       "\n",
       "    .dataframe tbody tr th {\n",
       "        vertical-align: top;\n",
       "    }\n",
       "\n",
       "    .dataframe thead th {\n",
       "        text-align: right;\n",
       "    }\n",
       "</style>\n",
       "<table border=\"1\" class=\"dataframe\">\n",
       "  <thead>\n",
       "    <tr style=\"text-align: right;\">\n",
       "      <th></th>\n",
       "      <th>_id</th>\n",
       "      <th>family</th>\n",
       "      <th>SHA256</th>\n",
       "      <th>file_size</th>\n",
       "      <th>ssdeep</th>\n",
       "      <th>sdhash</th>\n",
       "      <th>tlsh</th>\n",
       "      <th>machoc</th>\n",
       "      <th>strings</th>\n",
       "      <th>machoke</th>\n",
       "    </tr>\n",
       "  </thead>\n",
       "  <tbody>\n",
       "    <tr>\n",
       "      <th>0</th>\n",
       "      <td>6563776f3624482ac9d197e3</td>\n",
       "      <td>9002Rat</td>\n",
       "      <td>006c74c6813a6efeabea860b2718ed548eed216a319d76...</td>\n",
       "      <td>66888</td>\n",
       "      <td>{'ssdeep': '1536:fyOinfXrmThthYvYh+8+IXbTyllRb...</td>\n",
       "      <td>sdhash hash</td>\n",
       "      <td>{'tlsh': 'T18A635B27E9548473CDC24DB044E80B7B8A...</td>\n",
       "      <td>Machoc hash</td>\n",
       "      <td>{'strings': 'T1E212E7DB1104D5268DC716B2880B19E...</td>\n",
       "      <td>{'machoke': '526cb6c74b6b4fe4ab698f6a149c2da4a...</td>\n",
       "    </tr>\n",
       "    <tr>\n",
       "      <th>1</th>\n",
       "      <td>6563776f3624482ac9d197e4</td>\n",
       "      <td>9002Rat</td>\n",
       "      <td>0414ffdf9dcf32061cc57d0b54bf4410c1c588258c1261...</td>\n",
       "      <td>91136</td>\n",
       "      <td>{'ssdeep': '1536:isQQjCC6ZRC5EPviVkdsayrPJe7P6...</td>\n",
       "      <td>sdhash hash</td>\n",
       "      <td>{'tlsh': 'T1D9937B107682C275D47A29344C69CB731B...</td>\n",
       "      <td>Machoc hash</td>\n",
       "      <td>{'strings': 'T153E14A15A8F899E35597838855607B8...</td>\n",
       "      <td>{'machoke': 'c21014d561f4751fdaa6af077e8d16e1a...</td>\n",
       "    </tr>\n",
       "    <tr>\n",
       "      <th>2</th>\n",
       "      <td>6563776f3624482ac9d197e5</td>\n",
       "      <td>9002Rat</td>\n",
       "      <td>054ac444bb2e4fa836ecb6ecdbb9381001ab26cf109451...</td>\n",
       "      <td>20008392</td>\n",
       "      <td>{'ssdeep': '393216:1ZZNprQxrpbXZRCb0g/6cGx3PjW...</td>\n",
       "      <td>sdhash hash</td>\n",
       "      <td>{'tlsh': 'T14217331276D2C037C1A711719A37EB29AA...</td>\n",
       "      <td>Machoc hash</td>\n",
       "      <td>{'strings': 'T1865523536490B4B9B1EB478206F3A75...</td>\n",
       "      <td>{'machoke': 'MNULL', 'hash_time': 0}</td>\n",
       "    </tr>\n",
       "    <tr>\n",
       "      <th>3</th>\n",
       "      <td>6563776f3624482ac9d197e6</td>\n",
       "      <td>9002Rat</td>\n",
       "      <td>06fb64ebe50ee96901a339a7c5f686ead86e2ed6b26a73...</td>\n",
       "      <td>13189815</td>\n",
       "      <td>{'ssdeep': '393216:z0ZCif89tnKfsp09SskycXZBBLW...</td>\n",
       "      <td>sdhash hash</td>\n",
       "      <td>{'tlsh': 'T192D6336519E01E8CF2D177765AB1A2D44F...</td>\n",
       "      <td>Machoc hash</td>\n",
       "      <td>{'strings': 'T1401533932CF134146066EBB64D4FBCA...</td>\n",
       "      <td>{'machoke': 'fc420b141a25c1e87bff906654371d173...</td>\n",
       "    </tr>\n",
       "    <tr>\n",
       "      <th>4</th>\n",
       "      <td>6563776f3624482ac9d197e7</td>\n",
       "      <td>9002Rat</td>\n",
       "      <td>07da10375b0862760f3cb84e563f74ff4fc53864e34836...</td>\n",
       "      <td>21415252</td>\n",
       "      <td>{'ssdeep': '393216:c5gt4ljF2jF0C0eUkGz2Wqha9zO...</td>\n",
       "      <td>sdhash hash</td>\n",
       "      <td>{'tlsh': 'T16827339FB8735437E78CE4F089FA77F202...</td>\n",
       "      <td>Machoc hash</td>\n",
       "      <td>{'strings': 'T107653373A5E073D133E792E3A6CBEB5...</td>\n",
       "      <td>{'machoke': '9afe7f481a25c1e87bff906697df084cc...</td>\n",
       "    </tr>\n",
       "    <tr>\n",
       "      <th>...</th>\n",
       "      <td>...</td>\n",
       "      <td>...</td>\n",
       "      <td>...</td>\n",
       "      <td>...</td>\n",
       "      <td>...</td>\n",
       "      <td>...</td>\n",
       "      <td>...</td>\n",
       "      <td>...</td>\n",
       "      <td>...</td>\n",
       "      <td>...</td>\n",
       "    </tr>\n",
       "    <tr>\n",
       "      <th>208641</th>\n",
       "      <td>658f24555f823237b2e23b36</td>\n",
       "      <td>zxShell</td>\n",
       "      <td>fbe294910ef833e1c9b2c8663c06b6ef99c13b2bc5eb01...</td>\n",
       "      <td>1698208</td>\n",
       "      <td>NaN</td>\n",
       "      <td>NaN</td>\n",
       "      <td>NaN</td>\n",
       "      <td>NaN</td>\n",
       "      <td>{'strings': 'T173F301867C0624D5EBFFAEDB4D3A703...</td>\n",
       "      <td>NaN</td>\n",
       "    </tr>\n",
       "    <tr>\n",
       "      <th>208642</th>\n",
       "      <td>658f24555f823237b2e23b37</td>\n",
       "      <td>zxShell</td>\n",
       "      <td>fc3cacb2103adedc11720c34a243de58085c1a7283ba35...</td>\n",
       "      <td>204240</td>\n",
       "      <td>NaN</td>\n",
       "      <td>NaN</td>\n",
       "      <td>NaN</td>\n",
       "      <td>NaN</td>\n",
       "      <td>{'strings': 'T1BF62AFC75196B9D08B8A8F92E752A05...</td>\n",
       "      <td>NaN</td>\n",
       "    </tr>\n",
       "    <tr>\n",
       "      <th>208643</th>\n",
       "      <td>658f24555f823237b2e23b38</td>\n",
       "      <td>zxShell</td>\n",
       "      <td>dbd03093e58c2d60f4f47b720691cd3e6310f0566403ee...</td>\n",
       "      <td>1343952</td>\n",
       "      <td>NaN</td>\n",
       "      <td>NaN</td>\n",
       "      <td>NaN</td>\n",
       "      <td>NaN</td>\n",
       "      <td>{'strings': 'T1425302C618D220E6EF92DA1C95AB778...</td>\n",
       "      <td>NaN</td>\n",
       "    </tr>\n",
       "    <tr>\n",
       "      <th>208644</th>\n",
       "      <td>658f24555f823237b2e23b39</td>\n",
       "      <td>zxShell</td>\n",
       "      <td>e2d2761fc2535d99527df2f7cffd8dddccd504dc0096f6...</td>\n",
       "      <td>1181088</td>\n",
       "      <td>NaN</td>\n",
       "      <td>NaN</td>\n",
       "      <td>NaN</td>\n",
       "      <td>NaN</td>\n",
       "      <td>{'strings': 'T167B3E1E1659228B103A6CF4D5AE7770...</td>\n",
       "      <td>NaN</td>\n",
       "    </tr>\n",
       "    <tr>\n",
       "      <th>208645</th>\n",
       "      <td>658f24555f823237b2e23b3a</td>\n",
       "      <td>zxShell</td>\n",
       "      <td>ef049339f1eb091cda335b51939f91e784e1ab1e006056...</td>\n",
       "      <td>1678576</td>\n",
       "      <td>NaN</td>\n",
       "      <td>NaN</td>\n",
       "      <td>NaN</td>\n",
       "      <td>NaN</td>\n",
       "      <td>{'strings': 'T197F31281A8029415E9FF49C21E37B37...</td>\n",
       "      <td>NaN</td>\n",
       "    </tr>\n",
       "  </tbody>\n",
       "</table>\n",
       "<p>208646 rows × 10 columns</p>\n",
       "</div>"
      ],
      "text/plain": [
       "                             _id   family  \\\n",
       "0       6563776f3624482ac9d197e3  9002Rat   \n",
       "1       6563776f3624482ac9d197e4  9002Rat   \n",
       "2       6563776f3624482ac9d197e5  9002Rat   \n",
       "3       6563776f3624482ac9d197e6  9002Rat   \n",
       "4       6563776f3624482ac9d197e7  9002Rat   \n",
       "...                          ...      ...   \n",
       "208641  658f24555f823237b2e23b36  zxShell   \n",
       "208642  658f24555f823237b2e23b37  zxShell   \n",
       "208643  658f24555f823237b2e23b38  zxShell   \n",
       "208644  658f24555f823237b2e23b39  zxShell   \n",
       "208645  658f24555f823237b2e23b3a  zxShell   \n",
       "\n",
       "                                                   SHA256  file_size  \\\n",
       "0       006c74c6813a6efeabea860b2718ed548eed216a319d76...      66888   \n",
       "1       0414ffdf9dcf32061cc57d0b54bf4410c1c588258c1261...      91136   \n",
       "2       054ac444bb2e4fa836ecb6ecdbb9381001ab26cf109451...   20008392   \n",
       "3       06fb64ebe50ee96901a339a7c5f686ead86e2ed6b26a73...   13189815   \n",
       "4       07da10375b0862760f3cb84e563f74ff4fc53864e34836...   21415252   \n",
       "...                                                   ...        ...   \n",
       "208641  fbe294910ef833e1c9b2c8663c06b6ef99c13b2bc5eb01...    1698208   \n",
       "208642  fc3cacb2103adedc11720c34a243de58085c1a7283ba35...     204240   \n",
       "208643  dbd03093e58c2d60f4f47b720691cd3e6310f0566403ee...    1343952   \n",
       "208644  e2d2761fc2535d99527df2f7cffd8dddccd504dc0096f6...    1181088   \n",
       "208645  ef049339f1eb091cda335b51939f91e784e1ab1e006056...    1678576   \n",
       "\n",
       "                                                   ssdeep       sdhash  \\\n",
       "0       {'ssdeep': '1536:fyOinfXrmThthYvYh+8+IXbTyllRb...  sdhash hash   \n",
       "1       {'ssdeep': '1536:isQQjCC6ZRC5EPviVkdsayrPJe7P6...  sdhash hash   \n",
       "2       {'ssdeep': '393216:1ZZNprQxrpbXZRCb0g/6cGx3PjW...  sdhash hash   \n",
       "3       {'ssdeep': '393216:z0ZCif89tnKfsp09SskycXZBBLW...  sdhash hash   \n",
       "4       {'ssdeep': '393216:c5gt4ljF2jF0C0eUkGz2Wqha9zO...  sdhash hash   \n",
       "...                                                   ...          ...   \n",
       "208641                                                NaN          NaN   \n",
       "208642                                                NaN          NaN   \n",
       "208643                                                NaN          NaN   \n",
       "208644                                                NaN          NaN   \n",
       "208645                                                NaN          NaN   \n",
       "\n",
       "                                                     tlsh       machoc  \\\n",
       "0       {'tlsh': 'T18A635B27E9548473CDC24DB044E80B7B8A...  Machoc hash   \n",
       "1       {'tlsh': 'T1D9937B107682C275D47A29344C69CB731B...  Machoc hash   \n",
       "2       {'tlsh': 'T14217331276D2C037C1A711719A37EB29AA...  Machoc hash   \n",
       "3       {'tlsh': 'T192D6336519E01E8CF2D177765AB1A2D44F...  Machoc hash   \n",
       "4       {'tlsh': 'T16827339FB8735437E78CE4F089FA77F202...  Machoc hash   \n",
       "...                                                   ...          ...   \n",
       "208641                                                NaN          NaN   \n",
       "208642                                                NaN          NaN   \n",
       "208643                                                NaN          NaN   \n",
       "208644                                                NaN          NaN   \n",
       "208645                                                NaN          NaN   \n",
       "\n",
       "                                                  strings  \\\n",
       "0       {'strings': 'T1E212E7DB1104D5268DC716B2880B19E...   \n",
       "1       {'strings': 'T153E14A15A8F899E35597838855607B8...   \n",
       "2       {'strings': 'T1865523536490B4B9B1EB478206F3A75...   \n",
       "3       {'strings': 'T1401533932CF134146066EBB64D4FBCA...   \n",
       "4       {'strings': 'T107653373A5E073D133E792E3A6CBEB5...   \n",
       "...                                                   ...   \n",
       "208641  {'strings': 'T173F301867C0624D5EBFFAEDB4D3A703...   \n",
       "208642  {'strings': 'T1BF62AFC75196B9D08B8A8F92E752A05...   \n",
       "208643  {'strings': 'T1425302C618D220E6EF92DA1C95AB778...   \n",
       "208644  {'strings': 'T167B3E1E1659228B103A6CF4D5AE7770...   \n",
       "208645  {'strings': 'T197F31281A8029415E9FF49C21E37B37...   \n",
       "\n",
       "                                                  machoke  \n",
       "0       {'machoke': '526cb6c74b6b4fe4ab698f6a149c2da4a...  \n",
       "1       {'machoke': 'c21014d561f4751fdaa6af077e8d16e1a...  \n",
       "2                    {'machoke': 'MNULL', 'hash_time': 0}  \n",
       "3       {'machoke': 'fc420b141a25c1e87bff906654371d173...  \n",
       "4       {'machoke': '9afe7f481a25c1e87bff906697df084cc...  \n",
       "...                                                   ...  \n",
       "208641                                                NaN  \n",
       "208642                                                NaN  \n",
       "208643                                                NaN  \n",
       "208644                                                NaN  \n",
       "208645                                                NaN  \n",
       "\n",
       "[208646 rows x 10 columns]"
      ]
     },
     "execution_count": 9,
     "metadata": {},
     "output_type": "execute_result"
    }
   ],
   "source": [
    "df"
   ]
  },
  {
   "cell_type": "code",
   "execution_count": 10,
   "id": "f729907f8678da8",
   "metadata": {
    "ExecuteTime": {
     "end_time": "2024-01-06T16:08:46.387645Z",
     "start_time": "2024-01-06T16:08:46.334638Z"
    },
    "collapsed": false
   },
   "outputs": [
    {
     "name": "stdout",
     "output_type": "stream",
     "text": [
      "Original DataFrame had 208646 rows.\n",
      "Filtered DataFrame has 208644 rows.\n",
      "Families removed (only had 1 entry): ['CyclopsBlink', 'Darkbit']\n"
     ]
    }
   ],
   "source": [
    "original_count = df.shape[0]\n",
    "\n",
    "# Count the occurrences of each family\n",
    "family_counts = df['family'].value_counts()\n",
    "\n",
    "# Filter the DataFrame to keep families with more than one entry\n",
    "malware_filtered = df[df['family'].map(family_counts) > 1]\n",
    "\n",
    "# Get the new number of rows after filtering\n",
    "filtered_count = malware_filtered.shape[0]\n",
    "\n",
    "# Identify the families that were removed\n",
    "removed_families = family_counts[family_counts == 1].index.tolist()\n",
    "\n",
    "# Print the results\n",
    "print(f\"Original DataFrame had {original_count} rows.\")\n",
    "print(f\"Filtered DataFrame has {filtered_count} rows.\")\n",
    "print(f\"Families removed (only had 1 entry): {removed_families}\")"
   ]
  },
  {
   "cell_type": "code",
   "execution_count": 11,
   "id": "43999c3227a4f1e2",
   "metadata": {
    "ExecuteTime": {
     "end_time": "2024-01-06T16:08:46.953296Z",
     "start_time": "2024-01-06T16:08:46.395187Z"
    },
    "collapsed": false
   },
   "outputs": [
    {
     "data": {
      "text/plain": [
       "([], [])"
      ]
     },
     "execution_count": 11,
     "metadata": {},
     "output_type": "execute_result"
    },
    {
     "data": {
      "image/png": "[encoded data removed]",
      "text/plain": [
       "<Figure size 2000x1000 with 1 Axes>"
      ]
     },
     "metadata": {},
     "output_type": "display_data"
    }
   ],
   "source": [
    "malware_filtered[\"family\"].value_counts().plot(x=\"family\", y=\"count\", kind=\"bar\", figsize=(20, 10))\n",
    "plt.xticks([])"
   ]
  },
  {
   "cell_type": "code",
   "execution_count": 12,
   "id": "78bef638",
   "metadata": {
    "ExecuteTime": {
     "end_time": "2024-01-06T16:08:47.076339Z",
     "start_time": "2024-01-06T16:08:46.965485Z"
    }
   },
   "outputs": [
    {
     "data": {
      "text/plain": [
       "527"
      ]
     },
     "execution_count": 12,
     "metadata": {},
     "output_type": "execute_result"
    }
   ],
   "source": [
    "len(df[\"family\"].unique())"
   ]
  },
  {
   "cell_type": "code",
   "execution_count": 13,
   "id": "5f1b0310db0eeeb6",
   "metadata": {
    "ExecuteTime": {
     "end_time": "2024-01-06T16:08:47.122884Z",
     "start_time": "2024-01-06T16:08:46.976653Z"
    },
    "collapsed": false
   },
   "outputs": [
    {
     "data": {
      "text/html": [
       "<div>\n",
       "<style scoped>\n",
       "    .dataframe tbody tr th:only-of-type {\n",
       "        vertical-align: middle;\n",
       "    }\n",
       "\n",
       "    .dataframe tbody tr th {\n",
       "        vertical-align: top;\n",
       "    }\n",
       "\n",
       "    .dataframe thead th {\n",
       "        text-align: right;\n",
       "    }\n",
       "</style>\n",
       "<table border=\"1\" class=\"dataframe\">\n",
       "  <thead>\n",
       "    <tr style=\"text-align: right;\">\n",
       "      <th></th>\n",
       "      <th>_id</th>\n",
       "      <th>family</th>\n",
       "      <th>SHA256</th>\n",
       "      <th>file_size</th>\n",
       "      <th>ssdeep</th>\n",
       "      <th>sdhash</th>\n",
       "      <th>tlsh</th>\n",
       "      <th>machoc</th>\n",
       "      <th>strings</th>\n",
       "      <th>machoke</th>\n",
       "      <th>scicore</th>\n",
       "    </tr>\n",
       "  </thead>\n",
       "  <tbody>\n",
       "    <tr>\n",
       "      <th>0</th>\n",
       "      <td>6563776f3624482ac9d197e3</td>\n",
       "      <td>9002Rat</td>\n",
       "      <td>006c74c6813a6efeabea860b2718ed548eed216a319d76...</td>\n",
       "      <td>66888</td>\n",
       "      <td>{'ssdeep': '1536:fyOinfXrmThthYvYh+8+IXbTyllRb...</td>\n",
       "      <td>sdhash hash</td>\n",
       "      <td>{'tlsh': 'T18A635B27E9548473CDC24DB044E80B7B8A...</td>\n",
       "      <td>Machoc hash</td>\n",
       "      <td>{'strings': 'T1E212E7DB1104D5268DC716B2880B19E...</td>\n",
       "      <td>{'machoke': '526cb6c74b6b4fe4ab698f6a149c2da4a...</td>\n",
       "      <td>False</td>\n",
       "    </tr>\n",
       "    <tr>\n",
       "      <th>1</th>\n",
       "      <td>6563776f3624482ac9d197e4</td>\n",
       "      <td>9002Rat</td>\n",
       "      <td>0414ffdf9dcf32061cc57d0b54bf4410c1c588258c1261...</td>\n",
       "      <td>91136</td>\n",
       "      <td>{'ssdeep': '1536:isQQjCC6ZRC5EPviVkdsayrPJe7P6...</td>\n",
       "      <td>sdhash hash</td>\n",
       "      <td>{'tlsh': 'T1D9937B107682C275D47A29344C69CB731B...</td>\n",
       "      <td>Machoc hash</td>\n",
       "      <td>{'strings': 'T153E14A15A8F899E35597838855607B8...</td>\n",
       "      <td>{'machoke': 'c21014d561f4751fdaa6af077e8d16e1a...</td>\n",
       "      <td>False</td>\n",
       "    </tr>\n",
       "    <tr>\n",
       "      <th>2</th>\n",
       "      <td>6563776f3624482ac9d197e5</td>\n",
       "      <td>9002Rat</td>\n",
       "      <td>054ac444bb2e4fa836ecb6ecdbb9381001ab26cf109451...</td>\n",
       "      <td>20008392</td>\n",
       "      <td>{'ssdeep': '393216:1ZZNprQxrpbXZRCb0g/6cGx3PjW...</td>\n",
       "      <td>sdhash hash</td>\n",
       "      <td>{'tlsh': 'T14217331276D2C037C1A711719A37EB29AA...</td>\n",
       "      <td>Machoc hash</td>\n",
       "      <td>{'strings': 'T1865523536490B4B9B1EB478206F3A75...</td>\n",
       "      <td>{'machoke': 'MNULL', 'hash_time': 0}</td>\n",
       "      <td>False</td>\n",
       "    </tr>\n",
       "    <tr>\n",
       "      <th>3</th>\n",
       "      <td>6563776f3624482ac9d197e6</td>\n",
       "      <td>9002Rat</td>\n",
       "      <td>06fb64ebe50ee96901a339a7c5f686ead86e2ed6b26a73...</td>\n",
       "      <td>13189815</td>\n",
       "      <td>{'ssdeep': '393216:z0ZCif89tnKfsp09SskycXZBBLW...</td>\n",
       "      <td>sdhash hash</td>\n",
       "      <td>{'tlsh': 'T192D6336519E01E8CF2D177765AB1A2D44F...</td>\n",
       "      <td>Machoc hash</td>\n",
       "      <td>{'strings': 'T1401533932CF134146066EBB64D4FBCA...</td>\n",
       "      <td>{'machoke': 'fc420b141a25c1e87bff906654371d173...</td>\n",
       "      <td>False</td>\n",
       "    </tr>\n",
       "    <tr>\n",
       "      <th>4</th>\n",
       "      <td>6563776f3624482ac9d197e7</td>\n",
       "      <td>9002Rat</td>\n",
       "      <td>07da10375b0862760f3cb84e563f74ff4fc53864e34836...</td>\n",
       "      <td>21415252</td>\n",
       "      <td>{'ssdeep': '393216:c5gt4ljF2jF0C0eUkGz2Wqha9zO...</td>\n",
       "      <td>sdhash hash</td>\n",
       "      <td>{'tlsh': 'T16827339FB8735437E78CE4F089FA77F202...</td>\n",
       "      <td>Machoc hash</td>\n",
       "      <td>{'strings': 'T107653373A5E073D133E792E3A6CBEB5...</td>\n",
       "      <td>{'machoke': '9afe7f481a25c1e87bff906697df084cc...</td>\n",
       "      <td>False</td>\n",
       "    </tr>\n",
       "    <tr>\n",
       "      <th>...</th>\n",
       "      <td>...</td>\n",
       "      <td>...</td>\n",
       "      <td>...</td>\n",
       "      <td>...</td>\n",
       "      <td>...</td>\n",
       "      <td>...</td>\n",
       "      <td>...</td>\n",
       "      <td>...</td>\n",
       "      <td>...</td>\n",
       "      <td>...</td>\n",
       "      <td>...</td>\n",
       "    </tr>\n",
       "    <tr>\n",
       "      <th>1985</th>\n",
       "      <td>1182</td>\n",
       "      <td>MrBayes</td>\n",
       "      <td>b4f40e8a68604ac11c44b8d68b18451546fad553ae755c...</td>\n",
       "      <td>1823504</td>\n",
       "      <td>{'ssdeep': '24576:ZmqhfHSUx6KBOEwwsbCsK2T0d0TQ...</td>\n",
       "      <td>sdhash hash</td>\n",
       "      <td>{'tlsh': 'T19A859F07A7E21468C857C4B683AF935175...</td>\n",
       "      <td>Machoc hash</td>\n",
       "      <td>{'strings': 'T187A4C5172B80333A419641B1A3A9D29...</td>\n",
       "      <td>NaN</td>\n",
       "      <td>True</td>\n",
       "    </tr>\n",
       "    <tr>\n",
       "      <th>1986</th>\n",
       "      <td>985</td>\n",
       "      <td>ConSurf</td>\n",
       "      <td>386404e3b024f92e3ceb8d03884a9bb1346009597ec3da...</td>\n",
       "      <td>87053</td>\n",
       "      <td>{'ssdeep': '1536:ZE817tgBpzrcjL95925CsQWfqKsv+...</td>\n",
       "      <td>sdhash hash</td>\n",
       "      <td>{'tlsh': 'T11B83B416AD861AA34277F67427CE7484E7...</td>\n",
       "      <td>Machoc hash</td>\n",
       "      <td>{'strings': 'T14B83B5166DC21AA3426BF67567CE344...</td>\n",
       "      <td>NaN</td>\n",
       "      <td>True</td>\n",
       "    </tr>\n",
       "    <tr>\n",
       "      <th>1987</th>\n",
       "      <td>888</td>\n",
       "      <td>binutils</td>\n",
       "      <td>e6fc2a234ae6613c3ca0803b80356b45c1d5e8552cdbbe...</td>\n",
       "      <td>170544</td>\n",
       "      <td>{'ssdeep': '3072:Ya536a/ioUQ490a0MHAt1qVDIWYCg...</td>\n",
       "      <td>sdhash hash</td>\n",
       "      <td>{'tlsh': 'T1D6F3C5CA9FF36A26E1CD967F15DD35041E...</td>\n",
       "      <td>Machoc hash</td>\n",
       "      <td>{'strings': 'T13E7374C96EF7791321DEA9AF29CC044...</td>\n",
       "      <td>NaN</td>\n",
       "      <td>True</td>\n",
       "    </tr>\n",
       "    <tr>\n",
       "      <th>1988</th>\n",
       "      <td>772</td>\n",
       "      <td>R</td>\n",
       "      <td>e7a6bcc7aff13a2fb597c5b0cb304684a74b3ea1d5115d...</td>\n",
       "      <td>13864</td>\n",
       "      <td>{'ssdeep': '192:Gu0ATKQK1jYd/1UFh/hRA8f6cquey1...</td>\n",
       "      <td>sdhash hash</td>\n",
       "      <td>{'tlsh': 'T19652710396F14A7BE881A7787963411072...</td>\n",
       "      <td>Machoc hash</td>\n",
       "      <td>{'strings': 'T16B91410596B589B37682B7A9BB25401...</td>\n",
       "      <td>NaN</td>\n",
       "      <td>True</td>\n",
       "    </tr>\n",
       "    <tr>\n",
       "      <th>1989</th>\n",
       "      <td>1865</td>\n",
       "      <td>OpenMPI</td>\n",
       "      <td>e07c2444a28f8208f70cb3d562934120186491e2c2b5ec...</td>\n",
       "      <td>146632</td>\n",
       "      <td>{'ssdeep': '3072:B7a2Gvy74Rs2AIZMp0n/ARdKMP3cE...</td>\n",
       "      <td>sdhash hash</td>\n",
       "      <td>{'tlsh': 'T1D3E3E996D5E078BBCD7A407BA65B8B203A...</td>\n",
       "      <td>Machoc hash</td>\n",
       "      <td>{'strings': 'T1F572A8D1B618C8B330C6D575B34B3ED...</td>\n",
       "      <td>NaN</td>\n",
       "      <td>True</td>\n",
       "    </tr>\n",
       "  </tbody>\n",
       "</table>\n",
       "<p>210634 rows × 11 columns</p>\n",
       "</div>"
      ],
      "text/plain": [
       "                           _id    family  \\\n",
       "0     6563776f3624482ac9d197e3   9002Rat   \n",
       "1     6563776f3624482ac9d197e4   9002Rat   \n",
       "2     6563776f3624482ac9d197e5   9002Rat   \n",
       "3     6563776f3624482ac9d197e6   9002Rat   \n",
       "4     6563776f3624482ac9d197e7   9002Rat   \n",
       "...                        ...       ...   \n",
       "1985                      1182   MrBayes   \n",
       "1986                       985   ConSurf   \n",
       "1987                       888  binutils   \n",
       "1988                       772         R   \n",
       "1989                      1865   OpenMPI   \n",
       "\n",
       "                                                 SHA256  file_size  \\\n",
       "0     006c74c6813a6efeabea860b2718ed548eed216a319d76...      66888   \n",
       "1     0414ffdf9dcf32061cc57d0b54bf4410c1c588258c1261...      91136   \n",
       "2     054ac444bb2e4fa836ecb6ecdbb9381001ab26cf109451...   20008392   \n",
       "3     06fb64ebe50ee96901a339a7c5f686ead86e2ed6b26a73...   13189815   \n",
       "4     07da10375b0862760f3cb84e563f74ff4fc53864e34836...   21415252   \n",
       "...                                                 ...        ...   \n",
       "1985  b4f40e8a68604ac11c44b8d68b18451546fad553ae755c...    1823504   \n",
       "1986  386404e3b024f92e3ceb8d03884a9bb1346009597ec3da...      87053   \n",
       "1987  e6fc2a234ae6613c3ca0803b80356b45c1d5e8552cdbbe...     170544   \n",
       "1988  e7a6bcc7aff13a2fb597c5b0cb304684a74b3ea1d5115d...      13864   \n",
       "1989  e07c2444a28f8208f70cb3d562934120186491e2c2b5ec...     146632   \n",
       "\n",
       "                                                 ssdeep       sdhash  \\\n",
       "0     {'ssdeep': '1536:fyOinfXrmThthYvYh+8+IXbTyllRb...  sdhash hash   \n",
       "1     {'ssdeep': '1536:isQQjCC6ZRC5EPviVkdsayrPJe7P6...  sdhash hash   \n",
       "2     {'ssdeep': '393216:1ZZNprQxrpbXZRCb0g/6cGx3PjW...  sdhash hash   \n",
       "3     {'ssdeep': '393216:z0ZCif89tnKfsp09SskycXZBBLW...  sdhash hash   \n",
       "4     {'ssdeep': '393216:c5gt4ljF2jF0C0eUkGz2Wqha9zO...  sdhash hash   \n",
       "...                                                 ...          ...   \n",
       "1985  {'ssdeep': '24576:ZmqhfHSUx6KBOEwwsbCsK2T0d0TQ...  sdhash hash   \n",
       "1986  {'ssdeep': '1536:ZE817tgBpzrcjL95925CsQWfqKsv+...  sdhash hash   \n",
       "1987  {'ssdeep': '3072:Ya536a/ioUQ490a0MHAt1qVDIWYCg...  sdhash hash   \n",
       "1988  {'ssdeep': '192:Gu0ATKQK1jYd/1UFh/hRA8f6cquey1...  sdhash hash   \n",
       "1989  {'ssdeep': '3072:B7a2Gvy74Rs2AIZMp0n/ARdKMP3cE...  sdhash hash   \n",
       "\n",
       "                                                   tlsh       machoc  \\\n",
       "0     {'tlsh': 'T18A635B27E9548473CDC24DB044E80B7B8A...  Machoc hash   \n",
       "1     {'tlsh': 'T1D9937B107682C275D47A29344C69CB731B...  Machoc hash   \n",
       "2     {'tlsh': 'T14217331276D2C037C1A711719A37EB29AA...  Machoc hash   \n",
       "3     {'tlsh': 'T192D6336519E01E8CF2D177765AB1A2D44F...  Machoc hash   \n",
       "4     {'tlsh': 'T16827339FB8735437E78CE4F089FA77F202...  Machoc hash   \n",
       "...                                                 ...          ...   \n",
       "1985  {'tlsh': 'T19A859F07A7E21468C857C4B683AF935175...  Machoc hash   \n",
       "1986  {'tlsh': 'T11B83B416AD861AA34277F67427CE7484E7...  Machoc hash   \n",
       "1987  {'tlsh': 'T1D6F3C5CA9FF36A26E1CD967F15DD35041E...  Machoc hash   \n",
       "1988  {'tlsh': 'T19652710396F14A7BE881A7787963411072...  Machoc hash   \n",
       "1989  {'tlsh': 'T1D3E3E996D5E078BBCD7A407BA65B8B203A...  Machoc hash   \n",
       "\n",
       "                                                strings  \\\n",
       "0     {'strings': 'T1E212E7DB1104D5268DC716B2880B19E...   \n",
       "1     {'strings': 'T153E14A15A8F899E35597838855607B8...   \n",
       "2     {'strings': 'T1865523536490B4B9B1EB478206F3A75...   \n",
       "3     {'strings': 'T1401533932CF134146066EBB64D4FBCA...   \n",
       "4     {'strings': 'T107653373A5E073D133E792E3A6CBEB5...   \n",
       "...                                                 ...   \n",
       "1985  {'strings': 'T187A4C5172B80333A419641B1A3A9D29...   \n",
       "1986  {'strings': 'T14B83B5166DC21AA3426BF67567CE344...   \n",
       "1987  {'strings': 'T13E7374C96EF7791321DEA9AF29CC044...   \n",
       "1988  {'strings': 'T16B91410596B589B37682B7A9BB25401...   \n",
       "1989  {'strings': 'T1F572A8D1B618C8B330C6D575B34B3ED...   \n",
       "\n",
       "                                                machoke  scicore  \n",
       "0     {'machoke': '526cb6c74b6b4fe4ab698f6a149c2da4a...    False  \n",
       "1     {'machoke': 'c21014d561f4751fdaa6af077e8d16e1a...    False  \n",
       "2                  {'machoke': 'MNULL', 'hash_time': 0}    False  \n",
       "3     {'machoke': 'fc420b141a25c1e87bff906654371d173...    False  \n",
       "4     {'machoke': '9afe7f481a25c1e87bff906697df084cc...    False  \n",
       "...                                                 ...      ...  \n",
       "1985                                                NaN     True  \n",
       "1986                                                NaN     True  \n",
       "1987                                                NaN     True  \n",
       "1988                                                NaN     True  \n",
       "1989                                                NaN     True  \n",
       "\n",
       "[210634 rows x 11 columns]"
      ]
     },
     "execution_count": 13,
     "metadata": {},
     "output_type": "execute_result"
    }
   ],
   "source": [
    "malware_filtered[\"scicore\"] = False\n",
    "size = malware_filtered.shape[0] / 20\n",
    "scicore = pd.DataFrame(list(db[\"scicore\"].aggregate([{\"$sample\": {\"size\": size}}])))\n",
    "scicore[\"scicore\"] = True\n",
    "\n",
    "malware_concat = pd.concat([malware_filtered, scicore])\n",
    "\n",
    "malware_concat"
   ]
  },
  {
   "cell_type": "code",
   "execution_count": 14,
   "id": "ffb69068",
   "metadata": {
    "ExecuteTime": {
     "end_time": "2024-01-06T16:08:47.281098Z",
     "start_time": "2024-01-06T16:08:47.137486Z"
    }
   },
   "outputs": [
    {
     "data": {
      "text/html": [
       "<div>\n",
       "<style scoped>\n",
       "    .dataframe tbody tr th:only-of-type {\n",
       "        vertical-align: middle;\n",
       "    }\n",
       "\n",
       "    .dataframe tbody tr th {\n",
       "        vertical-align: top;\n",
       "    }\n",
       "\n",
       "    .dataframe thead th {\n",
       "        text-align: right;\n",
       "    }\n",
       "</style>\n",
       "<table border=\"1\" class=\"dataframe\">\n",
       "  <thead>\n",
       "    <tr style=\"text-align: right;\">\n",
       "      <th></th>\n",
       "      <th>_id</th>\n",
       "      <th>family</th>\n",
       "      <th>SHA256</th>\n",
       "      <th>file_size</th>\n",
       "      <th>ssdeep</th>\n",
       "      <th>sdhash</th>\n",
       "      <th>tlsh</th>\n",
       "      <th>machoc</th>\n",
       "      <th>strings</th>\n",
       "      <th>machoke</th>\n",
       "      <th>scicore</th>\n",
       "    </tr>\n",
       "  </thead>\n",
       "  <tbody>\n",
       "    <tr>\n",
       "      <th>54788</th>\n",
       "      <td>65638d463624482ac9d26de7</td>\n",
       "      <td>Koadic</td>\n",
       "      <td>0000015bf5f766e7a709983fe08a8d6983fb5d49213d43...</td>\n",
       "      <td>138752</td>\n",
       "      <td>{'ssdeep': '3072:3U/9+vstGGGFOn+tdHhVfErWGQ+SB...</td>\n",
       "      <td>sdhash hash</td>\n",
       "      <td>{'tlsh': 'T1BAD3AE4376C25372E5C116B101A529BBEB...</td>\n",
       "      <td>Machoc hash</td>\n",
       "      <td>{'strings': 'T1A9421C8B18DA396AE1370522C6FCA18...</td>\n",
       "      <td>NaN</td>\n",
       "      <td>False</td>\n",
       "    </tr>\n",
       "  </tbody>\n",
       "</table>\n",
       "</div>"
      ],
      "text/plain": [
       "                            _id  family  \\\n",
       "54788  65638d463624482ac9d26de7  Koadic   \n",
       "\n",
       "                                                  SHA256  file_size  \\\n",
       "54788  0000015bf5f766e7a709983fe08a8d6983fb5d49213d43...     138752   \n",
       "\n",
       "                                                  ssdeep       sdhash  \\\n",
       "54788  {'ssdeep': '3072:3U/9+vstGGGFOn+tdHhVfErWGQ+SB...  sdhash hash   \n",
       "\n",
       "                                                    tlsh       machoc  \\\n",
       "54788  {'tlsh': 'T1BAD3AE4376C25372E5C116B101A529BBEB...  Machoc hash   \n",
       "\n",
       "                                                 strings machoke  scicore  \n",
       "54788  {'strings': 'T1A9421C8B18DA396AE1370522C6FCA18...     NaN    False  "
      ]
     },
     "execution_count": 14,
     "metadata": {},
     "output_type": "execute_result"
    }
   ],
   "source": [
    "a = malware_concat\n",
    "a = a[a['tlsh'] != 'TNULL']\n",
    "a.dropna(subset=['tlsh'], inplace=True)\n",
    "a.dropna(subset=['ssdeep'], inplace=True)\n",
    "a.dropna(subset=['strings'], inplace=True)\n",
    "a[a[\"SHA256\"] == \"0000015bf5f766e7a709983fe08a8d6983fb5d49213d4389871c2b69e6c19b25\"]\n",
    "\n"
   ]
  },
  {
   "cell_type": "code",
   "execution_count": 15,
   "id": "8d8fee9c",
   "metadata": {
    "ExecuteTime": {
     "end_time": "2024-01-06T16:08:47.335258Z",
     "start_time": "2024-01-06T16:08:47.292900Z"
    }
   },
   "outputs": [
    {
     "data": {
      "text/plain": [
       "0"
      ]
     },
     "execution_count": 15,
     "metadata": {},
     "output_type": "execute_result"
    }
   ],
   "source": [
    "a = a[a['tlsh'] != 'TNULL']\n",
    "(a[\"tlsh\"] == \"TNULL\").sum()"
   ]
  },
  {
   "cell_type": "code",
   "execution_count": 16,
   "id": "e2d796dbf23f8f04",
   "metadata": {
    "ExecuteTime": {
     "end_time": "2024-01-06T16:08:47.455333Z",
     "start_time": "2024-01-06T16:08:47.350014Z"
    },
    "collapsed": false
   },
   "outputs": [],
   "source": [
    "\n",
    "a['tlsh'] = a['tlsh'].apply(lambda x: x['tlsh'] if 'tlsh' in x and isinstance(x, dict) else x)\n",
    "a = a[a['tlsh'] != 'TNULL']\n",
    "a['ssdeep'] = a['ssdeep'].apply(lambda x: x['ssdeep'] if 'ssdeep' in x and isinstance(x, dict) else x)\n",
    "\n",
    "a['strings'] = a['strings'].apply(lambda x: x['strings'] if 'strings' in x and isinstance(x, dict) else x)\n",
    "a = a[a['strings'] != 'TNULL']\n",
    "filtered_df = a"
   ]
  },
  {
   "cell_type": "code",
   "execution_count": 11,
   "id": "76a07cdf",
   "metadata": {
    "ExecuteTime": {
     "end_time": "2024-01-06T16:08:47.464710Z",
     "start_time": "2024-01-06T16:08:47.463121Z"
    }
   },
   "outputs": [
    {
     "data": {
      "text/plain": [
       "0"
      ]
     },
     "execution_count": 11,
     "metadata": {},
     "output_type": "execute_result"
    }
   ],
   "source": [
    "(filtered_df[\"tlsh\"] == \"TNULL\").sum()"
   ]
  },
  {
   "cell_type": "code",
   "execution_count": 12,
   "id": "186fa82f",
   "metadata": {
    "ExecuteTime": {
     "end_time": "2024-01-06T16:08:47.470792Z",
     "start_time": "2024-01-06T16:08:47.468604Z"
    }
   },
   "outputs": [
    {
     "data": {
      "text/plain": [
       "\"\\nwith ThreadPoolExecutor() as executor:\\n    results = list(executor.map(process_group, [group for _, group in filtered_df.groupby('family')]))\\n\\n# Transform results into DataFrames\\nfam_tlsh = pd.DataFrame([{'family': res['family'], **res['tlsh']} for res in results])\\nfam_ssdeep = pd.DataFrame([{'family': res['family'], **res['ssdeep']} for res in results])\\nfam_strings = pd.DataFrame([{'family': res['family'], **res['strings']} for res in results])\\n\""
      ]
     },
     "execution_count": 12,
     "metadata": {},
     "output_type": "execute_result"
    }
   ],
   "source": [
    "def calculate_metrics(values, function):\n",
    "    if not values:\n",
    "        return np.nan, np.nan, np.nan, 0\n",
    "\n",
    "    results = [function(a, b) for a, b in itertools.combinations(values, 2)]\n",
    "    return np.mean(results), np.median(results), np.std(results), len(results)\n",
    "\n",
    "def process_group(group):\n",
    "    family = group['family'].iloc[0]\n",
    "    tlsh_values = group['tlsh'].tolist()\n",
    "    ssdeep_values = group['ssdeep'].tolist()\n",
    "    strings_values = group['strings'].tolist()\n",
    "\n",
    "    tlsh_mean, tlsh_median, tlsh_std, tlsh_amount = calculate_metrics(tlsh_values, tlsh.diff)\n",
    "    ssdeep_mean, ssdeep_median, ssdeep_std, ssdeep_amount = calculate_metrics(ssdeep_values, ssdeep.compare)\n",
    "    strings_mean, strings_median, strings_std, strings_amount = calculate_metrics(strings_values, tlsh.diff)\n",
    "\n",
    "    return {\n",
    "        'family': family,\n",
    "        'tlsh': {'mean': tlsh_mean, 'median': tlsh_median, 'std': tlsh_std, 'amount': tlsh_amount},\n",
    "        'ssdeep': {'mean': ssdeep_mean, 'median': ssdeep_median, 'std': ssdeep_std, 'amount': ssdeep_amount},\n",
    "        'strings': {'mean': strings_mean, 'median': strings_median, 'std': strings_std, 'amount': strings_amount}\n",
    "    }\n",
    "\"\"\"\n",
    "with ThreadPoolExecutor() as executor:\n",
    "    results = list(executor.map(process_group, [group for _, group in filtered_df.groupby('family')]))\n",
    "\n",
    "# Transform results into DataFrames\n",
    "fam_tlsh = pd.DataFrame([{'family': res['family'], **res['tlsh']} for res in results])\n",
    "fam_ssdeep = pd.DataFrame([{'family': res['family'], **res['ssdeep']} for res in results])\n",
    "fam_strings = pd.DataFrame([{'family': res['family'], **res['strings']} for res in results])\n",
    "\"\"\""
   ]
  },
  {
   "cell_type": "code",
   "execution_count": 13,
   "id": "87d9cea0",
   "metadata": {
    "ExecuteTime": {
     "end_time": "2024-01-06T16:18:01.959135Z",
     "start_time": "2024-01-06T16:08:47.476438Z"
    }
   },
   "outputs": [
    {
     "ename": "KeyboardInterrupt",
     "evalue": "",
     "output_type": "error",
     "traceback": [
      "\u001b[0;31m---------------------------------------------------------------------------\u001b[0m",
      "\u001b[0;31mKeyboardInterrupt\u001b[0m                         Traceback (most recent call last)",
      "Cell \u001b[0;32mIn[13], line 25\u001b[0m\n\u001b[1;32m     23\u001b[0m tlsh_diffs \u001b[38;5;241m=\u001b[39m [tlsh\u001b[38;5;241m.\u001b[39mdiff(a, b) \u001b[38;5;28;01mfor\u001b[39;00m a, b \u001b[38;5;129;01min\u001b[39;00m tlsh_combinations]\n\u001b[1;32m     24\u001b[0m ssdeep_scores \u001b[38;5;241m=\u001b[39m [ssdeep\u001b[38;5;241m.\u001b[39mcompare(a, b) \u001b[38;5;28;01mfor\u001b[39;00m a, b \u001b[38;5;129;01min\u001b[39;00m ssdeep_combinations]\n\u001b[0;32m---> 25\u001b[0m strings_diffs \u001b[38;5;241m=\u001b[39m [tlsh\u001b[38;5;241m.\u001b[39mdiff(a, b) \u001b[38;5;28;01mfor\u001b[39;00m a, b \u001b[38;5;129;01min\u001b[39;00m strings_combinations]\n\u001b[1;32m     28\u001b[0m \u001b[38;5;66;03m# Append the results to the lists\u001b[39;00m\n\u001b[1;32m     29\u001b[0m tlsh_data\u001b[38;5;241m.\u001b[39mappend({\n\u001b[1;32m     30\u001b[0m     \u001b[38;5;124m'\u001b[39m\u001b[38;5;124mfamily\u001b[39m\u001b[38;5;124m'\u001b[39m: family,\n\u001b[1;32m     31\u001b[0m     \u001b[38;5;124m'\u001b[39m\u001b[38;5;124mvalues\u001b[39m\u001b[38;5;124m'\u001b[39m: tlsh_diffs,\n\u001b[0;32m   (...)\u001b[0m\n\u001b[1;32m     35\u001b[0m     \u001b[38;5;124m'\u001b[39m\u001b[38;5;124mamount\u001b[39m\u001b[38;5;124m'\u001b[39m: \u001b[38;5;28mlen\u001b[39m(tlsh_diffs)\n\u001b[1;32m     36\u001b[0m })\n",
      "Cell \u001b[0;32mIn[13], line 25\u001b[0m, in \u001b[0;36m<listcomp>\u001b[0;34m(.0)\u001b[0m\n\u001b[1;32m     23\u001b[0m tlsh_diffs \u001b[38;5;241m=\u001b[39m [tlsh\u001b[38;5;241m.\u001b[39mdiff(a, b) \u001b[38;5;28;01mfor\u001b[39;00m a, b \u001b[38;5;129;01min\u001b[39;00m tlsh_combinations]\n\u001b[1;32m     24\u001b[0m ssdeep_scores \u001b[38;5;241m=\u001b[39m [ssdeep\u001b[38;5;241m.\u001b[39mcompare(a, b) \u001b[38;5;28;01mfor\u001b[39;00m a, b \u001b[38;5;129;01min\u001b[39;00m ssdeep_combinations]\n\u001b[0;32m---> 25\u001b[0m strings_diffs \u001b[38;5;241m=\u001b[39m [\u001b[43mtlsh\u001b[49m\u001b[38;5;241;43m.\u001b[39;49m\u001b[43mdiff\u001b[49m\u001b[43m(\u001b[49m\u001b[43ma\u001b[49m\u001b[43m,\u001b[49m\u001b[43m \u001b[49m\u001b[43mb\u001b[49m\u001b[43m)\u001b[49m \u001b[38;5;28;01mfor\u001b[39;00m a, b \u001b[38;5;129;01min\u001b[39;00m strings_combinations]\n\u001b[1;32m     28\u001b[0m \u001b[38;5;66;03m# Append the results to the lists\u001b[39;00m\n\u001b[1;32m     29\u001b[0m tlsh_data\u001b[38;5;241m.\u001b[39mappend({\n\u001b[1;32m     30\u001b[0m     \u001b[38;5;124m'\u001b[39m\u001b[38;5;124mfamily\u001b[39m\u001b[38;5;124m'\u001b[39m: family,\n\u001b[1;32m     31\u001b[0m     \u001b[38;5;124m'\u001b[39m\u001b[38;5;124mvalues\u001b[39m\u001b[38;5;124m'\u001b[39m: tlsh_diffs,\n\u001b[0;32m   (...)\u001b[0m\n\u001b[1;32m     35\u001b[0m     \u001b[38;5;124m'\u001b[39m\u001b[38;5;124mamount\u001b[39m\u001b[38;5;124m'\u001b[39m: \u001b[38;5;28mlen\u001b[39m(tlsh_diffs)\n\u001b[1;32m     36\u001b[0m })\n",
      "\u001b[0;31mKeyboardInterrupt\u001b[0m: "
     ]
    }
   ],
   "source": [
    "import itertools\n",
    "# Pre-calculate combinations for both tlsh and ssdeep\n",
    "\n",
    "# Assuming filtered_df, tlsh, ssdeep are defined elsewhere\n",
    "\n",
    "# Initialize lists to store data for DataFrame creation\n",
    "tlsh_data = []\n",
    "ssdeep_data = []\n",
    "strings_data = []\n",
    "\n",
    "for family, group in filtered_df.groupby('family'):\n",
    "    # Extract the values for tlsh and ssdeep\n",
    "    tlsh_values = group['tlsh'].tolist()\n",
    "    ssdeep_values = group['ssdeep'].tolist()\n",
    "    strings_values = group['strings'].tolist()\n",
    "\n",
    "    # Calculate combinations and their respective differences/similarities\n",
    "    tlsh_combinations = itertools.combinations(tlsh_values, 2)\n",
    "    ssdeep_combinations = itertools.combinations(ssdeep_values, 2)\n",
    "    strings_combinations = itertools.combinations(strings_values, 2)\n",
    "    \n",
    "\n",
    "    tlsh_diffs = [tlsh.diff(a, b) for a, b in tlsh_combinations]\n",
    "    ssdeep_scores = [ssdeep.compare(a, b) for a, b in ssdeep_combinations]\n",
    "    strings_diffs = [tlsh.diff(a, b) for a, b in strings_combinations]\n",
    "    \n",
    "\n",
    "    # Append the results to the lists\n",
    "    tlsh_data.append({\n",
    "        'family': family,\n",
    "        'values': tlsh_diffs,\n",
    "        'mean': np.mean(tlsh_diffs) if tlsh_diffs else np.nan,\n",
    "        'median': np.median(tlsh_diffs) if tlsh_diffs else np.nan,\n",
    "        'std': np.std(tlsh_diffs) if tlsh_diffs else np.nan,\n",
    "        'amount': len(tlsh_diffs)\n",
    "    })\n",
    "\n",
    "    ssdeep_data.append({\n",
    "        'family': family,\n",
    "        'values': ssdeep_scores,\n",
    "        'mean': np.mean(ssdeep_scores) if ssdeep_scores else np.nan,\n",
    "        'median': np.median(ssdeep_scores) if ssdeep_scores else np.nan,\n",
    "        'std': np.std(ssdeep_scores) if ssdeep_scores else np.nan,\n",
    "        'amount': len(ssdeep_scores)\n",
    "    })\n",
    "    \n",
    "    strings_data.append({\n",
    "        'family': family,\n",
    "        'values': strings_diffs,\n",
    "        'mean': np.mean(strings_diffs) if strings_diffs else np.nan,\n",
    "        'median': np.median(strings_diffs) if strings_diffs else np.nan,\n",
    "        'std': np.std(strings_diffs) if strings_diffs else np.nan,\n",
    "        'amount': len(strings_diffs)\n",
    "    })\n",
    "\n",
    "# Create DataFrames from the lists\n",
    "fam_tlsh = pd.DataFrame(tlsh_data)\n",
    "fam_ssdeep = pd.DataFrame(ssdeep_data)\n",
    "fam_strings = pd.DataFrame(strings_data)"
   ]
  },
  {
   "cell_type": "code",
   "execution_count": null,
   "id": "3de7948c",
   "metadata": {
    "ExecuteTime": {
     "end_time": "2024-01-06T16:18:02.056797Z",
     "start_time": "2024-01-06T16:18:01.970503Z"
    }
   },
   "outputs": [
    {
     "data": {
      "text/plain": [
       "<Axes: >"
      ]
     },
     "execution_count": 14,
     "metadata": {},
     "output_type": "execute_result"
    },
    {
     "data": {
      "image/png": "[encoded data removed]",
      "text/plain": [
       "<Figure size 640x480 with 1 Axes>"
      ]
     },
     "metadata": {},
     "output_type": "display_data"
    }
   ],
   "source": [
    "fam_tlsh = fam_tlsh[fam_tlsh['amount'] > 1]\n",
    "fam_tlsh[[\"mean\",\"median\",\"std\"]].boxplot()"
   ]
  },
  {
   "cell_type": "code",
   "execution_count": null,
   "id": "81f79d80",
   "metadata": {
    "ExecuteTime": {
     "end_time": "2024-01-06T16:18:02.119081Z",
     "start_time": "2024-01-06T16:18:02.057682Z"
    }
   },
   "outputs": [
    {
     "data": {
      "text/plain": [
       "<Axes: >"
      ]
     },
     "execution_count": 15,
     "metadata": {},
     "output_type": "execute_result"
    },
    {
     "data": {
      "image/png": "[encoded data removed]",
      "text/plain": [
       "<Figure size 640x480 with 1 Axes>"
      ]
     },
     "metadata": {},
     "output_type": "display_data"
    }
   ],
   "source": [
    "fam_ssdeep = fam_ssdeep[fam_ssdeep['amount'] > 1]\n",
    "fam_ssdeep[[\"mean\",\"median\",\"std\"]].boxplot()"
   ]
  },
  {
   "cell_type": "code",
   "execution_count": null,
   "id": "2db284a0",
   "metadata": {
    "ExecuteTime": {
     "end_time": "2024-01-06T16:18:02.178969Z",
     "start_time": "2024-01-06T16:18:02.124956Z"
    }
   },
   "outputs": [
    {
     "data": {
      "text/plain": [
       "<Axes: >"
      ]
     },
     "execution_count": 16,
     "metadata": {},
     "output_type": "execute_result"
    },
    {
     "data": {
      "image/png": "[encoded data removed]",
      "text/plain": [
       "<Figure size 640x480 with 1 Axes>"
      ]
     },
     "metadata": {},
     "output_type": "display_data"
    }
   ],
   "source": [
    "fam_strings = fam_strings[fam_strings['amount'] > 1]\n",
    "fam_strings[[\"mean\",\"median\",\"std\"]].boxplot()"
   ]
  },
  {
   "cell_type": "code",
   "execution_count": null,
   "id": "80fb056500aa61ba",
   "metadata": {
    "collapsed": false,
    "is_executing": true
   },
   "outputs": [],
   "source": [
    "fam_tlsh"
   ]
  },
  {
   "cell_type": "code",
   "execution_count": 19,
   "id": "05a306a3",
   "metadata": {},
   "outputs": [
    {
     "name": "stdout",
     "output_type": "stream",
     "text": [
      "Progress: 1.00%\n"
     ]
    }
   ],
   "source": [
    "def tlsh_comb(df=filtered_df, col='tlsh'):\n",
    "    from itertools import combinations\n",
    "    import math\n",
    "\n",
    "    # Total number of combinations\n",
    "    total_combinations = 19999900000  # Pre-calculated for 200,000 rows\n",
    "\n",
    "    # Generate all binary combinations of the strings in the specified column\n",
    "    string_combinations = combinations(df[[col, 'family', 'scicore']].iterrows(), 2)\n",
    "    \n",
    "    results = []\n",
    "    for i, ((idx1, row1), (idx2, row2)) in enumerate(string_combinations, 1):\n",
    "        diff_score = tlsh.diff(row1[col], row2[col])\n",
    "        results.append((row1['family'], row2['family'], row1['scicore'], row2['scicore'], row1[col], row2[col], diff_score))\n",
    "\n",
    "        # Print progress every 1% of total combinations\n",
    "        if i % (total_combinations // 100) == 0:\n",
    "            progress_percent = (i / total_combinations) * 100\n",
    "            print(f\"Progress: {progress_percent:.2f}%\")\n",
    "\n",
    "    # Convert results to DataFrame\n",
    "    results_df = pd.DataFrame(results, columns=['Family 1', 'Family 2', 'Scicore 1', \"Scicore 2\", 'TLSH 1', 'TLSH 2', 'Diff Score'])\n",
    "    \n",
    "    return results_df\n",
    "\n",
    "results_tlsh = tlsh_comb()\n"
   ]
  },
  {
   "cell_type": "code",
   "execution_count": 11,
   "id": "4b1ef1cca274a7d0",
   "metadata": {
    "ExecuteTime": {
     "end_time": "2024-01-06T16:18:26.339471Z",
     "start_time": "2024-01-06T16:18:11.831664Z"
    }
   },
   "outputs": [],
   "source": [
    "import pandas as pd\n",
    "from itertools import combinations\n",
    "import tlsh\n",
    "\n",
    "def tlsh_comb_chunked(df, chunk_size=100):\n",
    "    # Function to process a chunk of combinations\n",
    "    def process_chunk(chunk):\n",
    "        results = []\n",
    "        for row1 in chunk.itertuples(index=False):\n",
    "            for row2 in df.itertuples(index=False):\n",
    "                try:\n",
    "                    diff_score = tlsh.diff(row1.tlsh, row2.tlsh)\n",
    "                    results.append((row1.family, row2.family, row1.scicore, row2.scicore, row1.tlsh, row2.tlsh, diff_score))\n",
    "                except Exception as e:\n",
    "                    print(f\"Error processing row: {e}\")\n",
    "                    continue\n",
    "        return results\n",
    "\n",
    "    # Initialize an empty list to store all results\n",
    "    all_results = []\n",
    "\n",
    "    # Iterate over the DataFrame in chunks\n",
    "    for start in range(0, len(df), chunk_size):\n",
    "        end = start + chunk_size\n",
    "        chunk = df.iloc[start:end]\n",
    "        all_results.extend(process_chunk(chunk))\n",
    "\n",
    "    # Convert all results to DataFrame\n",
    "    results_df = pd.DataFrame(all_results, columns=['Family 1', 'Family 2', 'Scicore 1', 'Scicore 2', 'TLSH 1', 'TLSH 2', 'Diff Score'])\n",
    "\n",
    "    return results_df\n",
    "\n",
    "# Usage\n",
    "# Replace 'your_dataframe' with your actual DataFrame variable\n",
    "results_tlsh = tlsh_comb_chunked(filtered_df, chunk_size=100)\n",
    "results_tlsh"
   ]
  },
  {
   "cell_type": "code",
   "execution_count": null,
   "id": "bcbde1ec",
   "metadata": {
    "ExecuteTime": {
     "end_time": "2024-01-06T16:18:40.369087Z",
     "start_time": "2024-01-06T16:18:26.344852Z"
    }
   },
   "outputs": [
    {
     "data": {
      "text/html": [
       "<div>\n",
       "<style scoped>\n",
       "    .dataframe tbody tr th:only-of-type {\n",
       "        vertical-align: middle;\n",
       "    }\n",
       "\n",
       "    .dataframe tbody tr th {\n",
       "        vertical-align: top;\n",
       "    }\n",
       "\n",
       "    .dataframe thead th {\n",
       "        text-align: right;\n",
       "    }\n",
       "</style>\n",
       "<table border=\"1\" class=\"dataframe\">\n",
       "  <thead>\n",
       "    <tr style=\"text-align: right;\">\n",
       "      <th></th>\n",
       "      <th>Family 1</th>\n",
       "      <th>Family 2</th>\n",
       "      <th>Scicore 1</th>\n",
       "      <th>Scicore 2</th>\n",
       "      <th>strings 1</th>\n",
       "      <th>strings 2</th>\n",
       "      <th>Diff Score</th>\n",
       "    </tr>\n",
       "  </thead>\n",
       "  <tbody>\n",
       "    <tr>\n",
       "      <th>0</th>\n",
       "      <td>9002Rat</td>\n",
       "      <td>9002Rat</td>\n",
       "      <td>False</td>\n",
       "      <td>False</td>\n",
       "      <td>T1E212E7DB1104D5268DC716B2880B19E2E6D5E2C189B2...</td>\n",
       "      <td>T153E14A15A8F899E35597838855607B8B1FECD302C5F1...</td>\n",
       "      <td>321</td>\n",
       "    </tr>\n",
       "    <tr>\n",
       "      <th>1</th>\n",
       "      <td>9002Rat</td>\n",
       "      <td>9002Rat</td>\n",
       "      <td>False</td>\n",
       "      <td>False</td>\n",
       "      <td>T1E212E7DB1104D5268DC716B2880B19E2E6D5E2C189B2...</td>\n",
       "      <td>T1865523536490B4B9B1EB478206F3A7520FA8C21B57B0...</td>\n",
       "      <td>900</td>\n",
       "    </tr>\n",
       "    <tr>\n",
       "      <th>2</th>\n",
       "      <td>9002Rat</td>\n",
       "      <td>9002Rat</td>\n",
       "      <td>False</td>\n",
       "      <td>False</td>\n",
       "      <td>T1E212E7DB1104D5268DC716B2880B19E2E6D5E2C189B2...</td>\n",
       "      <td>T1401533932CF134146066EBB64D4FBCACC75202BB7E28...</td>\n",
       "      <td>860</td>\n",
       "    </tr>\n",
       "    <tr>\n",
       "      <th>3</th>\n",
       "      <td>9002Rat</td>\n",
       "      <td>9002Rat</td>\n",
       "      <td>False</td>\n",
       "      <td>False</td>\n",
       "      <td>T1E212E7DB1104D5268DC716B2880B19E2E6D5E2C189B2...</td>\n",
       "      <td>T107653373A5E073D133E792E3A6CBEB5955F2C39738C5...</td>\n",
       "      <td>920</td>\n",
       "    </tr>\n",
       "    <tr>\n",
       "      <th>4</th>\n",
       "      <td>9002Rat</td>\n",
       "      <td>9002Rat</td>\n",
       "      <td>False</td>\n",
       "      <td>False</td>\n",
       "      <td>T1E212E7DB1104D5268DC716B2880B19E2E6D5E2C189B2...</td>\n",
       "      <td>T16B7523D63CC2315971F3979120F57EE8C45123B9F906...</td>\n",
       "      <td>937</td>\n",
       "    </tr>\n",
       "    <tr>\n",
       "      <th>...</th>\n",
       "      <td>...</td>\n",
       "      <td>...</td>\n",
       "      <td>...</td>\n",
       "      <td>...</td>\n",
       "      <td>...</td>\n",
       "      <td>...</td>\n",
       "      <td>...</td>\n",
       "    </tr>\n",
       "    <tr>\n",
       "      <th>5073836</th>\n",
       "      <td>OpenMPI</td>\n",
       "      <td>PhyML</td>\n",
       "      <td>True</td>\n",
       "      <td>True</td>\n",
       "      <td>T14DB1D6329175A03322CB1AA292D49CB0F1A596BCFF21...</td>\n",
       "      <td>T195D308C069C071B502E51B70E3AED5EDBF509AE36B30...</td>\n",
       "      <td>627</td>\n",
       "    </tr>\n",
       "    <tr>\n",
       "      <th>5073837</th>\n",
       "      <td>OpenMPI</td>\n",
       "      <td>Check</td>\n",
       "      <td>True</td>\n",
       "      <td>True</td>\n",
       "      <td>T14DB1D6329175A03322CB1AA292D49CB0F1A596BCFF21...</td>\n",
       "      <td>T101625528C953055500A318AEDF5B916E662BC9231D98...</td>\n",
       "      <td>433</td>\n",
       "    </tr>\n",
       "    <tr>\n",
       "      <th>5073838</th>\n",
       "      <td>SOAPdenovo2</td>\n",
       "      <td>PhyML</td>\n",
       "      <td>True</td>\n",
       "      <td>True</td>\n",
       "      <td>T14BB23C906ED034F703C28F65E3A9DADA37246197BF28...</td>\n",
       "      <td>T195D308C069C071B502E51B70E3AED5EDBF509AE36B30...</td>\n",
       "      <td>372</td>\n",
       "    </tr>\n",
       "    <tr>\n",
       "      <th>5073839</th>\n",
       "      <td>SOAPdenovo2</td>\n",
       "      <td>Check</td>\n",
       "      <td>True</td>\n",
       "      <td>True</td>\n",
       "      <td>T14BB23C906ED034F703C28F65E3A9DADA37246197BF28...</td>\n",
       "      <td>T101625528C953055500A318AEDF5B916E662BC9231D98...</td>\n",
       "      <td>319</td>\n",
       "    </tr>\n",
       "    <tr>\n",
       "      <th>5073840</th>\n",
       "      <td>PhyML</td>\n",
       "      <td>Check</td>\n",
       "      <td>True</td>\n",
       "      <td>True</td>\n",
       "      <td>T195D308C069C071B502E51B70E3AED5EDBF509AE36B30...</td>\n",
       "      <td>T101625528C953055500A318AEDF5B916E662BC9231D98...</td>\n",
       "      <td>515</td>\n",
       "    </tr>\n",
       "  </tbody>\n",
       "</table>\n",
       "<p>5073841 rows × 7 columns</p>\n",
       "</div>"
      ],
      "text/plain": [
       "            Family 1 Family 2  Scicore 1  Scicore 2  \\\n",
       "0            9002Rat  9002Rat      False      False   \n",
       "1            9002Rat  9002Rat      False      False   \n",
       "2            9002Rat  9002Rat      False      False   \n",
       "3            9002Rat  9002Rat      False      False   \n",
       "4            9002Rat  9002Rat      False      False   \n",
       "...              ...      ...        ...        ...   \n",
       "5073836      OpenMPI    PhyML       True       True   \n",
       "5073837      OpenMPI    Check       True       True   \n",
       "5073838  SOAPdenovo2    PhyML       True       True   \n",
       "5073839  SOAPdenovo2    Check       True       True   \n",
       "5073840        PhyML    Check       True       True   \n",
       "\n",
       "                                                 strings 1  \\\n",
       "0        T1E212E7DB1104D5268DC716B2880B19E2E6D5E2C189B2...   \n",
       "1        T1E212E7DB1104D5268DC716B2880B19E2E6D5E2C189B2...   \n",
       "2        T1E212E7DB1104D5268DC716B2880B19E2E6D5E2C189B2...   \n",
       "3        T1E212E7DB1104D5268DC716B2880B19E2E6D5E2C189B2...   \n",
       "4        T1E212E7DB1104D5268DC716B2880B19E2E6D5E2C189B2...   \n",
       "...                                                    ...   \n",
       "5073836  T14DB1D6329175A03322CB1AA292D49CB0F1A596BCFF21...   \n",
       "5073837  T14DB1D6329175A03322CB1AA292D49CB0F1A596BCFF21...   \n",
       "5073838  T14BB23C906ED034F703C28F65E3A9DADA37246197BF28...   \n",
       "5073839  T14BB23C906ED034F703C28F65E3A9DADA37246197BF28...   \n",
       "5073840  T195D308C069C071B502E51B70E3AED5EDBF509AE36B30...   \n",
       "\n",
       "                                                 strings 2  Diff Score  \n",
       "0        T153E14A15A8F899E35597838855607B8B1FECD302C5F1...         321  \n",
       "1        T1865523536490B4B9B1EB478206F3A7520FA8C21B57B0...         900  \n",
       "2        T1401533932CF134146066EBB64D4FBCACC75202BB7E28...         860  \n",
       "3        T107653373A5E073D133E792E3A6CBEB5955F2C39738C5...         920  \n",
       "4        T16B7523D63CC2315971F3979120F57EE8C45123B9F906...         937  \n",
       "...                                                    ...         ...  \n",
       "5073836  T195D308C069C071B502E51B70E3AED5EDBF509AE36B30...         627  \n",
       "5073837  T101625528C953055500A318AEDF5B916E662BC9231D98...         433  \n",
       "5073838  T195D308C069C071B502E51B70E3AED5EDBF509AE36B30...         372  \n",
       "5073839  T101625528C953055500A318AEDF5B916E662BC9231D98...         319  \n",
       "5073840  T101625528C953055500A318AEDF5B916E662BC9231D98...         515  \n",
       "\n",
       "[5073841 rows x 7 columns]"
      ]
     },
     "execution_count": 47,
     "metadata": {},
     "output_type": "execute_result"
    }
   ],
   "source": [
    "def strings_comb_chunked(df, chunk_size=100):\n",
    "    # Function to process a chunk of combinations\n",
    "    def process_chunk(chunk):\n",
    "        results = []\n",
    "        for row1, row2 in combinations(chunk.itertuples(index=False), 2):\n",
    "            try:\n",
    "                diff_score = tlsh.diff(row1.strings, row2.strings)\n",
    "                results.append((row1.family, row2.family, row1.scicore, row2.scicore, row1.strings, row2.strings, diff_score))\n",
    "            except Exception as e:\n",
    "                print(f\"Error processing row: {e}\")\n",
    "                continue\n",
    "        return results\n",
    "\n",
    "    # Initialize an empty list to store all results\n",
    "    all_results = []\n",
    "\n",
    "    # Iterate over the DataFrame in chunks\n",
    "    for start in range(0, len(df), chunk_size):\n",
    "        end = start + chunk_size\n",
    "        chunk = df.iloc[start:end]\n",
    "        all_results.extend(process_chunk(chunk))\n",
    "\n",
    "    # Convert all results to DataFrame\n",
    "    results_df = pd.DataFrame(all_results, columns=['Family 1', 'Family 2', 'Scicore 1', 'Scicore 2', 'strings 1', 'strings 2', 'Diff Score'])\n",
    "\n",
    "    return results_df\n",
    "\n",
    "results_strings = strings_comb_chunked(filtered_df, chunk_size=100)\n",
    "results_strings"
   ]
  },
  {
   "cell_type": "code",
   "execution_count": null,
   "id": "45535d2410c905d5",
   "metadata": {
    "ExecuteTime": {
     "end_time": "2024-01-06T16:18:42.227045Z",
     "start_time": "2024-01-06T16:18:40.399201Z"
    },
    "collapsed": false
   },
   "outputs": [
    {
     "data": {
      "text/plain": [
       "True     86433\n",
       "False     3715\n",
       "Name: count, dtype: int64"
      ]
     },
     "execution_count": 38,
     "metadata": {},
     "output_type": "execute_result"
    }
   ],
   "source": [
    "p = results_tlsh.loc[results_tlsh.groupby(\"TLSH 1\")[\"Diff Score\"].idxmin()]\n",
    "(p[\"Family 1\"] == p[\"Family 2\"]).value_counts()"
   ]
  },
  {
   "cell_type": "code",
   "execution_count": null,
   "id": "abfe843e",
   "metadata": {},
   "outputs": [
    {
     "data": {
      "text/plain": [
       "15"
      ]
     },
     "execution_count": 77,
     "metadata": {},
     "output_type": "execute_result"
    }
   ],
   "source": [
    "tmp = results_tlsh[results_tlsh[\"Family 1\"] == \"9002Rat\"]\n",
    "len(tmp[\"Family 2\"].unique())"
   ]
  },
  {
   "cell_type": "code",
   "execution_count": null,
   "id": "14a51686",
   "metadata": {},
   "outputs": [],
   "source": []
  },
  {
   "cell_type": "code",
   "execution_count": null,
   "id": "1cf17782",
   "metadata": {},
   "outputs": [],
   "source": []
  },
  {
   "cell_type": "code",
   "execution_count": null,
   "id": "5f5abaf9",
   "metadata": {},
   "outputs": [],
   "source": []
  },
  {
   "cell_type": "code",
   "execution_count": null,
   "id": "60e02b13",
   "metadata": {},
   "outputs": [],
   "source": []
  },
  {
   "cell_type": "code",
   "execution_count": null,
   "id": "82edae96",
   "metadata": {},
   "outputs": [],
   "source": []
  },
  {
   "cell_type": "code",
   "execution_count": null,
   "id": "d405ea41",
   "metadata": {},
   "outputs": [],
   "source": []
  },
  {
   "cell_type": "code",
   "execution_count": null,
   "id": "ef9c2ff1",
   "metadata": {},
   "outputs": [],
   "source": []
  },
  {
   "cell_type": "code",
   "execution_count": null,
   "id": "5d5ac939",
   "metadata": {},
   "outputs": [],
   "source": []
  },
  {
   "cell_type": "code",
   "execution_count": null,
   "id": "ed7c0632",
   "metadata": {},
   "outputs": [],
   "source": []
  },
  {
   "cell_type": "code",
   "execution_count": null,
   "id": "4da65ac3",
   "metadata": {
    "ExecuteTime": {
     "end_time": "2024-01-06T16:18:43.761724Z",
     "start_time": "2024-01-06T16:18:42.254438Z"
    }
   },
   "outputs": [
    {
     "data": {
      "text/plain": [
       "True     70076\n",
       "False     3643\n",
       "Name: count, dtype: int64"
      ]
     },
     "execution_count": 18,
     "metadata": {},
     "output_type": "execute_result"
    }
   ],
   "source": [
    "s = results_strings.loc[results_strings.groupby(\"strings 1\")[\"Diff Score\"].idxmin()]\n",
    "(s[\"Family 1\"] == s[\"Family 2\"]).value_counts()"
   ]
  },
  {
   "cell_type": "code",
   "execution_count": null,
   "id": "4331e03b9299b12f",
   "metadata": {
    "ExecuteTime": {
     "end_time": "2024-01-06T16:19:32.556924Z",
     "start_time": "2024-01-06T16:18:44.067486Z"
    },
    "collapsed": false
   },
   "outputs": [
    {
     "data": {
      "text/html": [
       "<div>\n",
       "<style scoped>\n",
       "    .dataframe tbody tr th:only-of-type {\n",
       "        vertical-align: middle;\n",
       "    }\n",
       "\n",
       "    .dataframe tbody tr th {\n",
       "        vertical-align: top;\n",
       "    }\n",
       "\n",
       "    .dataframe thead th {\n",
       "        text-align: right;\n",
       "    }\n",
       "</style>\n",
       "<table border=\"1\" class=\"dataframe\">\n",
       "  <thead>\n",
       "    <tr style=\"text-align: right;\">\n",
       "      <th></th>\n",
       "      <th>threshold</th>\n",
       "      <th>true_positive_rate</th>\n",
       "      <th>false_positive_rate</th>\n",
       "    </tr>\n",
       "  </thead>\n",
       "  <tbody>\n",
       "    <tr>\n",
       "      <th>0</th>\n",
       "      <td>0.0</td>\n",
       "      <td>0.000000</td>\n",
       "      <td>0.000000</td>\n",
       "    </tr>\n",
       "    <tr>\n",
       "      <th>1</th>\n",
       "      <td>1.0</td>\n",
       "      <td>0.412925</td>\n",
       "      <td>0.009901</td>\n",
       "    </tr>\n",
       "    <tr>\n",
       "      <th>2</th>\n",
       "      <td>2.0</td>\n",
       "      <td>0.723619</td>\n",
       "      <td>0.019900</td>\n",
       "    </tr>\n",
       "    <tr>\n",
       "      <th>3</th>\n",
       "      <td>3.0</td>\n",
       "      <td>0.797726</td>\n",
       "      <td>0.024876</td>\n",
       "    </tr>\n",
       "    <tr>\n",
       "      <th>4</th>\n",
       "      <td>4.0</td>\n",
       "      <td>0.837231</td>\n",
       "      <td>0.025381</td>\n",
       "    </tr>\n",
       "    <tr>\n",
       "      <th>...</th>\n",
       "      <td>...</td>\n",
       "      <td>...</td>\n",
       "      <td>...</td>\n",
       "    </tr>\n",
       "    <tr>\n",
       "      <th>295</th>\n",
       "      <td>295.0</td>\n",
       "      <td>0.996834</td>\n",
       "      <td>0.999318</td>\n",
       "    </tr>\n",
       "    <tr>\n",
       "      <th>296</th>\n",
       "      <td>296.0</td>\n",
       "      <td>0.996879</td>\n",
       "      <td>0.999321</td>\n",
       "    </tr>\n",
       "    <tr>\n",
       "      <th>297</th>\n",
       "      <td>297.0</td>\n",
       "      <td>0.996939</td>\n",
       "      <td>0.999322</td>\n",
       "    </tr>\n",
       "    <tr>\n",
       "      <th>298</th>\n",
       "      <td>298.0</td>\n",
       "      <td>0.996940</td>\n",
       "      <td>0.999326</td>\n",
       "    </tr>\n",
       "    <tr>\n",
       "      <th>299</th>\n",
       "      <td>299.0</td>\n",
       "      <td>0.996971</td>\n",
       "      <td>0.999328</td>\n",
       "    </tr>\n",
       "  </tbody>\n",
       "</table>\n",
       "<p>300 rows × 3 columns</p>\n",
       "</div>"
      ],
      "text/plain": [
       "     threshold  true_positive_rate  false_positive_rate\n",
       "0          0.0            0.000000             0.000000\n",
       "1          1.0            0.412925             0.009901\n",
       "2          2.0            0.723619             0.019900\n",
       "3          3.0            0.797726             0.024876\n",
       "4          4.0            0.837231             0.025381\n",
       "..         ...                 ...                  ...\n",
       "295      295.0            0.996834             0.999318\n",
       "296      296.0            0.996879             0.999321\n",
       "297      297.0            0.996939             0.999322\n",
       "298      298.0            0.996940             0.999326\n",
       "299      299.0            0.996971             0.999328\n",
       "\n",
       "[300 rows x 3 columns]"
      ]
     },
     "execution_count": 19,
     "metadata": {},
     "output_type": "execute_result"
    }
   ],
   "source": [
    "def tlsh_thresh(s, by=\"TLSH 1\"):\n",
    "    s = s.loc[s.groupby(by)[\"Diff Score\"].idxmin()]\n",
    "    ssdeep_th = pd.DataFrame(columns=[\"threshold\", \"true_positive_rate\", \"false_positive_rate\"])\n",
    "    comp_to_sci = s[s[\"Scicore 1\"] == False]\n",
    "    compt_to_malware = s[s[\"Scicore 2\"] == True]\n",
    "    for i in range (0,300,1):\n",
    "        \n",
    "        sci_th = comp_to_sci[comp_to_sci[\"Diff Score\"] < i]\n",
    "        mal_th = compt_to_malware[compt_to_malware[\"Diff Score\"] < i]\n",
    "        f_th = compt_to_malware[compt_to_malware[\"Diff Score\"] >= i]\n",
    "        \n",
    "        TP = (sci_th[\"Family 1\"] == sci_th[\"Family 2\"]).sum()\n",
    "        FP = (sci_th[\"Family 1\"] != sci_th[\"Family 2\"]).sum()\n",
    "        FN = (f_th[\"Family 1\"] != f_th[\"Family 2\"]).sum()\n",
    "        TN = (f_th[\"Family 1\"] == f_th[\"Family 2\"]).sum()\n",
    "        \n",
    "        TPR = TP / (TP + FN) if TP + FN != 0 else 0\n",
    "        FPR = FP / (FP + TN) if FP + TN != 0 else 0\n",
    "        # Append results to DataFrame\n",
    "        ssdeep_th.loc[i] = [i, TPR, FPR]\n",
    "    return ssdeep_th\n",
    "p = tlsh_thresh(tlsh_comb_chunked(filtered_df, chunk_size=100))\n",
    "s = tlsh_thresh(strings_comb_chunked(filtered_df, chunk_size=100), by=\"strings 1\")\n",
    "s"
   ]
  },
  {
   "cell_type": "code",
   "execution_count": null,
   "id": "4fcefbbcefa185bd",
   "metadata": {
    "ExecuteTime": {
     "end_time": "2024-01-06T16:19:32.639727Z",
     "start_time": "2024-01-06T16:19:32.564360Z"
    }
   },
   "outputs": [
    {
     "data": {
      "image/png": "[encoded data removed]",
      "text/plain": [
       "<Figure size 640x480 with 1 Axes>"
      ]
     },
     "metadata": {},
     "output_type": "display_data"
    }
   ],
   "source": [
    "p.plot(x=\"false_positive_rate\", y=\"true_positive_rate\", xlim=(0, 1), ylim=(0, 1),title=\"ROC Curve for TLSH\", legend=False)\n",
    "plt.plot([0, 1], [0, 1], color='navy', linestyle='--')\n",
    "for i in range(0,p.shape[0] - 1, 15):\n",
    "    plt.annotate(i, (p[\"false_positive_rate\"][i], p[\"true_positive_rate\"][i]), fontsize=8)\n",
    "    if i > 100:\n",
    "        break\n",
    "plt.show()"
   ]
  },
  {
   "cell_type": "code",
   "execution_count": null,
   "id": "e2472c6b",
   "metadata": {
    "ExecuteTime": {
     "end_time": "2024-01-06T16:19:32.711295Z",
     "start_time": "2024-01-06T16:19:32.643893Z"
    }
   },
   "outputs": [
    {
     "data": {
      "image/png": "[encoded data removed]",
      "text/plain": [
       "<Figure size 640x480 with 1 Axes>"
      ]
     },
     "metadata": {},
     "output_type": "display_data"
    }
   ],
   "source": [
    "p.plot(x=\"false_positive_rate\", y=\"true_positive_rate\", xlim=(0, 1), ylim=(0, 1),title=\"ROC Curve for strings\", legend=False)\n",
    "plt.plot([0, 1], [0, 1], color='navy', linestyle='--')\n",
    "for i in range(0,p.shape[0] - 1, 15):\n",
    "    plt.annotate(i, (p[\"false_positive_rate\"][i], p[\"true_positive_rate\"][i]), fontsize=8)\n",
    "    if i > 100:\n",
    "        break\n",
    "plt.show()"
   ]
  },
  {
   "cell_type": "code",
   "execution_count": null,
   "id": "23d9cdad7ed075b5",
   "metadata": {
    "ExecuteTime": {
     "end_time": "2024-01-06T16:19:52.695424Z",
     "start_time": "2024-01-06T16:19:33.562813Z"
    },
    "collapsed": false
   },
   "outputs": [
    {
     "data": {
      "text/plain": [
       "<Axes: title={'center': 'F1 Score and Accuracy for TLSH'}, xlabel='threshold'>"
      ]
     },
     "execution_count": 22,
     "metadata": {},
     "output_type": "execute_result"
    },
    {
     "data": {
      "image/png": "[encoded data removed]",
      "text/plain": [
       "<Figure size 640x480 with 1 Axes>"
      ]
     },
     "metadata": {},
     "output_type": "display_data"
    }
   ],
   "source": [
    "def tlsh_f1(s, by=\"TLSH 1\"):\n",
    "    s = s.loc[s.groupby(by)[\"Diff Score\"].idxmin()]\n",
    "    ssdeep_th = pd.DataFrame(columns=[\"threshold\", \"f1\", \"accuracy\"])\n",
    "    comp_to_sci = s[s[\"Scicore 1\"] == False]\n",
    "    compt_to_malware = s[s[\"Scicore 2\"] == True]\n",
    "    for i in range (1,300,1):\n",
    "        \n",
    "        sci_th = comp_to_sci[comp_to_sci[\"Diff Score\"] < i]\n",
    "        mal_th = compt_to_malware[compt_to_malware[\"Diff Score\"] < i]\n",
    "        f_th = compt_to_malware[compt_to_malware[\"Diff Score\"] >= i]\n",
    "        \n",
    "        TP = (sci_th[\"Family 1\"] == sci_th[\"Family 2\"]).sum()\n",
    "        FP = (sci_th[\"Family 1\"] != sci_th[\"Family 2\"]).sum()\n",
    "        FN = (f_th[\"Family 1\"] != f_th[\"Family 2\"]).sum()\n",
    "        TN = (f_th[\"Family 1\"] == f_th[\"Family 2\"]).sum()\n",
    "        \n",
    "        precision = TP / (TP + FP) if TP + FP != 0 else 0\n",
    "        recall = TP / (TP + FN) if TP + TN != 0 else 0\n",
    "        \n",
    "        f1 = (2 * precision * recall) / (precision + recall)\n",
    "        accuracy = (TP + TN) / (TP + FP + FN + TN)\n",
    "        # Append results to DataFrame\n",
    "        ssdeep_th.loc[i] = [i, f1, accuracy]\n",
    "    return ssdeep_th\n",
    "f = tlsh_f1(tlsh_comb_chunked(filtered_df, chunk_size=100))\n",
    "f.plot(x=\"threshold\", y=[\"f1\",\"accuracy\"],title=\"F1 Score and Accuracy for TLSH\")"
   ]
  },
  {
   "cell_type": "code",
   "execution_count": null,
   "id": "3a792041a8696a99",
   "metadata": {
    "ExecuteTime": {
     "end_time": "2024-01-06T16:20:19.436656Z",
     "start_time": "2024-01-06T16:19:52.699273Z"
    }
   },
   "outputs": [
    {
     "data": {
      "text/html": [
       "<div>\n",
       "<style scoped>\n",
       "    .dataframe tbody tr th:only-of-type {\n",
       "        vertical-align: middle;\n",
       "    }\n",
       "\n",
       "    .dataframe tbody tr th {\n",
       "        vertical-align: top;\n",
       "    }\n",
       "\n",
       "    .dataframe thead th {\n",
       "        text-align: right;\n",
       "    }\n",
       "</style>\n",
       "<table border=\"1\" class=\"dataframe\">\n",
       "  <thead>\n",
       "    <tr style=\"text-align: right;\">\n",
       "      <th></th>\n",
       "      <th>Family 1</th>\n",
       "      <th>Family 2</th>\n",
       "      <th>Scicore 1</th>\n",
       "      <th>Scicore 2</th>\n",
       "      <th>ssdeep 1</th>\n",
       "      <th>ssdeep 2</th>\n",
       "      <th>Diff Score</th>\n",
       "    </tr>\n",
       "  </thead>\n",
       "  <tbody>\n",
       "    <tr>\n",
       "      <th>0</th>\n",
       "      <td>9002Rat</td>\n",
       "      <td>No Match</td>\n",
       "      <td>False</td>\n",
       "      <td>False</td>\n",
       "      <td>1536:fyOinfXrmThthYvYh+8+IXbTyllRbRURhj5Q:knfX...</td>\n",
       "      <td>1536:isQQjCC6ZRC5EPviVkdsayrPJe7P6ffTiwi:isQQj...</td>\n",
       "      <td>0</td>\n",
       "    </tr>\n",
       "    <tr>\n",
       "      <th>1</th>\n",
       "      <td>9002Rat</td>\n",
       "      <td>No Match</td>\n",
       "      <td>False</td>\n",
       "      <td>False</td>\n",
       "      <td>1536:fyOinfXrmThthYvYh+8+IXbTyllRbRURhj5Q:knfX...</td>\n",
       "      <td>393216:1ZZNprQxrpbXZRCb0g/6cGx3PjWrIMhGbEV18I+...</td>\n",
       "      <td>0</td>\n",
       "    </tr>\n",
       "    <tr>\n",
       "      <th>2</th>\n",
       "      <td>9002Rat</td>\n",
       "      <td>No Match</td>\n",
       "      <td>False</td>\n",
       "      <td>False</td>\n",
       "      <td>1536:fyOinfXrmThthYvYh+8+IXbTyllRbRURhj5Q:knfX...</td>\n",
       "      <td>393216:z0ZCif89tnKfsp09SskycXZBBLWNcQxvl6lk:aP...</td>\n",
       "      <td>0</td>\n",
       "    </tr>\n",
       "    <tr>\n",
       "      <th>3</th>\n",
       "      <td>9002Rat</td>\n",
       "      <td>No Match</td>\n",
       "      <td>False</td>\n",
       "      <td>False</td>\n",
       "      <td>1536:fyOinfXrmThthYvYh+8+IXbTyllRbRURhj5Q:knfX...</td>\n",
       "      <td>393216:c5gt4ljF2jF0C0eUkGz2Wqha9zO/EEw6iwlmXhg...</td>\n",
       "      <td>0</td>\n",
       "    </tr>\n",
       "    <tr>\n",
       "      <th>4</th>\n",
       "      <td>9002Rat</td>\n",
       "      <td>No Match</td>\n",
       "      <td>False</td>\n",
       "      <td>False</td>\n",
       "      <td>1536:fyOinfXrmThthYvYh+8+IXbTyllRbRURhj5Q:knfX...</td>\n",
       "      <td>393216:buyeOSYAWkyoxbMn8lGjkhu2coAr2ta/D9L3C+s...</td>\n",
       "      <td>0</td>\n",
       "    </tr>\n",
       "    <tr>\n",
       "      <th>...</th>\n",
       "      <td>...</td>\n",
       "      <td>...</td>\n",
       "      <td>...</td>\n",
       "      <td>...</td>\n",
       "      <td>...</td>\n",
       "      <td>...</td>\n",
       "      <td>...</td>\n",
       "    </tr>\n",
       "    <tr>\n",
       "      <th>5073836</th>\n",
       "      <td>OpenMPI</td>\n",
       "      <td>No Match</td>\n",
       "      <td>True</td>\n",
       "      <td>True</td>\n",
       "      <td>384:uRxHRUqYZavTYMTtElV71251CC+yWdvA1rENqf0Eqd...</td>\n",
       "      <td>24576:njea/GXddqAO1JQZlVghGMai0QsQ/16J96BWI47P...</td>\n",
       "      <td>0</td>\n",
       "    </tr>\n",
       "    <tr>\n",
       "      <th>5073837</th>\n",
       "      <td>OpenMPI</td>\n",
       "      <td>No Match</td>\n",
       "      <td>True</td>\n",
       "      <td>True</td>\n",
       "      <td>384:uRxHRUqYZavTYMTtElV71251CC+yWdvA1rENqf0Eqd...</td>\n",
       "      <td>192:FkyTTTT5/BFsEsmJubuz/it/ie/ib/iyI/ia/TVqxZ...</td>\n",
       "      <td>0</td>\n",
       "    </tr>\n",
       "    <tr>\n",
       "      <th>5073838</th>\n",
       "      <td>SOAPdenovo2</td>\n",
       "      <td>No Match</td>\n",
       "      <td>True</td>\n",
       "      <td>True</td>\n",
       "      <td>6144:2ECTgReunEcsHUZxOcfDmXoyoanG9NcuS:2ECTKeu...</td>\n",
       "      <td>24576:njea/GXddqAO1JQZlVghGMai0QsQ/16J96BWI47P...</td>\n",
       "      <td>0</td>\n",
       "    </tr>\n",
       "    <tr>\n",
       "      <th>5073839</th>\n",
       "      <td>SOAPdenovo2</td>\n",
       "      <td>No Match</td>\n",
       "      <td>True</td>\n",
       "      <td>True</td>\n",
       "      <td>6144:2ECTgReunEcsHUZxOcfDmXoyoanG9NcuS:2ECTKeu...</td>\n",
       "      <td>192:FkyTTTT5/BFsEsmJubuz/it/ie/ib/iyI/ia/TVqxZ...</td>\n",
       "      <td>0</td>\n",
       "    </tr>\n",
       "    <tr>\n",
       "      <th>5073840</th>\n",
       "      <td>PhyML</td>\n",
       "      <td>No Match</td>\n",
       "      <td>True</td>\n",
       "      <td>True</td>\n",
       "      <td>24576:njea/GXddqAO1JQZlVghGMai0QsQ/16J96BWI47P...</td>\n",
       "      <td>192:FkyTTTT5/BFsEsmJubuz/it/ie/ib/iyI/ia/TVqxZ...</td>\n",
       "      <td>0</td>\n",
       "    </tr>\n",
       "  </tbody>\n",
       "</table>\n",
       "<p>5073841 rows × 7 columns</p>\n",
       "</div>"
      ],
      "text/plain": [
       "            Family 1  Family 2  Scicore 1  Scicore 2  \\\n",
       "0            9002Rat  No Match      False      False   \n",
       "1            9002Rat  No Match      False      False   \n",
       "2            9002Rat  No Match      False      False   \n",
       "3            9002Rat  No Match      False      False   \n",
       "4            9002Rat  No Match      False      False   \n",
       "...              ...       ...        ...        ...   \n",
       "5073836      OpenMPI  No Match       True       True   \n",
       "5073837      OpenMPI  No Match       True       True   \n",
       "5073838  SOAPdenovo2  No Match       True       True   \n",
       "5073839  SOAPdenovo2  No Match       True       True   \n",
       "5073840        PhyML  No Match       True       True   \n",
       "\n",
       "                                                  ssdeep 1  \\\n",
       "0        1536:fyOinfXrmThthYvYh+8+IXbTyllRbRURhj5Q:knfX...   \n",
       "1        1536:fyOinfXrmThthYvYh+8+IXbTyllRbRURhj5Q:knfX...   \n",
       "2        1536:fyOinfXrmThthYvYh+8+IXbTyllRbRURhj5Q:knfX...   \n",
       "3        1536:fyOinfXrmThthYvYh+8+IXbTyllRbRURhj5Q:knfX...   \n",
       "4        1536:fyOinfXrmThthYvYh+8+IXbTyllRbRURhj5Q:knfX...   \n",
       "...                                                    ...   \n",
       "5073836  384:uRxHRUqYZavTYMTtElV71251CC+yWdvA1rENqf0Eqd...   \n",
       "5073837  384:uRxHRUqYZavTYMTtElV71251CC+yWdvA1rENqf0Eqd...   \n",
       "5073838  6144:2ECTgReunEcsHUZxOcfDmXoyoanG9NcuS:2ECTKeu...   \n",
       "5073839  6144:2ECTgReunEcsHUZxOcfDmXoyoanG9NcuS:2ECTKeu...   \n",
       "5073840  24576:njea/GXddqAO1JQZlVghGMai0QsQ/16J96BWI47P...   \n",
       "\n",
       "                                                  ssdeep 2  Diff Score  \n",
       "0        1536:isQQjCC6ZRC5EPviVkdsayrPJe7P6ffTiwi:isQQj...           0  \n",
       "1        393216:1ZZNprQxrpbXZRCb0g/6cGx3PjWrIMhGbEV18I+...           0  \n",
       "2        393216:z0ZCif89tnKfsp09SskycXZBBLWNcQxvl6lk:aP...           0  \n",
       "3        393216:c5gt4ljF2jF0C0eUkGz2Wqha9zO/EEw6iwlmXhg...           0  \n",
       "4        393216:buyeOSYAWkyoxbMn8lGjkhu2coAr2ta/D9L3C+s...           0  \n",
       "...                                                    ...         ...  \n",
       "5073836  24576:njea/GXddqAO1JQZlVghGMai0QsQ/16J96BWI47P...           0  \n",
       "5073837  192:FkyTTTT5/BFsEsmJubuz/it/ie/ib/iyI/ia/TVqxZ...           0  \n",
       "5073838  24576:njea/GXddqAO1JQZlVghGMai0QsQ/16J96BWI47P...           0  \n",
       "5073839  192:FkyTTTT5/BFsEsmJubuz/it/ie/ib/iyI/ia/TVqxZ...           0  \n",
       "5073840  192:FkyTTTT5/BFsEsmJubuz/it/ie/ib/iyI/ia/TVqxZ...           0  \n",
       "\n",
       "[5073841 rows x 7 columns]"
      ]
     },
     "execution_count": 23,
     "metadata": {},
     "output_type": "execute_result"
    }
   ],
   "source": [
    "def ssdeep_comb_chunked(df, chunk_size=100):\n",
    "    # Function to process a chunk of combinations\n",
    "    def process_chunk_ssdeep(chunk):\n",
    "        results = []\n",
    "        for row1, row2 in combinations(chunk.itertuples(index=False), 2):\n",
    "            try:\n",
    "                diff_score = ssdeep.compare(row1.ssdeep, row2.ssdeep)\n",
    "                if diff_score == 0:\n",
    "                    results.append((row1.family, \"No Match\", row1.scicore, row2.scicore, row1.ssdeep, row2.ssdeep, diff_score))\n",
    "                else:\n",
    "                    results.append((row1.family, row2.family, row1.scicore, row2.scicore, row1.ssdeep, row2.ssdeep, diff_score))\n",
    "            except Exception as e:\n",
    "                print(f\"Error processing row: {e}\")\n",
    "                continue\n",
    "        return results\n",
    "    #df['ssdeep'] = df['ssdeep'].apply(lambda x: x['ssdeep'] if 'ssdeep' in x and isinstance(x, dict) else x)\n",
    "    # Initialize an empty list to store all results\n",
    "    all_results = []\n",
    "\n",
    "    # Iterate over the DataFrame in chunks\n",
    "    for start in range(0, len(df), chunk_size):\n",
    "        end = start + chunk_size\n",
    "        chunk = df.iloc[start:end]\n",
    "        all_results.extend(process_chunk_ssdeep(chunk))\n",
    "\n",
    "    # Convert all results to DataFrame\n",
    "    results_df = pd.DataFrame(all_results, columns=['Family 1', 'Family 2', 'Scicore 1', 'Scicore 2', 'ssdeep 1', 'ssdeep 2', 'Diff Score'])\n",
    "\n",
    "    return results_df\n",
    "\n",
    "# Usage\n",
    "# Replace 'your_dataframe' with your actual DataFrame variable\n",
    "results_ssdeep = ssdeep_comb_chunked(filtered_df, chunk_size=100)\n",
    "results_ssdeep"
   ]
  },
  {
   "cell_type": "code",
   "execution_count": null,
   "id": "fd49f9b1",
   "metadata": {
    "ExecuteTime": {
     "end_time": "2024-01-06T16:20:19.583086Z",
     "start_time": "2024-01-06T16:20:19.580248Z"
    }
   },
   "outputs": [
    {
     "data": {
      "text/plain": [
       "4058505"
      ]
     },
     "execution_count": 24,
     "metadata": {},
     "output_type": "execute_result"
    }
   ],
   "source": [
    "results_ssdeep[results_ssdeep[\"Family 1\"] == \"Predator the Thief\"][\"Diff Score\"].idxmax()"
   ]
  },
  {
   "cell_type": "code",
   "execution_count": null,
   "id": "f5889d281524c026",
   "metadata": {
    "ExecuteTime": {
     "end_time": "2024-01-06T16:20:19.586158Z",
     "start_time": "2024-01-06T16:20:19.584625Z"
    }
   },
   "outputs": [
    {
     "data": {
      "text/plain": [
       "Family 1                                                  QtBot\n",
       "Family 2                                               No Match\n",
       "Scicore 1                                                 False\n",
       "Scicore 2                                                 False\n",
       "ssdeep 1      24576:TlTFgtLkflWpS2pNHVaiyhAXK9lARFg70QV:TlTF...\n",
       "ssdeep 2      24576:OTeN6KYS3CLL77qLLLyLrIySLLSLLywCALSKLrrT...\n",
       "Diff Score                                                    0\n",
       "Name: 4202845, dtype: object"
      ]
     },
     "execution_count": 25,
     "metadata": {},
     "output_type": "execute_result"
    }
   ],
   "source": [
    "results_ssdeep.iloc[4202845]"
   ]
  },
  {
   "cell_type": "code",
   "execution_count": null,
   "id": "4de195865273e3a7",
   "metadata": {
    "ExecuteTime": {
     "end_time": "2024-01-06T16:20:21.399208Z",
     "start_time": "2024-01-06T16:20:19.614042Z"
    },
    "collapsed": false
   },
   "outputs": [
    {
     "data": {
      "text/html": [
       "<div>\n",
       "<style scoped>\n",
       "    .dataframe tbody tr th:only-of-type {\n",
       "        vertical-align: middle;\n",
       "    }\n",
       "\n",
       "    .dataframe tbody tr th {\n",
       "        vertical-align: top;\n",
       "    }\n",
       "\n",
       "    .dataframe thead th {\n",
       "        text-align: right;\n",
       "    }\n",
       "</style>\n",
       "<table border=\"1\" class=\"dataframe\">\n",
       "  <thead>\n",
       "    <tr style=\"text-align: right;\">\n",
       "      <th></th>\n",
       "      <th>Family 1</th>\n",
       "      <th>Family 2</th>\n",
       "      <th>Scicore 1</th>\n",
       "      <th>Scicore 2</th>\n",
       "      <th>ssdeep 1</th>\n",
       "      <th>ssdeep 2</th>\n",
       "      <th>Diff Score</th>\n",
       "    </tr>\n",
       "  </thead>\n",
       "  <tbody>\n",
       "    <tr>\n",
       "      <th>4058505</th>\n",
       "      <td>Predator the Thief</td>\n",
       "      <td>Predator the Thief</td>\n",
       "      <td>False</td>\n",
       "      <td>False</td>\n",
       "      <td>12288:+/fQmrqZh1apumMATyKn6k7anQQ/uPqJFJ6ACjLY...</td>\n",
       "      <td>12288:+/fQmrqZh1apumMATyKn6k7anQQ/uPqJFJ6ACjLY...</td>\n",
       "      <td>100</td>\n",
       "    </tr>\n",
       "    <tr>\n",
       "      <th>4060295</th>\n",
       "      <td>Predator the Thief</td>\n",
       "      <td>No Match</td>\n",
       "      <td>False</td>\n",
       "      <td>False</td>\n",
       "      <td>12288:kIBLMT7EgHRYGtUrdgugEnoSE5iNAdl++Vs4PTLJ...</td>\n",
       "      <td>6144:bUyD1Vzw/mvsV+IltcrqF5Fpg8VgcRG6l+wjkvARw...</td>\n",
       "      <td>0</td>\n",
       "    </tr>\n",
       "    <tr>\n",
       "      <th>4060034</th>\n",
       "      <td>Predator the Thief</td>\n",
       "      <td>No Match</td>\n",
       "      <td>False</td>\n",
       "      <td>False</td>\n",
       "      <td>12288:mb8BkqPC0cC5z4MkD9PIOcaU0zLfoaeRcVAE/TW6...</td>\n",
       "      <td>12288:+/fQmrqZh1apumMATyKn6k7anQQ/uPqJFJ6ACjLY...</td>\n",
       "      <td>0</td>\n",
       "    </tr>\n",
       "    <tr>\n",
       "      <th>4058864</th>\n",
       "      <td>Predator the Thief</td>\n",
       "      <td>No Match</td>\n",
       "      <td>False</td>\n",
       "      <td>False</td>\n",
       "      <td>12288:qfw+Jdq4FzNUpUTkMN5e6TeinhpLu7RL3xpto7LJ...</td>\n",
       "      <td>12288:+/fQmrqZh1apumMATyKn6k7anQQ/uPqJFJ6ACjLY...</td>\n",
       "      <td>0</td>\n",
       "    </tr>\n",
       "    <tr>\n",
       "      <th>4058974</th>\n",
       "      <td>Predator the Thief</td>\n",
       "      <td>Predator the Thief</td>\n",
       "      <td>False</td>\n",
       "      <td>False</td>\n",
       "      <td>12288:x/fQmrqZh1apumMATyKn6k7anQQ/uPqJFJ6ACjLY...</td>\n",
       "      <td>12288:+/fQmrqZh1apumMATyKn6k7anQQ/uPqJFJ6ACjLY...</td>\n",
       "      <td>99</td>\n",
       "    </tr>\n",
       "    <tr>\n",
       "      <th>3568130</th>\n",
       "      <td>Predator the Thief</td>\n",
       "      <td>No Match</td>\n",
       "      <td>False</td>\n",
       "      <td>False</td>\n",
       "      <td>48:t0S0XyspV1rsaSoDNoOuBMFENnwGkh+y28y1nrs1hFC...</td>\n",
       "      <td>49152:h1/5dHL+E8oKHS8/DMGIKo/biObcrY8j7OoZ1l4r...</td>\n",
       "      <td>0</td>\n",
       "    </tr>\n",
       "    <tr>\n",
       "      <th>4058624</th>\n",
       "      <td>Predator the Thief</td>\n",
       "      <td>Predator the Thief</td>\n",
       "      <td>False</td>\n",
       "      <td>False</td>\n",
       "      <td>49152:AEBXpFvxG6mtx5QxLguFsSg0iqNsuZT3tXzlSLjE...</td>\n",
       "      <td>49152:lTswQA0pQlZbkpKV8gWba5cvtiqNsuZT3tXzlSLj...</td>\n",
       "      <td>58</td>\n",
       "    </tr>\n",
       "    <tr>\n",
       "      <th>4059672</th>\n",
       "      <td>Predator the Thief</td>\n",
       "      <td>No Match</td>\n",
       "      <td>False</td>\n",
       "      <td>False</td>\n",
       "      <td>49152:RxwQZClFsW/Osnm1lCiIfWV4TzvVOHZqiqNsuZT3...</td>\n",
       "      <td>12288:+/fQmrqZh1apumMATyKn6k7anQQ/uPqJFJ6ACjLY...</td>\n",
       "      <td>0</td>\n",
       "    </tr>\n",
       "    <tr>\n",
       "      <th>4059855</th>\n",
       "      <td>Predator the Thief</td>\n",
       "      <td>No Match</td>\n",
       "      <td>False</td>\n",
       "      <td>False</td>\n",
       "      <td>49152:YPpr1FtIMFSZeSn+0hNuQFRtnDMAVTVP6KPVy+YK...</td>\n",
       "      <td>12288:+/fQmrqZh1apumMATyKn6k7anQQ/uPqJFJ6ACjLY...</td>\n",
       "      <td>0</td>\n",
       "    </tr>\n",
       "    <tr>\n",
       "      <th>4059579</th>\n",
       "      <td>Predator the Thief</td>\n",
       "      <td>No Match</td>\n",
       "      <td>False</td>\n",
       "      <td>False</td>\n",
       "      <td>49152:j552Lu7NOJKsifHEm+KvC+Y0G8od1JBIbzWDmOgk...</td>\n",
       "      <td>49152:RxwQZClFsW/Osnm1lCiIfWV4TzvVOHZqiqNsuZT3...</td>\n",
       "      <td>0</td>\n",
       "    </tr>\n",
       "    <tr>\n",
       "      <th>4058703</th>\n",
       "      <td>Predator the Thief</td>\n",
       "      <td>Predator the Thief</td>\n",
       "      <td>False</td>\n",
       "      <td>False</td>\n",
       "      <td>49152:lTswQA0pQlZbkpKV8gWba5cvtiqNsuZT3tXzlSLj...</td>\n",
       "      <td>49152:obyQeopUj20O/v8A/CT41/FNPv8hp9dhiqNsuZT3...</td>\n",
       "      <td>50</td>\n",
       "    </tr>\n",
       "    <tr>\n",
       "      <th>4058649</th>\n",
       "      <td>Predator the Thief</td>\n",
       "      <td>No Match</td>\n",
       "      <td>False</td>\n",
       "      <td>False</td>\n",
       "      <td>49152:mnxMuM7aG4zJzuZnSoQqW8akuqX9s+5d1JBIbzWD...</td>\n",
       "      <td>12288:+/fQmrqZh1apumMATyKn6k7anQQ/uPqJFJ6ACjLY...</td>\n",
       "      <td>0</td>\n",
       "    </tr>\n",
       "    <tr>\n",
       "      <th>4058790</th>\n",
       "      <td>Predator the Thief</td>\n",
       "      <td>No Match</td>\n",
       "      <td>False</td>\n",
       "      <td>False</td>\n",
       "      <td>49152:obyQeopUj20O/v8A/CT41/FNPv8hp9dhiqNsuZT3...</td>\n",
       "      <td>12288:+/fQmrqZh1apumMATyKn6k7anQQ/uPqJFJ6ACjLY...</td>\n",
       "      <td>0</td>\n",
       "    </tr>\n",
       "    <tr>\n",
       "      <th>4059111</th>\n",
       "      <td>Predator the Thief</td>\n",
       "      <td>Predator the Thief</td>\n",
       "      <td>False</td>\n",
       "      <td>False</td>\n",
       "      <td>6144:2ONAsJwl++/d7Lk4nPTrHJ9K4AWQaYRuohRDENm2e...</td>\n",
       "      <td>12288:kIBLMT7EgHRYGtUrdgugEnoSE5iNAdl++Vs4PTLJ...</td>\n",
       "      <td>60</td>\n",
       "    </tr>\n",
       "    <tr>\n",
       "      <th>4059000</th>\n",
       "      <td>Predator the Thief</td>\n",
       "      <td>No Match</td>\n",
       "      <td>False</td>\n",
       "      <td>False</td>\n",
       "      <td>6144:7Nvje8/xMgsZ+Axb0b+ih+F7xXA+uVJ15tjQVyVfG...</td>\n",
       "      <td>6144:2ONAsJwl++/d7Lk4nPTrHJ9K4AWQaYRuohRDENm2e...</td>\n",
       "      <td>0</td>\n",
       "    </tr>\n",
       "    <tr>\n",
       "      <th>4058985</th>\n",
       "      <td>Predator the Thief</td>\n",
       "      <td>No Match</td>\n",
       "      <td>False</td>\n",
       "      <td>False</td>\n",
       "      <td>6144:9D+fYftM9sWpKM0Oy2KWGrWcglraX+ue/7UuQZzfK...</td>\n",
       "      <td>12288:+/fQmrqZh1apumMATyKn6k7anQQ/uPqJFJ6ACjLY...</td>\n",
       "      <td>0</td>\n",
       "    </tr>\n",
       "    <tr>\n",
       "      <th>4058994</th>\n",
       "      <td>Predator the Thief</td>\n",
       "      <td>No Match</td>\n",
       "      <td>False</td>\n",
       "      <td>False</td>\n",
       "      <td>6144:KdDuevbF8Y+N25Mnv9Fxvns6F2rdGjBqeaThGb0/3...</td>\n",
       "      <td>12288:+/fQmrqZh1apumMATyKn6k7anQQ/uPqJFJ6ACjLY...</td>\n",
       "      <td>0</td>\n",
       "    </tr>\n",
       "    <tr>\n",
       "      <th>4058535</th>\n",
       "      <td>Predator the Thief</td>\n",
       "      <td>No Match</td>\n",
       "      <td>False</td>\n",
       "      <td>False</td>\n",
       "      <td>6144:ZyZe48iPm+0s4hlu7xGcDHISoBD32jCS0Cfiyrl0c...</td>\n",
       "      <td>12288:+/fQmrqZh1apumMATyKn6k7anQQ/uPqJFJ6ACjLY...</td>\n",
       "      <td>0</td>\n",
       "    </tr>\n",
       "    <tr>\n",
       "      <th>4058769</th>\n",
       "      <td>Predator the Thief</td>\n",
       "      <td>No Match</td>\n",
       "      <td>False</td>\n",
       "      <td>False</td>\n",
       "      <td>6144:emYbqOs+fehWMbafonfUrBbXHcUcu3uSSSxsTyf7U...</td>\n",
       "      <td>49152:obyQeopUj20O/v8A/CT41/FNPv8hp9dhiqNsuZT3...</td>\n",
       "      <td>0</td>\n",
       "    </tr>\n",
       "    <tr>\n",
       "      <th>4058922</th>\n",
       "      <td>Predator the Thief</td>\n",
       "      <td>No Match</td>\n",
       "      <td>False</td>\n",
       "      <td>False</td>\n",
       "      <td>6144:fONAsJwl++/d7Lk4nPTrHJ9K4AWQaYRuohRDENm2e...</td>\n",
       "      <td>12288:+/fQmrqZh1apumMATyKn6k7anQQ/uPqJFJ6ACjLY...</td>\n",
       "      <td>0</td>\n",
       "    </tr>\n",
       "    <tr>\n",
       "      <th>4058594</th>\n",
       "      <td>Predator the Thief</td>\n",
       "      <td>No Match</td>\n",
       "      <td>False</td>\n",
       "      <td>False</td>\n",
       "      <td>6144:prLsa6QzKX0aAirBDobyBxukuyjwoGIjFXQH/0QKQ...</td>\n",
       "      <td>49152:AEBXpFvxG6mtx5QxLguFsSg0iqNsuZT3tXzlSLjE...</td>\n",
       "      <td>0</td>\n",
       "    </tr>\n",
       "    <tr>\n",
       "      <th>4058979</th>\n",
       "      <td>Predator the Thief</td>\n",
       "      <td>No Match</td>\n",
       "      <td>False</td>\n",
       "      <td>False</td>\n",
       "      <td>6144:xSk3EWAuRvze2fP+nZ7wI/lyhpwrQsmWvf4JsX4Of...</td>\n",
       "      <td>6144:9D+fYftM9sWpKM0Oy2KWGrWcglraX+ue/7UuQZzfK...</td>\n",
       "      <td>0</td>\n",
       "    </tr>\n",
       "  </tbody>\n",
       "</table>\n",
       "</div>"
      ],
      "text/plain": [
       "                   Family 1            Family 2  Scicore 1  Scicore 2  \\\n",
       "4058505  Predator the Thief  Predator the Thief      False      False   \n",
       "4060295  Predator the Thief            No Match      False      False   \n",
       "4060034  Predator the Thief            No Match      False      False   \n",
       "4058864  Predator the Thief            No Match      False      False   \n",
       "4058974  Predator the Thief  Predator the Thief      False      False   \n",
       "3568130  Predator the Thief            No Match      False      False   \n",
       "4058624  Predator the Thief  Predator the Thief      False      False   \n",
       "4059672  Predator the Thief            No Match      False      False   \n",
       "4059855  Predator the Thief            No Match      False      False   \n",
       "4059579  Predator the Thief            No Match      False      False   \n",
       "4058703  Predator the Thief  Predator the Thief      False      False   \n",
       "4058649  Predator the Thief            No Match      False      False   \n",
       "4058790  Predator the Thief            No Match      False      False   \n",
       "4059111  Predator the Thief  Predator the Thief      False      False   \n",
       "4059000  Predator the Thief            No Match      False      False   \n",
       "4058985  Predator the Thief            No Match      False      False   \n",
       "4058994  Predator the Thief            No Match      False      False   \n",
       "4058535  Predator the Thief            No Match      False      False   \n",
       "4058769  Predator the Thief            No Match      False      False   \n",
       "4058922  Predator the Thief            No Match      False      False   \n",
       "4058594  Predator the Thief            No Match      False      False   \n",
       "4058979  Predator the Thief            No Match      False      False   \n",
       "\n",
       "                                                  ssdeep 1  \\\n",
       "4058505  12288:+/fQmrqZh1apumMATyKn6k7anQQ/uPqJFJ6ACjLY...   \n",
       "4060295  12288:kIBLMT7EgHRYGtUrdgugEnoSE5iNAdl++Vs4PTLJ...   \n",
       "4060034  12288:mb8BkqPC0cC5z4MkD9PIOcaU0zLfoaeRcVAE/TW6...   \n",
       "4058864  12288:qfw+Jdq4FzNUpUTkMN5e6TeinhpLu7RL3xpto7LJ...   \n",
       "4058974  12288:x/fQmrqZh1apumMATyKn6k7anQQ/uPqJFJ6ACjLY...   \n",
       "3568130  48:t0S0XyspV1rsaSoDNoOuBMFENnwGkh+y28y1nrs1hFC...   \n",
       "4058624  49152:AEBXpFvxG6mtx5QxLguFsSg0iqNsuZT3tXzlSLjE...   \n",
       "4059672  49152:RxwQZClFsW/Osnm1lCiIfWV4TzvVOHZqiqNsuZT3...   \n",
       "4059855  49152:YPpr1FtIMFSZeSn+0hNuQFRtnDMAVTVP6KPVy+YK...   \n",
       "4059579  49152:j552Lu7NOJKsifHEm+KvC+Y0G8od1JBIbzWDmOgk...   \n",
       "4058703  49152:lTswQA0pQlZbkpKV8gWba5cvtiqNsuZT3tXzlSLj...   \n",
       "4058649  49152:mnxMuM7aG4zJzuZnSoQqW8akuqX9s+5d1JBIbzWD...   \n",
       "4058790  49152:obyQeopUj20O/v8A/CT41/FNPv8hp9dhiqNsuZT3...   \n",
       "4059111  6144:2ONAsJwl++/d7Lk4nPTrHJ9K4AWQaYRuohRDENm2e...   \n",
       "4059000  6144:7Nvje8/xMgsZ+Axb0b+ih+F7xXA+uVJ15tjQVyVfG...   \n",
       "4058985  6144:9D+fYftM9sWpKM0Oy2KWGrWcglraX+ue/7UuQZzfK...   \n",
       "4058994  6144:KdDuevbF8Y+N25Mnv9Fxvns6F2rdGjBqeaThGb0/3...   \n",
       "4058535  6144:ZyZe48iPm+0s4hlu7xGcDHISoBD32jCS0Cfiyrl0c...   \n",
       "4058769  6144:emYbqOs+fehWMbafonfUrBbXHcUcu3uSSSxsTyf7U...   \n",
       "4058922  6144:fONAsJwl++/d7Lk4nPTrHJ9K4AWQaYRuohRDENm2e...   \n",
       "4058594  6144:prLsa6QzKX0aAirBDobyBxukuyjwoGIjFXQH/0QKQ...   \n",
       "4058979  6144:xSk3EWAuRvze2fP+nZ7wI/lyhpwrQsmWvf4JsX4Of...   \n",
       "\n",
       "                                                  ssdeep 2  Diff Score  \n",
       "4058505  12288:+/fQmrqZh1apumMATyKn6k7anQQ/uPqJFJ6ACjLY...         100  \n",
       "4060295  6144:bUyD1Vzw/mvsV+IltcrqF5Fpg8VgcRG6l+wjkvARw...           0  \n",
       "4060034  12288:+/fQmrqZh1apumMATyKn6k7anQQ/uPqJFJ6ACjLY...           0  \n",
       "4058864  12288:+/fQmrqZh1apumMATyKn6k7anQQ/uPqJFJ6ACjLY...           0  \n",
       "4058974  12288:+/fQmrqZh1apumMATyKn6k7anQQ/uPqJFJ6ACjLY...          99  \n",
       "3568130  49152:h1/5dHL+E8oKHS8/DMGIKo/biObcrY8j7OoZ1l4r...           0  \n",
       "4058624  49152:lTswQA0pQlZbkpKV8gWba5cvtiqNsuZT3tXzlSLj...          58  \n",
       "4059672  12288:+/fQmrqZh1apumMATyKn6k7anQQ/uPqJFJ6ACjLY...           0  \n",
       "4059855  12288:+/fQmrqZh1apumMATyKn6k7anQQ/uPqJFJ6ACjLY...           0  \n",
       "4059579  49152:RxwQZClFsW/Osnm1lCiIfWV4TzvVOHZqiqNsuZT3...           0  \n",
       "4058703  49152:obyQeopUj20O/v8A/CT41/FNPv8hp9dhiqNsuZT3...          50  \n",
       "4058649  12288:+/fQmrqZh1apumMATyKn6k7anQQ/uPqJFJ6ACjLY...           0  \n",
       "4058790  12288:+/fQmrqZh1apumMATyKn6k7anQQ/uPqJFJ6ACjLY...           0  \n",
       "4059111  12288:kIBLMT7EgHRYGtUrdgugEnoSE5iNAdl++Vs4PTLJ...          60  \n",
       "4059000  6144:2ONAsJwl++/d7Lk4nPTrHJ9K4AWQaYRuohRDENm2e...           0  \n",
       "4058985  12288:+/fQmrqZh1apumMATyKn6k7anQQ/uPqJFJ6ACjLY...           0  \n",
       "4058994  12288:+/fQmrqZh1apumMATyKn6k7anQQ/uPqJFJ6ACjLY...           0  \n",
       "4058535  12288:+/fQmrqZh1apumMATyKn6k7anQQ/uPqJFJ6ACjLY...           0  \n",
       "4058769  49152:obyQeopUj20O/v8A/CT41/FNPv8hp9dhiqNsuZT3...           0  \n",
       "4058922  12288:+/fQmrqZh1apumMATyKn6k7anQQ/uPqJFJ6ACjLY...           0  \n",
       "4058594  49152:AEBXpFvxG6mtx5QxLguFsSg0iqNsuZT3tXzlSLjE...           0  \n",
       "4058979  6144:9D+fYftM9sWpKM0Oy2KWGrWcglraX+ue/7UuQZzfK...           0  "
      ]
     },
     "execution_count": 26,
     "metadata": {},
     "output_type": "execute_result"
    }
   ],
   "source": [
    "s = results_ssdeep.loc[results_ssdeep.groupby('ssdeep 1')[\"Diff Score\"].idxmax()]\n",
    "s[s[\"Family 1\"] == \"Predator the Thief\"]"
   ]
  },
  {
   "cell_type": "code",
   "execution_count": null,
   "id": "f4799f60",
   "metadata": {
    "ExecuteTime": {
     "end_time": "2024-01-06T16:20:21.413449Z",
     "start_time": "2024-01-06T16:20:21.399869Z"
    }
   },
   "outputs": [
    {
     "data": {
      "text/plain": [
       "True     43951\n",
       "False    42311\n",
       "Name: count, dtype: int64"
      ]
     },
     "execution_count": 27,
     "metadata": {},
     "output_type": "execute_result"
    }
   ],
   "source": [
    "size = s.shape[0]\n",
    "s = s[s[\"Scicore 2\"] == False]\n",
    "(s[\"Family 1\"] == s[\"Family 2\"]).value_counts()"
   ]
  },
  {
   "cell_type": "code",
   "execution_count": null,
   "id": "67678b187fe7f31a",
   "metadata": {
    "ExecuteTime": {
     "end_time": "2024-01-06T16:20:41.153240Z",
     "start_time": "2024-01-06T16:20:21.417320Z"
    },
    "collapsed": false
   },
   "outputs": [
    {
     "data": {
      "text/plain": [
       "<Axes: title={'center': 'ROC Curve for ssdeep'}, xlabel='false_positive_rate'>"
      ]
     },
     "execution_count": 28,
     "metadata": {},
     "output_type": "execute_result"
    },
    {
     "data": {
      "image/png": "[encoded data removed]",
      "text/plain": [
       "<Figure size 640x480 with 1 Axes>"
      ]
     },
     "metadata": {},
     "output_type": "display_data"
    }
   ],
   "source": [
    "def ssdeep_thresh(s):\n",
    "    s = s.loc[s.groupby('ssdeep 1')[\"Diff Score\"].idxmax()]\n",
    "    ssdeep_th = pd.DataFrame(columns=[\"threshold\", \"true_positive_rate\", \"false_positive_rate\"])\n",
    "    comp_to_sci = s[s[\"Scicore 1\"] == False]\n",
    "    compt_to_malware = s[s[\"Scicore 2\"] == True]\n",
    "    for i in range (0,110,1):\n",
    "        \n",
    "        sci_th = comp_to_sci[comp_to_sci[\"Diff Score\"] >= i]\n",
    "        mal_th = compt_to_malware[compt_to_malware[\"Diff Score\"] > i]\n",
    "        f_th = compt_to_malware[compt_to_malware[\"Diff Score\"] < i]\n",
    "        \n",
    "        TP = (sci_th[\"Family 1\"] == sci_th[\"Family 2\"]).sum()\n",
    "        FP = (sci_th[\"Family 1\"] != sci_th[\"Family 2\"]).sum()\n",
    "        FN = (f_th[\"Family 1\"] != f_th[\"Family 2\"]).sum()\n",
    "        TN = (f_th[\"Family 1\"] == f_th[\"Family 2\"]).sum()\n",
    "        \n",
    "        TPR = TP / (TP + FN) if TP + FN != 0 else 0\n",
    "        FPR = FP / (FP + TN) if FP + TN != 0 else 0\n",
    "        # Append results to DataFrame\n",
    "        ssdeep_th.loc[i] = [i, TPR, FPR]\n",
    "    return ssdeep_th\n",
    "p = ssdeep_thresh(ssdeep_comb_chunked(filtered_df, chunk_size=100))\n",
    "p.plot(x=\"false_positive_rate\", y=\"true_positive_rate\", xlim=(0, 1), ylim=(0, 1),title=\"ROC Curve for ssdeep\", legend=False)"
   ]
  },
  {
   "cell_type": "code",
   "execution_count": null,
   "id": "87c3c769",
   "metadata": {
    "ExecuteTime": {
     "end_time": "2024-01-06T16:20:41.220139Z",
     "start_time": "2024-01-06T16:20:41.159255Z"
    }
   },
   "outputs": [
    {
     "data": {
      "image/png": "[encoded data removed]",
      "text/plain": [
       "<Figure size 640x480 with 1 Axes>"
      ]
     },
     "metadata": {},
     "output_type": "display_data"
    }
   ],
   "source": [
    "# Plot the ROC curve in range 0.1 to 1.0\n",
    "ax = p.plot(x=\"false_positive_rate\", y=\"true_positive_rate\", xlim=(0, 1), ylim=(0, 1),title=\"ROC Curve for ssdeep\", legend=False)\n",
    "for i in range(p.shape[0]- 1,0, -10):\n",
    "    plt.annotate(i, (p[\"false_positive_rate\"][i], p[\"true_positive_rate\"][i]), fontsize=8)\n",
    "    if i < 80:\n",
    "        break\n",
    "# add a dotet line with y = x for comparison\n",
    "plt.plot([0, 1], [0, 1], color='navy', linestyle='--')\n",
    "plt.show()"
   ]
  },
  {
   "cell_type": "code",
   "execution_count": null,
   "id": "00436b94",
   "metadata": {
    "ExecuteTime": {
     "end_time": "2024-01-06T16:20:41.222708Z",
     "start_time": "2024-01-06T16:20:41.221274Z"
    }
   },
   "outputs": [
    {
     "name": "stdout",
     "output_type": "stream",
     "text": [
      "The optimal Threshold is: 98\n"
     ]
    }
   ],
   "source": [
    "print(f'The optimal Threshold is: {(p[\"true_positive_rate\"] - p[\"false_positive_rate\"]).abs().idxmax()}')"
   ]
  },
  {
   "cell_type": "code",
   "execution_count": null,
   "id": "9b345291",
   "metadata": {
    "ExecuteTime": {
     "end_time": "2024-01-06T16:21:01.094868Z",
     "start_time": "2024-01-06T16:20:41.226336Z"
    }
   },
   "outputs": [
    {
     "data": {
      "text/plain": [
       "<Axes: title={'center': 'F1 Score and Accuracy for ssdeep'}, xlabel='threshold'>"
      ]
     },
     "execution_count": 31,
     "metadata": {},
     "output_type": "execute_result"
    },
    {
     "data": {
      "image/png": "[encoded data removed]",
      "text/plain": [
       "<Figure size 640x480 with 1 Axes>"
      ]
     },
     "metadata": {},
     "output_type": "display_data"
    }
   ],
   "source": [
    "def ssdeep_f1(s):\n",
    "    s = s.loc[s.groupby('ssdeep 1')[\"Diff Score\"].idxmax()]\n",
    "    ssdeep_th = pd.DataFrame(columns=[\"threshold\", \"f1\", \"accuracy\"])\n",
    "    comp_to_sci = s[s[\"Scicore 1\"] == False]\n",
    "    compt_to_malware = s[s[\"Scicore 2\"] == True]\n",
    "    for i in range (0,110,1):\n",
    "        \n",
    "        sci_th = comp_to_sci[comp_to_sci[\"Diff Score\"] >= i]\n",
    "        mal_th = compt_to_malware[compt_to_malware[\"Diff Score\"] > i]\n",
    "        f_th = compt_to_malware[compt_to_malware[\"Diff Score\"] < i]\n",
    "        \n",
    "        TP = (sci_th[\"Family 1\"] == sci_th[\"Family 2\"]).sum()\n",
    "        FP = (sci_th[\"Family 1\"] != sci_th[\"Family 2\"]).sum()\n",
    "        FN = (f_th[\"Family 1\"] != f_th[\"Family 2\"]).sum()\n",
    "        TN = (f_th[\"Family 1\"] == f_th[\"Family 2\"]).sum()\n",
    "        \n",
    "        TPR = TP / (TP + FN) if TP + FN != 0 else 0\n",
    "        FPR = FP / (FP + TN) if FP + TN != 0 else 0\n",
    "        # Append results to DataFrame\n",
    "        precision = TP / (TP + FP) if TP + FP != 0 else 0\n",
    "        recall = TP / (TP + FN) if TP + TN != 0 else 0\n",
    "        \n",
    "        f1 = (2 * precision * recall) / (precision + recall)\n",
    "        accuracy = (TP + TN) / (TP + FP + FN + TN)\n",
    "        # Append results to DataFrame\n",
    "        ssdeep_th.loc[i] = [i, f1, accuracy]\n",
    "    return ssdeep_th\n",
    "p = ssdeep_f1(ssdeep_comb_chunked(filtered_df, chunk_size=100))\n",
    "p.plot(x=\"threshold\", y=[\"f1\",\"accuracy\"],title=\"F1 Score and Accuracy for ssdeep\")"
   ]
  },
  {
   "cell_type": "code",
   "execution_count": null,
   "id": "a1ddf2a8",
   "metadata": {
    "ExecuteTime": {
     "end_time": "2024-01-06T16:21:15.169458Z",
     "start_time": "2024-01-06T16:21:01.125215Z"
    }
   },
   "outputs": [
    {
     "data": {
      "text/plain": [
       "0.9968284173802727"
      ]
     },
     "execution_count": 32,
     "metadata": {},
     "output_type": "execute_result"
    }
   ],
   "source": [
    "tlsh_comp = results_tlsh.loc[results_tlsh.groupby(\"TLSH 1\")[\"Diff Score\"].idxmin()]\n",
    "\n",
    "tlsh_comp_diff = tlsh_comp[tlsh_comp[\"Diff Score\"] < 400]\n",
    "tlsh_comp_diff = tlsh_comp_diff[tlsh_comp_diff[\"Scicore 1\"] == False]\n",
    "\n",
    "ssdeep_comp = results_ssdeep.loc[results_ssdeep.groupby('ssdeep 1')[\"Diff Score\"].idxmax()]\n",
    "ssdeep_comp_diff = ssdeep_comp[ssdeep_comp[\"Diff Score\"] > 0]\n",
    "\n",
    "(ssdeep_comp_diff[\"Family 1\"] == ssdeep_comp_diff[\"Family 2\"]).sum() / len(ssdeep_comp_diff)"
   ]
  },
  {
   "cell_type": "code",
   "execution_count": null,
   "id": "fecb76c9",
   "metadata": {
    "ExecuteTime": {
     "end_time": "2024-01-06T16:21:15.172006Z",
     "start_time": "2024-01-06T16:21:15.170001Z"
    }
   },
   "outputs": [
    {
     "data": {
      "text/plain": [
       "0.5006067341823831"
      ]
     },
     "execution_count": 33,
     "metadata": {},
     "output_type": "execute_result"
    }
   ],
   "source": [
    "len(ssdeep_comp_diff) / len(ssdeep_comp)"
   ]
  },
  {
   "cell_type": "code",
   "execution_count": null,
   "id": "8781d879",
   "metadata": {
    "ExecuteTime": {
     "end_time": "2024-01-06T16:21:15.198138Z",
     "start_time": "2024-01-06T16:21:15.193746Z"
    }
   },
   "outputs": [
    {
     "data": {
      "text/plain": [
       "0.5336700336700336"
      ]
     },
     "execution_count": 34,
     "metadata": {},
     "output_type": "execute_result"
    }
   ],
   "source": [
    "intersect = set(tlsh_comp_diff[\"Family 1\"]) & set(ssdeep_comp_diff[\"Family 1\"])\n",
    "union = set(tlsh_comp_diff[\"Family 1\"]) | set(ssdeep_comp_diff[\"Family 1\"])\n",
    "len(union - intersect) / len(union)\n"
   ]
  },
  {
   "cell_type": "code",
   "execution_count": null,
   "id": "998302d1",
   "metadata": {
    "ExecuteTime": {
     "end_time": "2024-01-06T16:21:21.597068Z",
     "start_time": "2024-01-06T16:21:15.221822Z"
    }
   },
   "outputs": [],
   "source": [
    "tlsh_comp = results_tlsh.loc[results_tlsh.groupby(\"TLSH 1\")[\"Diff Score\"].idxmin()]\n",
    "ssdeep_comp = results_ssdeep.loc[results_ssdeep.groupby('ssdeep 1')[\"Diff Score\"].idxmax()]\n",
    "strings_comp = results_strings.loc[results_strings.groupby('strings 1')[\"Diff Score\"].idxmin()]\n",
    "tls = []\n",
    "ssd = []\n",
    "strs = []\n",
    "for i in range (0,300,10):\n",
    "    tlsh_comp_diff = tlsh_comp[tlsh_comp[\"Diff Score\"] < i]\n",
    "    str_comp_diff = strings_comp[strings_comp[\"Diff Score\"] < i]\n",
    "    tlsh_comp_diff = tlsh_comp_diff[tlsh_comp_diff[\"Scicore 1\"] == False]\n",
    "    str_comp_diff = str_comp_diff[str_comp_diff[\"Scicore 1\"] == False]\n",
    "    winrate_tlsh = (tlsh_comp_diff[\"Family 1\"] == tlsh_comp_diff[\"Family 2\"]).sum() / len(tlsh_comp_diff)\n",
    "    winrate_str = (str_comp_diff[\"Family 1\"] == str_comp_diff[\"Family 2\"]).sum() / len(str_comp_diff)\n",
    "    total_tlsh = len(tlsh_comp_diff) / len(tlsh_comp)\n",
    "    total_str = len(str_comp_diff) / len(strings_comp)\n",
    "    tls.append((winrate_tlsh, 1-winrate_tlsh, total_tlsh,i))\n",
    "    strs.append((winrate_str, 1-winrate_str, total_str,i))\n",
    "for j in range (0,110,1):\n",
    "    ssdeep_comp_diff = ssdeep_comp[ssdeep_comp[\"Diff Score\"] >= j]\n",
    "    ssdeep_comp_diff = ssdeep_comp_diff[ssdeep_comp_diff[\"Scicore 1\"] == False]\n",
    "    winrate = (ssdeep_comp_diff[\"Family 1\"] == ssdeep_comp_diff[\"Family 2\"]).sum() / len(ssdeep_comp_diff)\n",
    "    total = len(ssdeep_comp_diff) / len(ssdeep_comp)\n",
    "    ssd.append((winrate, 1-winrate, total,j))"
   ]
  },
  {
   "cell_type": "code",
   "execution_count": null,
   "id": "49f1fd99",
   "metadata": {
    "ExecuteTime": {
     "end_time": "2024-01-06T16:21:21.805411Z",
     "start_time": "2024-01-06T16:21:21.598346Z"
    }
   },
   "outputs": [
    {
     "data": {
      "text/plain": [
       "<Figure size 640x480 with 0 Axes>"
      ]
     },
     "metadata": {},
     "output_type": "display_data"
    },
    {
     "data": {
      "image/png": "[encoded data removed]",
      "text/plain": [
       "<Figure size 2000x500 with 3 Axes>"
      ]
     },
     "metadata": {},
     "output_type": "display_data"
    }
   ],
   "source": [
    "titi = pd.DataFrame(tls, columns=[\"winrate\", \"lossrate\", \"total\", \"threshold\"])\n",
    "sisi = pd.DataFrame(ssd, columns=[\"winrate\", \"lossrate\", \"total\", \"threshold\"])\n",
    "stsr = pd.DataFrame(strs, columns=[\"winrate\", \"lossrate\", \"total\", \"threshold\"])\n",
    "#ti = titi.plot(x=\"threshold\", y=[\"winrate\",\"lossrate\",\"total\"],title=\"EDI Curve for TLSH\")\n",
    "#si = sisi.plot(x=\"threshold\", y=[\"winrate\",\"lossrate\",\"total\"],title=\"EDI Curve for ssdeep\")\n",
    "\n",
    "plt.clf()\n",
    "fig, ax = plt.subplots(1,3, figsize=(20,5))\n",
    "ax[0].plot(titi[\"threshold\"], titi[\"winrate\"], label=\"winrate\")\n",
    "ax[0].plot(titi[\"threshold\"], titi[\"lossrate\"], label=\"lossrate\")\n",
    "ax[0].plot(titi[\"threshold\"], titi[\"total\"], label=\"total\")\n",
    "ax[0].legend()\n",
    "ax[0].set_title(\"EDI Curve for TLSH\")\n",
    "ax[0].set_xlabel(\"Threshold\")\n",
    "ax[0].set_ylabel(\"Percentage\")\n",
    "ax[1].plot(sisi[\"threshold\"], sisi[\"winrate\"], label=\"winrate\")\n",
    "ax[1].plot(sisi[\"threshold\"], sisi[\"lossrate\"], label=\"lossrate\")\n",
    "ax[1].plot(sisi[\"threshold\"], sisi[\"total\"], label=\"total\")\n",
    "ax[1].legend()\n",
    "ax[1].set_title(\"EDI Curve for ssdeep\")\n",
    "ax[1].set_xlabel(\"Threshold\")\n",
    "ax[1].set_ylabel(\"Percentage\")\n",
    "ax[2].plot(stsr[\"threshold\"], stsr[\"winrate\"], label=\"winrate\")\n",
    "ax[2].plot(stsr[\"threshold\"], stsr[\"lossrate\"], label=\"lossrate\")\n",
    "ax[2].plot(stsr[\"threshold\"], stsr[\"total\"], label=\"total\")\n",
    "ax[2].legend()\n",
    "ax[2].set_title(\"EDI Curve for strings\")\n",
    "ax[2].set_xlabel(\"Threshold\")\n",
    "ax[2].set_ylabel(\"Percentage\")\n",
    "plt.show()"
   ]
  }
 ],
 "metadata": {
  "kernelspec": {
   "display_name": "Python 3 (ipykernel)",
   "language": "python",
   "name": "python3"
  },
  "language_info": {
   "codemirror_mode": {
    "name": "ipython",
    "version": 3
   },
   "file_extension": ".py",
   "mimetype": "text/x-python",
   "name": "python",
   "nbconvert_exporter": "python",
   "pygments_lexer": "ipython3",
   "version": "3.9.6"
  }
 },
 "nbformat": 4,
 "nbformat_minor": 5
}
